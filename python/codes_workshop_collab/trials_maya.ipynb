{
 "cells": [
  {
   "cell_type": "code",
   "execution_count": 2,
   "id": "931aa8a5-ba49-46ca-a47a-f9455be71eee",
   "metadata": {},
   "outputs": [
    {
     "data": {
      "text/plain": [
       "'eyJhbGciOiJSUzI1NiIsInR5cCIgOiAiSldUIiwia2lkIiA6ICJLYU01NTRCM2RmMHBIamZYWi1aRl94bUUwMThPS1R0RkNjMjR3aVVqQmFvIn0.eyJleHAiOjE3NTU3MzA4MjksImlhdCI6MTc1NTY4NzYyNywiYXV0aF90aW1lIjoxNzU1NTk5Njc5LCJqdGkiOiI3N2E2ZmJhMS0yZjJmLTQzMGUtYjkyOC0xZTNjY2RmMjk1OTciLCJpc3MiOiJodHRwczovL2lhbS5lYnJhaW5zLmV1L2F1dGgvcmVhbG1zL2hicCIsImF1ZCI6WyJqdXB5dGVyaHViIiwidHV0b3JpYWxPaWRjQXBpIiwieHdpa2kiLCJqdXB5dGVyaHViLWpzYyIsInRlYW0iLCJsYWItY2luZWNhIiwicGx1cyIsImdyb3VwIl0sInN1YiI6IjRhNDA2M2FiLTNjMzktNDkwYy04YjZiLTQwNDdmYmY5MmMwNSIsInR5cCI6IkJlYXJlciIsImF6cCI6ImxhYi1qc2MiLCJzaWQiOiJlYWJjMGE3MC0yYjJlLTQwNWMtYjRjMC0xNDhjNzM1NThhOWUiLCJyZWFsbV9hY2Nlc3MiOnsicm9sZXMiOlsib2ZmbGluZV9hY2Nlc3MiXX0sInNjb3BlIjoicHJvZmlsZSBjb2xsYWIuZHJpdmUgb2ZmbGluZV9hY2Nlc3MgY2xiLndpa2kud3JpdGUgcm9sZXMgZW1haWwgb3BlbmlkIGdyb3VwIGNsYi53aWtpLnJlYWQgdGVhbSIsImVtYWlsX3ZlcmlmaWVkIjp0cnVlLCJuYW1lIjoiQXJjaGFuYSBHb2xsYSIsIm1pdHJlaWQtc3ViIjoiNjA3MjE2NzEzOTA3NDAwNCIsInByZWZlcnJlZF91c2VybmFtZSI6ImFyY2hhbmFnIiwiZ2l2ZW5fbmFtZSI6IkFyY2hhbmEiLCJmYW1pbHlfbmFtZSI6IkdvbGxhIiwiZW1haWwiOiJhcmNoYW5hLmdvbGxhQG1lZGlzaW4udWlvLm5vIn0.jqcfVDPUeTzgwvCiz5C2SfibADvANvfLiUm8E0gjmjEd2AYLLi3wVRK9QdsXMp-1rV0U6-loj9cxCL6xnaq_RnEWjfm5pcz1dxnNOcJvuOp3STdgl21o5BizJNm1f2F3D-ySCKjtqKb4g3NTtE5D5CQYpK1-aNp4MJKOaeWg6AM14CinvoYb8H8VbIi39JAch0x10Ow-mxs7-MuM_qoPzUrmtTWVFZKtzYBXmPQEAuh5VhpD4jqKsngGww2tmXG5L1D2YLxwDevdSFIJ70XFX8YZIoLBAhw5C4Bb-Lwfzr3tB6cBFta0aAKpUlSwRXlUzajlk6AMkXNjQ3fP88ibog'"
      ]
     },
     "execution_count": 2,
     "metadata": {},
     "output_type": "execute_result"
    }
   ],
   "source": [
    "token = clb_oauth.get_token()\n",
    "token"
   ]
  },
  {
   "cell_type": "code",
   "execution_count": null,
   "id": "bedc8795-1490-4662-b614-33877571414a",
   "metadata": {},
   "outputs": [],
   "source": []
  }
 ],
 "metadata": {
  "kernelspec": {
   "display_name": "Python 3 (ipykernel)",
   "language": "python",
   "name": "python3"
  },
  "language_info": {
   "codemirror_mode": {
    "name": "ipython",
    "version": 3
   },
   "file_extension": ".py",
   "mimetype": "text/x-python",
   "name": "python",
   "nbconvert_exporter": "python",
   "pygments_lexer": "ipython3",
   "version": "3.11.10"
  }
 },
 "nbformat": 4,
 "nbformat_minor": 5
}
