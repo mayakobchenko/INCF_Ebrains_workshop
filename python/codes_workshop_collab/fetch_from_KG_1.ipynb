{
 "cells": [
  {
   "cell_type": "code",
   "execution_count": 17,
   "id": "c1861e9a-b6b5-429d-8048-7b754c1561fc",
   "metadata": {
    "collapsed": true,
    "jupyter": {
     "outputs_hidden": true
    },
    "tags": []
   },
   "outputs": [
    {
     "name": "stdout",
     "output_type": "stream",
     "text": [
      "Defaulting to user installation because normal site-packages is not writeable\n",
      "Requirement already satisfied: fairgraph in /opt/app-root/src/.local/lib/python3.11/site-packages (0.12.2)\n",
      "Requirement already satisfied: ebrains-kg-core in /opt/app-root/src/.local/lib/python3.11/site-packages (from fairgraph) (0.9.20)\n",
      "Requirement already satisfied: python-dateutil in /srv/main-spack-instance-2502/ebrains-spack-builds/vendor/spack/opt/spack/__spack_path_placeholder__/__spack_path_placeholder___/linux-ubuntu24.04-x86_64/gcc-13.3.0/py-python-dateutil-2.8.2-calct2pasbng5axpxqrfqahqndyxwrca/lib/python3.11/site-packages (from fairgraph) (2.8.2)\n",
      "Requirement already satisfied: tabulate in /opt/app-root/src/.local/lib/python3.11/site-packages (from fairgraph) (0.9.0)\n",
      "Requirement already satisfied: requests in /srv/main-spack-instance-2502/ebrains-spack-builds/vendor/spack/opt/spack/__spack_path_placeholder__/__spack_path_placeholder___/linux-ubuntu24.04-x86_64/gcc-13.3.0/py-requests-2.32.3-p2ukag3jt2sb7ghzwxwdvxl4rlui7csu/lib/python3.11/site-packages (from fairgraph) (2.32.3)\n",
      "Requirement already satisfied: pydantic in /srv/main-spack-instance-2502/ebrains-spack-builds/vendor/spack/opt/spack/__spack_path_placeholder__/__spack_path_placeholder___/linux-ubuntu24.04-x86_64/gcc-13.3.0/py-pydantic-2.7.4-3dv3di7l6nd66p4ltt7yilonap4psaio/lib/python3.11/site-packages (from ebrains-kg-core->fairgraph) (2.7.4)\n",
      "Requirement already satisfied: six>=1.5 in /srv/main-spack-instance-2502/ebrains-spack-builds/vendor/spack/opt/spack/__spack_path_placeholder__/__spack_path_placeholder___/linux-ubuntu24.04-x86_64/gcc-13.3.0/py-six-1.16.0-w6pz4u2pmyyiegazn6gyges2lcgevkwa/lib/python3.11/site-packages (from python-dateutil->fairgraph) (1.16.0)\n",
      "Requirement already satisfied: charset-normalizer<4,>=2 in /srv/main-spack-instance-2502/ebrains-spack-builds/vendor/spack/opt/spack/__spack_path_placeholder__/__spack_path_placeholder___/linux-ubuntu24.04-x86_64/gcc-13.3.0/py-charset-normalizer-3.3.0-nsevnzphmlwrls76l54x7bv7axfujcpn/lib/python3.11/site-packages (from requests->fairgraph) (3.3.0)\n",
      "Requirement already satisfied: idna<4,>=2.5 in /srv/main-spack-instance-2502/ebrains-spack-builds/vendor/spack/opt/spack/__spack_path_placeholder__/__spack_path_placeholder___/linux-ubuntu24.04-x86_64/gcc-13.3.0/py-idna-3.4-nzt2mulptxqys2vusl4v45rnanngr6om/lib/python3.11/site-packages (from requests->fairgraph) (3.4)\n",
      "Requirement already satisfied: urllib3<3,>=1.21.1 in /srv/main-spack-instance-2502/ebrains-spack-builds/vendor/spack/opt/spack/__spack_path_placeholder__/__spack_path_placeholder___/linux-ubuntu24.04-x86_64/gcc-13.3.0/py-urllib3-2.1.0-kjcnogypzavrtktzi6wtgddxwjczljh4/lib/python3.11/site-packages (from requests->fairgraph) (2.1.0)\n",
      "Requirement already satisfied: certifi>=2017.4.17 in /srv/main-spack-instance-2502/ebrains-spack-builds/vendor/spack/opt/spack/__spack_path_placeholder__/__spack_path_placeholder___/linux-ubuntu24.04-x86_64/gcc-13.3.0/py-certifi-2023.7.22-j76gr3kpclxfd5zfgpii5wxmt547jbez/lib/python3.11/site-packages (from requests->fairgraph) (2023.7.22)\n",
      "Requirement already satisfied: annotated-types>=0.4.0 in /srv/main-spack-instance-2502/ebrains-spack-builds/vendor/spack/opt/spack/__spack_path_placeholder__/__spack_path_placeholder___/linux-ubuntu24.04-x86_64/gcc-13.3.0/py-annotated-types-0.7.0-74a3tfojixubtw27k33yw4viixkgteqw/lib/python3.11/site-packages (from pydantic->ebrains-kg-core->fairgraph) (0.7.0)\n",
      "Requirement already satisfied: pydantic-core==2.18.4 in /srv/main-spack-instance-2502/ebrains-spack-builds/vendor/spack/opt/spack/__spack_path_placeholder__/__spack_path_placeholder___/linux-ubuntu24.04-x86_64/gcc-13.3.0/py-pydantic-core-2.18.4-yetthkwbytehhbs33ubw6vsguk4uutjw/lib/python3.11/site-packages (from pydantic->ebrains-kg-core->fairgraph) (2.18.4)\n",
      "Requirement already satisfied: typing-extensions>=4.6.1 in /srv/main-spack-instance-2502/ebrains-spack-builds/vendor/spack/opt/spack/__spack_path_placeholder__/__spack_path_placeholder___/linux-ubuntu24.04-x86_64/gcc-13.3.0/py-typing-extensions-4.12.2-nw5qol7lurh6ywyvh73klt5lyazbmv5m/lib/python3.11/site-packages (from pydantic->ebrains-kg-core->fairgraph) (4.12.2)\n",
      "\n",
      "\u001b[1m[\u001b[0m\u001b[34;49mnotice\u001b[0m\u001b[1;39;49m]\u001b[0m\u001b[39;49m A new release of pip is available: \u001b[0m\u001b[31;49m23.0\u001b[0m\u001b[39;49m -> \u001b[0m\u001b[32;49m25.2\u001b[0m\n",
      "\u001b[1m[\u001b[0m\u001b[34;49mnotice\u001b[0m\u001b[1;39;49m]\u001b[0m\u001b[39;49m To update, run: \u001b[0m\u001b[32;49mpython3 -m pip install --upgrade pip\u001b[0m\n",
      "Note: you may need to restart the kernel to use updated packages.\n"
     ]
    }
   ],
   "source": [
    "pip install fairgraph"
   ]
  },
  {
   "cell_type": "markdown",
   "id": "b8a1240f-029c-41f8-a7b0-50df379c4848",
   "metadata": {},
   "source": [
    "This notebook helps you find metadata using FairGraph (https://fairgraph.readthedocs.io/en/latest/).\n",
    "\n",
    "Create a folder and copy paste this notebook in your folder and run the code from there"
   ]
  },
  {
   "cell_type": "code",
   "execution_count": 1,
   "id": "a43a6120-b35d-4798-97e8-c7141b9f7c8c",
   "metadata": {},
   "outputs": [],
   "source": [
    "import fairgraph\n",
    "from fairgraph import KGClient"
   ]
  },
  {
   "cell_type": "code",
   "execution_count": 2,
   "id": "c403c6f5-dcec-4589-b4c5-af83ff319743",
   "metadata": {},
   "outputs": [],
   "source": [
    "kg_client = KGClient(host=\"core.kg.ebrains.eu\")"
   ]
  },
  {
   "cell_type": "code",
   "execution_count": 88,
   "id": "9daf1840-a9f6-4ecb-a27f-03ba72bc0558",
   "metadata": {
    "collapsed": true,
    "jupyter": {
     "outputs_hidden": true
    },
    "tags": []
   },
   "outputs": [
    {
     "data": {
      "text/plain": [
       "User(alternate_name='mayakobchenko', name='Maya Kobchenko', email='maya.kobchenko@medisin.uio.no', given_name='Maya', family_name='Kobchenko', identifiers=['7aec2bf2-82c8-40c1-bd64-173cabcfd842'])"
      ]
     },
     "execution_count": 88,
     "metadata": {},
     "output_type": "execute_result"
    }
   ],
   "source": [
    "kg_client.user_info()"
   ]
  },
  {
   "cell_type": "markdown",
   "id": "2b3960b0-2d8e-4b8f-bd72-48101c64f198",
   "metadata": {},
   "source": [
    "To get token if you run this code on your PC or copy/paste from KG editor:"
   ]
  },
  {
   "cell_type": "code",
   "execution_count": 11,
   "id": "a2e064ba-f661-4263-9ab4-7c8021b596db",
   "metadata": {
    "collapsed": true,
    "jupyter": {
     "outputs_hidden": true
    },
    "tags": []
   },
   "outputs": [
    {
     "data": {
      "text/plain": [
       "'eyJhbGciOiJSUzI1NiIsInR5cCIgOiAiSldUIiwia2lkIiA6ICJLYU01NTRCM2RmMHBIamZYWi1aRl94bUUwMThPS1R0RkNjMjR3aVVqQmFvIn0.eyJleHAiOjE3NTU1NDIwNDcsImlhdCI6MTc1NTQ5ODg0NiwiYXV0aF90aW1lIjoxNzU0OTkxOTk3LCJqdGkiOiJlNzMwOTg1ZS01N2JiLTRkYWEtOWQ2OC0xODdhYTYzZjg2NTAiLCJpc3MiOiJodHRwczovL2lhbS5lYnJhaW5zLmV1L2F1dGgvcmVhbG1zL2hicCIsImF1ZCI6WyJqdXB5dGVyaHViIiwidHV0b3JpYWxPaWRjQXBpIiwieHdpa2kiLCJqdXB5dGVyaHViLWpzYyIsInRlYW0iLCJsYWItY2luZWNhIiwicGx1cyIsImdyb3VwIl0sInN1YiI6IjdhZWMyYmYyLTgyYzgtNDBjMS1iZDY0LTE3M2NhYmNmZDg0MiIsInR5cCI6IkJlYXJlciIsImF6cCI6ImxhYi1qc2MiLCJzaWQiOiJhODBlNjNlNi0wZDJmLTRkZTYtODQ5ZC0xYWY3NzFjMmQ4NTkiLCJyZWFsbV9hY2Nlc3MiOnsicm9sZXMiOlsib2ZmbGluZV9hY2Nlc3MiXX0sInNjb3BlIjoicHJvZmlsZSBjb2xsYWIuZHJpdmUgb2ZmbGluZV9hY2Nlc3MgY2xiLndpa2kud3JpdGUgcm9sZXMgZW1haWwgb3BlbmlkIGdyb3VwIGNsYi53aWtpLnJlYWQgdGVhbSIsImVtYWlsX3ZlcmlmaWVkIjp0cnVlLCJuYW1lIjoiTWF5YSBLb2JjaGVua28iLCJtaXRyZWlkLXN1YiI6IjIzODA5NDYzMjkyNTU2MTYiLCJwcmVmZXJyZWRfdXNlcm5hbWUiOiJtYXlha29iY2hlbmtvIiwiZ2l2ZW5fbmFtZSI6Ik1heWEiLCJmYW1pbHlfbmFtZSI6IktvYmNoZW5rbyIsImVtYWlsIjoibWF5YS5rb2JjaGVua29AbWVkaXNpbi51aW8ubm8ifQ.blkOWFKDr7XRH1GIpNoxdrnQmNNEw_tfM8Ae9WU7E1bShLbe_YsYrp9KRSecV3Wb90b1zQVJJSv_ahCvULouR7DZ7w07wkgPHxcGgZvgMjjPYojbQFVHZPONUiN-L0W0M6hxzj-Lvh8-V2JC9LTU5oYcgsf7jw3sz-RsETKgVp4kWvxQf9dC2PGZgpkhOIlkLACXm8I2FtU1FZcrOWHmdrpjBmXZ1xRPF-vlfegcbdAxBGuPMVSQnzQeCqy8mbZz5pYH3wmJZnzDX66ygKqZmXmA1pTDVeHwwPtW0Rh_mdWjT3Qevlud3iv7FVefw6aNh3l51C0NF_zSbM7QA7fuOw'"
      ]
     },
     "execution_count": 11,
     "metadata": {},
     "output_type": "execute_result"
    }
   ],
   "source": [
    "from clb_nb_utils.oauth import get_token\n",
    "get_token()"
   ]
  },
  {
   "cell_type": "markdown",
   "id": "d669d9d7-1ccb-4e29-8416-09e5a2cf6835",
   "metadata": {},
   "source": [
    "Without a token: \n",
    "from fairgraph import KGClient\n",
    "\n",
    "kg_client = KGClient(host=\"core.kg.ebrains.eu\")\n",
    "kg_client.user_info()"
   ]
  },
  {
   "cell_type": "markdown",
   "id": "4f847058-29dc-41bd-9330-22089e327852",
   "metadata": {},
   "source": [
    "auth_token = \"eyJh...\"\n",
    "kg_client = KGClient(token=auth_token, host=\"core.kg.ebrains.eu\")"
   ]
  },
  {
   "cell_type": "markdown",
   "id": "14eb7a55-9b73-447a-84d5-ad6b2b10fcc4",
   "metadata": {},
   "source": [
    "We have access to to types of spaces: myspace and collab space which is created upon creation of a dataset version. Collab id is the same as the id of the dataset versoin. Example my test collab: collab-d-724d4af0-fe28-4032-8837-120b0d64a81c"
   ]
  },
  {
   "cell_type": "code",
   "execution_count": 71,
   "id": "38421c49-315c-4239-a710-5860bc9894b1",
   "metadata": {},
   "outputs": [
    {
     "name": "stdout",
     "output_type": "stream",
     "text": [
      "['EmbeddedMetadata', 'IRI', 'KGClient', 'KGObject', 'KGProxy', 'KGQuery', '__builtins__', '__cached__', '__doc__', '__file__', '__loader__', '__name__', '__package__', '__path__', '__spec__', '__version__', 'base', 'caching', 'client', 'embedded', 'errors', 'kgobject', 'kgproxy', 'kgquery', 'openminds', 'properties', 'queries', 'registry', 'utility']\n"
     ]
    }
   ],
   "source": [
    "# List available classes and functions in the library\n",
    "print(dir(fairgraph))\n",
    "# help(fairgraph)"
   ]
  },
  {
   "cell_type": "code",
   "execution_count": 4,
   "id": "48813a9a-640c-480d-95e7-40a1a72ac157",
   "metadata": {
    "collapsed": true,
    "jupyter": {
     "outputs_hidden": true
    },
    "tags": []
   },
   "outputs": [
    {
     "data": {
      "text/plain": [
       "['EmbeddedMetadata',\n",
       " 'IRI',\n",
       " 'KGClient',\n",
       " 'KGObject',\n",
       " 'KGProxy',\n",
       " 'KGQuery',\n",
       " '__builtins__',\n",
       " '__cached__',\n",
       " '__doc__',\n",
       " '__file__',\n",
       " '__loader__',\n",
       " '__name__',\n",
       " '__package__',\n",
       " '__path__',\n",
       " '__spec__',\n",
       " '__version__',\n",
       " 'base',\n",
       " 'caching',\n",
       " 'client',\n",
       " 'embedded',\n",
       " 'errors',\n",
       " 'kgobject',\n",
       " 'kgproxy',\n",
       " 'kgquery',\n",
       " 'queries',\n",
       " 'registry',\n",
       " 'utility']"
      ]
     },
     "execution_count": 4,
     "metadata": {},
     "output_type": "execute_result"
    }
   ],
   "source": [
    "dir(fairgraph)"
   ]
  },
  {
   "cell_type": "code",
   "execution_count": 86,
   "id": "a09f6f6c-89b7-4b9b-b10a-060ab35843d0",
   "metadata": {
    "collapsed": true,
    "jupyter": {
     "outputs_hidden": true
    },
    "tags": []
   },
   "outputs": [
    {
     "data": {
      "text/plain": [
       "['__class__',\n",
       " '__delattr__',\n",
       " '__dict__',\n",
       " '__dir__',\n",
       " '__doc__',\n",
       " '__eq__',\n",
       " '__format__',\n",
       " '__ge__',\n",
       " '__getattribute__',\n",
       " '__getstate__',\n",
       " '__gt__',\n",
       " '__hash__',\n",
       " '__init__',\n",
       " '__init_subclass__',\n",
       " '__le__',\n",
       " '__lt__',\n",
       " '__module__',\n",
       " '__ne__',\n",
       " '__new__',\n",
       " '__reduce__',\n",
       " '__reduce_ex__',\n",
       " '__repr__',\n",
       " '__setattr__',\n",
       " '__sizeof__',\n",
       " '__str__',\n",
       " '__subclasshook__',\n",
       " '__weakref__',\n",
       " '_check_response',\n",
       " '_kg_admin_client',\n",
       " '_private_space',\n",
       " 'clean_space',\n",
       " 'configure_space',\n",
       " 'create_new_instance',\n",
       " 'delete_instance',\n",
       " 'instance_from_full_uri',\n",
       " 'is_released',\n",
       " 'list',\n",
       " 'move_all_to_space',\n",
       " 'move_to_space',\n",
       " 'query',\n",
       " 'release',\n",
       " 'replace_instance',\n",
       " 'retrieve_query',\n",
       " 'space_info',\n",
       " 'spaces',\n",
       " 'store_query',\n",
       " 'token',\n",
       " 'unrelease',\n",
       " 'update_instance',\n",
       " 'uri_from_uuid',\n",
       " 'user_info',\n",
       " 'uuid_from_uri']"
      ]
     },
     "execution_count": 86,
     "metadata": {},
     "output_type": "execute_result"
    }
   ],
   "source": [
    "dir(KGClient)"
   ]
  },
  {
   "cell_type": "code",
   "execution_count": 5,
   "id": "d15579e6-6be0-457c-bc9b-18f3de2c1094",
   "metadata": {
    "collapsed": true,
    "jupyter": {
     "outputs_hidden": true
    },
    "tags": []
   },
   "outputs": [
    {
     "name": "stdout",
     "output_type": "stream",
     "text": [
      "Help on class KGClient in module fairgraph.client:\n",
      "\n",
      "class KGClient(builtins.object)\n",
      " |  KGClient(token: 'Optional[str]' = None, host: 'str' = 'core.kg-ppd.ebrains.eu', client_id: 'Optional[str]' = None, client_secret: 'Optional[str]' = None, allow_interactive=True)\n",
      " |  \n",
      " |  A client for accessing the EBRAINS Knowledge Graph (KG) API.\n",
      " |  \n",
      " |  It can be used to retrieve, add, update, and delete KG nodes.\n",
      " |  \n",
      " |  Attributes:\n",
      " |      cache (dict): A dictionary used for caching JSON-LD documents.\n",
      " |      accepted_terms_of_use (bool): A boolean indicating whether the user has accepted the terms of use.\n",
      " |  \n",
      " |  Args:\n",
      " |      token (str, optional): An EBRAINS authentication token for accessing the KG API.\n",
      " |      host (str, optional): The hostname of the KG API. Use \"core.kg-ppd.ebrains.eu\" for testing\n",
      " |                            and \"core.kg.ebrains.eu\" to work with the production KG.\n",
      " |      client_id (str, optional): For use together with client_secret in place of the token if you have a service account.\n",
      " |      client_secret (str, optional): The client secret to use for authentication. Required if client_id is provided.\n",
      " |      allow_interactive (bool, default True): if true, allow authentication via web browser\n",
      " |  \n",
      " |  Raises:\n",
      " |      ImportError: If the kg_core package is not installed.\n",
      " |      AuthenticationError: If neither a token nor client ID/secret are provided.\n",
      " |  \n",
      " |  Methods defined here:\n",
      " |  \n",
      " |  __init__(self, token: 'Optional[str]' = None, host: 'str' = 'core.kg-ppd.ebrains.eu', client_id: 'Optional[str]' = None, client_secret: 'Optional[str]' = None, allow_interactive=True)\n",
      " |      Initialize self.  See help(type(self)) for accurate signature.\n",
      " |  \n",
      " |  clean_space(self, space_name)\n",
      " |      Delete all instances from a given space.\n",
      " |  \n",
      " |  configure_space(self, space_name: 'Optional[str]' = None, types: 'Optional[List[KGObject]]' = None) -> 'str'\n",
      " |      Creates and configures a Knowledge Graph (KG) space with the specified name and types.\n",
      " |      \n",
      " |      Args:\n",
      " |          space_name (str, required (optional only if you run inside a collab)): The name of the KG space to create and configure.\n",
      " |              If not provided, the method will try to obtain the collab ID from the environment\n",
      " |              variables and use it to generate a default space name in the format \"collab-collab_id\".\n",
      " |              If you are not launching this from inside an EBRAINS collab, you should provide a space name.\n",
      " |          types (list of Type, required): An array containing the Type classes that should be included\n",
      " |              in this space.\n",
      " |      \n",
      " |      Returns:\n",
      " |          str: The name of the configured KG space.\n",
      " |      \n",
      " |      Example usage:\n",
      " |          types = [Dataset, DatasetVersion, Software, SoftwareVersion]\n",
      " |          space_name = \"collab-MyCollab\"\n",
      " |          kg_client = KGClient()\n",
      " |          kg_client.configure_space(space_name, types)\n",
      " |  \n",
      " |  create_new_instance(self, data: 'JsonLdDocument', space: 'str', instance_id: 'Optional[str]' = None) -> 'JsonLdDocument'\n",
      " |      Create a new KG instance using the data provided.\n",
      " |      \n",
      " |      Args:\n",
      " |          data (dict): a JSON-LD document that should be added to the KG as a new instance.\n",
      " |          space (str): the space in which the instance should be stored.\n",
      " |          instance_id (UUID, optional): a UUID that should be used as the basis for the\n",
      " |              instance's persistent identifier. If not specified, the KG will generate an ID.\n",
      " |  \n",
      " |  delete_instance(self, instance_id: 'str', ignore_not_found: 'bool' = True, ignore_errors: 'bool' = True)\n",
      " |      Delete a KG instance.\n",
      " |  \n",
      " |  instance_from_full_uri(self, uri: 'str', use_cache: 'bool' = True, scope: 'str' = 'released', require_full_data: 'bool' = True) -> 'JsonLdDocument'\n",
      " |      Return a specific KG instance identified by its URI.\n",
      " |      \n",
      " |      Args:\n",
      " |          uri: The global identifier of the instance\n",
      " |          use_cache: whether to use cached data if they exist. Defaults to True.\n",
      " |          scope: The scope of instances to include in the response.\n",
      " |                 Valid values are 'released', 'in progress', 'any'.\n",
      " |          require_full_data: Whether to only return instances for which the user has full read access.\n",
      " |  \n",
      " |  is_released(self, uri: 'str', with_children: 'bool' = False) -> 'bool'\n",
      " |      Release status of a KG instance identified by its URI.\n",
      " |      \n",
      " |      Args:\n",
      " |          uri (URI): persistent identifier of the instance.\n",
      " |          with_children (bool): whether to check if all the children of the instance\n",
      " |                                have also been released.\n",
      " |      \n",
      " |      Returns:\n",
      " |          True if the instance and (optionally) all its children have been released.\n",
      " |          Otherwise False.\n",
      " |  \n",
      " |  list(self, target_type: 'str', space: 'Optional[str]' = None, from_index: 'int' = 0, size: 'int' = 100, scope: 'str' = 'released') -> 'ResultPage[JsonLdDocument]'\n",
      " |      List KG instances of a given type.\n",
      " |      \n",
      " |      Args:\n",
      " |          target_type: The URI if the instance type to list.\n",
      " |          space: If specified, restricts the search to the given space.\n",
      " |          from_index: The index of the first result to include in the response.\n",
      " |          size: The maximum number of results to include in the response.\n",
      " |          scope: The scope of instances to include in the response. Valid values are\n",
      " |                 'released', 'in progress', 'any'. If 'any' is specified, all accessible instances\n",
      " |                 are included in the response, but this may be slow where there are large numbers of instances.\n",
      " |      \n",
      " |      Returns:\n",
      " |          A ResultPage object containing the list of JSON-LD instances,\n",
      " |          along with metadata about the query results such as total number of instances, and pagination information.\n",
      " |  \n",
      " |  move_all_to_space(self, source_space: 'str', destination_space: 'str')\n",
      " |      Move all the KG instances in one space to another.\n",
      " |  \n",
      " |  move_to_space(self, uri: 'str', destination_space: 'str')\n",
      " |      Move a KG instance from one space to another.\n",
      " |      \n",
      " |      This is not recursive, i.e. child instances much be moved individually.\n",
      " |  \n",
      " |  query(self, query: 'Dict[str, Any]', filter: 'Optional[Dict[str, str]]' = None, instance_id: 'Optional[str]' = None, from_index: 'int' = 0, size: 'int' = 100, scope: 'str' = 'released', id_key: 'str' = '@id', use_stored_query: 'bool' = False, restrict_to_spaces: 'Optional[List[str]]' = None) -> 'ResultPage[JsonLdDocument]'\n",
      " |      Execute a Knowledge Graph (KG) query with the given filters and query definition.\n",
      " |      \n",
      " |      Args:\n",
      " |          query (Dict[str, Any]): A dictionary containing the query definition in JSON-LD.\n",
      " |          filter (Dict[str, str]): A dictionary of filters to apply to the query. Each key represents the prop name to filter on,\n",
      " |              and the value represents the value(s) to filter on.\n",
      " |          instance_id (Optional[URI]): The URI of a specific KG instance to retrieve.\n",
      " |          from_index (int): The index of the first result to return (0-based).\n",
      " |          size (int): The maximum number of results to return.\n",
      " |          scope (str): The scope of the query. Valid values are \"released\", \"in progress\", or \"any\". Default is \"released\".\n",
      " |          id_key (str): The key that identifies the ID of a JSON-LD document. Default is \"@id\".\n",
      " |          use_stored_query (bool): Whether to use a stored query with the given query_id instead of a dynamic query. Default is False.\n",
      " |      \n",
      " |      Returns:\n",
      " |          A ResultPage object containing a list of JSON-LD instances that satisfy the query,\n",
      " |          along with metadata about the query results such as total number of instances, and pagination information.\n",
      " |  \n",
      " |  release(self, uri: 'str')\n",
      " |      Release the instance with the given uri\n",
      " |  \n",
      " |  replace_instance(self, instance_id: 'str', data: 'JsonLdDocument') -> 'JsonLdDocument'\n",
      " |      Replace an existing KG instance using the data provided.\n",
      " |      \n",
      " |      Args:\n",
      " |          instance_id (UUID): the instance's persistent identifier.\n",
      " |          data (dict): a JSON-LD document that will replace the existing instance.\n",
      " |  \n",
      " |  retrieve_query(self, query_label: 'str') -> 'Dict[str, Any]'\n",
      " |      Retrieve a stored query definition from the KG.\n",
      " |      \n",
      " |      Args:\n",
      " |          query_label (str): the label of the query definition to be retrieved.\n",
      " |  \n",
      " |  space_info(self, space_name: 'str', scope: 'str' = 'released')\n",
      " |      Return information about the types and number of instances in a space.\n",
      " |      \n",
      " |      The return format is a dictionary whose keys are classes and the values are the\n",
      " |      number of instances of each class in the given spaces.\n",
      " |  \n",
      " |  spaces(self, permissions: 'Optional[Iterable[str]]' = None, names_only: 'bool' = False) -> 'Union[List[str], List[SpaceInformation]]'\n",
      " |  \n",
      " |  store_query(self, query_label: 'str', query_definition: 'Dict[str, Any]', space: 'str')\n",
      " |      Store a query definition in the KG.\n",
      " |      \n",
      " |      Args:\n",
      " |          query_label (str): a label that can be used to identify and retrieve the query definition.\n",
      " |          query_definition (dict): a JSON-LD document defining a KG query.\n",
      " |          space (str): the space in which the query definition should be stored.\n",
      " |  \n",
      " |  unrelease(self, uri: 'str')\n",
      " |      Unrelease the instance with the given uri\n",
      " |  \n",
      " |  update_instance(self, instance_id: 'str', data: 'JsonLdDocument') -> 'JsonLdDocument'\n",
      " |      Update an existing KG instance using the data provided.\n",
      " |      \n",
      " |      Args:\n",
      " |          instance_id (UUID): the instance's persistent identifier.\n",
      " |          data (dict): a JSON-LD document that modifies some or all of the data of the existing instance.\n",
      " |  \n",
      " |  uri_from_uuid(self, uuid: 'str') -> 'str'\n",
      " |      Return an instance's URI given its UUID.\n",
      " |  \n",
      " |  user_info(self) -> 'Dict[str, Any]'\n",
      " |      Returns information about the current user.\n",
      " |      \n",
      " |      This information is that associated with the authorization token used.\n",
      " |  \n",
      " |  uuid_from_uri(self, uri: 'str') -> 'UUID'\n",
      " |      Return an instance's UUID given its URI.\n",
      " |  \n",
      " |  ----------------------------------------------------------------------\n",
      " |  Readonly properties defined here:\n",
      " |  \n",
      " |  token\n",
      " |  \n",
      " |  ----------------------------------------------------------------------\n",
      " |  Data descriptors defined here:\n",
      " |  \n",
      " |  __dict__\n",
      " |      dictionary for instance variables\n",
      " |  \n",
      " |  __weakref__\n",
      " |      list of weak references to the object\n",
      "\n"
     ]
    }
   ],
   "source": [
    "help(KGClient)"
   ]
  },
  {
   "cell_type": "code",
   "execution_count": 6,
   "id": "92309676-a3ad-46fb-8a3b-f77e0c66195e",
   "metadata": {
    "collapsed": true,
    "jupyter": {
     "outputs_hidden": true
    },
    "tags": []
   },
   "outputs": [
    {
     "name": "stdout",
     "output_type": "stream",
     "text": [
      "Help on package fairgraph:\n",
      "\n",
      "NAME\n",
      "    fairgraph - Python client for the EBRAINS Knowledge Graph\n",
      "\n",
      "DESCRIPTION\n",
      "    Authors: Andrew Davison et al., CNRS (see authors.rst)\n",
      "    \n",
      "    \n",
      "    Copyright 2018-2024 CNRS\n",
      "    \n",
      "    Licensed under the Apache License, Version 2.0 (the \"License\");\n",
      "    you may not use this file except in compliance with the License.\n",
      "    You may obtain a copy of the License at\n",
      "    \n",
      "        http://www.apache.org/licenses/LICENSE-2.0\n",
      "    \n",
      "    Unless required by applicable law or agreed to in writing, software\n",
      "    distributed under the License is distributed on an \"AS IS\" BASIS,\n",
      "    WITHOUT WARRANTIES OR CONDITIONS OF ANY KIND, either express or implied.\n",
      "    See the License for the specific language governing permissions and\n",
      "    limitations under the License.\n",
      "\n",
      "PACKAGE CONTENTS\n",
      "    base\n",
      "    caching\n",
      "    client\n",
      "    embedded\n",
      "    errors\n",
      "    fields\n",
      "    kgobject\n",
      "    kgproxy\n",
      "    kgquery\n",
      "    openminds (package)\n",
      "    properties\n",
      "    queries\n",
      "    registry\n",
      "    utility\n",
      "\n",
      "VERSION\n",
      "    0.12.2\n",
      "\n",
      "FILE\n",
      "    /opt/app-root/src/.local/lib/python3.11/site-packages/fairgraph/__init__.py\n",
      "\n",
      "\n"
     ]
    }
   ],
   "source": [
    "help(fairgraph)"
   ]
  },
  {
   "cell_type": "code",
   "execution_count": 7,
   "id": "ecbe9c49-b0c4-493f-834c-f00ff2230091",
   "metadata": {
    "collapsed": true,
    "jupyter": {
     "outputs_hidden": true
    },
    "tags": []
   },
   "outputs": [
    {
     "name": "stdout",
     "output_type": "stream",
     "text": [
      "Help on package fairgraph.openminds in fairgraph:\n",
      "\n",
      "NAME\n",
      "    fairgraph.openminds\n",
      "\n",
      "PACKAGE CONTENTS\n",
      "    chemicals (package)\n",
      "    computation (package)\n",
      "    controlled_terms (package)\n",
      "    controlledterms\n",
      "    core (package)\n",
      "    ephys (package)\n",
      "    publications (package)\n",
      "    sands (package)\n",
      "    specimen_prep (package)\n",
      "    specimenprep\n",
      "    stimulation (package)\n",
      "\n",
      "FILE\n",
      "    /opt/app-root/src/.local/lib/python3.11/site-packages/fairgraph/openminds/__init__.py\n",
      "\n",
      "\n"
     ]
    }
   ],
   "source": [
    "from fairgraph import openminds\n",
    "help(openminds)"
   ]
  },
  {
   "cell_type": "code",
   "execution_count": 8,
   "id": "5e441e23-105b-4fcd-80c2-75213db193f0",
   "metadata": {
    "collapsed": true,
    "jupyter": {
     "outputs_hidden": true
    },
    "tags": []
   },
   "outputs": [
    {
     "name": "stdout",
     "output_type": "stream",
     "text": [
      "Help on package fairgraph.openminds.controlled_terms in fairgraph.openminds:\n",
      "\n",
      "NAME\n",
      "    fairgraph.openminds.controlled_terms\n",
      "\n",
      "PACKAGE CONTENTS\n",
      "    action_status_type\n",
      "    age_category\n",
      "    analysis_technique\n",
      "    anatomical_axes_orientation\n",
      "    anatomical_identification_type\n",
      "    anatomical_plane\n",
      "    annotation_criteria_type\n",
      "    annotation_type\n",
      "    atlas_type\n",
      "    auditory_stimulus_type\n",
      "    biological_order\n",
      "    biological_process\n",
      "    biological_sex\n",
      "    breeding_type\n",
      "    cell_culture_type\n",
      "    cell_type\n",
      "    chemical_mixture_type\n",
      "    colormap\n",
      "    contribution_type\n",
      "    cranial_window_construction_type\n",
      "    cranial_window_reinforcement_type\n",
      "    criteria_quality_type\n",
      "    data_type\n",
      "    device_type\n",
      "    difference_measure\n",
      "    disease\n",
      "    disease_model\n",
      "    educational_level\n",
      "    electrical_stimulus_type\n",
      "    ethics_assessment\n",
      "    experimental_approach\n",
      "    file_bundle_grouping\n",
      "    file_repository_type\n",
      "    file_usage_role\n",
      "    genetic_strain_type\n",
      "    gustatory_stimulus_type\n",
      "    handedness\n",
      "    language\n",
      "    laterality\n",
      "    learning_resource_type\n",
      "    measured_quantity\n",
      "    measured_signal_type\n",
      "    meta_data_model_type\n",
      "    model_abstraction_level\n",
      "    model_scope\n",
      "    molecular_entity\n",
      "    mri_pulse_sequence\n",
      "    mri_weighting\n",
      "    olfactory_stimulus_type\n",
      "    operating_device\n",
      "    operating_system\n",
      "    optical_stimulus_type\n",
      "    organ\n",
      "    organism_substance\n",
      "    organism_system\n",
      "    patch_clamp_variation\n",
      "    preparation_type\n",
      "    product_accessibility\n",
      "    programming_language\n",
      "    qualitative_overlap\n",
      "    semantic_data_type\n",
      "    service\n",
      "    setup_type\n",
      "    software_application_category\n",
      "    software_feature\n",
      "    species\n",
      "    stimulation_approach\n",
      "    stimulation_technique\n",
      "    subcellular_entity\n",
      "    subject_attribute\n",
      "    tactile_stimulus_type\n",
      "    technique\n",
      "    term_suggestion\n",
      "    terminology\n",
      "    tissue_sample_attribute\n",
      "    tissue_sample_type\n",
      "    type_of_uncertainty\n",
      "    uberon_parcellation\n",
      "    unit_of_measurement\n",
      "    visual_stimulus_type\n",
      "\n",
      "FUNCTIONS\n",
      "    list_embedded_metadata_classes()\n",
      "        List all embedded metadata classes defined in this module\n",
      "    \n",
      "    list_kg_classes()\n",
      "        List all KG classes defined in this module\n",
      "    \n",
      "    set_error_handling(value)\n",
      "        Control validation for all classes in this module.\n",
      "        \n",
      "        Args:\n",
      "            value (str): action to follow when there is a validation failure.\n",
      "                (e.g. if a required property is not provided).\n",
      "                Possible values: \"error\", \"warning\", \"log\", None\n",
      "\n",
      "FILE\n",
      "    /opt/app-root/src/.local/lib/python3.11/site-packages/fairgraph/openminds/controlled_terms/__init__.py\n",
      "\n",
      "\n"
     ]
    }
   ],
   "source": [
    "from fairgraph.openminds import controlled_terms \n",
    "help(controlled_terms)"
   ]
  },
  {
   "cell_type": "code",
   "execution_count": 207,
   "id": "3d2f1a02-2e98-44d7-81d6-3c18d4e758fe",
   "metadata": {
    "collapsed": true,
    "jupyter": {
     "outputs_hidden": true
    },
    "tags": []
   },
   "outputs": [
    {
     "name": "stdout",
     "output_type": "stream",
     "text": [
      "Help on module fairgraph.openminds.controlled_terms.semantic_data_type in fairgraph.openminds.controlled_terms:\n",
      "\n",
      "NAME\n",
      "    fairgraph.openminds.controlled_terms.semantic_data_type - <description not available>\n",
      "\n",
      "CLASSES\n",
      "    fairgraph.kgobject.KGObject(fairgraph.base.ContainsMetadata, fairgraph.base.RepresentsSingleObject, fairgraph.base.SupportsQuerying)\n",
      "        SemanticDataType\n",
      "    \n",
      "    class SemanticDataType(fairgraph.kgobject.KGObject)\n",
      "     |  SemanticDataType(name=None, definition=None, describes=None, description=None, interlex_identifier=None, knowledge_space_link=None, preferred_ontology_identifier=None, synonyms=None, id=None, data=None, space=None, scope=None)\n",
      "     |  \n",
      "     |  <description not available>\n",
      "     |  \n",
      "     |  Args\n",
      "     |  ----\n",
      "     |  definition : str\n",
      "     |      Short, but precise statement of the meaning of a word, word group, sign or a symbol.\n",
      "     |  description : str\n",
      "     |      Longer statement or account giving the characteristics of the semantic data type.\n",
      "     |  interlex_identifier : ~fairgraph.base.IRI\n",
      "     |      Persistent identifier for a term registered in the InterLex project.\n",
      "     |  knowledge_space_link : ~fairgraph.base.IRI\n",
      "     |      Persistent link to an encyclopedia entry in the Knowledge Space project.\n",
      "     |  name : str\n",
      "     |      Word or phrase that constitutes the distinctive designation of the semantic data type.\n",
      "     |  preferred_ontology_identifier : ~fairgraph.base.IRI\n",
      "     |      Persistent identifier of a preferred ontological term.\n",
      "     |  synonyms : str\n",
      "     |      Words or expressions used in the same language that have the same or nearly the same meaning in some or all senses.\n",
      "     |  describes : ~fairgraph.openminds.computation.validation_test_version.ValidationTestVersion, ~fairgraph.openminds.computation.workflow_recipe_version.WorkflowRecipeVersion, ~fairgraph.openminds.core.products.dataset_version.DatasetVersion, ~fairgraph.openminds.core.products.meta_data_model_version.MetaDataModelVersion, ~fairgraph.openminds.core.products.model_version.ModelVersion, ~fairgraph.openminds.core.products.software_version.SoftwareVersion, ~fairgraph.openminds.core.products.web_service_version.WebServiceVersion, ~fairgraph.openminds.publications.book.Book, ~fairgraph.openminds.publications.chapter.Chapter, ~fairgraph.openminds.publications.learning_resource.LearningResource, ~fairgraph.openminds.publications.live_paper_version.LivePaperVersion, ~fairgraph.openminds.publications.scholarly_article.ScholarlyArticle, ~fairgraph.openminds.sands.atlas.brain_atlas_version.BrainAtlasVersion, ~fairgraph.openminds.sands.atlas.common_coordinate_space_version.CommonCoordinateSpaceVersion\n",
      "     |      reverse of 'keywords'\n",
      "     |  \n",
      "     |  Method resolution order:\n",
      "     |      SemanticDataType\n",
      "     |      fairgraph.kgobject.KGObject\n",
      "     |      fairgraph.base.ContainsMetadata\n",
      "     |      fairgraph.base.RepresentsSingleObject\n",
      "     |      fairgraph.base.Resolvable\n",
      "     |      fairgraph.base.SupportsQuerying\n",
      "     |      builtins.object\n",
      "     |  \n",
      "     |  Methods defined here:\n",
      "     |  \n",
      "     |  __init__(self, name=None, definition=None, describes=None, description=None, interlex_identifier=None, knowledge_space_link=None, preferred_ontology_identifier=None, synonyms=None, id=None, data=None, space=None, scope=None)\n",
      "     |      Initialize self.  See help(type(self)) for accurate signature.\n",
      "     |  \n",
      "     |  ----------------------------------------------------------------------\n",
      "     |  Data and other attributes defined here:\n",
      "     |  \n",
      "     |  __annotations__ = {}\n",
      "     |  \n",
      "     |  context = {'core': 'https://openminds.ebrains.eu/core/', 'kg': 'https:...\n",
      "     |  \n",
      "     |  default_space = 'controlled'\n",
      "     |  \n",
      "     |  existence_query_properties = ('name',)\n",
      "     |  \n",
      "     |  properties = [Property(name='definition', types=(<class 'str'>...ocab:...\n",
      "     |  \n",
      "     |  reverse_properties = [Property(name='describes', types=(<class 'fairgr...\n",
      "     |  \n",
      "     |  type_ = 'https://openminds.ebrains.eu/controlledTerms/SemanticDataType...\n",
      "     |  \n",
      "     |  ----------------------------------------------------------------------\n",
      "     |  Methods inherited from fairgraph.kgobject.KGObject:\n",
      "     |  \n",
      "     |  __eq__(self, other)\n",
      "     |      Return self==value.\n",
      "     |  \n",
      "     |  __ne__(self, other)\n",
      "     |      Return self!=value.\n",
      "     |  \n",
      "     |  __repr__(self)\n",
      "     |      Return repr(self).\n",
      "     |  \n",
      "     |  children(self, client: 'KGClient', follow_links: 'Optional[Dict[str, Any]]' = None) -> 'List[RepresentsSingleObject]'\n",
      "     |      Return a list of child objects.\n",
      "     |  \n",
      "     |  delete(self, client: 'KGClient', ignore_not_found: 'bool' = True)\n",
      "     |      Delete the current metadata object from the KG.\n",
      "     |      \n",
      "     |      If `ignore_not_found` is False, an exception will be raised if the object does\n",
      "     |      not exist. Otherwise, the method will finish silently.\n",
      "     |  \n",
      "     |  diff(self, other)\n",
      "     |      Return a dictionary containing the differences between two metadata objects.\n",
      "     |  \n",
      "     |  exists(self, client: 'KGClient', ignore_duplicates: 'bool' = False, in_spaces: 'Optional[List[str]]' = None) -> 'bool'\n",
      "     |      Check if this object already exists in the KnowledgeGraph\n",
      "     |  \n",
      "     |  export(self, path: 'str', single_file: 'bool' = False)\n",
      "     |      Export metadata as files in JSON-LD format.\n",
      "     |      \n",
      "     |      If any objects do not have IDs, these will be generated.\n",
      "     |      \n",
      "     |      If `single_file` is False, then `path` must be the path to a directory,\n",
      "     |      and each object will be exported as a file named for the object ID.\n",
      "     |      \n",
      "     |      If `single_file` is True, then `path` should be the path to a file\n",
      "     |      with extension \".jsonld\". This file will contain metadata for all objects.\n",
      "     |  \n",
      "     |  modified_data(self) -> 'JSONdict'\n",
      "     |      Return a dict containing the properties that have been modified locally\n",
      "     |      from the values originally obtained from the Knowledge Graph.\n",
      "     |  \n",
      "     |  save(self, client: 'KGClient', space: 'Optional[str]' = None, recursive: 'bool' = True, activity_log: 'Optional[ActivityLog]' = None, replace: 'bool' = False, ignore_auth_errors: 'bool' = False, ignore_duplicates: 'bool' = False)\n",
      "     |      Store the current object in the Knowledge Graph, either updating an existing instance\n",
      "     |      or creating a new one as appropriate.\n",
      "     |      \n",
      "     |      Args:\n",
      "     |          client: KGClient object that handles the communication with the KG.\n",
      "     |          space (str, optional): The KG space to save the object in. If not provided, a default space is used depending on the object type.\n",
      "     |          recursive (bool, optional): Whether to recursively save any children of this object. Defaults to True.\n",
      "     |          activity_log (ActivityLog, optional): An `ActivityLog` instance to log the operations performed during the save operation.\n",
      "     |              This is particularly helpful with `recursive=True`.\n",
      "     |          replace (bool, optional): Whether to completely replace an existing KG instance with this one, or just update the existing object\n",
      "     |              with any modified properties. Defaults to False.\n",
      "     |          ignore_auth_errors (bool, optional): Whether to continue silently when encountering authentication errors. Defaults to False.\n",
      "     |      \n",
      "     |      Raises:\n",
      "     |          - An `AuthorizationError` if the current user is not authorized to perform the requested operation.\n",
      "     |  \n",
      "     |  show(self, max_width: 'Optional[int]' = None, include_empty_properties=False)\n",
      "     |      Print a table showing the metadata contained in this object.\n",
      "     |  \n",
      "     |  ----------------------------------------------------------------------\n",
      "     |  Class methods inherited from fairgraph.kgobject.KGObject:\n",
      "     |  \n",
      "     |  by_name(name: 'str', client: 'KGClient', match: 'str' = 'equals', all: 'bool' = False, space: 'Optional[str]' = None, scope: 'str' = 'released', follow_links: 'Optional[Dict[str, Any]]' = None) -> 'Union[KGObject, List[KGObject], None]'\n",
      "     |      Retrieve an instance from the Knowledge Graph based on its name.\n",
      "     |      \n",
      "     |      Note that not all metadata classes have a name property.\n",
      "     |      \n",
      "     |      Args:\n",
      "     |          name (str): a string to search for in the name property.\n",
      "     |          client: a KGClient\n",
      "     |          match (str, optional): either \"equals\" (exact match - default) or \"contains\".\n",
      "     |          all (bool, optional): Whether to return all objects that match the name, or only the first. Defaults to False.\n",
      "     |          space (str, optional): the KG space to search in. Default is to search in all available spaces.\n",
      "     |          scope (str, optional): The scope of the search. Valid values are \"released\", \"in progress\", or \"any\".\n",
      "     |              Defaults to \"released\".\n",
      "     |          follow_links (dict): The links in the graph to follow. Defaults to None.\n",
      "     |  \n",
      "     |  count(client: 'KGClient', api: 'str' = 'auto', scope: 'str' = 'released', space: 'Optional[str]' = None, **filters) -> 'int'\n",
      "     |      Count the number of objects of a given type and (optionally) matching a given set of filters.\n",
      "     |      \n",
      "     |      Args:\n",
      "     |          client: KGClient object that handles the communication with the KG.\n",
      "     |          api (str): The KG API to use for the query. Can be 'query', 'core', or 'auto'. Default is 'auto'.\n",
      "     |          scope (str, optional): The scope to use for the query. Can be 'released', 'in progress', or 'all'. Default is 'released'.\n",
      "     |          space (str, optional): The KG space to be queried. If not specified, results from all accessible spaces will be counted.\n",
      "     |          filters: Optional keyword arguments representing filters to apply to the query.\n",
      "     |      \n",
      "     |      Returns:\n",
      "     |          The number of instances of this class in the given space that would match the given filters,\n",
      "     |          or the total number of instances if no filters are provided.\n",
      "     |      \n",
      "     |      Raises:\n",
      "     |          ValueError: If invalid arguments are passed to the method.\n",
      "     |          NotImplementedError: If 'follow_links' is used with api='core'.\n",
      "     |      \n",
      "     |      Example:\n",
      "     |      \n",
      "     |          >>> from fairgraph import KGClient\n",
      "     |          >>> import fairgraph.openminds.controlled_terms as terms\n",
      "     |          >>> terms.CellType.count(client, name=\"interneuron\")\n",
      "     |          8\n",
      "     |  \n",
      "     |  from_alias(alias: 'str', client: 'KGClient', space: 'Optional[str]' = None, scope: 'str' = 'released', follow_links: 'Optional[Dict[str, Any]]' = None)\n",
      "     |      Retrieve an instance from the Knowledge Graph based on its alias/short name.\n",
      "     |      \n",
      "     |      Note that not all metadata classes have an alias.\n",
      "     |      \n",
      "     |      Args:\n",
      "     |          alias (str): a short name used to identify a KG instance.\n",
      "     |          client: a KGClient\n",
      "     |          space (str, optional): the KG space to look in. Default is to look in all available spaces.\n",
      "     |          scope (str, optional): The scope of the lookup. Valid values are \"released\", \"in progress\", or \"any\".\n",
      "     |              Defaults to \"released\".\n",
      "     |          follow_links (dict): The links in the graph to follow. Defaults to None.\n",
      "     |  \n",
      "     |  from_id(id: 'str', client: 'KGClient', use_cache: 'bool' = True, scope: 'str' = 'released', follow_links: 'Optional[Dict[str, Any]]' = None)\n",
      "     |      Retrieve an instance from the Knowledge Graph based on either its URI or UUID.\n",
      "     |      \n",
      "     |      Args:\n",
      "     |          id (str): short-form (UUID) or long-form (URI) identifier for the KG instance.\n",
      "     |          client: a KGClient\n",
      "     |          scope (str, optional): The scope of the lookup. Valid values are \"released\", \"in progress\", or \"any\".\n",
      "     |              Defaults to \"released\".\n",
      "     |          use_cache (bool): Whether to use cached data if they exist. Defaults to True.\n",
      "     |          follow_links (dict): The links in the graph to follow. Defaults to None.\n",
      "     |      \n",
      "     |      Returns:\n",
      "     |          Either a KGObject of the correct type, or None.\n",
      "     |          A return value of None means either the object doesn't exist\n",
      "     |          or the user doesn't have permission to access it.\n",
      "     |  \n",
      "     |  from_kg_instance(data: 'JSONdict', client: 'KGClient', scope: 'Optional[str]' = None)\n",
      "     |      Create an instance of the class from a JSON-LD document.\n",
      "     |  \n",
      "     |  from_uri(uri: 'str', client: 'KGClient', use_cache: 'bool' = True, scope: 'str' = 'released', follow_links: 'Optional[Dict[str, Any]]' = None)\n",
      "     |      Retrieve an instance from the Knowledge Graph based on its URI.\n",
      "     |      \n",
      "     |      Args:\n",
      "     |          uri (str): long-form identifier for the KG instance (a full URI)\n",
      "     |          client: a KGClient\n",
      "     |          scope (str, optional): The scope of the lookup. Valid values are \"released\", \"in progress\", or \"any\".\n",
      "     |              Defaults to \"released\".\n",
      "     |          use_cache (bool): Whether to use cached data if they exist. Defaults to True.\n",
      "     |          follow_links (dict): The links in the graph to follow. Defaults to None.\n",
      "     |  \n",
      "     |  from_uuid(uuid: 'str', client: 'KGClient', use_cache: 'bool' = True, scope: 'str' = 'released', follow_links: 'Optional[Dict[str, Any]]' = None)\n",
      "     |      Retrieve an instance from the Knowledge Graph based on its UUID.\n",
      "     |      \n",
      "     |      Args:\n",
      "     |          uuid (str): short-form identifier for the KG instance (a UUID).\n",
      "     |          client: a KGClient\n",
      "     |          scope (str, optional): The scope of the lookup. Valid values are \"released\", \"in progress\", or \"any\".\n",
      "     |              Defaults to \"released\".\n",
      "     |          use_cache (bool): Whether to use cached data if they exist. Defaults to True.\n",
      "     |          follow_links (dict): The links in the graph to follow. Defaults to None.\n",
      "     |  \n",
      "     |  generate_minimal_query(client: 'KGClient', filters: 'Optional[Dict[str, Any]]' = None, label: 'Optional[str]' = None) -> 'Union[Dict[str, Any], None]'\n",
      "     |      Generate a minimal KG query definition as a JSON-LD document.\n",
      "     |      Such a query returns only the @id of any instances that are found.\n",
      "     |      \n",
      "     |      Args:\n",
      "     |          client: KGClient object that handles the communication with the KG.\n",
      "     |          filters (dict): A dictonary defining search parameters for the query.\n",
      "     |          label (str, optional): a label for the query\n",
      "     |      \n",
      "     |      Returns:\n",
      "     |          A JSON-LD document containing the KG query definition.\n",
      "     |  \n",
      "     |  generate_query(client: 'KGClient', space: 'Union[str, None]', filters: 'Optional[Dict[str, Any]]' = None, follow_links: 'Optional[Dict[str, Any]]' = None, label: 'Optional[str]' = None) -> 'Union[Dict[str, Any], None]'\n",
      "     |      Generate a KG query definition as a JSON-LD document.\n",
      "     |      \n",
      "     |      Args:\n",
      "     |          client: KGClient object that handles the communication with the KG.\n",
      "     |          space (str, optional): if provided, restrict the query to metadata stored in the given KG space.\n",
      "     |          filters (dict): A dictonary defining search parameters for the query.\n",
      "     |          follow_links (dict): The links in the graph to follow. Defaults to None.\n",
      "     |          label (str, optional): a label for the query\n",
      "     |      \n",
      "     |      Returns:\n",
      "     |          A JSON-LD document containing the KG query definition.\n",
      "     |  \n",
      "     |  list(client: 'KGClient', size: 'int' = 100, from_index: 'int' = 0, api: 'str' = 'auto', scope: 'str' = 'released', space: 'Optional[str]' = None, follow_links: 'Optional[Dict[str, Any]]' = None, **filters) -> 'List[KGObject]'\n",
      "     |      List all objects of this type in the Knowledge Graph\n",
      "     |      \n",
      "     |      Args:\n",
      "     |          client: KGClient object that handles the communication with the KG.\n",
      "     |          size (int, optional): The maximum number of instances to return. Default is 100.\n",
      "     |          from_index (int, optional): The index of the first instance to return. Default is 0.\n",
      "     |          api (str): The KG API to use for the query. Can be 'query', 'core', or 'auto'. Default is 'auto'.\n",
      "     |          scope (str, optional): The scope to use for the query. Can be 'released', 'in progress', or 'all'. Default is 'released'.\n",
      "     |          space (str, optional): The KG space to be queried. If not specified, results from all accessible spaces will be included.\n",
      "     |          follow_links (dict): The links in the graph to follow. Defaults to None.\n",
      "     |          filters: Optional keyword arguments representing filters to apply to the query.\n",
      "     |      \n",
      "     |      Returns:\n",
      "     |          A list of instances of this class representing the objects returned by the KG query.\n",
      "     |      \n",
      "     |      Raises:\n",
      "     |          ValueError: If invalid arguments are passed to the method.\n",
      "     |          NotImplementedError: If 'follow_links' is used with api='core'.\n",
      "     |      \n",
      "     |      Example:\n",
      "     |      \n",
      "     |          >>> from fairgraph import KGClient\n",
      "     |          >>> import fairgraph.openminds.controlled_terms as terms\n",
      "     |          >>> interneuron_types = terms.CellType.list(client, name=\"interneuron\")\n",
      "     |          >>> for ct in interneuron_types[:4]:\n",
      "     |          ...     print(f\"{ct.name:<30} {ct.definition}\")\n",
      "     |          cerebellar interneuron         None\n",
      "     |          cholinergic interneuron        An inhibitory interneuron which mainly uses the neurotrasmitter acetylcholine (ACh).\n",
      "     |          cortical interneuron           None\n",
      "     |          fast spiking interneuron       A parvalbumin positive GABAergic interneuron with a high-frequency firing pattern.\n",
      "     |  \n",
      "     |  uri_from_uuid(uuid: 'str', client: 'KGClient') -> 'str'\n",
      "     |      Convert an instances short-form identifier (a UUID) into the long-form (a URI)\n",
      "     |  \n",
      "     |  ----------------------------------------------------------------------\n",
      "     |  Readonly properties inherited from fairgraph.kgobject.KGObject:\n",
      "     |  \n",
      "     |  space\n",
      "     |  \n",
      "     |  uuid\n",
      "     |  \n",
      "     |  ----------------------------------------------------------------------\n",
      "     |  Data and other attributes inherited from fairgraph.kgobject.KGObject:\n",
      "     |  \n",
      "     |  __hash__ = None\n",
      "     |  \n",
      "     |  ----------------------------------------------------------------------\n",
      "     |  Methods inherited from fairgraph.base.ContainsMetadata:\n",
      "     |  \n",
      "     |  __getattribute__(self, name)\n",
      "     |      Return getattr(self, name).\n",
      "     |  \n",
      "     |  __setattr__(self, name, value)\n",
      "     |      Implement setattr(self, name, value).\n",
      "     |  \n",
      "     |  resolve(self, client: 'KGClient', scope: 'Optional[str]' = None, use_cache: 'bool' = True, follow_links: 'Optional[Dict[str, Any]]' = None)\n",
      "     |      Resolve properties that are represented by KGProxy objects.\n",
      "     |      \n",
      "     |      Args:\n",
      "     |          client: KGClient object that handles the communication with the KG.\n",
      "     |          scope (str): The scope of instances to include in the response.\n",
      "     |                 Valid values are 'released', 'in progress', 'any'.\n",
      "     |          use_cache (bool): whether to use cached data if they exist. Defaults to True.\n",
      "     |          follow_links (dict): The links in the graph to follow. Defaults to None.\n",
      "     |      \n",
      "     |      Note: a real (non-proxy) object resolves to itself.\n",
      "     |  \n",
      "     |  to_jsonld(self, normalized: 'bool' = True, follow_links: 'bool' = False, include_empty_properties: 'bool' = False, include_reverse_properties: 'bool' = False)\n",
      "     |      Return a JSON-LD representation of this metadata object\n",
      "     |      \n",
      "     |      Args:\n",
      "     |          normalized (bool): Whether to expand all URIs. Defaults to True.\n",
      "     |          follow_links (bool, optional): Whether to represent linked objects just by their \"@id\"\n",
      "     |              or to include their full metadata. Defaults to False.\n",
      "     |          include_empty_properties (bool, optional): Whether to include empty properties (with value \"null\").\n",
      "     |              Defaults to False.\n",
      "     |  \n",
      "     |  ----------------------------------------------------------------------\n",
      "     |  Class methods inherited from fairgraph.base.ContainsMetadata:\n",
      "     |  \n",
      "     |  from_jsonld(data: 'JSONdict', client: 'KGClient', scope: 'Optional[str]' = None)\n",
      "     |      Create an instance of the class from a JSON-LD document.\n",
      "     |  \n",
      "     |  generate_query_filter_properties(filters: 'Optional[Dict[str, Any]]' = None)\n",
      "     |      Args:\n",
      "     |          filters (dict, optional): A dict containing search parameters for the query.\n",
      "     |  \n",
      "     |  generate_query_properties(follow_links: 'Optional[Dict[str, Any]]' = None)\n",
      "     |      Generate a list of QueryProperty instances for this class\n",
      "     |      for use in constructing a KG query definition.\n",
      "     |      \n",
      "     |      Args:\n",
      "     |          follow_links (dict): The links in the graph to follow when constructing the query. Defaults to None.\n",
      "     |  \n",
      "     |  normalize_filter(filter_dict: 'Dict[str, Any]') -> 'Dict[str, Any]'\n",
      "     |      Normalize a dict containing filter key:value pairs so that it can be used\n",
      "     |      in a call to the KG query API.\n",
      "     |      \n",
      "     |      Example:\n",
      "     |          >>> import fairgraph.openminds.core as omcore\n",
      "     |          >>> person = omcore.Person.from_uuid(\"045f846f-f010-4db8-97b9-b95b20970bf2\", kg_client)\n",
      "     |          >>> filter_dict = {\"custodians\": person, \"name\": \"Virtual\"}\n",
      "     |          >>> omcore.Dataset.normalize_filter(filter_dict)\n",
      "     |          {'name': 'Virtual',\n",
      "     |           'custodians': 'https://kg.ebrains.eu/api/instances/045f846f-f010-4db8-97b9-b95b20970bf2'}\n",
      "     |  \n",
      "     |  set_error_handling(value: 'Union[ErrorHandling, None]', property_names: 'Optional[Union[str, List[str]]]' = None)\n",
      "     |      Control validation for this class.\n",
      "     |      \n",
      "     |      Args:\n",
      "     |          value (str): action to follow when there is a validation failure.\n",
      "     |              (e.g. if a required property is not provided).\n",
      "     |              Possible values: \"error\", \"warning\", \"log\", None\n",
      "     |          property_names (str or list of str, optional): If not provided, the error handling\n",
      "     |              mode will be applied to all properties. If a property name or list of names is given,\n",
      "     |              the mode will be applied only to those properties.\n",
      "     |  \n",
      "     |  ----------------------------------------------------------------------\n",
      "     |  Data and other attributes inherited from fairgraph.base.ContainsMetadata:\n",
      "     |  \n",
      "     |  aliases = {}\n",
      "     |  \n",
      "     |  ----------------------------------------------------------------------\n",
      "     |  Methods inherited from fairgraph.base.RepresentsSingleObject:\n",
      "     |  \n",
      "     |  is_released(self, client: 'KGClient', with_children: 'bool' = False) -> 'bool'\n",
      "     |      Release status of the node\n",
      "     |  \n",
      "     |  release(self, client: 'KGClient', with_children: 'bool' = False)\n",
      "     |      Release this node (make it available in public search).\n",
      "     |  \n",
      "     |  unrelease(self, client: 'KGClient', with_children: 'bool' = False)\n",
      "     |      Un-release this node (remove it from public search).\n",
      "     |  \n",
      "     |  ----------------------------------------------------------------------\n",
      "     |  Data descriptors inherited from fairgraph.base.Resolvable:\n",
      "     |  \n",
      "     |  __dict__\n",
      "     |      dictionary for instance variables\n",
      "     |  \n",
      "     |  __weakref__\n",
      "     |      list of weak references to the object\n",
      "\n",
      "FILE\n",
      "    /opt/app-root/src/.local/lib/python3.11/site-packages/fairgraph/openminds/controlled_terms/semantic_data_type.py\n",
      "\n",
      "\n"
     ]
    }
   ],
   "source": [
    "help(controlled_terms.semantic_data_type)"
   ]
  },
  {
   "cell_type": "code",
   "execution_count": 9,
   "id": "18dd346e-96ad-46ec-bff6-3d5d2a15421d",
   "metadata": {
    "tags": []
   },
   "outputs": [
    {
     "data": {
      "text/plain": [
       "[SemanticDataType(name='derived data', space=controlled, id=https://kg.ebrains.eu/api/instances/2a07e0f3-f48a-48f9-9fe3-9164909a8408),\n",
       " SemanticDataType(name='experimental data', space=controlled, id=https://kg.ebrains.eu/api/instances/f468ee45-37a6-4e71-8b70-0cbe66d367db),\n",
       " SemanticDataType(name='raw data', space=controlled, id=https://kg.ebrains.eu/api/instances/012bb3fa-e44d-43c3-9076-4991b0981714),\n",
       " SemanticDataType(name='simulated data', space=controlled, id=https://kg.ebrains.eu/api/instances/91cb12e4-6af2-4b5e-9f45-cc54acf45138)]"
      ]
     },
     "execution_count": 9,
     "metadata": {},
     "output_type": "execute_result"
    }
   ],
   "source": [
    "from fairgraph.openminds.controlledterms import SemanticDataType\n",
    "data_types_list = SemanticDataType.list(kg_client, size=100, from_index=0, api='auto', scope='released', resolved=False, space=None)\n",
    "data_types_list"
   ]
  },
  {
   "cell_type": "code",
   "execution_count": 12,
   "id": "d98dc75d-a550-4eba-8913-f1521480c750",
   "metadata": {
    "collapsed": true,
    "jupyter": {
     "outputs_hidden": true
    },
    "tags": []
   },
   "outputs": [
    {
     "data": {
      "text/plain": [
       "['anatomy',\n",
       " 'behavior',\n",
       " 'biochemical approach',\n",
       " 'biophysics',\n",
       " 'cell biology',\n",
       " 'cell morphology',\n",
       " 'cell population characterization',\n",
       " 'cell population imaging',\n",
       " 'cell population manipulation',\n",
       " 'chemogenetics',\n",
       " 'clinical research',\n",
       " 'computational modeling',\n",
       " 'culturing approach',\n",
       " 'developmental biology',\n",
       " 'ecology',\n",
       " 'electrophysiology',\n",
       " 'epidemiology',\n",
       " 'epigenomics',\n",
       " 'ethology',\n",
       " 'evolutionary biology',\n",
       " 'expression',\n",
       " 'expression characterization',\n",
       " 'genetics',\n",
       " 'genomics',\n",
       " 'histology',\n",
       " 'informatics',\n",
       " 'metabolomics',\n",
       " 'microscopy',\n",
       " 'morphology',\n",
       " 'multimodal research',\n",
       " 'multiomics',\n",
       " 'neural connectivity',\n",
       " 'neuroimaging',\n",
       " 'omics',\n",
       " 'optogenetics',\n",
       " 'pathology',\n",
       " 'pharmacology',\n",
       " 'physiology',\n",
       " 'proteomics',\n",
       " 'radiology',\n",
       " 'spatial transcriptomics',\n",
       " 'transcriptomics']"
      ]
     },
     "execution_count": 12,
     "metadata": {},
     "output_type": "execute_result"
    }
   ],
   "source": [
    "from fairgraph.openminds.controlledterms import ExperimentalApproach\n",
    "Allexperimental_approaches=ExperimentalApproach.list(kg_client, size=100, from_index=0, api='auto', scope='released', resolved=False, space=None)\n",
    "\n",
    "Allexperimental_approaches_names=[item.name for item in Allexperimental_approaches]\n",
    "Allexperimental_approaches_names"
   ]
  },
  {
   "cell_type": "code",
   "execution_count": 13,
   "id": "a0675904-1000-4523-9368-e1d135b12804",
   "metadata": {
    "collapsed": true,
    "jupyter": {
     "outputs_hidden": true
    },
    "tags": []
   },
   "outputs": [
    {
     "name": "stdout",
     "output_type": "stream",
     "text": [
      "Help on package fairgraph.openminds.core in fairgraph.openminds:\n",
      "\n",
      "NAME\n",
      "    fairgraph.openminds.core\n",
      "\n",
      "PACKAGE CONTENTS\n",
      "    actors (package)\n",
      "    data (package)\n",
      "    digital_identifier (package)\n",
      "    miscellaneous (package)\n",
      "    products (package)\n",
      "    research (package)\n",
      "\n",
      "FUNCTIONS\n",
      "    list_embedded_metadata_classes()\n",
      "        List all embedded metadata classes defined in this module\n",
      "    \n",
      "    list_kg_classes()\n",
      "        List all KG classes defined in this module\n",
      "    \n",
      "    set_error_handling(value)\n",
      "        Control validation for all classes in this module.\n",
      "        \n",
      "        Args:\n",
      "            value (str): action to follow when there is a validation failure.\n",
      "                (e.g. if a required property is not provided).\n",
      "                Possible values: \"error\", \"warning\", \"log\", None\n",
      "\n",
      "FILE\n",
      "    /opt/app-root/src/.local/lib/python3.11/site-packages/fairgraph/openminds/core/__init__.py\n",
      "\n",
      "\n"
     ]
    }
   ],
   "source": [
    "from fairgraph.openminds import core\n",
    "help(core)"
   ]
  },
  {
   "cell_type": "code",
   "execution_count": 82,
   "id": "e84f9b89-8651-47a7-9fcb-61088bc96065",
   "metadata": {
    "collapsed": true,
    "jupyter": {
     "outputs_hidden": true
    },
    "tags": []
   },
   "outputs": [
    {
     "name": "stdout",
     "output_type": "stream",
     "text": [
      "[<class 'fairgraph.openminds.core.actors.account_information.AccountInformation'>, <class 'fairgraph.openminds.core.research.behavioral_protocol.BehavioralProtocol'>, <class 'fairgraph.openminds.core.miscellaneous.comment.Comment'>, <class 'fairgraph.openminds.core.research.configuration.Configuration'>, <class 'fairgraph.openminds.core.actors.consortium.Consortium'>, <class 'fairgraph.openminds.core.actors.contact_information.ContactInformation'>, <class 'fairgraph.openminds.core.data.content_type.ContentType'>, <class 'fairgraph.openminds.core.data.content_type_pattern.ContentTypePattern'>, <class 'fairgraph.openminds.core.digital_identifier.doi.DOI'>, <class 'fairgraph.openminds.core.products.dataset.Dataset'>, <class 'fairgraph.openminds.core.products.dataset_version.DatasetVersion'>, <class 'fairgraph.openminds.core.data.file.File'>, <class 'fairgraph.openminds.core.data.file_archive.FileArchive'>, <class 'fairgraph.openminds.core.data.file_bundle.FileBundle'>, <class 'fairgraph.openminds.core.data.file_repository.FileRepository'>, <class 'fairgraph.openminds.core.data.file_repository_structure.FileRepositoryStructure'>, <class 'fairgraph.openminds.core.miscellaneous.funding.Funding'>, <class 'fairgraph.openminds.core.digital_identifier.gridid.GRIDID'>, <class 'fairgraph.openminds.core.digital_identifier.handle.HANDLE'>, <class 'fairgraph.openminds.core.digital_identifier.isbn.ISBN'>, <class 'fairgraph.openminds.core.digital_identifier.issn.ISSN'>, <class 'fairgraph.openminds.core.digital_identifier.identifiers_dot_org_id.IdentifiersDotOrgID'>, <class 'fairgraph.openminds.core.data.license.License'>, <class 'fairgraph.openminds.core.products.meta_data_model.MetaDataModel'>, <class 'fairgraph.openminds.core.products.meta_data_model_version.MetaDataModelVersion'>, <class 'fairgraph.openminds.core.products.model.Model'>, <class 'fairgraph.openminds.core.products.model_version.ModelVersion'>, <class 'fairgraph.openminds.core.digital_identifier.orcid.ORCID'>, <class 'fairgraph.openminds.core.actors.organization.Organization'>, <class 'fairgraph.openminds.core.actors.person.Person'>, <class 'fairgraph.openminds.core.products.project.Project'>, <class 'fairgraph.openminds.core.research.property_value_list.PropertyValueList'>, <class 'fairgraph.openminds.core.research.protocol.Protocol'>, <class 'fairgraph.openminds.core.research.protocol_execution.ProtocolExecution'>, <class 'fairgraph.openminds.core.miscellaneous.quantitative_value_array.QuantitativeValueArray'>, <class 'fairgraph.openminds.core.digital_identifier.rorid.RORID'>, <class 'fairgraph.openminds.core.digital_identifier.rrid.RRID'>, <class 'fairgraph.openminds.core.miscellaneous.research_product_group.ResearchProductGroup'>, <class 'fairgraph.openminds.core.digital_identifier.swhid.SWHID'>, <class 'fairgraph.openminds.core.data.service_link.ServiceLink'>, <class 'fairgraph.openminds.core.products.setup.Setup'>, <class 'fairgraph.openminds.core.products.software.Software'>, <class 'fairgraph.openminds.core.products.software_version.SoftwareVersion'>, <class 'fairgraph.openminds.core.research.strain.Strain'>, <class 'fairgraph.openminds.core.research.subject.Subject'>, <class 'fairgraph.openminds.core.research.subject_group.SubjectGroup'>, <class 'fairgraph.openminds.core.research.subject_group_state.SubjectGroupState'>, <class 'fairgraph.openminds.core.research.subject_state.SubjectState'>, <class 'fairgraph.openminds.core.research.tissue_sample.TissueSample'>, <class 'fairgraph.openminds.core.research.tissue_sample_collection.TissueSampleCollection'>, <class 'fairgraph.openminds.core.research.tissue_sample_collection_state.TissueSampleCollectionState'>, <class 'fairgraph.openminds.core.research.tissue_sample_state.TissueSampleState'>, <class 'fairgraph.openminds.core.miscellaneous.web_resource.WebResource'>, <class 'fairgraph.openminds.core.products.web_service.WebService'>, <class 'fairgraph.openminds.core.products.web_service_version.WebServiceVersion'>]\n"
     ]
    }
   ],
   "source": [
    "list_core_classes = core.list_kg_classes()\n",
    "print(list_core_classes)"
   ]
  },
  {
   "cell_type": "code",
   "execution_count": 83,
   "id": "5d600ce8-7f17-406d-92ee-607b939d9efe",
   "metadata": {
    "collapsed": true,
    "jupyter": {
     "outputs_hidden": true
    },
    "tags": []
   },
   "outputs": [
    {
     "name": "stdout",
     "output_type": "stream",
     "text": [
      "[<class 'fairgraph.openminds.core.actors.affiliation.Affiliation'>, <class 'fairgraph.openminds.core.actors.contribution.Contribution'>, <class 'fairgraph.openminds.core.data.copyright.Copyright'>, <class 'fairgraph.openminds.core.research.custom_property_set.CustomPropertySet'>, <class 'fairgraph.openminds.core.data.file_path_pattern.FilePathPattern'>, <class 'fairgraph.openminds.core.data.hash.Hash'>, <class 'fairgraph.openminds.core.data.measurement.Measurement'>, <class 'fairgraph.openminds.core.research.numerical_property.NumericalProperty'>, <class 'fairgraph.openminds.core.miscellaneous.quantitative_value.QuantitativeValue'>, <class 'fairgraph.openminds.core.miscellaneous.quantitative_value_range.QuantitativeValueRange'>, <class 'fairgraph.openminds.core.digital_identifier.stock_number.StockNumber'>, <class 'fairgraph.openminds.core.research.string_property.StringProperty'>]\n"
     ]
    }
   ],
   "source": [
    "list_core_embeded_metadata_classes = core.list_embedded_metadata_classes()\n",
    "print(list_core_embeded_metadata_classes)"
   ]
  },
  {
   "cell_type": "code",
   "execution_count": 112,
   "id": "5b60e1c1-6010-4af8-a416-58b31f7ecc20",
   "metadata": {
    "collapsed": true,
    "jupyter": {
     "outputs_hidden": true
    },
    "tags": []
   },
   "outputs": [
    {
     "name": "stdout",
     "output_type": "stream",
     "text": [
      "Help on method space_info in module fairgraph.client:\n",
      "\n",
      "space_info(space_name: 'str', scope: 'str' = 'released') method of fairgraph.client.KGClient instance\n",
      "    Return information about the types and number of instances in a space.\n",
      "    \n",
      "    The return format is a dictionary whose keys are classes and the values are the\n",
      "    number of instances of each class in the given spaces.\n",
      "\n"
     ]
    }
   ],
   "source": [
    "help(kg_client.space_info)"
   ]
  },
  {
   "cell_type": "code",
   "execution_count": 111,
   "id": "c062f37d-8572-44b9-ab44-69beb48596cb",
   "metadata": {
    "collapsed": true,
    "jupyter": {
     "outputs_hidden": true
    },
    "tags": []
   },
   "outputs": [
    {
     "ename": "KeyError",
     "evalue": "'any'",
     "output_type": "error",
     "traceback": [
      "\u001b[0;31m---------------------------------------------------------------------------\u001b[0m",
      "\u001b[0;31mKeyError\u001b[0m                                  Traceback (most recent call last)",
      "Cell \u001b[0;32mIn[115], line 1\u001b[0m\n\u001b[0;32m----> 1\u001b[0m \u001b[43mkg_client\u001b[49m\u001b[38;5;241;43m.\u001b[39;49m\u001b[43mspace_info\u001b[49m\u001b[43m(\u001b[49m\u001b[38;5;124;43m'\u001b[39;49m\u001b[38;5;124;43mcollab-d-03fc9ac7-ae06-4bd8-946f-1da3749aca64\u001b[39;49m\u001b[38;5;124;43m'\u001b[39;49m\u001b[43m,\u001b[49m\u001b[38;5;124;43m'\u001b[39;49m\u001b[38;5;124;43many\u001b[39;49m\u001b[38;5;124;43m'\u001b[39;49m\u001b[43m)\u001b[49m\n",
      "File \u001b[0;32m~/.local/lib/python3.11/site-packages/fairgraph/client.py:626\u001b[0m, in \u001b[0;36mKGClient.space_info\u001b[0;34m(self, space_name, scope)\u001b[0m\n\u001b[1;32m    619\u001b[0m \u001b[38;5;28;01mdef\u001b[39;00m \u001b[38;5;21mspace_info\u001b[39m(\u001b[38;5;28mself\u001b[39m, space_name: \u001b[38;5;28mstr\u001b[39m, scope: \u001b[38;5;28mstr\u001b[39m \u001b[38;5;241m=\u001b[39m \u001b[38;5;124m\"\u001b[39m\u001b[38;5;124mreleased\u001b[39m\u001b[38;5;124m\"\u001b[39m):\n\u001b[1;32m    620\u001b[0m \u001b[38;5;250m    \u001b[39m\u001b[38;5;124;03m\"\"\"\u001b[39;00m\n\u001b[1;32m    621\u001b[0m \u001b[38;5;124;03m    Return information about the types and number of instances in a space.\u001b[39;00m\n\u001b[1;32m    622\u001b[0m \n\u001b[1;32m    623\u001b[0m \u001b[38;5;124;03m    The return format is a dictionary whose keys are classes and the values are the\u001b[39;00m\n\u001b[1;32m    624\u001b[0m \u001b[38;5;124;03m    number of instances of each class in the given spaces.\u001b[39;00m\n\u001b[1;32m    625\u001b[0m \u001b[38;5;124;03m    \"\"\"\u001b[39;00m\n\u001b[0;32m--> 626\u001b[0m     result \u001b[38;5;241m=\u001b[39m \u001b[38;5;28mself\u001b[39m\u001b[38;5;241m.\u001b[39m_kg_client\u001b[38;5;241m.\u001b[39mtypes\u001b[38;5;241m.\u001b[39mlist(space\u001b[38;5;241m=\u001b[39mspace_name, stage\u001b[38;5;241m=\u001b[39m\u001b[43mSTAGE_MAP\u001b[49m\u001b[43m[\u001b[49m\u001b[43mscope\u001b[49m\u001b[43m]\u001b[49m)\n\u001b[1;32m    627\u001b[0m     \u001b[38;5;28;01mif\u001b[39;00m result\u001b[38;5;241m.\u001b[39merror:\n\u001b[1;32m    628\u001b[0m         \u001b[38;5;28;01mraise\u001b[39;00m \u001b[38;5;167;01mException\u001b[39;00m(result\u001b[38;5;241m.\u001b[39merror)\n",
      "\u001b[0;31mKeyError\u001b[0m: 'any'"
     ]
    }
   ],
   "source": [
    "kg_client.space_info('collab-d-03fc9ac7-ae06-4bd8-946f-1da3749aca64','released')"
   ]
  },
  {
   "cell_type": "code",
   "execution_count": 117,
   "id": "f96026d1-eebd-45b5-87cc-b10c529a95aa",
   "metadata": {
    "collapsed": true,
    "jupyter": {
     "outputs_hidden": true
    },
    "tags": []
   },
   "outputs": [
    {
     "data": {
      "text/plain": [
       "{fairgraph.openminds.core.actors.consortium.Consortium: 0,\n",
       " fairgraph.openminds.core.digital_identifier.doi.DOI: 0,\n",
       " fairgraph.openminds.core.products.dataset.Dataset: 1,\n",
       " fairgraph.openminds.core.products.dataset_version.DatasetVersion: 1,\n",
       " fairgraph.openminds.core.data.file_repository.FileRepository: 0,\n",
       " fairgraph.openminds.core.miscellaneous.funding.Funding: 0,\n",
       " fairgraph.openminds.core.actors.organization.Organization: 0,\n",
       " fairgraph.openminds.core.actors.person.Person: 0,\n",
       " fairgraph.openminds.core.products.project.Project: 0,\n",
       " fairgraph.openminds.core.research.protocol.Protocol: 0,\n",
       " fairgraph.openminds.core.research.protocol_execution.ProtocolExecution: 0,\n",
       " fairgraph.openminds.core.research.subject.Subject: 0,\n",
       " fairgraph.openminds.core.research.subject_group.SubjectGroup: 0,\n",
       " fairgraph.openminds.core.research.subject_group_state.SubjectGroupState: 0,\n",
       " fairgraph.openminds.core.research.subject_state.SubjectState: 0,\n",
       " fairgraph.openminds.controlled_terms.term_suggestion.TermSuggestion: 0,\n",
       " fairgraph.openminds.core.research.tissue_sample.TissueSample: 0,\n",
       " fairgraph.openminds.core.research.tissue_sample_collection.TissueSampleCollection: 0,\n",
       " fairgraph.openminds.core.research.tissue_sample_collection_state.TissueSampleCollectionState: 0,\n",
       " fairgraph.openminds.core.research.tissue_sample_state.TissueSampleState: 0}"
      ]
     },
     "execution_count": 117,
     "metadata": {},
     "output_type": "execute_result"
    }
   ],
   "source": [
    "kg_client.space_info('collab-d-724d4af0-fe28-4032-8837-120b0d64a81c','in progress')"
   ]
  },
  {
   "cell_type": "code",
   "execution_count": 123,
   "id": "fa41fb63-18cb-42cb-8247-043dcd49a2f7",
   "metadata": {
    "collapsed": true,
    "jupyter": {
     "outputs_hidden": true
    },
    "tags": []
   },
   "outputs": [
    {
     "data": {
      "text/plain": [
       "[SpaceInformation(identifier='collab-d-03fc9ac7-ae06-4bd8-946f-1da3749aca64', name='collab-d-03fc9ac7-ae06-4bd8-946f-1da3749aca64', permissions=['DELETE', 'SUGGEST', 'CREATE', 'INVITE_FOR_REVIEW', 'INVITE_FOR_SUGGESTION', 'RELEASE_STATUS', 'READ_RELEASED', 'READ', 'WRITE', 'UNRELEASE', 'RELEASE']),\n",
       " SpaceInformation(identifier='collab-d-07cc3f2e-a924-4054-afa2-c3ca85c6f195', name='collab-d-07cc3f2e-a924-4054-afa2-c3ca85c6f195', permissions=['DELETE', 'SUGGEST', 'CREATE', 'INVITE_FOR_REVIEW', 'INVITE_FOR_SUGGESTION', 'RELEASE_STATUS', 'READ_RELEASED', 'READ', 'WRITE', 'UNRELEASE', 'RELEASE']),\n",
       " SpaceInformation(identifier='collab-d-0821c579-be5b-416b-b0a8-938332f20fbb', name='collab-d-0821c579-be5b-416b-b0a8-938332f20fbb', permissions=['DELETE', 'SUGGEST', 'CREATE', 'INVITE_FOR_REVIEW', 'INVITE_FOR_SUGGESTION', 'RELEASE_STATUS', 'READ_RELEASED', 'READ', 'WRITE', 'UNRELEASE', 'RELEASE']),\n",
       " SpaceInformation(identifier='collab-d-0c8fd2ae-be8e-4084-93ac-381f9223fee1', name='collab-d-0c8fd2ae-be8e-4084-93ac-381f9223fee1', permissions=['DELETE', 'SUGGEST', 'CREATE', 'INVITE_FOR_REVIEW', 'INVITE_FOR_SUGGESTION', 'RELEASE_STATUS', 'READ_RELEASED', 'READ', 'WRITE', 'UNRELEASE', 'RELEASE']),\n",
       " SpaceInformation(identifier='collab-d-0d145ebe-3ecd-4b3c-9400-913a8cd21a6a', name='collab-d-0d145ebe-3ecd-4b3c-9400-913a8cd21a6a', permissions=['DELETE', 'SUGGEST', 'CREATE', 'INVITE_FOR_REVIEW', 'INVITE_FOR_SUGGESTION', 'RELEASE_STATUS', 'READ_RELEASED', 'READ', 'WRITE', 'UNRELEASE', 'RELEASE']),\n",
       " SpaceInformation(identifier='collab-d-100b4026-b64e-441d-ba55-9bf2c0213bc4', name='collab-d-100b4026-b64e-441d-ba55-9bf2c0213bc4', permissions=['DELETE', 'SUGGEST', 'CREATE', 'INVITE_FOR_REVIEW', 'INVITE_FOR_SUGGESTION', 'RELEASE_STATUS', 'READ_RELEASED', 'READ', 'WRITE', 'UNRELEASE', 'RELEASE']),\n",
       " SpaceInformation(identifier='collab-d-10a2920c-8bb7-4028-9224-2c9e060d6c92', name='collab-d-10a2920c-8bb7-4028-9224-2c9e060d6c92', permissions=['DELETE', 'SUGGEST', 'CREATE', 'INVITE_FOR_REVIEW', 'INVITE_FOR_SUGGESTION', 'RELEASE_STATUS', 'READ_RELEASED', 'READ', 'WRITE', 'UNRELEASE', 'RELEASE']),\n",
       " SpaceInformation(identifier='collab-d-1290f175-6011-47dc-88af-d3578c2f1c2d', name='collab-d-1290f175-6011-47dc-88af-d3578c2f1c2d', permissions=['DELETE', 'SUGGEST', 'CREATE', 'INVITE_FOR_REVIEW', 'INVITE_FOR_SUGGESTION', 'RELEASE_STATUS', 'READ_RELEASED', 'READ', 'WRITE', 'UNRELEASE', 'RELEASE']),\n",
       " SpaceInformation(identifier='collab-d-131add71-e838-4dab-b953-7b7a69ac5d8f', name='collab-d-131add71-e838-4dab-b953-7b7a69ac5d8f', permissions=['DELETE', 'SUGGEST', 'CREATE', 'INVITE_FOR_REVIEW', 'INVITE_FOR_SUGGESTION', 'RELEASE_STATUS', 'READ_RELEASED', 'READ', 'WRITE', 'UNRELEASE', 'RELEASE']),\n",
       " SpaceInformation(identifier='collab-d-13b53eef-867d-4546-a435-d4819ae17734', name='collab-d-13b53eef-867d-4546-a435-d4819ae17734', permissions=['DELETE', 'SUGGEST', 'CREATE', 'INVITE_FOR_REVIEW', 'INVITE_FOR_SUGGESTION', 'RELEASE_STATUS', 'READ_RELEASED', 'READ', 'WRITE', 'UNRELEASE', 'RELEASE']),\n",
       " SpaceInformation(identifier='collab-d-1406d4ff-a9f0-4394-a5ba-d7fee97bc30b', name='collab-d-1406d4ff-a9f0-4394-a5ba-d7fee97bc30b', permissions=['DELETE', 'SUGGEST', 'CREATE', 'INVITE_FOR_REVIEW', 'INVITE_FOR_SUGGESTION', 'RELEASE_STATUS', 'READ_RELEASED', 'READ', 'WRITE', 'UNRELEASE', 'RELEASE']),\n",
       " SpaceInformation(identifier='collab-d-15a2a429-e8eb-4c5e-b1e9-3688bfd97fa5', name='collab-d-15a2a429-e8eb-4c5e-b1e9-3688bfd97fa5', permissions=['DELETE', 'SUGGEST', 'CREATE', 'INVITE_FOR_REVIEW', 'INVITE_FOR_SUGGESTION', 'RELEASE_STATUS', 'READ_RELEASED', 'READ', 'WRITE', 'UNRELEASE', 'RELEASE']),\n",
       " SpaceInformation(identifier='collab-d-1741629c-b1ce-480d-bea2-521399919348', name='collab-d-1741629c-b1ce-480d-bea2-521399919348', permissions=['DELETE', 'SUGGEST', 'CREATE', 'INVITE_FOR_REVIEW', 'INVITE_FOR_SUGGESTION', 'RELEASE_STATUS', 'READ_RELEASED', 'READ', 'WRITE', 'UNRELEASE', 'RELEASE']),\n",
       " SpaceInformation(identifier='collab-d-1a8c1e14-5c81-4d61-af2c-154beb771b97', name='collab-d-1a8c1e14-5c81-4d61-af2c-154beb771b97', permissions=['DELETE', 'SUGGEST', 'CREATE', 'INVITE_FOR_REVIEW', 'INVITE_FOR_SUGGESTION', 'RELEASE_STATUS', 'READ_RELEASED', 'READ', 'WRITE', 'UNRELEASE', 'RELEASE']),\n",
       " SpaceInformation(identifier='collab-d-1bbd358a-5a3f-479d-ab4a-a2e9db6f92d1', name='collab-d-1bbd358a-5a3f-479d-ab4a-a2e9db6f92d1', permissions=['DELETE', 'SUGGEST', 'CREATE', 'INVITE_FOR_REVIEW', 'INVITE_FOR_SUGGESTION', 'RELEASE_STATUS', 'READ_RELEASED', 'READ', 'WRITE', 'UNRELEASE', 'RELEASE']),\n",
       " SpaceInformation(identifier='collab-d-2050c54a-c9c4-429a-936a-7055cdae03ef', name='collab-d-2050c54a-c9c4-429a-936a-7055cdae03ef', permissions=['DELETE', 'SUGGEST', 'CREATE', 'INVITE_FOR_REVIEW', 'INVITE_FOR_SUGGESTION', 'RELEASE_STATUS', 'READ_RELEASED', 'READ', 'WRITE', 'UNRELEASE', 'RELEASE']),\n",
       " SpaceInformation(identifier='collab-d-2160b8fe-f8d0-405e-a9b0-2c3b49f238a0', name='collab-d-2160b8fe-f8d0-405e-a9b0-2c3b49f238a0', permissions=['DELETE', 'SUGGEST', 'CREATE', 'INVITE_FOR_REVIEW', 'INVITE_FOR_SUGGESTION', 'RELEASE_STATUS', 'READ_RELEASED', 'READ', 'WRITE', 'UNRELEASE', 'RELEASE']),\n",
       " SpaceInformation(identifier='collab-d-22698ba6-d4e0-42d3-9255-b08fa09e7a58', name='collab-d-22698ba6-d4e0-42d3-9255-b08fa09e7a58', permissions=['DELETE', 'SUGGEST', 'CREATE', 'INVITE_FOR_REVIEW', 'INVITE_FOR_SUGGESTION', 'RELEASE_STATUS', 'READ_RELEASED', 'READ', 'WRITE', 'UNRELEASE', 'RELEASE']),\n",
       " SpaceInformation(identifier='collab-d-22c3a90a-d2f6-49b3-b3e4-0ab654f75b77', name='collab-d-22c3a90a-d2f6-49b3-b3e4-0ab654f75b77', permissions=['DELETE', 'SUGGEST', 'CREATE', 'INVITE_FOR_REVIEW', 'INVITE_FOR_SUGGESTION', 'RELEASE_STATUS', 'READ_RELEASED', 'READ', 'WRITE', 'UNRELEASE', 'RELEASE']),\n",
       " SpaceInformation(identifier='collab-d-233a4fb7-4a26-4fcd-8f0a-d85aeb2a21ae', name='collab-d-233a4fb7-4a26-4fcd-8f0a-d85aeb2a21ae', permissions=['DELETE', 'SUGGEST', 'CREATE', 'INVITE_FOR_REVIEW', 'INVITE_FOR_SUGGESTION', 'RELEASE_STATUS', 'READ_RELEASED', 'READ', 'WRITE', 'UNRELEASE', 'RELEASE']),\n",
       " SpaceInformation(identifier='collab-d-242eb919-5823-47a5-be00-2baf5e33f0d4', name='collab-d-242eb919-5823-47a5-be00-2baf5e33f0d4', permissions=['DELETE', 'SUGGEST', 'CREATE', 'INVITE_FOR_REVIEW', 'INVITE_FOR_SUGGESTION', 'RELEASE_STATUS', 'READ_RELEASED', 'READ', 'WRITE', 'UNRELEASE', 'RELEASE']),\n",
       " SpaceInformation(identifier='collab-d-258d61a8-7795-4a4b-8e12-d569e339c411', name='collab-d-258d61a8-7795-4a4b-8e12-d569e339c411', permissions=['DELETE', 'SUGGEST', 'CREATE', 'INVITE_FOR_REVIEW', 'INVITE_FOR_SUGGESTION', 'RELEASE_STATUS', 'READ_RELEASED', 'READ', 'WRITE', 'UNRELEASE', 'RELEASE']),\n",
       " SpaceInformation(identifier='collab-d-2782579e-12bf-456e-a5c0-fab05c11f880', name='collab-d-2782579e-12bf-456e-a5c0-fab05c11f880', permissions=['DELETE', 'SUGGEST', 'CREATE', 'INVITE_FOR_REVIEW', 'INVITE_FOR_SUGGESTION', 'RELEASE_STATUS', 'READ_RELEASED', 'READ', 'WRITE', 'UNRELEASE', 'RELEASE']),\n",
       " SpaceInformation(identifier='collab-d-2b5e1b5d-68ac-49c2-9189-33277dd471ec', name='collab-d-2b5e1b5d-68ac-49c2-9189-33277dd471ec', permissions=['DELETE', 'SUGGEST', 'CREATE', 'INVITE_FOR_REVIEW', 'INVITE_FOR_SUGGESTION', 'RELEASE_STATUS', 'READ_RELEASED', 'READ', 'WRITE', 'UNRELEASE', 'RELEASE']),\n",
       " SpaceInformation(identifier='collab-d-2e5e0c4f-aeca-4bc8-b5a1-3d0e361ce540', name='collab-d-2e5e0c4f-aeca-4bc8-b5a1-3d0e361ce540', permissions=['DELETE', 'SUGGEST', 'CREATE', 'INVITE_FOR_REVIEW', 'INVITE_FOR_SUGGESTION', 'RELEASE_STATUS', 'READ_RELEASED', 'READ', 'WRITE', 'UNRELEASE', 'RELEASE']),\n",
       " SpaceInformation(identifier='collab-d-33463c5f-f7e9-41a3-b84d-97acdf0fac73', name='collab-d-33463c5f-f7e9-41a3-b84d-97acdf0fac73', permissions=['DELETE', 'SUGGEST', 'CREATE', 'INVITE_FOR_REVIEW', 'INVITE_FOR_SUGGESTION', 'RELEASE_STATUS', 'READ_RELEASED', 'READ', 'WRITE', 'UNRELEASE', 'RELEASE']),\n",
       " SpaceInformation(identifier='collab-d-33c5e336-7f42-4e7a-b31e-33d669ff952b', name='collab-d-33c5e336-7f42-4e7a-b31e-33d669ff952b', permissions=['DELETE', 'SUGGEST', 'CREATE', 'INVITE_FOR_REVIEW', 'INVITE_FOR_SUGGESTION', 'RELEASE_STATUS', 'READ_RELEASED', 'READ', 'WRITE', 'UNRELEASE', 'RELEASE']),\n",
       " SpaceInformation(identifier='collab-d-35f51500-7236-45d6-a3a1-ce9efae13de2', name='collab-d-35f51500-7236-45d6-a3a1-ce9efae13de2', permissions=['DELETE', 'SUGGEST', 'CREATE', 'INVITE_FOR_REVIEW', 'INVITE_FOR_SUGGESTION', 'RELEASE_STATUS', 'READ_RELEASED', 'READ', 'WRITE', 'UNRELEASE', 'RELEASE']),\n",
       " SpaceInformation(identifier='collab-d-3746fd10-87ed-4738-92e5-555258a621ed', name='collab-d-3746fd10-87ed-4738-92e5-555258a621ed', permissions=['DELETE', 'SUGGEST', 'CREATE', 'INVITE_FOR_REVIEW', 'INVITE_FOR_SUGGESTION', 'RELEASE_STATUS', 'READ_RELEASED', 'READ', 'WRITE', 'UNRELEASE', 'RELEASE']),\n",
       " SpaceInformation(identifier='collab-d-3809c0f4-1223-4759-824f-be446c092118', name='collab-d-3809c0f4-1223-4759-824f-be446c092118', permissions=['DELETE', 'SUGGEST', 'CREATE', 'INVITE_FOR_REVIEW', 'INVITE_FOR_SUGGESTION', 'RELEASE_STATUS', 'READ_RELEASED', 'READ', 'WRITE', 'UNRELEASE', 'RELEASE']),\n",
       " SpaceInformation(identifier='collab-d-3b354eba-8e68-4857-a399-ca1c0f0f7845', name='collab-d-3b354eba-8e68-4857-a399-ca1c0f0f7845', permissions=['DELETE', 'SUGGEST', 'CREATE', 'INVITE_FOR_REVIEW', 'INVITE_FOR_SUGGESTION', 'RELEASE_STATUS', 'READ_RELEASED', 'READ', 'WRITE', 'UNRELEASE', 'RELEASE']),\n",
       " SpaceInformation(identifier='collab-d-3c3aff16-2320-4850-a31e-ae97a07aa737', name='collab-d-3c3aff16-2320-4850-a31e-ae97a07aa737', permissions=['DELETE', 'SUGGEST', 'CREATE', 'INVITE_FOR_REVIEW', 'INVITE_FOR_SUGGESTION', 'RELEASE_STATUS', 'READ_RELEASED', 'READ', 'WRITE', 'UNRELEASE', 'RELEASE']),\n",
       " SpaceInformation(identifier='collab-d-4035ff78-c8f3-4c26-a82a-cd72ca9d7b3f', name='collab-d-4035ff78-c8f3-4c26-a82a-cd72ca9d7b3f', permissions=['DELETE', 'SUGGEST', 'CREATE', 'INVITE_FOR_REVIEW', 'INVITE_FOR_SUGGESTION', 'RELEASE_STATUS', 'READ_RELEASED', 'READ', 'WRITE', 'UNRELEASE', 'RELEASE']),\n",
       " SpaceInformation(identifier='collab-d-4080b78d-edc5-4ae4-8144-7f6de79930ea', name='collab-d-4080b78d-edc5-4ae4-8144-7f6de79930ea', permissions=['DELETE', 'SUGGEST', 'CREATE', 'INVITE_FOR_REVIEW', 'INVITE_FOR_SUGGESTION', 'RELEASE_STATUS', 'READ_RELEASED', 'READ', 'WRITE', 'UNRELEASE', 'RELEASE']),\n",
       " SpaceInformation(identifier='collab-d-40faae41-7e72-4c3c-9abf-91dea149158d', name='collab-d-40faae41-7e72-4c3c-9abf-91dea149158d', permissions=['DELETE', 'SUGGEST', 'CREATE', 'INVITE_FOR_REVIEW', 'INVITE_FOR_SUGGESTION', 'RELEASE_STATUS', 'READ_RELEASED', 'READ', 'WRITE', 'UNRELEASE', 'RELEASE']),\n",
       " SpaceInformation(identifier='collab-d-41673110-f3eb-43cd-9d9c-c845c6f0573c', name='collab-d-41673110-f3eb-43cd-9d9c-c845c6f0573c', permissions=['DELETE', 'SUGGEST', 'CREATE', 'INVITE_FOR_REVIEW', 'INVITE_FOR_SUGGESTION', 'RELEASE_STATUS', 'READ_RELEASED', 'READ', 'WRITE', 'UNRELEASE', 'RELEASE']),\n",
       " SpaceInformation(identifier='collab-d-41f6ff58-61df-478f-960d-12156c0f4660', name='collab-d-41f6ff58-61df-478f-960d-12156c0f4660', permissions=['DELETE', 'SUGGEST', 'CREATE', 'INVITE_FOR_REVIEW', 'INVITE_FOR_SUGGESTION', 'RELEASE_STATUS', 'READ_RELEASED', 'READ', 'WRITE', 'UNRELEASE', 'RELEASE']),\n",
       " SpaceInformation(identifier='collab-d-4392b4e6-8a76-44c6-a93e-aaf076e7ae61', name='collab-d-4392b4e6-8a76-44c6-a93e-aaf076e7ae61', permissions=['DELETE', 'SUGGEST', 'CREATE', 'INVITE_FOR_REVIEW', 'INVITE_FOR_SUGGESTION', 'RELEASE_STATUS', 'READ_RELEASED', 'READ', 'WRITE', 'UNRELEASE', 'RELEASE']),\n",
       " SpaceInformation(identifier='collab-d-44214176-0e8c-48de-8cff-4b6f9593415d', name='collab-d-44214176-0e8c-48de-8cff-4b6f9593415d', permissions=['DELETE', 'SUGGEST', 'CREATE', 'INVITE_FOR_REVIEW', 'INVITE_FOR_SUGGESTION', 'RELEASE_STATUS', 'READ_RELEASED', 'READ', 'WRITE', 'UNRELEASE', 'RELEASE']),\n",
       " SpaceInformation(identifier='collab-d-4445aa89-7f8f-47de-96d1-b4bbd5b169de', name='collab-d-4445aa89-7f8f-47de-96d1-b4bbd5b169de', permissions=['DELETE', 'SUGGEST', 'CREATE', 'INVITE_FOR_REVIEW', 'INVITE_FOR_SUGGESTION', 'RELEASE_STATUS', 'READ_RELEASED', 'READ', 'WRITE', 'UNRELEASE', 'RELEASE']),\n",
       " SpaceInformation(identifier='collab-d-45eb122a-5ce3-45f6-8f13-fb855c0ff036', name='collab-d-45eb122a-5ce3-45f6-8f13-fb855c0ff036', permissions=['DELETE', 'SUGGEST', 'CREATE', 'INVITE_FOR_REVIEW', 'INVITE_FOR_SUGGESTION', 'RELEASE_STATUS', 'READ_RELEASED', 'READ', 'WRITE', 'UNRELEASE', 'RELEASE']),\n",
       " SpaceInformation(identifier='collab-d-462d8b9c-1c02-442c-9b95-2241f46ee586', name='collab-d-462d8b9c-1c02-442c-9b95-2241f46ee586', permissions=['DELETE', 'SUGGEST', 'CREATE', 'INVITE_FOR_REVIEW', 'INVITE_FOR_SUGGESTION', 'RELEASE_STATUS', 'READ_RELEASED', 'READ', 'WRITE', 'UNRELEASE', 'RELEASE']),\n",
       " SpaceInformation(identifier='collab-d-48954fab-6c36-4049-ac00-cba2547aaa17', name='collab-d-48954fab-6c36-4049-ac00-cba2547aaa17', permissions=['DELETE', 'SUGGEST', 'CREATE', 'INVITE_FOR_REVIEW', 'INVITE_FOR_SUGGESTION', 'RELEASE_STATUS', 'READ_RELEASED', 'READ', 'WRITE', 'UNRELEASE', 'RELEASE']),\n",
       " SpaceInformation(identifier='collab-d-4c99a143-b895-4e4b-b996-6e3d0019bd63', name='collab-d-4c99a143-b895-4e4b-b996-6e3d0019bd63', permissions=['DELETE', 'SUGGEST', 'CREATE', 'INVITE_FOR_REVIEW', 'INVITE_FOR_SUGGESTION', 'RELEASE_STATUS', 'READ_RELEASED', 'READ', 'WRITE', 'UNRELEASE', 'RELEASE']),\n",
       " SpaceInformation(identifier='collab-d-4d459bde-ee33-426c-b6f6-43fc5e4118e5', name='collab-d-4d459bde-ee33-426c-b6f6-43fc5e4118e5', permissions=['DELETE', 'SUGGEST', 'CREATE', 'INVITE_FOR_REVIEW', 'INVITE_FOR_SUGGESTION', 'RELEASE_STATUS', 'READ_RELEASED', 'READ', 'WRITE', 'UNRELEASE', 'RELEASE']),\n",
       " SpaceInformation(identifier='collab-d-4e2f5d2d-26bd-4812-bc79-7dd3f7b2354b', name='collab-d-4e2f5d2d-26bd-4812-bc79-7dd3f7b2354b', permissions=['DELETE', 'SUGGEST', 'CREATE', 'INVITE_FOR_REVIEW', 'INVITE_FOR_SUGGESTION', 'RELEASE_STATUS', 'READ_RELEASED', 'READ', 'WRITE', 'UNRELEASE', 'RELEASE']),\n",
       " SpaceInformation(identifier='collab-d-4ea61b41-7dc5-4889-9a43-a4f8a6cfa5a7', name='collab-d-4ea61b41-7dc5-4889-9a43-a4f8a6cfa5a7', permissions=['DELETE', 'SUGGEST', 'CREATE', 'INVITE_FOR_REVIEW', 'INVITE_FOR_SUGGESTION', 'RELEASE_STATUS', 'READ_RELEASED', 'READ', 'WRITE', 'UNRELEASE', 'RELEASE']),\n",
       " SpaceInformation(identifier='collab-d-4f45ac8c-536e-4f1e-9bca-5cdac323ce8a', name='collab-d-4f45ac8c-536e-4f1e-9bca-5cdac323ce8a', permissions=['DELETE', 'SUGGEST', 'CREATE', 'INVITE_FOR_REVIEW', 'INVITE_FOR_SUGGESTION', 'RELEASE_STATUS', 'READ_RELEASED', 'READ', 'WRITE', 'UNRELEASE', 'RELEASE']),\n",
       " SpaceInformation(identifier='collab-d-539afeb6-8b88-4f75-bfdb-d01137b90c76', name='collab-d-539afeb6-8b88-4f75-bfdb-d01137b90c76', permissions=['DELETE', 'SUGGEST', 'CREATE', 'INVITE_FOR_REVIEW', 'INVITE_FOR_SUGGESTION', 'RELEASE_STATUS', 'READ_RELEASED', 'READ', 'WRITE', 'UNRELEASE', 'RELEASE']),\n",
       " SpaceInformation(identifier='collab-d-57842c96-1f20-484f-8eec-fe6f9169cc3e', name='collab-d-57842c96-1f20-484f-8eec-fe6f9169cc3e', permissions=['DELETE', 'SUGGEST', 'CREATE', 'INVITE_FOR_REVIEW', 'INVITE_FOR_SUGGESTION', 'RELEASE_STATUS', 'READ_RELEASED', 'READ', 'WRITE', 'UNRELEASE', 'RELEASE']),\n",
       " SpaceInformation(identifier='collab-d-5da05ab3-20ce-4190-b612-155abf84ba56', name='collab-d-5da05ab3-20ce-4190-b612-155abf84ba56', permissions=['DELETE', 'SUGGEST', 'CREATE', 'INVITE_FOR_REVIEW', 'INVITE_FOR_SUGGESTION', 'RELEASE_STATUS', 'READ_RELEASED', 'READ', 'WRITE', 'UNRELEASE', 'RELEASE']),\n",
       " SpaceInformation(identifier='collab-d-5e274a1e-3a32-41e4-b32b-522fd3ca9836', name='collab-d-5e274a1e-3a32-41e4-b32b-522fd3ca9836', permissions=['DELETE', 'SUGGEST', 'CREATE', 'INVITE_FOR_REVIEW', 'INVITE_FOR_SUGGESTION', 'RELEASE_STATUS', 'READ_RELEASED', 'READ', 'WRITE', 'UNRELEASE', 'RELEASE']),\n",
       " SpaceInformation(identifier='collab-d-603fba4f-0224-40d1-ae64-713f72af5c2c', name='collab-d-603fba4f-0224-40d1-ae64-713f72af5c2c', permissions=['DELETE', 'SUGGEST', 'CREATE', 'INVITE_FOR_REVIEW', 'INVITE_FOR_SUGGESTION', 'RELEASE_STATUS', 'READ_RELEASED', 'READ', 'WRITE', 'UNRELEASE', 'RELEASE']),\n",
       " SpaceInformation(identifier='collab-d-6070e423-4400-4a2c-81e3-5d47351a9ab2', name='collab-d-6070e423-4400-4a2c-81e3-5d47351a9ab2', permissions=['DELETE', 'SUGGEST', 'CREATE', 'INVITE_FOR_REVIEW', 'INVITE_FOR_SUGGESTION', 'RELEASE_STATUS', 'READ_RELEASED', 'READ', 'WRITE', 'UNRELEASE', 'RELEASE']),\n",
       " SpaceInformation(identifier='collab-d-6362935f-f6e2-4a50-a7ef-70f1c1dedecf', name='collab-d-6362935f-f6e2-4a50-a7ef-70f1c1dedecf', permissions=['DELETE', 'SUGGEST', 'CREATE', 'INVITE_FOR_REVIEW', 'INVITE_FOR_SUGGESTION', 'RELEASE_STATUS', 'READ_RELEASED', 'READ', 'WRITE', 'UNRELEASE', 'RELEASE']),\n",
       " SpaceInformation(identifier='collab-d-6592014d-754b-4e2c-b822-2f7372aa4804', name='collab-d-6592014d-754b-4e2c-b822-2f7372aa4804', permissions=['DELETE', 'SUGGEST', 'CREATE', 'INVITE_FOR_REVIEW', 'INVITE_FOR_SUGGESTION', 'RELEASE_STATUS', 'READ_RELEASED', 'READ', 'WRITE', 'UNRELEASE', 'RELEASE']),\n",
       " SpaceInformation(identifier='collab-d-6823031d-084a-4b00-8bd6-f6a9cbd0bbdd', name='collab-d-6823031d-084a-4b00-8bd6-f6a9cbd0bbdd', permissions=['DELETE', 'SUGGEST', 'CREATE', 'INVITE_FOR_REVIEW', 'INVITE_FOR_SUGGESTION', 'RELEASE_STATUS', 'READ_RELEASED', 'READ', 'WRITE', 'UNRELEASE', 'RELEASE']),\n",
       " SpaceInformation(identifier='collab-d-69121624-98ee-4150-a09e-5e4661836513', name='collab-d-69121624-98ee-4150-a09e-5e4661836513', permissions=['DELETE', 'SUGGEST', 'CREATE', 'INVITE_FOR_REVIEW', 'INVITE_FOR_SUGGESTION', 'RELEASE_STATUS', 'READ_RELEASED', 'READ', 'WRITE', 'UNRELEASE', 'RELEASE']),\n",
       " SpaceInformation(identifier='collab-d-6b5feabe-fdc6-4a57-9e0d-dbd1edd543d7', name='collab-d-6b5feabe-fdc6-4a57-9e0d-dbd1edd543d7', permissions=['DELETE', 'SUGGEST', 'CREATE', 'INVITE_FOR_REVIEW', 'INVITE_FOR_SUGGESTION', 'RELEASE_STATUS', 'READ_RELEASED', 'READ', 'WRITE', 'UNRELEASE', 'RELEASE']),\n",
       " SpaceInformation(identifier='collab-d-6c8d968e-8055-4687-bd8e-d8d7d59e2645', name='collab-d-6c8d968e-8055-4687-bd8e-d8d7d59e2645', permissions=['DELETE', 'SUGGEST', 'CREATE', 'INVITE_FOR_REVIEW', 'INVITE_FOR_SUGGESTION', 'RELEASE_STATUS', 'READ_RELEASED', 'READ', 'WRITE', 'UNRELEASE', 'RELEASE']),\n",
       " SpaceInformation(identifier='collab-d-6dcdd641-c8c1-4465-bd65-e19d5c297c4b', name='collab-d-6dcdd641-c8c1-4465-bd65-e19d5c297c4b', permissions=['DELETE', 'SUGGEST', 'CREATE', 'INVITE_FOR_REVIEW', 'INVITE_FOR_SUGGESTION', 'RELEASE_STATUS', 'READ_RELEASED', 'READ', 'WRITE', 'UNRELEASE', 'RELEASE']),\n",
       " SpaceInformation(identifier='collab-d-6dd7103d-daed-4067-a8b5-1b96e9f3fcdb', name='collab-d-6dd7103d-daed-4067-a8b5-1b96e9f3fcdb', permissions=['DELETE', 'SUGGEST', 'CREATE', 'INVITE_FOR_REVIEW', 'INVITE_FOR_SUGGESTION', 'RELEASE_STATUS', 'READ_RELEASED', 'READ', 'WRITE', 'UNRELEASE', 'RELEASE']),\n",
       " SpaceInformation(identifier='collab-d-6eb874e1-63b3-4889-948a-0d3987cb249b', name='collab-d-6eb874e1-63b3-4889-948a-0d3987cb249b', permissions=['DELETE', 'SUGGEST', 'CREATE', 'INVITE_FOR_REVIEW', 'INVITE_FOR_SUGGESTION', 'RELEASE_STATUS', 'READ_RELEASED', 'READ', 'WRITE', 'UNRELEASE', 'RELEASE']),\n",
       " SpaceInformation(identifier='collab-d-6f559cb7-1283-4083-b7a4-0b7485b9cbc7', name='collab-d-6f559cb7-1283-4083-b7a4-0b7485b9cbc7', permissions=['DELETE', 'SUGGEST', 'CREATE', 'INVITE_FOR_REVIEW', 'INVITE_FOR_SUGGESTION', 'RELEASE_STATUS', 'READ_RELEASED', 'READ', 'WRITE', 'UNRELEASE', 'RELEASE']),\n",
       " SpaceInformation(identifier='collab-d-70f9c34d-c99e-4397-b704-722f40ed46a2', name='collab-d-70f9c34d-c99e-4397-b704-722f40ed46a2', permissions=['DELETE', 'SUGGEST', 'CREATE', 'INVITE_FOR_REVIEW', 'INVITE_FOR_SUGGESTION', 'RELEASE_STATUS', 'READ_RELEASED', 'READ', 'WRITE', 'UNRELEASE', 'RELEASE']),\n",
       " SpaceInformation(identifier='collab-d-72062c1b-e10a-4631-ba17-06be45995022', name='collab-d-72062c1b-e10a-4631-ba17-06be45995022', permissions=['DELETE', 'SUGGEST', 'CREATE', 'INVITE_FOR_REVIEW', 'INVITE_FOR_SUGGESTION', 'RELEASE_STATUS', 'READ_RELEASED', 'READ', 'WRITE', 'UNRELEASE', 'RELEASE']),\n",
       " SpaceInformation(identifier='collab-d-721316f3-b1cf-4914-a7c9-a953e7555981', name='collab-d-721316f3-b1cf-4914-a7c9-a953e7555981', permissions=['DELETE', 'SUGGEST', 'CREATE', 'INVITE_FOR_REVIEW', 'INVITE_FOR_SUGGESTION', 'RELEASE_STATUS', 'READ_RELEASED', 'READ', 'WRITE', 'UNRELEASE', 'RELEASE']),\n",
       " SpaceInformation(identifier='collab-d-724d4af0-fe28-4032-8837-120b0d64a81c', name='collab-d-724d4af0-fe28-4032-8837-120b0d64a81c', permissions=['DELETE', 'SUGGEST', 'CREATE', 'INVITE_FOR_REVIEW', 'INVITE_FOR_SUGGESTION', 'RELEASE_STATUS', 'READ_RELEASED', 'READ', 'WRITE', 'UNRELEASE', 'RELEASE']),\n",
       " SpaceInformation(identifier='collab-d-76f2dfac-f458-496b-987a-4a5f047693c7', name='collab-d-76f2dfac-f458-496b-987a-4a5f047693c7', permissions=['DELETE', 'SUGGEST', 'CREATE', 'INVITE_FOR_REVIEW', 'INVITE_FOR_SUGGESTION', 'RELEASE_STATUS', 'READ_RELEASED', 'READ', 'WRITE', 'UNRELEASE', 'RELEASE']),\n",
       " SpaceInformation(identifier='collab-d-7757e057-e556-45da-9adf-d1c85c27f5cd', name='collab-d-7757e057-e556-45da-9adf-d1c85c27f5cd', permissions=['DELETE', 'SUGGEST', 'CREATE', 'INVITE_FOR_REVIEW', 'INVITE_FOR_SUGGESTION', 'RELEASE_STATUS', 'READ_RELEASED', 'READ', 'WRITE', 'UNRELEASE', 'RELEASE']),\n",
       " SpaceInformation(identifier='collab-d-780f8442-8864-4199-a9f8-e20d864a891d', name='collab-d-780f8442-8864-4199-a9f8-e20d864a891d', permissions=['DELETE', 'SUGGEST', 'CREATE', 'INVITE_FOR_REVIEW', 'INVITE_FOR_SUGGESTION', 'RELEASE_STATUS', 'READ_RELEASED', 'READ', 'WRITE', 'UNRELEASE', 'RELEASE']),\n",
       " SpaceInformation(identifier='collab-d-7b135c94-72f7-463a-97e0-4c4821a695c8', name='collab-d-7b135c94-72f7-463a-97e0-4c4821a695c8', permissions=['DELETE', 'SUGGEST', 'CREATE', 'INVITE_FOR_REVIEW', 'INVITE_FOR_SUGGESTION', 'RELEASE_STATUS', 'READ_RELEASED', 'READ', 'WRITE', 'UNRELEASE', 'RELEASE']),\n",
       " SpaceInformation(identifier='collab-d-7b55dd29-c6f1-41b2-a886-64acb42036d7', name='collab-d-7b55dd29-c6f1-41b2-a886-64acb42036d7', permissions=['DELETE', 'SUGGEST', 'CREATE', 'INVITE_FOR_REVIEW', 'INVITE_FOR_SUGGESTION', 'RELEASE_STATUS', 'READ_RELEASED', 'READ', 'WRITE', 'UNRELEASE', 'RELEASE']),\n",
       " SpaceInformation(identifier='collab-d-7bb1b95e-08a0-4c46-a113-ed157fd12fd6', name='collab-d-7bb1b95e-08a0-4c46-a113-ed157fd12fd6', permissions=['DELETE', 'SUGGEST', 'CREATE', 'INVITE_FOR_REVIEW', 'INVITE_FOR_SUGGESTION', 'RELEASE_STATUS', 'READ_RELEASED', 'READ', 'WRITE', 'UNRELEASE', 'RELEASE']),\n",
       " SpaceInformation(identifier='collab-d-7fa4bd4e-55b0-480e-869d-9bb1895942b1', name='collab-d-7fa4bd4e-55b0-480e-869d-9bb1895942b1', permissions=['DELETE', 'SUGGEST', 'CREATE', 'INVITE_FOR_REVIEW', 'INVITE_FOR_SUGGESTION', 'RELEASE_STATUS', 'READ_RELEASED', 'READ', 'WRITE', 'UNRELEASE', 'RELEASE']),\n",
       " SpaceInformation(identifier='collab-d-8431d864-e9c1-4af1-8ad6-70e6a5594774', name='collab-d-8431d864-e9c1-4af1-8ad6-70e6a5594774', permissions=['DELETE', 'SUGGEST', 'CREATE', 'INVITE_FOR_REVIEW', 'INVITE_FOR_SUGGESTION', 'RELEASE_STATUS', 'READ_RELEASED', 'READ', 'WRITE', 'UNRELEASE', 'RELEASE']),\n",
       " SpaceInformation(identifier='collab-d-843fa0ae-c0b9-4436-a246-b449253cea52', name='collab-d-843fa0ae-c0b9-4436-a246-b449253cea52', permissions=['DELETE', 'SUGGEST', 'CREATE', 'INVITE_FOR_REVIEW', 'INVITE_FOR_SUGGESTION', 'RELEASE_STATUS', 'READ_RELEASED', 'READ', 'WRITE', 'UNRELEASE', 'RELEASE']),\n",
       " SpaceInformation(identifier='collab-d-8688aeeb-5c26-4269-88da-d6f5edfe6288', name='collab-d-8688aeeb-5c26-4269-88da-d6f5edfe6288', permissions=['DELETE', 'SUGGEST', 'CREATE', 'INVITE_FOR_REVIEW', 'INVITE_FOR_SUGGESTION', 'RELEASE_STATUS', 'READ_RELEASED', 'READ', 'WRITE', 'UNRELEASE', 'RELEASE']),\n",
       " SpaceInformation(identifier='collab-d-885b4936-9345-43bd-880e-eebc19898ded', name='collab-d-885b4936-9345-43bd-880e-eebc19898ded', permissions=['DELETE', 'SUGGEST', 'CREATE', 'INVITE_FOR_REVIEW', 'INVITE_FOR_SUGGESTION', 'RELEASE_STATUS', 'READ_RELEASED', 'READ', 'WRITE', 'UNRELEASE', 'RELEASE']),\n",
       " SpaceInformation(identifier='collab-d-8913b3b2-58c6-4717-83f5-db6998c0ee3e', name='collab-d-8913b3b2-58c6-4717-83f5-db6998c0ee3e', permissions=['DELETE', 'SUGGEST', 'CREATE', 'INVITE_FOR_REVIEW', 'INVITE_FOR_SUGGESTION', 'RELEASE_STATUS', 'READ_RELEASED', 'READ', 'WRITE', 'UNRELEASE', 'RELEASE']),\n",
       " SpaceInformation(identifier='collab-d-8c17072f-ff13-4467-882c-97a02ff37838', name='collab-d-8c17072f-ff13-4467-882c-97a02ff37838', permissions=['DELETE', 'SUGGEST', 'CREATE', 'INVITE_FOR_REVIEW', 'INVITE_FOR_SUGGESTION', 'RELEASE_STATUS', 'READ_RELEASED', 'READ', 'WRITE', 'UNRELEASE', 'RELEASE']),\n",
       " SpaceInformation(identifier='collab-d-8cad5974-6ed2-42a6-a572-9e5f456bca94', name='collab-d-8cad5974-6ed2-42a6-a572-9e5f456bca94', permissions=['DELETE', 'SUGGEST', 'CREATE', 'INVITE_FOR_REVIEW', 'INVITE_FOR_SUGGESTION', 'RELEASE_STATUS', 'READ_RELEASED', 'READ', 'WRITE', 'UNRELEASE', 'RELEASE']),\n",
       " SpaceInformation(identifier='collab-d-8f249c9a-b200-4e99-9a24-311e69d894dc', name='collab-d-8f249c9a-b200-4e99-9a24-311e69d894dc', permissions=['DELETE', 'SUGGEST', 'CREATE', 'INVITE_FOR_REVIEW', 'INVITE_FOR_SUGGESTION', 'RELEASE_STATUS', 'READ_RELEASED', 'READ', 'WRITE', 'UNRELEASE', 'RELEASE']),\n",
       " SpaceInformation(identifier='collab-d-8f36d73a-befc-4aa5-b501-fc546e723f30', name='collab-d-8f36d73a-befc-4aa5-b501-fc546e723f30', permissions=['DELETE', 'SUGGEST', 'CREATE', 'INVITE_FOR_REVIEW', 'INVITE_FOR_SUGGESTION', 'RELEASE_STATUS', 'READ_RELEASED', 'READ', 'WRITE', 'UNRELEASE', 'RELEASE']),\n",
       " SpaceInformation(identifier='collab-d-8fc1c8c8-65ae-4ef8-a350-4eb0d743c4b5', name='collab-d-8fc1c8c8-65ae-4ef8-a350-4eb0d743c4b5', permissions=['DELETE', 'SUGGEST', 'CREATE', 'INVITE_FOR_REVIEW', 'INVITE_FOR_SUGGESTION', 'RELEASE_STATUS', 'READ_RELEASED', 'READ', 'WRITE', 'UNRELEASE', 'RELEASE']),\n",
       " SpaceInformation(identifier='collab-d-91c146ff-f0d9-4071-8a7a-10f336511c8d', name='collab-d-91c146ff-f0d9-4071-8a7a-10f336511c8d', permissions=['DELETE', 'SUGGEST', 'CREATE', 'INVITE_FOR_REVIEW', 'INVITE_FOR_SUGGESTION', 'RELEASE_STATUS', 'READ_RELEASED', 'READ', 'WRITE', 'UNRELEASE', 'RELEASE']),\n",
       " SpaceInformation(identifier='collab-d-96c9f2a1-c8d1-497d-a8be-9b3667c601db', name='collab-d-96c9f2a1-c8d1-497d-a8be-9b3667c601db', permissions=['DELETE', 'SUGGEST', 'CREATE', 'INVITE_FOR_REVIEW', 'INVITE_FOR_SUGGESTION', 'RELEASE_STATUS', 'READ_RELEASED', 'READ', 'WRITE', 'UNRELEASE', 'RELEASE']),\n",
       " SpaceInformation(identifier='collab-d-9a82643b-02d8-4c96-bd1c-61ee628a8ac8', name='collab-d-9a82643b-02d8-4c96-bd1c-61ee628a8ac8', permissions=['DELETE', 'SUGGEST', 'CREATE', 'INVITE_FOR_REVIEW', 'INVITE_FOR_SUGGESTION', 'RELEASE_STATUS', 'READ_RELEASED', 'READ', 'WRITE', 'UNRELEASE', 'RELEASE']),\n",
       " SpaceInformation(identifier='collab-d-9abe92b6-b778-45b6-8966-9897a6baa91e', name='collab-d-9abe92b6-b778-45b6-8966-9897a6baa91e', permissions=['DELETE', 'SUGGEST', 'CREATE', 'INVITE_FOR_REVIEW', 'INVITE_FOR_SUGGESTION', 'RELEASE_STATUS', 'READ_RELEASED', 'READ', 'WRITE', 'UNRELEASE', 'RELEASE']),\n",
       " SpaceInformation(identifier='collab-d-9b51cad5-c3a7-4996-a61d-a8aee05729eb', name='collab-d-9b51cad5-c3a7-4996-a61d-a8aee05729eb', permissions=['DELETE', 'SUGGEST', 'CREATE', 'INVITE_FOR_REVIEW', 'INVITE_FOR_SUGGESTION', 'RELEASE_STATUS', 'READ_RELEASED', 'READ', 'WRITE', 'UNRELEASE', 'RELEASE']),\n",
       " SpaceInformation(identifier='collab-d-9c654e77-7a1f-405f-91ea-832fe6168739', name='collab-d-9c654e77-7a1f-405f-91ea-832fe6168739', permissions=['DELETE', 'SUGGEST', 'CREATE', 'INVITE_FOR_REVIEW', 'INVITE_FOR_SUGGESTION', 'RELEASE_STATUS', 'READ_RELEASED', 'READ', 'WRITE']),\n",
       " SpaceInformation(identifier='collab-d-a0aec853-c6ee-4a1a-9f57-1d1925be3c52', name='collab-d-a0aec853-c6ee-4a1a-9f57-1d1925be3c52', permissions=['DELETE', 'SUGGEST', 'CREATE', 'INVITE_FOR_REVIEW', 'INVITE_FOR_SUGGESTION', 'RELEASE_STATUS', 'READ_RELEASED', 'READ', 'WRITE', 'UNRELEASE', 'RELEASE']),\n",
       " SpaceInformation(identifier='collab-d-a0f46b03-d2a3-491a-bf93-be269d717c47', name='collab-d-a0f46b03-d2a3-491a-bf93-be269d717c47', permissions=['DELETE', 'SUGGEST', 'CREATE', 'INVITE_FOR_REVIEW', 'INVITE_FOR_SUGGESTION', 'RELEASE_STATUS', 'READ_RELEASED', 'READ', 'WRITE', 'UNRELEASE', 'RELEASE']),\n",
       " SpaceInformation(identifier='collab-d-a25f722e-f9b1-4f32-80bc-37206c2d1536', name='collab-d-a25f722e-f9b1-4f32-80bc-37206c2d1536', permissions=['DELETE', 'SUGGEST', 'CREATE', 'INVITE_FOR_REVIEW', 'INVITE_FOR_SUGGESTION', 'RELEASE_STATUS', 'READ_RELEASED', 'READ', 'WRITE', 'UNRELEASE', 'RELEASE']),\n",
       " SpaceInformation(identifier='collab-d-a3d5b695-9225-4215-8406-83335d9cb03e', name='collab-d-a3d5b695-9225-4215-8406-83335d9cb03e', permissions=['DELETE', 'SUGGEST', 'CREATE', 'INVITE_FOR_REVIEW', 'INVITE_FOR_SUGGESTION', 'RELEASE_STATUS', 'READ_RELEASED', 'READ', 'WRITE', 'UNRELEASE', 'RELEASE']),\n",
       " SpaceInformation(identifier='collab-d-a41edff6-78f1-4bd0-9a19-a24a669219e1', name='collab-d-a41edff6-78f1-4bd0-9a19-a24a669219e1', permissions=['DELETE', 'SUGGEST', 'CREATE', 'INVITE_FOR_REVIEW', 'INVITE_FOR_SUGGESTION', 'RELEASE_STATUS', 'READ_RELEASED', 'READ', 'WRITE', 'UNRELEASE', 'RELEASE']),\n",
       " SpaceInformation(identifier='collab-d-abd4305f-e64a-4f17-8df2-80300f409f1d', name='collab-d-abd4305f-e64a-4f17-8df2-80300f409f1d', permissions=['DELETE', 'SUGGEST', 'CREATE', 'INVITE_FOR_REVIEW', 'INVITE_FOR_SUGGESTION', 'RELEASE_STATUS', 'READ_RELEASED', 'READ', 'WRITE', 'UNRELEASE', 'RELEASE']),\n",
       " SpaceInformation(identifier='collab-d-ae138e06-e565-4bc4-910c-b4eded3bb3c1', name='collab-d-ae138e06-e565-4bc4-910c-b4eded3bb3c1', permissions=['DELETE', 'SUGGEST', 'CREATE', 'INVITE_FOR_REVIEW', 'INVITE_FOR_SUGGESTION', 'RELEASE_STATUS', 'READ_RELEASED', 'READ', 'WRITE', 'UNRELEASE', 'RELEASE']),\n",
       " SpaceInformation(identifier='collab-d-b0d16b2c-f2bc-42c2-ab42-753bacfff0f0', name='collab-d-b0d16b2c-f2bc-42c2-ab42-753bacfff0f0', permissions=['DELETE', 'SUGGEST', 'CREATE', 'INVITE_FOR_REVIEW', 'INVITE_FOR_SUGGESTION', 'RELEASE_STATUS', 'READ_RELEASED', 'READ', 'WRITE', 'UNRELEASE', 'RELEASE']),\n",
       " SpaceInformation(identifier='collab-d-b15e035e-c8c4-4c20-a98f-b8c4a887904e', name='collab-d-b15e035e-c8c4-4c20-a98f-b8c4a887904e', permissions=['DELETE', 'SUGGEST', 'CREATE', 'INVITE_FOR_REVIEW', 'INVITE_FOR_SUGGESTION', 'RELEASE_STATUS', 'READ_RELEASED', 'READ', 'WRITE', 'UNRELEASE', 'RELEASE'])]"
      ]
     },
     "execution_count": 123,
     "metadata": {},
     "output_type": "execute_result"
    }
   ],
   "source": [
    "kg_client.spaces(200)"
   ]
  },
  {
   "cell_type": "code",
   "execution_count": 124,
   "id": "0b261b57-24a4-45cf-a0f9-e02c99dc4c35",
   "metadata": {
    "collapsed": true,
    "jupyter": {
     "outputs_hidden": true
    },
    "tags": []
   },
   "outputs": [
    {
     "name": "stdout",
     "output_type": "stream",
     "text": [
      "Help on method spaces in module fairgraph.client:\n",
      "\n",
      "spaces(permissions: 'Optional[Iterable[str]]' = None, names_only: 'bool' = False) -> 'Union[List[str], List[SpaceInformation]]' method of fairgraph.client.KGClient instance\n",
      "\n"
     ]
    }
   ],
   "source": [
    "help(kg_client.spaces)"
   ]
  },
  {
   "cell_type": "code",
   "execution_count": 114,
   "id": "7a2886d4-dd7d-4668-8cb6-c00aeea4cbef",
   "metadata": {
    "collapsed": true,
    "jupyter": {
     "outputs_hidden": true
    },
    "tags": []
   },
   "outputs": [
    {
     "name": "stdout",
     "output_type": "stream",
     "text": [
      "Help on method list in module fairgraph.client:\n",
      "\n",
      "list(target_type: 'str', space: 'Optional[str]' = None, from_index: 'int' = 0, size: 'int' = 100, scope: 'str' = 'released') -> 'ResultPage[JsonLdDocument]' method of fairgraph.client.KGClient instance\n",
      "    List KG instances of a given type.\n",
      "    \n",
      "    Args:\n",
      "        target_type: The URI if the instance type to list.\n",
      "        space: If specified, restricts the search to the given space.\n",
      "        from_index: The index of the first result to include in the response.\n",
      "        size: The maximum number of results to include in the response.\n",
      "        scope: The scope of instances to include in the response. Valid values are\n",
      "               'released', 'in progress', 'any'. If 'any' is specified, all accessible instances\n",
      "               are included in the response, but this may be slow where there are large numbers of instances.\n",
      "    \n",
      "    Returns:\n",
      "        A ResultPage object containing the list of JSON-LD instances,\n",
      "        along with metadata about the query results such as total number of instances, and pagination information.\n",
      "\n"
     ]
    }
   ],
   "source": [
    "help(kg_client.list)"
   ]
  },
  {
   "cell_type": "code",
   "execution_count": 122,
   "id": "e96338b8-8091-4507-a754-5af2fafb8698",
   "metadata": {},
   "outputs": [
    {
     "data": {
      "text/plain": [
       "{}"
      ]
     },
     "execution_count": 122,
     "metadata": {},
     "output_type": "execute_result"
    }
   ],
   "source": [
    "kg_client.space_info(\"myspace\")"
   ]
  },
  {
   "cell_type": "code",
   "execution_count": 127,
   "id": "01f4face-fddb-4c64-8ef2-3a4050fe693d",
   "metadata": {
    "collapsed": true,
    "jupyter": {
     "outputs_hidden": true
    },
    "tags": []
   },
   "outputs": [
    {
     "data": {
      "text/plain": [
       "['AccountInformation',\n",
       " 'Affiliation',\n",
       " 'BehavioralProtocol',\n",
       " 'Comment',\n",
       " 'Configuration',\n",
       " 'Consortium',\n",
       " 'ContactInformation',\n",
       " 'ContentType',\n",
       " 'ContentTypePattern',\n",
       " 'Contribution',\n",
       " 'Copyright',\n",
       " 'CustomPropertySet',\n",
       " 'DOI',\n",
       " 'Dataset',\n",
       " 'DatasetVersion',\n",
       " 'EmbeddedMetadata',\n",
       " 'File',\n",
       " 'FileArchive',\n",
       " 'FileBundle',\n",
       " 'FilePathPattern',\n",
       " 'FileRepository',\n",
       " 'FileRepositoryStructure',\n",
       " 'Funding',\n",
       " 'GRIDID',\n",
       " 'HANDLE',\n",
       " 'Hash',\n",
       " 'ISBN',\n",
       " 'ISSN',\n",
       " 'IdentifiersDotOrgID',\n",
       " 'KGObject',\n",
       " 'License',\n",
       " 'Measurement',\n",
       " 'MetaDataModel',\n",
       " 'MetaDataModelVersion',\n",
       " 'Model',\n",
       " 'ModelVersion',\n",
       " 'NumericalProperty',\n",
       " 'ORCID',\n",
       " 'Organization',\n",
       " 'Person',\n",
       " 'Project',\n",
       " 'PropertyValueList',\n",
       " 'Protocol',\n",
       " 'ProtocolExecution',\n",
       " 'QuantitativeValue',\n",
       " 'QuantitativeValueArray',\n",
       " 'QuantitativeValueRange',\n",
       " 'RORID',\n",
       " 'RRID',\n",
       " 'ResearchProductGroup',\n",
       " 'SWHID',\n",
       " 'ServiceLink',\n",
       " 'Setup',\n",
       " 'Software',\n",
       " 'SoftwareVersion',\n",
       " 'StockNumber',\n",
       " 'Strain',\n",
       " 'StringProperty',\n",
       " 'Subject',\n",
       " 'SubjectGroup',\n",
       " 'SubjectGroupState',\n",
       " 'SubjectState',\n",
       " 'TissueSample',\n",
       " 'TissueSampleCollection',\n",
       " 'TissueSampleCollectionState',\n",
       " 'TissueSampleState',\n",
       " 'WebResource',\n",
       " 'WebService',\n",
       " 'WebServiceVersion',\n",
       " '__builtins__',\n",
       " '__cached__',\n",
       " '__doc__',\n",
       " '__file__',\n",
       " '__loader__',\n",
       " '__name__',\n",
       " '__package__',\n",
       " '__path__',\n",
       " '__spec__',\n",
       " 'actors',\n",
       " 'data',\n",
       " 'digital_identifier',\n",
       " 'inspect',\n",
       " 'list_embedded_metadata_classes',\n",
       " 'list_kg_classes',\n",
       " 'miscellaneous',\n",
       " 'products',\n",
       " 'research',\n",
       " 'set_error_handling',\n",
       " 'sys']"
      ]
     },
     "execution_count": 127,
     "metadata": {},
     "output_type": "execute_result"
    }
   ],
   "source": [
    "dir(core)"
   ]
  },
  {
   "cell_type": "code",
   "execution_count": 133,
   "id": "706817ef-c407-442a-9ab3-e9fa74b17508",
   "metadata": {
    "collapsed": true,
    "jupyter": {
     "outputs_hidden": true
    },
    "tags": []
   },
   "outputs": [
    {
     "name": "stdout",
     "output_type": "stream",
     "text": [
      "Help on class DatasetVersion in module fairgraph.openminds.core.products.dataset_version:\n",
      "\n",
      "class DatasetVersion(fairgraph.kgobject.KGObject)\n",
      " |  DatasetVersion(name=None, alias=None, accessibility=None, authors=None, behavioral_protocols=None, comments=None, copyright=None, custodians=None, data_types=None, description=None, digital_identifier=None, ethics_assessment=None, experimental_approaches=None, full_documentation=None, full_name=None, funding=None, has_parts=None, homepage=None, how_to_cite=None, input_data=None, is_alternative_version_of=None, is_input_to=None, is_new_version_of=None, is_old_version_of=None, is_part_of=None, is_version_of=None, keywords=None, learning_resources=None, license=None, other_contributions=None, preparation_designs=None, protocols=None, publication=None, related_publications=None, release_date=None, repository=None, short_name=None, studied_specimens=None, study_targets=None, support_channels=None, techniques=None, version_identifier=None, version_innovation=None, id=None, data=None, space=None, scope=None)\n",
      " |  \n",
      " |  Structured information on data originating from human/animal studies or simulations (version level).\n",
      " |  \n",
      " |  Args\n",
      " |  ----\n",
      " |  accessibility : ~fairgraph.openminds.controlled_terms.product_accessibility.ProductAccessibility\n",
      " |      Level to which something is accessible to the dataset version.\n",
      " |  authors : ~fairgraph.openminds.core.actors.consortium.Consortium, ~fairgraph.openminds.core.actors.organization.Organization, ~fairgraph.openminds.core.actors.person.Person\n",
      " |      Creator of a literary or creative work, as well as a dataset publication.\n",
      " |  behavioral_protocols : ~fairgraph.openminds.core.research.behavioral_protocol.BehavioralProtocol\n",
      " |      no description available\n",
      " |  copyright : ~fairgraph.openminds.core.data.copyright.Copyright\n",
      " |      Exclusive and assignable legal right of an originator to reproduce, publish, sell, or distribute the matter and form of a creative work for a defined time period.\n",
      " |  custodians : ~fairgraph.openminds.core.actors.consortium.Consortium, ~fairgraph.openminds.core.actors.organization.Organization, ~fairgraph.openminds.core.actors.person.Person\n",
      " |      The 'custodian' is a legal person who is responsible for the content and quality of the data, metadata, and/or code of a research product.\n",
      " |  data_types : ~fairgraph.openminds.controlled_terms.semantic_data_type.SemanticDataType\n",
      " |      no description available\n",
      " |  description : str\n",
      " |      Longer statement or account giving the characteristics of the dataset version.\n",
      " |  digital_identifier : ~fairgraph.openminds.core.digital_identifier.doi.DOI, ~fairgraph.openminds.core.digital_identifier.identifiers_dot_org_id.IdentifiersDotOrgID\n",
      " |      Digital handle to identify objects or legal persons.\n",
      " |  ethics_assessment : ~fairgraph.openminds.controlled_terms.ethics_assessment.EthicsAssessment\n",
      " |      Judgment about the applied principles of conduct governing an individual or a group.\n",
      " |  experimental_approaches : ~fairgraph.openminds.controlled_terms.experimental_approach.ExperimentalApproach\n",
      " |      no description available\n",
      " |  full_documentation : ~fairgraph.openminds.core.digital_identifier.doi.DOI, ~fairgraph.openminds.core.data.file.File, ~fairgraph.openminds.core.digital_identifier.isbn.ISBN, ~fairgraph.openminds.core.miscellaneous.web_resource.WebResource\n",
      " |      Non-abridged instructions, comments, and information for using a particular product.\n",
      " |  full_name : str\n",
      " |      Whole, non-abbreviated name of the dataset version.\n",
      " |  funding : ~fairgraph.openminds.core.miscellaneous.funding.Funding\n",
      " |      Money provided by a legal person for a particular purpose.\n",
      " |  homepage : ~fairgraph.base.IRI\n",
      " |      Main website of the dataset version.\n",
      " |  how_to_cite : str\n",
      " |      Preferred format for citing a particular object or legal person.\n",
      " |  input_data : ~fairgraph.openminds.core.digital_identifier.doi.DOI, ~fairgraph.openminds.core.data.file.File, ~fairgraph.openminds.core.data.file_bundle.FileBundle, ~fairgraph.openminds.core.miscellaneous.web_resource.WebResource, ~fairgraph.openminds.sands.atlas.brain_atlas.BrainAtlas, ~fairgraph.openminds.sands.atlas.brain_atlas_version.BrainAtlasVersion, ~fairgraph.openminds.sands.atlas.common_coordinate_space.CommonCoordinateSpace, ~fairgraph.openminds.sands.atlas.common_coordinate_space_version.CommonCoordinateSpaceVersion\n",
      " |      Data that is put into a process or machine.\n",
      " |  is_alternative_version_of : ~fairgraph.openminds.core.products.dataset_version.DatasetVersion\n",
      " |      Reference to an original form where the essence was preserved, but presented in an alternative form.\n",
      " |  is_new_version_of : ~fairgraph.openminds.core.products.dataset_version.DatasetVersion\n",
      " |      Reference to a previous (potentially outdated) particular form of something.\n",
      " |  keywords : ~fairgraph.openminds.controlled_terms.action_status_type.ActionStatusType, ~fairgraph.openminds.controlled_terms.age_category.AgeCategory, ~fairgraph.openminds.controlled_terms.analysis_technique.AnalysisTechnique, ~fairgraph.openminds.controlled_terms.anatomical_axes_orientation.AnatomicalAxesOrientation, ~fairgraph.openminds.controlled_terms.anatomical_identification_type.AnatomicalIdentificationType, ~fairgraph.openminds.controlled_terms.anatomical_plane.AnatomicalPlane, ~fairgraph.openminds.controlled_terms.annotation_criteria_type.AnnotationCriteriaType, ~fairgraph.openminds.controlled_terms.annotation_type.AnnotationType, ~fairgraph.openminds.controlled_terms.atlas_type.AtlasType, ~fairgraph.openminds.controlled_terms.auditory_stimulus_type.AuditoryStimulusType, ~fairgraph.openminds.controlled_terms.biological_order.BiologicalOrder, ~fairgraph.openminds.controlled_terms.biological_process.BiologicalProcess, ~fairgraph.openminds.controlled_terms.biological_sex.BiologicalSex, ~fairgraph.openminds.controlled_terms.breeding_type.BreedingType, ~fairgraph.openminds.controlled_terms.cell_culture_type.CellCultureType, ~fairgraph.openminds.controlled_terms.cell_type.CellType, ~fairgraph.openminds.controlled_terms.chemical_mixture_type.ChemicalMixtureType, ~fairgraph.openminds.controlled_terms.colormap.Colormap, ~fairgraph.openminds.controlled_terms.contribution_type.ContributionType, ~fairgraph.openminds.controlled_terms.cranial_window_construction_type.CranialWindowConstructionType, ~fairgraph.openminds.controlled_terms.cranial_window_reinforcement_type.CranialWindowReinforcementType, ~fairgraph.openminds.controlled_terms.criteria_quality_type.CriteriaQualityType, ~fairgraph.openminds.controlled_terms.data_type.DataType, ~fairgraph.openminds.controlled_terms.device_type.DeviceType, ~fairgraph.openminds.controlled_terms.difference_measure.DifferenceMeasure, ~fairgraph.openminds.controlled_terms.disease.Disease, ~fairgraph.openminds.controlled_terms.disease_model.DiseaseModel, ~fairgraph.openminds.controlled_terms.educational_level.EducationalLevel, ~fairgraph.openminds.controlled_terms.electrical_stimulus_type.ElectricalStimulusType, ~fairgraph.openminds.controlled_terms.ethics_assessment.EthicsAssessment, ~fairgraph.openminds.controlled_terms.experimental_approach.ExperimentalApproach, ~fairgraph.openminds.controlled_terms.file_bundle_grouping.FileBundleGrouping, ~fairgraph.openminds.controlled_terms.file_repository_type.FileRepositoryType, ~fairgraph.openminds.controlled_terms.file_usage_role.FileUsageRole, ~fairgraph.openminds.controlled_terms.genetic_strain_type.GeneticStrainType, ~fairgraph.openminds.controlled_terms.gustatory_stimulus_type.GustatoryStimulusType, ~fairgraph.openminds.controlled_terms.handedness.Handedness, ~fairgraph.openminds.controlled_terms.language.Language, ~fairgraph.openminds.controlled_terms.laterality.Laterality, ~fairgraph.openminds.controlled_terms.learning_resource_type.LearningResourceType, ~fairgraph.openminds.controlled_terms.mri_pulse_sequence.MRIPulseSequence, ~fairgraph.openminds.controlled_terms.mri_weighting.MRIWeighting, ~fairgraph.openminds.controlled_terms.measured_quantity.MeasuredQuantity, ~fairgraph.openminds.controlled_terms.measured_signal_type.MeasuredSignalType, ~fairgraph.openminds.controlled_terms.meta_data_model_type.MetaDataModelType, ~fairgraph.openminds.controlled_terms.model_abstraction_level.ModelAbstractionLevel, ~fairgraph.openminds.controlled_terms.model_scope.ModelScope, ~fairgraph.openminds.controlled_terms.molecular_entity.MolecularEntity, ~fairgraph.openminds.controlled_terms.olfactory_stimulus_type.OlfactoryStimulusType, ~fairgraph.openminds.controlled_terms.operating_device.OperatingDevice, ~fairgraph.openminds.controlled_terms.operating_system.OperatingSystem, ~fairgraph.openminds.controlled_terms.optical_stimulus_type.OpticalStimulusType, ~fairgraph.openminds.controlled_terms.organ.Organ, ~fairgraph.openminds.controlled_terms.organism_substance.OrganismSubstance, ~fairgraph.openminds.controlled_terms.organism_system.OrganismSystem, ~fairgraph.openminds.controlled_terms.patch_clamp_variation.PatchClampVariation, ~fairgraph.openminds.controlled_terms.preparation_type.PreparationType, ~fairgraph.openminds.controlled_terms.product_accessibility.ProductAccessibility, ~fairgraph.openminds.controlled_terms.programming_language.ProgrammingLanguage, ~fairgraph.openminds.controlled_terms.qualitative_overlap.QualitativeOverlap, ~fairgraph.openminds.controlled_terms.semantic_data_type.SemanticDataType, ~fairgraph.openminds.controlled_terms.service.Service, ~fairgraph.openminds.controlled_terms.setup_type.SetupType, ~fairgraph.openminds.controlled_terms.software_application_category.SoftwareApplicationCategory, ~fairgraph.openminds.controlled_terms.software_feature.SoftwareFeature, ~fairgraph.openminds.controlled_terms.species.Species, ~fairgraph.openminds.controlled_terms.stimulation_approach.StimulationApproach, ~fairgraph.openminds.controlled_terms.stimulation_technique.StimulationTechnique, ~fairgraph.openminds.controlled_terms.subcellular_entity.SubcellularEntity, ~fairgraph.openminds.controlled_terms.subject_attribute.SubjectAttribute, ~fairgraph.openminds.controlled_terms.tactile_stimulus_type.TactileStimulusType, ~fairgraph.openminds.controlled_terms.technique.Technique, ~fairgraph.openminds.controlled_terms.term_suggestion.TermSuggestion, ~fairgraph.openminds.controlled_terms.terminology.Terminology, ~fairgraph.openminds.controlled_terms.tissue_sample_attribute.TissueSampleAttribute, ~fairgraph.openminds.controlled_terms.tissue_sample_type.TissueSampleType, ~fairgraph.openminds.controlled_terms.type_of_uncertainty.TypeOfUncertainty, ~fairgraph.openminds.controlled_terms.uberon_parcellation.UBERONParcellation, ~fairgraph.openminds.controlled_terms.unit_of_measurement.UnitOfMeasurement, ~fairgraph.openminds.controlled_terms.visual_stimulus_type.VisualStimulusType\n",
      " |      Significant word or concept that are representative of the dataset version.\n",
      " |  license : ~fairgraph.openminds.core.data.license.License, ~fairgraph.openminds.core.miscellaneous.web_resource.WebResource\n",
      " |      Grant by a party to another party as an element of an agreement between those parties that permits to do, use, or own something.\n",
      " |  other_contributions : ~fairgraph.openminds.core.actors.contribution.Contribution\n",
      " |      Giving or supplying of something (such as money or time) as a part or share other than what is covered elsewhere.\n",
      " |  preparation_designs : ~fairgraph.openminds.controlled_terms.preparation_type.PreparationType\n",
      " |      no description available\n",
      " |  protocols : ~fairgraph.openminds.core.research.protocol.Protocol\n",
      " |      Plan that describes the process of a scientific or medical experiment, treatment, or procedure.\n",
      " |  related_publications : ~fairgraph.openminds.core.digital_identifier.doi.DOI, ~fairgraph.openminds.core.digital_identifier.handle.HANDLE, ~fairgraph.openminds.core.digital_identifier.isbn.ISBN, ~fairgraph.openminds.core.digital_identifier.issn.ISSN, ~fairgraph.openminds.publications.book.Book, ~fairgraph.openminds.publications.chapter.Chapter, ~fairgraph.openminds.publications.scholarly_article.ScholarlyArticle\n",
      " |      Reference to something that was made available for the general public to see or buy.\n",
      " |  release_date : ~datetime.date\n",
      " |      Fixed date on which a product is due to become or was made available for the general public to see or buy\n",
      " |  repository : ~fairgraph.openminds.core.data.file_repository.FileRepository\n",
      " |      Place, room, or container where something is deposited or stored.\n",
      " |  short_name : str\n",
      " |      Shortened or fully abbreviated name of the dataset version.\n",
      " |  studied_specimens : ~fairgraph.openminds.core.research.subject.Subject, ~fairgraph.openminds.core.research.subject_group.SubjectGroup, ~fairgraph.openminds.core.research.tissue_sample.TissueSample, ~fairgraph.openminds.core.research.tissue_sample_collection.TissueSampleCollection\n",
      " |      no description available\n",
      " |  study_targets : ~fairgraph.openminds.controlled_terms.auditory_stimulus_type.AuditoryStimulusType, ~fairgraph.openminds.controlled_terms.biological_order.BiologicalOrder, ~fairgraph.openminds.controlled_terms.biological_sex.BiologicalSex, ~fairgraph.openminds.controlled_terms.breeding_type.BreedingType, ~fairgraph.openminds.controlled_terms.cell_culture_type.CellCultureType, ~fairgraph.openminds.controlled_terms.cell_type.CellType, ~fairgraph.openminds.controlled_terms.disease.Disease, ~fairgraph.openminds.controlled_terms.disease_model.DiseaseModel, ~fairgraph.openminds.controlled_terms.electrical_stimulus_type.ElectricalStimulusType, ~fairgraph.openminds.controlled_terms.genetic_strain_type.GeneticStrainType, ~fairgraph.openminds.controlled_terms.gustatory_stimulus_type.GustatoryStimulusType, ~fairgraph.openminds.controlled_terms.handedness.Handedness, ~fairgraph.openminds.controlled_terms.molecular_entity.MolecularEntity, ~fairgraph.openminds.controlled_terms.olfactory_stimulus_type.OlfactoryStimulusType, ~fairgraph.openminds.controlled_terms.optical_stimulus_type.OpticalStimulusType, ~fairgraph.openminds.controlled_terms.organ.Organ, ~fairgraph.openminds.controlled_terms.organism_substance.OrganismSubstance, ~fairgraph.openminds.controlled_terms.organism_system.OrganismSystem, ~fairgraph.openminds.controlled_terms.species.Species, ~fairgraph.openminds.controlled_terms.subcellular_entity.SubcellularEntity, ~fairgraph.openminds.controlled_terms.tactile_stimulus_type.TactileStimulusType, ~fairgraph.openminds.controlled_terms.term_suggestion.TermSuggestion, ~fairgraph.openminds.controlled_terms.tissue_sample_type.TissueSampleType, ~fairgraph.openminds.controlled_terms.uberon_parcellation.UBERONParcellation, ~fairgraph.openminds.controlled_terms.visual_stimulus_type.VisualStimulusType, ~fairgraph.openminds.sands.non_atlas.custom_anatomical_entity.CustomAnatomicalEntity, ~fairgraph.openminds.sands.atlas.parcellation_entity.ParcellationEntity, ~fairgraph.openminds.sands.atlas.parcellation_entity_version.ParcellationEntityVersion\n",
      " |      Structure or function that was targeted within a study.\n",
      " |  support_channels : str\n",
      " |      Way of communication used to interact with users or customers.\n",
      " |  techniques : ~fairgraph.openminds.controlled_terms.analysis_technique.AnalysisTechnique, ~fairgraph.openminds.controlled_terms.mri_pulse_sequence.MRIPulseSequence, ~fairgraph.openminds.controlled_terms.mri_weighting.MRIWeighting, ~fairgraph.openminds.controlled_terms.stimulation_approach.StimulationApproach, ~fairgraph.openminds.controlled_terms.stimulation_technique.StimulationTechnique, ~fairgraph.openminds.controlled_terms.technique.Technique\n",
      " |      Method of accomplishing a desired aim.\n",
      " |  version_identifier : str\n",
      " |      Term or code used to identify the version of something.\n",
      " |  version_innovation : str\n",
      " |      Documentation on what changed in comparison to a previously published form of something.\n",
      " |  comments : ~fairgraph.openminds.core.miscellaneous.comment.Comment\n",
      " |      reverse of 'about'\n",
      " |  has_parts : ~fairgraph.openminds.core.research.protocol_execution.ProtocolExecution, ~fairgraph.openminds.ephys.activity.cell_patching.CellPatching, ~fairgraph.openminds.ephys.activity.electrode_placement.ElectrodePlacement, ~fairgraph.openminds.ephys.activity.recording_activity.RecordingActivity, ~fairgraph.openminds.specimen_prep.activity.cranial_window_preparation.CranialWindowPreparation, ~fairgraph.openminds.specimen_prep.activity.tissue_culture_preparation.TissueCulturePreparation, ~fairgraph.openminds.specimen_prep.activity.tissue_sample_slicing.TissueSampleSlicing, ~fairgraph.openminds.stimulation.activity.stimulation_activity.StimulationActivity\n",
      " |      reverse of 'is_part_of'\n",
      " |  is_input_to : ~fairgraph.openminds.computation.data_copy.DataCopy\n",
      " |      reverse of 'inputs'\n",
      " |  is_old_version_of : ~fairgraph.openminds.core.products.dataset_version.DatasetVersion\n",
      " |      reverse of 'is_new_version_of'\n",
      " |  is_part_of : ~fairgraph.openminds.core.products.project.Project, ~fairgraph.openminds.core.miscellaneous.research_product_group.ResearchProductGroup\n",
      " |      reverse of 'has_parts'\n",
      " |  is_version_of : ~fairgraph.openminds.core.products.dataset.Dataset\n",
      " |      reverse of 'has_versions'\n",
      " |  learning_resources : ~fairgraph.openminds.publications.learning_resource.LearningResource\n",
      " |      reverse of 'about'\n",
      " |  publication : ~fairgraph.openminds.publications.live_paper_version.LivePaperVersion\n",
      " |      reverse of 'about'\n",
      " |  \n",
      " |  Method resolution order:\n",
      " |      DatasetVersion\n",
      " |      fairgraph.kgobject.KGObject\n",
      " |      fairgraph.base.ContainsMetadata\n",
      " |      fairgraph.base.RepresentsSingleObject\n",
      " |      fairgraph.base.Resolvable\n",
      " |      fairgraph.base.SupportsQuerying\n",
      " |      builtins.object\n",
      " |  \n",
      " |  Methods defined here:\n",
      " |  \n",
      " |  __init__(self, name=None, alias=None, accessibility=None, authors=None, behavioral_protocols=None, comments=None, copyright=None, custodians=None, data_types=None, description=None, digital_identifier=None, ethics_assessment=None, experimental_approaches=None, full_documentation=None, full_name=None, funding=None, has_parts=None, homepage=None, how_to_cite=None, input_data=None, is_alternative_version_of=None, is_input_to=None, is_new_version_of=None, is_old_version_of=None, is_part_of=None, is_version_of=None, keywords=None, learning_resources=None, license=None, other_contributions=None, preparation_designs=None, protocols=None, publication=None, related_publications=None, release_date=None, repository=None, short_name=None, studied_specimens=None, study_targets=None, support_channels=None, techniques=None, version_identifier=None, version_innovation=None, id=None, data=None, space=None, scope=None)\n",
      " |      Initialize self.  See help(type(self)) for accurate signature.\n",
      " |  \n",
      " |  download(self, local_path, client, accept_terms_of_use=False)\n",
      " |  \n",
      " |  ----------------------------------------------------------------------\n",
      " |  Data and other attributes defined here:\n",
      " |  \n",
      " |  __annotations__ = {}\n",
      " |  \n",
      " |  aliases = {'alias': 'short_name', 'name': 'full_name'}\n",
      " |  \n",
      " |  context = {'core': 'https://openminds.ebrains.eu/core/', 'kg': 'https:...\n",
      " |  \n",
      " |  default_space = 'dataset'\n",
      " |  \n",
      " |  existence_query_properties = ('short_name', 'version_identifier')\n",
      " |  \n",
      " |  properties = [Property(name='accessibility', types=(<class 'fa...ab:ac...\n",
      " |  \n",
      " |  reverse_properties = [Property(name='comments', types=(<class 'fairgra...\n",
      " |  \n",
      " |  type_ = 'https://openminds.ebrains.eu/core/DatasetVersion'\n",
      " |  \n",
      " |  ----------------------------------------------------------------------\n",
      " |  Methods inherited from fairgraph.kgobject.KGObject:\n",
      " |  \n",
      " |  __eq__(self, other)\n",
      " |      Return self==value.\n",
      " |  \n",
      " |  __ne__(self, other)\n",
      " |      Return self!=value.\n",
      " |  \n",
      " |  __repr__(self)\n",
      " |      Return repr(self).\n",
      " |  \n",
      " |  children(self, client: 'KGClient', follow_links: 'Optional[Dict[str, Any]]' = None) -> 'List[RepresentsSingleObject]'\n",
      " |      Return a list of child objects.\n",
      " |  \n",
      " |  delete(self, client: 'KGClient', ignore_not_found: 'bool' = True)\n",
      " |      Delete the current metadata object from the KG.\n",
      " |      \n",
      " |      If `ignore_not_found` is False, an exception will be raised if the object does\n",
      " |      not exist. Otherwise, the method will finish silently.\n",
      " |  \n",
      " |  diff(self, other)\n",
      " |      Return a dictionary containing the differences between two metadata objects.\n",
      " |  \n",
      " |  exists(self, client: 'KGClient', ignore_duplicates: 'bool' = False, in_spaces: 'Optional[List[str]]' = None) -> 'bool'\n",
      " |      Check if this object already exists in the KnowledgeGraph\n",
      " |  \n",
      " |  export(self, path: 'str', single_file: 'bool' = False)\n",
      " |      Export metadata as files in JSON-LD format.\n",
      " |      \n",
      " |      If any objects do not have IDs, these will be generated.\n",
      " |      \n",
      " |      If `single_file` is False, then `path` must be the path to a directory,\n",
      " |      and each object will be exported as a file named for the object ID.\n",
      " |      \n",
      " |      If `single_file` is True, then `path` should be the path to a file\n",
      " |      with extension \".jsonld\". This file will contain metadata for all objects.\n",
      " |  \n",
      " |  modified_data(self) -> 'JSONdict'\n",
      " |      Return a dict containing the properties that have been modified locally\n",
      " |      from the values originally obtained from the Knowledge Graph.\n",
      " |  \n",
      " |  save(self, client: 'KGClient', space: 'Optional[str]' = None, recursive: 'bool' = True, activity_log: 'Optional[ActivityLog]' = None, replace: 'bool' = False, ignore_auth_errors: 'bool' = False, ignore_duplicates: 'bool' = False)\n",
      " |      Store the current object in the Knowledge Graph, either updating an existing instance\n",
      " |      or creating a new one as appropriate.\n",
      " |      \n",
      " |      Args:\n",
      " |          client: KGClient object that handles the communication with the KG.\n",
      " |          space (str, optional): The KG space to save the object in. If not provided, a default space is used depending on the object type.\n",
      " |          recursive (bool, optional): Whether to recursively save any children of this object. Defaults to True.\n",
      " |          activity_log (ActivityLog, optional): An `ActivityLog` instance to log the operations performed during the save operation.\n",
      " |              This is particularly helpful with `recursive=True`.\n",
      " |          replace (bool, optional): Whether to completely replace an existing KG instance with this one, or just update the existing object\n",
      " |              with any modified properties. Defaults to False.\n",
      " |          ignore_auth_errors (bool, optional): Whether to continue silently when encountering authentication errors. Defaults to False.\n",
      " |      \n",
      " |      Raises:\n",
      " |          - An `AuthorizationError` if the current user is not authorized to perform the requested operation.\n",
      " |  \n",
      " |  show(self, max_width: 'Optional[int]' = None, include_empty_properties=False)\n",
      " |      Print a table showing the metadata contained in this object.\n",
      " |  \n",
      " |  ----------------------------------------------------------------------\n",
      " |  Class methods inherited from fairgraph.kgobject.KGObject:\n",
      " |  \n",
      " |  by_name(name: 'str', client: 'KGClient', match: 'str' = 'equals', all: 'bool' = False, space: 'Optional[str]' = None, scope: 'str' = 'released', follow_links: 'Optional[Dict[str, Any]]' = None) -> 'Union[KGObject, List[KGObject], None]'\n",
      " |      Retrieve an instance from the Knowledge Graph based on its name.\n",
      " |      \n",
      " |      Note that not all metadata classes have a name property.\n",
      " |      \n",
      " |      Args:\n",
      " |          name (str): a string to search for in the name property.\n",
      " |          client: a KGClient\n",
      " |          match (str, optional): either \"equals\" (exact match - default) or \"contains\".\n",
      " |          all (bool, optional): Whether to return all objects that match the name, or only the first. Defaults to False.\n",
      " |          space (str, optional): the KG space to search in. Default is to search in all available spaces.\n",
      " |          scope (str, optional): The scope of the search. Valid values are \"released\", \"in progress\", or \"any\".\n",
      " |              Defaults to \"released\".\n",
      " |          follow_links (dict): The links in the graph to follow. Defaults to None.\n",
      " |  \n",
      " |  count(client: 'KGClient', api: 'str' = 'auto', scope: 'str' = 'released', space: 'Optional[str]' = None, **filters) -> 'int'\n",
      " |      Count the number of objects of a given type and (optionally) matching a given set of filters.\n",
      " |      \n",
      " |      Args:\n",
      " |          client: KGClient object that handles the communication with the KG.\n",
      " |          api (str): The KG API to use for the query. Can be 'query', 'core', or 'auto'. Default is 'auto'.\n",
      " |          scope (str, optional): The scope to use for the query. Can be 'released', 'in progress', or 'all'. Default is 'released'.\n",
      " |          space (str, optional): The KG space to be queried. If not specified, results from all accessible spaces will be counted.\n",
      " |          filters: Optional keyword arguments representing filters to apply to the query.\n",
      " |      \n",
      " |      Returns:\n",
      " |          The number of instances of this class in the given space that would match the given filters,\n",
      " |          or the total number of instances if no filters are provided.\n",
      " |      \n",
      " |      Raises:\n",
      " |          ValueError: If invalid arguments are passed to the method.\n",
      " |          NotImplementedError: If 'follow_links' is used with api='core'.\n",
      " |      \n",
      " |      Example:\n",
      " |      \n",
      " |          >>> from fairgraph import KGClient\n",
      " |          >>> import fairgraph.openminds.controlled_terms as terms\n",
      " |          >>> terms.CellType.count(client, name=\"interneuron\")\n",
      " |          8\n",
      " |  \n",
      " |  from_alias(alias: 'str', client: 'KGClient', space: 'Optional[str]' = None, scope: 'str' = 'released', follow_links: 'Optional[Dict[str, Any]]' = None)\n",
      " |      Retrieve an instance from the Knowledge Graph based on its alias/short name.\n",
      " |      \n",
      " |      Note that not all metadata classes have an alias.\n",
      " |      \n",
      " |      Args:\n",
      " |          alias (str): a short name used to identify a KG instance.\n",
      " |          client: a KGClient\n",
      " |          space (str, optional): the KG space to look in. Default is to look in all available spaces.\n",
      " |          scope (str, optional): The scope of the lookup. Valid values are \"released\", \"in progress\", or \"any\".\n",
      " |              Defaults to \"released\".\n",
      " |          follow_links (dict): The links in the graph to follow. Defaults to None.\n",
      " |  \n",
      " |  from_id(id: 'str', client: 'KGClient', use_cache: 'bool' = True, scope: 'str' = 'released', follow_links: 'Optional[Dict[str, Any]]' = None)\n",
      " |      Retrieve an instance from the Knowledge Graph based on either its URI or UUID.\n",
      " |      \n",
      " |      Args:\n",
      " |          id (str): short-form (UUID) or long-form (URI) identifier for the KG instance.\n",
      " |          client: a KGClient\n",
      " |          scope (str, optional): The scope of the lookup. Valid values are \"released\", \"in progress\", or \"any\".\n",
      " |              Defaults to \"released\".\n",
      " |          use_cache (bool): Whether to use cached data if they exist. Defaults to True.\n",
      " |          follow_links (dict): The links in the graph to follow. Defaults to None.\n",
      " |      \n",
      " |      Returns:\n",
      " |          Either a KGObject of the correct type, or None.\n",
      " |          A return value of None means either the object doesn't exist\n",
      " |          or the user doesn't have permission to access it.\n",
      " |  \n",
      " |  from_kg_instance(data: 'JSONdict', client: 'KGClient', scope: 'Optional[str]' = None)\n",
      " |      Create an instance of the class from a JSON-LD document.\n",
      " |  \n",
      " |  from_uri(uri: 'str', client: 'KGClient', use_cache: 'bool' = True, scope: 'str' = 'released', follow_links: 'Optional[Dict[str, Any]]' = None)\n",
      " |      Retrieve an instance from the Knowledge Graph based on its URI.\n",
      " |      \n",
      " |      Args:\n",
      " |          uri (str): long-form identifier for the KG instance (a full URI)\n",
      " |          client: a KGClient\n",
      " |          scope (str, optional): The scope of the lookup. Valid values are \"released\", \"in progress\", or \"any\".\n",
      " |              Defaults to \"released\".\n",
      " |          use_cache (bool): Whether to use cached data if they exist. Defaults to True.\n",
      " |          follow_links (dict): The links in the graph to follow. Defaults to None.\n",
      " |  \n",
      " |  from_uuid(uuid: 'str', client: 'KGClient', use_cache: 'bool' = True, scope: 'str' = 'released', follow_links: 'Optional[Dict[str, Any]]' = None)\n",
      " |      Retrieve an instance from the Knowledge Graph based on its UUID.\n",
      " |      \n",
      " |      Args:\n",
      " |          uuid (str): short-form identifier for the KG instance (a UUID).\n",
      " |          client: a KGClient\n",
      " |          scope (str, optional): The scope of the lookup. Valid values are \"released\", \"in progress\", or \"any\".\n",
      " |              Defaults to \"released\".\n",
      " |          use_cache (bool): Whether to use cached data if they exist. Defaults to True.\n",
      " |          follow_links (dict): The links in the graph to follow. Defaults to None.\n",
      " |  \n",
      " |  generate_minimal_query(client: 'KGClient', filters: 'Optional[Dict[str, Any]]' = None, label: 'Optional[str]' = None) -> 'Union[Dict[str, Any], None]'\n",
      " |      Generate a minimal KG query definition as a JSON-LD document.\n",
      " |      Such a query returns only the @id of any instances that are found.\n",
      " |      \n",
      " |      Args:\n",
      " |          client: KGClient object that handles the communication with the KG.\n",
      " |          filters (dict): A dictonary defining search parameters for the query.\n",
      " |          label (str, optional): a label for the query\n",
      " |      \n",
      " |      Returns:\n",
      " |          A JSON-LD document containing the KG query definition.\n",
      " |  \n",
      " |  generate_query(client: 'KGClient', space: 'Union[str, None]', filters: 'Optional[Dict[str, Any]]' = None, follow_links: 'Optional[Dict[str, Any]]' = None, label: 'Optional[str]' = None) -> 'Union[Dict[str, Any], None]'\n",
      " |      Generate a KG query definition as a JSON-LD document.\n",
      " |      \n",
      " |      Args:\n",
      " |          client: KGClient object that handles the communication with the KG.\n",
      " |          space (str, optional): if provided, restrict the query to metadata stored in the given KG space.\n",
      " |          filters (dict): A dictonary defining search parameters for the query.\n",
      " |          follow_links (dict): The links in the graph to follow. Defaults to None.\n",
      " |          label (str, optional): a label for the query\n",
      " |      \n",
      " |      Returns:\n",
      " |          A JSON-LD document containing the KG query definition.\n",
      " |  \n",
      " |  list(client: 'KGClient', size: 'int' = 100, from_index: 'int' = 0, api: 'str' = 'auto', scope: 'str' = 'released', space: 'Optional[str]' = None, follow_links: 'Optional[Dict[str, Any]]' = None, **filters) -> 'List[KGObject]'\n",
      " |      List all objects of this type in the Knowledge Graph\n",
      " |      \n",
      " |      Args:\n",
      " |          client: KGClient object that handles the communication with the KG.\n",
      " |          size (int, optional): The maximum number of instances to return. Default is 100.\n",
      " |          from_index (int, optional): The index of the first instance to return. Default is 0.\n",
      " |          api (str): The KG API to use for the query. Can be 'query', 'core', or 'auto'. Default is 'auto'.\n",
      " |          scope (str, optional): The scope to use for the query. Can be 'released', 'in progress', or 'all'. Default is 'released'.\n",
      " |          space (str, optional): The KG space to be queried. If not specified, results from all accessible spaces will be included.\n",
      " |          follow_links (dict): The links in the graph to follow. Defaults to None.\n",
      " |          filters: Optional keyword arguments representing filters to apply to the query.\n",
      " |      \n",
      " |      Returns:\n",
      " |          A list of instances of this class representing the objects returned by the KG query.\n",
      " |      \n",
      " |      Raises:\n",
      " |          ValueError: If invalid arguments are passed to the method.\n",
      " |          NotImplementedError: If 'follow_links' is used with api='core'.\n",
      " |      \n",
      " |      Example:\n",
      " |      \n",
      " |          >>> from fairgraph import KGClient\n",
      " |          >>> import fairgraph.openminds.controlled_terms as terms\n",
      " |          >>> interneuron_types = terms.CellType.list(client, name=\"interneuron\")\n",
      " |          >>> for ct in interneuron_types[:4]:\n",
      " |          ...     print(f\"{ct.name:<30} {ct.definition}\")\n",
      " |          cerebellar interneuron         None\n",
      " |          cholinergic interneuron        An inhibitory interneuron which mainly uses the neurotrasmitter acetylcholine (ACh).\n",
      " |          cortical interneuron           None\n",
      " |          fast spiking interneuron       A parvalbumin positive GABAergic interneuron with a high-frequency firing pattern.\n",
      " |  \n",
      " |  uri_from_uuid(uuid: 'str', client: 'KGClient') -> 'str'\n",
      " |      Convert an instances short-form identifier (a UUID) into the long-form (a URI)\n",
      " |  \n",
      " |  ----------------------------------------------------------------------\n",
      " |  Readonly properties inherited from fairgraph.kgobject.KGObject:\n",
      " |  \n",
      " |  space\n",
      " |  \n",
      " |  uuid\n",
      " |  \n",
      " |  ----------------------------------------------------------------------\n",
      " |  Data and other attributes inherited from fairgraph.kgobject.KGObject:\n",
      " |  \n",
      " |  __hash__ = None\n",
      " |  \n",
      " |  ----------------------------------------------------------------------\n",
      " |  Methods inherited from fairgraph.base.ContainsMetadata:\n",
      " |  \n",
      " |  __getattribute__(self, name)\n",
      " |      Return getattr(self, name).\n",
      " |  \n",
      " |  __setattr__(self, name, value)\n",
      " |      Implement setattr(self, name, value).\n",
      " |  \n",
      " |  resolve(self, client: 'KGClient', scope: 'Optional[str]' = None, use_cache: 'bool' = True, follow_links: 'Optional[Dict[str, Any]]' = None)\n",
      " |      Resolve properties that are represented by KGProxy objects.\n",
      " |      \n",
      " |      Args:\n",
      " |          client: KGClient object that handles the communication with the KG.\n",
      " |          scope (str): The scope of instances to include in the response.\n",
      " |                 Valid values are 'released', 'in progress', 'any'.\n",
      " |          use_cache (bool): whether to use cached data if they exist. Defaults to True.\n",
      " |          follow_links (dict): The links in the graph to follow. Defaults to None.\n",
      " |      \n",
      " |      Note: a real (non-proxy) object resolves to itself.\n",
      " |  \n",
      " |  to_jsonld(self, normalized: 'bool' = True, follow_links: 'bool' = False, include_empty_properties: 'bool' = False, include_reverse_properties: 'bool' = False)\n",
      " |      Return a JSON-LD representation of this metadata object\n",
      " |      \n",
      " |      Args:\n",
      " |          normalized (bool): Whether to expand all URIs. Defaults to True.\n",
      " |          follow_links (bool, optional): Whether to represent linked objects just by their \"@id\"\n",
      " |              or to include their full metadata. Defaults to False.\n",
      " |          include_empty_properties (bool, optional): Whether to include empty properties (with value \"null\").\n",
      " |              Defaults to False.\n",
      " |  \n",
      " |  ----------------------------------------------------------------------\n",
      " |  Class methods inherited from fairgraph.base.ContainsMetadata:\n",
      " |  \n",
      " |  from_jsonld(data: 'JSONdict', client: 'KGClient', scope: 'Optional[str]' = None)\n",
      " |      Create an instance of the class from a JSON-LD document.\n",
      " |  \n",
      " |  generate_query_filter_properties(filters: 'Optional[Dict[str, Any]]' = None)\n",
      " |      Args:\n",
      " |          filters (dict, optional): A dict containing search parameters for the query.\n",
      " |  \n",
      " |  generate_query_properties(follow_links: 'Optional[Dict[str, Any]]' = None)\n",
      " |      Generate a list of QueryProperty instances for this class\n",
      " |      for use in constructing a KG query definition.\n",
      " |      \n",
      " |      Args:\n",
      " |          follow_links (dict): The links in the graph to follow when constructing the query. Defaults to None.\n",
      " |  \n",
      " |  normalize_filter(filter_dict: 'Dict[str, Any]') -> 'Dict[str, Any]'\n",
      " |      Normalize a dict containing filter key:value pairs so that it can be used\n",
      " |      in a call to the KG query API.\n",
      " |      \n",
      " |      Example:\n",
      " |          >>> import fairgraph.openminds.core as omcore\n",
      " |          >>> person = omcore.Person.from_uuid(\"045f846f-f010-4db8-97b9-b95b20970bf2\", kg_client)\n",
      " |          >>> filter_dict = {\"custodians\": person, \"name\": \"Virtual\"}\n",
      " |          >>> omcore.Dataset.normalize_filter(filter_dict)\n",
      " |          {'name': 'Virtual',\n",
      " |           'custodians': 'https://kg.ebrains.eu/api/instances/045f846f-f010-4db8-97b9-b95b20970bf2'}\n",
      " |  \n",
      " |  set_error_handling(value: 'Union[ErrorHandling, None]', property_names: 'Optional[Union[str, List[str]]]' = None)\n",
      " |      Control validation for this class.\n",
      " |      \n",
      " |      Args:\n",
      " |          value (str): action to follow when there is a validation failure.\n",
      " |              (e.g. if a required property is not provided).\n",
      " |              Possible values: \"error\", \"warning\", \"log\", None\n",
      " |          property_names (str or list of str, optional): If not provided, the error handling\n",
      " |              mode will be applied to all properties. If a property name or list of names is given,\n",
      " |              the mode will be applied only to those properties.\n",
      " |  \n",
      " |  ----------------------------------------------------------------------\n",
      " |  Methods inherited from fairgraph.base.RepresentsSingleObject:\n",
      " |  \n",
      " |  is_released(self, client: 'KGClient', with_children: 'bool' = False) -> 'bool'\n",
      " |      Release status of the node\n",
      " |  \n",
      " |  release(self, client: 'KGClient', with_children: 'bool' = False)\n",
      " |      Release this node (make it available in public search).\n",
      " |  \n",
      " |  unrelease(self, client: 'KGClient', with_children: 'bool' = False)\n",
      " |      Un-release this node (remove it from public search).\n",
      " |  \n",
      " |  ----------------------------------------------------------------------\n",
      " |  Data descriptors inherited from fairgraph.base.Resolvable:\n",
      " |  \n",
      " |  __dict__\n",
      " |      dictionary for instance variables\n",
      " |  \n",
      " |  __weakref__\n",
      " |      list of weak references to the object\n",
      "\n"
     ]
    }
   ],
   "source": [
    "help(core.DatasetVersion)"
   ]
  },
  {
   "cell_type": "markdown",
   "id": "8594f999-69e7-4ebb-bf0d-26a3c323b507",
   "metadata": {
    "tags": []
   },
   "source": [
    " |  normalize_filter(filter_dict: 'Dict[str, Any]') -> 'Dict[str, Any]'\n",
    " |      Normalize a dict containing filter key:value pairs so that it can be used\n",
    " |      in a call to the KG query API.\n",
    " |      \n",
    " |      Example:\n",
    " |          >>> import fairgraph.openminds.core as omcore\n",
    " |          >>> person = omcore.Person.from_uuid(\"045f846f-f010-4db8-97b9-b95b20970bf2\", kg_client)\n",
    " |          >>> filter_dict = {\"custodians\": person, \"name\": \"Virtual\"}\n",
    " |          >>> omcore.Dataset.normalize_filter(filter_dict)\n",
    " |          {'name': 'Virtual',\n",
    " |           'custodians': 'https://kg.ebrains.eu/api/instances/045f846f-f010-4db8-97b9-b95b20970bf2'}\n",
    " |  "
   ]
  },
  {
   "cell_type": "code",
   "execution_count": 149,
   "id": "cdc7177a-9460-4b22-af36-24dcb3156eac",
   "metadata": {
    "collapsed": true,
    "jupyter": {
     "outputs_hidden": true
    },
    "tags": []
   },
   "outputs": [
    {
     "data": {
      "text/plain": [
       "[Consortium(full_name='F-TRACT Consortium', homepage=IRI(https://f-tract.eu), short_name='F-TRACT Consortium', coordinated_projects=KGQuery([<class 'fairgraph.openminds.core.products.project.Project'>], {'coordinators': 'https://kg.ebrains.eu/api/instances/8026f7ac-63e0-45b2-96f2-c10086fcf45f'}), developed=KGQuery([<class 'fairgraph.openminds.computation.validation_test.ValidationTest'>, <class 'fairgraph.openminds.computation.validation_test_version.ValidationTestVersion'>, <class 'fairgraph.openminds.computation.workflow_recipe.WorkflowRecipe'>, <class 'fairgraph.openminds.computation.workflow_recipe_version.WorkflowRecipeVersion'>, <class 'fairgraph.openminds.core.products.meta_data_model.MetaDataModel'>, <class 'fairgraph.openminds.core.products.meta_data_model_version.MetaDataModelVersion'>, <class 'fairgraph.openminds.core.products.model.Model'>, <class 'fairgraph.openminds.core.products.model_version.ModelVersion'>, <class 'fairgraph.openminds.core.products.software.Software'>, <class 'fairgraph.openminds.core.products.software_version.SoftwareVersion'>, <class 'fairgraph.openminds.core.products.web_service.WebService'>, <class 'fairgraph.openminds.core.products.web_service_version.WebServiceVersion'>], {'developers': 'https://kg.ebrains.eu/api/instances/8026f7ac-63e0-45b2-96f2-c10086fcf45f'}), funded=KGQuery([<class 'fairgraph.openminds.core.miscellaneous.funding.Funding'>], {'funder': 'https://kg.ebrains.eu/api/instances/8026f7ac-63e0-45b2-96f2-c10086fcf45f'}), has_members=KGQuery([<class 'fairgraph.openminds.core.actors.affiliation.Affiliation'>], {'member_of': 'https://kg.ebrains.eu/api/instances/8026f7ac-63e0-45b2-96f2-c10086fcf45f'}), is_custodian_of=KGQuery([<class 'fairgraph.openminds.core.products.dataset.Dataset'>, <class 'fairgraph.openminds.core.products.dataset_version.DatasetVersion'>, <class 'fairgraph.openminds.publications.live_paper.LivePaper'>, <class 'fairgraph.openminds.publications.live_paper_version.LivePaperVersion'>, <class 'fairgraph.openminds.sands.atlas.brain_atlas.BrainAtlas'>, <class 'fairgraph.openminds.sands.atlas.brain_atlas_version.BrainAtlasVersion'>, <class 'fairgraph.openminds.sands.atlas.common_coordinate_space.CommonCoordinateSpace'>, <class 'fairgraph.openminds.sands.atlas.common_coordinate_space_version.CommonCoordinateSpaceVersion'>], {'custodians': 'https://kg.ebrains.eu/api/instances/8026f7ac-63e0-45b2-96f2-c10086fcf45f'}), is_owner_of=KGQuery([<class 'fairgraph.openminds.ephys.device.electrode.Electrode'>, <class 'fairgraph.openminds.ephys.device.electrode_array.ElectrodeArray'>, <class 'fairgraph.openminds.ephys.device.pipette.Pipette'>, <class 'fairgraph.openminds.specimen_prep.device.slicing_device.SlicingDevice'>], {'owners': 'https://kg.ebrains.eu/api/instances/8026f7ac-63e0-45b2-96f2-c10086fcf45f'}), is_provider_of=KGQuery([<class 'fairgraph.openminds.chemicals.product_source.ProductSource'>], {'provider': 'https://kg.ebrains.eu/api/instances/8026f7ac-63e0-45b2-96f2-c10086fcf45f'}), manufactured=KGQuery([<class 'fairgraph.openminds.core.products.setup.Setup'>], {'manufacturers': 'https://kg.ebrains.eu/api/instances/8026f7ac-63e0-45b2-96f2-c10086fcf45f'}), published=KGQuery([<class 'fairgraph.openminds.publications.book.Book'>, <class 'fairgraph.openminds.publications.chapter.Chapter'>, <class 'fairgraph.openminds.publications.learning_resource.LearningResource'>, <class 'fairgraph.openminds.publications.scholarly_article.ScholarlyArticle'>], {'publisher': 'https://kg.ebrains.eu/api/instances/8026f7ac-63e0-45b2-96f2-c10086fcf45f'}), space=common, id=https://kg.ebrains.eu/api/instances/8026f7ac-63e0-45b2-96f2-c10086fcf45f),\n",
       " Consortium(full_name='Health Data Cloud Consortium', short_name='HDC consortium', coordinated_projects=KGQuery([<class 'fairgraph.openminds.core.products.project.Project'>], {'coordinators': 'https://kg.ebrains.eu/api/instances/822d2a13-ffa5-4748-af9e-28c42c4655bd'}), developed=KGQuery([<class 'fairgraph.openminds.computation.validation_test.ValidationTest'>, <class 'fairgraph.openminds.computation.validation_test_version.ValidationTestVersion'>, <class 'fairgraph.openminds.computation.workflow_recipe.WorkflowRecipe'>, <class 'fairgraph.openminds.computation.workflow_recipe_version.WorkflowRecipeVersion'>, <class 'fairgraph.openminds.core.products.meta_data_model.MetaDataModel'>, <class 'fairgraph.openminds.core.products.meta_data_model_version.MetaDataModelVersion'>, <class 'fairgraph.openminds.core.products.model.Model'>, <class 'fairgraph.openminds.core.products.model_version.ModelVersion'>, <class 'fairgraph.openminds.core.products.software.Software'>, <class 'fairgraph.openminds.core.products.software_version.SoftwareVersion'>, <class 'fairgraph.openminds.core.products.web_service.WebService'>, <class 'fairgraph.openminds.core.products.web_service_version.WebServiceVersion'>], {'developers': 'https://kg.ebrains.eu/api/instances/822d2a13-ffa5-4748-af9e-28c42c4655bd'}), funded=KGQuery([<class 'fairgraph.openminds.core.miscellaneous.funding.Funding'>], {'funder': 'https://kg.ebrains.eu/api/instances/822d2a13-ffa5-4748-af9e-28c42c4655bd'}), has_members=KGQuery([<class 'fairgraph.openminds.core.actors.affiliation.Affiliation'>], {'member_of': 'https://kg.ebrains.eu/api/instances/822d2a13-ffa5-4748-af9e-28c42c4655bd'}), is_custodian_of=KGQuery([<class 'fairgraph.openminds.core.products.dataset.Dataset'>, <class 'fairgraph.openminds.core.products.dataset_version.DatasetVersion'>, <class 'fairgraph.openminds.publications.live_paper.LivePaper'>, <class 'fairgraph.openminds.publications.live_paper_version.LivePaperVersion'>, <class 'fairgraph.openminds.sands.atlas.brain_atlas.BrainAtlas'>, <class 'fairgraph.openminds.sands.atlas.brain_atlas_version.BrainAtlasVersion'>, <class 'fairgraph.openminds.sands.atlas.common_coordinate_space.CommonCoordinateSpace'>, <class 'fairgraph.openminds.sands.atlas.common_coordinate_space_version.CommonCoordinateSpaceVersion'>], {'custodians': 'https://kg.ebrains.eu/api/instances/822d2a13-ffa5-4748-af9e-28c42c4655bd'}), is_owner_of=KGQuery([<class 'fairgraph.openminds.ephys.device.electrode.Electrode'>, <class 'fairgraph.openminds.ephys.device.electrode_array.ElectrodeArray'>, <class 'fairgraph.openminds.ephys.device.pipette.Pipette'>, <class 'fairgraph.openminds.specimen_prep.device.slicing_device.SlicingDevice'>], {'owners': 'https://kg.ebrains.eu/api/instances/822d2a13-ffa5-4748-af9e-28c42c4655bd'}), is_provider_of=KGQuery([<class 'fairgraph.openminds.chemicals.product_source.ProductSource'>], {'provider': 'https://kg.ebrains.eu/api/instances/822d2a13-ffa5-4748-af9e-28c42c4655bd'}), manufactured=KGQuery([<class 'fairgraph.openminds.core.products.setup.Setup'>], {'manufacturers': 'https://kg.ebrains.eu/api/instances/822d2a13-ffa5-4748-af9e-28c42c4655bd'}), published=KGQuery([<class 'fairgraph.openminds.publications.book.Book'>, <class 'fairgraph.openminds.publications.chapter.Chapter'>, <class 'fairgraph.openminds.publications.learning_resource.LearningResource'>, <class 'fairgraph.openminds.publications.scholarly_article.ScholarlyArticle'>], {'publisher': 'https://kg.ebrains.eu/api/instances/822d2a13-ffa5-4748-af9e-28c42c4655bd'}), space=common, id=https://kg.ebrains.eu/api/instances/822d2a13-ffa5-4748-af9e-28c42c4655bd)]"
      ]
     },
     "execution_count": 149,
     "metadata": {},
     "output_type": "execute_result"
    }
   ],
   "source": [
    "omcore.Consortium.list(kg_client)"
   ]
  },
  {
   "cell_type": "code",
   "execution_count": 148,
   "id": "eaa869f2-0fca-4046-bd50-45b84ff2bdbf",
   "metadata": {},
   "outputs": [
    {
     "data": {
      "text/plain": [
       "2"
      ]
     },
     "execution_count": 148,
     "metadata": {},
     "output_type": "execute_result"
    }
   ],
   "source": [
    "len(omcore.Consortium.list(kg_client))"
   ]
  },
  {
   "cell_type": "code",
   "execution_count": 132,
   "id": "ff5a3b1e-ba1a-4bbd-a0a8-21f4c91208cb",
   "metadata": {},
   "outputs": [
    {
     "data": {
      "text/plain": [
       "AccountInformation(belongs_to=<fairgraph.client.KGClient object at 0x7f14fc139c50>, space=None, id=None)"
      ]
     },
     "execution_count": 132,
     "metadata": {},
     "output_type": "execute_result"
    }
   ],
   "source": [
    "core.AccountInformation(kg_client)"
   ]
  },
  {
   "cell_type": "markdown",
   "id": "0813cde3-f486-4852-8cbe-bbc0dbc6aa48",
   "metadata": {},
   "source": [
    "# Retrieving a metadata node based on its ID"
   ]
  },
  {
   "cell_type": "code",
   "execution_count": 3,
   "id": "96b2a9a7-11ed-45ef-9f5c-0d130713bf86",
   "metadata": {},
   "outputs": [],
   "source": [
    "import fairgraph.openminds.core as omcore\n",
    "omcore.set_error_handling(None)\n",
    "#example dataset\n",
    "example_dataset_id = \"bd5f91ff-e829-4b85-92eb-fc56991541f1\"  \n",
    "example_dataset_version = omcore.DatasetVersion.from_id(example_dataset_id, kg_client)"
   ]
  },
  {
   "cell_type": "code",
   "execution_count": 5,
   "id": "3c7d11ef-7f5e-4a92-a2b8-3e650c1b818d",
   "metadata": {},
   "outputs": [
    {
     "ename": "ModuleNotFoundError",
     "evalue": "No module named 'omcore'",
     "output_type": "error",
     "traceback": [
      "\u001b[0;31m---------------------------------------------------------------------------\u001b[0m",
      "\u001b[0;31mModuleNotFoundError\u001b[0m                       Traceback (most recent call last)",
      "Cell \u001b[0;32mIn[5], line 2\u001b[0m\n\u001b[1;32m      1\u001b[0m \u001b[38;5;28;01mimport\u001b[39;00m \u001b[38;5;21;01mfairgraph\u001b[39;00m\u001b[38;5;21;01m.\u001b[39;00m\u001b[38;5;21;01mopenminds\u001b[39;00m\u001b[38;5;21;01m.\u001b[39;00m\u001b[38;5;21;01mcore\u001b[39;00m \u001b[38;5;28;01mas\u001b[39;00m \u001b[38;5;21;01momcore\u001b[39;00m\n\u001b[0;32m----> 2\u001b[0m \u001b[38;5;28;01mfrom\u001b[39;00m \u001b[38;5;21;01momcore\u001b[39;00m \u001b[38;5;28;01mimport\u001b[39;00m ServiceLink\n",
      "\u001b[0;31mModuleNotFoundError\u001b[0m: No module named 'omcore'"
     ]
    }
   ],
   "source": [
    "import fairgraph.openminds.core as omcore\n",
    "from omcore import ServiceLink"
   ]
  },
  {
   "cell_type": "code",
   "execution_count": 13,
   "id": "e3b65b61-6686-4bed-8781-e0dae551056a",
   "metadata": {
    "collapsed": true,
    "jupyter": {
     "outputs_hidden": true
    },
    "tags": []
   },
   "outputs": [
    {
     "name": "stdout",
     "output_type": "stream",
     "text": [
      "id                       https://kg.ebrains.eu/api/instances/bd5f91ff-e829-4b85-92eb-fc56991541f1\n",
      "space                    dataset\n",
      "type                     https://openminds.ebrains.eu/core/DatasetVersion\n",
      "accessibility            KGProxy([<class 'fairgraph.openminds.controlled_terms.product_accessibility.ProductAccessibility'>], 'https://kg.ebrains.eu/api/instances/b2ff7a47-b349-48d7-8ce4-cf51868675f1')\n",
      "data_types               KGProxy([<class 'fairgraph.openminds.controlled_terms.semantic_data_type.SemanticDataType'>], 'https://kg.ebrains.eu/api/instances/f468ee45-37a6-4e71-8b70-0cbe66d367db')\n",
      "description\n",
      "digital_identifier       KGProxy((<class 'fairgraph.openminds.core.digital_identifier.doi.DOI'>, <class 'fairgraph.openminds.core.digital_identifier.identifiers_dot_org_id.IdentifiersDotOrgID'>), 'https://kg.ebrains.eu/api/instances/df93b012-3bb6-4565-bce0-3bd2d3aed63b')\n",
      "ethics_assessment        KGProxy([<class 'fairgraph.openminds.controlled_terms.ethics_assessment.EthicsAssessment'>], 'https://kg.ebrains.eu/api/instances/a217a2f8-dcb8-4ca9-9923-517af2aebc5b')\n",
      "experimental_approaches  KGProxy([<class 'fairgraph.openminds.controlled_terms.experimental_approach.ExperimentalApproach'>], 'https://kg.ebrains.eu/api/instances/411b233f-a054-4719-bbd5-e86f1302bc46')\n",
      "full_documentation       KGProxy((<class 'fairgraph.openminds.core.digital_identifier.doi.DOI'>, <class 'fairgraph.openminds.core.data.file.File'>, <class 'fairgraph.openminds.core.digital_identifier.isbn.ISBN'>, <class 'fairgraph.openminds.core.miscellaneous.web_resource.WebResource'>), 'https://kg.ebrains.eu/api/instances/a245c132-30ae-4ba8-a1d1-3a0f44d056aa')\n",
      "full_name                Excitability profile of CA1 pyramidal neurons in APPPS1 Alzheimer disease mice and control littermates\n",
      "keywords                 KGProxy((<class 'fairgraph.openminds.controlled_terms.action_status_type.ActionStatusType'>, <class 'fairgraph.openminds.controlled_terms.age_category.AgeCategory'>, <class 'fairgraph.openminds.controlled_terms.analysis_technique.AnalysisTechnique'>, <class 'fairgraph.openminds.controlled_terms.anatomical_axes_orientation.AnatomicalAxesOrientation'>, <class 'fairgraph.openminds.controlled_terms.anatomical_identification_type.AnatomicalIdentificationType'>, <class 'fairgraph.openminds.controlled_terms.anatomical_plane.AnatomicalPlane'>, <class 'fairgraph.openminds.controlled_terms.annotation_criteria_type.AnnotationCriteriaType'>, <class 'fairgraph.openminds.controlled_terms.annotation_type.AnnotationType'>, <class 'fairgraph.openminds.controlled_terms.atlas_type.AtlasType'>, <class 'fairgraph.openminds.controlled_terms.auditory_stimulus_type.AuditoryStimulusType'>, <class 'fairgraph.openminds.controlled_terms.biological_order.BiologicalOrder'>, <class 'fairgraph.openminds.controlled_terms.biological_process.BiologicalProcess'>, <class 'fairgraph.openminds.controlled_terms.biological_sex.BiologicalSex'>, <class 'fairgraph.openminds.controlled_terms.breeding_type.BreedingType'>, <class 'fairgraph.openminds.controlled_terms.cell_culture_type.CellCultureType'>, <class 'fairgraph.openminds.controlled_terms.cell_type.CellType'>, <class 'fairgraph.openminds.controlled_terms.chemical_mixture_type.ChemicalMixtureType'>, <class 'fairgraph.openminds.controlled_terms.colormap.Colormap'>, <class 'fairgraph.openminds.controlled_terms.contribution_type.ContributionType'>, <class 'fairgraph.openminds.controlled_terms.cranial_window_construction_type.CranialWindowConstructionType'>, <class 'fairgraph.openminds.controlled_terms.cranial_window_reinforcement_type.CranialWindowReinforcementType'>, <class 'fairgraph.openminds.controlled_terms.criteria_quality_type.CriteriaQualityType'>, <class 'fairgraph.openminds.controlled_terms.data_type.DataType'>, <class 'fairgraph.openminds.controlled_terms.device_type.DeviceType'>, <class 'fairgraph.openminds.controlled_terms.difference_measure.DifferenceMeasure'>, <class 'fairgraph.openminds.controlled_terms.disease.Disease'>, <class 'fairgraph.openminds.controlled_terms.disease_model.DiseaseModel'>, <class 'fairgraph.openminds.controlled_terms.educational_level.EducationalLevel'>, <class 'fairgraph.openminds.controlled_terms.electrical_stimulus_type.ElectricalStimulusType'>, <class 'fairgraph.openminds.controlled_terms.ethics_assessment.EthicsAssessment'>, <class 'fairgraph.openminds.controlled_terms.experimental_approach.ExperimentalApproach'>, <class 'fairgraph.openminds.controlled_terms.file_bundle_grouping.FileBundleGrouping'>, <class 'fairgraph.openminds.controlled_terms.file_repository_type.FileRepositoryType'>, <class 'fairgraph.openminds.controlled_terms.file_usage_role.FileUsageRole'>, <class 'fairgraph.openminds.controlled_terms.genetic_strain_type.GeneticStrainType'>, <class 'fairgraph.openminds.controlled_terms.gustatory_stimulus_type.GustatoryStimulusType'>, <class 'fairgraph.openminds.controlled_terms.handedness.Handedness'>, <class 'fairgraph.openminds.controlled_terms.language.Language'>, <class 'fairgraph.openminds.controlled_terms.laterality.Laterality'>, <class 'fairgraph.openminds.controlled_terms.learning_resource_type.LearningResourceType'>, <class 'fairgraph.openminds.controlled_terms.mri_pulse_sequence.MRIPulseSequence'>, <class 'fairgraph.openminds.controlled_terms.mri_weighting.MRIWeighting'>, <class 'fairgraph.openminds.controlled_terms.measured_quantity.MeasuredQuantity'>, <class 'fairgraph.openminds.controlled_terms.measured_signal_type.MeasuredSignalType'>, <class 'fairgraph.openminds.controlled_terms.meta_data_model_type.MetaDataModelType'>, <class 'fairgraph.openminds.controlled_terms.model_abstraction_level.ModelAbstractionLevel'>, <class 'fairgraph.openminds.controlled_terms.model_scope.ModelScope'>, <class 'fairgraph.openminds.controlled_terms.molecular_entity.MolecularEntity'>, <class 'fairgraph.openminds.controlled_terms.olfactory_stimulus_type.OlfactoryStimulusType'>, <class 'fairgraph.openminds.controlled_terms.operating_device.OperatingDevice'>, <class 'fairgraph.openminds.controlled_terms.operating_system.OperatingSystem'>, <class 'fairgraph.openminds.controlled_terms.optical_stimulus_type.OpticalStimulusType'>, <class 'fairgraph.openminds.controlled_terms.organ.Organ'>, <class 'fairgraph.openminds.controlled_terms.organism_substance.OrganismSubstance'>, <class 'fairgraph.openminds.controlled_terms.organism_system.OrganismSystem'>, <class 'fairgraph.openminds.controlled_terms.patch_clamp_variation.PatchClampVariation'>, <class 'fairgraph.openminds.controlled_terms.preparation_type.PreparationType'>, <class 'fairgraph.openminds.controlled_terms.product_accessibility.ProductAccessibility'>, <class 'fairgraph.openminds.controlled_terms.programming_language.ProgrammingLanguage'>, <class 'fairgraph.openminds.controlled_terms.qualitative_overlap.QualitativeOverlap'>, <class 'fairgraph.openminds.controlled_terms.semantic_data_type.SemanticDataType'>, <class 'fairgraph.openminds.controlled_terms.service.Service'>, <class 'fairgraph.openminds.controlled_terms.setup_type.SetupType'>, <class 'fairgraph.openminds.controlled_terms.software_application_category.SoftwareApplicationCategory'>, <class 'fairgraph.openminds.controlled_terms.software_feature.SoftwareFeature'>, <class 'fairgraph.openminds.controlled_terms.species.Species'>, <class 'fairgraph.openminds.controlled_terms.stimulation_approach.StimulationApproach'>, <class 'fairgraph.openminds.controlled_terms.stimulation_technique.StimulationTechnique'>, <class 'fairgraph.openminds.controlled_terms.subcellular_entity.SubcellularEntity'>, <class 'fairgraph.openminds.controlled_terms.subject_attribute.SubjectAttribute'>, <class 'fairgraph.openminds.controlled_terms.tactile_stimulus_type.TactileStimulusType'>, <class 'fairgraph.openminds.controlled_terms.technique.Technique'>, <class 'fairgraph.openminds.controlled_terms.term_suggestion.TermSuggestion'>, <class 'fairgraph.openminds.controlled_terms.terminology.Terminology'>, <class 'fairgraph.openminds.controlled_terms.tissue_sample_attribute.TissueSampleAttribute'>, <class 'fairgraph.openminds.controlled_terms.tissue_sample_type.TissueSampleType'>, <class 'fairgraph.openminds.controlled_terms.type_of_uncertainty.TypeOfUncertainty'>, <class 'fairgraph.openminds.controlled_terms.uberon_parcellation.UBERONParcellation'>, <class 'fairgraph.openminds.controlled_terms.unit_of_measurement.UnitOfMeasurement'>, <class 'fairgraph.openminds.controlled_terms.visual_stimulus_type.VisualStimulusType'>), 'https://kg.ebrains.eu/api/instances/62034f18-20fc-46d6-8f0a-277a60cb02e9')\n",
      "license                  KGProxy((<class 'fairgraph.openminds.core.data.license.License'>, <class 'fairgraph.openminds.core.miscellaneous.web_resource.WebResource'>), 'https://kg.ebrains.eu/api/instances/64c1704b-db12-4b29-9541-b9143d081044')\n",
      "preparation_designs      KGProxy([<class 'fairgraph.openminds.controlled_terms.preparation_type.PreparationType'>], 'https://kg.ebrains.eu/api/instances/9f3abe1b-af7c-446d-b637-6a4f19ab7939')\n",
      "related_publications     KGProxy((<class 'fairgraph.openminds.core.digital_identifier.doi.DOI'>, <class 'fairgraph.openminds.core.digital_identifier.handle.HANDLE'>, <class 'fairgraph.openminds.core.digital_identifier.isbn.ISBN'>, <class 'fairgraph.openminds.core.digital_identifier.issn.ISSN'>, <class 'fairgraph.openminds.publications.book.Book'>, <class 'fairgraph.openminds.publications.chapter.Chapter'>, <class 'fairgraph.openminds.publications.scholarly_article.ScholarlyArticle'>), 'https://kg.ebrains.eu/api/instances/5f477d01-82c1-4c6a-891c-e902a8c2241c')\n",
      "release_date             2020-04-21 00:00:00\n",
      "repository               KGProxy([<class 'fairgraph.openminds.core.data.file_repository.FileRepository'>], 'https://kg.ebrains.eu/api/instances/1a319b34-4903-4663-8882-b3fe5703cbcb')\n",
      "short_name               Excitability profile of CA1 pyramidal neurons in APPPS1 Alzheimer disease mice and control littermates\n",
      "studied_specimens        [KGProxy((<class 'fairgraph.openminds.core.research.subject.Subject'>, <class 'fairgraph.openminds.core.research.subject_group.SubjectGroup'>, <class 'fairgraph.openminds.core.research.tissue_sample.TissueSample'>, <class 'fairgraph.openminds.core.research.tissue_sample_collection.TissueSampleCollection'>), 'https://kg.ebrains.eu/api/instances/d04d00c7-b770-4744-a5f4-2ebba26ba1d1'), KGProxy((<class 'fairgraph.openminds.core.research.subject.Subject'>, <class 'fairgraph.openminds.core.research.subject_group.SubjectGroup'>, <class 'fairgraph.openminds.core.research.tissue_sample.TissueSample'>, <class 'fairgraph.openminds.core.research.tissue_sample_collection.TissueSampleCollection'>), 'https://kg.ebrains.eu/api/instances/31f9157a-616b-43b4-8a04-8fd8c15a7524'), KGProxy((<class 'fairgraph.openminds.core.research.subject.Subject'>, <class 'fairgraph.openminds.core.research.subject_group.SubjectGroup'>, <class 'fairgraph.openminds.core.research.tissue_sample.TissueSample'>, <class 'fairgraph.openminds.core.research.tissue_sample_collection.TissueSampleCollection'>), 'https://kg.ebrains.eu/api/instances/853682c7-c317-4091-b3eb-f94ce41a70a5'), KGProxy((<class 'fairgraph.openminds.core.research.subject.Subject'>, <class 'fairgraph.openminds.core.research.subject_group.SubjectGroup'>, <class 'fairgraph.openminds.core.research.tissue_sample.TissueSample'>, <class 'fairgraph.openminds.core.research.tissue_sample_collection.TissueSampleCollection'>), 'https://kg.ebrains.eu/api/instances/8300e9c8-ddce-4b72-811a-96f1f7dc0d4b'), KGProxy((<class 'fairgraph.openminds.core.research.subject.Subject'>, <class 'fairgraph.openminds.core.research.subject_group.SubjectGroup'>, <class 'fairgraph.openminds.core.research.tissue_sample.TissueSample'>, <class 'fairgraph.openminds.core.research.tissue_sample_collection.TissueSampleCollection'>), 'https://kg.ebrains.eu/api/instances/eca80107-1908-43cc-8897-5074f50dbe22'), KGProxy((<class 'fairgraph.openminds.core.research.subject.Subject'>, <class 'fairgraph.openminds.core.research.subject_group.SubjectGroup'>, <class 'fairgraph.openminds.core.research.tissue_sample.TissueSample'>, <class 'fairgraph.openminds.core.research.tissue_sample_collection.TissueSampleCollection'>), 'https://kg.ebrains.eu/api/instances/d74401a9-24a0-4373-b2b7-60b084b66820'), KGProxy((<class 'fairgraph.openminds.core.research.subject.Subject'>, <class 'fairgraph.openminds.core.research.subject_group.SubjectGroup'>, <class 'fairgraph.openminds.core.research.tissue_sample.TissueSample'>, <class 'fairgraph.openminds.core.research.tissue_sample_collection.TissueSampleCollection'>), 'https://kg.ebrains.eu/api/instances/ed399971-9797-4fc3-8796-094ebdf2432e'), KGProxy((<class 'fairgraph.openminds.core.research.subject.Subject'>, <class 'fairgraph.openminds.core.research.subject_group.SubjectGroup'>, <class 'fairgraph.openminds.core.research.tissue_sample.TissueSample'>, <class 'fairgraph.openminds.core.research.tissue_sample_collection.TissueSampleCollection'>), 'https://kg.ebrains.eu/api/instances/54e0bc42-9ddb-4503-98be-c1f3c03afea1'), KGProxy((<class 'fairgraph.openminds.core.research.subject.Subject'>, <class 'fairgraph.openminds.core.research.subject_group.SubjectGroup'>, <class 'fairgraph.openminds.core.research.tissue_sample.TissueSample'>, <class 'fairgraph.openminds.core.research.tissue_sample_collection.TissueSampleCollection'>), 'https://kg.ebrains.eu/api/instances/d5ea0238-23e7-463e-96f3-4da7c06832e4'), KGProxy((<class 'fairgraph.openminds.core.research.subject.Subject'>, <class 'fairgraph.openminds.core.research.subject_group.SubjectGroup'>, <class 'fairgraph.openminds.core.research.tissue_sample.TissueSample'>, <class 'fairgraph.openminds.core.research.tissue_sample_collection.TissueSampleCollection'>), 'https://kg.ebrains.eu/api/instances/6c00b1a4-d10f-408d-ac00-b07464a73321'), KGProxy((<class 'fairgraph.openminds.core.research.subject.Subject'>, <class 'fairgraph.openminds.core.research.subject_group.SubjectGroup'>, <class 'fairgraph.openminds.core.research.tissue_sample.TissueSample'>, <class 'fairgraph.openminds.core.research.tissue_sample_collection.TissueSampleCollection'>), 'https://kg.ebrains.eu/api/instances/d352f598-0118-4908-ad01-a2c4b5e06028'), KGProxy((<class 'fairgraph.openminds.core.research.subject.Subject'>, <class 'fairgraph.openminds.core.research.subject_group.SubjectGroup'>, <class 'fairgraph.openminds.core.research.tissue_sample.TissueSample'>, <class 'fairgraph.openminds.core.research.tissue_sample_collection.TissueSampleCollection'>), 'https://kg.ebrains.eu/api/instances/a9f319fb-9d41-4500-8eb4-08601053f850'), KGProxy((<class 'fairgraph.openminds.core.research.subject.Subject'>, <class 'fairgraph.openminds.core.research.subject_group.SubjectGroup'>, <class 'fairgraph.openminds.core.research.tissue_sample.TissueSample'>, <class 'fairgraph.openminds.core.research.tissue_sample_collection.TissueSampleCollection'>), 'https://kg.ebrains.eu/api/instances/d2b62075-768e-48f4-ba00-4e8cbbb543e9'), KGProxy((<class 'fairgraph.openminds.core.research.subject.Subject'>, <class 'fairgraph.openminds.core.research.subject_group.SubjectGroup'>, <class 'fairgraph.openminds.core.research.tissue_sample.TissueSample'>, <class 'fairgraph.openminds.core.research.tissue_sample_collection.TissueSampleCollection'>), 'https://kg.ebrains.eu/api/instances/9a83c827-3638-4bc1-92c2-10749d30500b'), KGProxy((<class 'fairgraph.openminds.core.research.subject.Subject'>, <class 'fairgraph.openminds.core.research.subject_group.SubjectGroup'>, <class 'fairgraph.openminds.core.research.tissue_sample.TissueSample'>, <class 'fairgraph.openminds.core.research.tissue_sample_collection.TissueSampleCollection'>), 'https://kg.ebrains.eu/api/instances/dd214b93-8c20-4c70-ac90-584d7f66f344'), KGProxy((<class 'fairgraph.openminds.core.research.subject.Subject'>, <class 'fairgraph.openminds.core.research.subject_group.SubjectGroup'>, <class 'fairgraph.openminds.core.research.tissue_sample.TissueSample'>, <class 'fairgraph.openminds.core.research.tissue_sample_collection.TissueSampleCollection'>), 'https://kg.ebrains.eu/api/instances/d967e53d-277d-4a2f-9090-8c50aaf0a008'), KGProxy((<class 'fairgraph.openminds.core.research.subject.Subject'>, <class 'fairgraph.openminds.core.research.subject_group.SubjectGroup'>, <class 'fairgraph.openminds.core.research.tissue_sample.TissueSample'>, <class 'fairgraph.openminds.core.research.tissue_sample_collection.TissueSampleCollection'>), 'https://kg.ebrains.eu/api/instances/0cad429a-f738-4d1d-9e56-c907b431a8c9'), KGProxy((<class 'fairgraph.openminds.core.research.subject.Subject'>, <class 'fairgraph.openminds.core.research.subject_group.SubjectGroup'>, <class 'fairgraph.openminds.core.research.tissue_sample.TissueSample'>, <class 'fairgraph.openminds.core.research.tissue_sample_collection.TissueSampleCollection'>), 'https://kg.ebrains.eu/api/instances/5f40bc15-d813-4560-92a8-a533109777fb'), KGProxy((<class 'fairgraph.openminds.core.research.subject.Subject'>, <class 'fairgraph.openminds.core.research.subject_group.SubjectGroup'>, <class 'fairgraph.openminds.core.research.tissue_sample.TissueSample'>, <class 'fairgraph.openminds.core.research.tissue_sample_collection.TissueSampleCollection'>), 'https://kg.ebrains.eu/api/instances/0be6ad46-c50d-4a50-8e2b-0eeea708019e'), KGProxy((<class 'fairgraph.openminds.core.research.subject.Subject'>, <class 'fairgraph.openminds.core.research.subject_group.SubjectGroup'>, <class 'fairgraph.openminds.core.research.tissue_sample.TissueSample'>, <class 'fairgraph.openminds.core.research.tissue_sample_collection.TissueSampleCollection'>), 'https://kg.ebrains.eu/api/instances/a7197a22-0b1d-4069-89b2-17aa92910c00'), KGProxy((<class 'fairgraph.openminds.core.research.subject.Subject'>, <class 'fairgraph.openminds.core.research.subject_group.SubjectGroup'>, <class 'fairgraph.openminds.core.research.tissue_sample.TissueSample'>, <class 'fairgraph.openminds.core.research.tissue_sample_collection.TissueSampleCollection'>), 'https://kg.ebrains.eu/api/instances/524e0e51-6a9e-410b-8d23-79ce1b7d97b7'), KGProxy((<class 'fairgraph.openminds.core.research.subject.Subject'>, <class 'fairgraph.openminds.core.research.subject_group.SubjectGroup'>, <class 'fairgraph.openminds.core.research.tissue_sample.TissueSample'>, <class 'fairgraph.openminds.core.research.tissue_sample_collection.TissueSampleCollection'>), 'https://kg.ebrains.eu/api/instances/12f80b23-6bec-4b0a-90c7-b717310fb707'), KGProxy((<class 'fairgraph.openminds.core.research.subject.Subject'>, <class 'fairgraph.openminds.core.research.subject_group.SubjectGroup'>, <class 'fairgraph.openminds.core.research.tissue_sample.TissueSample'>, <class 'fairgraph.openminds.core.research.tissue_sample_collection.TissueSampleCollection'>), 'https://kg.ebrains.eu/api/instances/ae759252-c8e4-4c60-aa4c-308922613371'), KGProxy((<class 'fairgraph.openminds.core.research.subject.Subject'>, <class 'fairgraph.openminds.core.research.subject_group.SubjectGroup'>, <class 'fairgraph.openminds.core.research.tissue_sample.TissueSample'>, <class 'fairgraph.openminds.core.research.tissue_sample_collection.TissueSampleCollection'>), 'https://kg.ebrains.eu/api/instances/e168745f-d7cf-4977-87d0-4dbeba51a9f2'), KGProxy((<class 'fairgraph.openminds.core.research.subject.Subject'>, <class 'fairgraph.openminds.core.research.subject_group.SubjectGroup'>, <class 'fairgraph.openminds.core.research.tissue_sample.TissueSample'>, <class 'fairgraph.openminds.core.research.tissue_sample_collection.TissueSampleCollection'>), 'https://kg.ebrains.eu/api/instances/d44005cd-7d11-471f-9e34-4400463449ee'), KGProxy((<class 'fairgraph.openminds.core.research.subject.Subject'>, <class 'fairgraph.openminds.core.research.subject_group.SubjectGroup'>, <class 'fairgraph.openminds.core.research.tissue_sample.TissueSample'>, <class 'fairgraph.openminds.core.research.tissue_sample_collection.TissueSampleCollection'>), 'https://kg.ebrains.eu/api/instances/7831a6bc-d329-4ff1-a5cf-270c100f9f8a')]\n",
      "study_targets            KGProxy((<class 'fairgraph.openminds.controlled_terms.auditory_stimulus_type.AuditoryStimulusType'>, <class 'fairgraph.openminds.controlled_terms.biological_order.BiologicalOrder'>, <class 'fairgraph.openminds.controlled_terms.biological_sex.BiologicalSex'>, <class 'fairgraph.openminds.controlled_terms.breeding_type.BreedingType'>, <class 'fairgraph.openminds.controlled_terms.cell_culture_type.CellCultureType'>, <class 'fairgraph.openminds.controlled_terms.cell_type.CellType'>, <class 'fairgraph.openminds.controlled_terms.disease.Disease'>, <class 'fairgraph.openminds.controlled_terms.disease_model.DiseaseModel'>, <class 'fairgraph.openminds.controlled_terms.electrical_stimulus_type.ElectricalStimulusType'>, <class 'fairgraph.openminds.controlled_terms.genetic_strain_type.GeneticStrainType'>, <class 'fairgraph.openminds.controlled_terms.gustatory_stimulus_type.GustatoryStimulusType'>, <class 'fairgraph.openminds.controlled_terms.handedness.Handedness'>, <class 'fairgraph.openminds.controlled_terms.molecular_entity.MolecularEntity'>, <class 'fairgraph.openminds.controlled_terms.olfactory_stimulus_type.OlfactoryStimulusType'>, <class 'fairgraph.openminds.controlled_terms.optical_stimulus_type.OpticalStimulusType'>, <class 'fairgraph.openminds.controlled_terms.organ.Organ'>, <class 'fairgraph.openminds.controlled_terms.organism_substance.OrganismSubstance'>, <class 'fairgraph.openminds.controlled_terms.organism_system.OrganismSystem'>, <class 'fairgraph.openminds.controlled_terms.species.Species'>, <class 'fairgraph.openminds.controlled_terms.subcellular_entity.SubcellularEntity'>, <class 'fairgraph.openminds.controlled_terms.tactile_stimulus_type.TactileStimulusType'>, <class 'fairgraph.openminds.controlled_terms.term_suggestion.TermSuggestion'>, <class 'fairgraph.openminds.controlled_terms.tissue_sample_type.TissueSampleType'>, <class 'fairgraph.openminds.controlled_terms.uberon_parcellation.UBERONParcellation'>, <class 'fairgraph.openminds.controlled_terms.visual_stimulus_type.VisualStimulusType'>, <class 'fairgraph.openminds.sands.non_atlas.custom_anatomical_entity.CustomAnatomicalEntity'>, <class 'fairgraph.openminds.sands.atlas.parcellation_entity.ParcellationEntity'>, <class 'fairgraph.openminds.sands.atlas.parcellation_entity_version.ParcellationEntityVersion'>), 'https://kg.ebrains.eu/api/instances/161baa02-4e08-4cf2-a641-81cf323cc15d')\n",
      "techniques               [KGProxy((<class 'fairgraph.openminds.controlled_terms.analysis_technique.AnalysisTechnique'>, <class 'fairgraph.openminds.controlled_terms.mri_pulse_sequence.MRIPulseSequence'>, <class 'fairgraph.openminds.controlled_terms.mri_weighting.MRIWeighting'>, <class 'fairgraph.openminds.controlled_terms.stimulation_approach.StimulationApproach'>, <class 'fairgraph.openminds.controlled_terms.stimulation_technique.StimulationTechnique'>, <class 'fairgraph.openminds.controlled_terms.technique.Technique'>), 'https://kg.ebrains.eu/api/instances/dc0bbc6c-99f5-4d3b-9c5e-e1bb7d59aa63'), KGProxy((<class 'fairgraph.openminds.controlled_terms.analysis_technique.AnalysisTechnique'>, <class 'fairgraph.openminds.controlled_terms.mri_pulse_sequence.MRIPulseSequence'>, <class 'fairgraph.openminds.controlled_terms.mri_weighting.MRIWeighting'>, <class 'fairgraph.openminds.controlled_terms.stimulation_approach.StimulationApproach'>, <class 'fairgraph.openminds.controlled_terms.stimulation_technique.StimulationTechnique'>, <class 'fairgraph.openminds.controlled_terms.technique.Technique'>), 'https://kg.ebrains.eu/api/instances/ffc1c922-5ba9-4f03-b9be-05eb6fd0f294')]\n",
      "version_identifier       v1\n",
      "version_innovation       This is the first version of this research product.\n"
     ]
    }
   ],
   "source": [
    "example_dataset_version.show()"
   ]
  },
  {
   "cell_type": "markdown",
   "id": "00c97949-c2bc-45b7-b97e-819df9e5924e",
   "metadata": {},
   "source": [
    "in KG search: https://search.kg.ebrains.eu/instances/bd5f91ff-e829-4b85-92eb-fc56991541f1"
   ]
  },
  {
   "cell_type": "code",
   "execution_count": 150,
   "id": "2677890f-82e3-4e64-b01a-3f2cb34710fe",
   "metadata": {
    "collapsed": true,
    "jupyter": {
     "outputs_hidden": true
    },
    "tags": []
   },
   "outputs": [
    {
     "data": {
      "text/plain": [
       "Person(affiliations=[Affiliation(member_of=KGProxy((<class 'fairgraph.openminds.core.actors.consortium.Consortium'>, <class 'fairgraph.openminds.core.actors.organization.Organization'>), 'https://kg.ebrains.eu/api/instances/05d7dbc7-0716-47c4-8d3c-09787cc30a4f')), Affiliation(member_of=KGProxy((<class 'fairgraph.openminds.core.actors.consortium.Consortium'>, <class 'fairgraph.openminds.core.actors.organization.Organization'>), 'https://kg.ebrains.eu/api/instances/d9c9ba2a-e8ad-4b69-89b8-75e688596822'))], contact_information=KGProxy([<class 'fairgraph.openminds.core.actors.contact_information.ContactInformation'>], 'https://kg.ebrains.eu/api/instances/6ecc2979-1c5f-4b6a-82c5-f402823007e3'), digital_identifiers=KGProxy([<class 'fairgraph.openminds.core.digital_identifier.orcid.ORCID'>], 'https://kg.ebrains.eu/api/instances/c77645ca-a7a9-4b47-848c-2402f70360de'), family_name='Jirsa', given_name='Viktor', activities=KGQuery([<class 'fairgraph.openminds.core.research.protocol_execution.ProtocolExecution'>, <class 'fairgraph.openminds.ephys.activity.cell_patching.CellPatching'>, <class 'fairgraph.openminds.ephys.activity.electrode_placement.ElectrodePlacement'>, <class 'fairgraph.openminds.ephys.activity.recording_activity.RecordingActivity'>, <class 'fairgraph.openminds.specimen_prep.activity.cranial_window_preparation.CranialWindowPreparation'>, <class 'fairgraph.openminds.specimen_prep.activity.tissue_culture_preparation.TissueCulturePreparation'>, <class 'fairgraph.openminds.specimen_prep.activity.tissue_sample_slicing.TissueSampleSlicing'>, <class 'fairgraph.openminds.stimulation.activity.stimulation_activity.StimulationActivity'>], {'performed_by': 'https://kg.ebrains.eu/api/instances/045f846f-f010-4db8-97b9-b95b20970bf2'}), comments=KGQuery([<class 'fairgraph.openminds.core.miscellaneous.comment.Comment'>], {'commenter': 'https://kg.ebrains.eu/api/instances/045f846f-f010-4db8-97b9-b95b20970bf2'}), coordinated_projects=KGQuery([<class 'fairgraph.openminds.core.products.project.Project'>], {'coordinators': 'https://kg.ebrains.eu/api/instances/045f846f-f010-4db8-97b9-b95b20970bf2'}), developed=KGQuery([<class 'fairgraph.openminds.computation.validation_test.ValidationTest'>, <class 'fairgraph.openminds.computation.validation_test_version.ValidationTestVersion'>, <class 'fairgraph.openminds.computation.workflow_recipe.WorkflowRecipe'>, <class 'fairgraph.openminds.computation.workflow_recipe_version.WorkflowRecipeVersion'>, <class 'fairgraph.openminds.core.products.meta_data_model.MetaDataModel'>, <class 'fairgraph.openminds.core.products.meta_data_model_version.MetaDataModelVersion'>, <class 'fairgraph.openminds.core.products.model.Model'>, <class 'fairgraph.openminds.core.products.model_version.ModelVersion'>, <class 'fairgraph.openminds.core.products.software.Software'>, <class 'fairgraph.openminds.core.products.software_version.SoftwareVersion'>, <class 'fairgraph.openminds.core.products.web_service.WebService'>, <class 'fairgraph.openminds.core.products.web_service_version.WebServiceVersion'>], {'developers': 'https://kg.ebrains.eu/api/instances/045f846f-f010-4db8-97b9-b95b20970bf2'}), funded=KGQuery([<class 'fairgraph.openminds.core.miscellaneous.funding.Funding'>], {'funder': 'https://kg.ebrains.eu/api/instances/045f846f-f010-4db8-97b9-b95b20970bf2'}), is_custodian_of=KGQuery([<class 'fairgraph.openminds.core.products.dataset.Dataset'>, <class 'fairgraph.openminds.core.products.dataset_version.DatasetVersion'>, <class 'fairgraph.openminds.publications.live_paper.LivePaper'>, <class 'fairgraph.openminds.publications.live_paper_version.LivePaperVersion'>, <class 'fairgraph.openminds.sands.atlas.brain_atlas.BrainAtlas'>, <class 'fairgraph.openminds.sands.atlas.brain_atlas_version.BrainAtlasVersion'>, <class 'fairgraph.openminds.sands.atlas.common_coordinate_space.CommonCoordinateSpace'>, <class 'fairgraph.openminds.sands.atlas.common_coordinate_space_version.CommonCoordinateSpaceVersion'>], {'custodians': 'https://kg.ebrains.eu/api/instances/045f846f-f010-4db8-97b9-b95b20970bf2'}), is_owner_of=KGQuery([<class 'fairgraph.openminds.ephys.device.electrode.Electrode'>, <class 'fairgraph.openminds.ephys.device.electrode_array.ElectrodeArray'>, <class 'fairgraph.openminds.ephys.device.pipette.Pipette'>, <class 'fairgraph.openminds.specimen_prep.device.slicing_device.SlicingDevice'>], {'owners': 'https://kg.ebrains.eu/api/instances/045f846f-f010-4db8-97b9-b95b20970bf2'}), is_provider_of=KGQuery([<class 'fairgraph.openminds.chemicals.product_source.ProductSource'>], {'provider': 'https://kg.ebrains.eu/api/instances/045f846f-f010-4db8-97b9-b95b20970bf2'}), manufactured=KGQuery([<class 'fairgraph.openminds.core.products.setup.Setup'>], {'manufacturers': 'https://kg.ebrains.eu/api/instances/045f846f-f010-4db8-97b9-b95b20970bf2'}), published=KGQuery([<class 'fairgraph.openminds.publications.book.Book'>, <class 'fairgraph.openminds.publications.chapter.Chapter'>, <class 'fairgraph.openminds.publications.learning_resource.LearningResource'>, <class 'fairgraph.openminds.publications.scholarly_article.ScholarlyArticle'>], {'publisher': 'https://kg.ebrains.eu/api/instances/045f846f-f010-4db8-97b9-b95b20970bf2'}), started=KGQuery([<class 'fairgraph.openminds.computation.data_analysis.DataAnalysis'>, <class 'fairgraph.openminds.computation.data_copy.DataCopy'>, <class 'fairgraph.openminds.computation.generic_computation.GenericComputation'>, <class 'fairgraph.openminds.computation.model_validation.ModelValidation'>, <class 'fairgraph.openminds.computation.optimization.Optimization'>, <class 'fairgraph.openminds.computation.simulation.Simulation'>, <class 'fairgraph.openminds.computation.visualization.Visualization'>, <class 'fairgraph.openminds.computation.workflow_execution.WorkflowExecution'>], {'started_by': 'https://kg.ebrains.eu/api/instances/045f846f-f010-4db8-97b9-b95b20970bf2'}), space=common, id=https://kg.ebrains.eu/api/instances/045f846f-f010-4db8-97b9-b95b20970bf2)"
      ]
     },
     "execution_count": 150,
     "metadata": {},
     "output_type": "execute_result"
    }
   ],
   "source": [
    "person = omcore.Person.from_uuid(\"045f846f-f010-4db8-97b9-b95b20970bf2\", kg_client)\n",
    "person"
   ]
  },
  {
   "cell_type": "code",
   "execution_count": 157,
   "id": "d5637ade-d9bf-4ee0-9467-c2a6955f0195",
   "metadata": {
    "collapsed": true,
    "jupyter": {
     "outputs_hidden": true
    },
    "tags": []
   },
   "outputs": [
    {
     "data": {
      "text/plain": [
       "[Person(family_name='Vinck', given_name='Martin', activities=KGQuery([<class 'fairgraph.openminds.core.research.protocol_execution.ProtocolExecution'>, <class 'fairgraph.openminds.ephys.activity.cell_patching.CellPatching'>, <class 'fairgraph.openminds.ephys.activity.electrode_placement.ElectrodePlacement'>, <class 'fairgraph.openminds.ephys.activity.recording_activity.RecordingActivity'>, <class 'fairgraph.openminds.specimen_prep.activity.cranial_window_preparation.CranialWindowPreparation'>, <class 'fairgraph.openminds.specimen_prep.activity.tissue_culture_preparation.TissueCulturePreparation'>, <class 'fairgraph.openminds.specimen_prep.activity.tissue_sample_slicing.TissueSampleSlicing'>, <class 'fairgraph.openminds.stimulation.activity.stimulation_activity.StimulationActivity'>], {'performed_by': 'https://kg.ebrains.eu/api/instances/002a6c69-9d07-47f4-ac5a-78ca16933a90'}), comments=KGQuery([<class 'fairgraph.openminds.core.miscellaneous.comment.Comment'>], {'commenter': 'https://kg.ebrains.eu/api/instances/002a6c69-9d07-47f4-ac5a-78ca16933a90'}), coordinated_projects=KGQuery([<class 'fairgraph.openminds.core.products.project.Project'>], {'coordinators': 'https://kg.ebrains.eu/api/instances/002a6c69-9d07-47f4-ac5a-78ca16933a90'}), developed=KGQuery([<class 'fairgraph.openminds.computation.validation_test.ValidationTest'>, <class 'fairgraph.openminds.computation.validation_test_version.ValidationTestVersion'>, <class 'fairgraph.openminds.computation.workflow_recipe.WorkflowRecipe'>, <class 'fairgraph.openminds.computation.workflow_recipe_version.WorkflowRecipeVersion'>, <class 'fairgraph.openminds.core.products.meta_data_model.MetaDataModel'>, <class 'fairgraph.openminds.core.products.meta_data_model_version.MetaDataModelVersion'>, <class 'fairgraph.openminds.core.products.model.Model'>, <class 'fairgraph.openminds.core.products.model_version.ModelVersion'>, <class 'fairgraph.openminds.core.products.software.Software'>, <class 'fairgraph.openminds.core.products.software_version.SoftwareVersion'>, <class 'fairgraph.openminds.core.products.web_service.WebService'>, <class 'fairgraph.openminds.core.products.web_service_version.WebServiceVersion'>], {'developers': 'https://kg.ebrains.eu/api/instances/002a6c69-9d07-47f4-ac5a-78ca16933a90'}), funded=KGQuery([<class 'fairgraph.openminds.core.miscellaneous.funding.Funding'>], {'funder': 'https://kg.ebrains.eu/api/instances/002a6c69-9d07-47f4-ac5a-78ca16933a90'}), is_custodian_of=KGQuery([<class 'fairgraph.openminds.core.products.dataset.Dataset'>, <class 'fairgraph.openminds.core.products.dataset_version.DatasetVersion'>, <class 'fairgraph.openminds.publications.live_paper.LivePaper'>, <class 'fairgraph.openminds.publications.live_paper_version.LivePaperVersion'>, <class 'fairgraph.openminds.sands.atlas.brain_atlas.BrainAtlas'>, <class 'fairgraph.openminds.sands.atlas.brain_atlas_version.BrainAtlasVersion'>, <class 'fairgraph.openminds.sands.atlas.common_coordinate_space.CommonCoordinateSpace'>, <class 'fairgraph.openminds.sands.atlas.common_coordinate_space_version.CommonCoordinateSpaceVersion'>], {'custodians': 'https://kg.ebrains.eu/api/instances/002a6c69-9d07-47f4-ac5a-78ca16933a90'}), is_owner_of=KGQuery([<class 'fairgraph.openminds.ephys.device.electrode.Electrode'>, <class 'fairgraph.openminds.ephys.device.electrode_array.ElectrodeArray'>, <class 'fairgraph.openminds.ephys.device.pipette.Pipette'>, <class 'fairgraph.openminds.specimen_prep.device.slicing_device.SlicingDevice'>], {'owners': 'https://kg.ebrains.eu/api/instances/002a6c69-9d07-47f4-ac5a-78ca16933a90'}), is_provider_of=KGQuery([<class 'fairgraph.openminds.chemicals.product_source.ProductSource'>], {'provider': 'https://kg.ebrains.eu/api/instances/002a6c69-9d07-47f4-ac5a-78ca16933a90'}), manufactured=KGQuery([<class 'fairgraph.openminds.core.products.setup.Setup'>], {'manufacturers': 'https://kg.ebrains.eu/api/instances/002a6c69-9d07-47f4-ac5a-78ca16933a90'}), published=KGQuery([<class 'fairgraph.openminds.publications.book.Book'>, <class 'fairgraph.openminds.publications.chapter.Chapter'>, <class 'fairgraph.openminds.publications.learning_resource.LearningResource'>, <class 'fairgraph.openminds.publications.scholarly_article.ScholarlyArticle'>], {'publisher': 'https://kg.ebrains.eu/api/instances/002a6c69-9d07-47f4-ac5a-78ca16933a90'}), started=KGQuery([<class 'fairgraph.openminds.computation.data_analysis.DataAnalysis'>, <class 'fairgraph.openminds.computation.data_copy.DataCopy'>, <class 'fairgraph.openminds.computation.generic_computation.GenericComputation'>, <class 'fairgraph.openminds.computation.model_validation.ModelValidation'>, <class 'fairgraph.openminds.computation.optimization.Optimization'>, <class 'fairgraph.openminds.computation.simulation.Simulation'>, <class 'fairgraph.openminds.computation.visualization.Visualization'>, <class 'fairgraph.openminds.computation.workflow_execution.WorkflowExecution'>], {'started_by': 'https://kg.ebrains.eu/api/instances/002a6c69-9d07-47f4-ac5a-78ca16933a90'}), space=common, id=https://kg.ebrains.eu/api/instances/002a6c69-9d07-47f4-ac5a-78ca16933a90),\n",
       " Person(affiliations=[Affiliation(end_date=datetime.datetime(2019, 6, 30, 0, 0), member_of=KGProxy((<class 'fairgraph.openminds.core.actors.consortium.Consortium'>, <class 'fairgraph.openminds.core.actors.organization.Organization'>), 'https://kg.ebrains.eu/api/instances/38c780fe-c787-4be9-833c-21d88bf036ae'), start_date=datetime.datetime(2016, 6, 1, 0, 0)), Affiliation(member_of=KGProxy((<class 'fairgraph.openminds.core.actors.consortium.Consortium'>, <class 'fairgraph.openminds.core.actors.organization.Organization'>), 'https://kg.ebrains.eu/api/instances/ea8fc37c-c5af-40eb-aedc-492b5cca977b'), start_date=datetime.datetime(2020, 3, 1, 0, 0))], contact_information=KGProxy([<class 'fairgraph.openminds.core.actors.contact_information.ContactInformation'>], 'https://kg.ebrains.eu/api/instances/e46d535e-dc5e-4180-b0e0-6c84bb025ef2'), digital_identifiers=KGProxy([<class 'fairgraph.openminds.core.digital_identifier.orcid.ORCID'>], 'https://kg.ebrains.eu/api/instances/5ab155b8-b5b4-447c-ab96-3eb8ce0d6ef6'), family_name='Zerlaut', given_name='Yann', activities=KGQuery([<class 'fairgraph.openminds.core.research.protocol_execution.ProtocolExecution'>, <class 'fairgraph.openminds.ephys.activity.cell_patching.CellPatching'>, <class 'fairgraph.openminds.ephys.activity.electrode_placement.ElectrodePlacement'>, <class 'fairgraph.openminds.ephys.activity.recording_activity.RecordingActivity'>, <class 'fairgraph.openminds.specimen_prep.activity.cranial_window_preparation.CranialWindowPreparation'>, <class 'fairgraph.openminds.specimen_prep.activity.tissue_culture_preparation.TissueCulturePreparation'>, <class 'fairgraph.openminds.specimen_prep.activity.tissue_sample_slicing.TissueSampleSlicing'>, <class 'fairgraph.openminds.stimulation.activity.stimulation_activity.StimulationActivity'>], {'performed_by': 'https://kg.ebrains.eu/api/instances/003beed8-1ee8-45ec-8737-785ca6239ef0'}), comments=KGQuery([<class 'fairgraph.openminds.core.miscellaneous.comment.Comment'>], {'commenter': 'https://kg.ebrains.eu/api/instances/003beed8-1ee8-45ec-8737-785ca6239ef0'}), coordinated_projects=KGQuery([<class 'fairgraph.openminds.core.products.project.Project'>], {'coordinators': 'https://kg.ebrains.eu/api/instances/003beed8-1ee8-45ec-8737-785ca6239ef0'}), developed=KGQuery([<class 'fairgraph.openminds.computation.validation_test.ValidationTest'>, <class 'fairgraph.openminds.computation.validation_test_version.ValidationTestVersion'>, <class 'fairgraph.openminds.computation.workflow_recipe.WorkflowRecipe'>, <class 'fairgraph.openminds.computation.workflow_recipe_version.WorkflowRecipeVersion'>, <class 'fairgraph.openminds.core.products.meta_data_model.MetaDataModel'>, <class 'fairgraph.openminds.core.products.meta_data_model_version.MetaDataModelVersion'>, <class 'fairgraph.openminds.core.products.model.Model'>, <class 'fairgraph.openminds.core.products.model_version.ModelVersion'>, <class 'fairgraph.openminds.core.products.software.Software'>, <class 'fairgraph.openminds.core.products.software_version.SoftwareVersion'>, <class 'fairgraph.openminds.core.products.web_service.WebService'>, <class 'fairgraph.openminds.core.products.web_service_version.WebServiceVersion'>], {'developers': 'https://kg.ebrains.eu/api/instances/003beed8-1ee8-45ec-8737-785ca6239ef0'}), funded=KGQuery([<class 'fairgraph.openminds.core.miscellaneous.funding.Funding'>], {'funder': 'https://kg.ebrains.eu/api/instances/003beed8-1ee8-45ec-8737-785ca6239ef0'}), is_custodian_of=KGQuery([<class 'fairgraph.openminds.core.products.dataset.Dataset'>, <class 'fairgraph.openminds.core.products.dataset_version.DatasetVersion'>, <class 'fairgraph.openminds.publications.live_paper.LivePaper'>, <class 'fairgraph.openminds.publications.live_paper_version.LivePaperVersion'>, <class 'fairgraph.openminds.sands.atlas.brain_atlas.BrainAtlas'>, <class 'fairgraph.openminds.sands.atlas.brain_atlas_version.BrainAtlasVersion'>, <class 'fairgraph.openminds.sands.atlas.common_coordinate_space.CommonCoordinateSpace'>, <class 'fairgraph.openminds.sands.atlas.common_coordinate_space_version.CommonCoordinateSpaceVersion'>], {'custodians': 'https://kg.ebrains.eu/api/instances/003beed8-1ee8-45ec-8737-785ca6239ef0'}), is_owner_of=KGQuery([<class 'fairgraph.openminds.ephys.device.electrode.Electrode'>, <class 'fairgraph.openminds.ephys.device.electrode_array.ElectrodeArray'>, <class 'fairgraph.openminds.ephys.device.pipette.Pipette'>, <class 'fairgraph.openminds.specimen_prep.device.slicing_device.SlicingDevice'>], {'owners': 'https://kg.ebrains.eu/api/instances/003beed8-1ee8-45ec-8737-785ca6239ef0'}), is_provider_of=KGQuery([<class 'fairgraph.openminds.chemicals.product_source.ProductSource'>], {'provider': 'https://kg.ebrains.eu/api/instances/003beed8-1ee8-45ec-8737-785ca6239ef0'}), manufactured=KGQuery([<class 'fairgraph.openminds.core.products.setup.Setup'>], {'manufacturers': 'https://kg.ebrains.eu/api/instances/003beed8-1ee8-45ec-8737-785ca6239ef0'}), published=KGQuery([<class 'fairgraph.openminds.publications.book.Book'>, <class 'fairgraph.openminds.publications.chapter.Chapter'>, <class 'fairgraph.openminds.publications.learning_resource.LearningResource'>, <class 'fairgraph.openminds.publications.scholarly_article.ScholarlyArticle'>], {'publisher': 'https://kg.ebrains.eu/api/instances/003beed8-1ee8-45ec-8737-785ca6239ef0'}), started=KGQuery([<class 'fairgraph.openminds.computation.data_analysis.DataAnalysis'>, <class 'fairgraph.openminds.computation.data_copy.DataCopy'>, <class 'fairgraph.openminds.computation.generic_computation.GenericComputation'>, <class 'fairgraph.openminds.computation.model_validation.ModelValidation'>, <class 'fairgraph.openminds.computation.optimization.Optimization'>, <class 'fairgraph.openminds.computation.simulation.Simulation'>, <class 'fairgraph.openminds.computation.visualization.Visualization'>, <class 'fairgraph.openminds.computation.workflow_execution.WorkflowExecution'>], {'started_by': 'https://kg.ebrains.eu/api/instances/003beed8-1ee8-45ec-8737-785ca6239ef0'}), space=common, id=https://kg.ebrains.eu/api/instances/003beed8-1ee8-45ec-8737-785ca6239ef0),\n",
       " Person(affiliations=Affiliation(member_of=KGProxy((<class 'fairgraph.openminds.core.actors.consortium.Consortium'>, <class 'fairgraph.openminds.core.actors.organization.Organization'>), 'https://kg.ebrains.eu/api/instances/fd71fdb7-fad7-4b91-9791-cfdf0885e517')), contact_information=KGProxy([<class 'fairgraph.openminds.core.actors.contact_information.ContactInformation'>], 'https://kg.ebrains.eu/api/instances/b37a966a-57a2-43ff-bd21-651ca95101ed'), digital_identifiers=KGProxy([<class 'fairgraph.openminds.core.digital_identifier.orcid.ORCID'>], 'https://kg.ebrains.eu/api/instances/2df1a4ec-57ab-466c-b534-03e6f7317806'), family_name='Joseph', given_name='Boney', activities=KGQuery([<class 'fairgraph.openminds.core.research.protocol_execution.ProtocolExecution'>, <class 'fairgraph.openminds.ephys.activity.cell_patching.CellPatching'>, <class 'fairgraph.openminds.ephys.activity.electrode_placement.ElectrodePlacement'>, <class 'fairgraph.openminds.ephys.activity.recording_activity.RecordingActivity'>, <class 'fairgraph.openminds.specimen_prep.activity.cranial_window_preparation.CranialWindowPreparation'>, <class 'fairgraph.openminds.specimen_prep.activity.tissue_culture_preparation.TissueCulturePreparation'>, <class 'fairgraph.openminds.specimen_prep.activity.tissue_sample_slicing.TissueSampleSlicing'>, <class 'fairgraph.openminds.stimulation.activity.stimulation_activity.StimulationActivity'>], {'performed_by': 'https://kg.ebrains.eu/api/instances/0051b5f4-5bce-4daa-bf7b-a5640d9ed60a'}), comments=KGQuery([<class 'fairgraph.openminds.core.miscellaneous.comment.Comment'>], {'commenter': 'https://kg.ebrains.eu/api/instances/0051b5f4-5bce-4daa-bf7b-a5640d9ed60a'}), coordinated_projects=KGQuery([<class 'fairgraph.openminds.core.products.project.Project'>], {'coordinators': 'https://kg.ebrains.eu/api/instances/0051b5f4-5bce-4daa-bf7b-a5640d9ed60a'}), developed=KGQuery([<class 'fairgraph.openminds.computation.validation_test.ValidationTest'>, <class 'fairgraph.openminds.computation.validation_test_version.ValidationTestVersion'>, <class 'fairgraph.openminds.computation.workflow_recipe.WorkflowRecipe'>, <class 'fairgraph.openminds.computation.workflow_recipe_version.WorkflowRecipeVersion'>, <class 'fairgraph.openminds.core.products.meta_data_model.MetaDataModel'>, <class 'fairgraph.openminds.core.products.meta_data_model_version.MetaDataModelVersion'>, <class 'fairgraph.openminds.core.products.model.Model'>, <class 'fairgraph.openminds.core.products.model_version.ModelVersion'>, <class 'fairgraph.openminds.core.products.software.Software'>, <class 'fairgraph.openminds.core.products.software_version.SoftwareVersion'>, <class 'fairgraph.openminds.core.products.web_service.WebService'>, <class 'fairgraph.openminds.core.products.web_service_version.WebServiceVersion'>], {'developers': 'https://kg.ebrains.eu/api/instances/0051b5f4-5bce-4daa-bf7b-a5640d9ed60a'}), funded=KGQuery([<class 'fairgraph.openminds.core.miscellaneous.funding.Funding'>], {'funder': 'https://kg.ebrains.eu/api/instances/0051b5f4-5bce-4daa-bf7b-a5640d9ed60a'}), is_custodian_of=KGQuery([<class 'fairgraph.openminds.core.products.dataset.Dataset'>, <class 'fairgraph.openminds.core.products.dataset_version.DatasetVersion'>, <class 'fairgraph.openminds.publications.live_paper.LivePaper'>, <class 'fairgraph.openminds.publications.live_paper_version.LivePaperVersion'>, <class 'fairgraph.openminds.sands.atlas.brain_atlas.BrainAtlas'>, <class 'fairgraph.openminds.sands.atlas.brain_atlas_version.BrainAtlasVersion'>, <class 'fairgraph.openminds.sands.atlas.common_coordinate_space.CommonCoordinateSpace'>, <class 'fairgraph.openminds.sands.atlas.common_coordinate_space_version.CommonCoordinateSpaceVersion'>], {'custodians': 'https://kg.ebrains.eu/api/instances/0051b5f4-5bce-4daa-bf7b-a5640d9ed60a'}), is_owner_of=KGQuery([<class 'fairgraph.openminds.ephys.device.electrode.Electrode'>, <class 'fairgraph.openminds.ephys.device.electrode_array.ElectrodeArray'>, <class 'fairgraph.openminds.ephys.device.pipette.Pipette'>, <class 'fairgraph.openminds.specimen_prep.device.slicing_device.SlicingDevice'>], {'owners': 'https://kg.ebrains.eu/api/instances/0051b5f4-5bce-4daa-bf7b-a5640d9ed60a'}), is_provider_of=KGQuery([<class 'fairgraph.openminds.chemicals.product_source.ProductSource'>], {'provider': 'https://kg.ebrains.eu/api/instances/0051b5f4-5bce-4daa-bf7b-a5640d9ed60a'}), manufactured=KGQuery([<class 'fairgraph.openminds.core.products.setup.Setup'>], {'manufacturers': 'https://kg.ebrains.eu/api/instances/0051b5f4-5bce-4daa-bf7b-a5640d9ed60a'}), published=KGQuery([<class 'fairgraph.openminds.publications.book.Book'>, <class 'fairgraph.openminds.publications.chapter.Chapter'>, <class 'fairgraph.openminds.publications.learning_resource.LearningResource'>, <class 'fairgraph.openminds.publications.scholarly_article.ScholarlyArticle'>], {'publisher': 'https://kg.ebrains.eu/api/instances/0051b5f4-5bce-4daa-bf7b-a5640d9ed60a'}), started=KGQuery([<class 'fairgraph.openminds.computation.data_analysis.DataAnalysis'>, <class 'fairgraph.openminds.computation.data_copy.DataCopy'>, <class 'fairgraph.openminds.computation.generic_computation.GenericComputation'>, <class 'fairgraph.openminds.computation.model_validation.ModelValidation'>, <class 'fairgraph.openminds.computation.optimization.Optimization'>, <class 'fairgraph.openminds.computation.simulation.Simulation'>, <class 'fairgraph.openminds.computation.visualization.Visualization'>, <class 'fairgraph.openminds.computation.workflow_execution.WorkflowExecution'>], {'started_by': 'https://kg.ebrains.eu/api/instances/0051b5f4-5bce-4daa-bf7b-a5640d9ed60a'}), space=common, id=https://kg.ebrains.eu/api/instances/0051b5f4-5bce-4daa-bf7b-a5640d9ed60a),\n",
       " Person(family_name='Roessert', given_name='Christian', activities=KGQuery([<class 'fairgraph.openminds.core.research.protocol_execution.ProtocolExecution'>, <class 'fairgraph.openminds.ephys.activity.cell_patching.CellPatching'>, <class 'fairgraph.openminds.ephys.activity.electrode_placement.ElectrodePlacement'>, <class 'fairgraph.openminds.ephys.activity.recording_activity.RecordingActivity'>, <class 'fairgraph.openminds.specimen_prep.activity.cranial_window_preparation.CranialWindowPreparation'>, <class 'fairgraph.openminds.specimen_prep.activity.tissue_culture_preparation.TissueCulturePreparation'>, <class 'fairgraph.openminds.specimen_prep.activity.tissue_sample_slicing.TissueSampleSlicing'>, <class 'fairgraph.openminds.stimulation.activity.stimulation_activity.StimulationActivity'>], {'performed_by': 'https://kg.ebrains.eu/api/instances/005bd926-b855-4e63-bb91-bca614360e3f'}), comments=KGQuery([<class 'fairgraph.openminds.core.miscellaneous.comment.Comment'>], {'commenter': 'https://kg.ebrains.eu/api/instances/005bd926-b855-4e63-bb91-bca614360e3f'}), coordinated_projects=KGQuery([<class 'fairgraph.openminds.core.products.project.Project'>], {'coordinators': 'https://kg.ebrains.eu/api/instances/005bd926-b855-4e63-bb91-bca614360e3f'}), developed=KGQuery([<class 'fairgraph.openminds.computation.validation_test.ValidationTest'>, <class 'fairgraph.openminds.computation.validation_test_version.ValidationTestVersion'>, <class 'fairgraph.openminds.computation.workflow_recipe.WorkflowRecipe'>, <class 'fairgraph.openminds.computation.workflow_recipe_version.WorkflowRecipeVersion'>, <class 'fairgraph.openminds.core.products.meta_data_model.MetaDataModel'>, <class 'fairgraph.openminds.core.products.meta_data_model_version.MetaDataModelVersion'>, <class 'fairgraph.openminds.core.products.model.Model'>, <class 'fairgraph.openminds.core.products.model_version.ModelVersion'>, <class 'fairgraph.openminds.core.products.software.Software'>, <class 'fairgraph.openminds.core.products.software_version.SoftwareVersion'>, <class 'fairgraph.openminds.core.products.web_service.WebService'>, <class 'fairgraph.openminds.core.products.web_service_version.WebServiceVersion'>], {'developers': 'https://kg.ebrains.eu/api/instances/005bd926-b855-4e63-bb91-bca614360e3f'}), funded=KGQuery([<class 'fairgraph.openminds.core.miscellaneous.funding.Funding'>], {'funder': 'https://kg.ebrains.eu/api/instances/005bd926-b855-4e63-bb91-bca614360e3f'}), is_custodian_of=KGQuery([<class 'fairgraph.openminds.core.products.dataset.Dataset'>, <class 'fairgraph.openminds.core.products.dataset_version.DatasetVersion'>, <class 'fairgraph.openminds.publications.live_paper.LivePaper'>, <class 'fairgraph.openminds.publications.live_paper_version.LivePaperVersion'>, <class 'fairgraph.openminds.sands.atlas.brain_atlas.BrainAtlas'>, <class 'fairgraph.openminds.sands.atlas.brain_atlas_version.BrainAtlasVersion'>, <class 'fairgraph.openminds.sands.atlas.common_coordinate_space.CommonCoordinateSpace'>, <class 'fairgraph.openminds.sands.atlas.common_coordinate_space_version.CommonCoordinateSpaceVersion'>], {'custodians': 'https://kg.ebrains.eu/api/instances/005bd926-b855-4e63-bb91-bca614360e3f'}), is_owner_of=KGQuery([<class 'fairgraph.openminds.ephys.device.electrode.Electrode'>, <class 'fairgraph.openminds.ephys.device.electrode_array.ElectrodeArray'>, <class 'fairgraph.openminds.ephys.device.pipette.Pipette'>, <class 'fairgraph.openminds.specimen_prep.device.slicing_device.SlicingDevice'>], {'owners': 'https://kg.ebrains.eu/api/instances/005bd926-b855-4e63-bb91-bca614360e3f'}), is_provider_of=KGQuery([<class 'fairgraph.openminds.chemicals.product_source.ProductSource'>], {'provider': 'https://kg.ebrains.eu/api/instances/005bd926-b855-4e63-bb91-bca614360e3f'}), manufactured=KGQuery([<class 'fairgraph.openminds.core.products.setup.Setup'>], {'manufacturers': 'https://kg.ebrains.eu/api/instances/005bd926-b855-4e63-bb91-bca614360e3f'}), published=KGQuery([<class 'fairgraph.openminds.publications.book.Book'>, <class 'fairgraph.openminds.publications.chapter.Chapter'>, <class 'fairgraph.openminds.publications.learning_resource.LearningResource'>, <class 'fairgraph.openminds.publications.scholarly_article.ScholarlyArticle'>], {'publisher': 'https://kg.ebrains.eu/api/instances/005bd926-b855-4e63-bb91-bca614360e3f'}), started=KGQuery([<class 'fairgraph.openminds.computation.data_analysis.DataAnalysis'>, <class 'fairgraph.openminds.computation.data_copy.DataCopy'>, <class 'fairgraph.openminds.computation.generic_computation.GenericComputation'>, <class 'fairgraph.openminds.computation.model_validation.ModelValidation'>, <class 'fairgraph.openminds.computation.optimization.Optimization'>, <class 'fairgraph.openminds.computation.simulation.Simulation'>, <class 'fairgraph.openminds.computation.visualization.Visualization'>, <class 'fairgraph.openminds.computation.workflow_execution.WorkflowExecution'>], {'started_by': 'https://kg.ebrains.eu/api/instances/005bd926-b855-4e63-bb91-bca614360e3f'}), space=common, id=https://kg.ebrains.eu/api/instances/005bd926-b855-4e63-bb91-bca614360e3f),\n",
       " Person(family_name='Kossakowski', given_name='Klaudia', activities=KGQuery([<class 'fairgraph.openminds.core.research.protocol_execution.ProtocolExecution'>, <class 'fairgraph.openminds.ephys.activity.cell_patching.CellPatching'>, <class 'fairgraph.openminds.ephys.activity.electrode_placement.ElectrodePlacement'>, <class 'fairgraph.openminds.ephys.activity.recording_activity.RecordingActivity'>, <class 'fairgraph.openminds.specimen_prep.activity.cranial_window_preparation.CranialWindowPreparation'>, <class 'fairgraph.openminds.specimen_prep.activity.tissue_culture_preparation.TissueCulturePreparation'>, <class 'fairgraph.openminds.specimen_prep.activity.tissue_sample_slicing.TissueSampleSlicing'>, <class 'fairgraph.openminds.stimulation.activity.stimulation_activity.StimulationActivity'>], {'performed_by': 'https://kg.ebrains.eu/api/instances/005d97d8-cd14-4cc2-a6fc-bca56655e7e7'}), comments=KGQuery([<class 'fairgraph.openminds.core.miscellaneous.comment.Comment'>], {'commenter': 'https://kg.ebrains.eu/api/instances/005d97d8-cd14-4cc2-a6fc-bca56655e7e7'}), coordinated_projects=KGQuery([<class 'fairgraph.openminds.core.products.project.Project'>], {'coordinators': 'https://kg.ebrains.eu/api/instances/005d97d8-cd14-4cc2-a6fc-bca56655e7e7'}), developed=KGQuery([<class 'fairgraph.openminds.computation.validation_test.ValidationTest'>, <class 'fairgraph.openminds.computation.validation_test_version.ValidationTestVersion'>, <class 'fairgraph.openminds.computation.workflow_recipe.WorkflowRecipe'>, <class 'fairgraph.openminds.computation.workflow_recipe_version.WorkflowRecipeVersion'>, <class 'fairgraph.openminds.core.products.meta_data_model.MetaDataModel'>, <class 'fairgraph.openminds.core.products.meta_data_model_version.MetaDataModelVersion'>, <class 'fairgraph.openminds.core.products.model.Model'>, <class 'fairgraph.openminds.core.products.model_version.ModelVersion'>, <class 'fairgraph.openminds.core.products.software.Software'>, <class 'fairgraph.openminds.core.products.software_version.SoftwareVersion'>, <class 'fairgraph.openminds.core.products.web_service.WebService'>, <class 'fairgraph.openminds.core.products.web_service_version.WebServiceVersion'>], {'developers': 'https://kg.ebrains.eu/api/instances/005d97d8-cd14-4cc2-a6fc-bca56655e7e7'}), funded=KGQuery([<class 'fairgraph.openminds.core.miscellaneous.funding.Funding'>], {'funder': 'https://kg.ebrains.eu/api/instances/005d97d8-cd14-4cc2-a6fc-bca56655e7e7'}), is_custodian_of=KGQuery([<class 'fairgraph.openminds.core.products.dataset.Dataset'>, <class 'fairgraph.openminds.core.products.dataset_version.DatasetVersion'>, <class 'fairgraph.openminds.publications.live_paper.LivePaper'>, <class 'fairgraph.openminds.publications.live_paper_version.LivePaperVersion'>, <class 'fairgraph.openminds.sands.atlas.brain_atlas.BrainAtlas'>, <class 'fairgraph.openminds.sands.atlas.brain_atlas_version.BrainAtlasVersion'>, <class 'fairgraph.openminds.sands.atlas.common_coordinate_space.CommonCoordinateSpace'>, <class 'fairgraph.openminds.sands.atlas.common_coordinate_space_version.CommonCoordinateSpaceVersion'>], {'custodians': 'https://kg.ebrains.eu/api/instances/005d97d8-cd14-4cc2-a6fc-bca56655e7e7'}), is_owner_of=KGQuery([<class 'fairgraph.openminds.ephys.device.electrode.Electrode'>, <class 'fairgraph.openminds.ephys.device.electrode_array.ElectrodeArray'>, <class 'fairgraph.openminds.ephys.device.pipette.Pipette'>, <class 'fairgraph.openminds.specimen_prep.device.slicing_device.SlicingDevice'>], {'owners': 'https://kg.ebrains.eu/api/instances/005d97d8-cd14-4cc2-a6fc-bca56655e7e7'}), is_provider_of=KGQuery([<class 'fairgraph.openminds.chemicals.product_source.ProductSource'>], {'provider': 'https://kg.ebrains.eu/api/instances/005d97d8-cd14-4cc2-a6fc-bca56655e7e7'}), manufactured=KGQuery([<class 'fairgraph.openminds.core.products.setup.Setup'>], {'manufacturers': 'https://kg.ebrains.eu/api/instances/005d97d8-cd14-4cc2-a6fc-bca56655e7e7'}), published=KGQuery([<class 'fairgraph.openminds.publications.book.Book'>, <class 'fairgraph.openminds.publications.chapter.Chapter'>, <class 'fairgraph.openminds.publications.learning_resource.LearningResource'>, <class 'fairgraph.openminds.publications.scholarly_article.ScholarlyArticle'>], {'publisher': 'https://kg.ebrains.eu/api/instances/005d97d8-cd14-4cc2-a6fc-bca56655e7e7'}), started=KGQuery([<class 'fairgraph.openminds.computation.data_analysis.DataAnalysis'>, <class 'fairgraph.openminds.computation.data_copy.DataCopy'>, <class 'fairgraph.openminds.computation.generic_computation.GenericComputation'>, <class 'fairgraph.openminds.computation.model_validation.ModelValidation'>, <class 'fairgraph.openminds.computation.optimization.Optimization'>, <class 'fairgraph.openminds.computation.simulation.Simulation'>, <class 'fairgraph.openminds.computation.visualization.Visualization'>, <class 'fairgraph.openminds.computation.workflow_execution.WorkflowExecution'>], {'started_by': 'https://kg.ebrains.eu/api/instances/005d97d8-cd14-4cc2-a6fc-bca56655e7e7'}), space=common, id=https://kg.ebrains.eu/api/instances/005d97d8-cd14-4cc2-a6fc-bca56655e7e7),\n",
       " Person(contact_information=KGProxy([<class 'fairgraph.openminds.core.actors.contact_information.ContactInformation'>], 'https://kg.ebrains.eu/api/instances/72a4411e-2bde-42e4-bedd-a1dca6526aea'), family_name='Cieslak', given_name='Matthew', activities=KGQuery([<class 'fairgraph.openminds.core.research.protocol_execution.ProtocolExecution'>, <class 'fairgraph.openminds.ephys.activity.cell_patching.CellPatching'>, <class 'fairgraph.openminds.ephys.activity.electrode_placement.ElectrodePlacement'>, <class 'fairgraph.openminds.ephys.activity.recording_activity.RecordingActivity'>, <class 'fairgraph.openminds.specimen_prep.activity.cranial_window_preparation.CranialWindowPreparation'>, <class 'fairgraph.openminds.specimen_prep.activity.tissue_culture_preparation.TissueCulturePreparation'>, <class 'fairgraph.openminds.specimen_prep.activity.tissue_sample_slicing.TissueSampleSlicing'>, <class 'fairgraph.openminds.stimulation.activity.stimulation_activity.StimulationActivity'>], {'performed_by': 'https://kg.ebrains.eu/api/instances/00947886-211e-4876-9098-0d4c5234af0a'}), comments=KGQuery([<class 'fairgraph.openminds.core.miscellaneous.comment.Comment'>], {'commenter': 'https://kg.ebrains.eu/api/instances/00947886-211e-4876-9098-0d4c5234af0a'}), coordinated_projects=KGQuery([<class 'fairgraph.openminds.core.products.project.Project'>], {'coordinators': 'https://kg.ebrains.eu/api/instances/00947886-211e-4876-9098-0d4c5234af0a'}), developed=KGQuery([<class 'fairgraph.openminds.computation.validation_test.ValidationTest'>, <class 'fairgraph.openminds.computation.validation_test_version.ValidationTestVersion'>, <class 'fairgraph.openminds.computation.workflow_recipe.WorkflowRecipe'>, <class 'fairgraph.openminds.computation.workflow_recipe_version.WorkflowRecipeVersion'>, <class 'fairgraph.openminds.core.products.meta_data_model.MetaDataModel'>, <class 'fairgraph.openminds.core.products.meta_data_model_version.MetaDataModelVersion'>, <class 'fairgraph.openminds.core.products.model.Model'>, <class 'fairgraph.openminds.core.products.model_version.ModelVersion'>, <class 'fairgraph.openminds.core.products.software.Software'>, <class 'fairgraph.openminds.core.products.software_version.SoftwareVersion'>, <class 'fairgraph.openminds.core.products.web_service.WebService'>, <class 'fairgraph.openminds.core.products.web_service_version.WebServiceVersion'>], {'developers': 'https://kg.ebrains.eu/api/instances/00947886-211e-4876-9098-0d4c5234af0a'}), funded=KGQuery([<class 'fairgraph.openminds.core.miscellaneous.funding.Funding'>], {'funder': 'https://kg.ebrains.eu/api/instances/00947886-211e-4876-9098-0d4c5234af0a'}), is_custodian_of=KGQuery([<class 'fairgraph.openminds.core.products.dataset.Dataset'>, <class 'fairgraph.openminds.core.products.dataset_version.DatasetVersion'>, <class 'fairgraph.openminds.publications.live_paper.LivePaper'>, <class 'fairgraph.openminds.publications.live_paper_version.LivePaperVersion'>, <class 'fairgraph.openminds.sands.atlas.brain_atlas.BrainAtlas'>, <class 'fairgraph.openminds.sands.atlas.brain_atlas_version.BrainAtlasVersion'>, <class 'fairgraph.openminds.sands.atlas.common_coordinate_space.CommonCoordinateSpace'>, <class 'fairgraph.openminds.sands.atlas.common_coordinate_space_version.CommonCoordinateSpaceVersion'>], {'custodians': 'https://kg.ebrains.eu/api/instances/00947886-211e-4876-9098-0d4c5234af0a'}), is_owner_of=KGQuery([<class 'fairgraph.openminds.ephys.device.electrode.Electrode'>, <class 'fairgraph.openminds.ephys.device.electrode_array.ElectrodeArray'>, <class 'fairgraph.openminds.ephys.device.pipette.Pipette'>, <class 'fairgraph.openminds.specimen_prep.device.slicing_device.SlicingDevice'>], {'owners': 'https://kg.ebrains.eu/api/instances/00947886-211e-4876-9098-0d4c5234af0a'}), is_provider_of=KGQuery([<class 'fairgraph.openminds.chemicals.product_source.ProductSource'>], {'provider': 'https://kg.ebrains.eu/api/instances/00947886-211e-4876-9098-0d4c5234af0a'}), manufactured=KGQuery([<class 'fairgraph.openminds.core.products.setup.Setup'>], {'manufacturers': 'https://kg.ebrains.eu/api/instances/00947886-211e-4876-9098-0d4c5234af0a'}), published=KGQuery([<class 'fairgraph.openminds.publications.book.Book'>, <class 'fairgraph.openminds.publications.chapter.Chapter'>, <class 'fairgraph.openminds.publications.learning_resource.LearningResource'>, <class 'fairgraph.openminds.publications.scholarly_article.ScholarlyArticle'>], {'publisher': 'https://kg.ebrains.eu/api/instances/00947886-211e-4876-9098-0d4c5234af0a'}), started=KGQuery([<class 'fairgraph.openminds.computation.data_analysis.DataAnalysis'>, <class 'fairgraph.openminds.computation.data_copy.DataCopy'>, <class 'fairgraph.openminds.computation.generic_computation.GenericComputation'>, <class 'fairgraph.openminds.computation.model_validation.ModelValidation'>, <class 'fairgraph.openminds.computation.optimization.Optimization'>, <class 'fairgraph.openminds.computation.simulation.Simulation'>, <class 'fairgraph.openminds.computation.visualization.Visualization'>, <class 'fairgraph.openminds.computation.workflow_execution.WorkflowExecution'>], {'started_by': 'https://kg.ebrains.eu/api/instances/00947886-211e-4876-9098-0d4c5234af0a'}), space=common, id=https://kg.ebrains.eu/api/instances/00947886-211e-4876-9098-0d4c5234af0a),\n",
       " Person(contact_information=KGProxy([<class 'fairgraph.openminds.core.actors.contact_information.ContactInformation'>], 'https://kg.ebrains.eu/api/instances/b6eee754-1c89-4e9d-8891-0f854b0ed473'), family_name='Groza', given_name='Roland', activities=KGQuery([<class 'fairgraph.openminds.core.research.protocol_execution.ProtocolExecution'>, <class 'fairgraph.openminds.ephys.activity.cell_patching.CellPatching'>, <class 'fairgraph.openminds.ephys.activity.electrode_placement.ElectrodePlacement'>, <class 'fairgraph.openminds.ephys.activity.recording_activity.RecordingActivity'>, <class 'fairgraph.openminds.specimen_prep.activity.cranial_window_preparation.CranialWindowPreparation'>, <class 'fairgraph.openminds.specimen_prep.activity.tissue_culture_preparation.TissueCulturePreparation'>, <class 'fairgraph.openminds.specimen_prep.activity.tissue_sample_slicing.TissueSampleSlicing'>, <class 'fairgraph.openminds.stimulation.activity.stimulation_activity.StimulationActivity'>], {'performed_by': 'https://kg.ebrains.eu/api/instances/009ae114-44f3-4939-af31-75640708d173'}), comments=KGQuery([<class 'fairgraph.openminds.core.miscellaneous.comment.Comment'>], {'commenter': 'https://kg.ebrains.eu/api/instances/009ae114-44f3-4939-af31-75640708d173'}), coordinated_projects=KGQuery([<class 'fairgraph.openminds.core.products.project.Project'>], {'coordinators': 'https://kg.ebrains.eu/api/instances/009ae114-44f3-4939-af31-75640708d173'}), developed=KGQuery([<class 'fairgraph.openminds.computation.validation_test.ValidationTest'>, <class 'fairgraph.openminds.computation.validation_test_version.ValidationTestVersion'>, <class 'fairgraph.openminds.computation.workflow_recipe.WorkflowRecipe'>, <class 'fairgraph.openminds.computation.workflow_recipe_version.WorkflowRecipeVersion'>, <class 'fairgraph.openminds.core.products.meta_data_model.MetaDataModel'>, <class 'fairgraph.openminds.core.products.meta_data_model_version.MetaDataModelVersion'>, <class 'fairgraph.openminds.core.products.model.Model'>, <class 'fairgraph.openminds.core.products.model_version.ModelVersion'>, <class 'fairgraph.openminds.core.products.software.Software'>, <class 'fairgraph.openminds.core.products.software_version.SoftwareVersion'>, <class 'fairgraph.openminds.core.products.web_service.WebService'>, <class 'fairgraph.openminds.core.products.web_service_version.WebServiceVersion'>], {'developers': 'https://kg.ebrains.eu/api/instances/009ae114-44f3-4939-af31-75640708d173'}), funded=KGQuery([<class 'fairgraph.openminds.core.miscellaneous.funding.Funding'>], {'funder': 'https://kg.ebrains.eu/api/instances/009ae114-44f3-4939-af31-75640708d173'}), is_custodian_of=KGQuery([<class 'fairgraph.openminds.core.products.dataset.Dataset'>, <class 'fairgraph.openminds.core.products.dataset_version.DatasetVersion'>, <class 'fairgraph.openminds.publications.live_paper.LivePaper'>, <class 'fairgraph.openminds.publications.live_paper_version.LivePaperVersion'>, <class 'fairgraph.openminds.sands.atlas.brain_atlas.BrainAtlas'>, <class 'fairgraph.openminds.sands.atlas.brain_atlas_version.BrainAtlasVersion'>, <class 'fairgraph.openminds.sands.atlas.common_coordinate_space.CommonCoordinateSpace'>, <class 'fairgraph.openminds.sands.atlas.common_coordinate_space_version.CommonCoordinateSpaceVersion'>], {'custodians': 'https://kg.ebrains.eu/api/instances/009ae114-44f3-4939-af31-75640708d173'}), is_owner_of=KGQuery([<class 'fairgraph.openminds.ephys.device.electrode.Electrode'>, <class 'fairgraph.openminds.ephys.device.electrode_array.ElectrodeArray'>, <class 'fairgraph.openminds.ephys.device.pipette.Pipette'>, <class 'fairgraph.openminds.specimen_prep.device.slicing_device.SlicingDevice'>], {'owners': 'https://kg.ebrains.eu/api/instances/009ae114-44f3-4939-af31-75640708d173'}), is_provider_of=KGQuery([<class 'fairgraph.openminds.chemicals.product_source.ProductSource'>], {'provider': 'https://kg.ebrains.eu/api/instances/009ae114-44f3-4939-af31-75640708d173'}), manufactured=KGQuery([<class 'fairgraph.openminds.core.products.setup.Setup'>], {'manufacturers': 'https://kg.ebrains.eu/api/instances/009ae114-44f3-4939-af31-75640708d173'}), published=KGQuery([<class 'fairgraph.openminds.publications.book.Book'>, <class 'fairgraph.openminds.publications.chapter.Chapter'>, <class 'fairgraph.openminds.publications.learning_resource.LearningResource'>, <class 'fairgraph.openminds.publications.scholarly_article.ScholarlyArticle'>], {'publisher': 'https://kg.ebrains.eu/api/instances/009ae114-44f3-4939-af31-75640708d173'}), started=KGQuery([<class 'fairgraph.openminds.computation.data_analysis.DataAnalysis'>, <class 'fairgraph.openminds.computation.data_copy.DataCopy'>, <class 'fairgraph.openminds.computation.generic_computation.GenericComputation'>, <class 'fairgraph.openminds.computation.model_validation.ModelValidation'>, <class 'fairgraph.openminds.computation.optimization.Optimization'>, <class 'fairgraph.openminds.computation.simulation.Simulation'>, <class 'fairgraph.openminds.computation.visualization.Visualization'>, <class 'fairgraph.openminds.computation.workflow_execution.WorkflowExecution'>], {'started_by': 'https://kg.ebrains.eu/api/instances/009ae114-44f3-4939-af31-75640708d173'}), space=common, id=https://kg.ebrains.eu/api/instances/009ae114-44f3-4939-af31-75640708d173),\n",
       " Person(affiliations=[Affiliation(member_of=KGProxy((<class 'fairgraph.openminds.core.actors.consortium.Consortium'>, <class 'fairgraph.openminds.core.actors.organization.Organization'>), 'https://kg.ebrains.eu/api/instances/59c19304-8217-421d-9cbc-02b0da9d9cb7')), Affiliation(member_of=KGProxy((<class 'fairgraph.openminds.core.actors.consortium.Consortium'>, <class 'fairgraph.openminds.core.actors.organization.Organization'>), 'https://kg.ebrains.eu/api/instances/5ec66914-e974-490e-ac1a-908dd4c1d775'))], contact_information=KGProxy([<class 'fairgraph.openminds.core.actors.contact_information.ContactInformation'>], 'https://kg.ebrains.eu/api/instances/4f4bece2-59ca-44fb-8a0f-b66e0e347e10'), family_name='Rischall', given_name='Isabella', activities=KGQuery([<class 'fairgraph.openminds.core.research.protocol_execution.ProtocolExecution'>, <class 'fairgraph.openminds.ephys.activity.cell_patching.CellPatching'>, <class 'fairgraph.openminds.ephys.activity.electrode_placement.ElectrodePlacement'>, <class 'fairgraph.openminds.ephys.activity.recording_activity.RecordingActivity'>, <class 'fairgraph.openminds.specimen_prep.activity.cranial_window_preparation.CranialWindowPreparation'>, <class 'fairgraph.openminds.specimen_prep.activity.tissue_culture_preparation.TissueCulturePreparation'>, <class 'fairgraph.openminds.specimen_prep.activity.tissue_sample_slicing.TissueSampleSlicing'>, <class 'fairgraph.openminds.stimulation.activity.stimulation_activity.StimulationActivity'>], {'performed_by': 'https://kg.ebrains.eu/api/instances/00be4b09-ea0b-408d-8867-047c0476c630'}), comments=KGQuery([<class 'fairgraph.openminds.core.miscellaneous.comment.Comment'>], {'commenter': 'https://kg.ebrains.eu/api/instances/00be4b09-ea0b-408d-8867-047c0476c630'}), coordinated_projects=KGQuery([<class 'fairgraph.openminds.core.products.project.Project'>], {'coordinators': 'https://kg.ebrains.eu/api/instances/00be4b09-ea0b-408d-8867-047c0476c630'}), developed=KGQuery([<class 'fairgraph.openminds.computation.validation_test.ValidationTest'>, <class 'fairgraph.openminds.computation.validation_test_version.ValidationTestVersion'>, <class 'fairgraph.openminds.computation.workflow_recipe.WorkflowRecipe'>, <class 'fairgraph.openminds.computation.workflow_recipe_version.WorkflowRecipeVersion'>, <class 'fairgraph.openminds.core.products.meta_data_model.MetaDataModel'>, <class 'fairgraph.openminds.core.products.meta_data_model_version.MetaDataModelVersion'>, <class 'fairgraph.openminds.core.products.model.Model'>, <class 'fairgraph.openminds.core.products.model_version.ModelVersion'>, <class 'fairgraph.openminds.core.products.software.Software'>, <class 'fairgraph.openminds.core.products.software_version.SoftwareVersion'>, <class 'fairgraph.openminds.core.products.web_service.WebService'>, <class 'fairgraph.openminds.core.products.web_service_version.WebServiceVersion'>], {'developers': 'https://kg.ebrains.eu/api/instances/00be4b09-ea0b-408d-8867-047c0476c630'}), funded=KGQuery([<class 'fairgraph.openminds.core.miscellaneous.funding.Funding'>], {'funder': 'https://kg.ebrains.eu/api/instances/00be4b09-ea0b-408d-8867-047c0476c630'}), is_custodian_of=KGQuery([<class 'fairgraph.openminds.core.products.dataset.Dataset'>, <class 'fairgraph.openminds.core.products.dataset_version.DatasetVersion'>, <class 'fairgraph.openminds.publications.live_paper.LivePaper'>, <class 'fairgraph.openminds.publications.live_paper_version.LivePaperVersion'>, <class 'fairgraph.openminds.sands.atlas.brain_atlas.BrainAtlas'>, <class 'fairgraph.openminds.sands.atlas.brain_atlas_version.BrainAtlasVersion'>, <class 'fairgraph.openminds.sands.atlas.common_coordinate_space.CommonCoordinateSpace'>, <class 'fairgraph.openminds.sands.atlas.common_coordinate_space_version.CommonCoordinateSpaceVersion'>], {'custodians': 'https://kg.ebrains.eu/api/instances/00be4b09-ea0b-408d-8867-047c0476c630'}), is_owner_of=KGQuery([<class 'fairgraph.openminds.ephys.device.electrode.Electrode'>, <class 'fairgraph.openminds.ephys.device.electrode_array.ElectrodeArray'>, <class 'fairgraph.openminds.ephys.device.pipette.Pipette'>, <class 'fairgraph.openminds.specimen_prep.device.slicing_device.SlicingDevice'>], {'owners': 'https://kg.ebrains.eu/api/instances/00be4b09-ea0b-408d-8867-047c0476c630'}), is_provider_of=KGQuery([<class 'fairgraph.openminds.chemicals.product_source.ProductSource'>], {'provider': 'https://kg.ebrains.eu/api/instances/00be4b09-ea0b-408d-8867-047c0476c630'}), manufactured=KGQuery([<class 'fairgraph.openminds.core.products.setup.Setup'>], {'manufacturers': 'https://kg.ebrains.eu/api/instances/00be4b09-ea0b-408d-8867-047c0476c630'}), published=KGQuery([<class 'fairgraph.openminds.publications.book.Book'>, <class 'fairgraph.openminds.publications.chapter.Chapter'>, <class 'fairgraph.openminds.publications.learning_resource.LearningResource'>, <class 'fairgraph.openminds.publications.scholarly_article.ScholarlyArticle'>], {'publisher': 'https://kg.ebrains.eu/api/instances/00be4b09-ea0b-408d-8867-047c0476c630'}), started=KGQuery([<class 'fairgraph.openminds.computation.data_analysis.DataAnalysis'>, <class 'fairgraph.openminds.computation.data_copy.DataCopy'>, <class 'fairgraph.openminds.computation.generic_computation.GenericComputation'>, <class 'fairgraph.openminds.computation.model_validation.ModelValidation'>, <class 'fairgraph.openminds.computation.optimization.Optimization'>, <class 'fairgraph.openminds.computation.simulation.Simulation'>, <class 'fairgraph.openminds.computation.visualization.Visualization'>, <class 'fairgraph.openminds.computation.workflow_execution.WorkflowExecution'>], {'started_by': 'https://kg.ebrains.eu/api/instances/00be4b09-ea0b-408d-8867-047c0476c630'}), space=common, id=https://kg.ebrains.eu/api/instances/00be4b09-ea0b-408d-8867-047c0476c630),\n",
       " Person(affiliations=Affiliation(member_of=KGProxy((<class 'fairgraph.openminds.core.actors.consortium.Consortium'>, <class 'fairgraph.openminds.core.actors.organization.Organization'>), 'https://kg.ebrains.eu/api/instances/138348af-5830-4c43-806b-8e237f20c2ea'), start_date=datetime.datetime(2019, 12, 1, 0, 0)), digital_identifiers=KGProxy([<class 'fairgraph.openminds.core.digital_identifier.orcid.ORCID'>], 'https://kg.ebrains.eu/api/instances/e3b03bb7-9683-4300-a1b0-2b98200ab721'), family_name='Bernas', given_name='Stefanie N. ', activities=KGQuery([<class 'fairgraph.openminds.core.research.protocol_execution.ProtocolExecution'>, <class 'fairgraph.openminds.ephys.activity.cell_patching.CellPatching'>, <class 'fairgraph.openminds.ephys.activity.electrode_placement.ElectrodePlacement'>, <class 'fairgraph.openminds.ephys.activity.recording_activity.RecordingActivity'>, <class 'fairgraph.openminds.specimen_prep.activity.cranial_window_preparation.CranialWindowPreparation'>, <class 'fairgraph.openminds.specimen_prep.activity.tissue_culture_preparation.TissueCulturePreparation'>, <class 'fairgraph.openminds.specimen_prep.activity.tissue_sample_slicing.TissueSampleSlicing'>, <class 'fairgraph.openminds.stimulation.activity.stimulation_activity.StimulationActivity'>], {'performed_by': 'https://kg.ebrains.eu/api/instances/00bfcdb4-d4c1-418d-87dc-9ff5ce2cd247'}), comments=KGQuery([<class 'fairgraph.openminds.core.miscellaneous.comment.Comment'>], {'commenter': 'https://kg.ebrains.eu/api/instances/00bfcdb4-d4c1-418d-87dc-9ff5ce2cd247'}), coordinated_projects=KGQuery([<class 'fairgraph.openminds.core.products.project.Project'>], {'coordinators': 'https://kg.ebrains.eu/api/instances/00bfcdb4-d4c1-418d-87dc-9ff5ce2cd247'}), developed=KGQuery([<class 'fairgraph.openminds.computation.validation_test.ValidationTest'>, <class 'fairgraph.openminds.computation.validation_test_version.ValidationTestVersion'>, <class 'fairgraph.openminds.computation.workflow_recipe.WorkflowRecipe'>, <class 'fairgraph.openminds.computation.workflow_recipe_version.WorkflowRecipeVersion'>, <class 'fairgraph.openminds.core.products.meta_data_model.MetaDataModel'>, <class 'fairgraph.openminds.core.products.meta_data_model_version.MetaDataModelVersion'>, <class 'fairgraph.openminds.core.products.model.Model'>, <class 'fairgraph.openminds.core.products.model_version.ModelVersion'>, <class 'fairgraph.openminds.core.products.software.Software'>, <class 'fairgraph.openminds.core.products.software_version.SoftwareVersion'>, <class 'fairgraph.openminds.core.products.web_service.WebService'>, <class 'fairgraph.openminds.core.products.web_service_version.WebServiceVersion'>], {'developers': 'https://kg.ebrains.eu/api/instances/00bfcdb4-d4c1-418d-87dc-9ff5ce2cd247'}), funded=KGQuery([<class 'fairgraph.openminds.core.miscellaneous.funding.Funding'>], {'funder': 'https://kg.ebrains.eu/api/instances/00bfcdb4-d4c1-418d-87dc-9ff5ce2cd247'}), is_custodian_of=KGQuery([<class 'fairgraph.openminds.core.products.dataset.Dataset'>, <class 'fairgraph.openminds.core.products.dataset_version.DatasetVersion'>, <class 'fairgraph.openminds.publications.live_paper.LivePaper'>, <class 'fairgraph.openminds.publications.live_paper_version.LivePaperVersion'>, <class 'fairgraph.openminds.sands.atlas.brain_atlas.BrainAtlas'>, <class 'fairgraph.openminds.sands.atlas.brain_atlas_version.BrainAtlasVersion'>, <class 'fairgraph.openminds.sands.atlas.common_coordinate_space.CommonCoordinateSpace'>, <class 'fairgraph.openminds.sands.atlas.common_coordinate_space_version.CommonCoordinateSpaceVersion'>], {'custodians': 'https://kg.ebrains.eu/api/instances/00bfcdb4-d4c1-418d-87dc-9ff5ce2cd247'}), is_owner_of=KGQuery([<class 'fairgraph.openminds.ephys.device.electrode.Electrode'>, <class 'fairgraph.openminds.ephys.device.electrode_array.ElectrodeArray'>, <class 'fairgraph.openminds.ephys.device.pipette.Pipette'>, <class 'fairgraph.openminds.specimen_prep.device.slicing_device.SlicingDevice'>], {'owners': 'https://kg.ebrains.eu/api/instances/00bfcdb4-d4c1-418d-87dc-9ff5ce2cd247'}), is_provider_of=KGQuery([<class 'fairgraph.openminds.chemicals.product_source.ProductSource'>], {'provider': 'https://kg.ebrains.eu/api/instances/00bfcdb4-d4c1-418d-87dc-9ff5ce2cd247'}), manufactured=KGQuery([<class 'fairgraph.openminds.core.products.setup.Setup'>], {'manufacturers': 'https://kg.ebrains.eu/api/instances/00bfcdb4-d4c1-418d-87dc-9ff5ce2cd247'}), published=KGQuery([<class 'fairgraph.openminds.publications.book.Book'>, <class 'fairgraph.openminds.publications.chapter.Chapter'>, <class 'fairgraph.openminds.publications.learning_resource.LearningResource'>, <class 'fairgraph.openminds.publications.scholarly_article.ScholarlyArticle'>], {'publisher': 'https://kg.ebrains.eu/api/instances/00bfcdb4-d4c1-418d-87dc-9ff5ce2cd247'}), started=KGQuery([<class 'fairgraph.openminds.computation.data_analysis.DataAnalysis'>, <class 'fairgraph.openminds.computation.data_copy.DataCopy'>, <class 'fairgraph.openminds.computation.generic_computation.GenericComputation'>, <class 'fairgraph.openminds.computation.model_validation.ModelValidation'>, <class 'fairgraph.openminds.computation.optimization.Optimization'>, <class 'fairgraph.openminds.computation.simulation.Simulation'>, <class 'fairgraph.openminds.computation.visualization.Visualization'>, <class 'fairgraph.openminds.computation.workflow_execution.WorkflowExecution'>], {'started_by': 'https://kg.ebrains.eu/api/instances/00bfcdb4-d4c1-418d-87dc-9ff5ce2cd247'}), space=common, id=https://kg.ebrains.eu/api/instances/00bfcdb4-d4c1-418d-87dc-9ff5ce2cd247),\n",
       " Person(affiliations=Affiliation(member_of=KGProxy((<class 'fairgraph.openminds.core.actors.consortium.Consortium'>, <class 'fairgraph.openminds.core.actors.organization.Organization'>), 'https://kg.ebrains.eu/api/instances/c6e81828-071a-41de-980a-0f0d69e2dea4')), family_name='Silberberg', given_name='Gilad', activities=KGQuery([<class 'fairgraph.openminds.core.research.protocol_execution.ProtocolExecution'>, <class 'fairgraph.openminds.ephys.activity.cell_patching.CellPatching'>, <class 'fairgraph.openminds.ephys.activity.electrode_placement.ElectrodePlacement'>, <class 'fairgraph.openminds.ephys.activity.recording_activity.RecordingActivity'>, <class 'fairgraph.openminds.specimen_prep.activity.cranial_window_preparation.CranialWindowPreparation'>, <class 'fairgraph.openminds.specimen_prep.activity.tissue_culture_preparation.TissueCulturePreparation'>, <class 'fairgraph.openminds.specimen_prep.activity.tissue_sample_slicing.TissueSampleSlicing'>, <class 'fairgraph.openminds.stimulation.activity.stimulation_activity.StimulationActivity'>], {'performed_by': 'https://kg.ebrains.eu/api/instances/00c60a93-fd1c-4639-b08d-92f9739dc0a2'}), comments=KGQuery([<class 'fairgraph.openminds.core.miscellaneous.comment.Comment'>], {'commenter': 'https://kg.ebrains.eu/api/instances/00c60a93-fd1c-4639-b08d-92f9739dc0a2'}), coordinated_projects=KGQuery([<class 'fairgraph.openminds.core.products.project.Project'>], {'coordinators': 'https://kg.ebrains.eu/api/instances/00c60a93-fd1c-4639-b08d-92f9739dc0a2'}), developed=KGQuery([<class 'fairgraph.openminds.computation.validation_test.ValidationTest'>, <class 'fairgraph.openminds.computation.validation_test_version.ValidationTestVersion'>, <class 'fairgraph.openminds.computation.workflow_recipe.WorkflowRecipe'>, <class 'fairgraph.openminds.computation.workflow_recipe_version.WorkflowRecipeVersion'>, <class 'fairgraph.openminds.core.products.meta_data_model.MetaDataModel'>, <class 'fairgraph.openminds.core.products.meta_data_model_version.MetaDataModelVersion'>, <class 'fairgraph.openminds.core.products.model.Model'>, <class 'fairgraph.openminds.core.products.model_version.ModelVersion'>, <class 'fairgraph.openminds.core.products.software.Software'>, <class 'fairgraph.openminds.core.products.software_version.SoftwareVersion'>, <class 'fairgraph.openminds.core.products.web_service.WebService'>, <class 'fairgraph.openminds.core.products.web_service_version.WebServiceVersion'>], {'developers': 'https://kg.ebrains.eu/api/instances/00c60a93-fd1c-4639-b08d-92f9739dc0a2'}), funded=KGQuery([<class 'fairgraph.openminds.core.miscellaneous.funding.Funding'>], {'funder': 'https://kg.ebrains.eu/api/instances/00c60a93-fd1c-4639-b08d-92f9739dc0a2'}), is_custodian_of=KGQuery([<class 'fairgraph.openminds.core.products.dataset.Dataset'>, <class 'fairgraph.openminds.core.products.dataset_version.DatasetVersion'>, <class 'fairgraph.openminds.publications.live_paper.LivePaper'>, <class 'fairgraph.openminds.publications.live_paper_version.LivePaperVersion'>, <class 'fairgraph.openminds.sands.atlas.brain_atlas.BrainAtlas'>, <class 'fairgraph.openminds.sands.atlas.brain_atlas_version.BrainAtlasVersion'>, <class 'fairgraph.openminds.sands.atlas.common_coordinate_space.CommonCoordinateSpace'>, <class 'fairgraph.openminds.sands.atlas.common_coordinate_space_version.CommonCoordinateSpaceVersion'>], {'custodians': 'https://kg.ebrains.eu/api/instances/00c60a93-fd1c-4639-b08d-92f9739dc0a2'}), is_owner_of=KGQuery([<class 'fairgraph.openminds.ephys.device.electrode.Electrode'>, <class 'fairgraph.openminds.ephys.device.electrode_array.ElectrodeArray'>, <class 'fairgraph.openminds.ephys.device.pipette.Pipette'>, <class 'fairgraph.openminds.specimen_prep.device.slicing_device.SlicingDevice'>], {'owners': 'https://kg.ebrains.eu/api/instances/00c60a93-fd1c-4639-b08d-92f9739dc0a2'}), is_provider_of=KGQuery([<class 'fairgraph.openminds.chemicals.product_source.ProductSource'>], {'provider': 'https://kg.ebrains.eu/api/instances/00c60a93-fd1c-4639-b08d-92f9739dc0a2'}), manufactured=KGQuery([<class 'fairgraph.openminds.core.products.setup.Setup'>], {'manufacturers': 'https://kg.ebrains.eu/api/instances/00c60a93-fd1c-4639-b08d-92f9739dc0a2'}), published=KGQuery([<class 'fairgraph.openminds.publications.book.Book'>, <class 'fairgraph.openminds.publications.chapter.Chapter'>, <class 'fairgraph.openminds.publications.learning_resource.LearningResource'>, <class 'fairgraph.openminds.publications.scholarly_article.ScholarlyArticle'>], {'publisher': 'https://kg.ebrains.eu/api/instances/00c60a93-fd1c-4639-b08d-92f9739dc0a2'}), started=KGQuery([<class 'fairgraph.openminds.computation.data_analysis.DataAnalysis'>, <class 'fairgraph.openminds.computation.data_copy.DataCopy'>, <class 'fairgraph.openminds.computation.generic_computation.GenericComputation'>, <class 'fairgraph.openminds.computation.model_validation.ModelValidation'>, <class 'fairgraph.openminds.computation.optimization.Optimization'>, <class 'fairgraph.openminds.computation.simulation.Simulation'>, <class 'fairgraph.openminds.computation.visualization.Visualization'>, <class 'fairgraph.openminds.computation.workflow_execution.WorkflowExecution'>], {'started_by': 'https://kg.ebrains.eu/api/instances/00c60a93-fd1c-4639-b08d-92f9739dc0a2'}), space=common, id=https://kg.ebrains.eu/api/instances/00c60a93-fd1c-4639-b08d-92f9739dc0a2),\n",
       " Person(contact_information=KGProxy([<class 'fairgraph.openminds.core.actors.contact_information.ContactInformation'>], 'https://kg.ebrains.eu/api/instances/01638260-6087-40f0-9930-2e04054c0e0c'), digital_identifiers=KGProxy([<class 'fairgraph.openminds.core.digital_identifier.orcid.ORCID'>], 'https://kg.ebrains.eu/api/instances/662141f4-9633-4331-b7ed-a3b513607f01'), family_name='Ranjan', given_name='Rajnish', activities=KGQuery([<class 'fairgraph.openminds.core.research.protocol_execution.ProtocolExecution'>, <class 'fairgraph.openminds.ephys.activity.cell_patching.CellPatching'>, <class 'fairgraph.openminds.ephys.activity.electrode_placement.ElectrodePlacement'>, <class 'fairgraph.openminds.ephys.activity.recording_activity.RecordingActivity'>, <class 'fairgraph.openminds.specimen_prep.activity.cranial_window_preparation.CranialWindowPreparation'>, <class 'fairgraph.openminds.specimen_prep.activity.tissue_culture_preparation.TissueCulturePreparation'>, <class 'fairgraph.openminds.specimen_prep.activity.tissue_sample_slicing.TissueSampleSlicing'>, <class 'fairgraph.openminds.stimulation.activity.stimulation_activity.StimulationActivity'>], {'performed_by': 'https://kg.ebrains.eu/api/instances/00caa384-cdfe-4d88-ac9e-b99acedadc4d'}), comments=KGQuery([<class 'fairgraph.openminds.core.miscellaneous.comment.Comment'>], {'commenter': 'https://kg.ebrains.eu/api/instances/00caa384-cdfe-4d88-ac9e-b99acedadc4d'}), coordinated_projects=KGQuery([<class 'fairgraph.openminds.core.products.project.Project'>], {'coordinators': 'https://kg.ebrains.eu/api/instances/00caa384-cdfe-4d88-ac9e-b99acedadc4d'}), developed=KGQuery([<class 'fairgraph.openminds.computation.validation_test.ValidationTest'>, <class 'fairgraph.openminds.computation.validation_test_version.ValidationTestVersion'>, <class 'fairgraph.openminds.computation.workflow_recipe.WorkflowRecipe'>, <class 'fairgraph.openminds.computation.workflow_recipe_version.WorkflowRecipeVersion'>, <class 'fairgraph.openminds.core.products.meta_data_model.MetaDataModel'>, <class 'fairgraph.openminds.core.products.meta_data_model_version.MetaDataModelVersion'>, <class 'fairgraph.openminds.core.products.model.Model'>, <class 'fairgraph.openminds.core.products.model_version.ModelVersion'>, <class 'fairgraph.openminds.core.products.software.Software'>, <class 'fairgraph.openminds.core.products.software_version.SoftwareVersion'>, <class 'fairgraph.openminds.core.products.web_service.WebService'>, <class 'fairgraph.openminds.core.products.web_service_version.WebServiceVersion'>], {'developers': 'https://kg.ebrains.eu/api/instances/00caa384-cdfe-4d88-ac9e-b99acedadc4d'}), funded=KGQuery([<class 'fairgraph.openminds.core.miscellaneous.funding.Funding'>], {'funder': 'https://kg.ebrains.eu/api/instances/00caa384-cdfe-4d88-ac9e-b99acedadc4d'}), is_custodian_of=KGQuery([<class 'fairgraph.openminds.core.products.dataset.Dataset'>, <class 'fairgraph.openminds.core.products.dataset_version.DatasetVersion'>, <class 'fairgraph.openminds.publications.live_paper.LivePaper'>, <class 'fairgraph.openminds.publications.live_paper_version.LivePaperVersion'>, <class 'fairgraph.openminds.sands.atlas.brain_atlas.BrainAtlas'>, <class 'fairgraph.openminds.sands.atlas.brain_atlas_version.BrainAtlasVersion'>, <class 'fairgraph.openminds.sands.atlas.common_coordinate_space.CommonCoordinateSpace'>, <class 'fairgraph.openminds.sands.atlas.common_coordinate_space_version.CommonCoordinateSpaceVersion'>], {'custodians': 'https://kg.ebrains.eu/api/instances/00caa384-cdfe-4d88-ac9e-b99acedadc4d'}), is_owner_of=KGQuery([<class 'fairgraph.openminds.ephys.device.electrode.Electrode'>, <class 'fairgraph.openminds.ephys.device.electrode_array.ElectrodeArray'>, <class 'fairgraph.openminds.ephys.device.pipette.Pipette'>, <class 'fairgraph.openminds.specimen_prep.device.slicing_device.SlicingDevice'>], {'owners': 'https://kg.ebrains.eu/api/instances/00caa384-cdfe-4d88-ac9e-b99acedadc4d'}), is_provider_of=KGQuery([<class 'fairgraph.openminds.chemicals.product_source.ProductSource'>], {'provider': 'https://kg.ebrains.eu/api/instances/00caa384-cdfe-4d88-ac9e-b99acedadc4d'}), manufactured=KGQuery([<class 'fairgraph.openminds.core.products.setup.Setup'>], {'manufacturers': 'https://kg.ebrains.eu/api/instances/00caa384-cdfe-4d88-ac9e-b99acedadc4d'}), published=KGQuery([<class 'fairgraph.openminds.publications.book.Book'>, <class 'fairgraph.openminds.publications.chapter.Chapter'>, <class 'fairgraph.openminds.publications.learning_resource.LearningResource'>, <class 'fairgraph.openminds.publications.scholarly_article.ScholarlyArticle'>], {'publisher': 'https://kg.ebrains.eu/api/instances/00caa384-cdfe-4d88-ac9e-b99acedadc4d'}), started=KGQuery([<class 'fairgraph.openminds.computation.data_analysis.DataAnalysis'>, <class 'fairgraph.openminds.computation.data_copy.DataCopy'>, <class 'fairgraph.openminds.computation.generic_computation.GenericComputation'>, <class 'fairgraph.openminds.computation.model_validation.ModelValidation'>, <class 'fairgraph.openminds.computation.optimization.Optimization'>, <class 'fairgraph.openminds.computation.simulation.Simulation'>, <class 'fairgraph.openminds.computation.visualization.Visualization'>, <class 'fairgraph.openminds.computation.workflow_execution.WorkflowExecution'>], {'started_by': 'https://kg.ebrains.eu/api/instances/00caa384-cdfe-4d88-ac9e-b99acedadc4d'}), space=common, id=https://kg.ebrains.eu/api/instances/00caa384-cdfe-4d88-ac9e-b99acedadc4d),\n",
       " Person(affiliations=Affiliation(member_of=KGProxy((<class 'fairgraph.openminds.core.actors.consortium.Consortium'>, <class 'fairgraph.openminds.core.actors.organization.Organization'>), 'https://kg.ebrains.eu/api/instances/18252ab4-1212-404f-9a0d-c9d31b7f5400')), contact_information=KGProxy([<class 'fairgraph.openminds.core.actors.contact_information.ContactInformation'>], 'https://kg.ebrains.eu/api/instances/f0ee940b-9803-4e77-bb02-840db079228f'), digital_identifiers=KGProxy([<class 'fairgraph.openminds.core.digital_identifier.orcid.ORCID'>], 'https://kg.ebrains.eu/api/instances/cda17e63-7cc0-4f99-938f-48b51b912732'), family_name='Morales-Gregorio', given_name='Aitor', activities=KGQuery([<class 'fairgraph.openminds.core.research.protocol_execution.ProtocolExecution'>, <class 'fairgraph.openminds.ephys.activity.cell_patching.CellPatching'>, <class 'fairgraph.openminds.ephys.activity.electrode_placement.ElectrodePlacement'>, <class 'fairgraph.openminds.ephys.activity.recording_activity.RecordingActivity'>, <class 'fairgraph.openminds.specimen_prep.activity.cranial_window_preparation.CranialWindowPreparation'>, <class 'fairgraph.openminds.specimen_prep.activity.tissue_culture_preparation.TissueCulturePreparation'>, <class 'fairgraph.openminds.specimen_prep.activity.tissue_sample_slicing.TissueSampleSlicing'>, <class 'fairgraph.openminds.stimulation.activity.stimulation_activity.StimulationActivity'>], {'performed_by': 'https://kg.ebrains.eu/api/instances/00fefac4-3ab6-47f3-89c7-7e701a2b5ac1'}), comments=KGQuery([<class 'fairgraph.openminds.core.miscellaneous.comment.Comment'>], {'commenter': 'https://kg.ebrains.eu/api/instances/00fefac4-3ab6-47f3-89c7-7e701a2b5ac1'}), coordinated_projects=KGQuery([<class 'fairgraph.openminds.core.products.project.Project'>], {'coordinators': 'https://kg.ebrains.eu/api/instances/00fefac4-3ab6-47f3-89c7-7e701a2b5ac1'}), developed=KGQuery([<class 'fairgraph.openminds.computation.validation_test.ValidationTest'>, <class 'fairgraph.openminds.computation.validation_test_version.ValidationTestVersion'>, <class 'fairgraph.openminds.computation.workflow_recipe.WorkflowRecipe'>, <class 'fairgraph.openminds.computation.workflow_recipe_version.WorkflowRecipeVersion'>, <class 'fairgraph.openminds.core.products.meta_data_model.MetaDataModel'>, <class 'fairgraph.openminds.core.products.meta_data_model_version.MetaDataModelVersion'>, <class 'fairgraph.openminds.core.products.model.Model'>, <class 'fairgraph.openminds.core.products.model_version.ModelVersion'>, <class 'fairgraph.openminds.core.products.software.Software'>, <class 'fairgraph.openminds.core.products.software_version.SoftwareVersion'>, <class 'fairgraph.openminds.core.products.web_service.WebService'>, <class 'fairgraph.openminds.core.products.web_service_version.WebServiceVersion'>], {'developers': 'https://kg.ebrains.eu/api/instances/00fefac4-3ab6-47f3-89c7-7e701a2b5ac1'}), funded=KGQuery([<class 'fairgraph.openminds.core.miscellaneous.funding.Funding'>], {'funder': 'https://kg.ebrains.eu/api/instances/00fefac4-3ab6-47f3-89c7-7e701a2b5ac1'}), is_custodian_of=KGQuery([<class 'fairgraph.openminds.core.products.dataset.Dataset'>, <class 'fairgraph.openminds.core.products.dataset_version.DatasetVersion'>, <class 'fairgraph.openminds.publications.live_paper.LivePaper'>, <class 'fairgraph.openminds.publications.live_paper_version.LivePaperVersion'>, <class 'fairgraph.openminds.sands.atlas.brain_atlas.BrainAtlas'>, <class 'fairgraph.openminds.sands.atlas.brain_atlas_version.BrainAtlasVersion'>, <class 'fairgraph.openminds.sands.atlas.common_coordinate_space.CommonCoordinateSpace'>, <class 'fairgraph.openminds.sands.atlas.common_coordinate_space_version.CommonCoordinateSpaceVersion'>], {'custodians': 'https://kg.ebrains.eu/api/instances/00fefac4-3ab6-47f3-89c7-7e701a2b5ac1'}), is_owner_of=KGQuery([<class 'fairgraph.openminds.ephys.device.electrode.Electrode'>, <class 'fairgraph.openminds.ephys.device.electrode_array.ElectrodeArray'>, <class 'fairgraph.openminds.ephys.device.pipette.Pipette'>, <class 'fairgraph.openminds.specimen_prep.device.slicing_device.SlicingDevice'>], {'owners': 'https://kg.ebrains.eu/api/instances/00fefac4-3ab6-47f3-89c7-7e701a2b5ac1'}), is_provider_of=KGQuery([<class 'fairgraph.openminds.chemicals.product_source.ProductSource'>], {'provider': 'https://kg.ebrains.eu/api/instances/00fefac4-3ab6-47f3-89c7-7e701a2b5ac1'}), manufactured=KGQuery([<class 'fairgraph.openminds.core.products.setup.Setup'>], {'manufacturers': 'https://kg.ebrains.eu/api/instances/00fefac4-3ab6-47f3-89c7-7e701a2b5ac1'}), published=KGQuery([<class 'fairgraph.openminds.publications.book.Book'>, <class 'fairgraph.openminds.publications.chapter.Chapter'>, <class 'fairgraph.openminds.publications.learning_resource.LearningResource'>, <class 'fairgraph.openminds.publications.scholarly_article.ScholarlyArticle'>], {'publisher': 'https://kg.ebrains.eu/api/instances/00fefac4-3ab6-47f3-89c7-7e701a2b5ac1'}), started=KGQuery([<class 'fairgraph.openminds.computation.data_analysis.DataAnalysis'>, <class 'fairgraph.openminds.computation.data_copy.DataCopy'>, <class 'fairgraph.openminds.computation.generic_computation.GenericComputation'>, <class 'fairgraph.openminds.computation.model_validation.ModelValidation'>, <class 'fairgraph.openminds.computation.optimization.Optimization'>, <class 'fairgraph.openminds.computation.simulation.Simulation'>, <class 'fairgraph.openminds.computation.visualization.Visualization'>, <class 'fairgraph.openminds.computation.workflow_execution.WorkflowExecution'>], {'started_by': 'https://kg.ebrains.eu/api/instances/00fefac4-3ab6-47f3-89c7-7e701a2b5ac1'}), space=common, id=https://kg.ebrains.eu/api/instances/00fefac4-3ab6-47f3-89c7-7e701a2b5ac1),\n",
       " Person(affiliations=Affiliation(member_of=KGProxy((<class 'fairgraph.openminds.core.actors.consortium.Consortium'>, <class 'fairgraph.openminds.core.actors.organization.Organization'>), 'https://kg.ebrains.eu/api/instances/0ac6e57a-01a2-44e1-b9d0-6a341bd6f503')), contact_information=KGProxy([<class 'fairgraph.openminds.core.actors.contact_information.ContactInformation'>], 'https://kg.ebrains.eu/api/instances/953fb745-502c-4d91-91c0-77e6a205fa9e'), family_name='Daniel', given_name='Pavel', activities=KGQuery([<class 'fairgraph.openminds.core.research.protocol_execution.ProtocolExecution'>, <class 'fairgraph.openminds.ephys.activity.cell_patching.CellPatching'>, <class 'fairgraph.openminds.ephys.activity.electrode_placement.ElectrodePlacement'>, <class 'fairgraph.openminds.ephys.activity.recording_activity.RecordingActivity'>, <class 'fairgraph.openminds.specimen_prep.activity.cranial_window_preparation.CranialWindowPreparation'>, <class 'fairgraph.openminds.specimen_prep.activity.tissue_culture_preparation.TissueCulturePreparation'>, <class 'fairgraph.openminds.specimen_prep.activity.tissue_sample_slicing.TissueSampleSlicing'>, <class 'fairgraph.openminds.stimulation.activity.stimulation_activity.StimulationActivity'>], {'performed_by': 'https://kg.ebrains.eu/api/instances/0103a382-1798-4e9e-80d0-85e2ed5305bb'}), comments=KGQuery([<class 'fairgraph.openminds.core.miscellaneous.comment.Comment'>], {'commenter': 'https://kg.ebrains.eu/api/instances/0103a382-1798-4e9e-80d0-85e2ed5305bb'}), coordinated_projects=KGQuery([<class 'fairgraph.openminds.core.products.project.Project'>], {'coordinators': 'https://kg.ebrains.eu/api/instances/0103a382-1798-4e9e-80d0-85e2ed5305bb'}), developed=KGQuery([<class 'fairgraph.openminds.computation.validation_test.ValidationTest'>, <class 'fairgraph.openminds.computation.validation_test_version.ValidationTestVersion'>, <class 'fairgraph.openminds.computation.workflow_recipe.WorkflowRecipe'>, <class 'fairgraph.openminds.computation.workflow_recipe_version.WorkflowRecipeVersion'>, <class 'fairgraph.openminds.core.products.meta_data_model.MetaDataModel'>, <class 'fairgraph.openminds.core.products.meta_data_model_version.MetaDataModelVersion'>, <class 'fairgraph.openminds.core.products.model.Model'>, <class 'fairgraph.openminds.core.products.model_version.ModelVersion'>, <class 'fairgraph.openminds.core.products.software.Software'>, <class 'fairgraph.openminds.core.products.software_version.SoftwareVersion'>, <class 'fairgraph.openminds.core.products.web_service.WebService'>, <class 'fairgraph.openminds.core.products.web_service_version.WebServiceVersion'>], {'developers': 'https://kg.ebrains.eu/api/instances/0103a382-1798-4e9e-80d0-85e2ed5305bb'}), funded=KGQuery([<class 'fairgraph.openminds.core.miscellaneous.funding.Funding'>], {'funder': 'https://kg.ebrains.eu/api/instances/0103a382-1798-4e9e-80d0-85e2ed5305bb'}), is_custodian_of=KGQuery([<class 'fairgraph.openminds.core.products.dataset.Dataset'>, <class 'fairgraph.openminds.core.products.dataset_version.DatasetVersion'>, <class 'fairgraph.openminds.publications.live_paper.LivePaper'>, <class 'fairgraph.openminds.publications.live_paper_version.LivePaperVersion'>, <class 'fairgraph.openminds.sands.atlas.brain_atlas.BrainAtlas'>, <class 'fairgraph.openminds.sands.atlas.brain_atlas_version.BrainAtlasVersion'>, <class 'fairgraph.openminds.sands.atlas.common_coordinate_space.CommonCoordinateSpace'>, <class 'fairgraph.openminds.sands.atlas.common_coordinate_space_version.CommonCoordinateSpaceVersion'>], {'custodians': 'https://kg.ebrains.eu/api/instances/0103a382-1798-4e9e-80d0-85e2ed5305bb'}), is_owner_of=KGQuery([<class 'fairgraph.openminds.ephys.device.electrode.Electrode'>, <class 'fairgraph.openminds.ephys.device.electrode_array.ElectrodeArray'>, <class 'fairgraph.openminds.ephys.device.pipette.Pipette'>, <class 'fairgraph.openminds.specimen_prep.device.slicing_device.SlicingDevice'>], {'owners': 'https://kg.ebrains.eu/api/instances/0103a382-1798-4e9e-80d0-85e2ed5305bb'}), is_provider_of=KGQuery([<class 'fairgraph.openminds.chemicals.product_source.ProductSource'>], {'provider': 'https://kg.ebrains.eu/api/instances/0103a382-1798-4e9e-80d0-85e2ed5305bb'}), manufactured=KGQuery([<class 'fairgraph.openminds.core.products.setup.Setup'>], {'manufacturers': 'https://kg.ebrains.eu/api/instances/0103a382-1798-4e9e-80d0-85e2ed5305bb'}), published=KGQuery([<class 'fairgraph.openminds.publications.book.Book'>, <class 'fairgraph.openminds.publications.chapter.Chapter'>, <class 'fairgraph.openminds.publications.learning_resource.LearningResource'>, <class 'fairgraph.openminds.publications.scholarly_article.ScholarlyArticle'>], {'publisher': 'https://kg.ebrains.eu/api/instances/0103a382-1798-4e9e-80d0-85e2ed5305bb'}), started=KGQuery([<class 'fairgraph.openminds.computation.data_analysis.DataAnalysis'>, <class 'fairgraph.openminds.computation.data_copy.DataCopy'>, <class 'fairgraph.openminds.computation.generic_computation.GenericComputation'>, <class 'fairgraph.openminds.computation.model_validation.ModelValidation'>, <class 'fairgraph.openminds.computation.optimization.Optimization'>, <class 'fairgraph.openminds.computation.simulation.Simulation'>, <class 'fairgraph.openminds.computation.visualization.Visualization'>, <class 'fairgraph.openminds.computation.workflow_execution.WorkflowExecution'>], {'started_by': 'https://kg.ebrains.eu/api/instances/0103a382-1798-4e9e-80d0-85e2ed5305bb'}), space=common, id=https://kg.ebrains.eu/api/instances/0103a382-1798-4e9e-80d0-85e2ed5305bb),\n",
       " Person(affiliations=[Affiliation(member_of=KGProxy((<class 'fairgraph.openminds.core.actors.consortium.Consortium'>, <class 'fairgraph.openminds.core.actors.organization.Organization'>), 'https://kg.ebrains.eu/api/instances/e61845fb-5135-44cd-9642-6978d6518f26')), Affiliation(member_of=KGProxy((<class 'fairgraph.openminds.core.actors.consortium.Consortium'>, <class 'fairgraph.openminds.core.actors.organization.Organization'>), 'https://kg.ebrains.eu/api/instances/0b472c0c-0940-4e1b-9901-9997d8726efe'))], family_name='Wang', given_name='Haiyan', activities=KGQuery([<class 'fairgraph.openminds.core.research.protocol_execution.ProtocolExecution'>, <class 'fairgraph.openminds.ephys.activity.cell_patching.CellPatching'>, <class 'fairgraph.openminds.ephys.activity.electrode_placement.ElectrodePlacement'>, <class 'fairgraph.openminds.ephys.activity.recording_activity.RecordingActivity'>, <class 'fairgraph.openminds.specimen_prep.activity.cranial_window_preparation.CranialWindowPreparation'>, <class 'fairgraph.openminds.specimen_prep.activity.tissue_culture_preparation.TissueCulturePreparation'>, <class 'fairgraph.openminds.specimen_prep.activity.tissue_sample_slicing.TissueSampleSlicing'>, <class 'fairgraph.openminds.stimulation.activity.stimulation_activity.StimulationActivity'>], {'performed_by': 'https://kg.ebrains.eu/api/instances/011f5976-8af8-4038-bfea-a805f015f81d'}), comments=KGQuery([<class 'fairgraph.openminds.core.miscellaneous.comment.Comment'>], {'commenter': 'https://kg.ebrains.eu/api/instances/011f5976-8af8-4038-bfea-a805f015f81d'}), coordinated_projects=KGQuery([<class 'fairgraph.openminds.core.products.project.Project'>], {'coordinators': 'https://kg.ebrains.eu/api/instances/011f5976-8af8-4038-bfea-a805f015f81d'}), developed=KGQuery([<class 'fairgraph.openminds.computation.validation_test.ValidationTest'>, <class 'fairgraph.openminds.computation.validation_test_version.ValidationTestVersion'>, <class 'fairgraph.openminds.computation.workflow_recipe.WorkflowRecipe'>, <class 'fairgraph.openminds.computation.workflow_recipe_version.WorkflowRecipeVersion'>, <class 'fairgraph.openminds.core.products.meta_data_model.MetaDataModel'>, <class 'fairgraph.openminds.core.products.meta_data_model_version.MetaDataModelVersion'>, <class 'fairgraph.openminds.core.products.model.Model'>, <class 'fairgraph.openminds.core.products.model_version.ModelVersion'>, <class 'fairgraph.openminds.core.products.software.Software'>, <class 'fairgraph.openminds.core.products.software_version.SoftwareVersion'>, <class 'fairgraph.openminds.core.products.web_service.WebService'>, <class 'fairgraph.openminds.core.products.web_service_version.WebServiceVersion'>], {'developers': 'https://kg.ebrains.eu/api/instances/011f5976-8af8-4038-bfea-a805f015f81d'}), funded=KGQuery([<class 'fairgraph.openminds.core.miscellaneous.funding.Funding'>], {'funder': 'https://kg.ebrains.eu/api/instances/011f5976-8af8-4038-bfea-a805f015f81d'}), is_custodian_of=KGQuery([<class 'fairgraph.openminds.core.products.dataset.Dataset'>, <class 'fairgraph.openminds.core.products.dataset_version.DatasetVersion'>, <class 'fairgraph.openminds.publications.live_paper.LivePaper'>, <class 'fairgraph.openminds.publications.live_paper_version.LivePaperVersion'>, <class 'fairgraph.openminds.sands.atlas.brain_atlas.BrainAtlas'>, <class 'fairgraph.openminds.sands.atlas.brain_atlas_version.BrainAtlasVersion'>, <class 'fairgraph.openminds.sands.atlas.common_coordinate_space.CommonCoordinateSpace'>, <class 'fairgraph.openminds.sands.atlas.common_coordinate_space_version.CommonCoordinateSpaceVersion'>], {'custodians': 'https://kg.ebrains.eu/api/instances/011f5976-8af8-4038-bfea-a805f015f81d'}), is_owner_of=KGQuery([<class 'fairgraph.openminds.ephys.device.electrode.Electrode'>, <class 'fairgraph.openminds.ephys.device.electrode_array.ElectrodeArray'>, <class 'fairgraph.openminds.ephys.device.pipette.Pipette'>, <class 'fairgraph.openminds.specimen_prep.device.slicing_device.SlicingDevice'>], {'owners': 'https://kg.ebrains.eu/api/instances/011f5976-8af8-4038-bfea-a805f015f81d'}), is_provider_of=KGQuery([<class 'fairgraph.openminds.chemicals.product_source.ProductSource'>], {'provider': 'https://kg.ebrains.eu/api/instances/011f5976-8af8-4038-bfea-a805f015f81d'}), manufactured=KGQuery([<class 'fairgraph.openminds.core.products.setup.Setup'>], {'manufacturers': 'https://kg.ebrains.eu/api/instances/011f5976-8af8-4038-bfea-a805f015f81d'}), published=KGQuery([<class 'fairgraph.openminds.publications.book.Book'>, <class 'fairgraph.openminds.publications.chapter.Chapter'>, <class 'fairgraph.openminds.publications.learning_resource.LearningResource'>, <class 'fairgraph.openminds.publications.scholarly_article.ScholarlyArticle'>], {'publisher': 'https://kg.ebrains.eu/api/instances/011f5976-8af8-4038-bfea-a805f015f81d'}), started=KGQuery([<class 'fairgraph.openminds.computation.data_analysis.DataAnalysis'>, <class 'fairgraph.openminds.computation.data_copy.DataCopy'>, <class 'fairgraph.openminds.computation.generic_computation.GenericComputation'>, <class 'fairgraph.openminds.computation.model_validation.ModelValidation'>, <class 'fairgraph.openminds.computation.optimization.Optimization'>, <class 'fairgraph.openminds.computation.simulation.Simulation'>, <class 'fairgraph.openminds.computation.visualization.Visualization'>, <class 'fairgraph.openminds.computation.workflow_execution.WorkflowExecution'>], {'started_by': 'https://kg.ebrains.eu/api/instances/011f5976-8af8-4038-bfea-a805f015f81d'}), space=common, id=https://kg.ebrains.eu/api/instances/011f5976-8af8-4038-bfea-a805f015f81d),\n",
       " Person(affiliations=Affiliation(member_of=KGProxy((<class 'fairgraph.openminds.core.actors.consortium.Consortium'>, <class 'fairgraph.openminds.core.actors.organization.Organization'>), 'https://kg.ebrains.eu/api/instances/0b4652ec-9bec-4e47-8f3b-ab579da545c0')), family_name='Arelin', given_name='Katrin', activities=KGQuery([<class 'fairgraph.openminds.core.research.protocol_execution.ProtocolExecution'>, <class 'fairgraph.openminds.ephys.activity.cell_patching.CellPatching'>, <class 'fairgraph.openminds.ephys.activity.electrode_placement.ElectrodePlacement'>, <class 'fairgraph.openminds.ephys.activity.recording_activity.RecordingActivity'>, <class 'fairgraph.openminds.specimen_prep.activity.cranial_window_preparation.CranialWindowPreparation'>, <class 'fairgraph.openminds.specimen_prep.activity.tissue_culture_preparation.TissueCulturePreparation'>, <class 'fairgraph.openminds.specimen_prep.activity.tissue_sample_slicing.TissueSampleSlicing'>, <class 'fairgraph.openminds.stimulation.activity.stimulation_activity.StimulationActivity'>], {'performed_by': 'https://kg.ebrains.eu/api/instances/0127c617-0787-4854-930a-e837695251f6'}), comments=KGQuery([<class 'fairgraph.openminds.core.miscellaneous.comment.Comment'>], {'commenter': 'https://kg.ebrains.eu/api/instances/0127c617-0787-4854-930a-e837695251f6'}), coordinated_projects=KGQuery([<class 'fairgraph.openminds.core.products.project.Project'>], {'coordinators': 'https://kg.ebrains.eu/api/instances/0127c617-0787-4854-930a-e837695251f6'}), developed=KGQuery([<class 'fairgraph.openminds.computation.validation_test.ValidationTest'>, <class 'fairgraph.openminds.computation.validation_test_version.ValidationTestVersion'>, <class 'fairgraph.openminds.computation.workflow_recipe.WorkflowRecipe'>, <class 'fairgraph.openminds.computation.workflow_recipe_version.WorkflowRecipeVersion'>, <class 'fairgraph.openminds.core.products.meta_data_model.MetaDataModel'>, <class 'fairgraph.openminds.core.products.meta_data_model_version.MetaDataModelVersion'>, <class 'fairgraph.openminds.core.products.model.Model'>, <class 'fairgraph.openminds.core.products.model_version.ModelVersion'>, <class 'fairgraph.openminds.core.products.software.Software'>, <class 'fairgraph.openminds.core.products.software_version.SoftwareVersion'>, <class 'fairgraph.openminds.core.products.web_service.WebService'>, <class 'fairgraph.openminds.core.products.web_service_version.WebServiceVersion'>], {'developers': 'https://kg.ebrains.eu/api/instances/0127c617-0787-4854-930a-e837695251f6'}), funded=KGQuery([<class 'fairgraph.openminds.core.miscellaneous.funding.Funding'>], {'funder': 'https://kg.ebrains.eu/api/instances/0127c617-0787-4854-930a-e837695251f6'}), is_custodian_of=KGQuery([<class 'fairgraph.openminds.core.products.dataset.Dataset'>, <class 'fairgraph.openminds.core.products.dataset_version.DatasetVersion'>, <class 'fairgraph.openminds.publications.live_paper.LivePaper'>, <class 'fairgraph.openminds.publications.live_paper_version.LivePaperVersion'>, <class 'fairgraph.openminds.sands.atlas.brain_atlas.BrainAtlas'>, <class 'fairgraph.openminds.sands.atlas.brain_atlas_version.BrainAtlasVersion'>, <class 'fairgraph.openminds.sands.atlas.common_coordinate_space.CommonCoordinateSpace'>, <class 'fairgraph.openminds.sands.atlas.common_coordinate_space_version.CommonCoordinateSpaceVersion'>], {'custodians': 'https://kg.ebrains.eu/api/instances/0127c617-0787-4854-930a-e837695251f6'}), is_owner_of=KGQuery([<class 'fairgraph.openminds.ephys.device.electrode.Electrode'>, <class 'fairgraph.openminds.ephys.device.electrode_array.ElectrodeArray'>, <class 'fairgraph.openminds.ephys.device.pipette.Pipette'>, <class 'fairgraph.openminds.specimen_prep.device.slicing_device.SlicingDevice'>], {'owners': 'https://kg.ebrains.eu/api/instances/0127c617-0787-4854-930a-e837695251f6'}), is_provider_of=KGQuery([<class 'fairgraph.openminds.chemicals.product_source.ProductSource'>], {'provider': 'https://kg.ebrains.eu/api/instances/0127c617-0787-4854-930a-e837695251f6'}), manufactured=KGQuery([<class 'fairgraph.openminds.core.products.setup.Setup'>], {'manufacturers': 'https://kg.ebrains.eu/api/instances/0127c617-0787-4854-930a-e837695251f6'}), published=KGQuery([<class 'fairgraph.openminds.publications.book.Book'>, <class 'fairgraph.openminds.publications.chapter.Chapter'>, <class 'fairgraph.openminds.publications.learning_resource.LearningResource'>, <class 'fairgraph.openminds.publications.scholarly_article.ScholarlyArticle'>], {'publisher': 'https://kg.ebrains.eu/api/instances/0127c617-0787-4854-930a-e837695251f6'}), started=KGQuery([<class 'fairgraph.openminds.computation.data_analysis.DataAnalysis'>, <class 'fairgraph.openminds.computation.data_copy.DataCopy'>, <class 'fairgraph.openminds.computation.generic_computation.GenericComputation'>, <class 'fairgraph.openminds.computation.model_validation.ModelValidation'>, <class 'fairgraph.openminds.computation.optimization.Optimization'>, <class 'fairgraph.openminds.computation.simulation.Simulation'>, <class 'fairgraph.openminds.computation.visualization.Visualization'>, <class 'fairgraph.openminds.computation.workflow_execution.WorkflowExecution'>], {'started_by': 'https://kg.ebrains.eu/api/instances/0127c617-0787-4854-930a-e837695251f6'}), space=common, id=https://kg.ebrains.eu/api/instances/0127c617-0787-4854-930a-e837695251f6),\n",
       " Person(contact_information=KGProxy([<class 'fairgraph.openminds.core.actors.contact_information.ContactInformation'>], 'https://kg.ebrains.eu/api/instances/1b1c32ea-d7db-4601-922a-9041bcac6ef3'), family_name='Boveroux', given_name='Pierre', activities=KGQuery([<class 'fairgraph.openminds.core.research.protocol_execution.ProtocolExecution'>, <class 'fairgraph.openminds.ephys.activity.cell_patching.CellPatching'>, <class 'fairgraph.openminds.ephys.activity.electrode_placement.ElectrodePlacement'>, <class 'fairgraph.openminds.ephys.activity.recording_activity.RecordingActivity'>, <class 'fairgraph.openminds.specimen_prep.activity.cranial_window_preparation.CranialWindowPreparation'>, <class 'fairgraph.openminds.specimen_prep.activity.tissue_culture_preparation.TissueCulturePreparation'>, <class 'fairgraph.openminds.specimen_prep.activity.tissue_sample_slicing.TissueSampleSlicing'>, <class 'fairgraph.openminds.stimulation.activity.stimulation_activity.StimulationActivity'>], {'performed_by': 'https://kg.ebrains.eu/api/instances/0139955e-29fe-4fcf-be66-2d7a75ff50b9'}), comments=KGQuery([<class 'fairgraph.openminds.core.miscellaneous.comment.Comment'>], {'commenter': 'https://kg.ebrains.eu/api/instances/0139955e-29fe-4fcf-be66-2d7a75ff50b9'}), coordinated_projects=KGQuery([<class 'fairgraph.openminds.core.products.project.Project'>], {'coordinators': 'https://kg.ebrains.eu/api/instances/0139955e-29fe-4fcf-be66-2d7a75ff50b9'}), developed=KGQuery([<class 'fairgraph.openminds.computation.validation_test.ValidationTest'>, <class 'fairgraph.openminds.computation.validation_test_version.ValidationTestVersion'>, <class 'fairgraph.openminds.computation.workflow_recipe.WorkflowRecipe'>, <class 'fairgraph.openminds.computation.workflow_recipe_version.WorkflowRecipeVersion'>, <class 'fairgraph.openminds.core.products.meta_data_model.MetaDataModel'>, <class 'fairgraph.openminds.core.products.meta_data_model_version.MetaDataModelVersion'>, <class 'fairgraph.openminds.core.products.model.Model'>, <class 'fairgraph.openminds.core.products.model_version.ModelVersion'>, <class 'fairgraph.openminds.core.products.software.Software'>, <class 'fairgraph.openminds.core.products.software_version.SoftwareVersion'>, <class 'fairgraph.openminds.core.products.web_service.WebService'>, <class 'fairgraph.openminds.core.products.web_service_version.WebServiceVersion'>], {'developers': 'https://kg.ebrains.eu/api/instances/0139955e-29fe-4fcf-be66-2d7a75ff50b9'}), funded=KGQuery([<class 'fairgraph.openminds.core.miscellaneous.funding.Funding'>], {'funder': 'https://kg.ebrains.eu/api/instances/0139955e-29fe-4fcf-be66-2d7a75ff50b9'}), is_custodian_of=KGQuery([<class 'fairgraph.openminds.core.products.dataset.Dataset'>, <class 'fairgraph.openminds.core.products.dataset_version.DatasetVersion'>, <class 'fairgraph.openminds.publications.live_paper.LivePaper'>, <class 'fairgraph.openminds.publications.live_paper_version.LivePaperVersion'>, <class 'fairgraph.openminds.sands.atlas.brain_atlas.BrainAtlas'>, <class 'fairgraph.openminds.sands.atlas.brain_atlas_version.BrainAtlasVersion'>, <class 'fairgraph.openminds.sands.atlas.common_coordinate_space.CommonCoordinateSpace'>, <class 'fairgraph.openminds.sands.atlas.common_coordinate_space_version.CommonCoordinateSpaceVersion'>], {'custodians': 'https://kg.ebrains.eu/api/instances/0139955e-29fe-4fcf-be66-2d7a75ff50b9'}), is_owner_of=KGQuery([<class 'fairgraph.openminds.ephys.device.electrode.Electrode'>, <class 'fairgraph.openminds.ephys.device.electrode_array.ElectrodeArray'>, <class 'fairgraph.openminds.ephys.device.pipette.Pipette'>, <class 'fairgraph.openminds.specimen_prep.device.slicing_device.SlicingDevice'>], {'owners': 'https://kg.ebrains.eu/api/instances/0139955e-29fe-4fcf-be66-2d7a75ff50b9'}), is_provider_of=KGQuery([<class 'fairgraph.openminds.chemicals.product_source.ProductSource'>], {'provider': 'https://kg.ebrains.eu/api/instances/0139955e-29fe-4fcf-be66-2d7a75ff50b9'}), manufactured=KGQuery([<class 'fairgraph.openminds.core.products.setup.Setup'>], {'manufacturers': 'https://kg.ebrains.eu/api/instances/0139955e-29fe-4fcf-be66-2d7a75ff50b9'}), published=KGQuery([<class 'fairgraph.openminds.publications.book.Book'>, <class 'fairgraph.openminds.publications.chapter.Chapter'>, <class 'fairgraph.openminds.publications.learning_resource.LearningResource'>, <class 'fairgraph.openminds.publications.scholarly_article.ScholarlyArticle'>], {'publisher': 'https://kg.ebrains.eu/api/instances/0139955e-29fe-4fcf-be66-2d7a75ff50b9'}), started=KGQuery([<class 'fairgraph.openminds.computation.data_analysis.DataAnalysis'>, <class 'fairgraph.openminds.computation.data_copy.DataCopy'>, <class 'fairgraph.openminds.computation.generic_computation.GenericComputation'>, <class 'fairgraph.openminds.computation.model_validation.ModelValidation'>, <class 'fairgraph.openminds.computation.optimization.Optimization'>, <class 'fairgraph.openminds.computation.simulation.Simulation'>, <class 'fairgraph.openminds.computation.visualization.Visualization'>, <class 'fairgraph.openminds.computation.workflow_execution.WorkflowExecution'>], {'started_by': 'https://kg.ebrains.eu/api/instances/0139955e-29fe-4fcf-be66-2d7a75ff50b9'}), space=common, id=https://kg.ebrains.eu/api/instances/0139955e-29fe-4fcf-be66-2d7a75ff50b9),\n",
       " Person(affiliations=Affiliation(), contact_information=KGProxy([<class 'fairgraph.openminds.core.actors.contact_information.ContactInformation'>], 'https://kg.ebrains.eu/api/instances/e4648f5c-0f32-4477-9b0a-a10e96426020'), digital_identifiers=KGProxy([<class 'fairgraph.openminds.core.digital_identifier.orcid.ORCID'>], 'https://kg.ebrains.eu/api/instances/b149587d-018d-489a-bc88-c14bd7108816'), family_name='Amunts', given_name='Katrin', activities=KGQuery([<class 'fairgraph.openminds.core.research.protocol_execution.ProtocolExecution'>, <class 'fairgraph.openminds.ephys.activity.cell_patching.CellPatching'>, <class 'fairgraph.openminds.ephys.activity.electrode_placement.ElectrodePlacement'>, <class 'fairgraph.openminds.ephys.activity.recording_activity.RecordingActivity'>, <class 'fairgraph.openminds.specimen_prep.activity.cranial_window_preparation.CranialWindowPreparation'>, <class 'fairgraph.openminds.specimen_prep.activity.tissue_culture_preparation.TissueCulturePreparation'>, <class 'fairgraph.openminds.specimen_prep.activity.tissue_sample_slicing.TissueSampleSlicing'>, <class 'fairgraph.openminds.stimulation.activity.stimulation_activity.StimulationActivity'>], {'performed_by': 'https://kg.ebrains.eu/api/instances/01784c79-9a7b-4b47-83b6-0f50c075af81'}), comments=KGQuery([<class 'fairgraph.openminds.core.miscellaneous.comment.Comment'>], {'commenter': 'https://kg.ebrains.eu/api/instances/01784c79-9a7b-4b47-83b6-0f50c075af81'}), coordinated_projects=KGQuery([<class 'fairgraph.openminds.core.products.project.Project'>], {'coordinators': 'https://kg.ebrains.eu/api/instances/01784c79-9a7b-4b47-83b6-0f50c075af81'}), developed=KGQuery([<class 'fairgraph.openminds.computation.validation_test.ValidationTest'>, <class 'fairgraph.openminds.computation.validation_test_version.ValidationTestVersion'>, <class 'fairgraph.openminds.computation.workflow_recipe.WorkflowRecipe'>, <class 'fairgraph.openminds.computation.workflow_recipe_version.WorkflowRecipeVersion'>, <class 'fairgraph.openminds.core.products.meta_data_model.MetaDataModel'>, <class 'fairgraph.openminds.core.products.meta_data_model_version.MetaDataModelVersion'>, <class 'fairgraph.openminds.core.products.model.Model'>, <class 'fairgraph.openminds.core.products.model_version.ModelVersion'>, <class 'fairgraph.openminds.core.products.software.Software'>, <class 'fairgraph.openminds.core.products.software_version.SoftwareVersion'>, <class 'fairgraph.openminds.core.products.web_service.WebService'>, <class 'fairgraph.openminds.core.products.web_service_version.WebServiceVersion'>], {'developers': 'https://kg.ebrains.eu/api/instances/01784c79-9a7b-4b47-83b6-0f50c075af81'}), funded=KGQuery([<class 'fairgraph.openminds.core.miscellaneous.funding.Funding'>], {'funder': 'https://kg.ebrains.eu/api/instances/01784c79-9a7b-4b47-83b6-0f50c075af81'}), is_custodian_of=KGQuery([<class 'fairgraph.openminds.core.products.dataset.Dataset'>, <class 'fairgraph.openminds.core.products.dataset_version.DatasetVersion'>, <class 'fairgraph.openminds.publications.live_paper.LivePaper'>, <class 'fairgraph.openminds.publications.live_paper_version.LivePaperVersion'>, <class 'fairgraph.openminds.sands.atlas.brain_atlas.BrainAtlas'>, <class 'fairgraph.openminds.sands.atlas.brain_atlas_version.BrainAtlasVersion'>, <class 'fairgraph.openminds.sands.atlas.common_coordinate_space.CommonCoordinateSpace'>, <class 'fairgraph.openminds.sands.atlas.common_coordinate_space_version.CommonCoordinateSpaceVersion'>], {'custodians': 'https://kg.ebrains.eu/api/instances/01784c79-9a7b-4b47-83b6-0f50c075af81'}), is_owner_of=KGQuery([<class 'fairgraph.openminds.ephys.device.electrode.Electrode'>, <class 'fairgraph.openminds.ephys.device.electrode_array.ElectrodeArray'>, <class 'fairgraph.openminds.ephys.device.pipette.Pipette'>, <class 'fairgraph.openminds.specimen_prep.device.slicing_device.SlicingDevice'>], {'owners': 'https://kg.ebrains.eu/api/instances/01784c79-9a7b-4b47-83b6-0f50c075af81'}), is_provider_of=KGQuery([<class 'fairgraph.openminds.chemicals.product_source.ProductSource'>], {'provider': 'https://kg.ebrains.eu/api/instances/01784c79-9a7b-4b47-83b6-0f50c075af81'}), manufactured=KGQuery([<class 'fairgraph.openminds.core.products.setup.Setup'>], {'manufacturers': 'https://kg.ebrains.eu/api/instances/01784c79-9a7b-4b47-83b6-0f50c075af81'}), published=KGQuery([<class 'fairgraph.openminds.publications.book.Book'>, <class 'fairgraph.openminds.publications.chapter.Chapter'>, <class 'fairgraph.openminds.publications.learning_resource.LearningResource'>, <class 'fairgraph.openminds.publications.scholarly_article.ScholarlyArticle'>], {'publisher': 'https://kg.ebrains.eu/api/instances/01784c79-9a7b-4b47-83b6-0f50c075af81'}), started=KGQuery([<class 'fairgraph.openminds.computation.data_analysis.DataAnalysis'>, <class 'fairgraph.openminds.computation.data_copy.DataCopy'>, <class 'fairgraph.openminds.computation.generic_computation.GenericComputation'>, <class 'fairgraph.openminds.computation.model_validation.ModelValidation'>, <class 'fairgraph.openminds.computation.optimization.Optimization'>, <class 'fairgraph.openminds.computation.simulation.Simulation'>, <class 'fairgraph.openminds.computation.visualization.Visualization'>, <class 'fairgraph.openminds.computation.workflow_execution.WorkflowExecution'>], {'started_by': 'https://kg.ebrains.eu/api/instances/01784c79-9a7b-4b47-83b6-0f50c075af81'}), space=common, id=https://kg.ebrains.eu/api/instances/01784c79-9a7b-4b47-83b6-0f50c075af81),\n",
       " Person(affiliations=Affiliation(member_of=KGProxy((<class 'fairgraph.openminds.core.actors.consortium.Consortium'>, <class 'fairgraph.openminds.core.actors.organization.Organization'>), 'https://kg.ebrains.eu/api/instances/71195e16-3b62-4515-9260-c26519933e4e')), contact_information=KGProxy([<class 'fairgraph.openminds.core.actors.contact_information.ContactInformation'>], 'https://kg.ebrains.eu/api/instances/486c10be-c3ab-4989-bbd7-114e396c317b'), digital_identifiers=KGProxy([<class 'fairgraph.openminds.core.digital_identifier.orcid.ORCID'>], 'https://kg.ebrains.eu/api/instances/4dd9efce-36b0-456c-b1d0-a94d63519404'), family_name='Corona-González', given_name='César E.', activities=KGQuery([<class 'fairgraph.openminds.core.research.protocol_execution.ProtocolExecution'>, <class 'fairgraph.openminds.ephys.activity.cell_patching.CellPatching'>, <class 'fairgraph.openminds.ephys.activity.electrode_placement.ElectrodePlacement'>, <class 'fairgraph.openminds.ephys.activity.recording_activity.RecordingActivity'>, <class 'fairgraph.openminds.specimen_prep.activity.cranial_window_preparation.CranialWindowPreparation'>, <class 'fairgraph.openminds.specimen_prep.activity.tissue_culture_preparation.TissueCulturePreparation'>, <class 'fairgraph.openminds.specimen_prep.activity.tissue_sample_slicing.TissueSampleSlicing'>, <class 'fairgraph.openminds.stimulation.activity.stimulation_activity.StimulationActivity'>], {'performed_by': 'https://kg.ebrains.eu/api/instances/017b03e5-b2b5-43c5-ad98-2b49761cc95f'}), comments=KGQuery([<class 'fairgraph.openminds.core.miscellaneous.comment.Comment'>], {'commenter': 'https://kg.ebrains.eu/api/instances/017b03e5-b2b5-43c5-ad98-2b49761cc95f'}), coordinated_projects=KGQuery([<class 'fairgraph.openminds.core.products.project.Project'>], {'coordinators': 'https://kg.ebrains.eu/api/instances/017b03e5-b2b5-43c5-ad98-2b49761cc95f'}), developed=KGQuery([<class 'fairgraph.openminds.computation.validation_test.ValidationTest'>, <class 'fairgraph.openminds.computation.validation_test_version.ValidationTestVersion'>, <class 'fairgraph.openminds.computation.workflow_recipe.WorkflowRecipe'>, <class 'fairgraph.openminds.computation.workflow_recipe_version.WorkflowRecipeVersion'>, <class 'fairgraph.openminds.core.products.meta_data_model.MetaDataModel'>, <class 'fairgraph.openminds.core.products.meta_data_model_version.MetaDataModelVersion'>, <class 'fairgraph.openminds.core.products.model.Model'>, <class 'fairgraph.openminds.core.products.model_version.ModelVersion'>, <class 'fairgraph.openminds.core.products.software.Software'>, <class 'fairgraph.openminds.core.products.software_version.SoftwareVersion'>, <class 'fairgraph.openminds.core.products.web_service.WebService'>, <class 'fairgraph.openminds.core.products.web_service_version.WebServiceVersion'>], {'developers': 'https://kg.ebrains.eu/api/instances/017b03e5-b2b5-43c5-ad98-2b49761cc95f'}), funded=KGQuery([<class 'fairgraph.openminds.core.miscellaneous.funding.Funding'>], {'funder': 'https://kg.ebrains.eu/api/instances/017b03e5-b2b5-43c5-ad98-2b49761cc95f'}), is_custodian_of=KGQuery([<class 'fairgraph.openminds.core.products.dataset.Dataset'>, <class 'fairgraph.openminds.core.products.dataset_version.DatasetVersion'>, <class 'fairgraph.openminds.publications.live_paper.LivePaper'>, <class 'fairgraph.openminds.publications.live_paper_version.LivePaperVersion'>, <class 'fairgraph.openminds.sands.atlas.brain_atlas.BrainAtlas'>, <class 'fairgraph.openminds.sands.atlas.brain_atlas_version.BrainAtlasVersion'>, <class 'fairgraph.openminds.sands.atlas.common_coordinate_space.CommonCoordinateSpace'>, <class 'fairgraph.openminds.sands.atlas.common_coordinate_space_version.CommonCoordinateSpaceVersion'>], {'custodians': 'https://kg.ebrains.eu/api/instances/017b03e5-b2b5-43c5-ad98-2b49761cc95f'}), is_owner_of=KGQuery([<class 'fairgraph.openminds.ephys.device.electrode.Electrode'>, <class 'fairgraph.openminds.ephys.device.electrode_array.ElectrodeArray'>, <class 'fairgraph.openminds.ephys.device.pipette.Pipette'>, <class 'fairgraph.openminds.specimen_prep.device.slicing_device.SlicingDevice'>], {'owners': 'https://kg.ebrains.eu/api/instances/017b03e5-b2b5-43c5-ad98-2b49761cc95f'}), is_provider_of=KGQuery([<class 'fairgraph.openminds.chemicals.product_source.ProductSource'>], {'provider': 'https://kg.ebrains.eu/api/instances/017b03e5-b2b5-43c5-ad98-2b49761cc95f'}), manufactured=KGQuery([<class 'fairgraph.openminds.core.products.setup.Setup'>], {'manufacturers': 'https://kg.ebrains.eu/api/instances/017b03e5-b2b5-43c5-ad98-2b49761cc95f'}), published=KGQuery([<class 'fairgraph.openminds.publications.book.Book'>, <class 'fairgraph.openminds.publications.chapter.Chapter'>, <class 'fairgraph.openminds.publications.learning_resource.LearningResource'>, <class 'fairgraph.openminds.publications.scholarly_article.ScholarlyArticle'>], {'publisher': 'https://kg.ebrains.eu/api/instances/017b03e5-b2b5-43c5-ad98-2b49761cc95f'}), started=KGQuery([<class 'fairgraph.openminds.computation.data_analysis.DataAnalysis'>, <class 'fairgraph.openminds.computation.data_copy.DataCopy'>, <class 'fairgraph.openminds.computation.generic_computation.GenericComputation'>, <class 'fairgraph.openminds.computation.model_validation.ModelValidation'>, <class 'fairgraph.openminds.computation.optimization.Optimization'>, <class 'fairgraph.openminds.computation.simulation.Simulation'>, <class 'fairgraph.openminds.computation.visualization.Visualization'>, <class 'fairgraph.openminds.computation.workflow_execution.WorkflowExecution'>], {'started_by': 'https://kg.ebrains.eu/api/instances/017b03e5-b2b5-43c5-ad98-2b49761cc95f'}), space=common, id=https://kg.ebrains.eu/api/instances/017b03e5-b2b5-43c5-ad98-2b49761cc95f),\n",
       " Person(affiliations=Affiliation(member_of=KGProxy((<class 'fairgraph.openminds.core.actors.consortium.Consortium'>, <class 'fairgraph.openminds.core.actors.organization.Organization'>), 'https://kg.ebrains.eu/api/instances/641eb4a2-9e0e-40a2-97de-447d1850531b')), family_name='Fakhar', given_name='Kayson', activities=KGQuery([<class 'fairgraph.openminds.core.research.protocol_execution.ProtocolExecution'>, <class 'fairgraph.openminds.ephys.activity.cell_patching.CellPatching'>, <class 'fairgraph.openminds.ephys.activity.electrode_placement.ElectrodePlacement'>, <class 'fairgraph.openminds.ephys.activity.recording_activity.RecordingActivity'>, <class 'fairgraph.openminds.specimen_prep.activity.cranial_window_preparation.CranialWindowPreparation'>, <class 'fairgraph.openminds.specimen_prep.activity.tissue_culture_preparation.TissueCulturePreparation'>, <class 'fairgraph.openminds.specimen_prep.activity.tissue_sample_slicing.TissueSampleSlicing'>, <class 'fairgraph.openminds.stimulation.activity.stimulation_activity.StimulationActivity'>], {'performed_by': 'https://kg.ebrains.eu/api/instances/0189f09e-cb9c-45b4-a90a-5c995b4e5b93'}), comments=KGQuery([<class 'fairgraph.openminds.core.miscellaneous.comment.Comment'>], {'commenter': 'https://kg.ebrains.eu/api/instances/0189f09e-cb9c-45b4-a90a-5c995b4e5b93'}), coordinated_projects=KGQuery([<class 'fairgraph.openminds.core.products.project.Project'>], {'coordinators': 'https://kg.ebrains.eu/api/instances/0189f09e-cb9c-45b4-a90a-5c995b4e5b93'}), developed=KGQuery([<class 'fairgraph.openminds.computation.validation_test.ValidationTest'>, <class 'fairgraph.openminds.computation.validation_test_version.ValidationTestVersion'>, <class 'fairgraph.openminds.computation.workflow_recipe.WorkflowRecipe'>, <class 'fairgraph.openminds.computation.workflow_recipe_version.WorkflowRecipeVersion'>, <class 'fairgraph.openminds.core.products.meta_data_model.MetaDataModel'>, <class 'fairgraph.openminds.core.products.meta_data_model_version.MetaDataModelVersion'>, <class 'fairgraph.openminds.core.products.model.Model'>, <class 'fairgraph.openminds.core.products.model_version.ModelVersion'>, <class 'fairgraph.openminds.core.products.software.Software'>, <class 'fairgraph.openminds.core.products.software_version.SoftwareVersion'>, <class 'fairgraph.openminds.core.products.web_service.WebService'>, <class 'fairgraph.openminds.core.products.web_service_version.WebServiceVersion'>], {'developers': 'https://kg.ebrains.eu/api/instances/0189f09e-cb9c-45b4-a90a-5c995b4e5b93'}), funded=KGQuery([<class 'fairgraph.openminds.core.miscellaneous.funding.Funding'>], {'funder': 'https://kg.ebrains.eu/api/instances/0189f09e-cb9c-45b4-a90a-5c995b4e5b93'}), is_custodian_of=KGQuery([<class 'fairgraph.openminds.core.products.dataset.Dataset'>, <class 'fairgraph.openminds.core.products.dataset_version.DatasetVersion'>, <class 'fairgraph.openminds.publications.live_paper.LivePaper'>, <class 'fairgraph.openminds.publications.live_paper_version.LivePaperVersion'>, <class 'fairgraph.openminds.sands.atlas.brain_atlas.BrainAtlas'>, <class 'fairgraph.openminds.sands.atlas.brain_atlas_version.BrainAtlasVersion'>, <class 'fairgraph.openminds.sands.atlas.common_coordinate_space.CommonCoordinateSpace'>, <class 'fairgraph.openminds.sands.atlas.common_coordinate_space_version.CommonCoordinateSpaceVersion'>], {'custodians': 'https://kg.ebrains.eu/api/instances/0189f09e-cb9c-45b4-a90a-5c995b4e5b93'}), is_owner_of=KGQuery([<class 'fairgraph.openminds.ephys.device.electrode.Electrode'>, <class 'fairgraph.openminds.ephys.device.electrode_array.ElectrodeArray'>, <class 'fairgraph.openminds.ephys.device.pipette.Pipette'>, <class 'fairgraph.openminds.specimen_prep.device.slicing_device.SlicingDevice'>], {'owners': 'https://kg.ebrains.eu/api/instances/0189f09e-cb9c-45b4-a90a-5c995b4e5b93'}), is_provider_of=KGQuery([<class 'fairgraph.openminds.chemicals.product_source.ProductSource'>], {'provider': 'https://kg.ebrains.eu/api/instances/0189f09e-cb9c-45b4-a90a-5c995b4e5b93'}), manufactured=KGQuery([<class 'fairgraph.openminds.core.products.setup.Setup'>], {'manufacturers': 'https://kg.ebrains.eu/api/instances/0189f09e-cb9c-45b4-a90a-5c995b4e5b93'}), published=KGQuery([<class 'fairgraph.openminds.publications.book.Book'>, <class 'fairgraph.openminds.publications.chapter.Chapter'>, <class 'fairgraph.openminds.publications.learning_resource.LearningResource'>, <class 'fairgraph.openminds.publications.scholarly_article.ScholarlyArticle'>], {'publisher': 'https://kg.ebrains.eu/api/instances/0189f09e-cb9c-45b4-a90a-5c995b4e5b93'}), started=KGQuery([<class 'fairgraph.openminds.computation.data_analysis.DataAnalysis'>, <class 'fairgraph.openminds.computation.data_copy.DataCopy'>, <class 'fairgraph.openminds.computation.generic_computation.GenericComputation'>, <class 'fairgraph.openminds.computation.model_validation.ModelValidation'>, <class 'fairgraph.openminds.computation.optimization.Optimization'>, <class 'fairgraph.openminds.computation.simulation.Simulation'>, <class 'fairgraph.openminds.computation.visualization.Visualization'>, <class 'fairgraph.openminds.computation.workflow_execution.WorkflowExecution'>], {'started_by': 'https://kg.ebrains.eu/api/instances/0189f09e-cb9c-45b4-a90a-5c995b4e5b93'}), space=common, id=https://kg.ebrains.eu/api/instances/0189f09e-cb9c-45b4-a90a-5c995b4e5b93),\n",
       " Person(affiliations=Affiliation(member_of=KGProxy((<class 'fairgraph.openminds.core.actors.consortium.Consortium'>, <class 'fairgraph.openminds.core.actors.organization.Organization'>), 'https://kg.ebrains.eu/api/instances/910c9fc0-7d57-4129-bc18-eb0530381d16')), contact_information=KGProxy([<class 'fairgraph.openminds.core.actors.contact_information.ContactInformation'>], 'https://kg.ebrains.eu/api/instances/cff1490f-90df-4edb-8d00-d8ec50665a65'), digital_identifiers=KGProxy([<class 'fairgraph.openminds.core.digital_identifier.orcid.ORCID'>], 'https://kg.ebrains.eu/api/instances/a1e1a1b9-4d9b-4e39-88ae-2e54ef527ec5'), family_name='Goebel', given_name='Rainer ', activities=KGQuery([<class 'fairgraph.openminds.core.research.protocol_execution.ProtocolExecution'>, <class 'fairgraph.openminds.ephys.activity.cell_patching.CellPatching'>, <class 'fairgraph.openminds.ephys.activity.electrode_placement.ElectrodePlacement'>, <class 'fairgraph.openminds.ephys.activity.recording_activity.RecordingActivity'>, <class 'fairgraph.openminds.specimen_prep.activity.cranial_window_preparation.CranialWindowPreparation'>, <class 'fairgraph.openminds.specimen_prep.activity.tissue_culture_preparation.TissueCulturePreparation'>, <class 'fairgraph.openminds.specimen_prep.activity.tissue_sample_slicing.TissueSampleSlicing'>, <class 'fairgraph.openminds.stimulation.activity.stimulation_activity.StimulationActivity'>], {'performed_by': 'https://kg.ebrains.eu/api/instances/0193e2db-3d48-4cbb-9f5e-a8fa48737148'}), comments=KGQuery([<class 'fairgraph.openminds.core.miscellaneous.comment.Comment'>], {'commenter': 'https://kg.ebrains.eu/api/instances/0193e2db-3d48-4cbb-9f5e-a8fa48737148'}), coordinated_projects=KGQuery([<class 'fairgraph.openminds.core.products.project.Project'>], {'coordinators': 'https://kg.ebrains.eu/api/instances/0193e2db-3d48-4cbb-9f5e-a8fa48737148'}), developed=KGQuery([<class 'fairgraph.openminds.computation.validation_test.ValidationTest'>, <class 'fairgraph.openminds.computation.validation_test_version.ValidationTestVersion'>, <class 'fairgraph.openminds.computation.workflow_recipe.WorkflowRecipe'>, <class 'fairgraph.openminds.computation.workflow_recipe_version.WorkflowRecipeVersion'>, <class 'fairgraph.openminds.core.products.meta_data_model.MetaDataModel'>, <class 'fairgraph.openminds.core.products.meta_data_model_version.MetaDataModelVersion'>, <class 'fairgraph.openminds.core.products.model.Model'>, <class 'fairgraph.openminds.core.products.model_version.ModelVersion'>, <class 'fairgraph.openminds.core.products.software.Software'>, <class 'fairgraph.openminds.core.products.software_version.SoftwareVersion'>, <class 'fairgraph.openminds.core.products.web_service.WebService'>, <class 'fairgraph.openminds.core.products.web_service_version.WebServiceVersion'>], {'developers': 'https://kg.ebrains.eu/api/instances/0193e2db-3d48-4cbb-9f5e-a8fa48737148'}), funded=KGQuery([<class 'fairgraph.openminds.core.miscellaneous.funding.Funding'>], {'funder': 'https://kg.ebrains.eu/api/instances/0193e2db-3d48-4cbb-9f5e-a8fa48737148'}), is_custodian_of=KGQuery([<class 'fairgraph.openminds.core.products.dataset.Dataset'>, <class 'fairgraph.openminds.core.products.dataset_version.DatasetVersion'>, <class 'fairgraph.openminds.publications.live_paper.LivePaper'>, <class 'fairgraph.openminds.publications.live_paper_version.LivePaperVersion'>, <class 'fairgraph.openminds.sands.atlas.brain_atlas.BrainAtlas'>, <class 'fairgraph.openminds.sands.atlas.brain_atlas_version.BrainAtlasVersion'>, <class 'fairgraph.openminds.sands.atlas.common_coordinate_space.CommonCoordinateSpace'>, <class 'fairgraph.openminds.sands.atlas.common_coordinate_space_version.CommonCoordinateSpaceVersion'>], {'custodians': 'https://kg.ebrains.eu/api/instances/0193e2db-3d48-4cbb-9f5e-a8fa48737148'}), is_owner_of=KGQuery([<class 'fairgraph.openminds.ephys.device.electrode.Electrode'>, <class 'fairgraph.openminds.ephys.device.electrode_array.ElectrodeArray'>, <class 'fairgraph.openminds.ephys.device.pipette.Pipette'>, <class 'fairgraph.openminds.specimen_prep.device.slicing_device.SlicingDevice'>], {'owners': 'https://kg.ebrains.eu/api/instances/0193e2db-3d48-4cbb-9f5e-a8fa48737148'}), is_provider_of=KGQuery([<class 'fairgraph.openminds.chemicals.product_source.ProductSource'>], {'provider': 'https://kg.ebrains.eu/api/instances/0193e2db-3d48-4cbb-9f5e-a8fa48737148'}), manufactured=KGQuery([<class 'fairgraph.openminds.core.products.setup.Setup'>], {'manufacturers': 'https://kg.ebrains.eu/api/instances/0193e2db-3d48-4cbb-9f5e-a8fa48737148'}), published=KGQuery([<class 'fairgraph.openminds.publications.book.Book'>, <class 'fairgraph.openminds.publications.chapter.Chapter'>, <class 'fairgraph.openminds.publications.learning_resource.LearningResource'>, <class 'fairgraph.openminds.publications.scholarly_article.ScholarlyArticle'>], {'publisher': 'https://kg.ebrains.eu/api/instances/0193e2db-3d48-4cbb-9f5e-a8fa48737148'}), started=KGQuery([<class 'fairgraph.openminds.computation.data_analysis.DataAnalysis'>, <class 'fairgraph.openminds.computation.data_copy.DataCopy'>, <class 'fairgraph.openminds.computation.generic_computation.GenericComputation'>, <class 'fairgraph.openminds.computation.model_validation.ModelValidation'>, <class 'fairgraph.openminds.computation.optimization.Optimization'>, <class 'fairgraph.openminds.computation.simulation.Simulation'>, <class 'fairgraph.openminds.computation.visualization.Visualization'>, <class 'fairgraph.openminds.computation.workflow_execution.WorkflowExecution'>], {'started_by': 'https://kg.ebrains.eu/api/instances/0193e2db-3d48-4cbb-9f5e-a8fa48737148'}), space=common, id=https://kg.ebrains.eu/api/instances/0193e2db-3d48-4cbb-9f5e-a8fa48737148),\n",
       " Person(contact_information=KGProxy([<class 'fairgraph.openminds.core.actors.contact_information.ContactInformation'>], 'https://kg.ebrains.eu/api/instances/624078e8-9e24-4ffb-be7f-62950ea478ef'), family_name='Karlsson', given_name='Jonas', activities=KGQuery([<class 'fairgraph.openminds.core.research.protocol_execution.ProtocolExecution'>, <class 'fairgraph.openminds.ephys.activity.cell_patching.CellPatching'>, <class 'fairgraph.openminds.ephys.activity.electrode_placement.ElectrodePlacement'>, <class 'fairgraph.openminds.ephys.activity.recording_activity.RecordingActivity'>, <class 'fairgraph.openminds.specimen_prep.activity.cranial_window_preparation.CranialWindowPreparation'>, <class 'fairgraph.openminds.specimen_prep.activity.tissue_culture_preparation.TissueCulturePreparation'>, <class 'fairgraph.openminds.specimen_prep.activity.tissue_sample_slicing.TissueSampleSlicing'>, <class 'fairgraph.openminds.stimulation.activity.stimulation_activity.StimulationActivity'>], {'performed_by': 'https://kg.ebrains.eu/api/instances/01b383eb-7c51-49c5-8de2-f817f41af7ff'}), comments=KGQuery([<class 'fairgraph.openminds.core.miscellaneous.comment.Comment'>], {'commenter': 'https://kg.ebrains.eu/api/instances/01b383eb-7c51-49c5-8de2-f817f41af7ff'}), coordinated_projects=KGQuery([<class 'fairgraph.openminds.core.products.project.Project'>], {'coordinators': 'https://kg.ebrains.eu/api/instances/01b383eb-7c51-49c5-8de2-f817f41af7ff'}), developed=KGQuery([<class 'fairgraph.openminds.computation.validation_test.ValidationTest'>, <class 'fairgraph.openminds.computation.validation_test_version.ValidationTestVersion'>, <class 'fairgraph.openminds.computation.workflow_recipe.WorkflowRecipe'>, <class 'fairgraph.openminds.computation.workflow_recipe_version.WorkflowRecipeVersion'>, <class 'fairgraph.openminds.core.products.meta_data_model.MetaDataModel'>, <class 'fairgraph.openminds.core.products.meta_data_model_version.MetaDataModelVersion'>, <class 'fairgraph.openminds.core.products.model.Model'>, <class 'fairgraph.openminds.core.products.model_version.ModelVersion'>, <class 'fairgraph.openminds.core.products.software.Software'>, <class 'fairgraph.openminds.core.products.software_version.SoftwareVersion'>, <class 'fairgraph.openminds.core.products.web_service.WebService'>, <class 'fairgraph.openminds.core.products.web_service_version.WebServiceVersion'>], {'developers': 'https://kg.ebrains.eu/api/instances/01b383eb-7c51-49c5-8de2-f817f41af7ff'}), funded=KGQuery([<class 'fairgraph.openminds.core.miscellaneous.funding.Funding'>], {'funder': 'https://kg.ebrains.eu/api/instances/01b383eb-7c51-49c5-8de2-f817f41af7ff'}), is_custodian_of=KGQuery([<class 'fairgraph.openminds.core.products.dataset.Dataset'>, <class 'fairgraph.openminds.core.products.dataset_version.DatasetVersion'>, <class 'fairgraph.openminds.publications.live_paper.LivePaper'>, <class 'fairgraph.openminds.publications.live_paper_version.LivePaperVersion'>, <class 'fairgraph.openminds.sands.atlas.brain_atlas.BrainAtlas'>, <class 'fairgraph.openminds.sands.atlas.brain_atlas_version.BrainAtlasVersion'>, <class 'fairgraph.openminds.sands.atlas.common_coordinate_space.CommonCoordinateSpace'>, <class 'fairgraph.openminds.sands.atlas.common_coordinate_space_version.CommonCoordinateSpaceVersion'>], {'custodians': 'https://kg.ebrains.eu/api/instances/01b383eb-7c51-49c5-8de2-f817f41af7ff'}), is_owner_of=KGQuery([<class 'fairgraph.openminds.ephys.device.electrode.Electrode'>, <class 'fairgraph.openminds.ephys.device.electrode_array.ElectrodeArray'>, <class 'fairgraph.openminds.ephys.device.pipette.Pipette'>, <class 'fairgraph.openminds.specimen_prep.device.slicing_device.SlicingDevice'>], {'owners': 'https://kg.ebrains.eu/api/instances/01b383eb-7c51-49c5-8de2-f817f41af7ff'}), is_provider_of=KGQuery([<class 'fairgraph.openminds.chemicals.product_source.ProductSource'>], {'provider': 'https://kg.ebrains.eu/api/instances/01b383eb-7c51-49c5-8de2-f817f41af7ff'}), manufactured=KGQuery([<class 'fairgraph.openminds.core.products.setup.Setup'>], {'manufacturers': 'https://kg.ebrains.eu/api/instances/01b383eb-7c51-49c5-8de2-f817f41af7ff'}), published=KGQuery([<class 'fairgraph.openminds.publications.book.Book'>, <class 'fairgraph.openminds.publications.chapter.Chapter'>, <class 'fairgraph.openminds.publications.learning_resource.LearningResource'>, <class 'fairgraph.openminds.publications.scholarly_article.ScholarlyArticle'>], {'publisher': 'https://kg.ebrains.eu/api/instances/01b383eb-7c51-49c5-8de2-f817f41af7ff'}), started=KGQuery([<class 'fairgraph.openminds.computation.data_analysis.DataAnalysis'>, <class 'fairgraph.openminds.computation.data_copy.DataCopy'>, <class 'fairgraph.openminds.computation.generic_computation.GenericComputation'>, <class 'fairgraph.openminds.computation.model_validation.ModelValidation'>, <class 'fairgraph.openminds.computation.optimization.Optimization'>, <class 'fairgraph.openminds.computation.simulation.Simulation'>, <class 'fairgraph.openminds.computation.visualization.Visualization'>, <class 'fairgraph.openminds.computation.workflow_execution.WorkflowExecution'>], {'started_by': 'https://kg.ebrains.eu/api/instances/01b383eb-7c51-49c5-8de2-f817f41af7ff'}), space=common, id=https://kg.ebrains.eu/api/instances/01b383eb-7c51-49c5-8de2-f817f41af7ff),\n",
       " Person(affiliations=Affiliation(member_of=KGProxy((<class 'fairgraph.openminds.core.actors.consortium.Consortium'>, <class 'fairgraph.openminds.core.actors.organization.Organization'>), 'https://kg.ebrains.eu/api/instances/4e4b5893-c162-499d-ab04-7135d40f32f6')), contact_information=KGProxy([<class 'fairgraph.openminds.core.actors.contact_information.ContactInformation'>], 'https://kg.ebrains.eu/api/instances/5058333e-4540-4340-9b80-ad920e800e8f'), family_name='Joly-Testault', given_name='Véronique', activities=KGQuery([<class 'fairgraph.openminds.core.research.protocol_execution.ProtocolExecution'>, <class 'fairgraph.openminds.ephys.activity.cell_patching.CellPatching'>, <class 'fairgraph.openminds.ephys.activity.electrode_placement.ElectrodePlacement'>, <class 'fairgraph.openminds.ephys.activity.recording_activity.RecordingActivity'>, <class 'fairgraph.openminds.specimen_prep.activity.cranial_window_preparation.CranialWindowPreparation'>, <class 'fairgraph.openminds.specimen_prep.activity.tissue_culture_preparation.TissueCulturePreparation'>, <class 'fairgraph.openminds.specimen_prep.activity.tissue_sample_slicing.TissueSampleSlicing'>, <class 'fairgraph.openminds.stimulation.activity.stimulation_activity.StimulationActivity'>], {'performed_by': 'https://kg.ebrains.eu/api/instances/01c1ef63-bc10-4d28-b471-20f7d52790e3'}), comments=KGQuery([<class 'fairgraph.openminds.core.miscellaneous.comment.Comment'>], {'commenter': 'https://kg.ebrains.eu/api/instances/01c1ef63-bc10-4d28-b471-20f7d52790e3'}), coordinated_projects=KGQuery([<class 'fairgraph.openminds.core.products.project.Project'>], {'coordinators': 'https://kg.ebrains.eu/api/instances/01c1ef63-bc10-4d28-b471-20f7d52790e3'}), developed=KGQuery([<class 'fairgraph.openminds.computation.validation_test.ValidationTest'>, <class 'fairgraph.openminds.computation.validation_test_version.ValidationTestVersion'>, <class 'fairgraph.openminds.computation.workflow_recipe.WorkflowRecipe'>, <class 'fairgraph.openminds.computation.workflow_recipe_version.WorkflowRecipeVersion'>, <class 'fairgraph.openminds.core.products.meta_data_model.MetaDataModel'>, <class 'fairgraph.openminds.core.products.meta_data_model_version.MetaDataModelVersion'>, <class 'fairgraph.openminds.core.products.model.Model'>, <class 'fairgraph.openminds.core.products.model_version.ModelVersion'>, <class 'fairgraph.openminds.core.products.software.Software'>, <class 'fairgraph.openminds.core.products.software_version.SoftwareVersion'>, <class 'fairgraph.openminds.core.products.web_service.WebService'>, <class 'fairgraph.openminds.core.products.web_service_version.WebServiceVersion'>], {'developers': 'https://kg.ebrains.eu/api/instances/01c1ef63-bc10-4d28-b471-20f7d52790e3'}), funded=KGQuery([<class 'fairgraph.openminds.core.miscellaneous.funding.Funding'>], {'funder': 'https://kg.ebrains.eu/api/instances/01c1ef63-bc10-4d28-b471-20f7d52790e3'}), is_custodian_of=KGQuery([<class 'fairgraph.openminds.core.products.dataset.Dataset'>, <class 'fairgraph.openminds.core.products.dataset_version.DatasetVersion'>, <class 'fairgraph.openminds.publications.live_paper.LivePaper'>, <class 'fairgraph.openminds.publications.live_paper_version.LivePaperVersion'>, <class 'fairgraph.openminds.sands.atlas.brain_atlas.BrainAtlas'>, <class 'fairgraph.openminds.sands.atlas.brain_atlas_version.BrainAtlasVersion'>, <class 'fairgraph.openminds.sands.atlas.common_coordinate_space.CommonCoordinateSpace'>, <class 'fairgraph.openminds.sands.atlas.common_coordinate_space_version.CommonCoordinateSpaceVersion'>], {'custodians': 'https://kg.ebrains.eu/api/instances/01c1ef63-bc10-4d28-b471-20f7d52790e3'}), is_owner_of=KGQuery([<class 'fairgraph.openminds.ephys.device.electrode.Electrode'>, <class 'fairgraph.openminds.ephys.device.electrode_array.ElectrodeArray'>, <class 'fairgraph.openminds.ephys.device.pipette.Pipette'>, <class 'fairgraph.openminds.specimen_prep.device.slicing_device.SlicingDevice'>], {'owners': 'https://kg.ebrains.eu/api/instances/01c1ef63-bc10-4d28-b471-20f7d52790e3'}), is_provider_of=KGQuery([<class 'fairgraph.openminds.chemicals.product_source.ProductSource'>], {'provider': 'https://kg.ebrains.eu/api/instances/01c1ef63-bc10-4d28-b471-20f7d52790e3'}), manufactured=KGQuery([<class 'fairgraph.openminds.core.products.setup.Setup'>], {'manufacturers': 'https://kg.ebrains.eu/api/instances/01c1ef63-bc10-4d28-b471-20f7d52790e3'}), published=KGQuery([<class 'fairgraph.openminds.publications.book.Book'>, <class 'fairgraph.openminds.publications.chapter.Chapter'>, <class 'fairgraph.openminds.publications.learning_resource.LearningResource'>, <class 'fairgraph.openminds.publications.scholarly_article.ScholarlyArticle'>], {'publisher': 'https://kg.ebrains.eu/api/instances/01c1ef63-bc10-4d28-b471-20f7d52790e3'}), started=KGQuery([<class 'fairgraph.openminds.computation.data_analysis.DataAnalysis'>, <class 'fairgraph.openminds.computation.data_copy.DataCopy'>, <class 'fairgraph.openminds.computation.generic_computation.GenericComputation'>, <class 'fairgraph.openminds.computation.model_validation.ModelValidation'>, <class 'fairgraph.openminds.computation.optimization.Optimization'>, <class 'fairgraph.openminds.computation.simulation.Simulation'>, <class 'fairgraph.openminds.computation.visualization.Visualization'>, <class 'fairgraph.openminds.computation.workflow_execution.WorkflowExecution'>], {'started_by': 'https://kg.ebrains.eu/api/instances/01c1ef63-bc10-4d28-b471-20f7d52790e3'}), space=common, id=https://kg.ebrains.eu/api/instances/01c1ef63-bc10-4d28-b471-20f7d52790e3),\n",
       " Person(affiliations=Affiliation(member_of=KGProxy((<class 'fairgraph.openminds.core.actors.consortium.Consortium'>, <class 'fairgraph.openminds.core.actors.organization.Organization'>), 'https://kg.ebrains.eu/api/instances/5743e39d-8c1d-4119-94ad-6c66f9507f16')), contact_information=KGProxy([<class 'fairgraph.openminds.core.actors.contact_information.ContactInformation'>], 'https://kg.ebrains.eu/api/instances/d186d667-50d8-428d-8c30-0b7dcd6dc4a0'), digital_identifiers=KGProxy([<class 'fairgraph.openminds.core.digital_identifier.orcid.ORCID'>], 'https://kg.ebrains.eu/api/instances/3f842fe3-f3ed-40e0-9b0f-d9b9e74f8030'), family_name='van den Haute', given_name='Chris ', activities=KGQuery([<class 'fairgraph.openminds.core.research.protocol_execution.ProtocolExecution'>, <class 'fairgraph.openminds.ephys.activity.cell_patching.CellPatching'>, <class 'fairgraph.openminds.ephys.activity.electrode_placement.ElectrodePlacement'>, <class 'fairgraph.openminds.ephys.activity.recording_activity.RecordingActivity'>, <class 'fairgraph.openminds.specimen_prep.activity.cranial_window_preparation.CranialWindowPreparation'>, <class 'fairgraph.openminds.specimen_prep.activity.tissue_culture_preparation.TissueCulturePreparation'>, <class 'fairgraph.openminds.specimen_prep.activity.tissue_sample_slicing.TissueSampleSlicing'>, <class 'fairgraph.openminds.stimulation.activity.stimulation_activity.StimulationActivity'>], {'performed_by': 'https://kg.ebrains.eu/api/instances/01eabbc2-96bd-43e0-a3bc-4769515c5e92'}), comments=KGQuery([<class 'fairgraph.openminds.core.miscellaneous.comment.Comment'>], {'commenter': 'https://kg.ebrains.eu/api/instances/01eabbc2-96bd-43e0-a3bc-4769515c5e92'}), coordinated_projects=KGQuery([<class 'fairgraph.openminds.core.products.project.Project'>], {'coordinators': 'https://kg.ebrains.eu/api/instances/01eabbc2-96bd-43e0-a3bc-4769515c5e92'}), developed=KGQuery([<class 'fairgraph.openminds.computation.validation_test.ValidationTest'>, <class 'fairgraph.openminds.computation.validation_test_version.ValidationTestVersion'>, <class 'fairgraph.openminds.computation.workflow_recipe.WorkflowRecipe'>, <class 'fairgraph.openminds.computation.workflow_recipe_version.WorkflowRecipeVersion'>, <class 'fairgraph.openminds.core.products.meta_data_model.MetaDataModel'>, <class 'fairgraph.openminds.core.products.meta_data_model_version.MetaDataModelVersion'>, <class 'fairgraph.openminds.core.products.model.Model'>, <class 'fairgraph.openminds.core.products.model_version.ModelVersion'>, <class 'fairgraph.openminds.core.products.software.Software'>, <class 'fairgraph.openminds.core.products.software_version.SoftwareVersion'>, <class 'fairgraph.openminds.core.products.web_service.WebService'>, <class 'fairgraph.openminds.core.products.web_service_version.WebServiceVersion'>], {'developers': 'https://kg.ebrains.eu/api/instances/01eabbc2-96bd-43e0-a3bc-4769515c5e92'}), funded=KGQuery([<class 'fairgraph.openminds.core.miscellaneous.funding.Funding'>], {'funder': 'https://kg.ebrains.eu/api/instances/01eabbc2-96bd-43e0-a3bc-4769515c5e92'}), is_custodian_of=KGQuery([<class 'fairgraph.openminds.core.products.dataset.Dataset'>, <class 'fairgraph.openminds.core.products.dataset_version.DatasetVersion'>, <class 'fairgraph.openminds.publications.live_paper.LivePaper'>, <class 'fairgraph.openminds.publications.live_paper_version.LivePaperVersion'>, <class 'fairgraph.openminds.sands.atlas.brain_atlas.BrainAtlas'>, <class 'fairgraph.openminds.sands.atlas.brain_atlas_version.BrainAtlasVersion'>, <class 'fairgraph.openminds.sands.atlas.common_coordinate_space.CommonCoordinateSpace'>, <class 'fairgraph.openminds.sands.atlas.common_coordinate_space_version.CommonCoordinateSpaceVersion'>], {'custodians': 'https://kg.ebrains.eu/api/instances/01eabbc2-96bd-43e0-a3bc-4769515c5e92'}), is_owner_of=KGQuery([<class 'fairgraph.openminds.ephys.device.electrode.Electrode'>, <class 'fairgraph.openminds.ephys.device.electrode_array.ElectrodeArray'>, <class 'fairgraph.openminds.ephys.device.pipette.Pipette'>, <class 'fairgraph.openminds.specimen_prep.device.slicing_device.SlicingDevice'>], {'owners': 'https://kg.ebrains.eu/api/instances/01eabbc2-96bd-43e0-a3bc-4769515c5e92'}), is_provider_of=KGQuery([<class 'fairgraph.openminds.chemicals.product_source.ProductSource'>], {'provider': 'https://kg.ebrains.eu/api/instances/01eabbc2-96bd-43e0-a3bc-4769515c5e92'}), manufactured=KGQuery([<class 'fairgraph.openminds.core.products.setup.Setup'>], {'manufacturers': 'https://kg.ebrains.eu/api/instances/01eabbc2-96bd-43e0-a3bc-4769515c5e92'}), published=KGQuery([<class 'fairgraph.openminds.publications.book.Book'>, <class 'fairgraph.openminds.publications.chapter.Chapter'>, <class 'fairgraph.openminds.publications.learning_resource.LearningResource'>, <class 'fairgraph.openminds.publications.scholarly_article.ScholarlyArticle'>], {'publisher': 'https://kg.ebrains.eu/api/instances/01eabbc2-96bd-43e0-a3bc-4769515c5e92'}), started=KGQuery([<class 'fairgraph.openminds.computation.data_analysis.DataAnalysis'>, <class 'fairgraph.openminds.computation.data_copy.DataCopy'>, <class 'fairgraph.openminds.computation.generic_computation.GenericComputation'>, <class 'fairgraph.openminds.computation.model_validation.ModelValidation'>, <class 'fairgraph.openminds.computation.optimization.Optimization'>, <class 'fairgraph.openminds.computation.simulation.Simulation'>, <class 'fairgraph.openminds.computation.visualization.Visualization'>, <class 'fairgraph.openminds.computation.workflow_execution.WorkflowExecution'>], {'started_by': 'https://kg.ebrains.eu/api/instances/01eabbc2-96bd-43e0-a3bc-4769515c5e92'}), space=common, id=https://kg.ebrains.eu/api/instances/01eabbc2-96bd-43e0-a3bc-4769515c5e92),\n",
       " Person(family_name='Gibbs', given_name='Steve', activities=KGQuery([<class 'fairgraph.openminds.core.research.protocol_execution.ProtocolExecution'>, <class 'fairgraph.openminds.ephys.activity.cell_patching.CellPatching'>, <class 'fairgraph.openminds.ephys.activity.electrode_placement.ElectrodePlacement'>, <class 'fairgraph.openminds.ephys.activity.recording_activity.RecordingActivity'>, <class 'fairgraph.openminds.specimen_prep.activity.cranial_window_preparation.CranialWindowPreparation'>, <class 'fairgraph.openminds.specimen_prep.activity.tissue_culture_preparation.TissueCulturePreparation'>, <class 'fairgraph.openminds.specimen_prep.activity.tissue_sample_slicing.TissueSampleSlicing'>, <class 'fairgraph.openminds.stimulation.activity.stimulation_activity.StimulationActivity'>], {'performed_by': 'https://kg.ebrains.eu/api/instances/0263955c-3a51-4830-94d9-3c85d7416534'}), comments=KGQuery([<class 'fairgraph.openminds.core.miscellaneous.comment.Comment'>], {'commenter': 'https://kg.ebrains.eu/api/instances/0263955c-3a51-4830-94d9-3c85d7416534'}), coordinated_projects=KGQuery([<class 'fairgraph.openminds.core.products.project.Project'>], {'coordinators': 'https://kg.ebrains.eu/api/instances/0263955c-3a51-4830-94d9-3c85d7416534'}), developed=KGQuery([<class 'fairgraph.openminds.computation.validation_test.ValidationTest'>, <class 'fairgraph.openminds.computation.validation_test_version.ValidationTestVersion'>, <class 'fairgraph.openminds.computation.workflow_recipe.WorkflowRecipe'>, <class 'fairgraph.openminds.computation.workflow_recipe_version.WorkflowRecipeVersion'>, <class 'fairgraph.openminds.core.products.meta_data_model.MetaDataModel'>, <class 'fairgraph.openminds.core.products.meta_data_model_version.MetaDataModelVersion'>, <class 'fairgraph.openminds.core.products.model.Model'>, <class 'fairgraph.openminds.core.products.model_version.ModelVersion'>, <class 'fairgraph.openminds.core.products.software.Software'>, <class 'fairgraph.openminds.core.products.software_version.SoftwareVersion'>, <class 'fairgraph.openminds.core.products.web_service.WebService'>, <class 'fairgraph.openminds.core.products.web_service_version.WebServiceVersion'>], {'developers': 'https://kg.ebrains.eu/api/instances/0263955c-3a51-4830-94d9-3c85d7416534'}), funded=KGQuery([<class 'fairgraph.openminds.core.miscellaneous.funding.Funding'>], {'funder': 'https://kg.ebrains.eu/api/instances/0263955c-3a51-4830-94d9-3c85d7416534'}), is_custodian_of=KGQuery([<class 'fairgraph.openminds.core.products.dataset.Dataset'>, <class 'fairgraph.openminds.core.products.dataset_version.DatasetVersion'>, <class 'fairgraph.openminds.publications.live_paper.LivePaper'>, <class 'fairgraph.openminds.publications.live_paper_version.LivePaperVersion'>, <class 'fairgraph.openminds.sands.atlas.brain_atlas.BrainAtlas'>, <class 'fairgraph.openminds.sands.atlas.brain_atlas_version.BrainAtlasVersion'>, <class 'fairgraph.openminds.sands.atlas.common_coordinate_space.CommonCoordinateSpace'>, <class 'fairgraph.openminds.sands.atlas.common_coordinate_space_version.CommonCoordinateSpaceVersion'>], {'custodians': 'https://kg.ebrains.eu/api/instances/0263955c-3a51-4830-94d9-3c85d7416534'}), is_owner_of=KGQuery([<class 'fairgraph.openminds.ephys.device.electrode.Electrode'>, <class 'fairgraph.openminds.ephys.device.electrode_array.ElectrodeArray'>, <class 'fairgraph.openminds.ephys.device.pipette.Pipette'>, <class 'fairgraph.openminds.specimen_prep.device.slicing_device.SlicingDevice'>], {'owners': 'https://kg.ebrains.eu/api/instances/0263955c-3a51-4830-94d9-3c85d7416534'}), is_provider_of=KGQuery([<class 'fairgraph.openminds.chemicals.product_source.ProductSource'>], {'provider': 'https://kg.ebrains.eu/api/instances/0263955c-3a51-4830-94d9-3c85d7416534'}), manufactured=KGQuery([<class 'fairgraph.openminds.core.products.setup.Setup'>], {'manufacturers': 'https://kg.ebrains.eu/api/instances/0263955c-3a51-4830-94d9-3c85d7416534'}), published=KGQuery([<class 'fairgraph.openminds.publications.book.Book'>, <class 'fairgraph.openminds.publications.chapter.Chapter'>, <class 'fairgraph.openminds.publications.learning_resource.LearningResource'>, <class 'fairgraph.openminds.publications.scholarly_article.ScholarlyArticle'>], {'publisher': 'https://kg.ebrains.eu/api/instances/0263955c-3a51-4830-94d9-3c85d7416534'}), started=KGQuery([<class 'fairgraph.openminds.computation.data_analysis.DataAnalysis'>, <class 'fairgraph.openminds.computation.data_copy.DataCopy'>, <class 'fairgraph.openminds.computation.generic_computation.GenericComputation'>, <class 'fairgraph.openminds.computation.model_validation.ModelValidation'>, <class 'fairgraph.openminds.computation.optimization.Optimization'>, <class 'fairgraph.openminds.computation.simulation.Simulation'>, <class 'fairgraph.openminds.computation.visualization.Visualization'>, <class 'fairgraph.openminds.computation.workflow_execution.WorkflowExecution'>], {'started_by': 'https://kg.ebrains.eu/api/instances/0263955c-3a51-4830-94d9-3c85d7416534'}), space=common, id=https://kg.ebrains.eu/api/instances/0263955c-3a51-4830-94d9-3c85d7416534),\n",
       " Person(affiliations=Affiliation(member_of=KGProxy((<class 'fairgraph.openminds.core.actors.consortium.Consortium'>, <class 'fairgraph.openminds.core.actors.organization.Organization'>), 'https://kg.ebrains.eu/api/instances/475621ad-8670-4e2b-9c14-785dce81cf54')), contact_information=KGProxy([<class 'fairgraph.openminds.core.actors.contact_information.ContactInformation'>], 'https://kg.ebrains.eu/api/instances/863e856c-bc2b-478b-807c-ce30dbae8200'), digital_identifiers=KGProxy([<class 'fairgraph.openminds.core.digital_identifier.orcid.ORCID'>], 'https://kg.ebrains.eu/api/instances/dfbeb2bd-6e4d-4197-8214-5d03d67bf938'), family_name='Pezzulo', given_name='Giovanni', activities=KGQuery([<class 'fairgraph.openminds.core.research.protocol_execution.ProtocolExecution'>, <class 'fairgraph.openminds.ephys.activity.cell_patching.CellPatching'>, <class 'fairgraph.openminds.ephys.activity.electrode_placement.ElectrodePlacement'>, <class 'fairgraph.openminds.ephys.activity.recording_activity.RecordingActivity'>, <class 'fairgraph.openminds.specimen_prep.activity.cranial_window_preparation.CranialWindowPreparation'>, <class 'fairgraph.openminds.specimen_prep.activity.tissue_culture_preparation.TissueCulturePreparation'>, <class 'fairgraph.openminds.specimen_prep.activity.tissue_sample_slicing.TissueSampleSlicing'>, <class 'fairgraph.openminds.stimulation.activity.stimulation_activity.StimulationActivity'>], {'performed_by': 'https://kg.ebrains.eu/api/instances/026bd4fe-9463-4902-b1fc-c7224a900659'}), comments=KGQuery([<class 'fairgraph.openminds.core.miscellaneous.comment.Comment'>], {'commenter': 'https://kg.ebrains.eu/api/instances/026bd4fe-9463-4902-b1fc-c7224a900659'}), coordinated_projects=KGQuery([<class 'fairgraph.openminds.core.products.project.Project'>], {'coordinators': 'https://kg.ebrains.eu/api/instances/026bd4fe-9463-4902-b1fc-c7224a900659'}), developed=KGQuery([<class 'fairgraph.openminds.computation.validation_test.ValidationTest'>, <class 'fairgraph.openminds.computation.validation_test_version.ValidationTestVersion'>, <class 'fairgraph.openminds.computation.workflow_recipe.WorkflowRecipe'>, <class 'fairgraph.openminds.computation.workflow_recipe_version.WorkflowRecipeVersion'>, <class 'fairgraph.openminds.core.products.meta_data_model.MetaDataModel'>, <class 'fairgraph.openminds.core.products.meta_data_model_version.MetaDataModelVersion'>, <class 'fairgraph.openminds.core.products.model.Model'>, <class 'fairgraph.openminds.core.products.model_version.ModelVersion'>, <class 'fairgraph.openminds.core.products.software.Software'>, <class 'fairgraph.openminds.core.products.software_version.SoftwareVersion'>, <class 'fairgraph.openminds.core.products.web_service.WebService'>, <class 'fairgraph.openminds.core.products.web_service_version.WebServiceVersion'>], {'developers': 'https://kg.ebrains.eu/api/instances/026bd4fe-9463-4902-b1fc-c7224a900659'}), funded=KGQuery([<class 'fairgraph.openminds.core.miscellaneous.funding.Funding'>], {'funder': 'https://kg.ebrains.eu/api/instances/026bd4fe-9463-4902-b1fc-c7224a900659'}), is_custodian_of=KGQuery([<class 'fairgraph.openminds.core.products.dataset.Dataset'>, <class 'fairgraph.openminds.core.products.dataset_version.DatasetVersion'>, <class 'fairgraph.openminds.publications.live_paper.LivePaper'>, <class 'fairgraph.openminds.publications.live_paper_version.LivePaperVersion'>, <class 'fairgraph.openminds.sands.atlas.brain_atlas.BrainAtlas'>, <class 'fairgraph.openminds.sands.atlas.brain_atlas_version.BrainAtlasVersion'>, <class 'fairgraph.openminds.sands.atlas.common_coordinate_space.CommonCoordinateSpace'>, <class 'fairgraph.openminds.sands.atlas.common_coordinate_space_version.CommonCoordinateSpaceVersion'>], {'custodians': 'https://kg.ebrains.eu/api/instances/026bd4fe-9463-4902-b1fc-c7224a900659'}), is_owner_of=KGQuery([<class 'fairgraph.openminds.ephys.device.electrode.Electrode'>, <class 'fairgraph.openminds.ephys.device.electrode_array.ElectrodeArray'>, <class 'fairgraph.openminds.ephys.device.pipette.Pipette'>, <class 'fairgraph.openminds.specimen_prep.device.slicing_device.SlicingDevice'>], {'owners': 'https://kg.ebrains.eu/api/instances/026bd4fe-9463-4902-b1fc-c7224a900659'}), is_provider_of=KGQuery([<class 'fairgraph.openminds.chemicals.product_source.ProductSource'>], {'provider': 'https://kg.ebrains.eu/api/instances/026bd4fe-9463-4902-b1fc-c7224a900659'}), manufactured=KGQuery([<class 'fairgraph.openminds.core.products.setup.Setup'>], {'manufacturers': 'https://kg.ebrains.eu/api/instances/026bd4fe-9463-4902-b1fc-c7224a900659'}), published=KGQuery([<class 'fairgraph.openminds.publications.book.Book'>, <class 'fairgraph.openminds.publications.chapter.Chapter'>, <class 'fairgraph.openminds.publications.learning_resource.LearningResource'>, <class 'fairgraph.openminds.publications.scholarly_article.ScholarlyArticle'>], {'publisher': 'https://kg.ebrains.eu/api/instances/026bd4fe-9463-4902-b1fc-c7224a900659'}), started=KGQuery([<class 'fairgraph.openminds.computation.data_analysis.DataAnalysis'>, <class 'fairgraph.openminds.computation.data_copy.DataCopy'>, <class 'fairgraph.openminds.computation.generic_computation.GenericComputation'>, <class 'fairgraph.openminds.computation.model_validation.ModelValidation'>, <class 'fairgraph.openminds.computation.optimization.Optimization'>, <class 'fairgraph.openminds.computation.simulation.Simulation'>, <class 'fairgraph.openminds.computation.visualization.Visualization'>, <class 'fairgraph.openminds.computation.workflow_execution.WorkflowExecution'>], {'started_by': 'https://kg.ebrains.eu/api/instances/026bd4fe-9463-4902-b1fc-c7224a900659'}), space=common, id=https://kg.ebrains.eu/api/instances/026bd4fe-9463-4902-b1fc-c7224a900659),\n",
       " Person(affiliations=[Affiliation(member_of=KGProxy((<class 'fairgraph.openminds.core.actors.consortium.Consortium'>, <class 'fairgraph.openminds.core.actors.organization.Organization'>), 'https://kg.ebrains.eu/api/instances/cb950596-96eb-475a-8699-47aa0a86634d')), Affiliation(member_of=KGProxy((<class 'fairgraph.openminds.core.actors.consortium.Consortium'>, <class 'fairgraph.openminds.core.actors.organization.Organization'>), 'https://kg.ebrains.eu/api/instances/f84b2220-425e-447a-8649-4fa3de0b080d'))], contact_information=KGProxy([<class 'fairgraph.openminds.core.actors.contact_information.ContactInformation'>], 'https://kg.ebrains.eu/api/instances/f372c135-12ff-4c90-aeb1-0234d4e18f27'), family_name='Nishimoto', given_name='Shinji', activities=KGQuery([<class 'fairgraph.openminds.core.research.protocol_execution.ProtocolExecution'>, <class 'fairgraph.openminds.ephys.activity.cell_patching.CellPatching'>, <class 'fairgraph.openminds.ephys.activity.electrode_placement.ElectrodePlacement'>, <class 'fairgraph.openminds.ephys.activity.recording_activity.RecordingActivity'>, <class 'fairgraph.openminds.specimen_prep.activity.cranial_window_preparation.CranialWindowPreparation'>, <class 'fairgraph.openminds.specimen_prep.activity.tissue_culture_preparation.TissueCulturePreparation'>, <class 'fairgraph.openminds.specimen_prep.activity.tissue_sample_slicing.TissueSampleSlicing'>, <class 'fairgraph.openminds.stimulation.activity.stimulation_activity.StimulationActivity'>], {'performed_by': 'https://kg.ebrains.eu/api/instances/027876f6-f919-4415-b4c5-0cc9fc2a0208'}), comments=KGQuery([<class 'fairgraph.openminds.core.miscellaneous.comment.Comment'>], {'commenter': 'https://kg.ebrains.eu/api/instances/027876f6-f919-4415-b4c5-0cc9fc2a0208'}), coordinated_projects=KGQuery([<class 'fairgraph.openminds.core.products.project.Project'>], {'coordinators': 'https://kg.ebrains.eu/api/instances/027876f6-f919-4415-b4c5-0cc9fc2a0208'}), developed=KGQuery([<class 'fairgraph.openminds.computation.validation_test.ValidationTest'>, <class 'fairgraph.openminds.computation.validation_test_version.ValidationTestVersion'>, <class 'fairgraph.openminds.computation.workflow_recipe.WorkflowRecipe'>, <class 'fairgraph.openminds.computation.workflow_recipe_version.WorkflowRecipeVersion'>, <class 'fairgraph.openminds.core.products.meta_data_model.MetaDataModel'>, <class 'fairgraph.openminds.core.products.meta_data_model_version.MetaDataModelVersion'>, <class 'fairgraph.openminds.core.products.model.Model'>, <class 'fairgraph.openminds.core.products.model_version.ModelVersion'>, <class 'fairgraph.openminds.core.products.software.Software'>, <class 'fairgraph.openminds.core.products.software_version.SoftwareVersion'>, <class 'fairgraph.openminds.core.products.web_service.WebService'>, <class 'fairgraph.openminds.core.products.web_service_version.WebServiceVersion'>], {'developers': 'https://kg.ebrains.eu/api/instances/027876f6-f919-4415-b4c5-0cc9fc2a0208'}), funded=KGQuery([<class 'fairgraph.openminds.core.miscellaneous.funding.Funding'>], {'funder': 'https://kg.ebrains.eu/api/instances/027876f6-f919-4415-b4c5-0cc9fc2a0208'}), is_custodian_of=KGQuery([<class 'fairgraph.openminds.core.products.dataset.Dataset'>, <class 'fairgraph.openminds.core.products.dataset_version.DatasetVersion'>, <class 'fairgraph.openminds.publications.live_paper.LivePaper'>, <class 'fairgraph.openminds.publications.live_paper_version.LivePaperVersion'>, <class 'fairgraph.openminds.sands.atlas.brain_atlas.BrainAtlas'>, <class 'fairgraph.openminds.sands.atlas.brain_atlas_version.BrainAtlasVersion'>, <class 'fairgraph.openminds.sands.atlas.common_coordinate_space.CommonCoordinateSpace'>, <class 'fairgraph.openminds.sands.atlas.common_coordinate_space_version.CommonCoordinateSpaceVersion'>], {'custodians': 'https://kg.ebrains.eu/api/instances/027876f6-f919-4415-b4c5-0cc9fc2a0208'}), is_owner_of=KGQuery([<class 'fairgraph.openminds.ephys.device.electrode.Electrode'>, <class 'fairgraph.openminds.ephys.device.electrode_array.ElectrodeArray'>, <class 'fairgraph.openminds.ephys.device.pipette.Pipette'>, <class 'fairgraph.openminds.specimen_prep.device.slicing_device.SlicingDevice'>], {'owners': 'https://kg.ebrains.eu/api/instances/027876f6-f919-4415-b4c5-0cc9fc2a0208'}), is_provider_of=KGQuery([<class 'fairgraph.openminds.chemicals.product_source.ProductSource'>], {'provider': 'https://kg.ebrains.eu/api/instances/027876f6-f919-4415-b4c5-0cc9fc2a0208'}), manufactured=KGQuery([<class 'fairgraph.openminds.core.products.setup.Setup'>], {'manufacturers': 'https://kg.ebrains.eu/api/instances/027876f6-f919-4415-b4c5-0cc9fc2a0208'}), published=KGQuery([<class 'fairgraph.openminds.publications.book.Book'>, <class 'fairgraph.openminds.publications.chapter.Chapter'>, <class 'fairgraph.openminds.publications.learning_resource.LearningResource'>, <class 'fairgraph.openminds.publications.scholarly_article.ScholarlyArticle'>], {'publisher': 'https://kg.ebrains.eu/api/instances/027876f6-f919-4415-b4c5-0cc9fc2a0208'}), started=KGQuery([<class 'fairgraph.openminds.computation.data_analysis.DataAnalysis'>, <class 'fairgraph.openminds.computation.data_copy.DataCopy'>, <class 'fairgraph.openminds.computation.generic_computation.GenericComputation'>, <class 'fairgraph.openminds.computation.model_validation.ModelValidation'>, <class 'fairgraph.openminds.computation.optimization.Optimization'>, <class 'fairgraph.openminds.computation.simulation.Simulation'>, <class 'fairgraph.openminds.computation.visualization.Visualization'>, <class 'fairgraph.openminds.computation.workflow_execution.WorkflowExecution'>], {'started_by': 'https://kg.ebrains.eu/api/instances/027876f6-f919-4415-b4c5-0cc9fc2a0208'}), space=common, id=https://kg.ebrains.eu/api/instances/027876f6-f919-4415-b4c5-0cc9fc2a0208),\n",
       " Person(affiliations=Affiliation(member_of=KGProxy((<class 'fairgraph.openminds.core.actors.consortium.Consortium'>, <class 'fairgraph.openminds.core.actors.organization.Organization'>), 'https://kg.ebrains.eu/api/instances/c49a07e0-1d5d-47f1-bcd1-b3a5aab277c2')), contact_information=KGProxy([<class 'fairgraph.openminds.core.actors.contact_information.ContactInformation'>], 'https://kg.ebrains.eu/api/instances/a47ed8cf-3810-4390-9f86-050b022926c8'), digital_identifiers=KGProxy([<class 'fairgraph.openminds.core.digital_identifier.orcid.ORCID'>], 'https://kg.ebrains.eu/api/instances/ed55b45b-2486-4f68-bcae-3ed0426188d0'), family_name='Papadopetraki', given_name='Danae', activities=KGQuery([<class 'fairgraph.openminds.core.research.protocol_execution.ProtocolExecution'>, <class 'fairgraph.openminds.ephys.activity.cell_patching.CellPatching'>, <class 'fairgraph.openminds.ephys.activity.electrode_placement.ElectrodePlacement'>, <class 'fairgraph.openminds.ephys.activity.recording_activity.RecordingActivity'>, <class 'fairgraph.openminds.specimen_prep.activity.cranial_window_preparation.CranialWindowPreparation'>, <class 'fairgraph.openminds.specimen_prep.activity.tissue_culture_preparation.TissueCulturePreparation'>, <class 'fairgraph.openminds.specimen_prep.activity.tissue_sample_slicing.TissueSampleSlicing'>, <class 'fairgraph.openminds.stimulation.activity.stimulation_activity.StimulationActivity'>], {'performed_by': 'https://kg.ebrains.eu/api/instances/027d4cd5-ecb4-46a0-80e0-6004a9461a0e'}), comments=KGQuery([<class 'fairgraph.openminds.core.miscellaneous.comment.Comment'>], {'commenter': 'https://kg.ebrains.eu/api/instances/027d4cd5-ecb4-46a0-80e0-6004a9461a0e'}), coordinated_projects=KGQuery([<class 'fairgraph.openminds.core.products.project.Project'>], {'coordinators': 'https://kg.ebrains.eu/api/instances/027d4cd5-ecb4-46a0-80e0-6004a9461a0e'}), developed=KGQuery([<class 'fairgraph.openminds.computation.validation_test.ValidationTest'>, <class 'fairgraph.openminds.computation.validation_test_version.ValidationTestVersion'>, <class 'fairgraph.openminds.computation.workflow_recipe.WorkflowRecipe'>, <class 'fairgraph.openminds.computation.workflow_recipe_version.WorkflowRecipeVersion'>, <class 'fairgraph.openminds.core.products.meta_data_model.MetaDataModel'>, <class 'fairgraph.openminds.core.products.meta_data_model_version.MetaDataModelVersion'>, <class 'fairgraph.openminds.core.products.model.Model'>, <class 'fairgraph.openminds.core.products.model_version.ModelVersion'>, <class 'fairgraph.openminds.core.products.software.Software'>, <class 'fairgraph.openminds.core.products.software_version.SoftwareVersion'>, <class 'fairgraph.openminds.core.products.web_service.WebService'>, <class 'fairgraph.openminds.core.products.web_service_version.WebServiceVersion'>], {'developers': 'https://kg.ebrains.eu/api/instances/027d4cd5-ecb4-46a0-80e0-6004a9461a0e'}), funded=KGQuery([<class 'fairgraph.openminds.core.miscellaneous.funding.Funding'>], {'funder': 'https://kg.ebrains.eu/api/instances/027d4cd5-ecb4-46a0-80e0-6004a9461a0e'}), is_custodian_of=KGQuery([<class 'fairgraph.openminds.core.products.dataset.Dataset'>, <class 'fairgraph.openminds.core.products.dataset_version.DatasetVersion'>, <class 'fairgraph.openminds.publications.live_paper.LivePaper'>, <class 'fairgraph.openminds.publications.live_paper_version.LivePaperVersion'>, <class 'fairgraph.openminds.sands.atlas.brain_atlas.BrainAtlas'>, <class 'fairgraph.openminds.sands.atlas.brain_atlas_version.BrainAtlasVersion'>, <class 'fairgraph.openminds.sands.atlas.common_coordinate_space.CommonCoordinateSpace'>, <class 'fairgraph.openminds.sands.atlas.common_coordinate_space_version.CommonCoordinateSpaceVersion'>], {'custodians': 'https://kg.ebrains.eu/api/instances/027d4cd5-ecb4-46a0-80e0-6004a9461a0e'}), is_owner_of=KGQuery([<class 'fairgraph.openminds.ephys.device.electrode.Electrode'>, <class 'fairgraph.openminds.ephys.device.electrode_array.ElectrodeArray'>, <class 'fairgraph.openminds.ephys.device.pipette.Pipette'>, <class 'fairgraph.openminds.specimen_prep.device.slicing_device.SlicingDevice'>], {'owners': 'https://kg.ebrains.eu/api/instances/027d4cd5-ecb4-46a0-80e0-6004a9461a0e'}), is_provider_of=KGQuery([<class 'fairgraph.openminds.chemicals.product_source.ProductSource'>], {'provider': 'https://kg.ebrains.eu/api/instances/027d4cd5-ecb4-46a0-80e0-6004a9461a0e'}), manufactured=KGQuery([<class 'fairgraph.openminds.core.products.setup.Setup'>], {'manufacturers': 'https://kg.ebrains.eu/api/instances/027d4cd5-ecb4-46a0-80e0-6004a9461a0e'}), published=KGQuery([<class 'fairgraph.openminds.publications.book.Book'>, <class 'fairgraph.openminds.publications.chapter.Chapter'>, <class 'fairgraph.openminds.publications.learning_resource.LearningResource'>, <class 'fairgraph.openminds.publications.scholarly_article.ScholarlyArticle'>], {'publisher': 'https://kg.ebrains.eu/api/instances/027d4cd5-ecb4-46a0-80e0-6004a9461a0e'}), started=KGQuery([<class 'fairgraph.openminds.computation.data_analysis.DataAnalysis'>, <class 'fairgraph.openminds.computation.data_copy.DataCopy'>, <class 'fairgraph.openminds.computation.generic_computation.GenericComputation'>, <class 'fairgraph.openminds.computation.model_validation.ModelValidation'>, <class 'fairgraph.openminds.computation.optimization.Optimization'>, <class 'fairgraph.openminds.computation.simulation.Simulation'>, <class 'fairgraph.openminds.computation.visualization.Visualization'>, <class 'fairgraph.openminds.computation.workflow_execution.WorkflowExecution'>], {'started_by': 'https://kg.ebrains.eu/api/instances/027d4cd5-ecb4-46a0-80e0-6004a9461a0e'}), space=common, id=https://kg.ebrains.eu/api/instances/027d4cd5-ecb4-46a0-80e0-6004a9461a0e),\n",
       " Person(affiliations=Affiliation(member_of=KGProxy((<class 'fairgraph.openminds.core.actors.consortium.Consortium'>, <class 'fairgraph.openminds.core.actors.organization.Organization'>), 'https://kg.ebrains.eu/api/instances/7730f0a9-1cbf-4407-b7f7-0d60050ca671')), contact_information=KGProxy([<class 'fairgraph.openminds.core.actors.contact_information.ContactInformation'>], 'https://kg.ebrains.eu/api/instances/7130444f-602c-43d5-b5dc-e498a5624819'), family_name='Hadj-Bouziane', given_name='Fadila', activities=KGQuery([<class 'fairgraph.openminds.core.research.protocol_execution.ProtocolExecution'>, <class 'fairgraph.openminds.ephys.activity.cell_patching.CellPatching'>, <class 'fairgraph.openminds.ephys.activity.electrode_placement.ElectrodePlacement'>, <class 'fairgraph.openminds.ephys.activity.recording_activity.RecordingActivity'>, <class 'fairgraph.openminds.specimen_prep.activity.cranial_window_preparation.CranialWindowPreparation'>, <class 'fairgraph.openminds.specimen_prep.activity.tissue_culture_preparation.TissueCulturePreparation'>, <class 'fairgraph.openminds.specimen_prep.activity.tissue_sample_slicing.TissueSampleSlicing'>, <class 'fairgraph.openminds.stimulation.activity.stimulation_activity.StimulationActivity'>], {'performed_by': 'https://kg.ebrains.eu/api/instances/0295f4f7-7f24-448a-8dc5-d865d7dcce8d'}), comments=KGQuery([<class 'fairgraph.openminds.core.miscellaneous.comment.Comment'>], {'commenter': 'https://kg.ebrains.eu/api/instances/0295f4f7-7f24-448a-8dc5-d865d7dcce8d'}), coordinated_projects=KGQuery([<class 'fairgraph.openminds.core.products.project.Project'>], {'coordinators': 'https://kg.ebrains.eu/api/instances/0295f4f7-7f24-448a-8dc5-d865d7dcce8d'}), developed=KGQuery([<class 'fairgraph.openminds.computation.validation_test.ValidationTest'>, <class 'fairgraph.openminds.computation.validation_test_version.ValidationTestVersion'>, <class 'fairgraph.openminds.computation.workflow_recipe.WorkflowRecipe'>, <class 'fairgraph.openminds.computation.workflow_recipe_version.WorkflowRecipeVersion'>, <class 'fairgraph.openminds.core.products.meta_data_model.MetaDataModel'>, <class 'fairgraph.openminds.core.products.meta_data_model_version.MetaDataModelVersion'>, <class 'fairgraph.openminds.core.products.model.Model'>, <class 'fairgraph.openminds.core.products.model_version.ModelVersion'>, <class 'fairgraph.openminds.core.products.software.Software'>, <class 'fairgraph.openminds.core.products.software_version.SoftwareVersion'>, <class 'fairgraph.openminds.core.products.web_service.WebService'>, <class 'fairgraph.openminds.core.products.web_service_version.WebServiceVersion'>], {'developers': 'https://kg.ebrains.eu/api/instances/0295f4f7-7f24-448a-8dc5-d865d7dcce8d'}), funded=KGQuery([<class 'fairgraph.openminds.core.miscellaneous.funding.Funding'>], {'funder': 'https://kg.ebrains.eu/api/instances/0295f4f7-7f24-448a-8dc5-d865d7dcce8d'}), is_custodian_of=KGQuery([<class 'fairgraph.openminds.core.products.dataset.Dataset'>, <class 'fairgraph.openminds.core.products.dataset_version.DatasetVersion'>, <class 'fairgraph.openminds.publications.live_paper.LivePaper'>, <class 'fairgraph.openminds.publications.live_paper_version.LivePaperVersion'>, <class 'fairgraph.openminds.sands.atlas.brain_atlas.BrainAtlas'>, <class 'fairgraph.openminds.sands.atlas.brain_atlas_version.BrainAtlasVersion'>, <class 'fairgraph.openminds.sands.atlas.common_coordinate_space.CommonCoordinateSpace'>, <class 'fairgraph.openminds.sands.atlas.common_coordinate_space_version.CommonCoordinateSpaceVersion'>], {'custodians': 'https://kg.ebrains.eu/api/instances/0295f4f7-7f24-448a-8dc5-d865d7dcce8d'}), is_owner_of=KGQuery([<class 'fairgraph.openminds.ephys.device.electrode.Electrode'>, <class 'fairgraph.openminds.ephys.device.electrode_array.ElectrodeArray'>, <class 'fairgraph.openminds.ephys.device.pipette.Pipette'>, <class 'fairgraph.openminds.specimen_prep.device.slicing_device.SlicingDevice'>], {'owners': 'https://kg.ebrains.eu/api/instances/0295f4f7-7f24-448a-8dc5-d865d7dcce8d'}), is_provider_of=KGQuery([<class 'fairgraph.openminds.chemicals.product_source.ProductSource'>], {'provider': 'https://kg.ebrains.eu/api/instances/0295f4f7-7f24-448a-8dc5-d865d7dcce8d'}), manufactured=KGQuery([<class 'fairgraph.openminds.core.products.setup.Setup'>], {'manufacturers': 'https://kg.ebrains.eu/api/instances/0295f4f7-7f24-448a-8dc5-d865d7dcce8d'}), published=KGQuery([<class 'fairgraph.openminds.publications.book.Book'>, <class 'fairgraph.openminds.publications.chapter.Chapter'>, <class 'fairgraph.openminds.publications.learning_resource.LearningResource'>, <class 'fairgraph.openminds.publications.scholarly_article.ScholarlyArticle'>], {'publisher': 'https://kg.ebrains.eu/api/instances/0295f4f7-7f24-448a-8dc5-d865d7dcce8d'}), started=KGQuery([<class 'fairgraph.openminds.computation.data_analysis.DataAnalysis'>, <class 'fairgraph.openminds.computation.data_copy.DataCopy'>, <class 'fairgraph.openminds.computation.generic_computation.GenericComputation'>, <class 'fairgraph.openminds.computation.model_validation.ModelValidation'>, <class 'fairgraph.openminds.computation.optimization.Optimization'>, <class 'fairgraph.openminds.computation.simulation.Simulation'>, <class 'fairgraph.openminds.computation.visualization.Visualization'>, <class 'fairgraph.openminds.computation.workflow_execution.WorkflowExecution'>], {'started_by': 'https://kg.ebrains.eu/api/instances/0295f4f7-7f24-448a-8dc5-d865d7dcce8d'}), space=common, id=https://kg.ebrains.eu/api/instances/0295f4f7-7f24-448a-8dc5-d865d7dcce8d),\n",
       " Person(affiliations=Affiliation(member_of=KGProxy((<class 'fairgraph.openminds.core.actors.consortium.Consortium'>, <class 'fairgraph.openminds.core.actors.organization.Organization'>), 'https://kg.ebrains.eu/api/instances/ae0d9b44-e586-4d97-a4e5-bd0b98335441')), contact_information=KGProxy([<class 'fairgraph.openminds.core.actors.contact_information.ContactInformation'>], 'https://kg.ebrains.eu/api/instances/5fc72b4a-5486-4b27-923c-dd6c64407bc5'), digital_identifiers=KGProxy([<class 'fairgraph.openminds.core.digital_identifier.orcid.ORCID'>], 'https://kg.ebrains.eu/api/instances/fd2d0380-7716-408e-82e9-1297a8d6bc3a'), family_name='Majka', given_name='Piotr', activities=KGQuery([<class 'fairgraph.openminds.core.research.protocol_execution.ProtocolExecution'>, <class 'fairgraph.openminds.ephys.activity.cell_patching.CellPatching'>, <class 'fairgraph.openminds.ephys.activity.electrode_placement.ElectrodePlacement'>, <class 'fairgraph.openminds.ephys.activity.recording_activity.RecordingActivity'>, <class 'fairgraph.openminds.specimen_prep.activity.cranial_window_preparation.CranialWindowPreparation'>, <class 'fairgraph.openminds.specimen_prep.activity.tissue_culture_preparation.TissueCulturePreparation'>, <class 'fairgraph.openminds.specimen_prep.activity.tissue_sample_slicing.TissueSampleSlicing'>, <class 'fairgraph.openminds.stimulation.activity.stimulation_activity.StimulationActivity'>], {'performed_by': 'https://kg.ebrains.eu/api/instances/02f7ed59-65bf-489e-9357-a00c6a29bf85'}), comments=KGQuery([<class 'fairgraph.openminds.core.miscellaneous.comment.Comment'>], {'commenter': 'https://kg.ebrains.eu/api/instances/02f7ed59-65bf-489e-9357-a00c6a29bf85'}), coordinated_projects=KGQuery([<class 'fairgraph.openminds.core.products.project.Project'>], {'coordinators': 'https://kg.ebrains.eu/api/instances/02f7ed59-65bf-489e-9357-a00c6a29bf85'}), developed=KGQuery([<class 'fairgraph.openminds.computation.validation_test.ValidationTest'>, <class 'fairgraph.openminds.computation.validation_test_version.ValidationTestVersion'>, <class 'fairgraph.openminds.computation.workflow_recipe.WorkflowRecipe'>, <class 'fairgraph.openminds.computation.workflow_recipe_version.WorkflowRecipeVersion'>, <class 'fairgraph.openminds.core.products.meta_data_model.MetaDataModel'>, <class 'fairgraph.openminds.core.products.meta_data_model_version.MetaDataModelVersion'>, <class 'fairgraph.openminds.core.products.model.Model'>, <class 'fairgraph.openminds.core.products.model_version.ModelVersion'>, <class 'fairgraph.openminds.core.products.software.Software'>, <class 'fairgraph.openminds.core.products.software_version.SoftwareVersion'>, <class 'fairgraph.openminds.core.products.web_service.WebService'>, <class 'fairgraph.openminds.core.products.web_service_version.WebServiceVersion'>], {'developers': 'https://kg.ebrains.eu/api/instances/02f7ed59-65bf-489e-9357-a00c6a29bf85'}), funded=KGQuery([<class 'fairgraph.openminds.core.miscellaneous.funding.Funding'>], {'funder': 'https://kg.ebrains.eu/api/instances/02f7ed59-65bf-489e-9357-a00c6a29bf85'}), is_custodian_of=KGQuery([<class 'fairgraph.openminds.core.products.dataset.Dataset'>, <class 'fairgraph.openminds.core.products.dataset_version.DatasetVersion'>, <class 'fairgraph.openminds.publications.live_paper.LivePaper'>, <class 'fairgraph.openminds.publications.live_paper_version.LivePaperVersion'>, <class 'fairgraph.openminds.sands.atlas.brain_atlas.BrainAtlas'>, <class 'fairgraph.openminds.sands.atlas.brain_atlas_version.BrainAtlasVersion'>, <class 'fairgraph.openminds.sands.atlas.common_coordinate_space.CommonCoordinateSpace'>, <class 'fairgraph.openminds.sands.atlas.common_coordinate_space_version.CommonCoordinateSpaceVersion'>], {'custodians': 'https://kg.ebrains.eu/api/instances/02f7ed59-65bf-489e-9357-a00c6a29bf85'}), is_owner_of=KGQuery([<class 'fairgraph.openminds.ephys.device.electrode.Electrode'>, <class 'fairgraph.openminds.ephys.device.electrode_array.ElectrodeArray'>, <class 'fairgraph.openminds.ephys.device.pipette.Pipette'>, <class 'fairgraph.openminds.specimen_prep.device.slicing_device.SlicingDevice'>], {'owners': 'https://kg.ebrains.eu/api/instances/02f7ed59-65bf-489e-9357-a00c6a29bf85'}), is_provider_of=KGQuery([<class 'fairgraph.openminds.chemicals.product_source.ProductSource'>], {'provider': 'https://kg.ebrains.eu/api/instances/02f7ed59-65bf-489e-9357-a00c6a29bf85'}), manufactured=KGQuery([<class 'fairgraph.openminds.core.products.setup.Setup'>], {'manufacturers': 'https://kg.ebrains.eu/api/instances/02f7ed59-65bf-489e-9357-a00c6a29bf85'}), published=KGQuery([<class 'fairgraph.openminds.publications.book.Book'>, <class 'fairgraph.openminds.publications.chapter.Chapter'>, <class 'fairgraph.openminds.publications.learning_resource.LearningResource'>, <class 'fairgraph.openminds.publications.scholarly_article.ScholarlyArticle'>], {'publisher': 'https://kg.ebrains.eu/api/instances/02f7ed59-65bf-489e-9357-a00c6a29bf85'}), started=KGQuery([<class 'fairgraph.openminds.computation.data_analysis.DataAnalysis'>, <class 'fairgraph.openminds.computation.data_copy.DataCopy'>, <class 'fairgraph.openminds.computation.generic_computation.GenericComputation'>, <class 'fairgraph.openminds.computation.model_validation.ModelValidation'>, <class 'fairgraph.openminds.computation.optimization.Optimization'>, <class 'fairgraph.openminds.computation.simulation.Simulation'>, <class 'fairgraph.openminds.computation.visualization.Visualization'>, <class 'fairgraph.openminds.computation.workflow_execution.WorkflowExecution'>], {'started_by': 'https://kg.ebrains.eu/api/instances/02f7ed59-65bf-489e-9357-a00c6a29bf85'}), space=common, id=https://kg.ebrains.eu/api/instances/02f7ed59-65bf-489e-9357-a00c6a29bf85),\n",
       " Person(affiliations=Affiliation(member_of=KGProxy((<class 'fairgraph.openminds.core.actors.consortium.Consortium'>, <class 'fairgraph.openminds.core.actors.organization.Organization'>), 'https://kg.ebrains.eu/api/instances/52842df2-f507-4bcf-bd3e-eddb183c019b')), contact_information=KGProxy([<class 'fairgraph.openminds.core.actors.contact_information.ContactInformation'>], 'https://kg.ebrains.eu/api/instances/f006c562-6ce1-40b5-aa26-8ba49ba7a514'), family_name='Cleeren', given_name='Evy', activities=KGQuery([<class 'fairgraph.openminds.core.research.protocol_execution.ProtocolExecution'>, <class 'fairgraph.openminds.ephys.activity.cell_patching.CellPatching'>, <class 'fairgraph.openminds.ephys.activity.electrode_placement.ElectrodePlacement'>, <class 'fairgraph.openminds.ephys.activity.recording_activity.RecordingActivity'>, <class 'fairgraph.openminds.specimen_prep.activity.cranial_window_preparation.CranialWindowPreparation'>, <class 'fairgraph.openminds.specimen_prep.activity.tissue_culture_preparation.TissueCulturePreparation'>, <class 'fairgraph.openminds.specimen_prep.activity.tissue_sample_slicing.TissueSampleSlicing'>, <class 'fairgraph.openminds.stimulation.activity.stimulation_activity.StimulationActivity'>], {'performed_by': 'https://kg.ebrains.eu/api/instances/031319ac-9f80-477a-9e3d-ba850c9cc564'}), comments=KGQuery([<class 'fairgraph.openminds.core.miscellaneous.comment.Comment'>], {'commenter': 'https://kg.ebrains.eu/api/instances/031319ac-9f80-477a-9e3d-ba850c9cc564'}), coordinated_projects=KGQuery([<class 'fairgraph.openminds.core.products.project.Project'>], {'coordinators': 'https://kg.ebrains.eu/api/instances/031319ac-9f80-477a-9e3d-ba850c9cc564'}), developed=KGQuery([<class 'fairgraph.openminds.computation.validation_test.ValidationTest'>, <class 'fairgraph.openminds.computation.validation_test_version.ValidationTestVersion'>, <class 'fairgraph.openminds.computation.workflow_recipe.WorkflowRecipe'>, <class 'fairgraph.openminds.computation.workflow_recipe_version.WorkflowRecipeVersion'>, <class 'fairgraph.openminds.core.products.meta_data_model.MetaDataModel'>, <class 'fairgraph.openminds.core.products.meta_data_model_version.MetaDataModelVersion'>, <class 'fairgraph.openminds.core.products.model.Model'>, <class 'fairgraph.openminds.core.products.model_version.ModelVersion'>, <class 'fairgraph.openminds.core.products.software.Software'>, <class 'fairgraph.openminds.core.products.software_version.SoftwareVersion'>, <class 'fairgraph.openminds.core.products.web_service.WebService'>, <class 'fairgraph.openminds.core.products.web_service_version.WebServiceVersion'>], {'developers': 'https://kg.ebrains.eu/api/instances/031319ac-9f80-477a-9e3d-ba850c9cc564'}), funded=KGQuery([<class 'fairgraph.openminds.core.miscellaneous.funding.Funding'>], {'funder': 'https://kg.ebrains.eu/api/instances/031319ac-9f80-477a-9e3d-ba850c9cc564'}), is_custodian_of=KGQuery([<class 'fairgraph.openminds.core.products.dataset.Dataset'>, <class 'fairgraph.openminds.core.products.dataset_version.DatasetVersion'>, <class 'fairgraph.openminds.publications.live_paper.LivePaper'>, <class 'fairgraph.openminds.publications.live_paper_version.LivePaperVersion'>, <class 'fairgraph.openminds.sands.atlas.brain_atlas.BrainAtlas'>, <class 'fairgraph.openminds.sands.atlas.brain_atlas_version.BrainAtlasVersion'>, <class 'fairgraph.openminds.sands.atlas.common_coordinate_space.CommonCoordinateSpace'>, <class 'fairgraph.openminds.sands.atlas.common_coordinate_space_version.CommonCoordinateSpaceVersion'>], {'custodians': 'https://kg.ebrains.eu/api/instances/031319ac-9f80-477a-9e3d-ba850c9cc564'}), is_owner_of=KGQuery([<class 'fairgraph.openminds.ephys.device.electrode.Electrode'>, <class 'fairgraph.openminds.ephys.device.electrode_array.ElectrodeArray'>, <class 'fairgraph.openminds.ephys.device.pipette.Pipette'>, <class 'fairgraph.openminds.specimen_prep.device.slicing_device.SlicingDevice'>], {'owners': 'https://kg.ebrains.eu/api/instances/031319ac-9f80-477a-9e3d-ba850c9cc564'}), is_provider_of=KGQuery([<class 'fairgraph.openminds.chemicals.product_source.ProductSource'>], {'provider': 'https://kg.ebrains.eu/api/instances/031319ac-9f80-477a-9e3d-ba850c9cc564'}), manufactured=KGQuery([<class 'fairgraph.openminds.core.products.setup.Setup'>], {'manufacturers': 'https://kg.ebrains.eu/api/instances/031319ac-9f80-477a-9e3d-ba850c9cc564'}), published=KGQuery([<class 'fairgraph.openminds.publications.book.Book'>, <class 'fairgraph.openminds.publications.chapter.Chapter'>, <class 'fairgraph.openminds.publications.learning_resource.LearningResource'>, <class 'fairgraph.openminds.publications.scholarly_article.ScholarlyArticle'>], {'publisher': 'https://kg.ebrains.eu/api/instances/031319ac-9f80-477a-9e3d-ba850c9cc564'}), started=KGQuery([<class 'fairgraph.openminds.computation.data_analysis.DataAnalysis'>, <class 'fairgraph.openminds.computation.data_copy.DataCopy'>, <class 'fairgraph.openminds.computation.generic_computation.GenericComputation'>, <class 'fairgraph.openminds.computation.model_validation.ModelValidation'>, <class 'fairgraph.openminds.computation.optimization.Optimization'>, <class 'fairgraph.openminds.computation.simulation.Simulation'>, <class 'fairgraph.openminds.computation.visualization.Visualization'>, <class 'fairgraph.openminds.computation.workflow_execution.WorkflowExecution'>], {'started_by': 'https://kg.ebrains.eu/api/instances/031319ac-9f80-477a-9e3d-ba850c9cc564'}), space=common, id=https://kg.ebrains.eu/api/instances/031319ac-9f80-477a-9e3d-ba850c9cc564),\n",
       " Person(contact_information=KGProxy([<class 'fairgraph.openminds.core.actors.contact_information.ContactInformation'>], 'https://kg.ebrains.eu/api/instances/e08dfe66-51ad-4475-9447-e47e66f23a5b'), digital_identifiers=KGProxy([<class 'fairgraph.openminds.core.digital_identifier.orcid.ORCID'>], 'https://kg.ebrains.eu/api/instances/986ede0e-421d-4e6f-82f3-6207b7a642f8'), family_name='Guillemain', given_name='Isabelle', activities=KGQuery([<class 'fairgraph.openminds.core.research.protocol_execution.ProtocolExecution'>, <class 'fairgraph.openminds.ephys.activity.cell_patching.CellPatching'>, <class 'fairgraph.openminds.ephys.activity.electrode_placement.ElectrodePlacement'>, <class 'fairgraph.openminds.ephys.activity.recording_activity.RecordingActivity'>, <class 'fairgraph.openminds.specimen_prep.activity.cranial_window_preparation.CranialWindowPreparation'>, <class 'fairgraph.openminds.specimen_prep.activity.tissue_culture_preparation.TissueCulturePreparation'>, <class 'fairgraph.openminds.specimen_prep.activity.tissue_sample_slicing.TissueSampleSlicing'>, <class 'fairgraph.openminds.stimulation.activity.stimulation_activity.StimulationActivity'>], {'performed_by': 'https://kg.ebrains.eu/api/instances/0321fad5-4175-4e63-b5fa-3fe0dfe4aea8'}), comments=KGQuery([<class 'fairgraph.openminds.core.miscellaneous.comment.Comment'>], {'commenter': 'https://kg.ebrains.eu/api/instances/0321fad5-4175-4e63-b5fa-3fe0dfe4aea8'}), coordinated_projects=KGQuery([<class 'fairgraph.openminds.core.products.project.Project'>], {'coordinators': 'https://kg.ebrains.eu/api/instances/0321fad5-4175-4e63-b5fa-3fe0dfe4aea8'}), developed=KGQuery([<class 'fairgraph.openminds.computation.validation_test.ValidationTest'>, <class 'fairgraph.openminds.computation.validation_test_version.ValidationTestVersion'>, <class 'fairgraph.openminds.computation.workflow_recipe.WorkflowRecipe'>, <class 'fairgraph.openminds.computation.workflow_recipe_version.WorkflowRecipeVersion'>, <class 'fairgraph.openminds.core.products.meta_data_model.MetaDataModel'>, <class 'fairgraph.openminds.core.products.meta_data_model_version.MetaDataModelVersion'>, <class 'fairgraph.openminds.core.products.model.Model'>, <class 'fairgraph.openminds.core.products.model_version.ModelVersion'>, <class 'fairgraph.openminds.core.products.software.Software'>, <class 'fairgraph.openminds.core.products.software_version.SoftwareVersion'>, <class 'fairgraph.openminds.core.products.web_service.WebService'>, <class 'fairgraph.openminds.core.products.web_service_version.WebServiceVersion'>], {'developers': 'https://kg.ebrains.eu/api/instances/0321fad5-4175-4e63-b5fa-3fe0dfe4aea8'}), funded=KGQuery([<class 'fairgraph.openminds.core.miscellaneous.funding.Funding'>], {'funder': 'https://kg.ebrains.eu/api/instances/0321fad5-4175-4e63-b5fa-3fe0dfe4aea8'}), is_custodian_of=KGQuery([<class 'fairgraph.openminds.core.products.dataset.Dataset'>, <class 'fairgraph.openminds.core.products.dataset_version.DatasetVersion'>, <class 'fairgraph.openminds.publications.live_paper.LivePaper'>, <class 'fairgraph.openminds.publications.live_paper_version.LivePaperVersion'>, <class 'fairgraph.openminds.sands.atlas.brain_atlas.BrainAtlas'>, <class 'fairgraph.openminds.sands.atlas.brain_atlas_version.BrainAtlasVersion'>, <class 'fairgraph.openminds.sands.atlas.common_coordinate_space.CommonCoordinateSpace'>, <class 'fairgraph.openminds.sands.atlas.common_coordinate_space_version.CommonCoordinateSpaceVersion'>], {'custodians': 'https://kg.ebrains.eu/api/instances/0321fad5-4175-4e63-b5fa-3fe0dfe4aea8'}), is_owner_of=KGQuery([<class 'fairgraph.openminds.ephys.device.electrode.Electrode'>, <class 'fairgraph.openminds.ephys.device.electrode_array.ElectrodeArray'>, <class 'fairgraph.openminds.ephys.device.pipette.Pipette'>, <class 'fairgraph.openminds.specimen_prep.device.slicing_device.SlicingDevice'>], {'owners': 'https://kg.ebrains.eu/api/instances/0321fad5-4175-4e63-b5fa-3fe0dfe4aea8'}), is_provider_of=KGQuery([<class 'fairgraph.openminds.chemicals.product_source.ProductSource'>], {'provider': 'https://kg.ebrains.eu/api/instances/0321fad5-4175-4e63-b5fa-3fe0dfe4aea8'}), manufactured=KGQuery([<class 'fairgraph.openminds.core.products.setup.Setup'>], {'manufacturers': 'https://kg.ebrains.eu/api/instances/0321fad5-4175-4e63-b5fa-3fe0dfe4aea8'}), published=KGQuery([<class 'fairgraph.openminds.publications.book.Book'>, <class 'fairgraph.openminds.publications.chapter.Chapter'>, <class 'fairgraph.openminds.publications.learning_resource.LearningResource'>, <class 'fairgraph.openminds.publications.scholarly_article.ScholarlyArticle'>], {'publisher': 'https://kg.ebrains.eu/api/instances/0321fad5-4175-4e63-b5fa-3fe0dfe4aea8'}), started=KGQuery([<class 'fairgraph.openminds.computation.data_analysis.DataAnalysis'>, <class 'fairgraph.openminds.computation.data_copy.DataCopy'>, <class 'fairgraph.openminds.computation.generic_computation.GenericComputation'>, <class 'fairgraph.openminds.computation.model_validation.ModelValidation'>, <class 'fairgraph.openminds.computation.optimization.Optimization'>, <class 'fairgraph.openminds.computation.simulation.Simulation'>, <class 'fairgraph.openminds.computation.visualization.Visualization'>, <class 'fairgraph.openminds.computation.workflow_execution.WorkflowExecution'>], {'started_by': 'https://kg.ebrains.eu/api/instances/0321fad5-4175-4e63-b5fa-3fe0dfe4aea8'}), space=common, id=https://kg.ebrains.eu/api/instances/0321fad5-4175-4e63-b5fa-3fe0dfe4aea8),\n",
       " Person(affiliations=[Affiliation(member_of=KGProxy((<class 'fairgraph.openminds.core.actors.consortium.Consortium'>, <class 'fairgraph.openminds.core.actors.organization.Organization'>), 'https://kg.ebrains.eu/api/instances/678b27c5-4289-4016-a8ce-006b192ec402')), Affiliation(member_of=KGProxy((<class 'fairgraph.openminds.core.actors.consortium.Consortium'>, <class 'fairgraph.openminds.core.actors.organization.Organization'>), 'https://kg.ebrains.eu/api/instances/1dbfbcc0-2470-471e-a8b0-8b0f1f2e8af9'))], family_name='Sousa', given_name='Alioscka A.', activities=KGQuery([<class 'fairgraph.openminds.core.research.protocol_execution.ProtocolExecution'>, <class 'fairgraph.openminds.ephys.activity.cell_patching.CellPatching'>, <class 'fairgraph.openminds.ephys.activity.electrode_placement.ElectrodePlacement'>, <class 'fairgraph.openminds.ephys.activity.recording_activity.RecordingActivity'>, <class 'fairgraph.openminds.specimen_prep.activity.cranial_window_preparation.CranialWindowPreparation'>, <class 'fairgraph.openminds.specimen_prep.activity.tissue_culture_preparation.TissueCulturePreparation'>, <class 'fairgraph.openminds.specimen_prep.activity.tissue_sample_slicing.TissueSampleSlicing'>, <class 'fairgraph.openminds.stimulation.activity.stimulation_activity.StimulationActivity'>], {'performed_by': 'https://kg.ebrains.eu/api/instances/03403fe8-a330-4cea-bfaa-ea6723d1a55f'}), comments=KGQuery([<class 'fairgraph.openminds.core.miscellaneous.comment.Comment'>], {'commenter': 'https://kg.ebrains.eu/api/instances/03403fe8-a330-4cea-bfaa-ea6723d1a55f'}), coordinated_projects=KGQuery([<class 'fairgraph.openminds.core.products.project.Project'>], {'coordinators': 'https://kg.ebrains.eu/api/instances/03403fe8-a330-4cea-bfaa-ea6723d1a55f'}), developed=KGQuery([<class 'fairgraph.openminds.computation.validation_test.ValidationTest'>, <class 'fairgraph.openminds.computation.validation_test_version.ValidationTestVersion'>, <class 'fairgraph.openminds.computation.workflow_recipe.WorkflowRecipe'>, <class 'fairgraph.openminds.computation.workflow_recipe_version.WorkflowRecipeVersion'>, <class 'fairgraph.openminds.core.products.meta_data_model.MetaDataModel'>, <class 'fairgraph.openminds.core.products.meta_data_model_version.MetaDataModelVersion'>, <class 'fairgraph.openminds.core.products.model.Model'>, <class 'fairgraph.openminds.core.products.model_version.ModelVersion'>, <class 'fairgraph.openminds.core.products.software.Software'>, <class 'fairgraph.openminds.core.products.software_version.SoftwareVersion'>, <class 'fairgraph.openminds.core.products.web_service.WebService'>, <class 'fairgraph.openminds.core.products.web_service_version.WebServiceVersion'>], {'developers': 'https://kg.ebrains.eu/api/instances/03403fe8-a330-4cea-bfaa-ea6723d1a55f'}), funded=KGQuery([<class 'fairgraph.openminds.core.miscellaneous.funding.Funding'>], {'funder': 'https://kg.ebrains.eu/api/instances/03403fe8-a330-4cea-bfaa-ea6723d1a55f'}), is_custodian_of=KGQuery([<class 'fairgraph.openminds.core.products.dataset.Dataset'>, <class 'fairgraph.openminds.core.products.dataset_version.DatasetVersion'>, <class 'fairgraph.openminds.publications.live_paper.LivePaper'>, <class 'fairgraph.openminds.publications.live_paper_version.LivePaperVersion'>, <class 'fairgraph.openminds.sands.atlas.brain_atlas.BrainAtlas'>, <class 'fairgraph.openminds.sands.atlas.brain_atlas_version.BrainAtlasVersion'>, <class 'fairgraph.openminds.sands.atlas.common_coordinate_space.CommonCoordinateSpace'>, <class 'fairgraph.openminds.sands.atlas.common_coordinate_space_version.CommonCoordinateSpaceVersion'>], {'custodians': 'https://kg.ebrains.eu/api/instances/03403fe8-a330-4cea-bfaa-ea6723d1a55f'}), is_owner_of=KGQuery([<class 'fairgraph.openminds.ephys.device.electrode.Electrode'>, <class 'fairgraph.openminds.ephys.device.electrode_array.ElectrodeArray'>, <class 'fairgraph.openminds.ephys.device.pipette.Pipette'>, <class 'fairgraph.openminds.specimen_prep.device.slicing_device.SlicingDevice'>], {'owners': 'https://kg.ebrains.eu/api/instances/03403fe8-a330-4cea-bfaa-ea6723d1a55f'}), is_provider_of=KGQuery([<class 'fairgraph.openminds.chemicals.product_source.ProductSource'>], {'provider': 'https://kg.ebrains.eu/api/instances/03403fe8-a330-4cea-bfaa-ea6723d1a55f'}), manufactured=KGQuery([<class 'fairgraph.openminds.core.products.setup.Setup'>], {'manufacturers': 'https://kg.ebrains.eu/api/instances/03403fe8-a330-4cea-bfaa-ea6723d1a55f'}), published=KGQuery([<class 'fairgraph.openminds.publications.book.Book'>, <class 'fairgraph.openminds.publications.chapter.Chapter'>, <class 'fairgraph.openminds.publications.learning_resource.LearningResource'>, <class 'fairgraph.openminds.publications.scholarly_article.ScholarlyArticle'>], {'publisher': 'https://kg.ebrains.eu/api/instances/03403fe8-a330-4cea-bfaa-ea6723d1a55f'}), started=KGQuery([<class 'fairgraph.openminds.computation.data_analysis.DataAnalysis'>, <class 'fairgraph.openminds.computation.data_copy.DataCopy'>, <class 'fairgraph.openminds.computation.generic_computation.GenericComputation'>, <class 'fairgraph.openminds.computation.model_validation.ModelValidation'>, <class 'fairgraph.openminds.computation.optimization.Optimization'>, <class 'fairgraph.openminds.computation.simulation.Simulation'>, <class 'fairgraph.openminds.computation.visualization.Visualization'>, <class 'fairgraph.openminds.computation.workflow_execution.WorkflowExecution'>], {'started_by': 'https://kg.ebrains.eu/api/instances/03403fe8-a330-4cea-bfaa-ea6723d1a55f'}), space=common, id=https://kg.ebrains.eu/api/instances/03403fe8-a330-4cea-bfaa-ea6723d1a55f),\n",
       " Person(affiliations=Affiliation(member_of=KGProxy((<class 'fairgraph.openminds.core.actors.consortium.Consortium'>, <class 'fairgraph.openminds.core.actors.organization.Organization'>), 'https://kg.ebrains.eu/api/instances/824cda5b-f747-42ce-a4e8-8c6d4eff66c0')), contact_information=KGProxy([<class 'fairgraph.openminds.core.actors.contact_information.ContactInformation'>], 'https://kg.ebrains.eu/api/instances/d94b0f3a-e776-4108-baea-527f0735e195'), digital_identifiers=KGProxy([<class 'fairgraph.openminds.core.digital_identifier.orcid.ORCID'>], 'https://kg.ebrains.eu/api/instances/e093ae26-2b10-4b70-bc10-fcbc3b230b5e'), family_name='Mansvelder', given_name='Huibert D.', activities=KGQuery([<class 'fairgraph.openminds.core.research.protocol_execution.ProtocolExecution'>, <class 'fairgraph.openminds.ephys.activity.cell_patching.CellPatching'>, <class 'fairgraph.openminds.ephys.activity.electrode_placement.ElectrodePlacement'>, <class 'fairgraph.openminds.ephys.activity.recording_activity.RecordingActivity'>, <class 'fairgraph.openminds.specimen_prep.activity.cranial_window_preparation.CranialWindowPreparation'>, <class 'fairgraph.openminds.specimen_prep.activity.tissue_culture_preparation.TissueCulturePreparation'>, <class 'fairgraph.openminds.specimen_prep.activity.tissue_sample_slicing.TissueSampleSlicing'>, <class 'fairgraph.openminds.stimulation.activity.stimulation_activity.StimulationActivity'>], {'performed_by': 'https://kg.ebrains.eu/api/instances/0354898a-74eb-472b-8167-f7079cf2e8eb'}), comments=KGQuery([<class 'fairgraph.openminds.core.miscellaneous.comment.Comment'>], {'commenter': 'https://kg.ebrains.eu/api/instances/0354898a-74eb-472b-8167-f7079cf2e8eb'}), coordinated_projects=KGQuery([<class 'fairgraph.openminds.core.products.project.Project'>], {'coordinators': 'https://kg.ebrains.eu/api/instances/0354898a-74eb-472b-8167-f7079cf2e8eb'}), developed=KGQuery([<class 'fairgraph.openminds.computation.validation_test.ValidationTest'>, <class 'fairgraph.openminds.computation.validation_test_version.ValidationTestVersion'>, <class 'fairgraph.openminds.computation.workflow_recipe.WorkflowRecipe'>, <class 'fairgraph.openminds.computation.workflow_recipe_version.WorkflowRecipeVersion'>, <class 'fairgraph.openminds.core.products.meta_data_model.MetaDataModel'>, <class 'fairgraph.openminds.core.products.meta_data_model_version.MetaDataModelVersion'>, <class 'fairgraph.openminds.core.products.model.Model'>, <class 'fairgraph.openminds.core.products.model_version.ModelVersion'>, <class 'fairgraph.openminds.core.products.software.Software'>, <class 'fairgraph.openminds.core.products.software_version.SoftwareVersion'>, <class 'fairgraph.openminds.core.products.web_service.WebService'>, <class 'fairgraph.openminds.core.products.web_service_version.WebServiceVersion'>], {'developers': 'https://kg.ebrains.eu/api/instances/0354898a-74eb-472b-8167-f7079cf2e8eb'}), funded=KGQuery([<class 'fairgraph.openminds.core.miscellaneous.funding.Funding'>], {'funder': 'https://kg.ebrains.eu/api/instances/0354898a-74eb-472b-8167-f7079cf2e8eb'}), is_custodian_of=KGQuery([<class 'fairgraph.openminds.core.products.dataset.Dataset'>, <class 'fairgraph.openminds.core.products.dataset_version.DatasetVersion'>, <class 'fairgraph.openminds.publications.live_paper.LivePaper'>, <class 'fairgraph.openminds.publications.live_paper_version.LivePaperVersion'>, <class 'fairgraph.openminds.sands.atlas.brain_atlas.BrainAtlas'>, <class 'fairgraph.openminds.sands.atlas.brain_atlas_version.BrainAtlasVersion'>, <class 'fairgraph.openminds.sands.atlas.common_coordinate_space.CommonCoordinateSpace'>, <class 'fairgraph.openminds.sands.atlas.common_coordinate_space_version.CommonCoordinateSpaceVersion'>], {'custodians': 'https://kg.ebrains.eu/api/instances/0354898a-74eb-472b-8167-f7079cf2e8eb'}), is_owner_of=KGQuery([<class 'fairgraph.openminds.ephys.device.electrode.Electrode'>, <class 'fairgraph.openminds.ephys.device.electrode_array.ElectrodeArray'>, <class 'fairgraph.openminds.ephys.device.pipette.Pipette'>, <class 'fairgraph.openminds.specimen_prep.device.slicing_device.SlicingDevice'>], {'owners': 'https://kg.ebrains.eu/api/instances/0354898a-74eb-472b-8167-f7079cf2e8eb'}), is_provider_of=KGQuery([<class 'fairgraph.openminds.chemicals.product_source.ProductSource'>], {'provider': 'https://kg.ebrains.eu/api/instances/0354898a-74eb-472b-8167-f7079cf2e8eb'}), manufactured=KGQuery([<class 'fairgraph.openminds.core.products.setup.Setup'>], {'manufacturers': 'https://kg.ebrains.eu/api/instances/0354898a-74eb-472b-8167-f7079cf2e8eb'}), published=KGQuery([<class 'fairgraph.openminds.publications.book.Book'>, <class 'fairgraph.openminds.publications.chapter.Chapter'>, <class 'fairgraph.openminds.publications.learning_resource.LearningResource'>, <class 'fairgraph.openminds.publications.scholarly_article.ScholarlyArticle'>], {'publisher': 'https://kg.ebrains.eu/api/instances/0354898a-74eb-472b-8167-f7079cf2e8eb'}), started=KGQuery([<class 'fairgraph.openminds.computation.data_analysis.DataAnalysis'>, <class 'fairgraph.openminds.computation.data_copy.DataCopy'>, <class 'fairgraph.openminds.computation.generic_computation.GenericComputation'>, <class 'fairgraph.openminds.computation.model_validation.ModelValidation'>, <class 'fairgraph.openminds.computation.optimization.Optimization'>, <class 'fairgraph.openminds.computation.simulation.Simulation'>, <class 'fairgraph.openminds.computation.visualization.Visualization'>, <class 'fairgraph.openminds.computation.workflow_execution.WorkflowExecution'>], {'started_by': 'https://kg.ebrains.eu/api/instances/0354898a-74eb-472b-8167-f7079cf2e8eb'}), space=common, id=https://kg.ebrains.eu/api/instances/0354898a-74eb-472b-8167-f7079cf2e8eb),\n",
       " Person(contact_information=KGProxy([<class 'fairgraph.openminds.core.actors.contact_information.ContactInformation'>], 'https://kg.ebrains.eu/api/instances/e81949fb-b059-46c8-80e5-160c1e94023f'), family_name='Spreizer', given_name='Sebastian', activities=KGQuery([<class 'fairgraph.openminds.core.research.protocol_execution.ProtocolExecution'>, <class 'fairgraph.openminds.ephys.activity.cell_patching.CellPatching'>, <class 'fairgraph.openminds.ephys.activity.electrode_placement.ElectrodePlacement'>, <class 'fairgraph.openminds.ephys.activity.recording_activity.RecordingActivity'>, <class 'fairgraph.openminds.specimen_prep.activity.cranial_window_preparation.CranialWindowPreparation'>, <class 'fairgraph.openminds.specimen_prep.activity.tissue_culture_preparation.TissueCulturePreparation'>, <class 'fairgraph.openminds.specimen_prep.activity.tissue_sample_slicing.TissueSampleSlicing'>, <class 'fairgraph.openminds.stimulation.activity.stimulation_activity.StimulationActivity'>], {'performed_by': 'https://kg.ebrains.eu/api/instances/03db8115-ea6e-4b16-bd05-70e48417945a'}), comments=KGQuery([<class 'fairgraph.openminds.core.miscellaneous.comment.Comment'>], {'commenter': 'https://kg.ebrains.eu/api/instances/03db8115-ea6e-4b16-bd05-70e48417945a'}), coordinated_projects=KGQuery([<class 'fairgraph.openminds.core.products.project.Project'>], {'coordinators': 'https://kg.ebrains.eu/api/instances/03db8115-ea6e-4b16-bd05-70e48417945a'}), developed=KGQuery([<class 'fairgraph.openminds.computation.validation_test.ValidationTest'>, <class 'fairgraph.openminds.computation.validation_test_version.ValidationTestVersion'>, <class 'fairgraph.openminds.computation.workflow_recipe.WorkflowRecipe'>, <class 'fairgraph.openminds.computation.workflow_recipe_version.WorkflowRecipeVersion'>, <class 'fairgraph.openminds.core.products.meta_data_model.MetaDataModel'>, <class 'fairgraph.openminds.core.products.meta_data_model_version.MetaDataModelVersion'>, <class 'fairgraph.openminds.core.products.model.Model'>, <class 'fairgraph.openminds.core.products.model_version.ModelVersion'>, <class 'fairgraph.openminds.core.products.software.Software'>, <class 'fairgraph.openminds.core.products.software_version.SoftwareVersion'>, <class 'fairgraph.openminds.core.products.web_service.WebService'>, <class 'fairgraph.openminds.core.products.web_service_version.WebServiceVersion'>], {'developers': 'https://kg.ebrains.eu/api/instances/03db8115-ea6e-4b16-bd05-70e48417945a'}), funded=KGQuery([<class 'fairgraph.openminds.core.miscellaneous.funding.Funding'>], {'funder': 'https://kg.ebrains.eu/api/instances/03db8115-ea6e-4b16-bd05-70e48417945a'}), is_custodian_of=KGQuery([<class 'fairgraph.openminds.core.products.dataset.Dataset'>, <class 'fairgraph.openminds.core.products.dataset_version.DatasetVersion'>, <class 'fairgraph.openminds.publications.live_paper.LivePaper'>, <class 'fairgraph.openminds.publications.live_paper_version.LivePaperVersion'>, <class 'fairgraph.openminds.sands.atlas.brain_atlas.BrainAtlas'>, <class 'fairgraph.openminds.sands.atlas.brain_atlas_version.BrainAtlasVersion'>, <class 'fairgraph.openminds.sands.atlas.common_coordinate_space.CommonCoordinateSpace'>, <class 'fairgraph.openminds.sands.atlas.common_coordinate_space_version.CommonCoordinateSpaceVersion'>], {'custodians': 'https://kg.ebrains.eu/api/instances/03db8115-ea6e-4b16-bd05-70e48417945a'}), is_owner_of=KGQuery([<class 'fairgraph.openminds.ephys.device.electrode.Electrode'>, <class 'fairgraph.openminds.ephys.device.electrode_array.ElectrodeArray'>, <class 'fairgraph.openminds.ephys.device.pipette.Pipette'>, <class 'fairgraph.openminds.specimen_prep.device.slicing_device.SlicingDevice'>], {'owners': 'https://kg.ebrains.eu/api/instances/03db8115-ea6e-4b16-bd05-70e48417945a'}), is_provider_of=KGQuery([<class 'fairgraph.openminds.chemicals.product_source.ProductSource'>], {'provider': 'https://kg.ebrains.eu/api/instances/03db8115-ea6e-4b16-bd05-70e48417945a'}), manufactured=KGQuery([<class 'fairgraph.openminds.core.products.setup.Setup'>], {'manufacturers': 'https://kg.ebrains.eu/api/instances/03db8115-ea6e-4b16-bd05-70e48417945a'}), published=KGQuery([<class 'fairgraph.openminds.publications.book.Book'>, <class 'fairgraph.openminds.publications.chapter.Chapter'>, <class 'fairgraph.openminds.publications.learning_resource.LearningResource'>, <class 'fairgraph.openminds.publications.scholarly_article.ScholarlyArticle'>], {'publisher': 'https://kg.ebrains.eu/api/instances/03db8115-ea6e-4b16-bd05-70e48417945a'}), started=KGQuery([<class 'fairgraph.openminds.computation.data_analysis.DataAnalysis'>, <class 'fairgraph.openminds.computation.data_copy.DataCopy'>, <class 'fairgraph.openminds.computation.generic_computation.GenericComputation'>, <class 'fairgraph.openminds.computation.model_validation.ModelValidation'>, <class 'fairgraph.openminds.computation.optimization.Optimization'>, <class 'fairgraph.openminds.computation.simulation.Simulation'>, <class 'fairgraph.openminds.computation.visualization.Visualization'>, <class 'fairgraph.openminds.computation.workflow_execution.WorkflowExecution'>], {'started_by': 'https://kg.ebrains.eu/api/instances/03db8115-ea6e-4b16-bd05-70e48417945a'}), space=common, id=https://kg.ebrains.eu/api/instances/03db8115-ea6e-4b16-bd05-70e48417945a),\n",
       " Person(affiliations=Affiliation(member_of=KGProxy((<class 'fairgraph.openminds.core.actors.consortium.Consortium'>, <class 'fairgraph.openminds.core.actors.organization.Organization'>), 'https://kg.ebrains.eu/api/instances/8a761378-5117-431e-91a0-6f3547086b7a')), contact_information=KGProxy([<class 'fairgraph.openminds.core.actors.contact_information.ContactInformation'>], 'https://kg.ebrains.eu/api/instances/224362d8-b3d1-4bc7-b4bc-5b61b14fcde2'), digital_identifiers=KGProxy([<class 'fairgraph.openminds.core.digital_identifier.orcid.ORCID'>], 'https://kg.ebrains.eu/api/instances/b4efe549-dc1a-4998-8628-0a518df5a23c'), family_name='Tourbier', given_name='Sébastien', activities=KGQuery([<class 'fairgraph.openminds.core.research.protocol_execution.ProtocolExecution'>, <class 'fairgraph.openminds.ephys.activity.cell_patching.CellPatching'>, <class 'fairgraph.openminds.ephys.activity.electrode_placement.ElectrodePlacement'>, <class 'fairgraph.openminds.ephys.activity.recording_activity.RecordingActivity'>, <class 'fairgraph.openminds.specimen_prep.activity.cranial_window_preparation.CranialWindowPreparation'>, <class 'fairgraph.openminds.specimen_prep.activity.tissue_culture_preparation.TissueCulturePreparation'>, <class 'fairgraph.openminds.specimen_prep.activity.tissue_sample_slicing.TissueSampleSlicing'>, <class 'fairgraph.openminds.stimulation.activity.stimulation_activity.StimulationActivity'>], {'performed_by': 'https://kg.ebrains.eu/api/instances/03f76e37-7030-4455-ae7c-3087d5159569'}), comments=KGQuery([<class 'fairgraph.openminds.core.miscellaneous.comment.Comment'>], {'commenter': 'https://kg.ebrains.eu/api/instances/03f76e37-7030-4455-ae7c-3087d5159569'}), coordinated_projects=KGQuery([<class 'fairgraph.openminds.core.products.project.Project'>], {'coordinators': 'https://kg.ebrains.eu/api/instances/03f76e37-7030-4455-ae7c-3087d5159569'}), developed=KGQuery([<class 'fairgraph.openminds.computation.validation_test.ValidationTest'>, <class 'fairgraph.openminds.computation.validation_test_version.ValidationTestVersion'>, <class 'fairgraph.openminds.computation.workflow_recipe.WorkflowRecipe'>, <class 'fairgraph.openminds.computation.workflow_recipe_version.WorkflowRecipeVersion'>, <class 'fairgraph.openminds.core.products.meta_data_model.MetaDataModel'>, <class 'fairgraph.openminds.core.products.meta_data_model_version.MetaDataModelVersion'>, <class 'fairgraph.openminds.core.products.model.Model'>, <class 'fairgraph.openminds.core.products.model_version.ModelVersion'>, <class 'fairgraph.openminds.core.products.software.Software'>, <class 'fairgraph.openminds.core.products.software_version.SoftwareVersion'>, <class 'fairgraph.openminds.core.products.web_service.WebService'>, <class 'fairgraph.openminds.core.products.web_service_version.WebServiceVersion'>], {'developers': 'https://kg.ebrains.eu/api/instances/03f76e37-7030-4455-ae7c-3087d5159569'}), funded=KGQuery([<class 'fairgraph.openminds.core.miscellaneous.funding.Funding'>], {'funder': 'https://kg.ebrains.eu/api/instances/03f76e37-7030-4455-ae7c-3087d5159569'}), is_custodian_of=KGQuery([<class 'fairgraph.openminds.core.products.dataset.Dataset'>, <class 'fairgraph.openminds.core.products.dataset_version.DatasetVersion'>, <class 'fairgraph.openminds.publications.live_paper.LivePaper'>, <class 'fairgraph.openminds.publications.live_paper_version.LivePaperVersion'>, <class 'fairgraph.openminds.sands.atlas.brain_atlas.BrainAtlas'>, <class 'fairgraph.openminds.sands.atlas.brain_atlas_version.BrainAtlasVersion'>, <class 'fairgraph.openminds.sands.atlas.common_coordinate_space.CommonCoordinateSpace'>, <class 'fairgraph.openminds.sands.atlas.common_coordinate_space_version.CommonCoordinateSpaceVersion'>], {'custodians': 'https://kg.ebrains.eu/api/instances/03f76e37-7030-4455-ae7c-3087d5159569'}), is_owner_of=KGQuery([<class 'fairgraph.openminds.ephys.device.electrode.Electrode'>, <class 'fairgraph.openminds.ephys.device.electrode_array.ElectrodeArray'>, <class 'fairgraph.openminds.ephys.device.pipette.Pipette'>, <class 'fairgraph.openminds.specimen_prep.device.slicing_device.SlicingDevice'>], {'owners': 'https://kg.ebrains.eu/api/instances/03f76e37-7030-4455-ae7c-3087d5159569'}), is_provider_of=KGQuery([<class 'fairgraph.openminds.chemicals.product_source.ProductSource'>], {'provider': 'https://kg.ebrains.eu/api/instances/03f76e37-7030-4455-ae7c-3087d5159569'}), manufactured=KGQuery([<class 'fairgraph.openminds.core.products.setup.Setup'>], {'manufacturers': 'https://kg.ebrains.eu/api/instances/03f76e37-7030-4455-ae7c-3087d5159569'}), published=KGQuery([<class 'fairgraph.openminds.publications.book.Book'>, <class 'fairgraph.openminds.publications.chapter.Chapter'>, <class 'fairgraph.openminds.publications.learning_resource.LearningResource'>, <class 'fairgraph.openminds.publications.scholarly_article.ScholarlyArticle'>], {'publisher': 'https://kg.ebrains.eu/api/instances/03f76e37-7030-4455-ae7c-3087d5159569'}), started=KGQuery([<class 'fairgraph.openminds.computation.data_analysis.DataAnalysis'>, <class 'fairgraph.openminds.computation.data_copy.DataCopy'>, <class 'fairgraph.openminds.computation.generic_computation.GenericComputation'>, <class 'fairgraph.openminds.computation.model_validation.ModelValidation'>, <class 'fairgraph.openminds.computation.optimization.Optimization'>, <class 'fairgraph.openminds.computation.simulation.Simulation'>, <class 'fairgraph.openminds.computation.visualization.Visualization'>, <class 'fairgraph.openminds.computation.workflow_execution.WorkflowExecution'>], {'started_by': 'https://kg.ebrains.eu/api/instances/03f76e37-7030-4455-ae7c-3087d5159569'}), space=common, id=https://kg.ebrains.eu/api/instances/03f76e37-7030-4455-ae7c-3087d5159569),\n",
       " Person(affiliations=[Affiliation(member_of=KGProxy((<class 'fairgraph.openminds.core.actors.consortium.Consortium'>, <class 'fairgraph.openminds.core.actors.organization.Organization'>), 'https://kg.ebrains.eu/api/instances/2936dcac-bf19-4a14-a528-229c0cba92bc')), Affiliation(member_of=KGProxy((<class 'fairgraph.openminds.core.actors.consortium.Consortium'>, <class 'fairgraph.openminds.core.actors.organization.Organization'>), 'https://kg.ebrains.eu/api/instances/cb950596-96eb-475a-8699-47aa0a86634d'))], contact_information=KGProxy([<class 'fairgraph.openminds.core.actors.contact_information.ContactInformation'>], 'https://kg.ebrains.eu/api/instances/a0943294-e7c5-4042-b281-c79840bf1f17'), family_name='Eickenberg', given_name='Michael', activities=KGQuery([<class 'fairgraph.openminds.core.research.protocol_execution.ProtocolExecution'>, <class 'fairgraph.openminds.ephys.activity.cell_patching.CellPatching'>, <class 'fairgraph.openminds.ephys.activity.electrode_placement.ElectrodePlacement'>, <class 'fairgraph.openminds.ephys.activity.recording_activity.RecordingActivity'>, <class 'fairgraph.openminds.specimen_prep.activity.cranial_window_preparation.CranialWindowPreparation'>, <class 'fairgraph.openminds.specimen_prep.activity.tissue_culture_preparation.TissueCulturePreparation'>, <class 'fairgraph.openminds.specimen_prep.activity.tissue_sample_slicing.TissueSampleSlicing'>, <class 'fairgraph.openminds.stimulation.activity.stimulation_activity.StimulationActivity'>], {'performed_by': 'https://kg.ebrains.eu/api/instances/03ff821e-328b-42c8-9f3f-7c1a705ad71a'}), comments=KGQuery([<class 'fairgraph.openminds.core.miscellaneous.comment.Comment'>], {'commenter': 'https://kg.ebrains.eu/api/instances/03ff821e-328b-42c8-9f3f-7c1a705ad71a'}), coordinated_projects=KGQuery([<class 'fairgraph.openminds.core.products.project.Project'>], {'coordinators': 'https://kg.ebrains.eu/api/instances/03ff821e-328b-42c8-9f3f-7c1a705ad71a'}), developed=KGQuery([<class 'fairgraph.openminds.computation.validation_test.ValidationTest'>, <class 'fairgraph.openminds.computation.validation_test_version.ValidationTestVersion'>, <class 'fairgraph.openminds.computation.workflow_recipe.WorkflowRecipe'>, <class 'fairgraph.openminds.computation.workflow_recipe_version.WorkflowRecipeVersion'>, <class 'fairgraph.openminds.core.products.meta_data_model.MetaDataModel'>, <class 'fairgraph.openminds.core.products.meta_data_model_version.MetaDataModelVersion'>, <class 'fairgraph.openminds.core.products.model.Model'>, <class 'fairgraph.openminds.core.products.model_version.ModelVersion'>, <class 'fairgraph.openminds.core.products.software.Software'>, <class 'fairgraph.openminds.core.products.software_version.SoftwareVersion'>, <class 'fairgraph.openminds.core.products.web_service.WebService'>, <class 'fairgraph.openminds.core.products.web_service_version.WebServiceVersion'>], {'developers': 'https://kg.ebrains.eu/api/instances/03ff821e-328b-42c8-9f3f-7c1a705ad71a'}), funded=KGQuery([<class 'fairgraph.openminds.core.miscellaneous.funding.Funding'>], {'funder': 'https://kg.ebrains.eu/api/instances/03ff821e-328b-42c8-9f3f-7c1a705ad71a'}), is_custodian_of=KGQuery([<class 'fairgraph.openminds.core.products.dataset.Dataset'>, <class 'fairgraph.openminds.core.products.dataset_version.DatasetVersion'>, <class 'fairgraph.openminds.publications.live_paper.LivePaper'>, <class 'fairgraph.openminds.publications.live_paper_version.LivePaperVersion'>, <class 'fairgraph.openminds.sands.atlas.brain_atlas.BrainAtlas'>, <class 'fairgraph.openminds.sands.atlas.brain_atlas_version.BrainAtlasVersion'>, <class 'fairgraph.openminds.sands.atlas.common_coordinate_space.CommonCoordinateSpace'>, <class 'fairgraph.openminds.sands.atlas.common_coordinate_space_version.CommonCoordinateSpaceVersion'>], {'custodians': 'https://kg.ebrains.eu/api/instances/03ff821e-328b-42c8-9f3f-7c1a705ad71a'}), is_owner_of=KGQuery([<class 'fairgraph.openminds.ephys.device.electrode.Electrode'>, <class 'fairgraph.openminds.ephys.device.electrode_array.ElectrodeArray'>, <class 'fairgraph.openminds.ephys.device.pipette.Pipette'>, <class 'fairgraph.openminds.specimen_prep.device.slicing_device.SlicingDevice'>], {'owners': 'https://kg.ebrains.eu/api/instances/03ff821e-328b-42c8-9f3f-7c1a705ad71a'}), is_provider_of=KGQuery([<class 'fairgraph.openminds.chemicals.product_source.ProductSource'>], {'provider': 'https://kg.ebrains.eu/api/instances/03ff821e-328b-42c8-9f3f-7c1a705ad71a'}), manufactured=KGQuery([<class 'fairgraph.openminds.core.products.setup.Setup'>], {'manufacturers': 'https://kg.ebrains.eu/api/instances/03ff821e-328b-42c8-9f3f-7c1a705ad71a'}), published=KGQuery([<class 'fairgraph.openminds.publications.book.Book'>, <class 'fairgraph.openminds.publications.chapter.Chapter'>, <class 'fairgraph.openminds.publications.learning_resource.LearningResource'>, <class 'fairgraph.openminds.publications.scholarly_article.ScholarlyArticle'>], {'publisher': 'https://kg.ebrains.eu/api/instances/03ff821e-328b-42c8-9f3f-7c1a705ad71a'}), started=KGQuery([<class 'fairgraph.openminds.computation.data_analysis.DataAnalysis'>, <class 'fairgraph.openminds.computation.data_copy.DataCopy'>, <class 'fairgraph.openminds.computation.generic_computation.GenericComputation'>, <class 'fairgraph.openminds.computation.model_validation.ModelValidation'>, <class 'fairgraph.openminds.computation.optimization.Optimization'>, <class 'fairgraph.openminds.computation.simulation.Simulation'>, <class 'fairgraph.openminds.computation.visualization.Visualization'>, <class 'fairgraph.openminds.computation.workflow_execution.WorkflowExecution'>], {'started_by': 'https://kg.ebrains.eu/api/instances/03ff821e-328b-42c8-9f3f-7c1a705ad71a'}), space=common, id=https://kg.ebrains.eu/api/instances/03ff821e-328b-42c8-9f3f-7c1a705ad71a),\n",
       " Person(affiliations=Affiliation(member_of=KGProxy((<class 'fairgraph.openminds.core.actors.consortium.Consortium'>, <class 'fairgraph.openminds.core.actors.organization.Organization'>), 'https://kg.ebrains.eu/api/instances/fc637b75-fb2b-4a0a-a5e0-b6cbca399d07')), contact_information=KGProxy([<class 'fairgraph.openminds.core.actors.contact_information.ContactInformation'>], 'https://kg.ebrains.eu/api/instances/a142fafa-82eb-4622-aa70-6c157365b763'), family_name='Dubois', given_name='Jessica', activities=KGQuery([<class 'fairgraph.openminds.core.research.protocol_execution.ProtocolExecution'>, <class 'fairgraph.openminds.ephys.activity.cell_patching.CellPatching'>, <class 'fairgraph.openminds.ephys.activity.electrode_placement.ElectrodePlacement'>, <class 'fairgraph.openminds.ephys.activity.recording_activity.RecordingActivity'>, <class 'fairgraph.openminds.specimen_prep.activity.cranial_window_preparation.CranialWindowPreparation'>, <class 'fairgraph.openminds.specimen_prep.activity.tissue_culture_preparation.TissueCulturePreparation'>, <class 'fairgraph.openminds.specimen_prep.activity.tissue_sample_slicing.TissueSampleSlicing'>, <class 'fairgraph.openminds.stimulation.activity.stimulation_activity.StimulationActivity'>], {'performed_by': 'https://kg.ebrains.eu/api/instances/041c1fd4-18dd-44b9-95bd-46c896ad4e10'}), comments=KGQuery([<class 'fairgraph.openminds.core.miscellaneous.comment.Comment'>], {'commenter': 'https://kg.ebrains.eu/api/instances/041c1fd4-18dd-44b9-95bd-46c896ad4e10'}), coordinated_projects=KGQuery([<class 'fairgraph.openminds.core.products.project.Project'>], {'coordinators': 'https://kg.ebrains.eu/api/instances/041c1fd4-18dd-44b9-95bd-46c896ad4e10'}), developed=KGQuery([<class 'fairgraph.openminds.computation.validation_test.ValidationTest'>, <class 'fairgraph.openminds.computation.validation_test_version.ValidationTestVersion'>, <class 'fairgraph.openminds.computation.workflow_recipe.WorkflowRecipe'>, <class 'fairgraph.openminds.computation.workflow_recipe_version.WorkflowRecipeVersion'>, <class 'fairgraph.openminds.core.products.meta_data_model.MetaDataModel'>, <class 'fairgraph.openminds.core.products.meta_data_model_version.MetaDataModelVersion'>, <class 'fairgraph.openminds.core.products.model.Model'>, <class 'fairgraph.openminds.core.products.model_version.ModelVersion'>, <class 'fairgraph.openminds.core.products.software.Software'>, <class 'fairgraph.openminds.core.products.software_version.SoftwareVersion'>, <class 'fairgraph.openminds.core.products.web_service.WebService'>, <class 'fairgraph.openminds.core.products.web_service_version.WebServiceVersion'>], {'developers': 'https://kg.ebrains.eu/api/instances/041c1fd4-18dd-44b9-95bd-46c896ad4e10'}), funded=KGQuery([<class 'fairgraph.openminds.core.miscellaneous.funding.Funding'>], {'funder': 'https://kg.ebrains.eu/api/instances/041c1fd4-18dd-44b9-95bd-46c896ad4e10'}), is_custodian_of=KGQuery([<class 'fairgraph.openminds.core.products.dataset.Dataset'>, <class 'fairgraph.openminds.core.products.dataset_version.DatasetVersion'>, <class 'fairgraph.openminds.publications.live_paper.LivePaper'>, <class 'fairgraph.openminds.publications.live_paper_version.LivePaperVersion'>, <class 'fairgraph.openminds.sands.atlas.brain_atlas.BrainAtlas'>, <class 'fairgraph.openminds.sands.atlas.brain_atlas_version.BrainAtlasVersion'>, <class 'fairgraph.openminds.sands.atlas.common_coordinate_space.CommonCoordinateSpace'>, <class 'fairgraph.openminds.sands.atlas.common_coordinate_space_version.CommonCoordinateSpaceVersion'>], {'custodians': 'https://kg.ebrains.eu/api/instances/041c1fd4-18dd-44b9-95bd-46c896ad4e10'}), is_owner_of=KGQuery([<class 'fairgraph.openminds.ephys.device.electrode.Electrode'>, <class 'fairgraph.openminds.ephys.device.electrode_array.ElectrodeArray'>, <class 'fairgraph.openminds.ephys.device.pipette.Pipette'>, <class 'fairgraph.openminds.specimen_prep.device.slicing_device.SlicingDevice'>], {'owners': 'https://kg.ebrains.eu/api/instances/041c1fd4-18dd-44b9-95bd-46c896ad4e10'}), is_provider_of=KGQuery([<class 'fairgraph.openminds.chemicals.product_source.ProductSource'>], {'provider': 'https://kg.ebrains.eu/api/instances/041c1fd4-18dd-44b9-95bd-46c896ad4e10'}), manufactured=KGQuery([<class 'fairgraph.openminds.core.products.setup.Setup'>], {'manufacturers': 'https://kg.ebrains.eu/api/instances/041c1fd4-18dd-44b9-95bd-46c896ad4e10'}), published=KGQuery([<class 'fairgraph.openminds.publications.book.Book'>, <class 'fairgraph.openminds.publications.chapter.Chapter'>, <class 'fairgraph.openminds.publications.learning_resource.LearningResource'>, <class 'fairgraph.openminds.publications.scholarly_article.ScholarlyArticle'>], {'publisher': 'https://kg.ebrains.eu/api/instances/041c1fd4-18dd-44b9-95bd-46c896ad4e10'}), started=KGQuery([<class 'fairgraph.openminds.computation.data_analysis.DataAnalysis'>, <class 'fairgraph.openminds.computation.data_copy.DataCopy'>, <class 'fairgraph.openminds.computation.generic_computation.GenericComputation'>, <class 'fairgraph.openminds.computation.model_validation.ModelValidation'>, <class 'fairgraph.openminds.computation.optimization.Optimization'>, <class 'fairgraph.openminds.computation.simulation.Simulation'>, <class 'fairgraph.openminds.computation.visualization.Visualization'>, <class 'fairgraph.openminds.computation.workflow_execution.WorkflowExecution'>], {'started_by': 'https://kg.ebrains.eu/api/instances/041c1fd4-18dd-44b9-95bd-46c896ad4e10'}), space=common, id=https://kg.ebrains.eu/api/instances/041c1fd4-18dd-44b9-95bd-46c896ad4e10),\n",
       " Person(family_name='Weiner', given_name='Kevin S.', activities=KGQuery([<class 'fairgraph.openminds.core.research.protocol_execution.ProtocolExecution'>, <class 'fairgraph.openminds.ephys.activity.cell_patching.CellPatching'>, <class 'fairgraph.openminds.ephys.activity.electrode_placement.ElectrodePlacement'>, <class 'fairgraph.openminds.ephys.activity.recording_activity.RecordingActivity'>, <class 'fairgraph.openminds.specimen_prep.activity.cranial_window_preparation.CranialWindowPreparation'>, <class 'fairgraph.openminds.specimen_prep.activity.tissue_culture_preparation.TissueCulturePreparation'>, <class 'fairgraph.openminds.specimen_prep.activity.tissue_sample_slicing.TissueSampleSlicing'>, <class 'fairgraph.openminds.stimulation.activity.stimulation_activity.StimulationActivity'>], {'performed_by': 'https://kg.ebrains.eu/api/instances/041d9e23-1327-40e4-8283-82138eb1db13'}), comments=KGQuery([<class 'fairgraph.openminds.core.miscellaneous.comment.Comment'>], {'commenter': 'https://kg.ebrains.eu/api/instances/041d9e23-1327-40e4-8283-82138eb1db13'}), coordinated_projects=KGQuery([<class 'fairgraph.openminds.core.products.project.Project'>], {'coordinators': 'https://kg.ebrains.eu/api/instances/041d9e23-1327-40e4-8283-82138eb1db13'}), developed=KGQuery([<class 'fairgraph.openminds.computation.validation_test.ValidationTest'>, <class 'fairgraph.openminds.computation.validation_test_version.ValidationTestVersion'>, <class 'fairgraph.openminds.computation.workflow_recipe.WorkflowRecipe'>, <class 'fairgraph.openminds.computation.workflow_recipe_version.WorkflowRecipeVersion'>, <class 'fairgraph.openminds.core.products.meta_data_model.MetaDataModel'>, <class 'fairgraph.openminds.core.products.meta_data_model_version.MetaDataModelVersion'>, <class 'fairgraph.openminds.core.products.model.Model'>, <class 'fairgraph.openminds.core.products.model_version.ModelVersion'>, <class 'fairgraph.openminds.core.products.software.Software'>, <class 'fairgraph.openminds.core.products.software_version.SoftwareVersion'>, <class 'fairgraph.openminds.core.products.web_service.WebService'>, <class 'fairgraph.openminds.core.products.web_service_version.WebServiceVersion'>], {'developers': 'https://kg.ebrains.eu/api/instances/041d9e23-1327-40e4-8283-82138eb1db13'}), funded=KGQuery([<class 'fairgraph.openminds.core.miscellaneous.funding.Funding'>], {'funder': 'https://kg.ebrains.eu/api/instances/041d9e23-1327-40e4-8283-82138eb1db13'}), is_custodian_of=KGQuery([<class 'fairgraph.openminds.core.products.dataset.Dataset'>, <class 'fairgraph.openminds.core.products.dataset_version.DatasetVersion'>, <class 'fairgraph.openminds.publications.live_paper.LivePaper'>, <class 'fairgraph.openminds.publications.live_paper_version.LivePaperVersion'>, <class 'fairgraph.openminds.sands.atlas.brain_atlas.BrainAtlas'>, <class 'fairgraph.openminds.sands.atlas.brain_atlas_version.BrainAtlasVersion'>, <class 'fairgraph.openminds.sands.atlas.common_coordinate_space.CommonCoordinateSpace'>, <class 'fairgraph.openminds.sands.atlas.common_coordinate_space_version.CommonCoordinateSpaceVersion'>], {'custodians': 'https://kg.ebrains.eu/api/instances/041d9e23-1327-40e4-8283-82138eb1db13'}), is_owner_of=KGQuery([<class 'fairgraph.openminds.ephys.device.electrode.Electrode'>, <class 'fairgraph.openminds.ephys.device.electrode_array.ElectrodeArray'>, <class 'fairgraph.openminds.ephys.device.pipette.Pipette'>, <class 'fairgraph.openminds.specimen_prep.device.slicing_device.SlicingDevice'>], {'owners': 'https://kg.ebrains.eu/api/instances/041d9e23-1327-40e4-8283-82138eb1db13'}), is_provider_of=KGQuery([<class 'fairgraph.openminds.chemicals.product_source.ProductSource'>], {'provider': 'https://kg.ebrains.eu/api/instances/041d9e23-1327-40e4-8283-82138eb1db13'}), manufactured=KGQuery([<class 'fairgraph.openminds.core.products.setup.Setup'>], {'manufacturers': 'https://kg.ebrains.eu/api/instances/041d9e23-1327-40e4-8283-82138eb1db13'}), published=KGQuery([<class 'fairgraph.openminds.publications.book.Book'>, <class 'fairgraph.openminds.publications.chapter.Chapter'>, <class 'fairgraph.openminds.publications.learning_resource.LearningResource'>, <class 'fairgraph.openminds.publications.scholarly_article.ScholarlyArticle'>], {'publisher': 'https://kg.ebrains.eu/api/instances/041d9e23-1327-40e4-8283-82138eb1db13'}), started=KGQuery([<class 'fairgraph.openminds.computation.data_analysis.DataAnalysis'>, <class 'fairgraph.openminds.computation.data_copy.DataCopy'>, <class 'fairgraph.openminds.computation.generic_computation.GenericComputation'>, <class 'fairgraph.openminds.computation.model_validation.ModelValidation'>, <class 'fairgraph.openminds.computation.optimization.Optimization'>, <class 'fairgraph.openminds.computation.simulation.Simulation'>, <class 'fairgraph.openminds.computation.visualization.Visualization'>, <class 'fairgraph.openminds.computation.workflow_execution.WorkflowExecution'>], {'started_by': 'https://kg.ebrains.eu/api/instances/041d9e23-1327-40e4-8283-82138eb1db13'}), space=common, id=https://kg.ebrains.eu/api/instances/041d9e23-1327-40e4-8283-82138eb1db13),\n",
       " Person(digital_identifiers=KGProxy([<class 'fairgraph.openminds.core.digital_identifier.orcid.ORCID'>], 'https://kg.ebrains.eu/api/instances/bb760d40-656b-4294-8284-900202d83be0'), family_name='Sarasso', given_name='Simone', activities=KGQuery([<class 'fairgraph.openminds.core.research.protocol_execution.ProtocolExecution'>, <class 'fairgraph.openminds.ephys.activity.cell_patching.CellPatching'>, <class 'fairgraph.openminds.ephys.activity.electrode_placement.ElectrodePlacement'>, <class 'fairgraph.openminds.ephys.activity.recording_activity.RecordingActivity'>, <class 'fairgraph.openminds.specimen_prep.activity.cranial_window_preparation.CranialWindowPreparation'>, <class 'fairgraph.openminds.specimen_prep.activity.tissue_culture_preparation.TissueCulturePreparation'>, <class 'fairgraph.openminds.specimen_prep.activity.tissue_sample_slicing.TissueSampleSlicing'>, <class 'fairgraph.openminds.stimulation.activity.stimulation_activity.StimulationActivity'>], {'performed_by': 'https://kg.ebrains.eu/api/instances/045b6b0a-512c-41ee-88dd-861efcd53794'}), comments=KGQuery([<class 'fairgraph.openminds.core.miscellaneous.comment.Comment'>], {'commenter': 'https://kg.ebrains.eu/api/instances/045b6b0a-512c-41ee-88dd-861efcd53794'}), coordinated_projects=KGQuery([<class 'fairgraph.openminds.core.products.project.Project'>], {'coordinators': 'https://kg.ebrains.eu/api/instances/045b6b0a-512c-41ee-88dd-861efcd53794'}), developed=KGQuery([<class 'fairgraph.openminds.computation.validation_test.ValidationTest'>, <class 'fairgraph.openminds.computation.validation_test_version.ValidationTestVersion'>, <class 'fairgraph.openminds.computation.workflow_recipe.WorkflowRecipe'>, <class 'fairgraph.openminds.computation.workflow_recipe_version.WorkflowRecipeVersion'>, <class 'fairgraph.openminds.core.products.meta_data_model.MetaDataModel'>, <class 'fairgraph.openminds.core.products.meta_data_model_version.MetaDataModelVersion'>, <class 'fairgraph.openminds.core.products.model.Model'>, <class 'fairgraph.openminds.core.products.model_version.ModelVersion'>, <class 'fairgraph.openminds.core.products.software.Software'>, <class 'fairgraph.openminds.core.products.software_version.SoftwareVersion'>, <class 'fairgraph.openminds.core.products.web_service.WebService'>, <class 'fairgraph.openminds.core.products.web_service_version.WebServiceVersion'>], {'developers': 'https://kg.ebrains.eu/api/instances/045b6b0a-512c-41ee-88dd-861efcd53794'}), funded=KGQuery([<class 'fairgraph.openminds.core.miscellaneous.funding.Funding'>], {'funder': 'https://kg.ebrains.eu/api/instances/045b6b0a-512c-41ee-88dd-861efcd53794'}), is_custodian_of=KGQuery([<class 'fairgraph.openminds.core.products.dataset.Dataset'>, <class 'fairgraph.openminds.core.products.dataset_version.DatasetVersion'>, <class 'fairgraph.openminds.publications.live_paper.LivePaper'>, <class 'fairgraph.openminds.publications.live_paper_version.LivePaperVersion'>, <class 'fairgraph.openminds.sands.atlas.brain_atlas.BrainAtlas'>, <class 'fairgraph.openminds.sands.atlas.brain_atlas_version.BrainAtlasVersion'>, <class 'fairgraph.openminds.sands.atlas.common_coordinate_space.CommonCoordinateSpace'>, <class 'fairgraph.openminds.sands.atlas.common_coordinate_space_version.CommonCoordinateSpaceVersion'>], {'custodians': 'https://kg.ebrains.eu/api/instances/045b6b0a-512c-41ee-88dd-861efcd53794'}), is_owner_of=KGQuery([<class 'fairgraph.openminds.ephys.device.electrode.Electrode'>, <class 'fairgraph.openminds.ephys.device.electrode_array.ElectrodeArray'>, <class 'fairgraph.openminds.ephys.device.pipette.Pipette'>, <class 'fairgraph.openminds.specimen_prep.device.slicing_device.SlicingDevice'>], {'owners': 'https://kg.ebrains.eu/api/instances/045b6b0a-512c-41ee-88dd-861efcd53794'}), is_provider_of=KGQuery([<class 'fairgraph.openminds.chemicals.product_source.ProductSource'>], {'provider': 'https://kg.ebrains.eu/api/instances/045b6b0a-512c-41ee-88dd-861efcd53794'}), manufactured=KGQuery([<class 'fairgraph.openminds.core.products.setup.Setup'>], {'manufacturers': 'https://kg.ebrains.eu/api/instances/045b6b0a-512c-41ee-88dd-861efcd53794'}), published=KGQuery([<class 'fairgraph.openminds.publications.book.Book'>, <class 'fairgraph.openminds.publications.chapter.Chapter'>, <class 'fairgraph.openminds.publications.learning_resource.LearningResource'>, <class 'fairgraph.openminds.publications.scholarly_article.ScholarlyArticle'>], {'publisher': 'https://kg.ebrains.eu/api/instances/045b6b0a-512c-41ee-88dd-861efcd53794'}), started=KGQuery([<class 'fairgraph.openminds.computation.data_analysis.DataAnalysis'>, <class 'fairgraph.openminds.computation.data_copy.DataCopy'>, <class 'fairgraph.openminds.computation.generic_computation.GenericComputation'>, <class 'fairgraph.openminds.computation.model_validation.ModelValidation'>, <class 'fairgraph.openminds.computation.optimization.Optimization'>, <class 'fairgraph.openminds.computation.simulation.Simulation'>, <class 'fairgraph.openminds.computation.visualization.Visualization'>, <class 'fairgraph.openminds.computation.workflow_execution.WorkflowExecution'>], {'started_by': 'https://kg.ebrains.eu/api/instances/045b6b0a-512c-41ee-88dd-861efcd53794'}), space=common, id=https://kg.ebrains.eu/api/instances/045b6b0a-512c-41ee-88dd-861efcd53794),\n",
       " Person(affiliations=[Affiliation(member_of=KGProxy((<class 'fairgraph.openminds.core.actors.consortium.Consortium'>, <class 'fairgraph.openminds.core.actors.organization.Organization'>), 'https://kg.ebrains.eu/api/instances/05d7dbc7-0716-47c4-8d3c-09787cc30a4f')), Affiliation(member_of=KGProxy((<class 'fairgraph.openminds.core.actors.consortium.Consortium'>, <class 'fairgraph.openminds.core.actors.organization.Organization'>), 'https://kg.ebrains.eu/api/instances/d9c9ba2a-e8ad-4b69-89b8-75e688596822'))], contact_information=KGProxy([<class 'fairgraph.openminds.core.actors.contact_information.ContactInformation'>], 'https://kg.ebrains.eu/api/instances/6ecc2979-1c5f-4b6a-82c5-f402823007e3'), digital_identifiers=KGProxy([<class 'fairgraph.openminds.core.digital_identifier.orcid.ORCID'>], 'https://kg.ebrains.eu/api/instances/c77645ca-a7a9-4b47-848c-2402f70360de'), family_name='Jirsa', given_name='Viktor', activities=KGQuery([<class 'fairgraph.openminds.core.research.protocol_execution.ProtocolExecution'>, <class 'fairgraph.openminds.ephys.activity.cell_patching.CellPatching'>, <class 'fairgraph.openminds.ephys.activity.electrode_placement.ElectrodePlacement'>, <class 'fairgraph.openminds.ephys.activity.recording_activity.RecordingActivity'>, <class 'fairgraph.openminds.specimen_prep.activity.cranial_window_preparation.CranialWindowPreparation'>, <class 'fairgraph.openminds.specimen_prep.activity.tissue_culture_preparation.TissueCulturePreparation'>, <class 'fairgraph.openminds.specimen_prep.activity.tissue_sample_slicing.TissueSampleSlicing'>, <class 'fairgraph.openminds.stimulation.activity.stimulation_activity.StimulationActivity'>], {'performed_by': 'https://kg.ebrains.eu/api/instances/045f846f-f010-4db8-97b9-b95b20970bf2'}), comments=KGQuery([<class 'fairgraph.openminds.core.miscellaneous.comment.Comment'>], {'commenter': 'https://kg.ebrains.eu/api/instances/045f846f-f010-4db8-97b9-b95b20970bf2'}), coordinated_projects=KGQuery([<class 'fairgraph.openminds.core.products.project.Project'>], {'coordinators': 'https://kg.ebrains.eu/api/instances/045f846f-f010-4db8-97b9-b95b20970bf2'}), developed=KGQuery([<class 'fairgraph.openminds.computation.validation_test.ValidationTest'>, <class 'fairgraph.openminds.computation.validation_test_version.ValidationTestVersion'>, <class 'fairgraph.openminds.computation.workflow_recipe.WorkflowRecipe'>, <class 'fairgraph.openminds.computation.workflow_recipe_version.WorkflowRecipeVersion'>, <class 'fairgraph.openminds.core.products.meta_data_model.MetaDataModel'>, <class 'fairgraph.openminds.core.products.meta_data_model_version.MetaDataModelVersion'>, <class 'fairgraph.openminds.core.products.model.Model'>, <class 'fairgraph.openminds.core.products.model_version.ModelVersion'>, <class 'fairgraph.openminds.core.products.software.Software'>, <class 'fairgraph.openminds.core.products.software_version.SoftwareVersion'>, <class 'fairgraph.openminds.core.products.web_service.WebService'>, <class 'fairgraph.openminds.core.products.web_service_version.WebServiceVersion'>], {'developers': 'https://kg.ebrains.eu/api/instances/045f846f-f010-4db8-97b9-b95b20970bf2'}), funded=KGQuery([<class 'fairgraph.openminds.core.miscellaneous.funding.Funding'>], {'funder': 'https://kg.ebrains.eu/api/instances/045f846f-f010-4db8-97b9-b95b20970bf2'}), is_custodian_of=KGQuery([<class 'fairgraph.openminds.core.products.dataset.Dataset'>, <class 'fairgraph.openminds.core.products.dataset_version.DatasetVersion'>, <class 'fairgraph.openminds.publications.live_paper.LivePaper'>, <class 'fairgraph.openminds.publications.live_paper_version.LivePaperVersion'>, <class 'fairgraph.openminds.sands.atlas.brain_atlas.BrainAtlas'>, <class 'fairgraph.openminds.sands.atlas.brain_atlas_version.BrainAtlasVersion'>, <class 'fairgraph.openminds.sands.atlas.common_coordinate_space.CommonCoordinateSpace'>, <class 'fairgraph.openminds.sands.atlas.common_coordinate_space_version.CommonCoordinateSpaceVersion'>], {'custodians': 'https://kg.ebrains.eu/api/instances/045f846f-f010-4db8-97b9-b95b20970bf2'}), is_owner_of=KGQuery([<class 'fairgraph.openminds.ephys.device.electrode.Electrode'>, <class 'fairgraph.openminds.ephys.device.electrode_array.ElectrodeArray'>, <class 'fairgraph.openminds.ephys.device.pipette.Pipette'>, <class 'fairgraph.openminds.specimen_prep.device.slicing_device.SlicingDevice'>], {'owners': 'https://kg.ebrains.eu/api/instances/045f846f-f010-4db8-97b9-b95b20970bf2'}), is_provider_of=KGQuery([<class 'fairgraph.openminds.chemicals.product_source.ProductSource'>], {'provider': 'https://kg.ebrains.eu/api/instances/045f846f-f010-4db8-97b9-b95b20970bf2'}), manufactured=KGQuery([<class 'fairgraph.openminds.core.products.setup.Setup'>], {'manufacturers': 'https://kg.ebrains.eu/api/instances/045f846f-f010-4db8-97b9-b95b20970bf2'}), published=KGQuery([<class 'fairgraph.openminds.publications.book.Book'>, <class 'fairgraph.openminds.publications.chapter.Chapter'>, <class 'fairgraph.openminds.publications.learning_resource.LearningResource'>, <class 'fairgraph.openminds.publications.scholarly_article.ScholarlyArticle'>], {'publisher': 'https://kg.ebrains.eu/api/instances/045f846f-f010-4db8-97b9-b95b20970bf2'}), started=KGQuery([<class 'fairgraph.openminds.computation.data_analysis.DataAnalysis'>, <class 'fairgraph.openminds.computation.data_copy.DataCopy'>, <class 'fairgraph.openminds.computation.generic_computation.GenericComputation'>, <class 'fairgraph.openminds.computation.model_validation.ModelValidation'>, <class 'fairgraph.openminds.computation.optimization.Optimization'>, <class 'fairgraph.openminds.computation.simulation.Simulation'>, <class 'fairgraph.openminds.computation.visualization.Visualization'>, <class 'fairgraph.openminds.computation.workflow_execution.WorkflowExecution'>], {'started_by': 'https://kg.ebrains.eu/api/instances/045f846f-f010-4db8-97b9-b95b20970bf2'}), space=common, id=https://kg.ebrains.eu/api/instances/045f846f-f010-4db8-97b9-b95b20970bf2),\n",
       " Person(family_name='Zaborszky', given_name='Laszlo', activities=KGQuery([<class 'fairgraph.openminds.core.research.protocol_execution.ProtocolExecution'>, <class 'fairgraph.openminds.ephys.activity.cell_patching.CellPatching'>, <class 'fairgraph.openminds.ephys.activity.electrode_placement.ElectrodePlacement'>, <class 'fairgraph.openminds.ephys.activity.recording_activity.RecordingActivity'>, <class 'fairgraph.openminds.specimen_prep.activity.cranial_window_preparation.CranialWindowPreparation'>, <class 'fairgraph.openminds.specimen_prep.activity.tissue_culture_preparation.TissueCulturePreparation'>, <class 'fairgraph.openminds.specimen_prep.activity.tissue_sample_slicing.TissueSampleSlicing'>, <class 'fairgraph.openminds.stimulation.activity.stimulation_activity.StimulationActivity'>], {'performed_by': 'https://kg.ebrains.eu/api/instances/046690a9-5dce-4bd4-913e-aba36c242f19'}), comments=KGQuery([<class 'fairgraph.openminds.core.miscellaneous.comment.Comment'>], {'commenter': 'https://kg.ebrains.eu/api/instances/046690a9-5dce-4bd4-913e-aba36c242f19'}), coordinated_projects=KGQuery([<class 'fairgraph.openminds.core.products.project.Project'>], {'coordinators': 'https://kg.ebrains.eu/api/instances/046690a9-5dce-4bd4-913e-aba36c242f19'}), developed=KGQuery([<class 'fairgraph.openminds.computation.validation_test.ValidationTest'>, <class 'fairgraph.openminds.computation.validation_test_version.ValidationTestVersion'>, <class 'fairgraph.openminds.computation.workflow_recipe.WorkflowRecipe'>, <class 'fairgraph.openminds.computation.workflow_recipe_version.WorkflowRecipeVersion'>, <class 'fairgraph.openminds.core.products.meta_data_model.MetaDataModel'>, <class 'fairgraph.openminds.core.products.meta_data_model_version.MetaDataModelVersion'>, <class 'fairgraph.openminds.core.products.model.Model'>, <class 'fairgraph.openminds.core.products.model_version.ModelVersion'>, <class 'fairgraph.openminds.core.products.software.Software'>, <class 'fairgraph.openminds.core.products.software_version.SoftwareVersion'>, <class 'fairgraph.openminds.core.products.web_service.WebService'>, <class 'fairgraph.openminds.core.products.web_service_version.WebServiceVersion'>], {'developers': 'https://kg.ebrains.eu/api/instances/046690a9-5dce-4bd4-913e-aba36c242f19'}), funded=KGQuery([<class 'fairgraph.openminds.core.miscellaneous.funding.Funding'>], {'funder': 'https://kg.ebrains.eu/api/instances/046690a9-5dce-4bd4-913e-aba36c242f19'}), is_custodian_of=KGQuery([<class 'fairgraph.openminds.core.products.dataset.Dataset'>, <class 'fairgraph.openminds.core.products.dataset_version.DatasetVersion'>, <class 'fairgraph.openminds.publications.live_paper.LivePaper'>, <class 'fairgraph.openminds.publications.live_paper_version.LivePaperVersion'>, <class 'fairgraph.openminds.sands.atlas.brain_atlas.BrainAtlas'>, <class 'fairgraph.openminds.sands.atlas.brain_atlas_version.BrainAtlasVersion'>, <class 'fairgraph.openminds.sands.atlas.common_coordinate_space.CommonCoordinateSpace'>, <class 'fairgraph.openminds.sands.atlas.common_coordinate_space_version.CommonCoordinateSpaceVersion'>], {'custodians': 'https://kg.ebrains.eu/api/instances/046690a9-5dce-4bd4-913e-aba36c242f19'}), is_owner_of=KGQuery([<class 'fairgraph.openminds.ephys.device.electrode.Electrode'>, <class 'fairgraph.openminds.ephys.device.electrode_array.ElectrodeArray'>, <class 'fairgraph.openminds.ephys.device.pipette.Pipette'>, <class 'fairgraph.openminds.specimen_prep.device.slicing_device.SlicingDevice'>], {'owners': 'https://kg.ebrains.eu/api/instances/046690a9-5dce-4bd4-913e-aba36c242f19'}), is_provider_of=KGQuery([<class 'fairgraph.openminds.chemicals.product_source.ProductSource'>], {'provider': 'https://kg.ebrains.eu/api/instances/046690a9-5dce-4bd4-913e-aba36c242f19'}), manufactured=KGQuery([<class 'fairgraph.openminds.core.products.setup.Setup'>], {'manufacturers': 'https://kg.ebrains.eu/api/instances/046690a9-5dce-4bd4-913e-aba36c242f19'}), published=KGQuery([<class 'fairgraph.openminds.publications.book.Book'>, <class 'fairgraph.openminds.publications.chapter.Chapter'>, <class 'fairgraph.openminds.publications.learning_resource.LearningResource'>, <class 'fairgraph.openminds.publications.scholarly_article.ScholarlyArticle'>], {'publisher': 'https://kg.ebrains.eu/api/instances/046690a9-5dce-4bd4-913e-aba36c242f19'}), started=KGQuery([<class 'fairgraph.openminds.computation.data_analysis.DataAnalysis'>, <class 'fairgraph.openminds.computation.data_copy.DataCopy'>, <class 'fairgraph.openminds.computation.generic_computation.GenericComputation'>, <class 'fairgraph.openminds.computation.model_validation.ModelValidation'>, <class 'fairgraph.openminds.computation.optimization.Optimization'>, <class 'fairgraph.openminds.computation.simulation.Simulation'>, <class 'fairgraph.openminds.computation.visualization.Visualization'>, <class 'fairgraph.openminds.computation.workflow_execution.WorkflowExecution'>], {'started_by': 'https://kg.ebrains.eu/api/instances/046690a9-5dce-4bd4-913e-aba36c242f19'}), space=common, id=https://kg.ebrains.eu/api/instances/046690a9-5dce-4bd4-913e-aba36c242f19),\n",
       " Person(affiliations=Affiliation(member_of=KGProxy((<class 'fairgraph.openminds.core.actors.consortium.Consortium'>, <class 'fairgraph.openminds.core.actors.organization.Organization'>), 'https://kg.ebrains.eu/api/instances/05c2b629-3259-4ea9-a522-08eb3d1eb505')), contact_information=KGProxy([<class 'fairgraph.openminds.core.actors.contact_information.ContactInformation'>], 'https://kg.ebrains.eu/api/instances/069b58b0-6fcb-4894-8509-43caa942dbab'), family_name='Delalondre', given_name='Fabien', activities=KGQuery([<class 'fairgraph.openminds.core.research.protocol_execution.ProtocolExecution'>, <class 'fairgraph.openminds.ephys.activity.cell_patching.CellPatching'>, <class 'fairgraph.openminds.ephys.activity.electrode_placement.ElectrodePlacement'>, <class 'fairgraph.openminds.ephys.activity.recording_activity.RecordingActivity'>, <class 'fairgraph.openminds.specimen_prep.activity.cranial_window_preparation.CranialWindowPreparation'>, <class 'fairgraph.openminds.specimen_prep.activity.tissue_culture_preparation.TissueCulturePreparation'>, <class 'fairgraph.openminds.specimen_prep.activity.tissue_sample_slicing.TissueSampleSlicing'>, <class 'fairgraph.openminds.stimulation.activity.stimulation_activity.StimulationActivity'>], {'performed_by': 'https://kg.ebrains.eu/api/instances/0466f2ac-e3d8-49e0-80d4-101b9bbf33e3'}), comments=KGQuery([<class 'fairgraph.openminds.core.miscellaneous.comment.Comment'>], {'commenter': 'https://kg.ebrains.eu/api/instances/0466f2ac-e3d8-49e0-80d4-101b9bbf33e3'}), coordinated_projects=KGQuery([<class 'fairgraph.openminds.core.products.project.Project'>], {'coordinators': 'https://kg.ebrains.eu/api/instances/0466f2ac-e3d8-49e0-80d4-101b9bbf33e3'}), developed=KGQuery([<class 'fairgraph.openminds.computation.validation_test.ValidationTest'>, <class 'fairgraph.openminds.computation.validation_test_version.ValidationTestVersion'>, <class 'fairgraph.openminds.computation.workflow_recipe.WorkflowRecipe'>, <class 'fairgraph.openminds.computation.workflow_recipe_version.WorkflowRecipeVersion'>, <class 'fairgraph.openminds.core.products.meta_data_model.MetaDataModel'>, <class 'fairgraph.openminds.core.products.meta_data_model_version.MetaDataModelVersion'>, <class 'fairgraph.openminds.core.products.model.Model'>, <class 'fairgraph.openminds.core.products.model_version.ModelVersion'>, <class 'fairgraph.openminds.core.products.software.Software'>, <class 'fairgraph.openminds.core.products.software_version.SoftwareVersion'>, <class 'fairgraph.openminds.core.products.web_service.WebService'>, <class 'fairgraph.openminds.core.products.web_service_version.WebServiceVersion'>], {'developers': 'https://kg.ebrains.eu/api/instances/0466f2ac-e3d8-49e0-80d4-101b9bbf33e3'}), funded=KGQuery([<class 'fairgraph.openminds.core.miscellaneous.funding.Funding'>], {'funder': 'https://kg.ebrains.eu/api/instances/0466f2ac-e3d8-49e0-80d4-101b9bbf33e3'}), is_custodian_of=KGQuery([<class 'fairgraph.openminds.core.products.dataset.Dataset'>, <class 'fairgraph.openminds.core.products.dataset_version.DatasetVersion'>, <class 'fairgraph.openminds.publications.live_paper.LivePaper'>, <class 'fairgraph.openminds.publications.live_paper_version.LivePaperVersion'>, <class 'fairgraph.openminds.sands.atlas.brain_atlas.BrainAtlas'>, <class 'fairgraph.openminds.sands.atlas.brain_atlas_version.BrainAtlasVersion'>, <class 'fairgraph.openminds.sands.atlas.common_coordinate_space.CommonCoordinateSpace'>, <class 'fairgraph.openminds.sands.atlas.common_coordinate_space_version.CommonCoordinateSpaceVersion'>], {'custodians': 'https://kg.ebrains.eu/api/instances/0466f2ac-e3d8-49e0-80d4-101b9bbf33e3'}), is_owner_of=KGQuery([<class 'fairgraph.openminds.ephys.device.electrode.Electrode'>, <class 'fairgraph.openminds.ephys.device.electrode_array.ElectrodeArray'>, <class 'fairgraph.openminds.ephys.device.pipette.Pipette'>, <class 'fairgraph.openminds.specimen_prep.device.slicing_device.SlicingDevice'>], {'owners': 'https://kg.ebrains.eu/api/instances/0466f2ac-e3d8-49e0-80d4-101b9bbf33e3'}), is_provider_of=KGQuery([<class 'fairgraph.openminds.chemicals.product_source.ProductSource'>], {'provider': 'https://kg.ebrains.eu/api/instances/0466f2ac-e3d8-49e0-80d4-101b9bbf33e3'}), manufactured=KGQuery([<class 'fairgraph.openminds.core.products.setup.Setup'>], {'manufacturers': 'https://kg.ebrains.eu/api/instances/0466f2ac-e3d8-49e0-80d4-101b9bbf33e3'}), published=KGQuery([<class 'fairgraph.openminds.publications.book.Book'>, <class 'fairgraph.openminds.publications.chapter.Chapter'>, <class 'fairgraph.openminds.publications.learning_resource.LearningResource'>, <class 'fairgraph.openminds.publications.scholarly_article.ScholarlyArticle'>], {'publisher': 'https://kg.ebrains.eu/api/instances/0466f2ac-e3d8-49e0-80d4-101b9bbf33e3'}), started=KGQuery([<class 'fairgraph.openminds.computation.data_analysis.DataAnalysis'>, <class 'fairgraph.openminds.computation.data_copy.DataCopy'>, <class 'fairgraph.openminds.computation.generic_computation.GenericComputation'>, <class 'fairgraph.openminds.computation.model_validation.ModelValidation'>, <class 'fairgraph.openminds.computation.optimization.Optimization'>, <class 'fairgraph.openminds.computation.simulation.Simulation'>, <class 'fairgraph.openminds.computation.visualization.Visualization'>, <class 'fairgraph.openminds.computation.workflow_execution.WorkflowExecution'>], {'started_by': 'https://kg.ebrains.eu/api/instances/0466f2ac-e3d8-49e0-80d4-101b9bbf33e3'}), space=common, id=https://kg.ebrains.eu/api/instances/0466f2ac-e3d8-49e0-80d4-101b9bbf33e3),\n",
       " Person(affiliations=Affiliation(member_of=KGProxy((<class 'fairgraph.openminds.core.actors.consortium.Consortium'>, <class 'fairgraph.openminds.core.actors.organization.Organization'>), 'https://kg.ebrains.eu/api/instances/54684781-3aa0-4e59-9ef8-c6b922a662be')), contact_information=KGProxy([<class 'fairgraph.openminds.core.actors.contact_information.ContactInformation'>], 'https://kg.ebrains.eu/api/instances/e48b3597-869f-430c-9dd7-09b318b1eb8a'), family_name='Muñoz', given_name='Alberto', activities=KGQuery([<class 'fairgraph.openminds.core.research.protocol_execution.ProtocolExecution'>, <class 'fairgraph.openminds.ephys.activity.cell_patching.CellPatching'>, <class 'fairgraph.openminds.ephys.activity.electrode_placement.ElectrodePlacement'>, <class 'fairgraph.openminds.ephys.activity.recording_activity.RecordingActivity'>, <class 'fairgraph.openminds.specimen_prep.activity.cranial_window_preparation.CranialWindowPreparation'>, <class 'fairgraph.openminds.specimen_prep.activity.tissue_culture_preparation.TissueCulturePreparation'>, <class 'fairgraph.openminds.specimen_prep.activity.tissue_sample_slicing.TissueSampleSlicing'>, <class 'fairgraph.openminds.stimulation.activity.stimulation_activity.StimulationActivity'>], {'performed_by': 'https://kg.ebrains.eu/api/instances/046b6968-e416-47f3-bcf7-4a31158c8a23'}), comments=KGQuery([<class 'fairgraph.openminds.core.miscellaneous.comment.Comment'>], {'commenter': 'https://kg.ebrains.eu/api/instances/046b6968-e416-47f3-bcf7-4a31158c8a23'}), coordinated_projects=KGQuery([<class 'fairgraph.openminds.core.products.project.Project'>], {'coordinators': 'https://kg.ebrains.eu/api/instances/046b6968-e416-47f3-bcf7-4a31158c8a23'}), developed=KGQuery([<class 'fairgraph.openminds.computation.validation_test.ValidationTest'>, <class 'fairgraph.openminds.computation.validation_test_version.ValidationTestVersion'>, <class 'fairgraph.openminds.computation.workflow_recipe.WorkflowRecipe'>, <class 'fairgraph.openminds.computation.workflow_recipe_version.WorkflowRecipeVersion'>, <class 'fairgraph.openminds.core.products.meta_data_model.MetaDataModel'>, <class 'fairgraph.openminds.core.products.meta_data_model_version.MetaDataModelVersion'>, <class 'fairgraph.openminds.core.products.model.Model'>, <class 'fairgraph.openminds.core.products.model_version.ModelVersion'>, <class 'fairgraph.openminds.core.products.software.Software'>, <class 'fairgraph.openminds.core.products.software_version.SoftwareVersion'>, <class 'fairgraph.openminds.core.products.web_service.WebService'>, <class 'fairgraph.openminds.core.products.web_service_version.WebServiceVersion'>], {'developers': 'https://kg.ebrains.eu/api/instances/046b6968-e416-47f3-bcf7-4a31158c8a23'}), funded=KGQuery([<class 'fairgraph.openminds.core.miscellaneous.funding.Funding'>], {'funder': 'https://kg.ebrains.eu/api/instances/046b6968-e416-47f3-bcf7-4a31158c8a23'}), is_custodian_of=KGQuery([<class 'fairgraph.openminds.core.products.dataset.Dataset'>, <class 'fairgraph.openminds.core.products.dataset_version.DatasetVersion'>, <class 'fairgraph.openminds.publications.live_paper.LivePaper'>, <class 'fairgraph.openminds.publications.live_paper_version.LivePaperVersion'>, <class 'fairgraph.openminds.sands.atlas.brain_atlas.BrainAtlas'>, <class 'fairgraph.openminds.sands.atlas.brain_atlas_version.BrainAtlasVersion'>, <class 'fairgraph.openminds.sands.atlas.common_coordinate_space.CommonCoordinateSpace'>, <class 'fairgraph.openminds.sands.atlas.common_coordinate_space_version.CommonCoordinateSpaceVersion'>], {'custodians': 'https://kg.ebrains.eu/api/instances/046b6968-e416-47f3-bcf7-4a31158c8a23'}), is_owner_of=KGQuery([<class 'fairgraph.openminds.ephys.device.electrode.Electrode'>, <class 'fairgraph.openminds.ephys.device.electrode_array.ElectrodeArray'>, <class 'fairgraph.openminds.ephys.device.pipette.Pipette'>, <class 'fairgraph.openminds.specimen_prep.device.slicing_device.SlicingDevice'>], {'owners': 'https://kg.ebrains.eu/api/instances/046b6968-e416-47f3-bcf7-4a31158c8a23'}), is_provider_of=KGQuery([<class 'fairgraph.openminds.chemicals.product_source.ProductSource'>], {'provider': 'https://kg.ebrains.eu/api/instances/046b6968-e416-47f3-bcf7-4a31158c8a23'}), manufactured=KGQuery([<class 'fairgraph.openminds.core.products.setup.Setup'>], {'manufacturers': 'https://kg.ebrains.eu/api/instances/046b6968-e416-47f3-bcf7-4a31158c8a23'}), published=KGQuery([<class 'fairgraph.openminds.publications.book.Book'>, <class 'fairgraph.openminds.publications.chapter.Chapter'>, <class 'fairgraph.openminds.publications.learning_resource.LearningResource'>, <class 'fairgraph.openminds.publications.scholarly_article.ScholarlyArticle'>], {'publisher': 'https://kg.ebrains.eu/api/instances/046b6968-e416-47f3-bcf7-4a31158c8a23'}), started=KGQuery([<class 'fairgraph.openminds.computation.data_analysis.DataAnalysis'>, <class 'fairgraph.openminds.computation.data_copy.DataCopy'>, <class 'fairgraph.openminds.computation.generic_computation.GenericComputation'>, <class 'fairgraph.openminds.computation.model_validation.ModelValidation'>, <class 'fairgraph.openminds.computation.optimization.Optimization'>, <class 'fairgraph.openminds.computation.simulation.Simulation'>, <class 'fairgraph.openminds.computation.visualization.Visualization'>, <class 'fairgraph.openminds.computation.workflow_execution.WorkflowExecution'>], {'started_by': 'https://kg.ebrains.eu/api/instances/046b6968-e416-47f3-bcf7-4a31158c8a23'}), space=common, id=https://kg.ebrains.eu/api/instances/046b6968-e416-47f3-bcf7-4a31158c8a23),\n",
       " Person(contact_information=KGProxy([<class 'fairgraph.openminds.core.actors.contact_information.ContactInformation'>], 'https://kg.ebrains.eu/api/instances/7678148a-61ef-4398-a57a-0b99094c1b15'), family_name='Schmuker', given_name='Michael', activities=KGQuery([<class 'fairgraph.openminds.core.research.protocol_execution.ProtocolExecution'>, <class 'fairgraph.openminds.ephys.activity.cell_patching.CellPatching'>, <class 'fairgraph.openminds.ephys.activity.electrode_placement.ElectrodePlacement'>, <class 'fairgraph.openminds.ephys.activity.recording_activity.RecordingActivity'>, <class 'fairgraph.openminds.specimen_prep.activity.cranial_window_preparation.CranialWindowPreparation'>, <class 'fairgraph.openminds.specimen_prep.activity.tissue_culture_preparation.TissueCulturePreparation'>, <class 'fairgraph.openminds.specimen_prep.activity.tissue_sample_slicing.TissueSampleSlicing'>, <class 'fairgraph.openminds.stimulation.activity.stimulation_activity.StimulationActivity'>], {'performed_by': 'https://kg.ebrains.eu/api/instances/0473a43d-5e05-45bb-a281-1b7da40a5bc8'}), comments=KGQuery([<class 'fairgraph.openminds.core.miscellaneous.comment.Comment'>], {'commenter': 'https://kg.ebrains.eu/api/instances/0473a43d-5e05-45bb-a281-1b7da40a5bc8'}), coordinated_projects=KGQuery([<class 'fairgraph.openminds.core.products.project.Project'>], {'coordinators': 'https://kg.ebrains.eu/api/instances/0473a43d-5e05-45bb-a281-1b7da40a5bc8'}), developed=KGQuery([<class 'fairgraph.openminds.computation.validation_test.ValidationTest'>, <class 'fairgraph.openminds.computation.validation_test_version.ValidationTestVersion'>, <class 'fairgraph.openminds.computation.workflow_recipe.WorkflowRecipe'>, <class 'fairgraph.openminds.computation.workflow_recipe_version.WorkflowRecipeVersion'>, <class 'fairgraph.openminds.core.products.meta_data_model.MetaDataModel'>, <class 'fairgraph.openminds.core.products.meta_data_model_version.MetaDataModelVersion'>, <class 'fairgraph.openminds.core.products.model.Model'>, <class 'fairgraph.openminds.core.products.model_version.ModelVersion'>, <class 'fairgraph.openminds.core.products.software.Software'>, <class 'fairgraph.openminds.core.products.software_version.SoftwareVersion'>, <class 'fairgraph.openminds.core.products.web_service.WebService'>, <class 'fairgraph.openminds.core.products.web_service_version.WebServiceVersion'>], {'developers': 'https://kg.ebrains.eu/api/instances/0473a43d-5e05-45bb-a281-1b7da40a5bc8'}), funded=KGQuery([<class 'fairgraph.openminds.core.miscellaneous.funding.Funding'>], {'funder': 'https://kg.ebrains.eu/api/instances/0473a43d-5e05-45bb-a281-1b7da40a5bc8'}), is_custodian_of=KGQuery([<class 'fairgraph.openminds.core.products.dataset.Dataset'>, <class 'fairgraph.openminds.core.products.dataset_version.DatasetVersion'>, <class 'fairgraph.openminds.publications.live_paper.LivePaper'>, <class 'fairgraph.openminds.publications.live_paper_version.LivePaperVersion'>, <class 'fairgraph.openminds.sands.atlas.brain_atlas.BrainAtlas'>, <class 'fairgraph.openminds.sands.atlas.brain_atlas_version.BrainAtlasVersion'>, <class 'fairgraph.openminds.sands.atlas.common_coordinate_space.CommonCoordinateSpace'>, <class 'fairgraph.openminds.sands.atlas.common_coordinate_space_version.CommonCoordinateSpaceVersion'>], {'custodians': 'https://kg.ebrains.eu/api/instances/0473a43d-5e05-45bb-a281-1b7da40a5bc8'}), is_owner_of=KGQuery([<class 'fairgraph.openminds.ephys.device.electrode.Electrode'>, <class 'fairgraph.openminds.ephys.device.electrode_array.ElectrodeArray'>, <class 'fairgraph.openminds.ephys.device.pipette.Pipette'>, <class 'fairgraph.openminds.specimen_prep.device.slicing_device.SlicingDevice'>], {'owners': 'https://kg.ebrains.eu/api/instances/0473a43d-5e05-45bb-a281-1b7da40a5bc8'}), is_provider_of=KGQuery([<class 'fairgraph.openminds.chemicals.product_source.ProductSource'>], {'provider': 'https://kg.ebrains.eu/api/instances/0473a43d-5e05-45bb-a281-1b7da40a5bc8'}), manufactured=KGQuery([<class 'fairgraph.openminds.core.products.setup.Setup'>], {'manufacturers': 'https://kg.ebrains.eu/api/instances/0473a43d-5e05-45bb-a281-1b7da40a5bc8'}), published=KGQuery([<class 'fairgraph.openminds.publications.book.Book'>, <class 'fairgraph.openminds.publications.chapter.Chapter'>, <class 'fairgraph.openminds.publications.learning_resource.LearningResource'>, <class 'fairgraph.openminds.publications.scholarly_article.ScholarlyArticle'>], {'publisher': 'https://kg.ebrains.eu/api/instances/0473a43d-5e05-45bb-a281-1b7da40a5bc8'}), started=KGQuery([<class 'fairgraph.openminds.computation.data_analysis.DataAnalysis'>, <class 'fairgraph.openminds.computation.data_copy.DataCopy'>, <class 'fairgraph.openminds.computation.generic_computation.GenericComputation'>, <class 'fairgraph.openminds.computation.model_validation.ModelValidation'>, <class 'fairgraph.openminds.computation.optimization.Optimization'>, <class 'fairgraph.openminds.computation.simulation.Simulation'>, <class 'fairgraph.openminds.computation.visualization.Visualization'>, <class 'fairgraph.openminds.computation.workflow_execution.WorkflowExecution'>], {'started_by': 'https://kg.ebrains.eu/api/instances/0473a43d-5e05-45bb-a281-1b7da40a5bc8'}), space=common, id=https://kg.ebrains.eu/api/instances/0473a43d-5e05-45bb-a281-1b7da40a5bc8),\n",
       " Person(family_name='Bernard', given_name='Claire', activities=KGQuery([<class 'fairgraph.openminds.core.research.protocol_execution.ProtocolExecution'>, <class 'fairgraph.openminds.ephys.activity.cell_patching.CellPatching'>, <class 'fairgraph.openminds.ephys.activity.electrode_placement.ElectrodePlacement'>, <class 'fairgraph.openminds.ephys.activity.recording_activity.RecordingActivity'>, <class 'fairgraph.openminds.specimen_prep.activity.cranial_window_preparation.CranialWindowPreparation'>, <class 'fairgraph.openminds.specimen_prep.activity.tissue_culture_preparation.TissueCulturePreparation'>, <class 'fairgraph.openminds.specimen_prep.activity.tissue_sample_slicing.TissueSampleSlicing'>, <class 'fairgraph.openminds.stimulation.activity.stimulation_activity.StimulationActivity'>], {'performed_by': 'https://kg.ebrains.eu/api/instances/04a471bf-0490-4a81-878e-fcc808639544'}), comments=KGQuery([<class 'fairgraph.openminds.core.miscellaneous.comment.Comment'>], {'commenter': 'https://kg.ebrains.eu/api/instances/04a471bf-0490-4a81-878e-fcc808639544'}), coordinated_projects=KGQuery([<class 'fairgraph.openminds.core.products.project.Project'>], {'coordinators': 'https://kg.ebrains.eu/api/instances/04a471bf-0490-4a81-878e-fcc808639544'}), developed=KGQuery([<class 'fairgraph.openminds.computation.validation_test.ValidationTest'>, <class 'fairgraph.openminds.computation.validation_test_version.ValidationTestVersion'>, <class 'fairgraph.openminds.computation.workflow_recipe.WorkflowRecipe'>, <class 'fairgraph.openminds.computation.workflow_recipe_version.WorkflowRecipeVersion'>, <class 'fairgraph.openminds.core.products.meta_data_model.MetaDataModel'>, <class 'fairgraph.openminds.core.products.meta_data_model_version.MetaDataModelVersion'>, <class 'fairgraph.openminds.core.products.model.Model'>, <class 'fairgraph.openminds.core.products.model_version.ModelVersion'>, <class 'fairgraph.openminds.core.products.software.Software'>, <class 'fairgraph.openminds.core.products.software_version.SoftwareVersion'>, <class 'fairgraph.openminds.core.products.web_service.WebService'>, <class 'fairgraph.openminds.core.products.web_service_version.WebServiceVersion'>], {'developers': 'https://kg.ebrains.eu/api/instances/04a471bf-0490-4a81-878e-fcc808639544'}), funded=KGQuery([<class 'fairgraph.openminds.core.miscellaneous.funding.Funding'>], {'funder': 'https://kg.ebrains.eu/api/instances/04a471bf-0490-4a81-878e-fcc808639544'}), is_custodian_of=KGQuery([<class 'fairgraph.openminds.core.products.dataset.Dataset'>, <class 'fairgraph.openminds.core.products.dataset_version.DatasetVersion'>, <class 'fairgraph.openminds.publications.live_paper.LivePaper'>, <class 'fairgraph.openminds.publications.live_paper_version.LivePaperVersion'>, <class 'fairgraph.openminds.sands.atlas.brain_atlas.BrainAtlas'>, <class 'fairgraph.openminds.sands.atlas.brain_atlas_version.BrainAtlasVersion'>, <class 'fairgraph.openminds.sands.atlas.common_coordinate_space.CommonCoordinateSpace'>, <class 'fairgraph.openminds.sands.atlas.common_coordinate_space_version.CommonCoordinateSpaceVersion'>], {'custodians': 'https://kg.ebrains.eu/api/instances/04a471bf-0490-4a81-878e-fcc808639544'}), is_owner_of=KGQuery([<class 'fairgraph.openminds.ephys.device.electrode.Electrode'>, <class 'fairgraph.openminds.ephys.device.electrode_array.ElectrodeArray'>, <class 'fairgraph.openminds.ephys.device.pipette.Pipette'>, <class 'fairgraph.openminds.specimen_prep.device.slicing_device.SlicingDevice'>], {'owners': 'https://kg.ebrains.eu/api/instances/04a471bf-0490-4a81-878e-fcc808639544'}), is_provider_of=KGQuery([<class 'fairgraph.openminds.chemicals.product_source.ProductSource'>], {'provider': 'https://kg.ebrains.eu/api/instances/04a471bf-0490-4a81-878e-fcc808639544'}), manufactured=KGQuery([<class 'fairgraph.openminds.core.products.setup.Setup'>], {'manufacturers': 'https://kg.ebrains.eu/api/instances/04a471bf-0490-4a81-878e-fcc808639544'}), published=KGQuery([<class 'fairgraph.openminds.publications.book.Book'>, <class 'fairgraph.openminds.publications.chapter.Chapter'>, <class 'fairgraph.openminds.publications.learning_resource.LearningResource'>, <class 'fairgraph.openminds.publications.scholarly_article.ScholarlyArticle'>], {'publisher': 'https://kg.ebrains.eu/api/instances/04a471bf-0490-4a81-878e-fcc808639544'}), started=KGQuery([<class 'fairgraph.openminds.computation.data_analysis.DataAnalysis'>, <class 'fairgraph.openminds.computation.data_copy.DataCopy'>, <class 'fairgraph.openminds.computation.generic_computation.GenericComputation'>, <class 'fairgraph.openminds.computation.model_validation.ModelValidation'>, <class 'fairgraph.openminds.computation.optimization.Optimization'>, <class 'fairgraph.openminds.computation.simulation.Simulation'>, <class 'fairgraph.openminds.computation.visualization.Visualization'>, <class 'fairgraph.openminds.computation.workflow_execution.WorkflowExecution'>], {'started_by': 'https://kg.ebrains.eu/api/instances/04a471bf-0490-4a81-878e-fcc808639544'}), space=common, id=https://kg.ebrains.eu/api/instances/04a471bf-0490-4a81-878e-fcc808639544),\n",
       " Person(family_name='Ramirez', given_name='M. Desmond', activities=KGQuery([<class 'fairgraph.openminds.core.research.protocol_execution.ProtocolExecution'>, <class 'fairgraph.openminds.ephys.activity.cell_patching.CellPatching'>, <class 'fairgraph.openminds.ephys.activity.electrode_placement.ElectrodePlacement'>, <class 'fairgraph.openminds.ephys.activity.recording_activity.RecordingActivity'>, <class 'fairgraph.openminds.specimen_prep.activity.cranial_window_preparation.CranialWindowPreparation'>, <class 'fairgraph.openminds.specimen_prep.activity.tissue_culture_preparation.TissueCulturePreparation'>, <class 'fairgraph.openminds.specimen_prep.activity.tissue_sample_slicing.TissueSampleSlicing'>, <class 'fairgraph.openminds.stimulation.activity.stimulation_activity.StimulationActivity'>], {'performed_by': 'https://kg.ebrains.eu/api/instances/04c0a350-16b0-4478-8678-0dbde59df5c1'}), comments=KGQuery([<class 'fairgraph.openminds.core.miscellaneous.comment.Comment'>], {'commenter': 'https://kg.ebrains.eu/api/instances/04c0a350-16b0-4478-8678-0dbde59df5c1'}), coordinated_projects=KGQuery([<class 'fairgraph.openminds.core.products.project.Project'>], {'coordinators': 'https://kg.ebrains.eu/api/instances/04c0a350-16b0-4478-8678-0dbde59df5c1'}), developed=KGQuery([<class 'fairgraph.openminds.computation.validation_test.ValidationTest'>, <class 'fairgraph.openminds.computation.validation_test_version.ValidationTestVersion'>, <class 'fairgraph.openminds.computation.workflow_recipe.WorkflowRecipe'>, <class 'fairgraph.openminds.computation.workflow_recipe_version.WorkflowRecipeVersion'>, <class 'fairgraph.openminds.core.products.meta_data_model.MetaDataModel'>, <class 'fairgraph.openminds.core.products.meta_data_model_version.MetaDataModelVersion'>, <class 'fairgraph.openminds.core.products.model.Model'>, <class 'fairgraph.openminds.core.products.model_version.ModelVersion'>, <class 'fairgraph.openminds.core.products.software.Software'>, <class 'fairgraph.openminds.core.products.software_version.SoftwareVersion'>, <class 'fairgraph.openminds.core.products.web_service.WebService'>, <class 'fairgraph.openminds.core.products.web_service_version.WebServiceVersion'>], {'developers': 'https://kg.ebrains.eu/api/instances/04c0a350-16b0-4478-8678-0dbde59df5c1'}), funded=KGQuery([<class 'fairgraph.openminds.core.miscellaneous.funding.Funding'>], {'funder': 'https://kg.ebrains.eu/api/instances/04c0a350-16b0-4478-8678-0dbde59df5c1'}), is_custodian_of=KGQuery([<class 'fairgraph.openminds.core.products.dataset.Dataset'>, <class 'fairgraph.openminds.core.products.dataset_version.DatasetVersion'>, <class 'fairgraph.openminds.publications.live_paper.LivePaper'>, <class 'fairgraph.openminds.publications.live_paper_version.LivePaperVersion'>, <class 'fairgraph.openminds.sands.atlas.brain_atlas.BrainAtlas'>, <class 'fairgraph.openminds.sands.atlas.brain_atlas_version.BrainAtlasVersion'>, <class 'fairgraph.openminds.sands.atlas.common_coordinate_space.CommonCoordinateSpace'>, <class 'fairgraph.openminds.sands.atlas.common_coordinate_space_version.CommonCoordinateSpaceVersion'>], {'custodians': 'https://kg.ebrains.eu/api/instances/04c0a350-16b0-4478-8678-0dbde59df5c1'}), is_owner_of=KGQuery([<class 'fairgraph.openminds.ephys.device.electrode.Electrode'>, <class 'fairgraph.openminds.ephys.device.electrode_array.ElectrodeArray'>, <class 'fairgraph.openminds.ephys.device.pipette.Pipette'>, <class 'fairgraph.openminds.specimen_prep.device.slicing_device.SlicingDevice'>], {'owners': 'https://kg.ebrains.eu/api/instances/04c0a350-16b0-4478-8678-0dbde59df5c1'}), is_provider_of=KGQuery([<class 'fairgraph.openminds.chemicals.product_source.ProductSource'>], {'provider': 'https://kg.ebrains.eu/api/instances/04c0a350-16b0-4478-8678-0dbde59df5c1'}), manufactured=KGQuery([<class 'fairgraph.openminds.core.products.setup.Setup'>], {'manufacturers': 'https://kg.ebrains.eu/api/instances/04c0a350-16b0-4478-8678-0dbde59df5c1'}), published=KGQuery([<class 'fairgraph.openminds.publications.book.Book'>, <class 'fairgraph.openminds.publications.chapter.Chapter'>, <class 'fairgraph.openminds.publications.learning_resource.LearningResource'>, <class 'fairgraph.openminds.publications.scholarly_article.ScholarlyArticle'>], {'publisher': 'https://kg.ebrains.eu/api/instances/04c0a350-16b0-4478-8678-0dbde59df5c1'}), started=KGQuery([<class 'fairgraph.openminds.computation.data_analysis.DataAnalysis'>, <class 'fairgraph.openminds.computation.data_copy.DataCopy'>, <class 'fairgraph.openminds.computation.generic_computation.GenericComputation'>, <class 'fairgraph.openminds.computation.model_validation.ModelValidation'>, <class 'fairgraph.openminds.computation.optimization.Optimization'>, <class 'fairgraph.openminds.computation.simulation.Simulation'>, <class 'fairgraph.openminds.computation.visualization.Visualization'>, <class 'fairgraph.openminds.computation.workflow_execution.WorkflowExecution'>], {'started_by': 'https://kg.ebrains.eu/api/instances/04c0a350-16b0-4478-8678-0dbde59df5c1'}), space=common, id=https://kg.ebrains.eu/api/instances/04c0a350-16b0-4478-8678-0dbde59df5c1),\n",
       " Person(family_name='Maith', given_name='Oliver', activities=KGQuery([<class 'fairgraph.openminds.core.research.protocol_execution.ProtocolExecution'>, <class 'fairgraph.openminds.ephys.activity.cell_patching.CellPatching'>, <class 'fairgraph.openminds.ephys.activity.electrode_placement.ElectrodePlacement'>, <class 'fairgraph.openminds.ephys.activity.recording_activity.RecordingActivity'>, <class 'fairgraph.openminds.specimen_prep.activity.cranial_window_preparation.CranialWindowPreparation'>, <class 'fairgraph.openminds.specimen_prep.activity.tissue_culture_preparation.TissueCulturePreparation'>, <class 'fairgraph.openminds.specimen_prep.activity.tissue_sample_slicing.TissueSampleSlicing'>, <class 'fairgraph.openminds.stimulation.activity.stimulation_activity.StimulationActivity'>], {'performed_by': 'https://kg.ebrains.eu/api/instances/04cd3d1a-a7c4-460b-8e79-5841e5321696'}), comments=KGQuery([<class 'fairgraph.openminds.core.miscellaneous.comment.Comment'>], {'commenter': 'https://kg.ebrains.eu/api/instances/04cd3d1a-a7c4-460b-8e79-5841e5321696'}), coordinated_projects=KGQuery([<class 'fairgraph.openminds.core.products.project.Project'>], {'coordinators': 'https://kg.ebrains.eu/api/instances/04cd3d1a-a7c4-460b-8e79-5841e5321696'}), developed=KGQuery([<class 'fairgraph.openminds.computation.validation_test.ValidationTest'>, <class 'fairgraph.openminds.computation.validation_test_version.ValidationTestVersion'>, <class 'fairgraph.openminds.computation.workflow_recipe.WorkflowRecipe'>, <class 'fairgraph.openminds.computation.workflow_recipe_version.WorkflowRecipeVersion'>, <class 'fairgraph.openminds.core.products.meta_data_model.MetaDataModel'>, <class 'fairgraph.openminds.core.products.meta_data_model_version.MetaDataModelVersion'>, <class 'fairgraph.openminds.core.products.model.Model'>, <class 'fairgraph.openminds.core.products.model_version.ModelVersion'>, <class 'fairgraph.openminds.core.products.software.Software'>, <class 'fairgraph.openminds.core.products.software_version.SoftwareVersion'>, <class 'fairgraph.openminds.core.products.web_service.WebService'>, <class 'fairgraph.openminds.core.products.web_service_version.WebServiceVersion'>], {'developers': 'https://kg.ebrains.eu/api/instances/04cd3d1a-a7c4-460b-8e79-5841e5321696'}), funded=KGQuery([<class 'fairgraph.openminds.core.miscellaneous.funding.Funding'>], {'funder': 'https://kg.ebrains.eu/api/instances/04cd3d1a-a7c4-460b-8e79-5841e5321696'}), is_custodian_of=KGQuery([<class 'fairgraph.openminds.core.products.dataset.Dataset'>, <class 'fairgraph.openminds.core.products.dataset_version.DatasetVersion'>, <class 'fairgraph.openminds.publications.live_paper.LivePaper'>, <class 'fairgraph.openminds.publications.live_paper_version.LivePaperVersion'>, <class 'fairgraph.openminds.sands.atlas.brain_atlas.BrainAtlas'>, <class 'fairgraph.openminds.sands.atlas.brain_atlas_version.BrainAtlasVersion'>, <class 'fairgraph.openminds.sands.atlas.common_coordinate_space.CommonCoordinateSpace'>, <class 'fairgraph.openminds.sands.atlas.common_coordinate_space_version.CommonCoordinateSpaceVersion'>], {'custodians': 'https://kg.ebrains.eu/api/instances/04cd3d1a-a7c4-460b-8e79-5841e5321696'}), is_owner_of=KGQuery([<class 'fairgraph.openminds.ephys.device.electrode.Electrode'>, <class 'fairgraph.openminds.ephys.device.electrode_array.ElectrodeArray'>, <class 'fairgraph.openminds.ephys.device.pipette.Pipette'>, <class 'fairgraph.openminds.specimen_prep.device.slicing_device.SlicingDevice'>], {'owners': 'https://kg.ebrains.eu/api/instances/04cd3d1a-a7c4-460b-8e79-5841e5321696'}), is_provider_of=KGQuery([<class 'fairgraph.openminds.chemicals.product_source.ProductSource'>], {'provider': 'https://kg.ebrains.eu/api/instances/04cd3d1a-a7c4-460b-8e79-5841e5321696'}), manufactured=KGQuery([<class 'fairgraph.openminds.core.products.setup.Setup'>], {'manufacturers': 'https://kg.ebrains.eu/api/instances/04cd3d1a-a7c4-460b-8e79-5841e5321696'}), published=KGQuery([<class 'fairgraph.openminds.publications.book.Book'>, <class 'fairgraph.openminds.publications.chapter.Chapter'>, <class 'fairgraph.openminds.publications.learning_resource.LearningResource'>, <class 'fairgraph.openminds.publications.scholarly_article.ScholarlyArticle'>], {'publisher': 'https://kg.ebrains.eu/api/instances/04cd3d1a-a7c4-460b-8e79-5841e5321696'}), started=KGQuery([<class 'fairgraph.openminds.computation.data_analysis.DataAnalysis'>, <class 'fairgraph.openminds.computation.data_copy.DataCopy'>, <class 'fairgraph.openminds.computation.generic_computation.GenericComputation'>, <class 'fairgraph.openminds.computation.model_validation.ModelValidation'>, <class 'fairgraph.openminds.computation.optimization.Optimization'>, <class 'fairgraph.openminds.computation.simulation.Simulation'>, <class 'fairgraph.openminds.computation.visualization.Visualization'>, <class 'fairgraph.openminds.computation.workflow_execution.WorkflowExecution'>], {'started_by': 'https://kg.ebrains.eu/api/instances/04cd3d1a-a7c4-460b-8e79-5841e5321696'}), space=common, id=https://kg.ebrains.eu/api/instances/04cd3d1a-a7c4-460b-8e79-5841e5321696),\n",
       " Person(affiliations=Affiliation(member_of=KGProxy((<class 'fairgraph.openminds.core.actors.consortium.Consortium'>, <class 'fairgraph.openminds.core.actors.organization.Organization'>), 'https://kg.ebrains.eu/api/instances/276cf5ef-d51e-43f6-8bd4-c7007cc93aed')), contact_information=KGProxy([<class 'fairgraph.openminds.core.actors.contact_information.ContactInformation'>], 'https://kg.ebrains.eu/api/instances/ba3445b4-94d7-4700-ba36-5b88ead972f1'), family_name='Orzol', given_name='Aleksandra', activities=KGQuery([<class 'fairgraph.openminds.core.research.protocol_execution.ProtocolExecution'>, <class 'fairgraph.openminds.ephys.activity.cell_patching.CellPatching'>, <class 'fairgraph.openminds.ephys.activity.electrode_placement.ElectrodePlacement'>, <class 'fairgraph.openminds.ephys.activity.recording_activity.RecordingActivity'>, <class 'fairgraph.openminds.specimen_prep.activity.cranial_window_preparation.CranialWindowPreparation'>, <class 'fairgraph.openminds.specimen_prep.activity.tissue_culture_preparation.TissueCulturePreparation'>, <class 'fairgraph.openminds.specimen_prep.activity.tissue_sample_slicing.TissueSampleSlicing'>, <class 'fairgraph.openminds.stimulation.activity.stimulation_activity.StimulationActivity'>], {'performed_by': 'https://kg.ebrains.eu/api/instances/04d227f0-102c-4537-b9a0-69d298b11821'}), comments=KGQuery([<class 'fairgraph.openminds.core.miscellaneous.comment.Comment'>], {'commenter': 'https://kg.ebrains.eu/api/instances/04d227f0-102c-4537-b9a0-69d298b11821'}), coordinated_projects=KGQuery([<class 'fairgraph.openminds.core.products.project.Project'>], {'coordinators': 'https://kg.ebrains.eu/api/instances/04d227f0-102c-4537-b9a0-69d298b11821'}), developed=KGQuery([<class 'fairgraph.openminds.computation.validation_test.ValidationTest'>, <class 'fairgraph.openminds.computation.validation_test_version.ValidationTestVersion'>, <class 'fairgraph.openminds.computation.workflow_recipe.WorkflowRecipe'>, <class 'fairgraph.openminds.computation.workflow_recipe_version.WorkflowRecipeVersion'>, <class 'fairgraph.openminds.core.products.meta_data_model.MetaDataModel'>, <class 'fairgraph.openminds.core.products.meta_data_model_version.MetaDataModelVersion'>, <class 'fairgraph.openminds.core.products.model.Model'>, <class 'fairgraph.openminds.core.products.model_version.ModelVersion'>, <class 'fairgraph.openminds.core.products.software.Software'>, <class 'fairgraph.openminds.core.products.software_version.SoftwareVersion'>, <class 'fairgraph.openminds.core.products.web_service.WebService'>, <class 'fairgraph.openminds.core.products.web_service_version.WebServiceVersion'>], {'developers': 'https://kg.ebrains.eu/api/instances/04d227f0-102c-4537-b9a0-69d298b11821'}), funded=KGQuery([<class 'fairgraph.openminds.core.miscellaneous.funding.Funding'>], {'funder': 'https://kg.ebrains.eu/api/instances/04d227f0-102c-4537-b9a0-69d298b11821'}), is_custodian_of=KGQuery([<class 'fairgraph.openminds.core.products.dataset.Dataset'>, <class 'fairgraph.openminds.core.products.dataset_version.DatasetVersion'>, <class 'fairgraph.openminds.publications.live_paper.LivePaper'>, <class 'fairgraph.openminds.publications.live_paper_version.LivePaperVersion'>, <class 'fairgraph.openminds.sands.atlas.brain_atlas.BrainAtlas'>, <class 'fairgraph.openminds.sands.atlas.brain_atlas_version.BrainAtlasVersion'>, <class 'fairgraph.openminds.sands.atlas.common_coordinate_space.CommonCoordinateSpace'>, <class 'fairgraph.openminds.sands.atlas.common_coordinate_space_version.CommonCoordinateSpaceVersion'>], {'custodians': 'https://kg.ebrains.eu/api/instances/04d227f0-102c-4537-b9a0-69d298b11821'}), is_owner_of=KGQuery([<class 'fairgraph.openminds.ephys.device.electrode.Electrode'>, <class 'fairgraph.openminds.ephys.device.electrode_array.ElectrodeArray'>, <class 'fairgraph.openminds.ephys.device.pipette.Pipette'>, <class 'fairgraph.openminds.specimen_prep.device.slicing_device.SlicingDevice'>], {'owners': 'https://kg.ebrains.eu/api/instances/04d227f0-102c-4537-b9a0-69d298b11821'}), is_provider_of=KGQuery([<class 'fairgraph.openminds.chemicals.product_source.ProductSource'>], {'provider': 'https://kg.ebrains.eu/api/instances/04d227f0-102c-4537-b9a0-69d298b11821'}), manufactured=KGQuery([<class 'fairgraph.openminds.core.products.setup.Setup'>], {'manufacturers': 'https://kg.ebrains.eu/api/instances/04d227f0-102c-4537-b9a0-69d298b11821'}), published=KGQuery([<class 'fairgraph.openminds.publications.book.Book'>, <class 'fairgraph.openminds.publications.chapter.Chapter'>, <class 'fairgraph.openminds.publications.learning_resource.LearningResource'>, <class 'fairgraph.openminds.publications.scholarly_article.ScholarlyArticle'>], {'publisher': 'https://kg.ebrains.eu/api/instances/04d227f0-102c-4537-b9a0-69d298b11821'}), started=KGQuery([<class 'fairgraph.openminds.computation.data_analysis.DataAnalysis'>, <class 'fairgraph.openminds.computation.data_copy.DataCopy'>, <class 'fairgraph.openminds.computation.generic_computation.GenericComputation'>, <class 'fairgraph.openminds.computation.model_validation.ModelValidation'>, <class 'fairgraph.openminds.computation.optimization.Optimization'>, <class 'fairgraph.openminds.computation.simulation.Simulation'>, <class 'fairgraph.openminds.computation.visualization.Visualization'>, <class 'fairgraph.openminds.computation.workflow_execution.WorkflowExecution'>], {'started_by': 'https://kg.ebrains.eu/api/instances/04d227f0-102c-4537-b9a0-69d298b11821'}), space=common, id=https://kg.ebrains.eu/api/instances/04d227f0-102c-4537-b9a0-69d298b11821),\n",
       " Person(affiliations=Affiliation(member_of=[KGProxy((<class 'fairgraph.openminds.core.actors.consortium.Consortium'>, <class 'fairgraph.openminds.core.actors.organization.Organization'>), 'https://kg.ebrains.eu/api/instances/93d30064-2c1e-4dd3-8a09-05573b089d06'), KGProxy((<class 'fairgraph.openminds.core.actors.consortium.Consortium'>, <class 'fairgraph.openminds.core.actors.organization.Organization'>), 'https://kg.ebrains.eu/api/instances/d8425198-3c54-4f94-9070-9f0ecddc5407')]), contact_information=KGProxy([<class 'fairgraph.openminds.core.actors.contact_information.ContactInformation'>], 'https://kg.ebrains.eu/api/instances/70b57915-81fa-42f3-bcab-34572b57addd'), digital_identifiers=KGProxy([<class 'fairgraph.openminds.core.digital_identifier.orcid.ORCID'>], 'https://kg.ebrains.eu/api/instances/b822cd4b-6413-41c2-8e68-6cf3cc8935fd'), family_name='Bey', given_name='Patrik', activities=KGQuery([<class 'fairgraph.openminds.core.research.protocol_execution.ProtocolExecution'>, <class 'fairgraph.openminds.ephys.activity.cell_patching.CellPatching'>, <class 'fairgraph.openminds.ephys.activity.electrode_placement.ElectrodePlacement'>, <class 'fairgraph.openminds.ephys.activity.recording_activity.RecordingActivity'>, <class 'fairgraph.openminds.specimen_prep.activity.cranial_window_preparation.CranialWindowPreparation'>, <class 'fairgraph.openminds.specimen_prep.activity.tissue_culture_preparation.TissueCulturePreparation'>, <class 'fairgraph.openminds.specimen_prep.activity.tissue_sample_slicing.TissueSampleSlicing'>, <class 'fairgraph.openminds.stimulation.activity.stimulation_activity.StimulationActivity'>], {'performed_by': 'https://kg.ebrains.eu/api/instances/04db2ba2-9ad6-4dab-9d5a-37028cb54c1b'}), comments=KGQuery([<class 'fairgraph.openminds.core.miscellaneous.comment.Comment'>], {'commenter': 'https://kg.ebrains.eu/api/instances/04db2ba2-9ad6-4dab-9d5a-37028cb54c1b'}), coordinated_projects=KGQuery([<class 'fairgraph.openminds.core.products.project.Project'>], {'coordinators': 'https://kg.ebrains.eu/api/instances/04db2ba2-9ad6-4dab-9d5a-37028cb54c1b'}), developed=KGQuery([<class 'fairgraph.openminds.computation.validation_test.ValidationTest'>, <class 'fairgraph.openminds.computation.validation_test_version.ValidationTestVersion'>, <class 'fairgraph.openminds.computation.workflow_recipe.WorkflowRecipe'>, <class 'fairgraph.openminds.computation.workflow_recipe_version.WorkflowRecipeVersion'>, <class 'fairgraph.openminds.core.products.meta_data_model.MetaDataModel'>, <class 'fairgraph.openminds.core.products.meta_data_model_version.MetaDataModelVersion'>, <class 'fairgraph.openminds.core.products.model.Model'>, <class 'fairgraph.openminds.core.products.model_version.ModelVersion'>, <class 'fairgraph.openminds.core.products.software.Software'>, <class 'fairgraph.openminds.core.products.software_version.SoftwareVersion'>, <class 'fairgraph.openminds.core.products.web_service.WebService'>, <class 'fairgraph.openminds.core.products.web_service_version.WebServiceVersion'>], {'developers': 'https://kg.ebrains.eu/api/instances/04db2ba2-9ad6-4dab-9d5a-37028cb54c1b'}), funded=KGQuery([<class 'fairgraph.openminds.core.miscellaneous.funding.Funding'>], {'funder': 'https://kg.ebrains.eu/api/instances/04db2ba2-9ad6-4dab-9d5a-37028cb54c1b'}), is_custodian_of=KGQuery([<class 'fairgraph.openminds.core.products.dataset.Dataset'>, <class 'fairgraph.openminds.core.products.dataset_version.DatasetVersion'>, <class 'fairgraph.openminds.publications.live_paper.LivePaper'>, <class 'fairgraph.openminds.publications.live_paper_version.LivePaperVersion'>, <class 'fairgraph.openminds.sands.atlas.brain_atlas.BrainAtlas'>, <class 'fairgraph.openminds.sands.atlas.brain_atlas_version.BrainAtlasVersion'>, <class 'fairgraph.openminds.sands.atlas.common_coordinate_space.CommonCoordinateSpace'>, <class 'fairgraph.openminds.sands.atlas.common_coordinate_space_version.CommonCoordinateSpaceVersion'>], {'custodians': 'https://kg.ebrains.eu/api/instances/04db2ba2-9ad6-4dab-9d5a-37028cb54c1b'}), is_owner_of=KGQuery([<class 'fairgraph.openminds.ephys.device.electrode.Electrode'>, <class 'fairgraph.openminds.ephys.device.electrode_array.ElectrodeArray'>, <class 'fairgraph.openminds.ephys.device.pipette.Pipette'>, <class 'fairgraph.openminds.specimen_prep.device.slicing_device.SlicingDevice'>], {'owners': 'https://kg.ebrains.eu/api/instances/04db2ba2-9ad6-4dab-9d5a-37028cb54c1b'}), is_provider_of=KGQuery([<class 'fairgraph.openminds.chemicals.product_source.ProductSource'>], {'provider': 'https://kg.ebrains.eu/api/instances/04db2ba2-9ad6-4dab-9d5a-37028cb54c1b'}), manufactured=KGQuery([<class 'fairgraph.openminds.core.products.setup.Setup'>], {'manufacturers': 'https://kg.ebrains.eu/api/instances/04db2ba2-9ad6-4dab-9d5a-37028cb54c1b'}), published=KGQuery([<class 'fairgraph.openminds.publications.book.Book'>, <class 'fairgraph.openminds.publications.chapter.Chapter'>, <class 'fairgraph.openminds.publications.learning_resource.LearningResource'>, <class 'fairgraph.openminds.publications.scholarly_article.ScholarlyArticle'>], {'publisher': 'https://kg.ebrains.eu/api/instances/04db2ba2-9ad6-4dab-9d5a-37028cb54c1b'}), started=KGQuery([<class 'fairgraph.openminds.computation.data_analysis.DataAnalysis'>, <class 'fairgraph.openminds.computation.data_copy.DataCopy'>, <class 'fairgraph.openminds.computation.generic_computation.GenericComputation'>, <class 'fairgraph.openminds.computation.model_validation.ModelValidation'>, <class 'fairgraph.openminds.computation.optimization.Optimization'>, <class 'fairgraph.openminds.computation.simulation.Simulation'>, <class 'fairgraph.openminds.computation.visualization.Visualization'>, <class 'fairgraph.openminds.computation.workflow_execution.WorkflowExecution'>], {'started_by': 'https://kg.ebrains.eu/api/instances/04db2ba2-9ad6-4dab-9d5a-37028cb54c1b'}), space=common, id=https://kg.ebrains.eu/api/instances/04db2ba2-9ad6-4dab-9d5a-37028cb54c1b),\n",
       " Person(family_name='Fiáth', given_name='Richárd', activities=KGQuery([<class 'fairgraph.openminds.core.research.protocol_execution.ProtocolExecution'>, <class 'fairgraph.openminds.ephys.activity.cell_patching.CellPatching'>, <class 'fairgraph.openminds.ephys.activity.electrode_placement.ElectrodePlacement'>, <class 'fairgraph.openminds.ephys.activity.recording_activity.RecordingActivity'>, <class 'fairgraph.openminds.specimen_prep.activity.cranial_window_preparation.CranialWindowPreparation'>, <class 'fairgraph.openminds.specimen_prep.activity.tissue_culture_preparation.TissueCulturePreparation'>, <class 'fairgraph.openminds.specimen_prep.activity.tissue_sample_slicing.TissueSampleSlicing'>, <class 'fairgraph.openminds.stimulation.activity.stimulation_activity.StimulationActivity'>], {'performed_by': 'https://kg.ebrains.eu/api/instances/04e061ec-0dab-4915-8017-5e760e114005'}), comments=KGQuery([<class 'fairgraph.openminds.core.miscellaneous.comment.Comment'>], {'commenter': 'https://kg.ebrains.eu/api/instances/04e061ec-0dab-4915-8017-5e760e114005'}), coordinated_projects=KGQuery([<class 'fairgraph.openminds.core.products.project.Project'>], {'coordinators': 'https://kg.ebrains.eu/api/instances/04e061ec-0dab-4915-8017-5e760e114005'}), developed=KGQuery([<class 'fairgraph.openminds.computation.validation_test.ValidationTest'>, <class 'fairgraph.openminds.computation.validation_test_version.ValidationTestVersion'>, <class 'fairgraph.openminds.computation.workflow_recipe.WorkflowRecipe'>, <class 'fairgraph.openminds.computation.workflow_recipe_version.WorkflowRecipeVersion'>, <class 'fairgraph.openminds.core.products.meta_data_model.MetaDataModel'>, <class 'fairgraph.openminds.core.products.meta_data_model_version.MetaDataModelVersion'>, <class 'fairgraph.openminds.core.products.model.Model'>, <class 'fairgraph.openminds.core.products.model_version.ModelVersion'>, <class 'fairgraph.openminds.core.products.software.Software'>, <class 'fairgraph.openminds.core.products.software_version.SoftwareVersion'>, <class 'fairgraph.openminds.core.products.web_service.WebService'>, <class 'fairgraph.openminds.core.products.web_service_version.WebServiceVersion'>], {'developers': 'https://kg.ebrains.eu/api/instances/04e061ec-0dab-4915-8017-5e760e114005'}), funded=KGQuery([<class 'fairgraph.openminds.core.miscellaneous.funding.Funding'>], {'funder': 'https://kg.ebrains.eu/api/instances/04e061ec-0dab-4915-8017-5e760e114005'}), is_custodian_of=KGQuery([<class 'fairgraph.openminds.core.products.dataset.Dataset'>, <class 'fairgraph.openminds.core.products.dataset_version.DatasetVersion'>, <class 'fairgraph.openminds.publications.live_paper.LivePaper'>, <class 'fairgraph.openminds.publications.live_paper_version.LivePaperVersion'>, <class 'fairgraph.openminds.sands.atlas.brain_atlas.BrainAtlas'>, <class 'fairgraph.openminds.sands.atlas.brain_atlas_version.BrainAtlasVersion'>, <class 'fairgraph.openminds.sands.atlas.common_coordinate_space.CommonCoordinateSpace'>, <class 'fairgraph.openminds.sands.atlas.common_coordinate_space_version.CommonCoordinateSpaceVersion'>], {'custodians': 'https://kg.ebrains.eu/api/instances/04e061ec-0dab-4915-8017-5e760e114005'}), is_owner_of=KGQuery([<class 'fairgraph.openminds.ephys.device.electrode.Electrode'>, <class 'fairgraph.openminds.ephys.device.electrode_array.ElectrodeArray'>, <class 'fairgraph.openminds.ephys.device.pipette.Pipette'>, <class 'fairgraph.openminds.specimen_prep.device.slicing_device.SlicingDevice'>], {'owners': 'https://kg.ebrains.eu/api/instances/04e061ec-0dab-4915-8017-5e760e114005'}), is_provider_of=KGQuery([<class 'fairgraph.openminds.chemicals.product_source.ProductSource'>], {'provider': 'https://kg.ebrains.eu/api/instances/04e061ec-0dab-4915-8017-5e760e114005'}), manufactured=KGQuery([<class 'fairgraph.openminds.core.products.setup.Setup'>], {'manufacturers': 'https://kg.ebrains.eu/api/instances/04e061ec-0dab-4915-8017-5e760e114005'}), published=KGQuery([<class 'fairgraph.openminds.publications.book.Book'>, <class 'fairgraph.openminds.publications.chapter.Chapter'>, <class 'fairgraph.openminds.publications.learning_resource.LearningResource'>, <class 'fairgraph.openminds.publications.scholarly_article.ScholarlyArticle'>], {'publisher': 'https://kg.ebrains.eu/api/instances/04e061ec-0dab-4915-8017-5e760e114005'}), started=KGQuery([<class 'fairgraph.openminds.computation.data_analysis.DataAnalysis'>, <class 'fairgraph.openminds.computation.data_copy.DataCopy'>, <class 'fairgraph.openminds.computation.generic_computation.GenericComputation'>, <class 'fairgraph.openminds.computation.model_validation.ModelValidation'>, <class 'fairgraph.openminds.computation.optimization.Optimization'>, <class 'fairgraph.openminds.computation.simulation.Simulation'>, <class 'fairgraph.openminds.computation.visualization.Visualization'>, <class 'fairgraph.openminds.computation.workflow_execution.WorkflowExecution'>], {'started_by': 'https://kg.ebrains.eu/api/instances/04e061ec-0dab-4915-8017-5e760e114005'}), space=common, id=https://kg.ebrains.eu/api/instances/04e061ec-0dab-4915-8017-5e760e114005),\n",
       " Person(affiliations=Affiliation(member_of=KGProxy((<class 'fairgraph.openminds.core.actors.consortium.Consortium'>, <class 'fairgraph.openminds.core.actors.organization.Organization'>), 'https://kg.ebrains.eu/api/instances/6c8797ef-67f6-4c6e-9a86-081be88e0c56')), contact_information=KGProxy([<class 'fairgraph.openminds.core.actors.contact_information.ContactInformation'>], 'https://kg.ebrains.eu/api/instances/daf2794a-0849-441e-aa0d-415c437f4778'), digital_identifiers=KGProxy([<class 'fairgraph.openminds.core.digital_identifier.orcid.ORCID'>], 'https://kg.ebrains.eu/api/instances/e04a22e1-4289-4e78-aecf-88b358059e5d'), family_name='Negrello', given_name='Mario', activities=KGQuery([<class 'fairgraph.openminds.core.research.protocol_execution.ProtocolExecution'>, <class 'fairgraph.openminds.ephys.activity.cell_patching.CellPatching'>, <class 'fairgraph.openminds.ephys.activity.electrode_placement.ElectrodePlacement'>, <class 'fairgraph.openminds.ephys.activity.recording_activity.RecordingActivity'>, <class 'fairgraph.openminds.specimen_prep.activity.cranial_window_preparation.CranialWindowPreparation'>, <class 'fairgraph.openminds.specimen_prep.activity.tissue_culture_preparation.TissueCulturePreparation'>, <class 'fairgraph.openminds.specimen_prep.activity.tissue_sample_slicing.TissueSampleSlicing'>, <class 'fairgraph.openminds.stimulation.activity.stimulation_activity.StimulationActivity'>], {'performed_by': 'https://kg.ebrains.eu/api/instances/05200fb3-974c-4bc9-8e56-8d0722ec308b'}), comments=KGQuery([<class 'fairgraph.openminds.core.miscellaneous.comment.Comment'>], {'commenter': 'https://kg.ebrains.eu/api/instances/05200fb3-974c-4bc9-8e56-8d0722ec308b'}), coordinated_projects=KGQuery([<class 'fairgraph.openminds.core.products.project.Project'>], {'coordinators': 'https://kg.ebrains.eu/api/instances/05200fb3-974c-4bc9-8e56-8d0722ec308b'}), developed=KGQuery([<class 'fairgraph.openminds.computation.validation_test.ValidationTest'>, <class 'fairgraph.openminds.computation.validation_test_version.ValidationTestVersion'>, <class 'fairgraph.openminds.computation.workflow_recipe.WorkflowRecipe'>, <class 'fairgraph.openminds.computation.workflow_recipe_version.WorkflowRecipeVersion'>, <class 'fairgraph.openminds.core.products.meta_data_model.MetaDataModel'>, <class 'fairgraph.openminds.core.products.meta_data_model_version.MetaDataModelVersion'>, <class 'fairgraph.openminds.core.products.model.Model'>, <class 'fairgraph.openminds.core.products.model_version.ModelVersion'>, <class 'fairgraph.openminds.core.products.software.Software'>, <class 'fairgraph.openminds.core.products.software_version.SoftwareVersion'>, <class 'fairgraph.openminds.core.products.web_service.WebService'>, <class 'fairgraph.openminds.core.products.web_service_version.WebServiceVersion'>], {'developers': 'https://kg.ebrains.eu/api/instances/05200fb3-974c-4bc9-8e56-8d0722ec308b'}), funded=KGQuery([<class 'fairgraph.openminds.core.miscellaneous.funding.Funding'>], {'funder': 'https://kg.ebrains.eu/api/instances/05200fb3-974c-4bc9-8e56-8d0722ec308b'}), is_custodian_of=KGQuery([<class 'fairgraph.openminds.core.products.dataset.Dataset'>, <class 'fairgraph.openminds.core.products.dataset_version.DatasetVersion'>, <class 'fairgraph.openminds.publications.live_paper.LivePaper'>, <class 'fairgraph.openminds.publications.live_paper_version.LivePaperVersion'>, <class 'fairgraph.openminds.sands.atlas.brain_atlas.BrainAtlas'>, <class 'fairgraph.openminds.sands.atlas.brain_atlas_version.BrainAtlasVersion'>, <class 'fairgraph.openminds.sands.atlas.common_coordinate_space.CommonCoordinateSpace'>, <class 'fairgraph.openminds.sands.atlas.common_coordinate_space_version.CommonCoordinateSpaceVersion'>], {'custodians': 'https://kg.ebrains.eu/api/instances/05200fb3-974c-4bc9-8e56-8d0722ec308b'}), is_owner_of=KGQuery([<class 'fairgraph.openminds.ephys.device.electrode.Electrode'>, <class 'fairgraph.openminds.ephys.device.electrode_array.ElectrodeArray'>, <class 'fairgraph.openminds.ephys.device.pipette.Pipette'>, <class 'fairgraph.openminds.specimen_prep.device.slicing_device.SlicingDevice'>], {'owners': 'https://kg.ebrains.eu/api/instances/05200fb3-974c-4bc9-8e56-8d0722ec308b'}), is_provider_of=KGQuery([<class 'fairgraph.openminds.chemicals.product_source.ProductSource'>], {'provider': 'https://kg.ebrains.eu/api/instances/05200fb3-974c-4bc9-8e56-8d0722ec308b'}), manufactured=KGQuery([<class 'fairgraph.openminds.core.products.setup.Setup'>], {'manufacturers': 'https://kg.ebrains.eu/api/instances/05200fb3-974c-4bc9-8e56-8d0722ec308b'}), published=KGQuery([<class 'fairgraph.openminds.publications.book.Book'>, <class 'fairgraph.openminds.publications.chapter.Chapter'>, <class 'fairgraph.openminds.publications.learning_resource.LearningResource'>, <class 'fairgraph.openminds.publications.scholarly_article.ScholarlyArticle'>], {'publisher': 'https://kg.ebrains.eu/api/instances/05200fb3-974c-4bc9-8e56-8d0722ec308b'}), started=KGQuery([<class 'fairgraph.openminds.computation.data_analysis.DataAnalysis'>, <class 'fairgraph.openminds.computation.data_copy.DataCopy'>, <class 'fairgraph.openminds.computation.generic_computation.GenericComputation'>, <class 'fairgraph.openminds.computation.model_validation.ModelValidation'>, <class 'fairgraph.openminds.computation.optimization.Optimization'>, <class 'fairgraph.openminds.computation.simulation.Simulation'>, <class 'fairgraph.openminds.computation.visualization.Visualization'>, <class 'fairgraph.openminds.computation.workflow_execution.WorkflowExecution'>], {'started_by': 'https://kg.ebrains.eu/api/instances/05200fb3-974c-4bc9-8e56-8d0722ec308b'}), space=common, id=https://kg.ebrains.eu/api/instances/05200fb3-974c-4bc9-8e56-8d0722ec308b),\n",
       " Person(family_name='Fletcher', given_name='Paul C.', activities=KGQuery([<class 'fairgraph.openminds.core.research.protocol_execution.ProtocolExecution'>, <class 'fairgraph.openminds.ephys.activity.cell_patching.CellPatching'>, <class 'fairgraph.openminds.ephys.activity.electrode_placement.ElectrodePlacement'>, <class 'fairgraph.openminds.ephys.activity.recording_activity.RecordingActivity'>, <class 'fairgraph.openminds.specimen_prep.activity.cranial_window_preparation.CranialWindowPreparation'>, <class 'fairgraph.openminds.specimen_prep.activity.tissue_culture_preparation.TissueCulturePreparation'>, <class 'fairgraph.openminds.specimen_prep.activity.tissue_sample_slicing.TissueSampleSlicing'>, <class 'fairgraph.openminds.stimulation.activity.stimulation_activity.StimulationActivity'>], {'performed_by': 'https://kg.ebrains.eu/api/instances/054226e1-16a1-4c72-943d-d36226b309fb'}), comments=KGQuery([<class 'fairgraph.openminds.core.miscellaneous.comment.Comment'>], {'commenter': 'https://kg.ebrains.eu/api/instances/054226e1-16a1-4c72-943d-d36226b309fb'}), coordinated_projects=KGQuery([<class 'fairgraph.openminds.core.products.project.Project'>], {'coordinators': 'https://kg.ebrains.eu/api/instances/054226e1-16a1-4c72-943d-d36226b309fb'}), developed=KGQuery([<class 'fairgraph.openminds.computation.validation_test.ValidationTest'>, <class 'fairgraph.openminds.computation.validation_test_version.ValidationTestVersion'>, <class 'fairgraph.openminds.computation.workflow_recipe.WorkflowRecipe'>, <class 'fairgraph.openminds.computation.workflow_recipe_version.WorkflowRecipeVersion'>, <class 'fairgraph.openminds.core.products.meta_data_model.MetaDataModel'>, <class 'fairgraph.openminds.core.products.meta_data_model_version.MetaDataModelVersion'>, <class 'fairgraph.openminds.core.products.model.Model'>, <class 'fairgraph.openminds.core.products.model_version.ModelVersion'>, <class 'fairgraph.openminds.core.products.software.Software'>, <class 'fairgraph.openminds.core.products.software_version.SoftwareVersion'>, <class 'fairgraph.openminds.core.products.web_service.WebService'>, <class 'fairgraph.openminds.core.products.web_service_version.WebServiceVersion'>], {'developers': 'https://kg.ebrains.eu/api/instances/054226e1-16a1-4c72-943d-d36226b309fb'}), funded=KGQuery([<class 'fairgraph.openminds.core.miscellaneous.funding.Funding'>], {'funder': 'https://kg.ebrains.eu/api/instances/054226e1-16a1-4c72-943d-d36226b309fb'}), is_custodian_of=KGQuery([<class 'fairgraph.openminds.core.products.dataset.Dataset'>, <class 'fairgraph.openminds.core.products.dataset_version.DatasetVersion'>, <class 'fairgraph.openminds.publications.live_paper.LivePaper'>, <class 'fairgraph.openminds.publications.live_paper_version.LivePaperVersion'>, <class 'fairgraph.openminds.sands.atlas.brain_atlas.BrainAtlas'>, <class 'fairgraph.openminds.sands.atlas.brain_atlas_version.BrainAtlasVersion'>, <class 'fairgraph.openminds.sands.atlas.common_coordinate_space.CommonCoordinateSpace'>, <class 'fairgraph.openminds.sands.atlas.common_coordinate_space_version.CommonCoordinateSpaceVersion'>], {'custodians': 'https://kg.ebrains.eu/api/instances/054226e1-16a1-4c72-943d-d36226b309fb'}), is_owner_of=KGQuery([<class 'fairgraph.openminds.ephys.device.electrode.Electrode'>, <class 'fairgraph.openminds.ephys.device.electrode_array.ElectrodeArray'>, <class 'fairgraph.openminds.ephys.device.pipette.Pipette'>, <class 'fairgraph.openminds.specimen_prep.device.slicing_device.SlicingDevice'>], {'owners': 'https://kg.ebrains.eu/api/instances/054226e1-16a1-4c72-943d-d36226b309fb'}), is_provider_of=KGQuery([<class 'fairgraph.openminds.chemicals.product_source.ProductSource'>], {'provider': 'https://kg.ebrains.eu/api/instances/054226e1-16a1-4c72-943d-d36226b309fb'}), manufactured=KGQuery([<class 'fairgraph.openminds.core.products.setup.Setup'>], {'manufacturers': 'https://kg.ebrains.eu/api/instances/054226e1-16a1-4c72-943d-d36226b309fb'}), published=KGQuery([<class 'fairgraph.openminds.publications.book.Book'>, <class 'fairgraph.openminds.publications.chapter.Chapter'>, <class 'fairgraph.openminds.publications.learning_resource.LearningResource'>, <class 'fairgraph.openminds.publications.scholarly_article.ScholarlyArticle'>], {'publisher': 'https://kg.ebrains.eu/api/instances/054226e1-16a1-4c72-943d-d36226b309fb'}), started=KGQuery([<class 'fairgraph.openminds.computation.data_analysis.DataAnalysis'>, <class 'fairgraph.openminds.computation.data_copy.DataCopy'>, <class 'fairgraph.openminds.computation.generic_computation.GenericComputation'>, <class 'fairgraph.openminds.computation.model_validation.ModelValidation'>, <class 'fairgraph.openminds.computation.optimization.Optimization'>, <class 'fairgraph.openminds.computation.simulation.Simulation'>, <class 'fairgraph.openminds.computation.visualization.Visualization'>, <class 'fairgraph.openminds.computation.workflow_execution.WorkflowExecution'>], {'started_by': 'https://kg.ebrains.eu/api/instances/054226e1-16a1-4c72-943d-d36226b309fb'}), space=common, id=https://kg.ebrains.eu/api/instances/054226e1-16a1-4c72-943d-d36226b309fb),\n",
       " Person(family_name='Ruther', given_name='Patrick', activities=KGQuery([<class 'fairgraph.openminds.core.research.protocol_execution.ProtocolExecution'>, <class 'fairgraph.openminds.ephys.activity.cell_patching.CellPatching'>, <class 'fairgraph.openminds.ephys.activity.electrode_placement.ElectrodePlacement'>, <class 'fairgraph.openminds.ephys.activity.recording_activity.RecordingActivity'>, <class 'fairgraph.openminds.specimen_prep.activity.cranial_window_preparation.CranialWindowPreparation'>, <class 'fairgraph.openminds.specimen_prep.activity.tissue_culture_preparation.TissueCulturePreparation'>, <class 'fairgraph.openminds.specimen_prep.activity.tissue_sample_slicing.TissueSampleSlicing'>, <class 'fairgraph.openminds.stimulation.activity.stimulation_activity.StimulationActivity'>], {'performed_by': 'https://kg.ebrains.eu/api/instances/054b909d-d9fd-4a34-a2d7-64174e4ed1f5'}), comments=KGQuery([<class 'fairgraph.openminds.core.miscellaneous.comment.Comment'>], {'commenter': 'https://kg.ebrains.eu/api/instances/054b909d-d9fd-4a34-a2d7-64174e4ed1f5'}), coordinated_projects=KGQuery([<class 'fairgraph.openminds.core.products.project.Project'>], {'coordinators': 'https://kg.ebrains.eu/api/instances/054b909d-d9fd-4a34-a2d7-64174e4ed1f5'}), developed=KGQuery([<class 'fairgraph.openminds.computation.validation_test.ValidationTest'>, <class 'fairgraph.openminds.computation.validation_test_version.ValidationTestVersion'>, <class 'fairgraph.openminds.computation.workflow_recipe.WorkflowRecipe'>, <class 'fairgraph.openminds.computation.workflow_recipe_version.WorkflowRecipeVersion'>, <class 'fairgraph.openminds.core.products.meta_data_model.MetaDataModel'>, <class 'fairgraph.openminds.core.products.meta_data_model_version.MetaDataModelVersion'>, <class 'fairgraph.openminds.core.products.model.Model'>, <class 'fairgraph.openminds.core.products.model_version.ModelVersion'>, <class 'fairgraph.openminds.core.products.software.Software'>, <class 'fairgraph.openminds.core.products.software_version.SoftwareVersion'>, <class 'fairgraph.openminds.core.products.web_service.WebService'>, <class 'fairgraph.openminds.core.products.web_service_version.WebServiceVersion'>], {'developers': 'https://kg.ebrains.eu/api/instances/054b909d-d9fd-4a34-a2d7-64174e4ed1f5'}), funded=KGQuery([<class 'fairgraph.openminds.core.miscellaneous.funding.Funding'>], {'funder': 'https://kg.ebrains.eu/api/instances/054b909d-d9fd-4a34-a2d7-64174e4ed1f5'}), is_custodian_of=KGQuery([<class 'fairgraph.openminds.core.products.dataset.Dataset'>, <class 'fairgraph.openminds.core.products.dataset_version.DatasetVersion'>, <class 'fairgraph.openminds.publications.live_paper.LivePaper'>, <class 'fairgraph.openminds.publications.live_paper_version.LivePaperVersion'>, <class 'fairgraph.openminds.sands.atlas.brain_atlas.BrainAtlas'>, <class 'fairgraph.openminds.sands.atlas.brain_atlas_version.BrainAtlasVersion'>, <class 'fairgraph.openminds.sands.atlas.common_coordinate_space.CommonCoordinateSpace'>, <class 'fairgraph.openminds.sands.atlas.common_coordinate_space_version.CommonCoordinateSpaceVersion'>], {'custodians': 'https://kg.ebrains.eu/api/instances/054b909d-d9fd-4a34-a2d7-64174e4ed1f5'}), is_owner_of=KGQuery([<class 'fairgraph.openminds.ephys.device.electrode.Electrode'>, <class 'fairgraph.openminds.ephys.device.electrode_array.ElectrodeArray'>, <class 'fairgraph.openminds.ephys.device.pipette.Pipette'>, <class 'fairgraph.openminds.specimen_prep.device.slicing_device.SlicingDevice'>], {'owners': 'https://kg.ebrains.eu/api/instances/054b909d-d9fd-4a34-a2d7-64174e4ed1f5'}), is_provider_of=KGQuery([<class 'fairgraph.openminds.chemicals.product_source.ProductSource'>], {'provider': 'https://kg.ebrains.eu/api/instances/054b909d-d9fd-4a34-a2d7-64174e4ed1f5'}), manufactured=KGQuery([<class 'fairgraph.openminds.core.products.setup.Setup'>], {'manufacturers': 'https://kg.ebrains.eu/api/instances/054b909d-d9fd-4a34-a2d7-64174e4ed1f5'}), published=KGQuery([<class 'fairgraph.openminds.publications.book.Book'>, <class 'fairgraph.openminds.publications.chapter.Chapter'>, <class 'fairgraph.openminds.publications.learning_resource.LearningResource'>, <class 'fairgraph.openminds.publications.scholarly_article.ScholarlyArticle'>], {'publisher': 'https://kg.ebrains.eu/api/instances/054b909d-d9fd-4a34-a2d7-64174e4ed1f5'}), started=KGQuery([<class 'fairgraph.openminds.computation.data_analysis.DataAnalysis'>, <class 'fairgraph.openminds.computation.data_copy.DataCopy'>, <class 'fairgraph.openminds.computation.generic_computation.GenericComputation'>, <class 'fairgraph.openminds.computation.model_validation.ModelValidation'>, <class 'fairgraph.openminds.computation.optimization.Optimization'>, <class 'fairgraph.openminds.computation.simulation.Simulation'>, <class 'fairgraph.openminds.computation.visualization.Visualization'>, <class 'fairgraph.openminds.computation.workflow_execution.WorkflowExecution'>], {'started_by': 'https://kg.ebrains.eu/api/instances/054b909d-d9fd-4a34-a2d7-64174e4ed1f5'}), space=common, id=https://kg.ebrains.eu/api/instances/054b909d-d9fd-4a34-a2d7-64174e4ed1f5),\n",
       " Person(family_name='Modi', given_name='Brijesh', activities=KGQuery([<class 'fairgraph.openminds.core.research.protocol_execution.ProtocolExecution'>, <class 'fairgraph.openminds.ephys.activity.cell_patching.CellPatching'>, <class 'fairgraph.openminds.ephys.activity.electrode_placement.ElectrodePlacement'>, <class 'fairgraph.openminds.ephys.activity.recording_activity.RecordingActivity'>, <class 'fairgraph.openminds.specimen_prep.activity.cranial_window_preparation.CranialWindowPreparation'>, <class 'fairgraph.openminds.specimen_prep.activity.tissue_culture_preparation.TissueCulturePreparation'>, <class 'fairgraph.openminds.specimen_prep.activity.tissue_sample_slicing.TissueSampleSlicing'>, <class 'fairgraph.openminds.stimulation.activity.stimulation_activity.StimulationActivity'>], {'performed_by': 'https://kg.ebrains.eu/api/instances/05588811-076e-4007-ab36-f07f4bd81bfa'}), comments=KGQuery([<class 'fairgraph.openminds.core.miscellaneous.comment.Comment'>], {'commenter': 'https://kg.ebrains.eu/api/instances/05588811-076e-4007-ab36-f07f4bd81bfa'}), coordinated_projects=KGQuery([<class 'fairgraph.openminds.core.products.project.Project'>], {'coordinators': 'https://kg.ebrains.eu/api/instances/05588811-076e-4007-ab36-f07f4bd81bfa'}), developed=KGQuery([<class 'fairgraph.openminds.computation.validation_test.ValidationTest'>, <class 'fairgraph.openminds.computation.validation_test_version.ValidationTestVersion'>, <class 'fairgraph.openminds.computation.workflow_recipe.WorkflowRecipe'>, <class 'fairgraph.openminds.computation.workflow_recipe_version.WorkflowRecipeVersion'>, <class 'fairgraph.openminds.core.products.meta_data_model.MetaDataModel'>, <class 'fairgraph.openminds.core.products.meta_data_model_version.MetaDataModelVersion'>, <class 'fairgraph.openminds.core.products.model.Model'>, <class 'fairgraph.openminds.core.products.model_version.ModelVersion'>, <class 'fairgraph.openminds.core.products.software.Software'>, <class 'fairgraph.openminds.core.products.software_version.SoftwareVersion'>, <class 'fairgraph.openminds.core.products.web_service.WebService'>, <class 'fairgraph.openminds.core.products.web_service_version.WebServiceVersion'>], {'developers': 'https://kg.ebrains.eu/api/instances/05588811-076e-4007-ab36-f07f4bd81bfa'}), funded=KGQuery([<class 'fairgraph.openminds.core.miscellaneous.funding.Funding'>], {'funder': 'https://kg.ebrains.eu/api/instances/05588811-076e-4007-ab36-f07f4bd81bfa'}), is_custodian_of=KGQuery([<class 'fairgraph.openminds.core.products.dataset.Dataset'>, <class 'fairgraph.openminds.core.products.dataset_version.DatasetVersion'>, <class 'fairgraph.openminds.publications.live_paper.LivePaper'>, <class 'fairgraph.openminds.publications.live_paper_version.LivePaperVersion'>, <class 'fairgraph.openminds.sands.atlas.brain_atlas.BrainAtlas'>, <class 'fairgraph.openminds.sands.atlas.brain_atlas_version.BrainAtlasVersion'>, <class 'fairgraph.openminds.sands.atlas.common_coordinate_space.CommonCoordinateSpace'>, <class 'fairgraph.openminds.sands.atlas.common_coordinate_space_version.CommonCoordinateSpaceVersion'>], {'custodians': 'https://kg.ebrains.eu/api/instances/05588811-076e-4007-ab36-f07f4bd81bfa'}), is_owner_of=KGQuery([<class 'fairgraph.openminds.ephys.device.electrode.Electrode'>, <class 'fairgraph.openminds.ephys.device.electrode_array.ElectrodeArray'>, <class 'fairgraph.openminds.ephys.device.pipette.Pipette'>, <class 'fairgraph.openminds.specimen_prep.device.slicing_device.SlicingDevice'>], {'owners': 'https://kg.ebrains.eu/api/instances/05588811-076e-4007-ab36-f07f4bd81bfa'}), is_provider_of=KGQuery([<class 'fairgraph.openminds.chemicals.product_source.ProductSource'>], {'provider': 'https://kg.ebrains.eu/api/instances/05588811-076e-4007-ab36-f07f4bd81bfa'}), manufactured=KGQuery([<class 'fairgraph.openminds.core.products.setup.Setup'>], {'manufacturers': 'https://kg.ebrains.eu/api/instances/05588811-076e-4007-ab36-f07f4bd81bfa'}), published=KGQuery([<class 'fairgraph.openminds.publications.book.Book'>, <class 'fairgraph.openminds.publications.chapter.Chapter'>, <class 'fairgraph.openminds.publications.learning_resource.LearningResource'>, <class 'fairgraph.openminds.publications.scholarly_article.ScholarlyArticle'>], {'publisher': 'https://kg.ebrains.eu/api/instances/05588811-076e-4007-ab36-f07f4bd81bfa'}), started=KGQuery([<class 'fairgraph.openminds.computation.data_analysis.DataAnalysis'>, <class 'fairgraph.openminds.computation.data_copy.DataCopy'>, <class 'fairgraph.openminds.computation.generic_computation.GenericComputation'>, <class 'fairgraph.openminds.computation.model_validation.ModelValidation'>, <class 'fairgraph.openminds.computation.optimization.Optimization'>, <class 'fairgraph.openminds.computation.simulation.Simulation'>, <class 'fairgraph.openminds.computation.visualization.Visualization'>, <class 'fairgraph.openminds.computation.workflow_execution.WorkflowExecution'>], {'started_by': 'https://kg.ebrains.eu/api/instances/05588811-076e-4007-ab36-f07f4bd81bfa'}), space=common, id=https://kg.ebrains.eu/api/instances/05588811-076e-4007-ab36-f07f4bd81bfa),\n",
       " Person(affiliations=[Affiliation(member_of=KGProxy((<class 'fairgraph.openminds.core.actors.consortium.Consortium'>, <class 'fairgraph.openminds.core.actors.organization.Organization'>), 'https://kg.ebrains.eu/api/instances/52191ef1-27dc-43f1-a298-dc225adf19b7')), Affiliation(member_of=KGProxy((<class 'fairgraph.openminds.core.actors.consortium.Consortium'>, <class 'fairgraph.openminds.core.actors.organization.Organization'>), 'https://kg.ebrains.eu/api/instances/f9a509a4-6553-431e-a1a3-f21e3e6bcc81'))], family_name='Farisco', given_name='Michele', activities=KGQuery([<class 'fairgraph.openminds.core.research.protocol_execution.ProtocolExecution'>, <class 'fairgraph.openminds.ephys.activity.cell_patching.CellPatching'>, <class 'fairgraph.openminds.ephys.activity.electrode_placement.ElectrodePlacement'>, <class 'fairgraph.openminds.ephys.activity.recording_activity.RecordingActivity'>, <class 'fairgraph.openminds.specimen_prep.activity.cranial_window_preparation.CranialWindowPreparation'>, <class 'fairgraph.openminds.specimen_prep.activity.tissue_culture_preparation.TissueCulturePreparation'>, <class 'fairgraph.openminds.specimen_prep.activity.tissue_sample_slicing.TissueSampleSlicing'>, <class 'fairgraph.openminds.stimulation.activity.stimulation_activity.StimulationActivity'>], {'performed_by': 'https://kg.ebrains.eu/api/instances/056805e0-a38d-475a-acea-1a1f5b09be21'}), comments=KGQuery([<class 'fairgraph.openminds.core.miscellaneous.comment.Comment'>], {'commenter': 'https://kg.ebrains.eu/api/instances/056805e0-a38d-475a-acea-1a1f5b09be21'}), coordinated_projects=KGQuery([<class 'fairgraph.openminds.core.products.project.Project'>], {'coordinators': 'https://kg.ebrains.eu/api/instances/056805e0-a38d-475a-acea-1a1f5b09be21'}), developed=KGQuery([<class 'fairgraph.openminds.computation.validation_test.ValidationTest'>, <class 'fairgraph.openminds.computation.validation_test_version.ValidationTestVersion'>, <class 'fairgraph.openminds.computation.workflow_recipe.WorkflowRecipe'>, <class 'fairgraph.openminds.computation.workflow_recipe_version.WorkflowRecipeVersion'>, <class 'fairgraph.openminds.core.products.meta_data_model.MetaDataModel'>, <class 'fairgraph.openminds.core.products.meta_data_model_version.MetaDataModelVersion'>, <class 'fairgraph.openminds.core.products.model.Model'>, <class 'fairgraph.openminds.core.products.model_version.ModelVersion'>, <class 'fairgraph.openminds.core.products.software.Software'>, <class 'fairgraph.openminds.core.products.software_version.SoftwareVersion'>, <class 'fairgraph.openminds.core.products.web_service.WebService'>, <class 'fairgraph.openminds.core.products.web_service_version.WebServiceVersion'>], {'developers': 'https://kg.ebrains.eu/api/instances/056805e0-a38d-475a-acea-1a1f5b09be21'}), funded=KGQuery([<class 'fairgraph.openminds.core.miscellaneous.funding.Funding'>], {'funder': 'https://kg.ebrains.eu/api/instances/056805e0-a38d-475a-acea-1a1f5b09be21'}), is_custodian_of=KGQuery([<class 'fairgraph.openminds.core.products.dataset.Dataset'>, <class 'fairgraph.openminds.core.products.dataset_version.DatasetVersion'>, <class 'fairgraph.openminds.publications.live_paper.LivePaper'>, <class 'fairgraph.openminds.publications.live_paper_version.LivePaperVersion'>, <class 'fairgraph.openminds.sands.atlas.brain_atlas.BrainAtlas'>, <class 'fairgraph.openminds.sands.atlas.brain_atlas_version.BrainAtlasVersion'>, <class 'fairgraph.openminds.sands.atlas.common_coordinate_space.CommonCoordinateSpace'>, <class 'fairgraph.openminds.sands.atlas.common_coordinate_space_version.CommonCoordinateSpaceVersion'>], {'custodians': 'https://kg.ebrains.eu/api/instances/056805e0-a38d-475a-acea-1a1f5b09be21'}), is_owner_of=KGQuery([<class 'fairgraph.openminds.ephys.device.electrode.Electrode'>, <class 'fairgraph.openminds.ephys.device.electrode_array.ElectrodeArray'>, <class 'fairgraph.openminds.ephys.device.pipette.Pipette'>, <class 'fairgraph.openminds.specimen_prep.device.slicing_device.SlicingDevice'>], {'owners': 'https://kg.ebrains.eu/api/instances/056805e0-a38d-475a-acea-1a1f5b09be21'}), is_provider_of=KGQuery([<class 'fairgraph.openminds.chemicals.product_source.ProductSource'>], {'provider': 'https://kg.ebrains.eu/api/instances/056805e0-a38d-475a-acea-1a1f5b09be21'}), manufactured=KGQuery([<class 'fairgraph.openminds.core.products.setup.Setup'>], {'manufacturers': 'https://kg.ebrains.eu/api/instances/056805e0-a38d-475a-acea-1a1f5b09be21'}), published=KGQuery([<class 'fairgraph.openminds.publications.book.Book'>, <class 'fairgraph.openminds.publications.chapter.Chapter'>, <class 'fairgraph.openminds.publications.learning_resource.LearningResource'>, <class 'fairgraph.openminds.publications.scholarly_article.ScholarlyArticle'>], {'publisher': 'https://kg.ebrains.eu/api/instances/056805e0-a38d-475a-acea-1a1f5b09be21'}), started=KGQuery([<class 'fairgraph.openminds.computation.data_analysis.DataAnalysis'>, <class 'fairgraph.openminds.computation.data_copy.DataCopy'>, <class 'fairgraph.openminds.computation.generic_computation.GenericComputation'>, <class 'fairgraph.openminds.computation.model_validation.ModelValidation'>, <class 'fairgraph.openminds.computation.optimization.Optimization'>, <class 'fairgraph.openminds.computation.simulation.Simulation'>, <class 'fairgraph.openminds.computation.visualization.Visualization'>, <class 'fairgraph.openminds.computation.workflow_execution.WorkflowExecution'>], {'started_by': 'https://kg.ebrains.eu/api/instances/056805e0-a38d-475a-acea-1a1f5b09be21'}), space=common, id=https://kg.ebrains.eu/api/instances/056805e0-a38d-475a-acea-1a1f5b09be21),\n",
       " Person(affiliations=Affiliation(member_of=KGProxy((<class 'fairgraph.openminds.core.actors.consortium.Consortium'>, <class 'fairgraph.openminds.core.actors.organization.Organization'>), 'https://kg.ebrains.eu/api/instances/c6e81828-071a-41de-980a-0f0d69e2dea4')), digital_identifiers=KGProxy([<class 'fairgraph.openminds.core.digital_identifier.orcid.ORCID'>], 'https://kg.ebrains.eu/api/instances/19af9562-dfd4-42e2-8ea3-47fa132abf10'), family_name='Frost Nylén', given_name='Johanna', activities=KGQuery([<class 'fairgraph.openminds.core.research.protocol_execution.ProtocolExecution'>, <class 'fairgraph.openminds.ephys.activity.cell_patching.CellPatching'>, <class 'fairgraph.openminds.ephys.activity.electrode_placement.ElectrodePlacement'>, <class 'fairgraph.openminds.ephys.activity.recording_activity.RecordingActivity'>, <class 'fairgraph.openminds.specimen_prep.activity.cranial_window_preparation.CranialWindowPreparation'>, <class 'fairgraph.openminds.specimen_prep.activity.tissue_culture_preparation.TissueCulturePreparation'>, <class 'fairgraph.openminds.specimen_prep.activity.tissue_sample_slicing.TissueSampleSlicing'>, <class 'fairgraph.openminds.stimulation.activity.stimulation_activity.StimulationActivity'>], {'performed_by': 'https://kg.ebrains.eu/api/instances/057b9a73-e316-4d61-abf8-2f5a36c4def3'}), comments=KGQuery([<class 'fairgraph.openminds.core.miscellaneous.comment.Comment'>], {'commenter': 'https://kg.ebrains.eu/api/instances/057b9a73-e316-4d61-abf8-2f5a36c4def3'}), coordinated_projects=KGQuery([<class 'fairgraph.openminds.core.products.project.Project'>], {'coordinators': 'https://kg.ebrains.eu/api/instances/057b9a73-e316-4d61-abf8-2f5a36c4def3'}), developed=KGQuery([<class 'fairgraph.openminds.computation.validation_test.ValidationTest'>, <class 'fairgraph.openminds.computation.validation_test_version.ValidationTestVersion'>, <class 'fairgraph.openminds.computation.workflow_recipe.WorkflowRecipe'>, <class 'fairgraph.openminds.computation.workflow_recipe_version.WorkflowRecipeVersion'>, <class 'fairgraph.openminds.core.products.meta_data_model.MetaDataModel'>, <class 'fairgraph.openminds.core.products.meta_data_model_version.MetaDataModelVersion'>, <class 'fairgraph.openminds.core.products.model.Model'>, <class 'fairgraph.openminds.core.products.model_version.ModelVersion'>, <class 'fairgraph.openminds.core.products.software.Software'>, <class 'fairgraph.openminds.core.products.software_version.SoftwareVersion'>, <class 'fairgraph.openminds.core.products.web_service.WebService'>, <class 'fairgraph.openminds.core.products.web_service_version.WebServiceVersion'>], {'developers': 'https://kg.ebrains.eu/api/instances/057b9a73-e316-4d61-abf8-2f5a36c4def3'}), funded=KGQuery([<class 'fairgraph.openminds.core.miscellaneous.funding.Funding'>], {'funder': 'https://kg.ebrains.eu/api/instances/057b9a73-e316-4d61-abf8-2f5a36c4def3'}), is_custodian_of=KGQuery([<class 'fairgraph.openminds.core.products.dataset.Dataset'>, <class 'fairgraph.openminds.core.products.dataset_version.DatasetVersion'>, <class 'fairgraph.openminds.publications.live_paper.LivePaper'>, <class 'fairgraph.openminds.publications.live_paper_version.LivePaperVersion'>, <class 'fairgraph.openminds.sands.atlas.brain_atlas.BrainAtlas'>, <class 'fairgraph.openminds.sands.atlas.brain_atlas_version.BrainAtlasVersion'>, <class 'fairgraph.openminds.sands.atlas.common_coordinate_space.CommonCoordinateSpace'>, <class 'fairgraph.openminds.sands.atlas.common_coordinate_space_version.CommonCoordinateSpaceVersion'>], {'custodians': 'https://kg.ebrains.eu/api/instances/057b9a73-e316-4d61-abf8-2f5a36c4def3'}), is_owner_of=KGQuery([<class 'fairgraph.openminds.ephys.device.electrode.Electrode'>, <class 'fairgraph.openminds.ephys.device.electrode_array.ElectrodeArray'>, <class 'fairgraph.openminds.ephys.device.pipette.Pipette'>, <class 'fairgraph.openminds.specimen_prep.device.slicing_device.SlicingDevice'>], {'owners': 'https://kg.ebrains.eu/api/instances/057b9a73-e316-4d61-abf8-2f5a36c4def3'}), is_provider_of=KGQuery([<class 'fairgraph.openminds.chemicals.product_source.ProductSource'>], {'provider': 'https://kg.ebrains.eu/api/instances/057b9a73-e316-4d61-abf8-2f5a36c4def3'}), manufactured=KGQuery([<class 'fairgraph.openminds.core.products.setup.Setup'>], {'manufacturers': 'https://kg.ebrains.eu/api/instances/057b9a73-e316-4d61-abf8-2f5a36c4def3'}), published=KGQuery([<class 'fairgraph.openminds.publications.book.Book'>, <class 'fairgraph.openminds.publications.chapter.Chapter'>, <class 'fairgraph.openminds.publications.learning_resource.LearningResource'>, <class 'fairgraph.openminds.publications.scholarly_article.ScholarlyArticle'>], {'publisher': 'https://kg.ebrains.eu/api/instances/057b9a73-e316-4d61-abf8-2f5a36c4def3'}), started=KGQuery([<class 'fairgraph.openminds.computation.data_analysis.DataAnalysis'>, <class 'fairgraph.openminds.computation.data_copy.DataCopy'>, <class 'fairgraph.openminds.computation.generic_computation.GenericComputation'>, <class 'fairgraph.openminds.computation.model_validation.ModelValidation'>, <class 'fairgraph.openminds.computation.optimization.Optimization'>, <class 'fairgraph.openminds.computation.simulation.Simulation'>, <class 'fairgraph.openminds.computation.visualization.Visualization'>, <class 'fairgraph.openminds.computation.workflow_execution.WorkflowExecution'>], {'started_by': 'https://kg.ebrains.eu/api/instances/057b9a73-e316-4d61-abf8-2f5a36c4def3'}), space=common, id=https://kg.ebrains.eu/api/instances/057b9a73-e316-4d61-abf8-2f5a36c4def3),\n",
       " Person(affiliations=[Affiliation(member_of=KGProxy((<class 'fairgraph.openminds.core.actors.consortium.Consortium'>, <class 'fairgraph.openminds.core.actors.organization.Organization'>), 'https://kg.ebrains.eu/api/instances/44809879-aab6-4b73-a509-6a02e20f36ee')), Affiliation(member_of=KGProxy((<class 'fairgraph.openminds.core.actors.consortium.Consortium'>, <class 'fairgraph.openminds.core.actors.organization.Organization'>), 'https://kg.ebrains.eu/api/instances/1f970229-8f37-4f00-bca9-62b7fb4c752e')), Affiliation(member_of=KGProxy((<class 'fairgraph.openminds.core.actors.consortium.Consortium'>, <class 'fairgraph.openminds.core.actors.organization.Organization'>), 'https://kg.ebrains.eu/api/instances/c947f46b-29ff-48b7-a8ce-ac25a2eb5330'))], contact_information=KGProxy([<class 'fairgraph.openminds.core.actors.contact_information.ContactInformation'>], 'https://kg.ebrains.eu/api/instances/fac97d46-4863-46cd-84a5-e46a48c00734'), family_name='Haas', given_name='Carola', activities=KGQuery([<class 'fairgraph.openminds.core.research.protocol_execution.ProtocolExecution'>, <class 'fairgraph.openminds.ephys.activity.cell_patching.CellPatching'>, <class 'fairgraph.openminds.ephys.activity.electrode_placement.ElectrodePlacement'>, <class 'fairgraph.openminds.ephys.activity.recording_activity.RecordingActivity'>, <class 'fairgraph.openminds.specimen_prep.activity.cranial_window_preparation.CranialWindowPreparation'>, <class 'fairgraph.openminds.specimen_prep.activity.tissue_culture_preparation.TissueCulturePreparation'>, <class 'fairgraph.openminds.specimen_prep.activity.tissue_sample_slicing.TissueSampleSlicing'>, <class 'fairgraph.openminds.stimulation.activity.stimulation_activity.StimulationActivity'>], {'performed_by': 'https://kg.ebrains.eu/api/instances/058b1bee-45ff-41e4-bff5-076f41ed10fa'}), comments=KGQuery([<class 'fairgraph.openminds.core.miscellaneous.comment.Comment'>], {'commenter': 'https://kg.ebrains.eu/api/instances/058b1bee-45ff-41e4-bff5-076f41ed10fa'}), coordinated_projects=KGQuery([<class 'fairgraph.openminds.core.products.project.Project'>], {'coordinators': 'https://kg.ebrains.eu/api/instances/058b1bee-45ff-41e4-bff5-076f41ed10fa'}), developed=KGQuery([<class 'fairgraph.openminds.computation.validation_test.ValidationTest'>, <class 'fairgraph.openminds.computation.validation_test_version.ValidationTestVersion'>, <class 'fairgraph.openminds.computation.workflow_recipe.WorkflowRecipe'>, <class 'fairgraph.openminds.computation.workflow_recipe_version.WorkflowRecipeVersion'>, <class 'fairgraph.openminds.core.products.meta_data_model.MetaDataModel'>, <class 'fairgraph.openminds.core.products.meta_data_model_version.MetaDataModelVersion'>, <class 'fairgraph.openminds.core.products.model.Model'>, <class 'fairgraph.openminds.core.products.model_version.ModelVersion'>, <class 'fairgraph.openminds.core.products.software.Software'>, <class 'fairgraph.openminds.core.products.software_version.SoftwareVersion'>, <class 'fairgraph.openminds.core.products.web_service.WebService'>, <class 'fairgraph.openminds.core.products.web_service_version.WebServiceVersion'>], {'developers': 'https://kg.ebrains.eu/api/instances/058b1bee-45ff-41e4-bff5-076f41ed10fa'}), funded=KGQuery([<class 'fairgraph.openminds.core.miscellaneous.funding.Funding'>], {'funder': 'https://kg.ebrains.eu/api/instances/058b1bee-45ff-41e4-bff5-076f41ed10fa'}), is_custodian_of=KGQuery([<class 'fairgraph.openminds.core.products.dataset.Dataset'>, <class 'fairgraph.openminds.core.products.dataset_version.DatasetVersion'>, <class 'fairgraph.openminds.publications.live_paper.LivePaper'>, <class 'fairgraph.openminds.publications.live_paper_version.LivePaperVersion'>, <class 'fairgraph.openminds.sands.atlas.brain_atlas.BrainAtlas'>, <class 'fairgraph.openminds.sands.atlas.brain_atlas_version.BrainAtlasVersion'>, <class 'fairgraph.openminds.sands.atlas.common_coordinate_space.CommonCoordinateSpace'>, <class 'fairgraph.openminds.sands.atlas.common_coordinate_space_version.CommonCoordinateSpaceVersion'>], {'custodians': 'https://kg.ebrains.eu/api/instances/058b1bee-45ff-41e4-bff5-076f41ed10fa'}), is_owner_of=KGQuery([<class 'fairgraph.openminds.ephys.device.electrode.Electrode'>, <class 'fairgraph.openminds.ephys.device.electrode_array.ElectrodeArray'>, <class 'fairgraph.openminds.ephys.device.pipette.Pipette'>, <class 'fairgraph.openminds.specimen_prep.device.slicing_device.SlicingDevice'>], {'owners': 'https://kg.ebrains.eu/api/instances/058b1bee-45ff-41e4-bff5-076f41ed10fa'}), is_provider_of=KGQuery([<class 'fairgraph.openminds.chemicals.product_source.ProductSource'>], {'provider': 'https://kg.ebrains.eu/api/instances/058b1bee-45ff-41e4-bff5-076f41ed10fa'}), manufactured=KGQuery([<class 'fairgraph.openminds.core.products.setup.Setup'>], {'manufacturers': 'https://kg.ebrains.eu/api/instances/058b1bee-45ff-41e4-bff5-076f41ed10fa'}), published=KGQuery([<class 'fairgraph.openminds.publications.book.Book'>, <class 'fairgraph.openminds.publications.chapter.Chapter'>, <class 'fairgraph.openminds.publications.learning_resource.LearningResource'>, <class 'fairgraph.openminds.publications.scholarly_article.ScholarlyArticle'>], {'publisher': 'https://kg.ebrains.eu/api/instances/058b1bee-45ff-41e4-bff5-076f41ed10fa'}), started=KGQuery([<class 'fairgraph.openminds.computation.data_analysis.DataAnalysis'>, <class 'fairgraph.openminds.computation.data_copy.DataCopy'>, <class 'fairgraph.openminds.computation.generic_computation.GenericComputation'>, <class 'fairgraph.openminds.computation.model_validation.ModelValidation'>, <class 'fairgraph.openminds.computation.optimization.Optimization'>, <class 'fairgraph.openminds.computation.simulation.Simulation'>, <class 'fairgraph.openminds.computation.visualization.Visualization'>, <class 'fairgraph.openminds.computation.workflow_execution.WorkflowExecution'>], {'started_by': 'https://kg.ebrains.eu/api/instances/058b1bee-45ff-41e4-bff5-076f41ed10fa'}), space=common, id=https://kg.ebrains.eu/api/instances/058b1bee-45ff-41e4-bff5-076f41ed10fa),\n",
       " Person(affiliations=Affiliation(member_of=KGProxy((<class 'fairgraph.openminds.core.actors.consortium.Consortium'>, <class 'fairgraph.openminds.core.actors.organization.Organization'>), 'https://kg.ebrains.eu/api/instances/72588743-02bc-4d86-9d0a-77bd3c3b7603')), contact_information=KGProxy([<class 'fairgraph.openminds.core.actors.contact_information.ContactInformation'>], 'https://kg.ebrains.eu/api/instances/1d2186cb-976d-4834-a5b2-9797df782ccc'), digital_identifiers=KGProxy([<class 'fairgraph.openminds.core.digital_identifier.orcid.ORCID'>], 'https://kg.ebrains.eu/api/instances/df15e52b-a13b-4582-90d0-ea0f7b0cdb93'), family_name='Mattia', given_name='Maurizio', activities=KGQuery([<class 'fairgraph.openminds.core.research.protocol_execution.ProtocolExecution'>, <class 'fairgraph.openminds.ephys.activity.cell_patching.CellPatching'>, <class 'fairgraph.openminds.ephys.activity.electrode_placement.ElectrodePlacement'>, <class 'fairgraph.openminds.ephys.activity.recording_activity.RecordingActivity'>, <class 'fairgraph.openminds.specimen_prep.activity.cranial_window_preparation.CranialWindowPreparation'>, <class 'fairgraph.openminds.specimen_prep.activity.tissue_culture_preparation.TissueCulturePreparation'>, <class 'fairgraph.openminds.specimen_prep.activity.tissue_sample_slicing.TissueSampleSlicing'>, <class 'fairgraph.openminds.stimulation.activity.stimulation_activity.StimulationActivity'>], {'performed_by': 'https://kg.ebrains.eu/api/instances/05a4b732-5ddc-4670-99e7-ef9b9743199c'}), comments=KGQuery([<class 'fairgraph.openminds.core.miscellaneous.comment.Comment'>], {'commenter': 'https://kg.ebrains.eu/api/instances/05a4b732-5ddc-4670-99e7-ef9b9743199c'}), coordinated_projects=KGQuery([<class 'fairgraph.openminds.core.products.project.Project'>], {'coordinators': 'https://kg.ebrains.eu/api/instances/05a4b732-5ddc-4670-99e7-ef9b9743199c'}), developed=KGQuery([<class 'fairgraph.openminds.computation.validation_test.ValidationTest'>, <class 'fairgraph.openminds.computation.validation_test_version.ValidationTestVersion'>, <class 'fairgraph.openminds.computation.workflow_recipe.WorkflowRecipe'>, <class 'fairgraph.openminds.computation.workflow_recipe_version.WorkflowRecipeVersion'>, <class 'fairgraph.openminds.core.products.meta_data_model.MetaDataModel'>, <class 'fairgraph.openminds.core.products.meta_data_model_version.MetaDataModelVersion'>, <class 'fairgraph.openminds.core.products.model.Model'>, <class 'fairgraph.openminds.core.products.model_version.ModelVersion'>, <class 'fairgraph.openminds.core.products.software.Software'>, <class 'fairgraph.openminds.core.products.software_version.SoftwareVersion'>, <class 'fairgraph.openminds.core.products.web_service.WebService'>, <class 'fairgraph.openminds.core.products.web_service_version.WebServiceVersion'>], {'developers': 'https://kg.ebrains.eu/api/instances/05a4b732-5ddc-4670-99e7-ef9b9743199c'}), funded=KGQuery([<class 'fairgraph.openminds.core.miscellaneous.funding.Funding'>], {'funder': 'https://kg.ebrains.eu/api/instances/05a4b732-5ddc-4670-99e7-ef9b9743199c'}), is_custodian_of=KGQuery([<class 'fairgraph.openminds.core.products.dataset.Dataset'>, <class 'fairgraph.openminds.core.products.dataset_version.DatasetVersion'>, <class 'fairgraph.openminds.publications.live_paper.LivePaper'>, <class 'fairgraph.openminds.publications.live_paper_version.LivePaperVersion'>, <class 'fairgraph.openminds.sands.atlas.brain_atlas.BrainAtlas'>, <class 'fairgraph.openminds.sands.atlas.brain_atlas_version.BrainAtlasVersion'>, <class 'fairgraph.openminds.sands.atlas.common_coordinate_space.CommonCoordinateSpace'>, <class 'fairgraph.openminds.sands.atlas.common_coordinate_space_version.CommonCoordinateSpaceVersion'>], {'custodians': 'https://kg.ebrains.eu/api/instances/05a4b732-5ddc-4670-99e7-ef9b9743199c'}), is_owner_of=KGQuery([<class 'fairgraph.openminds.ephys.device.electrode.Electrode'>, <class 'fairgraph.openminds.ephys.device.electrode_array.ElectrodeArray'>, <class 'fairgraph.openminds.ephys.device.pipette.Pipette'>, <class 'fairgraph.openminds.specimen_prep.device.slicing_device.SlicingDevice'>], {'owners': 'https://kg.ebrains.eu/api/instances/05a4b732-5ddc-4670-99e7-ef9b9743199c'}), is_provider_of=KGQuery([<class 'fairgraph.openminds.chemicals.product_source.ProductSource'>], {'provider': 'https://kg.ebrains.eu/api/instances/05a4b732-5ddc-4670-99e7-ef9b9743199c'}), manufactured=KGQuery([<class 'fairgraph.openminds.core.products.setup.Setup'>], {'manufacturers': 'https://kg.ebrains.eu/api/instances/05a4b732-5ddc-4670-99e7-ef9b9743199c'}), published=KGQuery([<class 'fairgraph.openminds.publications.book.Book'>, <class 'fairgraph.openminds.publications.chapter.Chapter'>, <class 'fairgraph.openminds.publications.learning_resource.LearningResource'>, <class 'fairgraph.openminds.publications.scholarly_article.ScholarlyArticle'>], {'publisher': 'https://kg.ebrains.eu/api/instances/05a4b732-5ddc-4670-99e7-ef9b9743199c'}), started=KGQuery([<class 'fairgraph.openminds.computation.data_analysis.DataAnalysis'>, <class 'fairgraph.openminds.computation.data_copy.DataCopy'>, <class 'fairgraph.openminds.computation.generic_computation.GenericComputation'>, <class 'fairgraph.openminds.computation.model_validation.ModelValidation'>, <class 'fairgraph.openminds.computation.optimization.Optimization'>, <class 'fairgraph.openminds.computation.simulation.Simulation'>, <class 'fairgraph.openminds.computation.visualization.Visualization'>, <class 'fairgraph.openminds.computation.workflow_execution.WorkflowExecution'>], {'started_by': 'https://kg.ebrains.eu/api/instances/05a4b732-5ddc-4670-99e7-ef9b9743199c'}), space=common, id=https://kg.ebrains.eu/api/instances/05a4b732-5ddc-4670-99e7-ef9b9743199c),\n",
       " Person(family_name='Rodgers', given_name='Chris', activities=KGQuery([<class 'fairgraph.openminds.core.research.protocol_execution.ProtocolExecution'>, <class 'fairgraph.openminds.ephys.activity.cell_patching.CellPatching'>, <class 'fairgraph.openminds.ephys.activity.electrode_placement.ElectrodePlacement'>, <class 'fairgraph.openminds.ephys.activity.recording_activity.RecordingActivity'>, <class 'fairgraph.openminds.specimen_prep.activity.cranial_window_preparation.CranialWindowPreparation'>, <class 'fairgraph.openminds.specimen_prep.activity.tissue_culture_preparation.TissueCulturePreparation'>, <class 'fairgraph.openminds.specimen_prep.activity.tissue_sample_slicing.TissueSampleSlicing'>, <class 'fairgraph.openminds.stimulation.activity.stimulation_activity.StimulationActivity'>], {'performed_by': 'https://kg.ebrains.eu/api/instances/05b2d3a3-877b-4198-823b-224a78669443'}), comments=KGQuery([<class 'fairgraph.openminds.core.miscellaneous.comment.Comment'>], {'commenter': 'https://kg.ebrains.eu/api/instances/05b2d3a3-877b-4198-823b-224a78669443'}), coordinated_projects=KGQuery([<class 'fairgraph.openminds.core.products.project.Project'>], {'coordinators': 'https://kg.ebrains.eu/api/instances/05b2d3a3-877b-4198-823b-224a78669443'}), developed=KGQuery([<class 'fairgraph.openminds.computation.validation_test.ValidationTest'>, <class 'fairgraph.openminds.computation.validation_test_version.ValidationTestVersion'>, <class 'fairgraph.openminds.computation.workflow_recipe.WorkflowRecipe'>, <class 'fairgraph.openminds.computation.workflow_recipe_version.WorkflowRecipeVersion'>, <class 'fairgraph.openminds.core.products.meta_data_model.MetaDataModel'>, <class 'fairgraph.openminds.core.products.meta_data_model_version.MetaDataModelVersion'>, <class 'fairgraph.openminds.core.products.model.Model'>, <class 'fairgraph.openminds.core.products.model_version.ModelVersion'>, <class 'fairgraph.openminds.core.products.software.Software'>, <class 'fairgraph.openminds.core.products.software_version.SoftwareVersion'>, <class 'fairgraph.openminds.core.products.web_service.WebService'>, <class 'fairgraph.openminds.core.products.web_service_version.WebServiceVersion'>], {'developers': 'https://kg.ebrains.eu/api/instances/05b2d3a3-877b-4198-823b-224a78669443'}), funded=KGQuery([<class 'fairgraph.openminds.core.miscellaneous.funding.Funding'>], {'funder': 'https://kg.ebrains.eu/api/instances/05b2d3a3-877b-4198-823b-224a78669443'}), is_custodian_of=KGQuery([<class 'fairgraph.openminds.core.products.dataset.Dataset'>, <class 'fairgraph.openminds.core.products.dataset_version.DatasetVersion'>, <class 'fairgraph.openminds.publications.live_paper.LivePaper'>, <class 'fairgraph.openminds.publications.live_paper_version.LivePaperVersion'>, <class 'fairgraph.openminds.sands.atlas.brain_atlas.BrainAtlas'>, <class 'fairgraph.openminds.sands.atlas.brain_atlas_version.BrainAtlasVersion'>, <class 'fairgraph.openminds.sands.atlas.common_coordinate_space.CommonCoordinateSpace'>, <class 'fairgraph.openminds.sands.atlas.common_coordinate_space_version.CommonCoordinateSpaceVersion'>], {'custodians': 'https://kg.ebrains.eu/api/instances/05b2d3a3-877b-4198-823b-224a78669443'}), is_owner_of=KGQuery([<class 'fairgraph.openminds.ephys.device.electrode.Electrode'>, <class 'fairgraph.openminds.ephys.device.electrode_array.ElectrodeArray'>, <class 'fairgraph.openminds.ephys.device.pipette.Pipette'>, <class 'fairgraph.openminds.specimen_prep.device.slicing_device.SlicingDevice'>], {'owners': 'https://kg.ebrains.eu/api/instances/05b2d3a3-877b-4198-823b-224a78669443'}), is_provider_of=KGQuery([<class 'fairgraph.openminds.chemicals.product_source.ProductSource'>], {'provider': 'https://kg.ebrains.eu/api/instances/05b2d3a3-877b-4198-823b-224a78669443'}), manufactured=KGQuery([<class 'fairgraph.openminds.core.products.setup.Setup'>], {'manufacturers': 'https://kg.ebrains.eu/api/instances/05b2d3a3-877b-4198-823b-224a78669443'}), published=KGQuery([<class 'fairgraph.openminds.publications.book.Book'>, <class 'fairgraph.openminds.publications.chapter.Chapter'>, <class 'fairgraph.openminds.publications.learning_resource.LearningResource'>, <class 'fairgraph.openminds.publications.scholarly_article.ScholarlyArticle'>], {'publisher': 'https://kg.ebrains.eu/api/instances/05b2d3a3-877b-4198-823b-224a78669443'}), started=KGQuery([<class 'fairgraph.openminds.computation.data_analysis.DataAnalysis'>, <class 'fairgraph.openminds.computation.data_copy.DataCopy'>, <class 'fairgraph.openminds.computation.generic_computation.GenericComputation'>, <class 'fairgraph.openminds.computation.model_validation.ModelValidation'>, <class 'fairgraph.openminds.computation.optimization.Optimization'>, <class 'fairgraph.openminds.computation.simulation.Simulation'>, <class 'fairgraph.openminds.computation.visualization.Visualization'>, <class 'fairgraph.openminds.computation.workflow_execution.WorkflowExecution'>], {'started_by': 'https://kg.ebrains.eu/api/instances/05b2d3a3-877b-4198-823b-224a78669443'}), space=common, id=https://kg.ebrains.eu/api/instances/05b2d3a3-877b-4198-823b-224a78669443),\n",
       " Person(family_name='Kitayama', given_name='Itaru', activities=KGQuery([<class 'fairgraph.openminds.core.research.protocol_execution.ProtocolExecution'>, <class 'fairgraph.openminds.ephys.activity.cell_patching.CellPatching'>, <class 'fairgraph.openminds.ephys.activity.electrode_placement.ElectrodePlacement'>, <class 'fairgraph.openminds.ephys.activity.recording_activity.RecordingActivity'>, <class 'fairgraph.openminds.specimen_prep.activity.cranial_window_preparation.CranialWindowPreparation'>, <class 'fairgraph.openminds.specimen_prep.activity.tissue_culture_preparation.TissueCulturePreparation'>, <class 'fairgraph.openminds.specimen_prep.activity.tissue_sample_slicing.TissueSampleSlicing'>, <class 'fairgraph.openminds.stimulation.activity.stimulation_activity.StimulationActivity'>], {'performed_by': 'https://kg.ebrains.eu/api/instances/0615cd55-d217-4576-8bef-b7c057837a4e'}), comments=KGQuery([<class 'fairgraph.openminds.core.miscellaneous.comment.Comment'>], {'commenter': 'https://kg.ebrains.eu/api/instances/0615cd55-d217-4576-8bef-b7c057837a4e'}), coordinated_projects=KGQuery([<class 'fairgraph.openminds.core.products.project.Project'>], {'coordinators': 'https://kg.ebrains.eu/api/instances/0615cd55-d217-4576-8bef-b7c057837a4e'}), developed=KGQuery([<class 'fairgraph.openminds.computation.validation_test.ValidationTest'>, <class 'fairgraph.openminds.computation.validation_test_version.ValidationTestVersion'>, <class 'fairgraph.openminds.computation.workflow_recipe.WorkflowRecipe'>, <class 'fairgraph.openminds.computation.workflow_recipe_version.WorkflowRecipeVersion'>, <class 'fairgraph.openminds.core.products.meta_data_model.MetaDataModel'>, <class 'fairgraph.openminds.core.products.meta_data_model_version.MetaDataModelVersion'>, <class 'fairgraph.openminds.core.products.model.Model'>, <class 'fairgraph.openminds.core.products.model_version.ModelVersion'>, <class 'fairgraph.openminds.core.products.software.Software'>, <class 'fairgraph.openminds.core.products.software_version.SoftwareVersion'>, <class 'fairgraph.openminds.core.products.web_service.WebService'>, <class 'fairgraph.openminds.core.products.web_service_version.WebServiceVersion'>], {'developers': 'https://kg.ebrains.eu/api/instances/0615cd55-d217-4576-8bef-b7c057837a4e'}), funded=KGQuery([<class 'fairgraph.openminds.core.miscellaneous.funding.Funding'>], {'funder': 'https://kg.ebrains.eu/api/instances/0615cd55-d217-4576-8bef-b7c057837a4e'}), is_custodian_of=KGQuery([<class 'fairgraph.openminds.core.products.dataset.Dataset'>, <class 'fairgraph.openminds.core.products.dataset_version.DatasetVersion'>, <class 'fairgraph.openminds.publications.live_paper.LivePaper'>, <class 'fairgraph.openminds.publications.live_paper_version.LivePaperVersion'>, <class 'fairgraph.openminds.sands.atlas.brain_atlas.BrainAtlas'>, <class 'fairgraph.openminds.sands.atlas.brain_atlas_version.BrainAtlasVersion'>, <class 'fairgraph.openminds.sands.atlas.common_coordinate_space.CommonCoordinateSpace'>, <class 'fairgraph.openminds.sands.atlas.common_coordinate_space_version.CommonCoordinateSpaceVersion'>], {'custodians': 'https://kg.ebrains.eu/api/instances/0615cd55-d217-4576-8bef-b7c057837a4e'}), is_owner_of=KGQuery([<class 'fairgraph.openminds.ephys.device.electrode.Electrode'>, <class 'fairgraph.openminds.ephys.device.electrode_array.ElectrodeArray'>, <class 'fairgraph.openminds.ephys.device.pipette.Pipette'>, <class 'fairgraph.openminds.specimen_prep.device.slicing_device.SlicingDevice'>], {'owners': 'https://kg.ebrains.eu/api/instances/0615cd55-d217-4576-8bef-b7c057837a4e'}), is_provider_of=KGQuery([<class 'fairgraph.openminds.chemicals.product_source.ProductSource'>], {'provider': 'https://kg.ebrains.eu/api/instances/0615cd55-d217-4576-8bef-b7c057837a4e'}), manufactured=KGQuery([<class 'fairgraph.openminds.core.products.setup.Setup'>], {'manufacturers': 'https://kg.ebrains.eu/api/instances/0615cd55-d217-4576-8bef-b7c057837a4e'}), published=KGQuery([<class 'fairgraph.openminds.publications.book.Book'>, <class 'fairgraph.openminds.publications.chapter.Chapter'>, <class 'fairgraph.openminds.publications.learning_resource.LearningResource'>, <class 'fairgraph.openminds.publications.scholarly_article.ScholarlyArticle'>], {'publisher': 'https://kg.ebrains.eu/api/instances/0615cd55-d217-4576-8bef-b7c057837a4e'}), started=KGQuery([<class 'fairgraph.openminds.computation.data_analysis.DataAnalysis'>, <class 'fairgraph.openminds.computation.data_copy.DataCopy'>, <class 'fairgraph.openminds.computation.generic_computation.GenericComputation'>, <class 'fairgraph.openminds.computation.model_validation.ModelValidation'>, <class 'fairgraph.openminds.computation.optimization.Optimization'>, <class 'fairgraph.openminds.computation.simulation.Simulation'>, <class 'fairgraph.openminds.computation.visualization.Visualization'>, <class 'fairgraph.openminds.computation.workflow_execution.WorkflowExecution'>], {'started_by': 'https://kg.ebrains.eu/api/instances/0615cd55-d217-4576-8bef-b7c057837a4e'}), space=common, id=https://kg.ebrains.eu/api/instances/0615cd55-d217-4576-8bef-b7c057837a4e),\n",
       " Person(family_name='Sobolev', given_name='Andrey', activities=KGQuery([<class 'fairgraph.openminds.core.research.protocol_execution.ProtocolExecution'>, <class 'fairgraph.openminds.ephys.activity.cell_patching.CellPatching'>, <class 'fairgraph.openminds.ephys.activity.electrode_placement.ElectrodePlacement'>, <class 'fairgraph.openminds.ephys.activity.recording_activity.RecordingActivity'>, <class 'fairgraph.openminds.specimen_prep.activity.cranial_window_preparation.CranialWindowPreparation'>, <class 'fairgraph.openminds.specimen_prep.activity.tissue_culture_preparation.TissueCulturePreparation'>, <class 'fairgraph.openminds.specimen_prep.activity.tissue_sample_slicing.TissueSampleSlicing'>, <class 'fairgraph.openminds.stimulation.activity.stimulation_activity.StimulationActivity'>], {'performed_by': 'https://kg.ebrains.eu/api/instances/062c55ea-2566-4d97-965d-01dccbccc4ee'}), comments=KGQuery([<class 'fairgraph.openminds.core.miscellaneous.comment.Comment'>], {'commenter': 'https://kg.ebrains.eu/api/instances/062c55ea-2566-4d97-965d-01dccbccc4ee'}), coordinated_projects=KGQuery([<class 'fairgraph.openminds.core.products.project.Project'>], {'coordinators': 'https://kg.ebrains.eu/api/instances/062c55ea-2566-4d97-965d-01dccbccc4ee'}), developed=KGQuery([<class 'fairgraph.openminds.computation.validation_test.ValidationTest'>, <class 'fairgraph.openminds.computation.validation_test_version.ValidationTestVersion'>, <class 'fairgraph.openminds.computation.workflow_recipe.WorkflowRecipe'>, <class 'fairgraph.openminds.computation.workflow_recipe_version.WorkflowRecipeVersion'>, <class 'fairgraph.openminds.core.products.meta_data_model.MetaDataModel'>, <class 'fairgraph.openminds.core.products.meta_data_model_version.MetaDataModelVersion'>, <class 'fairgraph.openminds.core.products.model.Model'>, <class 'fairgraph.openminds.core.products.model_version.ModelVersion'>, <class 'fairgraph.openminds.core.products.software.Software'>, <class 'fairgraph.openminds.core.products.software_version.SoftwareVersion'>, <class 'fairgraph.openminds.core.products.web_service.WebService'>, <class 'fairgraph.openminds.core.products.web_service_version.WebServiceVersion'>], {'developers': 'https://kg.ebrains.eu/api/instances/062c55ea-2566-4d97-965d-01dccbccc4ee'}), funded=KGQuery([<class 'fairgraph.openminds.core.miscellaneous.funding.Funding'>], {'funder': 'https://kg.ebrains.eu/api/instances/062c55ea-2566-4d97-965d-01dccbccc4ee'}), is_custodian_of=KGQuery([<class 'fairgraph.openminds.core.products.dataset.Dataset'>, <class 'fairgraph.openminds.core.products.dataset_version.DatasetVersion'>, <class 'fairgraph.openminds.publications.live_paper.LivePaper'>, <class 'fairgraph.openminds.publications.live_paper_version.LivePaperVersion'>, <class 'fairgraph.openminds.sands.atlas.brain_atlas.BrainAtlas'>, <class 'fairgraph.openminds.sands.atlas.brain_atlas_version.BrainAtlasVersion'>, <class 'fairgraph.openminds.sands.atlas.common_coordinate_space.CommonCoordinateSpace'>, <class 'fairgraph.openminds.sands.atlas.common_coordinate_space_version.CommonCoordinateSpaceVersion'>], {'custodians': 'https://kg.ebrains.eu/api/instances/062c55ea-2566-4d97-965d-01dccbccc4ee'}), is_owner_of=KGQuery([<class 'fairgraph.openminds.ephys.device.electrode.Electrode'>, <class 'fairgraph.openminds.ephys.device.electrode_array.ElectrodeArray'>, <class 'fairgraph.openminds.ephys.device.pipette.Pipette'>, <class 'fairgraph.openminds.specimen_prep.device.slicing_device.SlicingDevice'>], {'owners': 'https://kg.ebrains.eu/api/instances/062c55ea-2566-4d97-965d-01dccbccc4ee'}), is_provider_of=KGQuery([<class 'fairgraph.openminds.chemicals.product_source.ProductSource'>], {'provider': 'https://kg.ebrains.eu/api/instances/062c55ea-2566-4d97-965d-01dccbccc4ee'}), manufactured=KGQuery([<class 'fairgraph.openminds.core.products.setup.Setup'>], {'manufacturers': 'https://kg.ebrains.eu/api/instances/062c55ea-2566-4d97-965d-01dccbccc4ee'}), published=KGQuery([<class 'fairgraph.openminds.publications.book.Book'>, <class 'fairgraph.openminds.publications.chapter.Chapter'>, <class 'fairgraph.openminds.publications.learning_resource.LearningResource'>, <class 'fairgraph.openminds.publications.scholarly_article.ScholarlyArticle'>], {'publisher': 'https://kg.ebrains.eu/api/instances/062c55ea-2566-4d97-965d-01dccbccc4ee'}), started=KGQuery([<class 'fairgraph.openminds.computation.data_analysis.DataAnalysis'>, <class 'fairgraph.openminds.computation.data_copy.DataCopy'>, <class 'fairgraph.openminds.computation.generic_computation.GenericComputation'>, <class 'fairgraph.openminds.computation.model_validation.ModelValidation'>, <class 'fairgraph.openminds.computation.optimization.Optimization'>, <class 'fairgraph.openminds.computation.simulation.Simulation'>, <class 'fairgraph.openminds.computation.visualization.Visualization'>, <class 'fairgraph.openminds.computation.workflow_execution.WorkflowExecution'>], {'started_by': 'https://kg.ebrains.eu/api/instances/062c55ea-2566-4d97-965d-01dccbccc4ee'}), space=common, id=https://kg.ebrains.eu/api/instances/062c55ea-2566-4d97-965d-01dccbccc4ee),\n",
       " Person(affiliations=Affiliation(member_of=KGProxy((<class 'fairgraph.openminds.core.actors.consortium.Consortium'>, <class 'fairgraph.openminds.core.actors.organization.Organization'>), 'https://kg.ebrains.eu/api/instances/8a761378-5117-431e-91a0-6f3547086b7a')), contact_information=KGProxy([<class 'fairgraph.openminds.core.actors.contact_information.ContactInformation'>], 'https://kg.ebrains.eu/api/instances/d1e7a402-0630-4534-9ef8-da5fbe8007d1'), digital_identifiers=KGProxy([<class 'fairgraph.openminds.core.digital_identifier.orcid.ORCID'>], 'https://kg.ebrains.eu/api/instances/f8821e9f-7d77-4f30-8d29-0a0e4d248891'), family_name='Ciumas', given_name='Carolina', activities=KGQuery([<class 'fairgraph.openminds.core.research.protocol_execution.ProtocolExecution'>, <class 'fairgraph.openminds.ephys.activity.cell_patching.CellPatching'>, <class 'fairgraph.openminds.ephys.activity.electrode_placement.ElectrodePlacement'>, <class 'fairgraph.openminds.ephys.activity.recording_activity.RecordingActivity'>, <class 'fairgraph.openminds.specimen_prep.activity.cranial_window_preparation.CranialWindowPreparation'>, <class 'fairgraph.openminds.specimen_prep.activity.tissue_culture_preparation.TissueCulturePreparation'>, <class 'fairgraph.openminds.specimen_prep.activity.tissue_sample_slicing.TissueSampleSlicing'>, <class 'fairgraph.openminds.stimulation.activity.stimulation_activity.StimulationActivity'>], {'performed_by': 'https://kg.ebrains.eu/api/instances/06428894-675f-4aef-8005-a584bb4f22b8'}), comments=KGQuery([<class 'fairgraph.openminds.core.miscellaneous.comment.Comment'>], {'commenter': 'https://kg.ebrains.eu/api/instances/06428894-675f-4aef-8005-a584bb4f22b8'}), coordinated_projects=KGQuery([<class 'fairgraph.openminds.core.products.project.Project'>], {'coordinators': 'https://kg.ebrains.eu/api/instances/06428894-675f-4aef-8005-a584bb4f22b8'}), developed=KGQuery([<class 'fairgraph.openminds.computation.validation_test.ValidationTest'>, <class 'fairgraph.openminds.computation.validation_test_version.ValidationTestVersion'>, <class 'fairgraph.openminds.computation.workflow_recipe.WorkflowRecipe'>, <class 'fairgraph.openminds.computation.workflow_recipe_version.WorkflowRecipeVersion'>, <class 'fairgraph.openminds.core.products.meta_data_model.MetaDataModel'>, <class 'fairgraph.openminds.core.products.meta_data_model_version.MetaDataModelVersion'>, <class 'fairgraph.openminds.core.products.model.Model'>, <class 'fairgraph.openminds.core.products.model_version.ModelVersion'>, <class 'fairgraph.openminds.core.products.software.Software'>, <class 'fairgraph.openminds.core.products.software_version.SoftwareVersion'>, <class 'fairgraph.openminds.core.products.web_service.WebService'>, <class 'fairgraph.openminds.core.products.web_service_version.WebServiceVersion'>], {'developers': 'https://kg.ebrains.eu/api/instances/06428894-675f-4aef-8005-a584bb4f22b8'}), funded=KGQuery([<class 'fairgraph.openminds.core.miscellaneous.funding.Funding'>], {'funder': 'https://kg.ebrains.eu/api/instances/06428894-675f-4aef-8005-a584bb4f22b8'}), is_custodian_of=KGQuery([<class 'fairgraph.openminds.core.products.dataset.Dataset'>, <class 'fairgraph.openminds.core.products.dataset_version.DatasetVersion'>, <class 'fairgraph.openminds.publications.live_paper.LivePaper'>, <class 'fairgraph.openminds.publications.live_paper_version.LivePaperVersion'>, <class 'fairgraph.openminds.sands.atlas.brain_atlas.BrainAtlas'>, <class 'fairgraph.openminds.sands.atlas.brain_atlas_version.BrainAtlasVersion'>, <class 'fairgraph.openminds.sands.atlas.common_coordinate_space.CommonCoordinateSpace'>, <class 'fairgraph.openminds.sands.atlas.common_coordinate_space_version.CommonCoordinateSpaceVersion'>], {'custodians': 'https://kg.ebrains.eu/api/instances/06428894-675f-4aef-8005-a584bb4f22b8'}), is_owner_of=KGQuery([<class 'fairgraph.openminds.ephys.device.electrode.Electrode'>, <class 'fairgraph.openminds.ephys.device.electrode_array.ElectrodeArray'>, <class 'fairgraph.openminds.ephys.device.pipette.Pipette'>, <class 'fairgraph.openminds.specimen_prep.device.slicing_device.SlicingDevice'>], {'owners': 'https://kg.ebrains.eu/api/instances/06428894-675f-4aef-8005-a584bb4f22b8'}), is_provider_of=KGQuery([<class 'fairgraph.openminds.chemicals.product_source.ProductSource'>], {'provider': 'https://kg.ebrains.eu/api/instances/06428894-675f-4aef-8005-a584bb4f22b8'}), manufactured=KGQuery([<class 'fairgraph.openminds.core.products.setup.Setup'>], {'manufacturers': 'https://kg.ebrains.eu/api/instances/06428894-675f-4aef-8005-a584bb4f22b8'}), published=KGQuery([<class 'fairgraph.openminds.publications.book.Book'>, <class 'fairgraph.openminds.publications.chapter.Chapter'>, <class 'fairgraph.openminds.publications.learning_resource.LearningResource'>, <class 'fairgraph.openminds.publications.scholarly_article.ScholarlyArticle'>], {'publisher': 'https://kg.ebrains.eu/api/instances/06428894-675f-4aef-8005-a584bb4f22b8'}), started=KGQuery([<class 'fairgraph.openminds.computation.data_analysis.DataAnalysis'>, <class 'fairgraph.openminds.computation.data_copy.DataCopy'>, <class 'fairgraph.openminds.computation.generic_computation.GenericComputation'>, <class 'fairgraph.openminds.computation.model_validation.ModelValidation'>, <class 'fairgraph.openminds.computation.optimization.Optimization'>, <class 'fairgraph.openminds.computation.simulation.Simulation'>, <class 'fairgraph.openminds.computation.visualization.Visualization'>, <class 'fairgraph.openminds.computation.workflow_execution.WorkflowExecution'>], {'started_by': 'https://kg.ebrains.eu/api/instances/06428894-675f-4aef-8005-a584bb4f22b8'}), space=common, id=https://kg.ebrains.eu/api/instances/06428894-675f-4aef-8005-a584bb4f22b8),\n",
       " Person(family_name='Checinska', given_name='Martyna M.', activities=KGQuery([<class 'fairgraph.openminds.core.research.protocol_execution.ProtocolExecution'>, <class 'fairgraph.openminds.ephys.activity.cell_patching.CellPatching'>, <class 'fairgraph.openminds.ephys.activity.electrode_placement.ElectrodePlacement'>, <class 'fairgraph.openminds.ephys.activity.recording_activity.RecordingActivity'>, <class 'fairgraph.openminds.specimen_prep.activity.cranial_window_preparation.CranialWindowPreparation'>, <class 'fairgraph.openminds.specimen_prep.activity.tissue_culture_preparation.TissueCulturePreparation'>, <class 'fairgraph.openminds.specimen_prep.activity.tissue_sample_slicing.TissueSampleSlicing'>, <class 'fairgraph.openminds.stimulation.activity.stimulation_activity.StimulationActivity'>], {'performed_by': 'https://kg.ebrains.eu/api/instances/065af71a-28b2-446d-bafe-326c5d8046bb'}), comments=KGQuery([<class 'fairgraph.openminds.core.miscellaneous.comment.Comment'>], {'commenter': 'https://kg.ebrains.eu/api/instances/065af71a-28b2-446d-bafe-326c5d8046bb'}), coordinated_projects=KGQuery([<class 'fairgraph.openminds.core.products.project.Project'>], {'coordinators': 'https://kg.ebrains.eu/api/instances/065af71a-28b2-446d-bafe-326c5d8046bb'}), developed=KGQuery([<class 'fairgraph.openminds.computation.validation_test.ValidationTest'>, <class 'fairgraph.openminds.computation.validation_test_version.ValidationTestVersion'>, <class 'fairgraph.openminds.computation.workflow_recipe.WorkflowRecipe'>, <class 'fairgraph.openminds.computation.workflow_recipe_version.WorkflowRecipeVersion'>, <class 'fairgraph.openminds.core.products.meta_data_model.MetaDataModel'>, <class 'fairgraph.openminds.core.products.meta_data_model_version.MetaDataModelVersion'>, <class 'fairgraph.openminds.core.products.model.Model'>, <class 'fairgraph.openminds.core.products.model_version.ModelVersion'>, <class 'fairgraph.openminds.core.products.software.Software'>, <class 'fairgraph.openminds.core.products.software_version.SoftwareVersion'>, <class 'fairgraph.openminds.core.products.web_service.WebService'>, <class 'fairgraph.openminds.core.products.web_service_version.WebServiceVersion'>], {'developers': 'https://kg.ebrains.eu/api/instances/065af71a-28b2-446d-bafe-326c5d8046bb'}), funded=KGQuery([<class 'fairgraph.openminds.core.miscellaneous.funding.Funding'>], {'funder': 'https://kg.ebrains.eu/api/instances/065af71a-28b2-446d-bafe-326c5d8046bb'}), is_custodian_of=KGQuery([<class 'fairgraph.openminds.core.products.dataset.Dataset'>, <class 'fairgraph.openminds.core.products.dataset_version.DatasetVersion'>, <class 'fairgraph.openminds.publications.live_paper.LivePaper'>, <class 'fairgraph.openminds.publications.live_paper_version.LivePaperVersion'>, <class 'fairgraph.openminds.sands.atlas.brain_atlas.BrainAtlas'>, <class 'fairgraph.openminds.sands.atlas.brain_atlas_version.BrainAtlasVersion'>, <class 'fairgraph.openminds.sands.atlas.common_coordinate_space.CommonCoordinateSpace'>, <class 'fairgraph.openminds.sands.atlas.common_coordinate_space_version.CommonCoordinateSpaceVersion'>], {'custodians': 'https://kg.ebrains.eu/api/instances/065af71a-28b2-446d-bafe-326c5d8046bb'}), is_owner_of=KGQuery([<class 'fairgraph.openminds.ephys.device.electrode.Electrode'>, <class 'fairgraph.openminds.ephys.device.electrode_array.ElectrodeArray'>, <class 'fairgraph.openminds.ephys.device.pipette.Pipette'>, <class 'fairgraph.openminds.specimen_prep.device.slicing_device.SlicingDevice'>], {'owners': 'https://kg.ebrains.eu/api/instances/065af71a-28b2-446d-bafe-326c5d8046bb'}), is_provider_of=KGQuery([<class 'fairgraph.openminds.chemicals.product_source.ProductSource'>], {'provider': 'https://kg.ebrains.eu/api/instances/065af71a-28b2-446d-bafe-326c5d8046bb'}), manufactured=KGQuery([<class 'fairgraph.openminds.core.products.setup.Setup'>], {'manufacturers': 'https://kg.ebrains.eu/api/instances/065af71a-28b2-446d-bafe-326c5d8046bb'}), published=KGQuery([<class 'fairgraph.openminds.publications.book.Book'>, <class 'fairgraph.openminds.publications.chapter.Chapter'>, <class 'fairgraph.openminds.publications.learning_resource.LearningResource'>, <class 'fairgraph.openminds.publications.scholarly_article.ScholarlyArticle'>], {'publisher': 'https://kg.ebrains.eu/api/instances/065af71a-28b2-446d-bafe-326c5d8046bb'}), started=KGQuery([<class 'fairgraph.openminds.computation.data_analysis.DataAnalysis'>, <class 'fairgraph.openminds.computation.data_copy.DataCopy'>, <class 'fairgraph.openminds.computation.generic_computation.GenericComputation'>, <class 'fairgraph.openminds.computation.model_validation.ModelValidation'>, <class 'fairgraph.openminds.computation.optimization.Optimization'>, <class 'fairgraph.openminds.computation.simulation.Simulation'>, <class 'fairgraph.openminds.computation.visualization.Visualization'>, <class 'fairgraph.openminds.computation.workflow_execution.WorkflowExecution'>], {'started_by': 'https://kg.ebrains.eu/api/instances/065af71a-28b2-446d-bafe-326c5d8046bb'}), space=common, id=https://kg.ebrains.eu/api/instances/065af71a-28b2-446d-bafe-326c5d8046bb),\n",
       " Person(affiliations=Affiliation(member_of=KGProxy((<class 'fairgraph.openminds.core.actors.consortium.Consortium'>, <class 'fairgraph.openminds.core.actors.organization.Organization'>), 'https://kg.ebrains.eu/api/instances/276cf5ef-d51e-43f6-8bd4-c7007cc93aed')), contact_information=KGProxy([<class 'fairgraph.openminds.core.actors.contact_information.ContactInformation'>], 'https://kg.ebrains.eu/api/instances/b44fc609-1103-4512-bb69-634078f108fa'), family_name='Garcia-Salinas', given_name='Jesus', activities=KGQuery([<class 'fairgraph.openminds.core.research.protocol_execution.ProtocolExecution'>, <class 'fairgraph.openminds.ephys.activity.cell_patching.CellPatching'>, <class 'fairgraph.openminds.ephys.activity.electrode_placement.ElectrodePlacement'>, <class 'fairgraph.openminds.ephys.activity.recording_activity.RecordingActivity'>, <class 'fairgraph.openminds.specimen_prep.activity.cranial_window_preparation.CranialWindowPreparation'>, <class 'fairgraph.openminds.specimen_prep.activity.tissue_culture_preparation.TissueCulturePreparation'>, <class 'fairgraph.openminds.specimen_prep.activity.tissue_sample_slicing.TissueSampleSlicing'>, <class 'fairgraph.openminds.stimulation.activity.stimulation_activity.StimulationActivity'>], {'performed_by': 'https://kg.ebrains.eu/api/instances/067f0971-0835-4aee-a34c-3dd156fb25b7'}), comments=KGQuery([<class 'fairgraph.openminds.core.miscellaneous.comment.Comment'>], {'commenter': 'https://kg.ebrains.eu/api/instances/067f0971-0835-4aee-a34c-3dd156fb25b7'}), coordinated_projects=KGQuery([<class 'fairgraph.openminds.core.products.project.Project'>], {'coordinators': 'https://kg.ebrains.eu/api/instances/067f0971-0835-4aee-a34c-3dd156fb25b7'}), developed=KGQuery([<class 'fairgraph.openminds.computation.validation_test.ValidationTest'>, <class 'fairgraph.openminds.computation.validation_test_version.ValidationTestVersion'>, <class 'fairgraph.openminds.computation.workflow_recipe.WorkflowRecipe'>, <class 'fairgraph.openminds.computation.workflow_recipe_version.WorkflowRecipeVersion'>, <class 'fairgraph.openminds.core.products.meta_data_model.MetaDataModel'>, <class 'fairgraph.openminds.core.products.meta_data_model_version.MetaDataModelVersion'>, <class 'fairgraph.openminds.core.products.model.Model'>, <class 'fairgraph.openminds.core.products.model_version.ModelVersion'>, <class 'fairgraph.openminds.core.products.software.Software'>, <class 'fairgraph.openminds.core.products.software_version.SoftwareVersion'>, <class 'fairgraph.openminds.core.products.web_service.WebService'>, <class 'fairgraph.openminds.core.products.web_service_version.WebServiceVersion'>], {'developers': 'https://kg.ebrains.eu/api/instances/067f0971-0835-4aee-a34c-3dd156fb25b7'}), funded=KGQuery([<class 'fairgraph.openminds.core.miscellaneous.funding.Funding'>], {'funder': 'https://kg.ebrains.eu/api/instances/067f0971-0835-4aee-a34c-3dd156fb25b7'}), is_custodian_of=KGQuery([<class 'fairgraph.openminds.core.products.dataset.Dataset'>, <class 'fairgraph.openminds.core.products.dataset_version.DatasetVersion'>, <class 'fairgraph.openminds.publications.live_paper.LivePaper'>, <class 'fairgraph.openminds.publications.live_paper_version.LivePaperVersion'>, <class 'fairgraph.openminds.sands.atlas.brain_atlas.BrainAtlas'>, <class 'fairgraph.openminds.sands.atlas.brain_atlas_version.BrainAtlasVersion'>, <class 'fairgraph.openminds.sands.atlas.common_coordinate_space.CommonCoordinateSpace'>, <class 'fairgraph.openminds.sands.atlas.common_coordinate_space_version.CommonCoordinateSpaceVersion'>], {'custodians': 'https://kg.ebrains.eu/api/instances/067f0971-0835-4aee-a34c-3dd156fb25b7'}), is_owner_of=KGQuery([<class 'fairgraph.openminds.ephys.device.electrode.Electrode'>, <class 'fairgraph.openminds.ephys.device.electrode_array.ElectrodeArray'>, <class 'fairgraph.openminds.ephys.device.pipette.Pipette'>, <class 'fairgraph.openminds.specimen_prep.device.slicing_device.SlicingDevice'>], {'owners': 'https://kg.ebrains.eu/api/instances/067f0971-0835-4aee-a34c-3dd156fb25b7'}), is_provider_of=KGQuery([<class 'fairgraph.openminds.chemicals.product_source.ProductSource'>], {'provider': 'https://kg.ebrains.eu/api/instances/067f0971-0835-4aee-a34c-3dd156fb25b7'}), manufactured=KGQuery([<class 'fairgraph.openminds.core.products.setup.Setup'>], {'manufacturers': 'https://kg.ebrains.eu/api/instances/067f0971-0835-4aee-a34c-3dd156fb25b7'}), published=KGQuery([<class 'fairgraph.openminds.publications.book.Book'>, <class 'fairgraph.openminds.publications.chapter.Chapter'>, <class 'fairgraph.openminds.publications.learning_resource.LearningResource'>, <class 'fairgraph.openminds.publications.scholarly_article.ScholarlyArticle'>], {'publisher': 'https://kg.ebrains.eu/api/instances/067f0971-0835-4aee-a34c-3dd156fb25b7'}), started=KGQuery([<class 'fairgraph.openminds.computation.data_analysis.DataAnalysis'>, <class 'fairgraph.openminds.computation.data_copy.DataCopy'>, <class 'fairgraph.openminds.computation.generic_computation.GenericComputation'>, <class 'fairgraph.openminds.computation.model_validation.ModelValidation'>, <class 'fairgraph.openminds.computation.optimization.Optimization'>, <class 'fairgraph.openminds.computation.simulation.Simulation'>, <class 'fairgraph.openminds.computation.visualization.Visualization'>, <class 'fairgraph.openminds.computation.workflow_execution.WorkflowExecution'>], {'started_by': 'https://kg.ebrains.eu/api/instances/067f0971-0835-4aee-a34c-3dd156fb25b7'}), space=common, id=https://kg.ebrains.eu/api/instances/067f0971-0835-4aee-a34c-3dd156fb25b7),\n",
       " Person(family_name='Jürgens', given_name='Björn', activities=KGQuery([<class 'fairgraph.openminds.core.research.protocol_execution.ProtocolExecution'>, <class 'fairgraph.openminds.ephys.activity.cell_patching.CellPatching'>, <class 'fairgraph.openminds.ephys.activity.electrode_placement.ElectrodePlacement'>, <class 'fairgraph.openminds.ephys.activity.recording_activity.RecordingActivity'>, <class 'fairgraph.openminds.specimen_prep.activity.cranial_window_preparation.CranialWindowPreparation'>, <class 'fairgraph.openminds.specimen_prep.activity.tissue_culture_preparation.TissueCulturePreparation'>, <class 'fairgraph.openminds.specimen_prep.activity.tissue_sample_slicing.TissueSampleSlicing'>, <class 'fairgraph.openminds.stimulation.activity.stimulation_activity.StimulationActivity'>], {'performed_by': 'https://kg.ebrains.eu/api/instances/0695a3c9-389f-4dd6-890a-9b1c22aed3a1'}), comments=KGQuery([<class 'fairgraph.openminds.core.miscellaneous.comment.Comment'>], {'commenter': 'https://kg.ebrains.eu/api/instances/0695a3c9-389f-4dd6-890a-9b1c22aed3a1'}), coordinated_projects=KGQuery([<class 'fairgraph.openminds.core.products.project.Project'>], {'coordinators': 'https://kg.ebrains.eu/api/instances/0695a3c9-389f-4dd6-890a-9b1c22aed3a1'}), developed=KGQuery([<class 'fairgraph.openminds.computation.validation_test.ValidationTest'>, <class 'fairgraph.openminds.computation.validation_test_version.ValidationTestVersion'>, <class 'fairgraph.openminds.computation.workflow_recipe.WorkflowRecipe'>, <class 'fairgraph.openminds.computation.workflow_recipe_version.WorkflowRecipeVersion'>, <class 'fairgraph.openminds.core.products.meta_data_model.MetaDataModel'>, <class 'fairgraph.openminds.core.products.meta_data_model_version.MetaDataModelVersion'>, <class 'fairgraph.openminds.core.products.model.Model'>, <class 'fairgraph.openminds.core.products.model_version.ModelVersion'>, <class 'fairgraph.openminds.core.products.software.Software'>, <class 'fairgraph.openminds.core.products.software_version.SoftwareVersion'>, <class 'fairgraph.openminds.core.products.web_service.WebService'>, <class 'fairgraph.openminds.core.products.web_service_version.WebServiceVersion'>], {'developers': 'https://kg.ebrains.eu/api/instances/0695a3c9-389f-4dd6-890a-9b1c22aed3a1'}), funded=KGQuery([<class 'fairgraph.openminds.core.miscellaneous.funding.Funding'>], {'funder': 'https://kg.ebrains.eu/api/instances/0695a3c9-389f-4dd6-890a-9b1c22aed3a1'}), is_custodian_of=KGQuery([<class 'fairgraph.openminds.core.products.dataset.Dataset'>, <class 'fairgraph.openminds.core.products.dataset_version.DatasetVersion'>, <class 'fairgraph.openminds.publications.live_paper.LivePaper'>, <class 'fairgraph.openminds.publications.live_paper_version.LivePaperVersion'>, <class 'fairgraph.openminds.sands.atlas.brain_atlas.BrainAtlas'>, <class 'fairgraph.openminds.sands.atlas.brain_atlas_version.BrainAtlasVersion'>, <class 'fairgraph.openminds.sands.atlas.common_coordinate_space.CommonCoordinateSpace'>, <class 'fairgraph.openminds.sands.atlas.common_coordinate_space_version.CommonCoordinateSpaceVersion'>], {'custodians': 'https://kg.ebrains.eu/api/instances/0695a3c9-389f-4dd6-890a-9b1c22aed3a1'}), is_owner_of=KGQuery([<class 'fairgraph.openminds.ephys.device.electrode.Electrode'>, <class 'fairgraph.openminds.ephys.device.electrode_array.ElectrodeArray'>, <class 'fairgraph.openminds.ephys.device.pipette.Pipette'>, <class 'fairgraph.openminds.specimen_prep.device.slicing_device.SlicingDevice'>], {'owners': 'https://kg.ebrains.eu/api/instances/0695a3c9-389f-4dd6-890a-9b1c22aed3a1'}), is_provider_of=KGQuery([<class 'fairgraph.openminds.chemicals.product_source.ProductSource'>], {'provider': 'https://kg.ebrains.eu/api/instances/0695a3c9-389f-4dd6-890a-9b1c22aed3a1'}), manufactured=KGQuery([<class 'fairgraph.openminds.core.products.setup.Setup'>], {'manufacturers': 'https://kg.ebrains.eu/api/instances/0695a3c9-389f-4dd6-890a-9b1c22aed3a1'}), published=KGQuery([<class 'fairgraph.openminds.publications.book.Book'>, <class 'fairgraph.openminds.publications.chapter.Chapter'>, <class 'fairgraph.openminds.publications.learning_resource.LearningResource'>, <class 'fairgraph.openminds.publications.scholarly_article.ScholarlyArticle'>], {'publisher': 'https://kg.ebrains.eu/api/instances/0695a3c9-389f-4dd6-890a-9b1c22aed3a1'}), started=KGQuery([<class 'fairgraph.openminds.computation.data_analysis.DataAnalysis'>, <class 'fairgraph.openminds.computation.data_copy.DataCopy'>, <class 'fairgraph.openminds.computation.generic_computation.GenericComputation'>, <class 'fairgraph.openminds.computation.model_validation.ModelValidation'>, <class 'fairgraph.openminds.computation.optimization.Optimization'>, <class 'fairgraph.openminds.computation.simulation.Simulation'>, <class 'fairgraph.openminds.computation.visualization.Visualization'>, <class 'fairgraph.openminds.computation.workflow_execution.WorkflowExecution'>], {'started_by': 'https://kg.ebrains.eu/api/instances/0695a3c9-389f-4dd6-890a-9b1c22aed3a1'}), space=common, id=https://kg.ebrains.eu/api/instances/0695a3c9-389f-4dd6-890a-9b1c22aed3a1),\n",
       " Person(contact_information=KGProxy([<class 'fairgraph.openminds.core.actors.contact_information.ContactInformation'>], 'https://kg.ebrains.eu/api/instances/f1555e0e-77cd-4376-9293-4c1178f803dc'), family_name='Keirse', given_name='Elina', activities=KGQuery([<class 'fairgraph.openminds.core.research.protocol_execution.ProtocolExecution'>, <class 'fairgraph.openminds.ephys.activity.cell_patching.CellPatching'>, <class 'fairgraph.openminds.ephys.activity.electrode_placement.ElectrodePlacement'>, <class 'fairgraph.openminds.ephys.activity.recording_activity.RecordingActivity'>, <class 'fairgraph.openminds.specimen_prep.activity.cranial_window_preparation.CranialWindowPreparation'>, <class 'fairgraph.openminds.specimen_prep.activity.tissue_culture_preparation.TissueCulturePreparation'>, <class 'fairgraph.openminds.specimen_prep.activity.tissue_sample_slicing.TissueSampleSlicing'>, <class 'fairgraph.openminds.stimulation.activity.stimulation_activity.StimulationActivity'>], {'performed_by': 'https://kg.ebrains.eu/api/instances/06985e37-428a-4b49-8657-7374b0201547'}), comments=KGQuery([<class 'fairgraph.openminds.core.miscellaneous.comment.Comment'>], {'commenter': 'https://kg.ebrains.eu/api/instances/06985e37-428a-4b49-8657-7374b0201547'}), coordinated_projects=KGQuery([<class 'fairgraph.openminds.core.products.project.Project'>], {'coordinators': 'https://kg.ebrains.eu/api/instances/06985e37-428a-4b49-8657-7374b0201547'}), developed=KGQuery([<class 'fairgraph.openminds.computation.validation_test.ValidationTest'>, <class 'fairgraph.openminds.computation.validation_test_version.ValidationTestVersion'>, <class 'fairgraph.openminds.computation.workflow_recipe.WorkflowRecipe'>, <class 'fairgraph.openminds.computation.workflow_recipe_version.WorkflowRecipeVersion'>, <class 'fairgraph.openminds.core.products.meta_data_model.MetaDataModel'>, <class 'fairgraph.openminds.core.products.meta_data_model_version.MetaDataModelVersion'>, <class 'fairgraph.openminds.core.products.model.Model'>, <class 'fairgraph.openminds.core.products.model_version.ModelVersion'>, <class 'fairgraph.openminds.core.products.software.Software'>, <class 'fairgraph.openminds.core.products.software_version.SoftwareVersion'>, <class 'fairgraph.openminds.core.products.web_service.WebService'>, <class 'fairgraph.openminds.core.products.web_service_version.WebServiceVersion'>], {'developers': 'https://kg.ebrains.eu/api/instances/06985e37-428a-4b49-8657-7374b0201547'}), funded=KGQuery([<class 'fairgraph.openminds.core.miscellaneous.funding.Funding'>], {'funder': 'https://kg.ebrains.eu/api/instances/06985e37-428a-4b49-8657-7374b0201547'}), is_custodian_of=KGQuery([<class 'fairgraph.openminds.core.products.dataset.Dataset'>, <class 'fairgraph.openminds.core.products.dataset_version.DatasetVersion'>, <class 'fairgraph.openminds.publications.live_paper.LivePaper'>, <class 'fairgraph.openminds.publications.live_paper_version.LivePaperVersion'>, <class 'fairgraph.openminds.sands.atlas.brain_atlas.BrainAtlas'>, <class 'fairgraph.openminds.sands.atlas.brain_atlas_version.BrainAtlasVersion'>, <class 'fairgraph.openminds.sands.atlas.common_coordinate_space.CommonCoordinateSpace'>, <class 'fairgraph.openminds.sands.atlas.common_coordinate_space_version.CommonCoordinateSpaceVersion'>], {'custodians': 'https://kg.ebrains.eu/api/instances/06985e37-428a-4b49-8657-7374b0201547'}), is_owner_of=KGQuery([<class 'fairgraph.openminds.ephys.device.electrode.Electrode'>, <class 'fairgraph.openminds.ephys.device.electrode_array.ElectrodeArray'>, <class 'fairgraph.openminds.ephys.device.pipette.Pipette'>, <class 'fairgraph.openminds.specimen_prep.device.slicing_device.SlicingDevice'>], {'owners': 'https://kg.ebrains.eu/api/instances/06985e37-428a-4b49-8657-7374b0201547'}), is_provider_of=KGQuery([<class 'fairgraph.openminds.chemicals.product_source.ProductSource'>], {'provider': 'https://kg.ebrains.eu/api/instances/06985e37-428a-4b49-8657-7374b0201547'}), manufactured=KGQuery([<class 'fairgraph.openminds.core.products.setup.Setup'>], {'manufacturers': 'https://kg.ebrains.eu/api/instances/06985e37-428a-4b49-8657-7374b0201547'}), published=KGQuery([<class 'fairgraph.openminds.publications.book.Book'>, <class 'fairgraph.openminds.publications.chapter.Chapter'>, <class 'fairgraph.openminds.publications.learning_resource.LearningResource'>, <class 'fairgraph.openminds.publications.scholarly_article.ScholarlyArticle'>], {'publisher': 'https://kg.ebrains.eu/api/instances/06985e37-428a-4b49-8657-7374b0201547'}), started=KGQuery([<class 'fairgraph.openminds.computation.data_analysis.DataAnalysis'>, <class 'fairgraph.openminds.computation.data_copy.DataCopy'>, <class 'fairgraph.openminds.computation.generic_computation.GenericComputation'>, <class 'fairgraph.openminds.computation.model_validation.ModelValidation'>, <class 'fairgraph.openminds.computation.optimization.Optimization'>, <class 'fairgraph.openminds.computation.simulation.Simulation'>, <class 'fairgraph.openminds.computation.visualization.Visualization'>, <class 'fairgraph.openminds.computation.workflow_execution.WorkflowExecution'>], {'started_by': 'https://kg.ebrains.eu/api/instances/06985e37-428a-4b49-8657-7374b0201547'}), space=common, id=https://kg.ebrains.eu/api/instances/06985e37-428a-4b49-8657-7374b0201547),\n",
       " Person(digital_identifiers=KGProxy([<class 'fairgraph.openminds.core.digital_identifier.orcid.ORCID'>], 'https://kg.ebrains.eu/api/instances/14043654-35e0-43f8-9c39-687281ab445a'), family_name='Schöfmann', given_name='Catherine Mia', activities=KGQuery([<class 'fairgraph.openminds.core.research.protocol_execution.ProtocolExecution'>, <class 'fairgraph.openminds.ephys.activity.cell_patching.CellPatching'>, <class 'fairgraph.openminds.ephys.activity.electrode_placement.ElectrodePlacement'>, <class 'fairgraph.openminds.ephys.activity.recording_activity.RecordingActivity'>, <class 'fairgraph.openminds.specimen_prep.activity.cranial_window_preparation.CranialWindowPreparation'>, <class 'fairgraph.openminds.specimen_prep.activity.tissue_culture_preparation.TissueCulturePreparation'>, <class 'fairgraph.openminds.specimen_prep.activity.tissue_sample_slicing.TissueSampleSlicing'>, <class 'fairgraph.openminds.stimulation.activity.stimulation_activity.StimulationActivity'>], {'performed_by': 'https://kg.ebrains.eu/api/instances/06b071dc-88a4-47ca-a9ba-7cbe07122aeb'}), comments=KGQuery([<class 'fairgraph.openminds.core.miscellaneous.comment.Comment'>], {'commenter': 'https://kg.ebrains.eu/api/instances/06b071dc-88a4-47ca-a9ba-7cbe07122aeb'}), coordinated_projects=KGQuery([<class 'fairgraph.openminds.core.products.project.Project'>], {'coordinators': 'https://kg.ebrains.eu/api/instances/06b071dc-88a4-47ca-a9ba-7cbe07122aeb'}), developed=KGQuery([<class 'fairgraph.openminds.computation.validation_test.ValidationTest'>, <class 'fairgraph.openminds.computation.validation_test_version.ValidationTestVersion'>, <class 'fairgraph.openminds.computation.workflow_recipe.WorkflowRecipe'>, <class 'fairgraph.openminds.computation.workflow_recipe_version.WorkflowRecipeVersion'>, <class 'fairgraph.openminds.core.products.meta_data_model.MetaDataModel'>, <class 'fairgraph.openminds.core.products.meta_data_model_version.MetaDataModelVersion'>, <class 'fairgraph.openminds.core.products.model.Model'>, <class 'fairgraph.openminds.core.products.model_version.ModelVersion'>, <class 'fairgraph.openminds.core.products.software.Software'>, <class 'fairgraph.openminds.core.products.software_version.SoftwareVersion'>, <class 'fairgraph.openminds.core.products.web_service.WebService'>, <class 'fairgraph.openminds.core.products.web_service_version.WebServiceVersion'>], {'developers': 'https://kg.ebrains.eu/api/instances/06b071dc-88a4-47ca-a9ba-7cbe07122aeb'}), funded=KGQuery([<class 'fairgraph.openminds.core.miscellaneous.funding.Funding'>], {'funder': 'https://kg.ebrains.eu/api/instances/06b071dc-88a4-47ca-a9ba-7cbe07122aeb'}), is_custodian_of=KGQuery([<class 'fairgraph.openminds.core.products.dataset.Dataset'>, <class 'fairgraph.openminds.core.products.dataset_version.DatasetVersion'>, <class 'fairgraph.openminds.publications.live_paper.LivePaper'>, <class 'fairgraph.openminds.publications.live_paper_version.LivePaperVersion'>, <class 'fairgraph.openminds.sands.atlas.brain_atlas.BrainAtlas'>, <class 'fairgraph.openminds.sands.atlas.brain_atlas_version.BrainAtlasVersion'>, <class 'fairgraph.openminds.sands.atlas.common_coordinate_space.CommonCoordinateSpace'>, <class 'fairgraph.openminds.sands.atlas.common_coordinate_space_version.CommonCoordinateSpaceVersion'>], {'custodians': 'https://kg.ebrains.eu/api/instances/06b071dc-88a4-47ca-a9ba-7cbe07122aeb'}), is_owner_of=KGQuery([<class 'fairgraph.openminds.ephys.device.electrode.Electrode'>, <class 'fairgraph.openminds.ephys.device.electrode_array.ElectrodeArray'>, <class 'fairgraph.openminds.ephys.device.pipette.Pipette'>, <class 'fairgraph.openminds.specimen_prep.device.slicing_device.SlicingDevice'>], {'owners': 'https://kg.ebrains.eu/api/instances/06b071dc-88a4-47ca-a9ba-7cbe07122aeb'}), is_provider_of=KGQuery([<class 'fairgraph.openminds.chemicals.product_source.ProductSource'>], {'provider': 'https://kg.ebrains.eu/api/instances/06b071dc-88a4-47ca-a9ba-7cbe07122aeb'}), manufactured=KGQuery([<class 'fairgraph.openminds.core.products.setup.Setup'>], {'manufacturers': 'https://kg.ebrains.eu/api/instances/06b071dc-88a4-47ca-a9ba-7cbe07122aeb'}), published=KGQuery([<class 'fairgraph.openminds.publications.book.Book'>, <class 'fairgraph.openminds.publications.chapter.Chapter'>, <class 'fairgraph.openminds.publications.learning_resource.LearningResource'>, <class 'fairgraph.openminds.publications.scholarly_article.ScholarlyArticle'>], {'publisher': 'https://kg.ebrains.eu/api/instances/06b071dc-88a4-47ca-a9ba-7cbe07122aeb'}), started=KGQuery([<class 'fairgraph.openminds.computation.data_analysis.DataAnalysis'>, <class 'fairgraph.openminds.computation.data_copy.DataCopy'>, <class 'fairgraph.openminds.computation.generic_computation.GenericComputation'>, <class 'fairgraph.openminds.computation.model_validation.ModelValidation'>, <class 'fairgraph.openminds.computation.optimization.Optimization'>, <class 'fairgraph.openminds.computation.simulation.Simulation'>, <class 'fairgraph.openminds.computation.visualization.Visualization'>, <class 'fairgraph.openminds.computation.workflow_execution.WorkflowExecution'>], {'started_by': 'https://kg.ebrains.eu/api/instances/06b071dc-88a4-47ca-a9ba-7cbe07122aeb'}), space=common, id=https://kg.ebrains.eu/api/instances/06b071dc-88a4-47ca-a9ba-7cbe07122aeb),\n",
       " Person(affiliations=Affiliation(member_of=KGProxy((<class 'fairgraph.openminds.core.actors.consortium.Consortium'>, <class 'fairgraph.openminds.core.actors.organization.Organization'>), 'https://kg.ebrains.eu/api/instances/05c23d56-b27e-4cf2-8c47-ed12c1a441e7')), contact_information=KGProxy([<class 'fairgraph.openminds.core.actors.contact_information.ContactInformation'>], 'https://kg.ebrains.eu/api/instances/5fe76f2a-2bf4-4dc4-8d74-b4c348602dd5'), family_name='Del Percio', given_name='Claudio', activities=KGQuery([<class 'fairgraph.openminds.core.research.protocol_execution.ProtocolExecution'>, <class 'fairgraph.openminds.ephys.activity.cell_patching.CellPatching'>, <class 'fairgraph.openminds.ephys.activity.electrode_placement.ElectrodePlacement'>, <class 'fairgraph.openminds.ephys.activity.recording_activity.RecordingActivity'>, <class 'fairgraph.openminds.specimen_prep.activity.cranial_window_preparation.CranialWindowPreparation'>, <class 'fairgraph.openminds.specimen_prep.activity.tissue_culture_preparation.TissueCulturePreparation'>, <class 'fairgraph.openminds.specimen_prep.activity.tissue_sample_slicing.TissueSampleSlicing'>, <class 'fairgraph.openminds.stimulation.activity.stimulation_activity.StimulationActivity'>], {'performed_by': 'https://kg.ebrains.eu/api/instances/06b58add-1659-4d52-bf1b-39854693630a'}), comments=KGQuery([<class 'fairgraph.openminds.core.miscellaneous.comment.Comment'>], {'commenter': 'https://kg.ebrains.eu/api/instances/06b58add-1659-4d52-bf1b-39854693630a'}), coordinated_projects=KGQuery([<class 'fairgraph.openminds.core.products.project.Project'>], {'coordinators': 'https://kg.ebrains.eu/api/instances/06b58add-1659-4d52-bf1b-39854693630a'}), developed=KGQuery([<class 'fairgraph.openminds.computation.validation_test.ValidationTest'>, <class 'fairgraph.openminds.computation.validation_test_version.ValidationTestVersion'>, <class 'fairgraph.openminds.computation.workflow_recipe.WorkflowRecipe'>, <class 'fairgraph.openminds.computation.workflow_recipe_version.WorkflowRecipeVersion'>, <class 'fairgraph.openminds.core.products.meta_data_model.MetaDataModel'>, <class 'fairgraph.openminds.core.products.meta_data_model_version.MetaDataModelVersion'>, <class 'fairgraph.openminds.core.products.model.Model'>, <class 'fairgraph.openminds.core.products.model_version.ModelVersion'>, <class 'fairgraph.openminds.core.products.software.Software'>, <class 'fairgraph.openminds.core.products.software_version.SoftwareVersion'>, <class 'fairgraph.openminds.core.products.web_service.WebService'>, <class 'fairgraph.openminds.core.products.web_service_version.WebServiceVersion'>], {'developers': 'https://kg.ebrains.eu/api/instances/06b58add-1659-4d52-bf1b-39854693630a'}), funded=KGQuery([<class 'fairgraph.openminds.core.miscellaneous.funding.Funding'>], {'funder': 'https://kg.ebrains.eu/api/instances/06b58add-1659-4d52-bf1b-39854693630a'}), is_custodian_of=KGQuery([<class 'fairgraph.openminds.core.products.dataset.Dataset'>, <class 'fairgraph.openminds.core.products.dataset_version.DatasetVersion'>, <class 'fairgraph.openminds.publications.live_paper.LivePaper'>, <class 'fairgraph.openminds.publications.live_paper_version.LivePaperVersion'>, <class 'fairgraph.openminds.sands.atlas.brain_atlas.BrainAtlas'>, <class 'fairgraph.openminds.sands.atlas.brain_atlas_version.BrainAtlasVersion'>, <class 'fairgraph.openminds.sands.atlas.common_coordinate_space.CommonCoordinateSpace'>, <class 'fairgraph.openminds.sands.atlas.common_coordinate_space_version.CommonCoordinateSpaceVersion'>], {'custodians': 'https://kg.ebrains.eu/api/instances/06b58add-1659-4d52-bf1b-39854693630a'}), is_owner_of=KGQuery([<class 'fairgraph.openminds.ephys.device.electrode.Electrode'>, <class 'fairgraph.openminds.ephys.device.electrode_array.ElectrodeArray'>, <class 'fairgraph.openminds.ephys.device.pipette.Pipette'>, <class 'fairgraph.openminds.specimen_prep.device.slicing_device.SlicingDevice'>], {'owners': 'https://kg.ebrains.eu/api/instances/06b58add-1659-4d52-bf1b-39854693630a'}), is_provider_of=KGQuery([<class 'fairgraph.openminds.chemicals.product_source.ProductSource'>], {'provider': 'https://kg.ebrains.eu/api/instances/06b58add-1659-4d52-bf1b-39854693630a'}), manufactured=KGQuery([<class 'fairgraph.openminds.core.products.setup.Setup'>], {'manufacturers': 'https://kg.ebrains.eu/api/instances/06b58add-1659-4d52-bf1b-39854693630a'}), published=KGQuery([<class 'fairgraph.openminds.publications.book.Book'>, <class 'fairgraph.openminds.publications.chapter.Chapter'>, <class 'fairgraph.openminds.publications.learning_resource.LearningResource'>, <class 'fairgraph.openminds.publications.scholarly_article.ScholarlyArticle'>], {'publisher': 'https://kg.ebrains.eu/api/instances/06b58add-1659-4d52-bf1b-39854693630a'}), started=KGQuery([<class 'fairgraph.openminds.computation.data_analysis.DataAnalysis'>, <class 'fairgraph.openminds.computation.data_copy.DataCopy'>, <class 'fairgraph.openminds.computation.generic_computation.GenericComputation'>, <class 'fairgraph.openminds.computation.model_validation.ModelValidation'>, <class 'fairgraph.openminds.computation.optimization.Optimization'>, <class 'fairgraph.openminds.computation.simulation.Simulation'>, <class 'fairgraph.openminds.computation.visualization.Visualization'>, <class 'fairgraph.openminds.computation.workflow_execution.WorkflowExecution'>], {'started_by': 'https://kg.ebrains.eu/api/instances/06b58add-1659-4d52-bf1b-39854693630a'}), space=common, id=https://kg.ebrains.eu/api/instances/06b58add-1659-4d52-bf1b-39854693630a),\n",
       " Person(family_name='Schroeder', given_name='Tim', activities=KGQuery([<class 'fairgraph.openminds.core.research.protocol_execution.ProtocolExecution'>, <class 'fairgraph.openminds.ephys.activity.cell_patching.CellPatching'>, <class 'fairgraph.openminds.ephys.activity.electrode_placement.ElectrodePlacement'>, <class 'fairgraph.openminds.ephys.activity.recording_activity.RecordingActivity'>, <class 'fairgraph.openminds.specimen_prep.activity.cranial_window_preparation.CranialWindowPreparation'>, <class 'fairgraph.openminds.specimen_prep.activity.tissue_culture_preparation.TissueCulturePreparation'>, <class 'fairgraph.openminds.specimen_prep.activity.tissue_sample_slicing.TissueSampleSlicing'>, <class 'fairgraph.openminds.stimulation.activity.stimulation_activity.StimulationActivity'>], {'performed_by': 'https://kg.ebrains.eu/api/instances/06e5cc99-c209-4e6c-be6b-bff7e1d0a5c4'}), comments=KGQuery([<class 'fairgraph.openminds.core.miscellaneous.comment.Comment'>], {'commenter': 'https://kg.ebrains.eu/api/instances/06e5cc99-c209-4e6c-be6b-bff7e1d0a5c4'}), coordinated_projects=KGQuery([<class 'fairgraph.openminds.core.products.project.Project'>], {'coordinators': 'https://kg.ebrains.eu/api/instances/06e5cc99-c209-4e6c-be6b-bff7e1d0a5c4'}), developed=KGQuery([<class 'fairgraph.openminds.computation.validation_test.ValidationTest'>, <class 'fairgraph.openminds.computation.validation_test_version.ValidationTestVersion'>, <class 'fairgraph.openminds.computation.workflow_recipe.WorkflowRecipe'>, <class 'fairgraph.openminds.computation.workflow_recipe_version.WorkflowRecipeVersion'>, <class 'fairgraph.openminds.core.products.meta_data_model.MetaDataModel'>, <class 'fairgraph.openminds.core.products.meta_data_model_version.MetaDataModelVersion'>, <class 'fairgraph.openminds.core.products.model.Model'>, <class 'fairgraph.openminds.core.products.model_version.ModelVersion'>, <class 'fairgraph.openminds.core.products.software.Software'>, <class 'fairgraph.openminds.core.products.software_version.SoftwareVersion'>, <class 'fairgraph.openminds.core.products.web_service.WebService'>, <class 'fairgraph.openminds.core.products.web_service_version.WebServiceVersion'>], {'developers': 'https://kg.ebrains.eu/api/instances/06e5cc99-c209-4e6c-be6b-bff7e1d0a5c4'}), funded=KGQuery([<class 'fairgraph.openminds.core.miscellaneous.funding.Funding'>], {'funder': 'https://kg.ebrains.eu/api/instances/06e5cc99-c209-4e6c-be6b-bff7e1d0a5c4'}), is_custodian_of=KGQuery([<class 'fairgraph.openminds.core.products.dataset.Dataset'>, <class 'fairgraph.openminds.core.products.dataset_version.DatasetVersion'>, <class 'fairgraph.openminds.publications.live_paper.LivePaper'>, <class 'fairgraph.openminds.publications.live_paper_version.LivePaperVersion'>, <class 'fairgraph.openminds.sands.atlas.brain_atlas.BrainAtlas'>, <class 'fairgraph.openminds.sands.atlas.brain_atlas_version.BrainAtlasVersion'>, <class 'fairgraph.openminds.sands.atlas.common_coordinate_space.CommonCoordinateSpace'>, <class 'fairgraph.openminds.sands.atlas.common_coordinate_space_version.CommonCoordinateSpaceVersion'>], {'custodians': 'https://kg.ebrains.eu/api/instances/06e5cc99-c209-4e6c-be6b-bff7e1d0a5c4'}), is_owner_of=KGQuery([<class 'fairgraph.openminds.ephys.device.electrode.Electrode'>, <class 'fairgraph.openminds.ephys.device.electrode_array.ElectrodeArray'>, <class 'fairgraph.openminds.ephys.device.pipette.Pipette'>, <class 'fairgraph.openminds.specimen_prep.device.slicing_device.SlicingDevice'>], {'owners': 'https://kg.ebrains.eu/api/instances/06e5cc99-c209-4e6c-be6b-bff7e1d0a5c4'}), is_provider_of=KGQuery([<class 'fairgraph.openminds.chemicals.product_source.ProductSource'>], {'provider': 'https://kg.ebrains.eu/api/instances/06e5cc99-c209-4e6c-be6b-bff7e1d0a5c4'}), manufactured=KGQuery([<class 'fairgraph.openminds.core.products.setup.Setup'>], {'manufacturers': 'https://kg.ebrains.eu/api/instances/06e5cc99-c209-4e6c-be6b-bff7e1d0a5c4'}), published=KGQuery([<class 'fairgraph.openminds.publications.book.Book'>, <class 'fairgraph.openminds.publications.chapter.Chapter'>, <class 'fairgraph.openminds.publications.learning_resource.LearningResource'>, <class 'fairgraph.openminds.publications.scholarly_article.ScholarlyArticle'>], {'publisher': 'https://kg.ebrains.eu/api/instances/06e5cc99-c209-4e6c-be6b-bff7e1d0a5c4'}), started=KGQuery([<class 'fairgraph.openminds.computation.data_analysis.DataAnalysis'>, <class 'fairgraph.openminds.computation.data_copy.DataCopy'>, <class 'fairgraph.openminds.computation.generic_computation.GenericComputation'>, <class 'fairgraph.openminds.computation.model_validation.ModelValidation'>, <class 'fairgraph.openminds.computation.optimization.Optimization'>, <class 'fairgraph.openminds.computation.simulation.Simulation'>, <class 'fairgraph.openminds.computation.visualization.Visualization'>, <class 'fairgraph.openminds.computation.workflow_execution.WorkflowExecution'>], {'started_by': 'https://kg.ebrains.eu/api/instances/06e5cc99-c209-4e6c-be6b-bff7e1d0a5c4'}), space=common, id=https://kg.ebrains.eu/api/instances/06e5cc99-c209-4e6c-be6b-bff7e1d0a5c4),\n",
       " Person(affiliations=Affiliation(member_of=KGProxy((<class 'fairgraph.openminds.core.actors.consortium.Consortium'>, <class 'fairgraph.openminds.core.actors.organization.Organization'>), 'https://kg.ebrains.eu/api/instances/d3c14625-a311-4c87-9830-16435c07473d')), digital_identifiers=KGProxy([<class 'fairgraph.openminds.core.digital_identifier.orcid.ORCID'>], 'https://kg.ebrains.eu/api/instances/8745faa8-157a-420e-8cd9-06fb7a2588e7'), family_name='Worthy', given_name='Katrina H.', activities=KGQuery([<class 'fairgraph.openminds.core.research.protocol_execution.ProtocolExecution'>, <class 'fairgraph.openminds.ephys.activity.cell_patching.CellPatching'>, <class 'fairgraph.openminds.ephys.activity.electrode_placement.ElectrodePlacement'>, <class 'fairgraph.openminds.ephys.activity.recording_activity.RecordingActivity'>, <class 'fairgraph.openminds.specimen_prep.activity.cranial_window_preparation.CranialWindowPreparation'>, <class 'fairgraph.openminds.specimen_prep.activity.tissue_culture_preparation.TissueCulturePreparation'>, <class 'fairgraph.openminds.specimen_prep.activity.tissue_sample_slicing.TissueSampleSlicing'>, <class 'fairgraph.openminds.stimulation.activity.stimulation_activity.StimulationActivity'>], {'performed_by': 'https://kg.ebrains.eu/api/instances/06ed5cfe-99d7-42ea-8755-5a32331de040'}), comments=KGQuery([<class 'fairgraph.openminds.core.miscellaneous.comment.Comment'>], {'commenter': 'https://kg.ebrains.eu/api/instances/06ed5cfe-99d7-42ea-8755-5a32331de040'}), coordinated_projects=KGQuery([<class 'fairgraph.openminds.core.products.project.Project'>], {'coordinators': 'https://kg.ebrains.eu/api/instances/06ed5cfe-99d7-42ea-8755-5a32331de040'}), developed=KGQuery([<class 'fairgraph.openminds.computation.validation_test.ValidationTest'>, <class 'fairgraph.openminds.computation.validation_test_version.ValidationTestVersion'>, <class 'fairgraph.openminds.computation.workflow_recipe.WorkflowRecipe'>, <class 'fairgraph.openminds.computation.workflow_recipe_version.WorkflowRecipeVersion'>, <class 'fairgraph.openminds.core.products.meta_data_model.MetaDataModel'>, <class 'fairgraph.openminds.core.products.meta_data_model_version.MetaDataModelVersion'>, <class 'fairgraph.openminds.core.products.model.Model'>, <class 'fairgraph.openminds.core.products.model_version.ModelVersion'>, <class 'fairgraph.openminds.core.products.software.Software'>, <class 'fairgraph.openminds.core.products.software_version.SoftwareVersion'>, <class 'fairgraph.openminds.core.products.web_service.WebService'>, <class 'fairgraph.openminds.core.products.web_service_version.WebServiceVersion'>], {'developers': 'https://kg.ebrains.eu/api/instances/06ed5cfe-99d7-42ea-8755-5a32331de040'}), funded=KGQuery([<class 'fairgraph.openminds.core.miscellaneous.funding.Funding'>], {'funder': 'https://kg.ebrains.eu/api/instances/06ed5cfe-99d7-42ea-8755-5a32331de040'}), is_custodian_of=KGQuery([<class 'fairgraph.openminds.core.products.dataset.Dataset'>, <class 'fairgraph.openminds.core.products.dataset_version.DatasetVersion'>, <class 'fairgraph.openminds.publications.live_paper.LivePaper'>, <class 'fairgraph.openminds.publications.live_paper_version.LivePaperVersion'>, <class 'fairgraph.openminds.sands.atlas.brain_atlas.BrainAtlas'>, <class 'fairgraph.openminds.sands.atlas.brain_atlas_version.BrainAtlasVersion'>, <class 'fairgraph.openminds.sands.atlas.common_coordinate_space.CommonCoordinateSpace'>, <class 'fairgraph.openminds.sands.atlas.common_coordinate_space_version.CommonCoordinateSpaceVersion'>], {'custodians': 'https://kg.ebrains.eu/api/instances/06ed5cfe-99d7-42ea-8755-5a32331de040'}), is_owner_of=KGQuery([<class 'fairgraph.openminds.ephys.device.electrode.Electrode'>, <class 'fairgraph.openminds.ephys.device.electrode_array.ElectrodeArray'>, <class 'fairgraph.openminds.ephys.device.pipette.Pipette'>, <class 'fairgraph.openminds.specimen_prep.device.slicing_device.SlicingDevice'>], {'owners': 'https://kg.ebrains.eu/api/instances/06ed5cfe-99d7-42ea-8755-5a32331de040'}), is_provider_of=KGQuery([<class 'fairgraph.openminds.chemicals.product_source.ProductSource'>], {'provider': 'https://kg.ebrains.eu/api/instances/06ed5cfe-99d7-42ea-8755-5a32331de040'}), manufactured=KGQuery([<class 'fairgraph.openminds.core.products.setup.Setup'>], {'manufacturers': 'https://kg.ebrains.eu/api/instances/06ed5cfe-99d7-42ea-8755-5a32331de040'}), published=KGQuery([<class 'fairgraph.openminds.publications.book.Book'>, <class 'fairgraph.openminds.publications.chapter.Chapter'>, <class 'fairgraph.openminds.publications.learning_resource.LearningResource'>, <class 'fairgraph.openminds.publications.scholarly_article.ScholarlyArticle'>], {'publisher': 'https://kg.ebrains.eu/api/instances/06ed5cfe-99d7-42ea-8755-5a32331de040'}), started=KGQuery([<class 'fairgraph.openminds.computation.data_analysis.DataAnalysis'>, <class 'fairgraph.openminds.computation.data_copy.DataCopy'>, <class 'fairgraph.openminds.computation.generic_computation.GenericComputation'>, <class 'fairgraph.openminds.computation.model_validation.ModelValidation'>, <class 'fairgraph.openminds.computation.optimization.Optimization'>, <class 'fairgraph.openminds.computation.simulation.Simulation'>, <class 'fairgraph.openminds.computation.visualization.Visualization'>, <class 'fairgraph.openminds.computation.workflow_execution.WorkflowExecution'>], {'started_by': 'https://kg.ebrains.eu/api/instances/06ed5cfe-99d7-42ea-8755-5a32331de040'}), space=common, id=https://kg.ebrains.eu/api/instances/06ed5cfe-99d7-42ea-8755-5a32331de040),\n",
       " Person(contact_information=KGProxy([<class 'fairgraph.openminds.core.actors.contact_information.ContactInformation'>], 'https://kg.ebrains.eu/api/instances/ddb40044-1edc-48f2-b4c2-1ab70d428cde'), digital_identifiers=KGProxy([<class 'fairgraph.openminds.core.digital_identifier.orcid.ORCID'>], 'https://kg.ebrains.eu/api/instances/26085365-8703-410e-9b24-272627f83587'), family_name='Andermann', given_name='Mark', activities=KGQuery([<class 'fairgraph.openminds.core.research.protocol_execution.ProtocolExecution'>, <class 'fairgraph.openminds.ephys.activity.cell_patching.CellPatching'>, <class 'fairgraph.openminds.ephys.activity.electrode_placement.ElectrodePlacement'>, <class 'fairgraph.openminds.ephys.activity.recording_activity.RecordingActivity'>, <class 'fairgraph.openminds.specimen_prep.activity.cranial_window_preparation.CranialWindowPreparation'>, <class 'fairgraph.openminds.specimen_prep.activity.tissue_culture_preparation.TissueCulturePreparation'>, <class 'fairgraph.openminds.specimen_prep.activity.tissue_sample_slicing.TissueSampleSlicing'>, <class 'fairgraph.openminds.stimulation.activity.stimulation_activity.StimulationActivity'>], {'performed_by': 'https://kg.ebrains.eu/api/instances/06fc8a34-d4b8-497d-8f0c-a7668a62ec0c'}), comments=KGQuery([<class 'fairgraph.openminds.core.miscellaneous.comment.Comment'>], {'commenter': 'https://kg.ebrains.eu/api/instances/06fc8a34-d4b8-497d-8f0c-a7668a62ec0c'}), coordinated_projects=KGQuery([<class 'fairgraph.openminds.core.products.project.Project'>], {'coordinators': 'https://kg.ebrains.eu/api/instances/06fc8a34-d4b8-497d-8f0c-a7668a62ec0c'}), developed=KGQuery([<class 'fairgraph.openminds.computation.validation_test.ValidationTest'>, <class 'fairgraph.openminds.computation.validation_test_version.ValidationTestVersion'>, <class 'fairgraph.openminds.computation.workflow_recipe.WorkflowRecipe'>, <class 'fairgraph.openminds.computation.workflow_recipe_version.WorkflowRecipeVersion'>, <class 'fairgraph.openminds.core.products.meta_data_model.MetaDataModel'>, <class 'fairgraph.openminds.core.products.meta_data_model_version.MetaDataModelVersion'>, <class 'fairgraph.openminds.core.products.model.Model'>, <class 'fairgraph.openminds.core.products.model_version.ModelVersion'>, <class 'fairgraph.openminds.core.products.software.Software'>, <class 'fairgraph.openminds.core.products.software_version.SoftwareVersion'>, <class 'fairgraph.openminds.core.products.web_service.WebService'>, <class 'fairgraph.openminds.core.products.web_service_version.WebServiceVersion'>], {'developers': 'https://kg.ebrains.eu/api/instances/06fc8a34-d4b8-497d-8f0c-a7668a62ec0c'}), funded=KGQuery([<class 'fairgraph.openminds.core.miscellaneous.funding.Funding'>], {'funder': 'https://kg.ebrains.eu/api/instances/06fc8a34-d4b8-497d-8f0c-a7668a62ec0c'}), is_custodian_of=KGQuery([<class 'fairgraph.openminds.core.products.dataset.Dataset'>, <class 'fairgraph.openminds.core.products.dataset_version.DatasetVersion'>, <class 'fairgraph.openminds.publications.live_paper.LivePaper'>, <class 'fairgraph.openminds.publications.live_paper_version.LivePaperVersion'>, <class 'fairgraph.openminds.sands.atlas.brain_atlas.BrainAtlas'>, <class 'fairgraph.openminds.sands.atlas.brain_atlas_version.BrainAtlasVersion'>, <class 'fairgraph.openminds.sands.atlas.common_coordinate_space.CommonCoordinateSpace'>, <class 'fairgraph.openminds.sands.atlas.common_coordinate_space_version.CommonCoordinateSpaceVersion'>], {'custodians': 'https://kg.ebrains.eu/api/instances/06fc8a34-d4b8-497d-8f0c-a7668a62ec0c'}), is_owner_of=KGQuery([<class 'fairgraph.openminds.ephys.device.electrode.Electrode'>, <class 'fairgraph.openminds.ephys.device.electrode_array.ElectrodeArray'>, <class 'fairgraph.openminds.ephys.device.pipette.Pipette'>, <class 'fairgraph.openminds.specimen_prep.device.slicing_device.SlicingDevice'>], {'owners': 'https://kg.ebrains.eu/api/instances/06fc8a34-d4b8-497d-8f0c-a7668a62ec0c'}), is_provider_of=KGQuery([<class 'fairgraph.openminds.chemicals.product_source.ProductSource'>], {'provider': 'https://kg.ebrains.eu/api/instances/06fc8a34-d4b8-497d-8f0c-a7668a62ec0c'}), manufactured=KGQuery([<class 'fairgraph.openminds.core.products.setup.Setup'>], {'manufacturers': 'https://kg.ebrains.eu/api/instances/06fc8a34-d4b8-497d-8f0c-a7668a62ec0c'}), published=KGQuery([<class 'fairgraph.openminds.publications.book.Book'>, <class 'fairgraph.openminds.publications.chapter.Chapter'>, <class 'fairgraph.openminds.publications.learning_resource.LearningResource'>, <class 'fairgraph.openminds.publications.scholarly_article.ScholarlyArticle'>], {'publisher': 'https://kg.ebrains.eu/api/instances/06fc8a34-d4b8-497d-8f0c-a7668a62ec0c'}), started=KGQuery([<class 'fairgraph.openminds.computation.data_analysis.DataAnalysis'>, <class 'fairgraph.openminds.computation.data_copy.DataCopy'>, <class 'fairgraph.openminds.computation.generic_computation.GenericComputation'>, <class 'fairgraph.openminds.computation.model_validation.ModelValidation'>, <class 'fairgraph.openminds.computation.optimization.Optimization'>, <class 'fairgraph.openminds.computation.simulation.Simulation'>, <class 'fairgraph.openminds.computation.visualization.Visualization'>, <class 'fairgraph.openminds.computation.workflow_execution.WorkflowExecution'>], {'started_by': 'https://kg.ebrains.eu/api/instances/06fc8a34-d4b8-497d-8f0c-a7668a62ec0c'}), space=common, id=https://kg.ebrains.eu/api/instances/06fc8a34-d4b8-497d-8f0c-a7668a62ec0c),\n",
       " Person(family_name='Reich', given_name='Lior ', activities=KGQuery([<class 'fairgraph.openminds.core.research.protocol_execution.ProtocolExecution'>, <class 'fairgraph.openminds.ephys.activity.cell_patching.CellPatching'>, <class 'fairgraph.openminds.ephys.activity.electrode_placement.ElectrodePlacement'>, <class 'fairgraph.openminds.ephys.activity.recording_activity.RecordingActivity'>, <class 'fairgraph.openminds.specimen_prep.activity.cranial_window_preparation.CranialWindowPreparation'>, <class 'fairgraph.openminds.specimen_prep.activity.tissue_culture_preparation.TissueCulturePreparation'>, <class 'fairgraph.openminds.specimen_prep.activity.tissue_sample_slicing.TissueSampleSlicing'>, <class 'fairgraph.openminds.stimulation.activity.stimulation_activity.StimulationActivity'>], {'performed_by': 'https://kg.ebrains.eu/api/instances/070a8cb1-7c5a-4d1f-8471-500b5035affa'}), comments=KGQuery([<class 'fairgraph.openminds.core.miscellaneous.comment.Comment'>], {'commenter': 'https://kg.ebrains.eu/api/instances/070a8cb1-7c5a-4d1f-8471-500b5035affa'}), coordinated_projects=KGQuery([<class 'fairgraph.openminds.core.products.project.Project'>], {'coordinators': 'https://kg.ebrains.eu/api/instances/070a8cb1-7c5a-4d1f-8471-500b5035affa'}), developed=KGQuery([<class 'fairgraph.openminds.computation.validation_test.ValidationTest'>, <class 'fairgraph.openminds.computation.validation_test_version.ValidationTestVersion'>, <class 'fairgraph.openminds.computation.workflow_recipe.WorkflowRecipe'>, <class 'fairgraph.openminds.computation.workflow_recipe_version.WorkflowRecipeVersion'>, <class 'fairgraph.openminds.core.products.meta_data_model.MetaDataModel'>, <class 'fairgraph.openminds.core.products.meta_data_model_version.MetaDataModelVersion'>, <class 'fairgraph.openminds.core.products.model.Model'>, <class 'fairgraph.openminds.core.products.model_version.ModelVersion'>, <class 'fairgraph.openminds.core.products.software.Software'>, <class 'fairgraph.openminds.core.products.software_version.SoftwareVersion'>, <class 'fairgraph.openminds.core.products.web_service.WebService'>, <class 'fairgraph.openminds.core.products.web_service_version.WebServiceVersion'>], {'developers': 'https://kg.ebrains.eu/api/instances/070a8cb1-7c5a-4d1f-8471-500b5035affa'}), funded=KGQuery([<class 'fairgraph.openminds.core.miscellaneous.funding.Funding'>], {'funder': 'https://kg.ebrains.eu/api/instances/070a8cb1-7c5a-4d1f-8471-500b5035affa'}), is_custodian_of=KGQuery([<class 'fairgraph.openminds.core.products.dataset.Dataset'>, <class 'fairgraph.openminds.core.products.dataset_version.DatasetVersion'>, <class 'fairgraph.openminds.publications.live_paper.LivePaper'>, <class 'fairgraph.openminds.publications.live_paper_version.LivePaperVersion'>, <class 'fairgraph.openminds.sands.atlas.brain_atlas.BrainAtlas'>, <class 'fairgraph.openminds.sands.atlas.brain_atlas_version.BrainAtlasVersion'>, <class 'fairgraph.openminds.sands.atlas.common_coordinate_space.CommonCoordinateSpace'>, <class 'fairgraph.openminds.sands.atlas.common_coordinate_space_version.CommonCoordinateSpaceVersion'>], {'custodians': 'https://kg.ebrains.eu/api/instances/070a8cb1-7c5a-4d1f-8471-500b5035affa'}), is_owner_of=KGQuery([<class 'fairgraph.openminds.ephys.device.electrode.Electrode'>, <class 'fairgraph.openminds.ephys.device.electrode_array.ElectrodeArray'>, <class 'fairgraph.openminds.ephys.device.pipette.Pipette'>, <class 'fairgraph.openminds.specimen_prep.device.slicing_device.SlicingDevice'>], {'owners': 'https://kg.ebrains.eu/api/instances/070a8cb1-7c5a-4d1f-8471-500b5035affa'}), is_provider_of=KGQuery([<class 'fairgraph.openminds.chemicals.product_source.ProductSource'>], {'provider': 'https://kg.ebrains.eu/api/instances/070a8cb1-7c5a-4d1f-8471-500b5035affa'}), manufactured=KGQuery([<class 'fairgraph.openminds.core.products.setup.Setup'>], {'manufacturers': 'https://kg.ebrains.eu/api/instances/070a8cb1-7c5a-4d1f-8471-500b5035affa'}), published=KGQuery([<class 'fairgraph.openminds.publications.book.Book'>, <class 'fairgraph.openminds.publications.chapter.Chapter'>, <class 'fairgraph.openminds.publications.learning_resource.LearningResource'>, <class 'fairgraph.openminds.publications.scholarly_article.ScholarlyArticle'>], {'publisher': 'https://kg.ebrains.eu/api/instances/070a8cb1-7c5a-4d1f-8471-500b5035affa'}), started=KGQuery([<class 'fairgraph.openminds.computation.data_analysis.DataAnalysis'>, <class 'fairgraph.openminds.computation.data_copy.DataCopy'>, <class 'fairgraph.openminds.computation.generic_computation.GenericComputation'>, <class 'fairgraph.openminds.computation.model_validation.ModelValidation'>, <class 'fairgraph.openminds.computation.optimization.Optimization'>, <class 'fairgraph.openminds.computation.simulation.Simulation'>, <class 'fairgraph.openminds.computation.visualization.Visualization'>, <class 'fairgraph.openminds.computation.workflow_execution.WorkflowExecution'>], {'started_by': 'https://kg.ebrains.eu/api/instances/070a8cb1-7c5a-4d1f-8471-500b5035affa'}), space=common, id=https://kg.ebrains.eu/api/instances/070a8cb1-7c5a-4d1f-8471-500b5035affa),\n",
       " Person(affiliations=Affiliation(member_of=KGProxy((<class 'fairgraph.openminds.core.actors.consortium.Consortium'>, <class 'fairgraph.openminds.core.actors.organization.Organization'>), 'https://kg.ebrains.eu/api/instances/39d92bb7-0448-4c52-9002-46f151664079'), start_date=datetime.datetime(2013, 9, 15, 0, 0)), contact_information=KGProxy([<class 'fairgraph.openminds.core.actors.contact_information.ContactInformation'>], 'https://kg.ebrains.eu/api/instances/76f268d1-8411-4a57-8342-13bb67cbbf3d'), digital_identifiers=KGProxy([<class 'fairgraph.openminds.core.digital_identifier.orcid.ORCID'>], 'https://kg.ebrains.eu/api/instances/030ced66-4a11-4f13-bbf2-fe4804e1d585'), family_name='Bogdan', given_name='Petruț Antoniu', activities=KGQuery([<class 'fairgraph.openminds.core.research.protocol_execution.ProtocolExecution'>, <class 'fairgraph.openminds.ephys.activity.cell_patching.CellPatching'>, <class 'fairgraph.openminds.ephys.activity.electrode_placement.ElectrodePlacement'>, <class 'fairgraph.openminds.ephys.activity.recording_activity.RecordingActivity'>, <class 'fairgraph.openminds.specimen_prep.activity.cranial_window_preparation.CranialWindowPreparation'>, <class 'fairgraph.openminds.specimen_prep.activity.tissue_culture_preparation.TissueCulturePreparation'>, <class 'fairgraph.openminds.specimen_prep.activity.tissue_sample_slicing.TissueSampleSlicing'>, <class 'fairgraph.openminds.stimulation.activity.stimulation_activity.StimulationActivity'>], {'performed_by': 'https://kg.ebrains.eu/api/instances/07121e66-2fe2-45e7-a44a-26f41d2c953f'}), comments=KGQuery([<class 'fairgraph.openminds.core.miscellaneous.comment.Comment'>], {'commenter': 'https://kg.ebrains.eu/api/instances/07121e66-2fe2-45e7-a44a-26f41d2c953f'}), coordinated_projects=KGQuery([<class 'fairgraph.openminds.core.products.project.Project'>], {'coordinators': 'https://kg.ebrains.eu/api/instances/07121e66-2fe2-45e7-a44a-26f41d2c953f'}), developed=KGQuery([<class 'fairgraph.openminds.computation.validation_test.ValidationTest'>, <class 'fairgraph.openminds.computation.validation_test_version.ValidationTestVersion'>, <class 'fairgraph.openminds.computation.workflow_recipe.WorkflowRecipe'>, <class 'fairgraph.openminds.computation.workflow_recipe_version.WorkflowRecipeVersion'>, <class 'fairgraph.openminds.core.products.meta_data_model.MetaDataModel'>, <class 'fairgraph.openminds.core.products.meta_data_model_version.MetaDataModelVersion'>, <class 'fairgraph.openminds.core.products.model.Model'>, <class 'fairgraph.openminds.core.products.model_version.ModelVersion'>, <class 'fairgraph.openminds.core.products.software.Software'>, <class 'fairgraph.openminds.core.products.software_version.SoftwareVersion'>, <class 'fairgraph.openminds.core.products.web_service.WebService'>, <class 'fairgraph.openminds.core.products.web_service_version.WebServiceVersion'>], {'developers': 'https://kg.ebrains.eu/api/instances/07121e66-2fe2-45e7-a44a-26f41d2c953f'}), funded=KGQuery([<class 'fairgraph.openminds.core.miscellaneous.funding.Funding'>], {'funder': 'https://kg.ebrains.eu/api/instances/07121e66-2fe2-45e7-a44a-26f41d2c953f'}), is_custodian_of=KGQuery([<class 'fairgraph.openminds.core.products.dataset.Dataset'>, <class 'fairgraph.openminds.core.products.dataset_version.DatasetVersion'>, <class 'fairgraph.openminds.publications.live_paper.LivePaper'>, <class 'fairgraph.openminds.publications.live_paper_version.LivePaperVersion'>, <class 'fairgraph.openminds.sands.atlas.brain_atlas.BrainAtlas'>, <class 'fairgraph.openminds.sands.atlas.brain_atlas_version.BrainAtlasVersion'>, <class 'fairgraph.openminds.sands.atlas.common_coordinate_space.CommonCoordinateSpace'>, <class 'fairgraph.openminds.sands.atlas.common_coordinate_space_version.CommonCoordinateSpaceVersion'>], {'custodians': 'https://kg.ebrains.eu/api/instances/07121e66-2fe2-45e7-a44a-26f41d2c953f'}), is_owner_of=KGQuery([<class 'fairgraph.openminds.ephys.device.electrode.Electrode'>, <class 'fairgraph.openminds.ephys.device.electrode_array.ElectrodeArray'>, <class 'fairgraph.openminds.ephys.device.pipette.Pipette'>, <class 'fairgraph.openminds.specimen_prep.device.slicing_device.SlicingDevice'>], {'owners': 'https://kg.ebrains.eu/api/instances/07121e66-2fe2-45e7-a44a-26f41d2c953f'}), is_provider_of=KGQuery([<class 'fairgraph.openminds.chemicals.product_source.ProductSource'>], {'provider': 'https://kg.ebrains.eu/api/instances/07121e66-2fe2-45e7-a44a-26f41d2c953f'}), manufactured=KGQuery([<class 'fairgraph.openminds.core.products.setup.Setup'>], {'manufacturers': 'https://kg.ebrains.eu/api/instances/07121e66-2fe2-45e7-a44a-26f41d2c953f'}), published=KGQuery([<class 'fairgraph.openminds.publications.book.Book'>, <class 'fairgraph.openminds.publications.chapter.Chapter'>, <class 'fairgraph.openminds.publications.learning_resource.LearningResource'>, <class 'fairgraph.openminds.publications.scholarly_article.ScholarlyArticle'>], {'publisher': 'https://kg.ebrains.eu/api/instances/07121e66-2fe2-45e7-a44a-26f41d2c953f'}), started=KGQuery([<class 'fairgraph.openminds.computation.data_analysis.DataAnalysis'>, <class 'fairgraph.openminds.computation.data_copy.DataCopy'>, <class 'fairgraph.openminds.computation.generic_computation.GenericComputation'>, <class 'fairgraph.openminds.computation.model_validation.ModelValidation'>, <class 'fairgraph.openminds.computation.optimization.Optimization'>, <class 'fairgraph.openminds.computation.simulation.Simulation'>, <class 'fairgraph.openminds.computation.visualization.Visualization'>, <class 'fairgraph.openminds.computation.workflow_execution.WorkflowExecution'>], {'started_by': 'https://kg.ebrains.eu/api/instances/07121e66-2fe2-45e7-a44a-26f41d2c953f'}), space=common, id=https://kg.ebrains.eu/api/instances/07121e66-2fe2-45e7-a44a-26f41d2c953f),\n",
       " Person(contact_information=KGProxy([<class 'fairgraph.openminds.core.actors.contact_information.ContactInformation'>], 'https://kg.ebrains.eu/api/instances/0ee28c47-34d3-4120-895d-bed05f12934b'), family_name='Richter', given_name='Stefan', activities=KGQuery([<class 'fairgraph.openminds.core.research.protocol_execution.ProtocolExecution'>, <class 'fairgraph.openminds.ephys.activity.cell_patching.CellPatching'>, <class 'fairgraph.openminds.ephys.activity.electrode_placement.ElectrodePlacement'>, <class 'fairgraph.openminds.ephys.activity.recording_activity.RecordingActivity'>, <class 'fairgraph.openminds.specimen_prep.activity.cranial_window_preparation.CranialWindowPreparation'>, <class 'fairgraph.openminds.specimen_prep.activity.tissue_culture_preparation.TissueCulturePreparation'>, <class 'fairgraph.openminds.specimen_prep.activity.tissue_sample_slicing.TissueSampleSlicing'>, <class 'fairgraph.openminds.stimulation.activity.stimulation_activity.StimulationActivity'>], {'performed_by': 'https://kg.ebrains.eu/api/instances/071b48a2-526e-40b5-9ff9-2c599beffb72'}), comments=KGQuery([<class 'fairgraph.openminds.core.miscellaneous.comment.Comment'>], {'commenter': 'https://kg.ebrains.eu/api/instances/071b48a2-526e-40b5-9ff9-2c599beffb72'}), coordinated_projects=KGQuery([<class 'fairgraph.openminds.core.products.project.Project'>], {'coordinators': 'https://kg.ebrains.eu/api/instances/071b48a2-526e-40b5-9ff9-2c599beffb72'}), developed=KGQuery([<class 'fairgraph.openminds.computation.validation_test.ValidationTest'>, <class 'fairgraph.openminds.computation.validation_test_version.ValidationTestVersion'>, <class 'fairgraph.openminds.computation.workflow_recipe.WorkflowRecipe'>, <class 'fairgraph.openminds.computation.workflow_recipe_version.WorkflowRecipeVersion'>, <class 'fairgraph.openminds.core.products.meta_data_model.MetaDataModel'>, <class 'fairgraph.openminds.core.products.meta_data_model_version.MetaDataModelVersion'>, <class 'fairgraph.openminds.core.products.model.Model'>, <class 'fairgraph.openminds.core.products.model_version.ModelVersion'>, <class 'fairgraph.openminds.core.products.software.Software'>, <class 'fairgraph.openminds.core.products.software_version.SoftwareVersion'>, <class 'fairgraph.openminds.core.products.web_service.WebService'>, <class 'fairgraph.openminds.core.products.web_service_version.WebServiceVersion'>], {'developers': 'https://kg.ebrains.eu/api/instances/071b48a2-526e-40b5-9ff9-2c599beffb72'}), funded=KGQuery([<class 'fairgraph.openminds.core.miscellaneous.funding.Funding'>], {'funder': 'https://kg.ebrains.eu/api/instances/071b48a2-526e-40b5-9ff9-2c599beffb72'}), is_custodian_of=KGQuery([<class 'fairgraph.openminds.core.products.dataset.Dataset'>, <class 'fairgraph.openminds.core.products.dataset_version.DatasetVersion'>, <class 'fairgraph.openminds.publications.live_paper.LivePaper'>, <class 'fairgraph.openminds.publications.live_paper_version.LivePaperVersion'>, <class 'fairgraph.openminds.sands.atlas.brain_atlas.BrainAtlas'>, <class 'fairgraph.openminds.sands.atlas.brain_atlas_version.BrainAtlasVersion'>, <class 'fairgraph.openminds.sands.atlas.common_coordinate_space.CommonCoordinateSpace'>, <class 'fairgraph.openminds.sands.atlas.common_coordinate_space_version.CommonCoordinateSpaceVersion'>], {'custodians': 'https://kg.ebrains.eu/api/instances/071b48a2-526e-40b5-9ff9-2c599beffb72'}), is_owner_of=KGQuery([<class 'fairgraph.openminds.ephys.device.electrode.Electrode'>, <class 'fairgraph.openminds.ephys.device.electrode_array.ElectrodeArray'>, <class 'fairgraph.openminds.ephys.device.pipette.Pipette'>, <class 'fairgraph.openminds.specimen_prep.device.slicing_device.SlicingDevice'>], {'owners': 'https://kg.ebrains.eu/api/instances/071b48a2-526e-40b5-9ff9-2c599beffb72'}), is_provider_of=KGQuery([<class 'fairgraph.openminds.chemicals.product_source.ProductSource'>], {'provider': 'https://kg.ebrains.eu/api/instances/071b48a2-526e-40b5-9ff9-2c599beffb72'}), manufactured=KGQuery([<class 'fairgraph.openminds.core.products.setup.Setup'>], {'manufacturers': 'https://kg.ebrains.eu/api/instances/071b48a2-526e-40b5-9ff9-2c599beffb72'}), published=KGQuery([<class 'fairgraph.openminds.publications.book.Book'>, <class 'fairgraph.openminds.publications.chapter.Chapter'>, <class 'fairgraph.openminds.publications.learning_resource.LearningResource'>, <class 'fairgraph.openminds.publications.scholarly_article.ScholarlyArticle'>], {'publisher': 'https://kg.ebrains.eu/api/instances/071b48a2-526e-40b5-9ff9-2c599beffb72'}), started=KGQuery([<class 'fairgraph.openminds.computation.data_analysis.DataAnalysis'>, <class 'fairgraph.openminds.computation.data_copy.DataCopy'>, <class 'fairgraph.openminds.computation.generic_computation.GenericComputation'>, <class 'fairgraph.openminds.computation.model_validation.ModelValidation'>, <class 'fairgraph.openminds.computation.optimization.Optimization'>, <class 'fairgraph.openminds.computation.simulation.Simulation'>, <class 'fairgraph.openminds.computation.visualization.Visualization'>, <class 'fairgraph.openminds.computation.workflow_execution.WorkflowExecution'>], {'started_by': 'https://kg.ebrains.eu/api/instances/071b48a2-526e-40b5-9ff9-2c599beffb72'}), space=common, id=https://kg.ebrains.eu/api/instances/071b48a2-526e-40b5-9ff9-2c599beffb72),\n",
       " Person(affiliations=Affiliation(member_of=KGProxy((<class 'fairgraph.openminds.core.actors.consortium.Consortium'>, <class 'fairgraph.openminds.core.actors.organization.Organization'>), 'https://kg.ebrains.eu/api/instances/143579fe-9d05-4440-8ca0-759d165c04c8')), contact_information=KGProxy([<class 'fairgraph.openminds.core.actors.contact_information.ContactInformation'>], 'https://kg.ebrains.eu/api/instances/c8c82098-a50a-4513-b22c-440d1bd0b164'), digital_identifiers=KGProxy([<class 'fairgraph.openminds.core.digital_identifier.orcid.ORCID'>], 'https://kg.ebrains.eu/api/instances/3400d084-f835-4ce6-bf8f-d39366288f69'), family_name='Glitz', given_name='Leonie', activities=KGQuery([<class 'fairgraph.openminds.core.research.protocol_execution.ProtocolExecution'>, <class 'fairgraph.openminds.ephys.activity.cell_patching.CellPatching'>, <class 'fairgraph.openminds.ephys.activity.electrode_placement.ElectrodePlacement'>, <class 'fairgraph.openminds.ephys.activity.recording_activity.RecordingActivity'>, <class 'fairgraph.openminds.specimen_prep.activity.cranial_window_preparation.CranialWindowPreparation'>, <class 'fairgraph.openminds.specimen_prep.activity.tissue_culture_preparation.TissueCulturePreparation'>, <class 'fairgraph.openminds.specimen_prep.activity.tissue_sample_slicing.TissueSampleSlicing'>, <class 'fairgraph.openminds.stimulation.activity.stimulation_activity.StimulationActivity'>], {'performed_by': 'https://kg.ebrains.eu/api/instances/071cd360-a4ad-4d7a-954f-36f880a55742'}), comments=KGQuery([<class 'fairgraph.openminds.core.miscellaneous.comment.Comment'>], {'commenter': 'https://kg.ebrains.eu/api/instances/071cd360-a4ad-4d7a-954f-36f880a55742'}), coordinated_projects=KGQuery([<class 'fairgraph.openminds.core.products.project.Project'>], {'coordinators': 'https://kg.ebrains.eu/api/instances/071cd360-a4ad-4d7a-954f-36f880a55742'}), developed=KGQuery([<class 'fairgraph.openminds.computation.validation_test.ValidationTest'>, <class 'fairgraph.openminds.computation.validation_test_version.ValidationTestVersion'>, <class 'fairgraph.openminds.computation.workflow_recipe.WorkflowRecipe'>, <class 'fairgraph.openminds.computation.workflow_recipe_version.WorkflowRecipeVersion'>, <class 'fairgraph.openminds.core.products.meta_data_model.MetaDataModel'>, <class 'fairgraph.openminds.core.products.meta_data_model_version.MetaDataModelVersion'>, <class 'fairgraph.openminds.core.products.model.Model'>, <class 'fairgraph.openminds.core.products.model_version.ModelVersion'>, <class 'fairgraph.openminds.core.products.software.Software'>, <class 'fairgraph.openminds.core.products.software_version.SoftwareVersion'>, <class 'fairgraph.openminds.core.products.web_service.WebService'>, <class 'fairgraph.openminds.core.products.web_service_version.WebServiceVersion'>], {'developers': 'https://kg.ebrains.eu/api/instances/071cd360-a4ad-4d7a-954f-36f880a55742'}), funded=KGQuery([<class 'fairgraph.openminds.core.miscellaneous.funding.Funding'>], {'funder': 'https://kg.ebrains.eu/api/instances/071cd360-a4ad-4d7a-954f-36f880a55742'}), is_custodian_of=KGQuery([<class 'fairgraph.openminds.core.products.dataset.Dataset'>, <class 'fairgraph.openminds.core.products.dataset_version.DatasetVersion'>, <class 'fairgraph.openminds.publications.live_paper.LivePaper'>, <class 'fairgraph.openminds.publications.live_paper_version.LivePaperVersion'>, <class 'fairgraph.openminds.sands.atlas.brain_atlas.BrainAtlas'>, <class 'fairgraph.openminds.sands.atlas.brain_atlas_version.BrainAtlasVersion'>, <class 'fairgraph.openminds.sands.atlas.common_coordinate_space.CommonCoordinateSpace'>, <class 'fairgraph.openminds.sands.atlas.common_coordinate_space_version.CommonCoordinateSpaceVersion'>], {'custodians': 'https://kg.ebrains.eu/api/instances/071cd360-a4ad-4d7a-954f-36f880a55742'}), is_owner_of=KGQuery([<class 'fairgraph.openminds.ephys.device.electrode.Electrode'>, <class 'fairgraph.openminds.ephys.device.electrode_array.ElectrodeArray'>, <class 'fairgraph.openminds.ephys.device.pipette.Pipette'>, <class 'fairgraph.openminds.specimen_prep.device.slicing_device.SlicingDevice'>], {'owners': 'https://kg.ebrains.eu/api/instances/071cd360-a4ad-4d7a-954f-36f880a55742'}), is_provider_of=KGQuery([<class 'fairgraph.openminds.chemicals.product_source.ProductSource'>], {'provider': 'https://kg.ebrains.eu/api/instances/071cd360-a4ad-4d7a-954f-36f880a55742'}), manufactured=KGQuery([<class 'fairgraph.openminds.core.products.setup.Setup'>], {'manufacturers': 'https://kg.ebrains.eu/api/instances/071cd360-a4ad-4d7a-954f-36f880a55742'}), published=KGQuery([<class 'fairgraph.openminds.publications.book.Book'>, <class 'fairgraph.openminds.publications.chapter.Chapter'>, <class 'fairgraph.openminds.publications.learning_resource.LearningResource'>, <class 'fairgraph.openminds.publications.scholarly_article.ScholarlyArticle'>], {'publisher': 'https://kg.ebrains.eu/api/instances/071cd360-a4ad-4d7a-954f-36f880a55742'}), started=KGQuery([<class 'fairgraph.openminds.computation.data_analysis.DataAnalysis'>, <class 'fairgraph.openminds.computation.data_copy.DataCopy'>, <class 'fairgraph.openminds.computation.generic_computation.GenericComputation'>, <class 'fairgraph.openminds.computation.model_validation.ModelValidation'>, <class 'fairgraph.openminds.computation.optimization.Optimization'>, <class 'fairgraph.openminds.computation.simulation.Simulation'>, <class 'fairgraph.openminds.computation.visualization.Visualization'>, <class 'fairgraph.openminds.computation.workflow_execution.WorkflowExecution'>], {'started_by': 'https://kg.ebrains.eu/api/instances/071cd360-a4ad-4d7a-954f-36f880a55742'}), space=common, id=https://kg.ebrains.eu/api/instances/071cd360-a4ad-4d7a-954f-36f880a55742),\n",
       " Person(family_name='Markova', given_name='Julia', activities=KGQuery([<class 'fairgraph.openminds.core.research.protocol_execution.ProtocolExecution'>, <class 'fairgraph.openminds.ephys.activity.cell_patching.CellPatching'>, <class 'fairgraph.openminds.ephys.activity.electrode_placement.ElectrodePlacement'>, <class 'fairgraph.openminds.ephys.activity.recording_activity.RecordingActivity'>, <class 'fairgraph.openminds.specimen_prep.activity.cranial_window_preparation.CranialWindowPreparation'>, <class 'fairgraph.openminds.specimen_prep.activity.tissue_culture_preparation.TissueCulturePreparation'>, <class 'fairgraph.openminds.specimen_prep.activity.tissue_sample_slicing.TissueSampleSlicing'>, <class 'fairgraph.openminds.stimulation.activity.stimulation_activity.StimulationActivity'>], {'performed_by': 'https://kg.ebrains.eu/api/instances/07285912-4890-4b7c-a1aa-aa5bd9205fd2'}), comments=KGQuery([<class 'fairgraph.openminds.core.miscellaneous.comment.Comment'>], {'commenter': 'https://kg.ebrains.eu/api/instances/07285912-4890-4b7c-a1aa-aa5bd9205fd2'}), coordinated_projects=KGQuery([<class 'fairgraph.openminds.core.products.project.Project'>], {'coordinators': 'https://kg.ebrains.eu/api/instances/07285912-4890-4b7c-a1aa-aa5bd9205fd2'}), developed=KGQuery([<class 'fairgraph.openminds.computation.validation_test.ValidationTest'>, <class 'fairgraph.openminds.computation.validation_test_version.ValidationTestVersion'>, <class 'fairgraph.openminds.computation.workflow_recipe.WorkflowRecipe'>, <class 'fairgraph.openminds.computation.workflow_recipe_version.WorkflowRecipeVersion'>, <class 'fairgraph.openminds.core.products.meta_data_model.MetaDataModel'>, <class 'fairgraph.openminds.core.products.meta_data_model_version.MetaDataModelVersion'>, <class 'fairgraph.openminds.core.products.model.Model'>, <class 'fairgraph.openminds.core.products.model_version.ModelVersion'>, <class 'fairgraph.openminds.core.products.software.Software'>, <class 'fairgraph.openminds.core.products.software_version.SoftwareVersion'>, <class 'fairgraph.openminds.core.products.web_service.WebService'>, <class 'fairgraph.openminds.core.products.web_service_version.WebServiceVersion'>], {'developers': 'https://kg.ebrains.eu/api/instances/07285912-4890-4b7c-a1aa-aa5bd9205fd2'}), funded=KGQuery([<class 'fairgraph.openminds.core.miscellaneous.funding.Funding'>], {'funder': 'https://kg.ebrains.eu/api/instances/07285912-4890-4b7c-a1aa-aa5bd9205fd2'}), is_custodian_of=KGQuery([<class 'fairgraph.openminds.core.products.dataset.Dataset'>, <class 'fairgraph.openminds.core.products.dataset_version.DatasetVersion'>, <class 'fairgraph.openminds.publications.live_paper.LivePaper'>, <class 'fairgraph.openminds.publications.live_paper_version.LivePaperVersion'>, <class 'fairgraph.openminds.sands.atlas.brain_atlas.BrainAtlas'>, <class 'fairgraph.openminds.sands.atlas.brain_atlas_version.BrainAtlasVersion'>, <class 'fairgraph.openminds.sands.atlas.common_coordinate_space.CommonCoordinateSpace'>, <class 'fairgraph.openminds.sands.atlas.common_coordinate_space_version.CommonCoordinateSpaceVersion'>], {'custodians': 'https://kg.ebrains.eu/api/instances/07285912-4890-4b7c-a1aa-aa5bd9205fd2'}), is_owner_of=KGQuery([<class 'fairgraph.openminds.ephys.device.electrode.Electrode'>, <class 'fairgraph.openminds.ephys.device.electrode_array.ElectrodeArray'>, <class 'fairgraph.openminds.ephys.device.pipette.Pipette'>, <class 'fairgraph.openminds.specimen_prep.device.slicing_device.SlicingDevice'>], {'owners': 'https://kg.ebrains.eu/api/instances/07285912-4890-4b7c-a1aa-aa5bd9205fd2'}), is_provider_of=KGQuery([<class 'fairgraph.openminds.chemicals.product_source.ProductSource'>], {'provider': 'https://kg.ebrains.eu/api/instances/07285912-4890-4b7c-a1aa-aa5bd9205fd2'}), manufactured=KGQuery([<class 'fairgraph.openminds.core.products.setup.Setup'>], {'manufacturers': 'https://kg.ebrains.eu/api/instances/07285912-4890-4b7c-a1aa-aa5bd9205fd2'}), published=KGQuery([<class 'fairgraph.openminds.publications.book.Book'>, <class 'fairgraph.openminds.publications.chapter.Chapter'>, <class 'fairgraph.openminds.publications.learning_resource.LearningResource'>, <class 'fairgraph.openminds.publications.scholarly_article.ScholarlyArticle'>], {'publisher': 'https://kg.ebrains.eu/api/instances/07285912-4890-4b7c-a1aa-aa5bd9205fd2'}), started=KGQuery([<class 'fairgraph.openminds.computation.data_analysis.DataAnalysis'>, <class 'fairgraph.openminds.computation.data_copy.DataCopy'>, <class 'fairgraph.openminds.computation.generic_computation.GenericComputation'>, <class 'fairgraph.openminds.computation.model_validation.ModelValidation'>, <class 'fairgraph.openminds.computation.optimization.Optimization'>, <class 'fairgraph.openminds.computation.simulation.Simulation'>, <class 'fairgraph.openminds.computation.visualization.Visualization'>, <class 'fairgraph.openminds.computation.workflow_execution.WorkflowExecution'>], {'started_by': 'https://kg.ebrains.eu/api/instances/07285912-4890-4b7c-a1aa-aa5bd9205fd2'}), space=common, id=https://kg.ebrains.eu/api/instances/07285912-4890-4b7c-a1aa-aa5bd9205fd2),\n",
       " Person(family_name='Renvall', given_name='Hanna', activities=KGQuery([<class 'fairgraph.openminds.core.research.protocol_execution.ProtocolExecution'>, <class 'fairgraph.openminds.ephys.activity.cell_patching.CellPatching'>, <class 'fairgraph.openminds.ephys.activity.electrode_placement.ElectrodePlacement'>, <class 'fairgraph.openminds.ephys.activity.recording_activity.RecordingActivity'>, <class 'fairgraph.openminds.specimen_prep.activity.cranial_window_preparation.CranialWindowPreparation'>, <class 'fairgraph.openminds.specimen_prep.activity.tissue_culture_preparation.TissueCulturePreparation'>, <class 'fairgraph.openminds.specimen_prep.activity.tissue_sample_slicing.TissueSampleSlicing'>, <class 'fairgraph.openminds.stimulation.activity.stimulation_activity.StimulationActivity'>], {'performed_by': 'https://kg.ebrains.eu/api/instances/075ac06c-815e-48f6-8fa1-de7a00cfa948'}), comments=KGQuery([<class 'fairgraph.openminds.core.miscellaneous.comment.Comment'>], {'commenter': 'https://kg.ebrains.eu/api/instances/075ac06c-815e-48f6-8fa1-de7a00cfa948'}), coordinated_projects=KGQuery([<class 'fairgraph.openminds.core.products.project.Project'>], {'coordinators': 'https://kg.ebrains.eu/api/instances/075ac06c-815e-48f6-8fa1-de7a00cfa948'}), developed=KGQuery([<class 'fairgraph.openminds.computation.validation_test.ValidationTest'>, <class 'fairgraph.openminds.computation.validation_test_version.ValidationTestVersion'>, <class 'fairgraph.openminds.computation.workflow_recipe.WorkflowRecipe'>, <class 'fairgraph.openminds.computation.workflow_recipe_version.WorkflowRecipeVersion'>, <class 'fairgraph.openminds.core.products.meta_data_model.MetaDataModel'>, <class 'fairgraph.openminds.core.products.meta_data_model_version.MetaDataModelVersion'>, <class 'fairgraph.openminds.core.products.model.Model'>, <class 'fairgraph.openminds.core.products.model_version.ModelVersion'>, <class 'fairgraph.openminds.core.products.software.Software'>, <class 'fairgraph.openminds.core.products.software_version.SoftwareVersion'>, <class 'fairgraph.openminds.core.products.web_service.WebService'>, <class 'fairgraph.openminds.core.products.web_service_version.WebServiceVersion'>], {'developers': 'https://kg.ebrains.eu/api/instances/075ac06c-815e-48f6-8fa1-de7a00cfa948'}), funded=KGQuery([<class 'fairgraph.openminds.core.miscellaneous.funding.Funding'>], {'funder': 'https://kg.ebrains.eu/api/instances/075ac06c-815e-48f6-8fa1-de7a00cfa948'}), is_custodian_of=KGQuery([<class 'fairgraph.openminds.core.products.dataset.Dataset'>, <class 'fairgraph.openminds.core.products.dataset_version.DatasetVersion'>, <class 'fairgraph.openminds.publications.live_paper.LivePaper'>, <class 'fairgraph.openminds.publications.live_paper_version.LivePaperVersion'>, <class 'fairgraph.openminds.sands.atlas.brain_atlas.BrainAtlas'>, <class 'fairgraph.openminds.sands.atlas.brain_atlas_version.BrainAtlasVersion'>, <class 'fairgraph.openminds.sands.atlas.common_coordinate_space.CommonCoordinateSpace'>, <class 'fairgraph.openminds.sands.atlas.common_coordinate_space_version.CommonCoordinateSpaceVersion'>], {'custodians': 'https://kg.ebrains.eu/api/instances/075ac06c-815e-48f6-8fa1-de7a00cfa948'}), is_owner_of=KGQuery([<class 'fairgraph.openminds.ephys.device.electrode.Electrode'>, <class 'fairgraph.openminds.ephys.device.electrode_array.ElectrodeArray'>, <class 'fairgraph.openminds.ephys.device.pipette.Pipette'>, <class 'fairgraph.openminds.specimen_prep.device.slicing_device.SlicingDevice'>], {'owners': 'https://kg.ebrains.eu/api/instances/075ac06c-815e-48f6-8fa1-de7a00cfa948'}), is_provider_of=KGQuery([<class 'fairgraph.openminds.chemicals.product_source.ProductSource'>], {'provider': 'https://kg.ebrains.eu/api/instances/075ac06c-815e-48f6-8fa1-de7a00cfa948'}), manufactured=KGQuery([<class 'fairgraph.openminds.core.products.setup.Setup'>], {'manufacturers': 'https://kg.ebrains.eu/api/instances/075ac06c-815e-48f6-8fa1-de7a00cfa948'}), published=KGQuery([<class 'fairgraph.openminds.publications.book.Book'>, <class 'fairgraph.openminds.publications.chapter.Chapter'>, <class 'fairgraph.openminds.publications.learning_resource.LearningResource'>, <class 'fairgraph.openminds.publications.scholarly_article.ScholarlyArticle'>], {'publisher': 'https://kg.ebrains.eu/api/instances/075ac06c-815e-48f6-8fa1-de7a00cfa948'}), started=KGQuery([<class 'fairgraph.openminds.computation.data_analysis.DataAnalysis'>, <class 'fairgraph.openminds.computation.data_copy.DataCopy'>, <class 'fairgraph.openminds.computation.generic_computation.GenericComputation'>, <class 'fairgraph.openminds.computation.model_validation.ModelValidation'>, <class 'fairgraph.openminds.computation.optimization.Optimization'>, <class 'fairgraph.openminds.computation.simulation.Simulation'>, <class 'fairgraph.openminds.computation.visualization.Visualization'>, <class 'fairgraph.openminds.computation.workflow_execution.WorkflowExecution'>], {'started_by': 'https://kg.ebrains.eu/api/instances/075ac06c-815e-48f6-8fa1-de7a00cfa948'}), space=common, id=https://kg.ebrains.eu/api/instances/075ac06c-815e-48f6-8fa1-de7a00cfa948),\n",
       " Person(affiliations=Affiliation(member_of=KGProxy((<class 'fairgraph.openminds.core.actors.consortium.Consortium'>, <class 'fairgraph.openminds.core.actors.organization.Organization'>), 'https://kg.ebrains.eu/api/instances/d9b559f2-041c-4a3c-9ae4-9b50982e1055')), family_name='Murdy', given_name='Thomas J.', activities=KGQuery([<class 'fairgraph.openminds.core.research.protocol_execution.ProtocolExecution'>, <class 'fairgraph.openminds.ephys.activity.cell_patching.CellPatching'>, <class 'fairgraph.openminds.ephys.activity.electrode_placement.ElectrodePlacement'>, <class 'fairgraph.openminds.ephys.activity.recording_activity.RecordingActivity'>, <class 'fairgraph.openminds.specimen_prep.activity.cranial_window_preparation.CranialWindowPreparation'>, <class 'fairgraph.openminds.specimen_prep.activity.tissue_culture_preparation.TissueCulturePreparation'>, <class 'fairgraph.openminds.specimen_prep.activity.tissue_sample_slicing.TissueSampleSlicing'>, <class 'fairgraph.openminds.stimulation.activity.stimulation_activity.StimulationActivity'>], {'performed_by': 'https://kg.ebrains.eu/api/instances/075e2161-c77e-44e1-9502-326b5b58e373'}), comments=KGQuery([<class 'fairgraph.openminds.core.miscellaneous.comment.Comment'>], {'commenter': 'https://kg.ebrains.eu/api/instances/075e2161-c77e-44e1-9502-326b5b58e373'}), coordinated_projects=KGQuery([<class 'fairgraph.openminds.core.products.project.Project'>], {'coordinators': 'https://kg.ebrains.eu/api/instances/075e2161-c77e-44e1-9502-326b5b58e373'}), developed=KGQuery([<class 'fairgraph.openminds.computation.validation_test.ValidationTest'>, <class 'fairgraph.openminds.computation.validation_test_version.ValidationTestVersion'>, <class 'fairgraph.openminds.computation.workflow_recipe.WorkflowRecipe'>, <class 'fairgraph.openminds.computation.workflow_recipe_version.WorkflowRecipeVersion'>, <class 'fairgraph.openminds.core.products.meta_data_model.MetaDataModel'>, <class 'fairgraph.openminds.core.products.meta_data_model_version.MetaDataModelVersion'>, <class 'fairgraph.openminds.core.products.model.Model'>, <class 'fairgraph.openminds.core.products.model_version.ModelVersion'>, <class 'fairgraph.openminds.core.products.software.Software'>, <class 'fairgraph.openminds.core.products.software_version.SoftwareVersion'>, <class 'fairgraph.openminds.core.products.web_service.WebService'>, <class 'fairgraph.openminds.core.products.web_service_version.WebServiceVersion'>], {'developers': 'https://kg.ebrains.eu/api/instances/075e2161-c77e-44e1-9502-326b5b58e373'}), funded=KGQuery([<class 'fairgraph.openminds.core.miscellaneous.funding.Funding'>], {'funder': 'https://kg.ebrains.eu/api/instances/075e2161-c77e-44e1-9502-326b5b58e373'}), is_custodian_of=KGQuery([<class 'fairgraph.openminds.core.products.dataset.Dataset'>, <class 'fairgraph.openminds.core.products.dataset_version.DatasetVersion'>, <class 'fairgraph.openminds.publications.live_paper.LivePaper'>, <class 'fairgraph.openminds.publications.live_paper_version.LivePaperVersion'>, <class 'fairgraph.openminds.sands.atlas.brain_atlas.BrainAtlas'>, <class 'fairgraph.openminds.sands.atlas.brain_atlas_version.BrainAtlasVersion'>, <class 'fairgraph.openminds.sands.atlas.common_coordinate_space.CommonCoordinateSpace'>, <class 'fairgraph.openminds.sands.atlas.common_coordinate_space_version.CommonCoordinateSpaceVersion'>], {'custodians': 'https://kg.ebrains.eu/api/instances/075e2161-c77e-44e1-9502-326b5b58e373'}), is_owner_of=KGQuery([<class 'fairgraph.openminds.ephys.device.electrode.Electrode'>, <class 'fairgraph.openminds.ephys.device.electrode_array.ElectrodeArray'>, <class 'fairgraph.openminds.ephys.device.pipette.Pipette'>, <class 'fairgraph.openminds.specimen_prep.device.slicing_device.SlicingDevice'>], {'owners': 'https://kg.ebrains.eu/api/instances/075e2161-c77e-44e1-9502-326b5b58e373'}), is_provider_of=KGQuery([<class 'fairgraph.openminds.chemicals.product_source.ProductSource'>], {'provider': 'https://kg.ebrains.eu/api/instances/075e2161-c77e-44e1-9502-326b5b58e373'}), manufactured=KGQuery([<class 'fairgraph.openminds.core.products.setup.Setup'>], {'manufacturers': 'https://kg.ebrains.eu/api/instances/075e2161-c77e-44e1-9502-326b5b58e373'}), published=KGQuery([<class 'fairgraph.openminds.publications.book.Book'>, <class 'fairgraph.openminds.publications.chapter.Chapter'>, <class 'fairgraph.openminds.publications.learning_resource.LearningResource'>, <class 'fairgraph.openminds.publications.scholarly_article.ScholarlyArticle'>], {'publisher': 'https://kg.ebrains.eu/api/instances/075e2161-c77e-44e1-9502-326b5b58e373'}), started=KGQuery([<class 'fairgraph.openminds.computation.data_analysis.DataAnalysis'>, <class 'fairgraph.openminds.computation.data_copy.DataCopy'>, <class 'fairgraph.openminds.computation.generic_computation.GenericComputation'>, <class 'fairgraph.openminds.computation.model_validation.ModelValidation'>, <class 'fairgraph.openminds.computation.optimization.Optimization'>, <class 'fairgraph.openminds.computation.simulation.Simulation'>, <class 'fairgraph.openminds.computation.visualization.Visualization'>, <class 'fairgraph.openminds.computation.workflow_execution.WorkflowExecution'>], {'started_by': 'https://kg.ebrains.eu/api/instances/075e2161-c77e-44e1-9502-326b5b58e373'}), space=common, id=https://kg.ebrains.eu/api/instances/075e2161-c77e-44e1-9502-326b5b58e373),\n",
       " Person(affiliations=Affiliation(member_of=KGProxy((<class 'fairgraph.openminds.core.actors.consortium.Consortium'>, <class 'fairgraph.openminds.core.actors.organization.Organization'>), 'https://kg.ebrains.eu/api/instances/36a26fd9-5f2d-483d-8c66-d3cf434ceff9'), start_date=datetime.datetime(2018, 1, 1, 0, 0)), contact_information=KGProxy([<class 'fairgraph.openminds.core.actors.contact_information.ContactInformation'>], 'https://kg.ebrains.eu/api/instances/778ea9b4-f2cb-4886-90fe-5c057c9c2010'), digital_identifiers=KGProxy([<class 'fairgraph.openminds.core.digital_identifier.orcid.ORCID'>], 'https://kg.ebrains.eu/api/instances/f31ac807-bbe4-4c5b-88bc-041ad64c0743'), family_name='Jordan', given_name='Jakob', activities=KGQuery([<class 'fairgraph.openminds.core.research.protocol_execution.ProtocolExecution'>, <class 'fairgraph.openminds.ephys.activity.cell_patching.CellPatching'>, <class 'fairgraph.openminds.ephys.activity.electrode_placement.ElectrodePlacement'>, <class 'fairgraph.openminds.ephys.activity.recording_activity.RecordingActivity'>, <class 'fairgraph.openminds.specimen_prep.activity.cranial_window_preparation.CranialWindowPreparation'>, <class 'fairgraph.openminds.specimen_prep.activity.tissue_culture_preparation.TissueCulturePreparation'>, <class 'fairgraph.openminds.specimen_prep.activity.tissue_sample_slicing.TissueSampleSlicing'>, <class 'fairgraph.openminds.stimulation.activity.stimulation_activity.StimulationActivity'>], {'performed_by': 'https://kg.ebrains.eu/api/instances/07618844-2252-47a2-8fcf-a16a7b7b7cf8'}), comments=KGQuery([<class 'fairgraph.openminds.core.miscellaneous.comment.Comment'>], {'commenter': 'https://kg.ebrains.eu/api/instances/07618844-2252-47a2-8fcf-a16a7b7b7cf8'}), coordinated_projects=KGQuery([<class 'fairgraph.openminds.core.products.project.Project'>], {'coordinators': 'https://kg.ebrains.eu/api/instances/07618844-2252-47a2-8fcf-a16a7b7b7cf8'}), developed=KGQuery([<class 'fairgraph.openminds.computation.validation_test.ValidationTest'>, <class 'fairgraph.openminds.computation.validation_test_version.ValidationTestVersion'>, <class 'fairgraph.openminds.computation.workflow_recipe.WorkflowRecipe'>, <class 'fairgraph.openminds.computation.workflow_recipe_version.WorkflowRecipeVersion'>, <class 'fairgraph.openminds.core.products.meta_data_model.MetaDataModel'>, <class 'fairgraph.openminds.core.products.meta_data_model_version.MetaDataModelVersion'>, <class 'fairgraph.openminds.core.products.model.Model'>, <class 'fairgraph.openminds.core.products.model_version.ModelVersion'>, <class 'fairgraph.openminds.core.products.software.Software'>, <class 'fairgraph.openminds.core.products.software_version.SoftwareVersion'>, <class 'fairgraph.openminds.core.products.web_service.WebService'>, <class 'fairgraph.openminds.core.products.web_service_version.WebServiceVersion'>], {'developers': 'https://kg.ebrains.eu/api/instances/07618844-2252-47a2-8fcf-a16a7b7b7cf8'}), funded=KGQuery([<class 'fairgraph.openminds.core.miscellaneous.funding.Funding'>], {'funder': 'https://kg.ebrains.eu/api/instances/07618844-2252-47a2-8fcf-a16a7b7b7cf8'}), is_custodian_of=KGQuery([<class 'fairgraph.openminds.core.products.dataset.Dataset'>, <class 'fairgraph.openminds.core.products.dataset_version.DatasetVersion'>, <class 'fairgraph.openminds.publications.live_paper.LivePaper'>, <class 'fairgraph.openminds.publications.live_paper_version.LivePaperVersion'>, <class 'fairgraph.openminds.sands.atlas.brain_atlas.BrainAtlas'>, <class 'fairgraph.openminds.sands.atlas.brain_atlas_version.BrainAtlasVersion'>, <class 'fairgraph.openminds.sands.atlas.common_coordinate_space.CommonCoordinateSpace'>, <class 'fairgraph.openminds.sands.atlas.common_coordinate_space_version.CommonCoordinateSpaceVersion'>], {'custodians': 'https://kg.ebrains.eu/api/instances/07618844-2252-47a2-8fcf-a16a7b7b7cf8'}), is_owner_of=KGQuery([<class 'fairgraph.openminds.ephys.device.electrode.Electrode'>, <class 'fairgraph.openminds.ephys.device.electrode_array.ElectrodeArray'>, <class 'fairgraph.openminds.ephys.device.pipette.Pipette'>, <class 'fairgraph.openminds.specimen_prep.device.slicing_device.SlicingDevice'>], {'owners': 'https://kg.ebrains.eu/api/instances/07618844-2252-47a2-8fcf-a16a7b7b7cf8'}), is_provider_of=KGQuery([<class 'fairgraph.openminds.chemicals.product_source.ProductSource'>], {'provider': 'https://kg.ebrains.eu/api/instances/07618844-2252-47a2-8fcf-a16a7b7b7cf8'}), manufactured=KGQuery([<class 'fairgraph.openminds.core.products.setup.Setup'>], {'manufacturers': 'https://kg.ebrains.eu/api/instances/07618844-2252-47a2-8fcf-a16a7b7b7cf8'}), published=KGQuery([<class 'fairgraph.openminds.publications.book.Book'>, <class 'fairgraph.openminds.publications.chapter.Chapter'>, <class 'fairgraph.openminds.publications.learning_resource.LearningResource'>, <class 'fairgraph.openminds.publications.scholarly_article.ScholarlyArticle'>], {'publisher': 'https://kg.ebrains.eu/api/instances/07618844-2252-47a2-8fcf-a16a7b7b7cf8'}), started=KGQuery([<class 'fairgraph.openminds.computation.data_analysis.DataAnalysis'>, <class 'fairgraph.openminds.computation.data_copy.DataCopy'>, <class 'fairgraph.openminds.computation.generic_computation.GenericComputation'>, <class 'fairgraph.openminds.computation.model_validation.ModelValidation'>, <class 'fairgraph.openminds.computation.optimization.Optimization'>, <class 'fairgraph.openminds.computation.simulation.Simulation'>, <class 'fairgraph.openminds.computation.visualization.Visualization'>, <class 'fairgraph.openminds.computation.workflow_execution.WorkflowExecution'>], {'started_by': 'https://kg.ebrains.eu/api/instances/07618844-2252-47a2-8fcf-a16a7b7b7cf8'}), space=common, id=https://kg.ebrains.eu/api/instances/07618844-2252-47a2-8fcf-a16a7b7b7cf8),\n",
       " Person(contact_information=KGProxy([<class 'fairgraph.openminds.core.actors.contact_information.ContactInformation'>], 'https://kg.ebrains.eu/api/instances/286b6786-8ec6-46ec-99af-e2f716c36095'), digital_identifiers=KGProxy([<class 'fairgraph.openminds.core.digital_identifier.orcid.ORCID'>], 'https://kg.ebrains.eu/api/instances/0cc876a8-5df4-423c-945d-2676562f979b'), family_name='López-González', given_name='Ane', activities=KGQuery([<class 'fairgraph.openminds.core.research.protocol_execution.ProtocolExecution'>, <class 'fairgraph.openminds.ephys.activity.cell_patching.CellPatching'>, <class 'fairgraph.openminds.ephys.activity.electrode_placement.ElectrodePlacement'>, <class 'fairgraph.openminds.ephys.activity.recording_activity.RecordingActivity'>, <class 'fairgraph.openminds.specimen_prep.activity.cranial_window_preparation.CranialWindowPreparation'>, <class 'fairgraph.openminds.specimen_prep.activity.tissue_culture_preparation.TissueCulturePreparation'>, <class 'fairgraph.openminds.specimen_prep.activity.tissue_sample_slicing.TissueSampleSlicing'>, <class 'fairgraph.openminds.stimulation.activity.stimulation_activity.StimulationActivity'>], {'performed_by': 'https://kg.ebrains.eu/api/instances/077f4d76-07dc-4c48-9d4c-4cc4ede7cc7f'}), comments=KGQuery([<class 'fairgraph.openminds.core.miscellaneous.comment.Comment'>], {'commenter': 'https://kg.ebrains.eu/api/instances/077f4d76-07dc-4c48-9d4c-4cc4ede7cc7f'}), coordinated_projects=KGQuery([<class 'fairgraph.openminds.core.products.project.Project'>], {'coordinators': 'https://kg.ebrains.eu/api/instances/077f4d76-07dc-4c48-9d4c-4cc4ede7cc7f'}), developed=KGQuery([<class 'fairgraph.openminds.computation.validation_test.ValidationTest'>, <class 'fairgraph.openminds.computation.validation_test_version.ValidationTestVersion'>, <class 'fairgraph.openminds.computation.workflow_recipe.WorkflowRecipe'>, <class 'fairgraph.openminds.computation.workflow_recipe_version.WorkflowRecipeVersion'>, <class 'fairgraph.openminds.core.products.meta_data_model.MetaDataModel'>, <class 'fairgraph.openminds.core.products.meta_data_model_version.MetaDataModelVersion'>, <class 'fairgraph.openminds.core.products.model.Model'>, <class 'fairgraph.openminds.core.products.model_version.ModelVersion'>, <class 'fairgraph.openminds.core.products.software.Software'>, <class 'fairgraph.openminds.core.products.software_version.SoftwareVersion'>, <class 'fairgraph.openminds.core.products.web_service.WebService'>, <class 'fairgraph.openminds.core.products.web_service_version.WebServiceVersion'>], {'developers': 'https://kg.ebrains.eu/api/instances/077f4d76-07dc-4c48-9d4c-4cc4ede7cc7f'}), funded=KGQuery([<class 'fairgraph.openminds.core.miscellaneous.funding.Funding'>], {'funder': 'https://kg.ebrains.eu/api/instances/077f4d76-07dc-4c48-9d4c-4cc4ede7cc7f'}), is_custodian_of=KGQuery([<class 'fairgraph.openminds.core.products.dataset.Dataset'>, <class 'fairgraph.openminds.core.products.dataset_version.DatasetVersion'>, <class 'fairgraph.openminds.publications.live_paper.LivePaper'>, <class 'fairgraph.openminds.publications.live_paper_version.LivePaperVersion'>, <class 'fairgraph.openminds.sands.atlas.brain_atlas.BrainAtlas'>, <class 'fairgraph.openminds.sands.atlas.brain_atlas_version.BrainAtlasVersion'>, <class 'fairgraph.openminds.sands.atlas.common_coordinate_space.CommonCoordinateSpace'>, <class 'fairgraph.openminds.sands.atlas.common_coordinate_space_version.CommonCoordinateSpaceVersion'>], {'custodians': 'https://kg.ebrains.eu/api/instances/077f4d76-07dc-4c48-9d4c-4cc4ede7cc7f'}), is_owner_of=KGQuery([<class 'fairgraph.openminds.ephys.device.electrode.Electrode'>, <class 'fairgraph.openminds.ephys.device.electrode_array.ElectrodeArray'>, <class 'fairgraph.openminds.ephys.device.pipette.Pipette'>, <class 'fairgraph.openminds.specimen_prep.device.slicing_device.SlicingDevice'>], {'owners': 'https://kg.ebrains.eu/api/instances/077f4d76-07dc-4c48-9d4c-4cc4ede7cc7f'}), is_provider_of=KGQuery([<class 'fairgraph.openminds.chemicals.product_source.ProductSource'>], {'provider': 'https://kg.ebrains.eu/api/instances/077f4d76-07dc-4c48-9d4c-4cc4ede7cc7f'}), manufactured=KGQuery([<class 'fairgraph.openminds.core.products.setup.Setup'>], {'manufacturers': 'https://kg.ebrains.eu/api/instances/077f4d76-07dc-4c48-9d4c-4cc4ede7cc7f'}), published=KGQuery([<class 'fairgraph.openminds.publications.book.Book'>, <class 'fairgraph.openminds.publications.chapter.Chapter'>, <class 'fairgraph.openminds.publications.learning_resource.LearningResource'>, <class 'fairgraph.openminds.publications.scholarly_article.ScholarlyArticle'>], {'publisher': 'https://kg.ebrains.eu/api/instances/077f4d76-07dc-4c48-9d4c-4cc4ede7cc7f'}), started=KGQuery([<class 'fairgraph.openminds.computation.data_analysis.DataAnalysis'>, <class 'fairgraph.openminds.computation.data_copy.DataCopy'>, <class 'fairgraph.openminds.computation.generic_computation.GenericComputation'>, <class 'fairgraph.openminds.computation.model_validation.ModelValidation'>, <class 'fairgraph.openminds.computation.optimization.Optimization'>, <class 'fairgraph.openminds.computation.simulation.Simulation'>, <class 'fairgraph.openminds.computation.visualization.Visualization'>, <class 'fairgraph.openminds.computation.workflow_execution.WorkflowExecution'>], {'started_by': 'https://kg.ebrains.eu/api/instances/077f4d76-07dc-4c48-9d4c-4cc4ede7cc7f'}), space=common, id=https://kg.ebrains.eu/api/instances/077f4d76-07dc-4c48-9d4c-4cc4ede7cc7f),\n",
       " Person(affiliations=Affiliation(member_of=KGProxy((<class 'fairgraph.openminds.core.actors.consortium.Consortium'>, <class 'fairgraph.openminds.core.actors.organization.Organization'>), 'https://kg.ebrains.eu/api/instances/8026f7ac-63e0-45b2-96f2-c10086fcf45f'), start_date=datetime.datetime(2014, 8, 1, 0, 0)), contact_information=KGProxy([<class 'fairgraph.openminds.core.actors.contact_information.ContactInformation'>], 'https://kg.ebrains.eu/api/instances/fab2fcf2-2880-4300-a866-611e48f5d546'), digital_identifiers=KGProxy([<class 'fairgraph.openminds.core.digital_identifier.orcid.ORCID'>], 'https://kg.ebrains.eu/api/instances/7b6b100c-2a49-4bb1-b340-0d7108d33896'), family_name='Rheims', given_name='Sylvain', activities=KGQuery([<class 'fairgraph.openminds.core.research.protocol_execution.ProtocolExecution'>, <class 'fairgraph.openminds.ephys.activity.cell_patching.CellPatching'>, <class 'fairgraph.openminds.ephys.activity.electrode_placement.ElectrodePlacement'>, <class 'fairgraph.openminds.ephys.activity.recording_activity.RecordingActivity'>, <class 'fairgraph.openminds.specimen_prep.activity.cranial_window_preparation.CranialWindowPreparation'>, <class 'fairgraph.openminds.specimen_prep.activity.tissue_culture_preparation.TissueCulturePreparation'>, <class 'fairgraph.openminds.specimen_prep.activity.tissue_sample_slicing.TissueSampleSlicing'>, <class 'fairgraph.openminds.stimulation.activity.stimulation_activity.StimulationActivity'>], {'performed_by': 'https://kg.ebrains.eu/api/instances/078cb489-3fcf-4213-9e97-8b8780e0a0bc'}), comments=KGQuery([<class 'fairgraph.openminds.core.miscellaneous.comment.Comment'>], {'commenter': 'https://kg.ebrains.eu/api/instances/078cb489-3fcf-4213-9e97-8b8780e0a0bc'}), coordinated_projects=KGQuery([<class 'fairgraph.openminds.core.products.project.Project'>], {'coordinators': 'https://kg.ebrains.eu/api/instances/078cb489-3fcf-4213-9e97-8b8780e0a0bc'}), developed=KGQuery([<class 'fairgraph.openminds.computation.validation_test.ValidationTest'>, <class 'fairgraph.openminds.computation.validation_test_version.ValidationTestVersion'>, <class 'fairgraph.openminds.computation.workflow_recipe.WorkflowRecipe'>, <class 'fairgraph.openminds.computation.workflow_recipe_version.WorkflowRecipeVersion'>, <class 'fairgraph.openminds.core.products.meta_data_model.MetaDataModel'>, <class 'fairgraph.openminds.core.products.meta_data_model_version.MetaDataModelVersion'>, <class 'fairgraph.openminds.core.products.model.Model'>, <class 'fairgraph.openminds.core.products.model_version.ModelVersion'>, <class 'fairgraph.openminds.core.products.software.Software'>, <class 'fairgraph.openminds.core.products.software_version.SoftwareVersion'>, <class 'fairgraph.openminds.core.products.web_service.WebService'>, <class 'fairgraph.openminds.core.products.web_service_version.WebServiceVersion'>], {'developers': 'https://kg.ebrains.eu/api/instances/078cb489-3fcf-4213-9e97-8b8780e0a0bc'}), funded=KGQuery([<class 'fairgraph.openminds.core.miscellaneous.funding.Funding'>], {'funder': 'https://kg.ebrains.eu/api/instances/078cb489-3fcf-4213-9e97-8b8780e0a0bc'}), is_custodian_of=KGQuery([<class 'fairgraph.openminds.core.products.dataset.Dataset'>, <class 'fairgraph.openminds.core.products.dataset_version.DatasetVersion'>, <class 'fairgraph.openminds.publications.live_paper.LivePaper'>, <class 'fairgraph.openminds.publications.live_paper_version.LivePaperVersion'>, <class 'fairgraph.openminds.sands.atlas.brain_atlas.BrainAtlas'>, <class 'fairgraph.openminds.sands.atlas.brain_atlas_version.BrainAtlasVersion'>, <class 'fairgraph.openminds.sands.atlas.common_coordinate_space.CommonCoordinateSpace'>, <class 'fairgraph.openminds.sands.atlas.common_coordinate_space_version.CommonCoordinateSpaceVersion'>], {'custodians': 'https://kg.ebrains.eu/api/instances/078cb489-3fcf-4213-9e97-8b8780e0a0bc'}), is_owner_of=KGQuery([<class 'fairgraph.openminds.ephys.device.electrode.Electrode'>, <class 'fairgraph.openminds.ephys.device.electrode_array.ElectrodeArray'>, <class 'fairgraph.openminds.ephys.device.pipette.Pipette'>, <class 'fairgraph.openminds.specimen_prep.device.slicing_device.SlicingDevice'>], {'owners': 'https://kg.ebrains.eu/api/instances/078cb489-3fcf-4213-9e97-8b8780e0a0bc'}), is_provider_of=KGQuery([<class 'fairgraph.openminds.chemicals.product_source.ProductSource'>], {'provider': 'https://kg.ebrains.eu/api/instances/078cb489-3fcf-4213-9e97-8b8780e0a0bc'}), manufactured=KGQuery([<class 'fairgraph.openminds.core.products.setup.Setup'>], {'manufacturers': 'https://kg.ebrains.eu/api/instances/078cb489-3fcf-4213-9e97-8b8780e0a0bc'}), published=KGQuery([<class 'fairgraph.openminds.publications.book.Book'>, <class 'fairgraph.openminds.publications.chapter.Chapter'>, <class 'fairgraph.openminds.publications.learning_resource.LearningResource'>, <class 'fairgraph.openminds.publications.scholarly_article.ScholarlyArticle'>], {'publisher': 'https://kg.ebrains.eu/api/instances/078cb489-3fcf-4213-9e97-8b8780e0a0bc'}), started=KGQuery([<class 'fairgraph.openminds.computation.data_analysis.DataAnalysis'>, <class 'fairgraph.openminds.computation.data_copy.DataCopy'>, <class 'fairgraph.openminds.computation.generic_computation.GenericComputation'>, <class 'fairgraph.openminds.computation.model_validation.ModelValidation'>, <class 'fairgraph.openminds.computation.optimization.Optimization'>, <class 'fairgraph.openminds.computation.simulation.Simulation'>, <class 'fairgraph.openminds.computation.visualization.Visualization'>, <class 'fairgraph.openminds.computation.workflow_execution.WorkflowExecution'>], {'started_by': 'https://kg.ebrains.eu/api/instances/078cb489-3fcf-4213-9e97-8b8780e0a0bc'}), space=common, id=https://kg.ebrains.eu/api/instances/078cb489-3fcf-4213-9e97-8b8780e0a0bc),\n",
       " Person(family_name='Schwabedal', given_name='Justus', activities=KGQuery([<class 'fairgraph.openminds.core.research.protocol_execution.ProtocolExecution'>, <class 'fairgraph.openminds.ephys.activity.cell_patching.CellPatching'>, <class 'fairgraph.openminds.ephys.activity.electrode_placement.ElectrodePlacement'>, <class 'fairgraph.openminds.ephys.activity.recording_activity.RecordingActivity'>, <class 'fairgraph.openminds.specimen_prep.activity.cranial_window_preparation.CranialWindowPreparation'>, <class 'fairgraph.openminds.specimen_prep.activity.tissue_culture_preparation.TissueCulturePreparation'>, <class 'fairgraph.openminds.specimen_prep.activity.tissue_sample_slicing.TissueSampleSlicing'>, <class 'fairgraph.openminds.stimulation.activity.stimulation_activity.StimulationActivity'>], {'performed_by': 'https://kg.ebrains.eu/api/instances/07970f85-1218-4607-bda5-8d1af168b807'}), comments=KGQuery([<class 'fairgraph.openminds.core.miscellaneous.comment.Comment'>], {'commenter': 'https://kg.ebrains.eu/api/instances/07970f85-1218-4607-bda5-8d1af168b807'}), coordinated_projects=KGQuery([<class 'fairgraph.openminds.core.products.project.Project'>], {'coordinators': 'https://kg.ebrains.eu/api/instances/07970f85-1218-4607-bda5-8d1af168b807'}), developed=KGQuery([<class 'fairgraph.openminds.computation.validation_test.ValidationTest'>, <class 'fairgraph.openminds.computation.validation_test_version.ValidationTestVersion'>, <class 'fairgraph.openminds.computation.workflow_recipe.WorkflowRecipe'>, <class 'fairgraph.openminds.computation.workflow_recipe_version.WorkflowRecipeVersion'>, <class 'fairgraph.openminds.core.products.meta_data_model.MetaDataModel'>, <class 'fairgraph.openminds.core.products.meta_data_model_version.MetaDataModelVersion'>, <class 'fairgraph.openminds.core.products.model.Model'>, <class 'fairgraph.openminds.core.products.model_version.ModelVersion'>, <class 'fairgraph.openminds.core.products.software.Software'>, <class 'fairgraph.openminds.core.products.software_version.SoftwareVersion'>, <class 'fairgraph.openminds.core.products.web_service.WebService'>, <class 'fairgraph.openminds.core.products.web_service_version.WebServiceVersion'>], {'developers': 'https://kg.ebrains.eu/api/instances/07970f85-1218-4607-bda5-8d1af168b807'}), funded=KGQuery([<class 'fairgraph.openminds.core.miscellaneous.funding.Funding'>], {'funder': 'https://kg.ebrains.eu/api/instances/07970f85-1218-4607-bda5-8d1af168b807'}), is_custodian_of=KGQuery([<class 'fairgraph.openminds.core.products.dataset.Dataset'>, <class 'fairgraph.openminds.core.products.dataset_version.DatasetVersion'>, <class 'fairgraph.openminds.publications.live_paper.LivePaper'>, <class 'fairgraph.openminds.publications.live_paper_version.LivePaperVersion'>, <class 'fairgraph.openminds.sands.atlas.brain_atlas.BrainAtlas'>, <class 'fairgraph.openminds.sands.atlas.brain_atlas_version.BrainAtlasVersion'>, <class 'fairgraph.openminds.sands.atlas.common_coordinate_space.CommonCoordinateSpace'>, <class 'fairgraph.openminds.sands.atlas.common_coordinate_space_version.CommonCoordinateSpaceVersion'>], {'custodians': 'https://kg.ebrains.eu/api/instances/07970f85-1218-4607-bda5-8d1af168b807'}), is_owner_of=KGQuery([<class 'fairgraph.openminds.ephys.device.electrode.Electrode'>, <class 'fairgraph.openminds.ephys.device.electrode_array.ElectrodeArray'>, <class 'fairgraph.openminds.ephys.device.pipette.Pipette'>, <class 'fairgraph.openminds.specimen_prep.device.slicing_device.SlicingDevice'>], {'owners': 'https://kg.ebrains.eu/api/instances/07970f85-1218-4607-bda5-8d1af168b807'}), is_provider_of=KGQuery([<class 'fairgraph.openminds.chemicals.product_source.ProductSource'>], {'provider': 'https://kg.ebrains.eu/api/instances/07970f85-1218-4607-bda5-8d1af168b807'}), manufactured=KGQuery([<class 'fairgraph.openminds.core.products.setup.Setup'>], {'manufacturers': 'https://kg.ebrains.eu/api/instances/07970f85-1218-4607-bda5-8d1af168b807'}), published=KGQuery([<class 'fairgraph.openminds.publications.book.Book'>, <class 'fairgraph.openminds.publications.chapter.Chapter'>, <class 'fairgraph.openminds.publications.learning_resource.LearningResource'>, <class 'fairgraph.openminds.publications.scholarly_article.ScholarlyArticle'>], {'publisher': 'https://kg.ebrains.eu/api/instances/07970f85-1218-4607-bda5-8d1af168b807'}), started=KGQuery([<class 'fairgraph.openminds.computation.data_analysis.DataAnalysis'>, <class 'fairgraph.openminds.computation.data_copy.DataCopy'>, <class 'fairgraph.openminds.computation.generic_computation.GenericComputation'>, <class 'fairgraph.openminds.computation.model_validation.ModelValidation'>, <class 'fairgraph.openminds.computation.optimization.Optimization'>, <class 'fairgraph.openminds.computation.simulation.Simulation'>, <class 'fairgraph.openminds.computation.visualization.Visualization'>, <class 'fairgraph.openminds.computation.workflow_execution.WorkflowExecution'>], {'started_by': 'https://kg.ebrains.eu/api/instances/07970f85-1218-4607-bda5-8d1af168b807'}), space=common, id=https://kg.ebrains.eu/api/instances/07970f85-1218-4607-bda5-8d1af168b807),\n",
       " Person(family_name='Tort-Colet', given_name='Núria', activities=KGQuery([<class 'fairgraph.openminds.core.research.protocol_execution.ProtocolExecution'>, <class 'fairgraph.openminds.ephys.activity.cell_patching.CellPatching'>, <class 'fairgraph.openminds.ephys.activity.electrode_placement.ElectrodePlacement'>, <class 'fairgraph.openminds.ephys.activity.recording_activity.RecordingActivity'>, <class 'fairgraph.openminds.specimen_prep.activity.cranial_window_preparation.CranialWindowPreparation'>, <class 'fairgraph.openminds.specimen_prep.activity.tissue_culture_preparation.TissueCulturePreparation'>, <class 'fairgraph.openminds.specimen_prep.activity.tissue_sample_slicing.TissueSampleSlicing'>, <class 'fairgraph.openminds.stimulation.activity.stimulation_activity.StimulationActivity'>], {'performed_by': 'https://kg.ebrains.eu/api/instances/07b875c0-4a46-47a2-bde6-f8037312bf51'}), comments=KGQuery([<class 'fairgraph.openminds.core.miscellaneous.comment.Comment'>], {'commenter': 'https://kg.ebrains.eu/api/instances/07b875c0-4a46-47a2-bde6-f8037312bf51'}), coordinated_projects=KGQuery([<class 'fairgraph.openminds.core.products.project.Project'>], {'coordinators': 'https://kg.ebrains.eu/api/instances/07b875c0-4a46-47a2-bde6-f8037312bf51'}), developed=KGQuery([<class 'fairgraph.openminds.computation.validation_test.ValidationTest'>, <class 'fairgraph.openminds.computation.validation_test_version.ValidationTestVersion'>, <class 'fairgraph.openminds.computation.workflow_recipe.WorkflowRecipe'>, <class 'fairgraph.openminds.computation.workflow_recipe_version.WorkflowRecipeVersion'>, <class 'fairgraph.openminds.core.products.meta_data_model.MetaDataModel'>, <class 'fairgraph.openminds.core.products.meta_data_model_version.MetaDataModelVersion'>, <class 'fairgraph.openminds.core.products.model.Model'>, <class 'fairgraph.openminds.core.products.model_version.ModelVersion'>, <class 'fairgraph.openminds.core.products.software.Software'>, <class 'fairgraph.openminds.core.products.software_version.SoftwareVersion'>, <class 'fairgraph.openminds.core.products.web_service.WebService'>, <class 'fairgraph.openminds.core.products.web_service_version.WebServiceVersion'>], {'developers': 'https://kg.ebrains.eu/api/instances/07b875c0-4a46-47a2-bde6-f8037312bf51'}), funded=KGQuery([<class 'fairgraph.openminds.core.miscellaneous.funding.Funding'>], {'funder': 'https://kg.ebrains.eu/api/instances/07b875c0-4a46-47a2-bde6-f8037312bf51'}), is_custodian_of=KGQuery([<class 'fairgraph.openminds.core.products.dataset.Dataset'>, <class 'fairgraph.openminds.core.products.dataset_version.DatasetVersion'>, <class 'fairgraph.openminds.publications.live_paper.LivePaper'>, <class 'fairgraph.openminds.publications.live_paper_version.LivePaperVersion'>, <class 'fairgraph.openminds.sands.atlas.brain_atlas.BrainAtlas'>, <class 'fairgraph.openminds.sands.atlas.brain_atlas_version.BrainAtlasVersion'>, <class 'fairgraph.openminds.sands.atlas.common_coordinate_space.CommonCoordinateSpace'>, <class 'fairgraph.openminds.sands.atlas.common_coordinate_space_version.CommonCoordinateSpaceVersion'>], {'custodians': 'https://kg.ebrains.eu/api/instances/07b875c0-4a46-47a2-bde6-f8037312bf51'}), is_owner_of=KGQuery([<class 'fairgraph.openminds.ephys.device.electrode.Electrode'>, <class 'fairgraph.openminds.ephys.device.electrode_array.ElectrodeArray'>, <class 'fairgraph.openminds.ephys.device.pipette.Pipette'>, <class 'fairgraph.openminds.specimen_prep.device.slicing_device.SlicingDevice'>], {'owners': 'https://kg.ebrains.eu/api/instances/07b875c0-4a46-47a2-bde6-f8037312bf51'}), is_provider_of=KGQuery([<class 'fairgraph.openminds.chemicals.product_source.ProductSource'>], {'provider': 'https://kg.ebrains.eu/api/instances/07b875c0-4a46-47a2-bde6-f8037312bf51'}), manufactured=KGQuery([<class 'fairgraph.openminds.core.products.setup.Setup'>], {'manufacturers': 'https://kg.ebrains.eu/api/instances/07b875c0-4a46-47a2-bde6-f8037312bf51'}), published=KGQuery([<class 'fairgraph.openminds.publications.book.Book'>, <class 'fairgraph.openminds.publications.chapter.Chapter'>, <class 'fairgraph.openminds.publications.learning_resource.LearningResource'>, <class 'fairgraph.openminds.publications.scholarly_article.ScholarlyArticle'>], {'publisher': 'https://kg.ebrains.eu/api/instances/07b875c0-4a46-47a2-bde6-f8037312bf51'}), started=KGQuery([<class 'fairgraph.openminds.computation.data_analysis.DataAnalysis'>, <class 'fairgraph.openminds.computation.data_copy.DataCopy'>, <class 'fairgraph.openminds.computation.generic_computation.GenericComputation'>, <class 'fairgraph.openminds.computation.model_validation.ModelValidation'>, <class 'fairgraph.openminds.computation.optimization.Optimization'>, <class 'fairgraph.openminds.computation.simulation.Simulation'>, <class 'fairgraph.openminds.computation.visualization.Visualization'>, <class 'fairgraph.openminds.computation.workflow_execution.WorkflowExecution'>], {'started_by': 'https://kg.ebrains.eu/api/instances/07b875c0-4a46-47a2-bde6-f8037312bf51'}), space=common, id=https://kg.ebrains.eu/api/instances/07b875c0-4a46-47a2-bde6-f8037312bf51),\n",
       " Person(family_name='Meliza', given_name='C Daniel', activities=KGQuery([<class 'fairgraph.openminds.core.research.protocol_execution.ProtocolExecution'>, <class 'fairgraph.openminds.ephys.activity.cell_patching.CellPatching'>, <class 'fairgraph.openminds.ephys.activity.electrode_placement.ElectrodePlacement'>, <class 'fairgraph.openminds.ephys.activity.recording_activity.RecordingActivity'>, <class 'fairgraph.openminds.specimen_prep.activity.cranial_window_preparation.CranialWindowPreparation'>, <class 'fairgraph.openminds.specimen_prep.activity.tissue_culture_preparation.TissueCulturePreparation'>, <class 'fairgraph.openminds.specimen_prep.activity.tissue_sample_slicing.TissueSampleSlicing'>, <class 'fairgraph.openminds.stimulation.activity.stimulation_activity.StimulationActivity'>], {'performed_by': 'https://kg.ebrains.eu/api/instances/07b933fb-2347-4c59-b76c-16447f30ce07'}), comments=KGQuery([<class 'fairgraph.openminds.core.miscellaneous.comment.Comment'>], {'commenter': 'https://kg.ebrains.eu/api/instances/07b933fb-2347-4c59-b76c-16447f30ce07'}), coordinated_projects=KGQuery([<class 'fairgraph.openminds.core.products.project.Project'>], {'coordinators': 'https://kg.ebrains.eu/api/instances/07b933fb-2347-4c59-b76c-16447f30ce07'}), developed=KGQuery([<class 'fairgraph.openminds.computation.validation_test.ValidationTest'>, <class 'fairgraph.openminds.computation.validation_test_version.ValidationTestVersion'>, <class 'fairgraph.openminds.computation.workflow_recipe.WorkflowRecipe'>, <class 'fairgraph.openminds.computation.workflow_recipe_version.WorkflowRecipeVersion'>, <class 'fairgraph.openminds.core.products.meta_data_model.MetaDataModel'>, <class 'fairgraph.openminds.core.products.meta_data_model_version.MetaDataModelVersion'>, <class 'fairgraph.openminds.core.products.model.Model'>, <class 'fairgraph.openminds.core.products.model_version.ModelVersion'>, <class 'fairgraph.openminds.core.products.software.Software'>, <class 'fairgraph.openminds.core.products.software_version.SoftwareVersion'>, <class 'fairgraph.openminds.core.products.web_service.WebService'>, <class 'fairgraph.openminds.core.products.web_service_version.WebServiceVersion'>], {'developers': 'https://kg.ebrains.eu/api/instances/07b933fb-2347-4c59-b76c-16447f30ce07'}), funded=KGQuery([<class 'fairgraph.openminds.core.miscellaneous.funding.Funding'>], {'funder': 'https://kg.ebrains.eu/api/instances/07b933fb-2347-4c59-b76c-16447f30ce07'}), is_custodian_of=KGQuery([<class 'fairgraph.openminds.core.products.dataset.Dataset'>, <class 'fairgraph.openminds.core.products.dataset_version.DatasetVersion'>, <class 'fairgraph.openminds.publications.live_paper.LivePaper'>, <class 'fairgraph.openminds.publications.live_paper_version.LivePaperVersion'>, <class 'fairgraph.openminds.sands.atlas.brain_atlas.BrainAtlas'>, <class 'fairgraph.openminds.sands.atlas.brain_atlas_version.BrainAtlasVersion'>, <class 'fairgraph.openminds.sands.atlas.common_coordinate_space.CommonCoordinateSpace'>, <class 'fairgraph.openminds.sands.atlas.common_coordinate_space_version.CommonCoordinateSpaceVersion'>], {'custodians': 'https://kg.ebrains.eu/api/instances/07b933fb-2347-4c59-b76c-16447f30ce07'}), is_owner_of=KGQuery([<class 'fairgraph.openminds.ephys.device.electrode.Electrode'>, <class 'fairgraph.openminds.ephys.device.electrode_array.ElectrodeArray'>, <class 'fairgraph.openminds.ephys.device.pipette.Pipette'>, <class 'fairgraph.openminds.specimen_prep.device.slicing_device.SlicingDevice'>], {'owners': 'https://kg.ebrains.eu/api/instances/07b933fb-2347-4c59-b76c-16447f30ce07'}), is_provider_of=KGQuery([<class 'fairgraph.openminds.chemicals.product_source.ProductSource'>], {'provider': 'https://kg.ebrains.eu/api/instances/07b933fb-2347-4c59-b76c-16447f30ce07'}), manufactured=KGQuery([<class 'fairgraph.openminds.core.products.setup.Setup'>], {'manufacturers': 'https://kg.ebrains.eu/api/instances/07b933fb-2347-4c59-b76c-16447f30ce07'}), published=KGQuery([<class 'fairgraph.openminds.publications.book.Book'>, <class 'fairgraph.openminds.publications.chapter.Chapter'>, <class 'fairgraph.openminds.publications.learning_resource.LearningResource'>, <class 'fairgraph.openminds.publications.scholarly_article.ScholarlyArticle'>], {'publisher': 'https://kg.ebrains.eu/api/instances/07b933fb-2347-4c59-b76c-16447f30ce07'}), started=KGQuery([<class 'fairgraph.openminds.computation.data_analysis.DataAnalysis'>, <class 'fairgraph.openminds.computation.data_copy.DataCopy'>, <class 'fairgraph.openminds.computation.generic_computation.GenericComputation'>, <class 'fairgraph.openminds.computation.model_validation.ModelValidation'>, <class 'fairgraph.openminds.computation.optimization.Optimization'>, <class 'fairgraph.openminds.computation.simulation.Simulation'>, <class 'fairgraph.openminds.computation.visualization.Visualization'>, <class 'fairgraph.openminds.computation.workflow_execution.WorkflowExecution'>], {'started_by': 'https://kg.ebrains.eu/api/instances/07b933fb-2347-4c59-b76c-16447f30ce07'}), space=software, id=https://kg.ebrains.eu/api/instances/07b933fb-2347-4c59-b76c-16447f30ce07),\n",
       " Person(affiliations=Affiliation(member_of=KGProxy((<class 'fairgraph.openminds.core.actors.consortium.Consortium'>, <class 'fairgraph.openminds.core.actors.organization.Organization'>), 'https://kg.ebrains.eu/api/instances/064c5409-f40b-4c2d-a00a-ee872b6cfef8')), family_name='Stangier', given_name='Jeanette', activities=KGQuery([<class 'fairgraph.openminds.core.research.protocol_execution.ProtocolExecution'>, <class 'fairgraph.openminds.ephys.activity.cell_patching.CellPatching'>, <class 'fairgraph.openminds.ephys.activity.electrode_placement.ElectrodePlacement'>, <class 'fairgraph.openminds.ephys.activity.recording_activity.RecordingActivity'>, <class 'fairgraph.openminds.specimen_prep.activity.cranial_window_preparation.CranialWindowPreparation'>, <class 'fairgraph.openminds.specimen_prep.activity.tissue_culture_preparation.TissueCulturePreparation'>, <class 'fairgraph.openminds.specimen_prep.activity.tissue_sample_slicing.TissueSampleSlicing'>, <class 'fairgraph.openminds.stimulation.activity.stimulation_activity.StimulationActivity'>], {'performed_by': 'https://kg.ebrains.eu/api/instances/07cc2c67-b6f5-415c-bc86-99d4c516bc3a'}), comments=KGQuery([<class 'fairgraph.openminds.core.miscellaneous.comment.Comment'>], {'commenter': 'https://kg.ebrains.eu/api/instances/07cc2c67-b6f5-415c-bc86-99d4c516bc3a'}), coordinated_projects=KGQuery([<class 'fairgraph.openminds.core.products.project.Project'>], {'coordinators': 'https://kg.ebrains.eu/api/instances/07cc2c67-b6f5-415c-bc86-99d4c516bc3a'}), developed=KGQuery([<class 'fairgraph.openminds.computation.validation_test.ValidationTest'>, <class 'fairgraph.openminds.computation.validation_test_version.ValidationTestVersion'>, <class 'fairgraph.openminds.computation.workflow_recipe.WorkflowRecipe'>, <class 'fairgraph.openminds.computation.workflow_recipe_version.WorkflowRecipeVersion'>, <class 'fairgraph.openminds.core.products.meta_data_model.MetaDataModel'>, <class 'fairgraph.openminds.core.products.meta_data_model_version.MetaDataModelVersion'>, <class 'fairgraph.openminds.core.products.model.Model'>, <class 'fairgraph.openminds.core.products.model_version.ModelVersion'>, <class 'fairgraph.openminds.core.products.software.Software'>, <class 'fairgraph.openminds.core.products.software_version.SoftwareVersion'>, <class 'fairgraph.openminds.core.products.web_service.WebService'>, <class 'fairgraph.openminds.core.products.web_service_version.WebServiceVersion'>], {'developers': 'https://kg.ebrains.eu/api/instances/07cc2c67-b6f5-415c-bc86-99d4c516bc3a'}), funded=KGQuery([<class 'fairgraph.openminds.core.miscellaneous.funding.Funding'>], {'funder': 'https://kg.ebrains.eu/api/instances/07cc2c67-b6f5-415c-bc86-99d4c516bc3a'}), is_custodian_of=KGQuery([<class 'fairgraph.openminds.core.products.dataset.Dataset'>, <class 'fairgraph.openminds.core.products.dataset_version.DatasetVersion'>, <class 'fairgraph.openminds.publications.live_paper.LivePaper'>, <class 'fairgraph.openminds.publications.live_paper_version.LivePaperVersion'>, <class 'fairgraph.openminds.sands.atlas.brain_atlas.BrainAtlas'>, <class 'fairgraph.openminds.sands.atlas.brain_atlas_version.BrainAtlasVersion'>, <class 'fairgraph.openminds.sands.atlas.common_coordinate_space.CommonCoordinateSpace'>, <class 'fairgraph.openminds.sands.atlas.common_coordinate_space_version.CommonCoordinateSpaceVersion'>], {'custodians': 'https://kg.ebrains.eu/api/instances/07cc2c67-b6f5-415c-bc86-99d4c516bc3a'}), is_owner_of=KGQuery([<class 'fairgraph.openminds.ephys.device.electrode.Electrode'>, <class 'fairgraph.openminds.ephys.device.electrode_array.ElectrodeArray'>, <class 'fairgraph.openminds.ephys.device.pipette.Pipette'>, <class 'fairgraph.openminds.specimen_prep.device.slicing_device.SlicingDevice'>], {'owners': 'https://kg.ebrains.eu/api/instances/07cc2c67-b6f5-415c-bc86-99d4c516bc3a'}), is_provider_of=KGQuery([<class 'fairgraph.openminds.chemicals.product_source.ProductSource'>], {'provider': 'https://kg.ebrains.eu/api/instances/07cc2c67-b6f5-415c-bc86-99d4c516bc3a'}), manufactured=KGQuery([<class 'fairgraph.openminds.core.products.setup.Setup'>], {'manufacturers': 'https://kg.ebrains.eu/api/instances/07cc2c67-b6f5-415c-bc86-99d4c516bc3a'}), published=KGQuery([<class 'fairgraph.openminds.publications.book.Book'>, <class 'fairgraph.openminds.publications.chapter.Chapter'>, <class 'fairgraph.openminds.publications.learning_resource.LearningResource'>, <class 'fairgraph.openminds.publications.scholarly_article.ScholarlyArticle'>], {'publisher': 'https://kg.ebrains.eu/api/instances/07cc2c67-b6f5-415c-bc86-99d4c516bc3a'}), started=KGQuery([<class 'fairgraph.openminds.computation.data_analysis.DataAnalysis'>, <class 'fairgraph.openminds.computation.data_copy.DataCopy'>, <class 'fairgraph.openminds.computation.generic_computation.GenericComputation'>, <class 'fairgraph.openminds.computation.model_validation.ModelValidation'>, <class 'fairgraph.openminds.computation.optimization.Optimization'>, <class 'fairgraph.openminds.computation.simulation.Simulation'>, <class 'fairgraph.openminds.computation.visualization.Visualization'>, <class 'fairgraph.openminds.computation.workflow_execution.WorkflowExecution'>], {'started_by': 'https://kg.ebrains.eu/api/instances/07cc2c67-b6f5-415c-bc86-99d4c516bc3a'}), space=common, id=https://kg.ebrains.eu/api/instances/07cc2c67-b6f5-415c-bc86-99d4c516bc3a),\n",
       " Person(affiliations=Affiliation(member_of=KGProxy((<class 'fairgraph.openminds.core.actors.consortium.Consortium'>, <class 'fairgraph.openminds.core.actors.organization.Organization'>), 'https://kg.ebrains.eu/api/instances/01dd16c8-ab3e-4635-aefd-0da5de2e5682')), contact_information=KGProxy([<class 'fairgraph.openminds.core.actors.contact_information.ContactInformation'>], 'https://kg.ebrains.eu/api/instances/6edef494-1c44-43e0-99f3-bd619627c538'), digital_identifiers=KGProxy([<class 'fairgraph.openminds.core.digital_identifier.orcid.ORCID'>], 'https://kg.ebrains.eu/api/instances/4123fbe2-0ddd-49ab-b7d8-7fb86ce8544d'), family_name='Suárez-Méndez', given_name='Isabel', activities=KGQuery([<class 'fairgraph.openminds.core.research.protocol_execution.ProtocolExecution'>, <class 'fairgraph.openminds.ephys.activity.cell_patching.CellPatching'>, <class 'fairgraph.openminds.ephys.activity.electrode_placement.ElectrodePlacement'>, <class 'fairgraph.openminds.ephys.activity.recording_activity.RecordingActivity'>, <class 'fairgraph.openminds.specimen_prep.activity.cranial_window_preparation.CranialWindowPreparation'>, <class 'fairgraph.openminds.specimen_prep.activity.tissue_culture_preparation.TissueCulturePreparation'>, <class 'fairgraph.openminds.specimen_prep.activity.tissue_sample_slicing.TissueSampleSlicing'>, <class 'fairgraph.openminds.stimulation.activity.stimulation_activity.StimulationActivity'>], {'performed_by': 'https://kg.ebrains.eu/api/instances/07d2bb7a-c54b-405f-aad9-d62f23a45c3c'}), comments=KGQuery([<class 'fairgraph.openminds.core.miscellaneous.comment.Comment'>], {'commenter': 'https://kg.ebrains.eu/api/instances/07d2bb7a-c54b-405f-aad9-d62f23a45c3c'}), coordinated_projects=KGQuery([<class 'fairgraph.openminds.core.products.project.Project'>], {'coordinators': 'https://kg.ebrains.eu/api/instances/07d2bb7a-c54b-405f-aad9-d62f23a45c3c'}), developed=KGQuery([<class 'fairgraph.openminds.computation.validation_test.ValidationTest'>, <class 'fairgraph.openminds.computation.validation_test_version.ValidationTestVersion'>, <class 'fairgraph.openminds.computation.workflow_recipe.WorkflowRecipe'>, <class 'fairgraph.openminds.computation.workflow_recipe_version.WorkflowRecipeVersion'>, <class 'fairgraph.openminds.core.products.meta_data_model.MetaDataModel'>, <class 'fairgraph.openminds.core.products.meta_data_model_version.MetaDataModelVersion'>, <class 'fairgraph.openminds.core.products.model.Model'>, <class 'fairgraph.openminds.core.products.model_version.ModelVersion'>, <class 'fairgraph.openminds.core.products.software.Software'>, <class 'fairgraph.openminds.core.products.software_version.SoftwareVersion'>, <class 'fairgraph.openminds.core.products.web_service.WebService'>, <class 'fairgraph.openminds.core.products.web_service_version.WebServiceVersion'>], {'developers': 'https://kg.ebrains.eu/api/instances/07d2bb7a-c54b-405f-aad9-d62f23a45c3c'}), funded=KGQuery([<class 'fairgraph.openminds.core.miscellaneous.funding.Funding'>], {'funder': 'https://kg.ebrains.eu/api/instances/07d2bb7a-c54b-405f-aad9-d62f23a45c3c'}), is_custodian_of=KGQuery([<class 'fairgraph.openminds.core.products.dataset.Dataset'>, <class 'fairgraph.openminds.core.products.dataset_version.DatasetVersion'>, <class 'fairgraph.openminds.publications.live_paper.LivePaper'>, <class 'fairgraph.openminds.publications.live_paper_version.LivePaperVersion'>, <class 'fairgraph.openminds.sands.atlas.brain_atlas.BrainAtlas'>, <class 'fairgraph.openminds.sands.atlas.brain_atlas_version.BrainAtlasVersion'>, <class 'fairgraph.openminds.sands.atlas.common_coordinate_space.CommonCoordinateSpace'>, <class 'fairgraph.openminds.sands.atlas.common_coordinate_space_version.CommonCoordinateSpaceVersion'>], {'custodians': 'https://kg.ebrains.eu/api/instances/07d2bb7a-c54b-405f-aad9-d62f23a45c3c'}), is_owner_of=KGQuery([<class 'fairgraph.openminds.ephys.device.electrode.Electrode'>, <class 'fairgraph.openminds.ephys.device.electrode_array.ElectrodeArray'>, <class 'fairgraph.openminds.ephys.device.pipette.Pipette'>, <class 'fairgraph.openminds.specimen_prep.device.slicing_device.SlicingDevice'>], {'owners': 'https://kg.ebrains.eu/api/instances/07d2bb7a-c54b-405f-aad9-d62f23a45c3c'}), is_provider_of=KGQuery([<class 'fairgraph.openminds.chemicals.product_source.ProductSource'>], {'provider': 'https://kg.ebrains.eu/api/instances/07d2bb7a-c54b-405f-aad9-d62f23a45c3c'}), manufactured=KGQuery([<class 'fairgraph.openminds.core.products.setup.Setup'>], {'manufacturers': 'https://kg.ebrains.eu/api/instances/07d2bb7a-c54b-405f-aad9-d62f23a45c3c'}), published=KGQuery([<class 'fairgraph.openminds.publications.book.Book'>, <class 'fairgraph.openminds.publications.chapter.Chapter'>, <class 'fairgraph.openminds.publications.learning_resource.LearningResource'>, <class 'fairgraph.openminds.publications.scholarly_article.ScholarlyArticle'>], {'publisher': 'https://kg.ebrains.eu/api/instances/07d2bb7a-c54b-405f-aad9-d62f23a45c3c'}), started=KGQuery([<class 'fairgraph.openminds.computation.data_analysis.DataAnalysis'>, <class 'fairgraph.openminds.computation.data_copy.DataCopy'>, <class 'fairgraph.openminds.computation.generic_computation.GenericComputation'>, <class 'fairgraph.openminds.computation.model_validation.ModelValidation'>, <class 'fairgraph.openminds.computation.optimization.Optimization'>, <class 'fairgraph.openminds.computation.simulation.Simulation'>, <class 'fairgraph.openminds.computation.visualization.Visualization'>, <class 'fairgraph.openminds.computation.workflow_execution.WorkflowExecution'>], {'started_by': 'https://kg.ebrains.eu/api/instances/07d2bb7a-c54b-405f-aad9-d62f23a45c3c'}), space=common, id=https://kg.ebrains.eu/api/instances/07d2bb7a-c54b-405f-aad9-d62f23a45c3c),\n",
       " Person(affiliations=Affiliation(member_of=KGProxy((<class 'fairgraph.openminds.core.actors.consortium.Consortium'>, <class 'fairgraph.openminds.core.actors.organization.Organization'>), 'https://kg.ebrains.eu/api/instances/e3f16a1a-184e-447d-aced-375c00ec4d41'), start_date=datetime.datetime(2016, 6, 1, 0, 0)), contact_information=KGProxy([<class 'fairgraph.openminds.core.actors.contact_information.ContactInformation'>], 'https://kg.ebrains.eu/api/instances/340758f7-ca00-47b0-8924-074488fcffac'), digital_identifiers=KGProxy([<class 'fairgraph.openminds.core.digital_identifier.orcid.ORCID'>], 'https://kg.ebrains.eu/api/instances/6f6be5f2-19c0-490b-b506-7d836f0f310f'), family_name='Yates', given_name='Sam', activities=KGQuery([<class 'fairgraph.openminds.core.research.protocol_execution.ProtocolExecution'>, <class 'fairgraph.openminds.ephys.activity.cell_patching.CellPatching'>, <class 'fairgraph.openminds.ephys.activity.electrode_placement.ElectrodePlacement'>, <class 'fairgraph.openminds.ephys.activity.recording_activity.RecordingActivity'>, <class 'fairgraph.openminds.specimen_prep.activity.cranial_window_preparation.CranialWindowPreparation'>, <class 'fairgraph.openminds.specimen_prep.activity.tissue_culture_preparation.TissueCulturePreparation'>, <class 'fairgraph.openminds.specimen_prep.activity.tissue_sample_slicing.TissueSampleSlicing'>, <class 'fairgraph.openminds.stimulation.activity.stimulation_activity.StimulationActivity'>], {'performed_by': 'https://kg.ebrains.eu/api/instances/07df3eec-7e89-46cc-98f1-69fa3e8405eb'}), comments=KGQuery([<class 'fairgraph.openminds.core.miscellaneous.comment.Comment'>], {'commenter': 'https://kg.ebrains.eu/api/instances/07df3eec-7e89-46cc-98f1-69fa3e8405eb'}), coordinated_projects=KGQuery([<class 'fairgraph.openminds.core.products.project.Project'>], {'coordinators': 'https://kg.ebrains.eu/api/instances/07df3eec-7e89-46cc-98f1-69fa3e8405eb'}), developed=KGQuery([<class 'fairgraph.openminds.computation.validation_test.ValidationTest'>, <class 'fairgraph.openminds.computation.validation_test_version.ValidationTestVersion'>, <class 'fairgraph.openminds.computation.workflow_recipe.WorkflowRecipe'>, <class 'fairgraph.openminds.computation.workflow_recipe_version.WorkflowRecipeVersion'>, <class 'fairgraph.openminds.core.products.meta_data_model.MetaDataModel'>, <class 'fairgraph.openminds.core.products.meta_data_model_version.MetaDataModelVersion'>, <class 'fairgraph.openminds.core.products.model.Model'>, <class 'fairgraph.openminds.core.products.model_version.ModelVersion'>, <class 'fairgraph.openminds.core.products.software.Software'>, <class 'fairgraph.openminds.core.products.software_version.SoftwareVersion'>, <class 'fairgraph.openminds.core.products.web_service.WebService'>, <class 'fairgraph.openminds.core.products.web_service_version.WebServiceVersion'>], {'developers': 'https://kg.ebrains.eu/api/instances/07df3eec-7e89-46cc-98f1-69fa3e8405eb'}), funded=KGQuery([<class 'fairgraph.openminds.core.miscellaneous.funding.Funding'>], {'funder': 'https://kg.ebrains.eu/api/instances/07df3eec-7e89-46cc-98f1-69fa3e8405eb'}), is_custodian_of=KGQuery([<class 'fairgraph.openminds.core.products.dataset.Dataset'>, <class 'fairgraph.openminds.core.products.dataset_version.DatasetVersion'>, <class 'fairgraph.openminds.publications.live_paper.LivePaper'>, <class 'fairgraph.openminds.publications.live_paper_version.LivePaperVersion'>, <class 'fairgraph.openminds.sands.atlas.brain_atlas.BrainAtlas'>, <class 'fairgraph.openminds.sands.atlas.brain_atlas_version.BrainAtlasVersion'>, <class 'fairgraph.openminds.sands.atlas.common_coordinate_space.CommonCoordinateSpace'>, <class 'fairgraph.openminds.sands.atlas.common_coordinate_space_version.CommonCoordinateSpaceVersion'>], {'custodians': 'https://kg.ebrains.eu/api/instances/07df3eec-7e89-46cc-98f1-69fa3e8405eb'}), is_owner_of=KGQuery([<class 'fairgraph.openminds.ephys.device.electrode.Electrode'>, <class 'fairgraph.openminds.ephys.device.electrode_array.ElectrodeArray'>, <class 'fairgraph.openminds.ephys.device.pipette.Pipette'>, <class 'fairgraph.openminds.specimen_prep.device.slicing_device.SlicingDevice'>], {'owners': 'https://kg.ebrains.eu/api/instances/07df3eec-7e89-46cc-98f1-69fa3e8405eb'}), is_provider_of=KGQuery([<class 'fairgraph.openminds.chemicals.product_source.ProductSource'>], {'provider': 'https://kg.ebrains.eu/api/instances/07df3eec-7e89-46cc-98f1-69fa3e8405eb'}), manufactured=KGQuery([<class 'fairgraph.openminds.core.products.setup.Setup'>], {'manufacturers': 'https://kg.ebrains.eu/api/instances/07df3eec-7e89-46cc-98f1-69fa3e8405eb'}), published=KGQuery([<class 'fairgraph.openminds.publications.book.Book'>, <class 'fairgraph.openminds.publications.chapter.Chapter'>, <class 'fairgraph.openminds.publications.learning_resource.LearningResource'>, <class 'fairgraph.openminds.publications.scholarly_article.ScholarlyArticle'>], {'publisher': 'https://kg.ebrains.eu/api/instances/07df3eec-7e89-46cc-98f1-69fa3e8405eb'}), started=KGQuery([<class 'fairgraph.openminds.computation.data_analysis.DataAnalysis'>, <class 'fairgraph.openminds.computation.data_copy.DataCopy'>, <class 'fairgraph.openminds.computation.generic_computation.GenericComputation'>, <class 'fairgraph.openminds.computation.model_validation.ModelValidation'>, <class 'fairgraph.openminds.computation.optimization.Optimization'>, <class 'fairgraph.openminds.computation.simulation.Simulation'>, <class 'fairgraph.openminds.computation.visualization.Visualization'>, <class 'fairgraph.openminds.computation.workflow_execution.WorkflowExecution'>], {'started_by': 'https://kg.ebrains.eu/api/instances/07df3eec-7e89-46cc-98f1-69fa3e8405eb'}), space=common, id=https://kg.ebrains.eu/api/instances/07df3eec-7e89-46cc-98f1-69fa3e8405eb),\n",
       " Person(affiliations=Affiliation(member_of=KGProxy((<class 'fairgraph.openminds.core.actors.consortium.Consortium'>, <class 'fairgraph.openminds.core.actors.organization.Organization'>), 'https://kg.ebrains.eu/api/instances/c49a07e0-1d5d-47f1-bcd1-b3a5aab277c2')), contact_information=KGProxy([<class 'fairgraph.openminds.core.actors.contact_information.ContactInformation'>], 'https://kg.ebrains.eu/api/instances/3bd28b4e-f37b-45f9-8839-932e3307b1ba'), family_name='Lambregts', given_name='Britt', activities=KGQuery([<class 'fairgraph.openminds.core.research.protocol_execution.ProtocolExecution'>, <class 'fairgraph.openminds.ephys.activity.cell_patching.CellPatching'>, <class 'fairgraph.openminds.ephys.activity.electrode_placement.ElectrodePlacement'>, <class 'fairgraph.openminds.ephys.activity.recording_activity.RecordingActivity'>, <class 'fairgraph.openminds.specimen_prep.activity.cranial_window_preparation.CranialWindowPreparation'>, <class 'fairgraph.openminds.specimen_prep.activity.tissue_culture_preparation.TissueCulturePreparation'>, <class 'fairgraph.openminds.specimen_prep.activity.tissue_sample_slicing.TissueSampleSlicing'>, <class 'fairgraph.openminds.stimulation.activity.stimulation_activity.StimulationActivity'>], {'performed_by': 'https://kg.ebrains.eu/api/instances/07ee9619-bf79-420e-9a99-8d18e7cff971'}), comments=KGQuery([<class 'fairgraph.openminds.core.miscellaneous.comment.Comment'>], {'commenter': 'https://kg.ebrains.eu/api/instances/07ee9619-bf79-420e-9a99-8d18e7cff971'}), coordinated_projects=KGQuery([<class 'fairgraph.openminds.core.products.project.Project'>], {'coordinators': 'https://kg.ebrains.eu/api/instances/07ee9619-bf79-420e-9a99-8d18e7cff971'}), developed=KGQuery([<class 'fairgraph.openminds.computation.validation_test.ValidationTest'>, <class 'fairgraph.openminds.computation.validation_test_version.ValidationTestVersion'>, <class 'fairgraph.openminds.computation.workflow_recipe.WorkflowRecipe'>, <class 'fairgraph.openminds.computation.workflow_recipe_version.WorkflowRecipeVersion'>, <class 'fairgraph.openminds.core.products.meta_data_model.MetaDataModel'>, <class 'fairgraph.openminds.core.products.meta_data_model_version.MetaDataModelVersion'>, <class 'fairgraph.openminds.core.products.model.Model'>, <class 'fairgraph.openminds.core.products.model_version.ModelVersion'>, <class 'fairgraph.openminds.core.products.software.Software'>, <class 'fairgraph.openminds.core.products.software_version.SoftwareVersion'>, <class 'fairgraph.openminds.core.products.web_service.WebService'>, <class 'fairgraph.openminds.core.products.web_service_version.WebServiceVersion'>], {'developers': 'https://kg.ebrains.eu/api/instances/07ee9619-bf79-420e-9a99-8d18e7cff971'}), funded=KGQuery([<class 'fairgraph.openminds.core.miscellaneous.funding.Funding'>], {'funder': 'https://kg.ebrains.eu/api/instances/07ee9619-bf79-420e-9a99-8d18e7cff971'}), is_custodian_of=KGQuery([<class 'fairgraph.openminds.core.products.dataset.Dataset'>, <class 'fairgraph.openminds.core.products.dataset_version.DatasetVersion'>, <class 'fairgraph.openminds.publications.live_paper.LivePaper'>, <class 'fairgraph.openminds.publications.live_paper_version.LivePaperVersion'>, <class 'fairgraph.openminds.sands.atlas.brain_atlas.BrainAtlas'>, <class 'fairgraph.openminds.sands.atlas.brain_atlas_version.BrainAtlasVersion'>, <class 'fairgraph.openminds.sands.atlas.common_coordinate_space.CommonCoordinateSpace'>, <class 'fairgraph.openminds.sands.atlas.common_coordinate_space_version.CommonCoordinateSpaceVersion'>], {'custodians': 'https://kg.ebrains.eu/api/instances/07ee9619-bf79-420e-9a99-8d18e7cff971'}), is_owner_of=KGQuery([<class 'fairgraph.openminds.ephys.device.electrode.Electrode'>, <class 'fairgraph.openminds.ephys.device.electrode_array.ElectrodeArray'>, <class 'fairgraph.openminds.ephys.device.pipette.Pipette'>, <class 'fairgraph.openminds.specimen_prep.device.slicing_device.SlicingDevice'>], {'owners': 'https://kg.ebrains.eu/api/instances/07ee9619-bf79-420e-9a99-8d18e7cff971'}), is_provider_of=KGQuery([<class 'fairgraph.openminds.chemicals.product_source.ProductSource'>], {'provider': 'https://kg.ebrains.eu/api/instances/07ee9619-bf79-420e-9a99-8d18e7cff971'}), manufactured=KGQuery([<class 'fairgraph.openminds.core.products.setup.Setup'>], {'manufacturers': 'https://kg.ebrains.eu/api/instances/07ee9619-bf79-420e-9a99-8d18e7cff971'}), published=KGQuery([<class 'fairgraph.openminds.publications.book.Book'>, <class 'fairgraph.openminds.publications.chapter.Chapter'>, <class 'fairgraph.openminds.publications.learning_resource.LearningResource'>, <class 'fairgraph.openminds.publications.scholarly_article.ScholarlyArticle'>], {'publisher': 'https://kg.ebrains.eu/api/instances/07ee9619-bf79-420e-9a99-8d18e7cff971'}), started=KGQuery([<class 'fairgraph.openminds.computation.data_analysis.DataAnalysis'>, <class 'fairgraph.openminds.computation.data_copy.DataCopy'>, <class 'fairgraph.openminds.computation.generic_computation.GenericComputation'>, <class 'fairgraph.openminds.computation.model_validation.ModelValidation'>, <class 'fairgraph.openminds.computation.optimization.Optimization'>, <class 'fairgraph.openminds.computation.simulation.Simulation'>, <class 'fairgraph.openminds.computation.visualization.Visualization'>, <class 'fairgraph.openminds.computation.workflow_execution.WorkflowExecution'>], {'started_by': 'https://kg.ebrains.eu/api/instances/07ee9619-bf79-420e-9a99-8d18e7cff971'}), space=common, id=https://kg.ebrains.eu/api/instances/07ee9619-bf79-420e-9a99-8d18e7cff971),\n",
       " Person(family_name='Gurd', given_name='Jennifer M.', activities=KGQuery([<class 'fairgraph.openminds.core.research.protocol_execution.ProtocolExecution'>, <class 'fairgraph.openminds.ephys.activity.cell_patching.CellPatching'>, <class 'fairgraph.openminds.ephys.activity.electrode_placement.ElectrodePlacement'>, <class 'fairgraph.openminds.ephys.activity.recording_activity.RecordingActivity'>, <class 'fairgraph.openminds.specimen_prep.activity.cranial_window_preparation.CranialWindowPreparation'>, <class 'fairgraph.openminds.specimen_prep.activity.tissue_culture_preparation.TissueCulturePreparation'>, <class 'fairgraph.openminds.specimen_prep.activity.tissue_sample_slicing.TissueSampleSlicing'>, <class 'fairgraph.openminds.stimulation.activity.stimulation_activity.StimulationActivity'>], {'performed_by': 'https://kg.ebrains.eu/api/instances/07f3992a-c47a-4fce-8345-ef8cc3c01760'}), comments=KGQuery([<class 'fairgraph.openminds.core.miscellaneous.comment.Comment'>], {'commenter': 'https://kg.ebrains.eu/api/instances/07f3992a-c47a-4fce-8345-ef8cc3c01760'}), coordinated_projects=KGQuery([<class 'fairgraph.openminds.core.products.project.Project'>], {'coordinators': 'https://kg.ebrains.eu/api/instances/07f3992a-c47a-4fce-8345-ef8cc3c01760'}), developed=KGQuery([<class 'fairgraph.openminds.computation.validation_test.ValidationTest'>, <class 'fairgraph.openminds.computation.validation_test_version.ValidationTestVersion'>, <class 'fairgraph.openminds.computation.workflow_recipe.WorkflowRecipe'>, <class 'fairgraph.openminds.computation.workflow_recipe_version.WorkflowRecipeVersion'>, <class 'fairgraph.openminds.core.products.meta_data_model.MetaDataModel'>, <class 'fairgraph.openminds.core.products.meta_data_model_version.MetaDataModelVersion'>, <class 'fairgraph.openminds.core.products.model.Model'>, <class 'fairgraph.openminds.core.products.model_version.ModelVersion'>, <class 'fairgraph.openminds.core.products.software.Software'>, <class 'fairgraph.openminds.core.products.software_version.SoftwareVersion'>, <class 'fairgraph.openminds.core.products.web_service.WebService'>, <class 'fairgraph.openminds.core.products.web_service_version.WebServiceVersion'>], {'developers': 'https://kg.ebrains.eu/api/instances/07f3992a-c47a-4fce-8345-ef8cc3c01760'}), funded=KGQuery([<class 'fairgraph.openminds.core.miscellaneous.funding.Funding'>], {'funder': 'https://kg.ebrains.eu/api/instances/07f3992a-c47a-4fce-8345-ef8cc3c01760'}), is_custodian_of=KGQuery([<class 'fairgraph.openminds.core.products.dataset.Dataset'>, <class 'fairgraph.openminds.core.products.dataset_version.DatasetVersion'>, <class 'fairgraph.openminds.publications.live_paper.LivePaper'>, <class 'fairgraph.openminds.publications.live_paper_version.LivePaperVersion'>, <class 'fairgraph.openminds.sands.atlas.brain_atlas.BrainAtlas'>, <class 'fairgraph.openminds.sands.atlas.brain_atlas_version.BrainAtlasVersion'>, <class 'fairgraph.openminds.sands.atlas.common_coordinate_space.CommonCoordinateSpace'>, <class 'fairgraph.openminds.sands.atlas.common_coordinate_space_version.CommonCoordinateSpaceVersion'>], {'custodians': 'https://kg.ebrains.eu/api/instances/07f3992a-c47a-4fce-8345-ef8cc3c01760'}), is_owner_of=KGQuery([<class 'fairgraph.openminds.ephys.device.electrode.Electrode'>, <class 'fairgraph.openminds.ephys.device.electrode_array.ElectrodeArray'>, <class 'fairgraph.openminds.ephys.device.pipette.Pipette'>, <class 'fairgraph.openminds.specimen_prep.device.slicing_device.SlicingDevice'>], {'owners': 'https://kg.ebrains.eu/api/instances/07f3992a-c47a-4fce-8345-ef8cc3c01760'}), is_provider_of=KGQuery([<class 'fairgraph.openminds.chemicals.product_source.ProductSource'>], {'provider': 'https://kg.ebrains.eu/api/instances/07f3992a-c47a-4fce-8345-ef8cc3c01760'}), manufactured=KGQuery([<class 'fairgraph.openminds.core.products.setup.Setup'>], {'manufacturers': 'https://kg.ebrains.eu/api/instances/07f3992a-c47a-4fce-8345-ef8cc3c01760'}), published=KGQuery([<class 'fairgraph.openminds.publications.book.Book'>, <class 'fairgraph.openminds.publications.chapter.Chapter'>, <class 'fairgraph.openminds.publications.learning_resource.LearningResource'>, <class 'fairgraph.openminds.publications.scholarly_article.ScholarlyArticle'>], {'publisher': 'https://kg.ebrains.eu/api/instances/07f3992a-c47a-4fce-8345-ef8cc3c01760'}), started=KGQuery([<class 'fairgraph.openminds.computation.data_analysis.DataAnalysis'>, <class 'fairgraph.openminds.computation.data_copy.DataCopy'>, <class 'fairgraph.openminds.computation.generic_computation.GenericComputation'>, <class 'fairgraph.openminds.computation.model_validation.ModelValidation'>, <class 'fairgraph.openminds.computation.optimization.Optimization'>, <class 'fairgraph.openminds.computation.simulation.Simulation'>, <class 'fairgraph.openminds.computation.visualization.Visualization'>, <class 'fairgraph.openminds.computation.workflow_execution.WorkflowExecution'>], {'started_by': 'https://kg.ebrains.eu/api/instances/07f3992a-c47a-4fce-8345-ef8cc3c01760'}), space=common, id=https://kg.ebrains.eu/api/instances/07f3992a-c47a-4fce-8345-ef8cc3c01760),\n",
       " Person(contact_information=KGProxy([<class 'fairgraph.openminds.core.actors.contact_information.ContactInformation'>], 'https://kg.ebrains.eu/api/instances/132cbf9d-21d4-4451-a6cb-d3b2c6000a96'), family_name='Marchetti', given_name='Cristina', activities=KGQuery([<class 'fairgraph.openminds.core.research.protocol_execution.ProtocolExecution'>, <class 'fairgraph.openminds.ephys.activity.cell_patching.CellPatching'>, <class 'fairgraph.openminds.ephys.activity.electrode_placement.ElectrodePlacement'>, <class 'fairgraph.openminds.ephys.activity.recording_activity.RecordingActivity'>, <class 'fairgraph.openminds.specimen_prep.activity.cranial_window_preparation.CranialWindowPreparation'>, <class 'fairgraph.openminds.specimen_prep.activity.tissue_culture_preparation.TissueCulturePreparation'>, <class 'fairgraph.openminds.specimen_prep.activity.tissue_sample_slicing.TissueSampleSlicing'>, <class 'fairgraph.openminds.stimulation.activity.stimulation_activity.StimulationActivity'>], {'performed_by': 'https://kg.ebrains.eu/api/instances/082126dc-9dbf-4e9c-a924-7b0de19b3e59'}), comments=KGQuery([<class 'fairgraph.openminds.core.miscellaneous.comment.Comment'>], {'commenter': 'https://kg.ebrains.eu/api/instances/082126dc-9dbf-4e9c-a924-7b0de19b3e59'}), coordinated_projects=KGQuery([<class 'fairgraph.openminds.core.products.project.Project'>], {'coordinators': 'https://kg.ebrains.eu/api/instances/082126dc-9dbf-4e9c-a924-7b0de19b3e59'}), developed=KGQuery([<class 'fairgraph.openminds.computation.validation_test.ValidationTest'>, <class 'fairgraph.openminds.computation.validation_test_version.ValidationTestVersion'>, <class 'fairgraph.openminds.computation.workflow_recipe.WorkflowRecipe'>, <class 'fairgraph.openminds.computation.workflow_recipe_version.WorkflowRecipeVersion'>, <class 'fairgraph.openminds.core.products.meta_data_model.MetaDataModel'>, <class 'fairgraph.openminds.core.products.meta_data_model_version.MetaDataModelVersion'>, <class 'fairgraph.openminds.core.products.model.Model'>, <class 'fairgraph.openminds.core.products.model_version.ModelVersion'>, <class 'fairgraph.openminds.core.products.software.Software'>, <class 'fairgraph.openminds.core.products.software_version.SoftwareVersion'>, <class 'fairgraph.openminds.core.products.web_service.WebService'>, <class 'fairgraph.openminds.core.products.web_service_version.WebServiceVersion'>], {'developers': 'https://kg.ebrains.eu/api/instances/082126dc-9dbf-4e9c-a924-7b0de19b3e59'}), funded=KGQuery([<class 'fairgraph.openminds.core.miscellaneous.funding.Funding'>], {'funder': 'https://kg.ebrains.eu/api/instances/082126dc-9dbf-4e9c-a924-7b0de19b3e59'}), is_custodian_of=KGQuery([<class 'fairgraph.openminds.core.products.dataset.Dataset'>, <class 'fairgraph.openminds.core.products.dataset_version.DatasetVersion'>, <class 'fairgraph.openminds.publications.live_paper.LivePaper'>, <class 'fairgraph.openminds.publications.live_paper_version.LivePaperVersion'>, <class 'fairgraph.openminds.sands.atlas.brain_atlas.BrainAtlas'>, <class 'fairgraph.openminds.sands.atlas.brain_atlas_version.BrainAtlasVersion'>, <class 'fairgraph.openminds.sands.atlas.common_coordinate_space.CommonCoordinateSpace'>, <class 'fairgraph.openminds.sands.atlas.common_coordinate_space_version.CommonCoordinateSpaceVersion'>], {'custodians': 'https://kg.ebrains.eu/api/instances/082126dc-9dbf-4e9c-a924-7b0de19b3e59'}), is_owner_of=KGQuery([<class 'fairgraph.openminds.ephys.device.electrode.Electrode'>, <class 'fairgraph.openminds.ephys.device.electrode_array.ElectrodeArray'>, <class 'fairgraph.openminds.ephys.device.pipette.Pipette'>, <class 'fairgraph.openminds.specimen_prep.device.slicing_device.SlicingDevice'>], {'owners': 'https://kg.ebrains.eu/api/instances/082126dc-9dbf-4e9c-a924-7b0de19b3e59'}), is_provider_of=KGQuery([<class 'fairgraph.openminds.chemicals.product_source.ProductSource'>], {'provider': 'https://kg.ebrains.eu/api/instances/082126dc-9dbf-4e9c-a924-7b0de19b3e59'}), manufactured=KGQuery([<class 'fairgraph.openminds.core.products.setup.Setup'>], {'manufacturers': 'https://kg.ebrains.eu/api/instances/082126dc-9dbf-4e9c-a924-7b0de19b3e59'}), published=KGQuery([<class 'fairgraph.openminds.publications.book.Book'>, <class 'fairgraph.openminds.publications.chapter.Chapter'>, <class 'fairgraph.openminds.publications.learning_resource.LearningResource'>, <class 'fairgraph.openminds.publications.scholarly_article.ScholarlyArticle'>], {'publisher': 'https://kg.ebrains.eu/api/instances/082126dc-9dbf-4e9c-a924-7b0de19b3e59'}), started=KGQuery([<class 'fairgraph.openminds.computation.data_analysis.DataAnalysis'>, <class 'fairgraph.openminds.computation.data_copy.DataCopy'>, <class 'fairgraph.openminds.computation.generic_computation.GenericComputation'>, <class 'fairgraph.openminds.computation.model_validation.ModelValidation'>, <class 'fairgraph.openminds.computation.optimization.Optimization'>, <class 'fairgraph.openminds.computation.simulation.Simulation'>, <class 'fairgraph.openminds.computation.visualization.Visualization'>, <class 'fairgraph.openminds.computation.workflow_execution.WorkflowExecution'>], {'started_by': 'https://kg.ebrains.eu/api/instances/082126dc-9dbf-4e9c-a924-7b0de19b3e59'}), space=common, id=https://kg.ebrains.eu/api/instances/082126dc-9dbf-4e9c-a924-7b0de19b3e59),\n",
       " Person(family_name='Histed', given_name='Mark', activities=KGQuery([<class 'fairgraph.openminds.core.research.protocol_execution.ProtocolExecution'>, <class 'fairgraph.openminds.ephys.activity.cell_patching.CellPatching'>, <class 'fairgraph.openminds.ephys.activity.electrode_placement.ElectrodePlacement'>, <class 'fairgraph.openminds.ephys.activity.recording_activity.RecordingActivity'>, <class 'fairgraph.openminds.specimen_prep.activity.cranial_window_preparation.CranialWindowPreparation'>, <class 'fairgraph.openminds.specimen_prep.activity.tissue_culture_preparation.TissueCulturePreparation'>, <class 'fairgraph.openminds.specimen_prep.activity.tissue_sample_slicing.TissueSampleSlicing'>, <class 'fairgraph.openminds.stimulation.activity.stimulation_activity.StimulationActivity'>], {'performed_by': 'https://kg.ebrains.eu/api/instances/0833d490-8d2c-473a-a80d-231d5e9f413a'}), comments=KGQuery([<class 'fairgraph.openminds.core.miscellaneous.comment.Comment'>], {'commenter': 'https://kg.ebrains.eu/api/instances/0833d490-8d2c-473a-a80d-231d5e9f413a'}), coordinated_projects=KGQuery([<class 'fairgraph.openminds.core.products.project.Project'>], {'coordinators': 'https://kg.ebrains.eu/api/instances/0833d490-8d2c-473a-a80d-231d5e9f413a'}), developed=KGQuery([<class 'fairgraph.openminds.computation.validation_test.ValidationTest'>, <class 'fairgraph.openminds.computation.validation_test_version.ValidationTestVersion'>, <class 'fairgraph.openminds.computation.workflow_recipe.WorkflowRecipe'>, <class 'fairgraph.openminds.computation.workflow_recipe_version.WorkflowRecipeVersion'>, <class 'fairgraph.openminds.core.products.meta_data_model.MetaDataModel'>, <class 'fairgraph.openminds.core.products.meta_data_model_version.MetaDataModelVersion'>, <class 'fairgraph.openminds.core.products.model.Model'>, <class 'fairgraph.openminds.core.products.model_version.ModelVersion'>, <class 'fairgraph.openminds.core.products.software.Software'>, <class 'fairgraph.openminds.core.products.software_version.SoftwareVersion'>, <class 'fairgraph.openminds.core.products.web_service.WebService'>, <class 'fairgraph.openminds.core.products.web_service_version.WebServiceVersion'>], {'developers': 'https://kg.ebrains.eu/api/instances/0833d490-8d2c-473a-a80d-231d5e9f413a'}), funded=KGQuery([<class 'fairgraph.openminds.core.miscellaneous.funding.Funding'>], {'funder': 'https://kg.ebrains.eu/api/instances/0833d490-8d2c-473a-a80d-231d5e9f413a'}), is_custodian_of=KGQuery([<class 'fairgraph.openminds.core.products.dataset.Dataset'>, <class 'fairgraph.openminds.core.products.dataset_version.DatasetVersion'>, <class 'fairgraph.openminds.publications.live_paper.LivePaper'>, <class 'fairgraph.openminds.publications.live_paper_version.LivePaperVersion'>, <class 'fairgraph.openminds.sands.atlas.brain_atlas.BrainAtlas'>, <class 'fairgraph.openminds.sands.atlas.brain_atlas_version.BrainAtlasVersion'>, <class 'fairgraph.openminds.sands.atlas.common_coordinate_space.CommonCoordinateSpace'>, <class 'fairgraph.openminds.sands.atlas.common_coordinate_space_version.CommonCoordinateSpaceVersion'>], {'custodians': 'https://kg.ebrains.eu/api/instances/0833d490-8d2c-473a-a80d-231d5e9f413a'}), is_owner_of=KGQuery([<class 'fairgraph.openminds.ephys.device.electrode.Electrode'>, <class 'fairgraph.openminds.ephys.device.electrode_array.ElectrodeArray'>, <class 'fairgraph.openminds.ephys.device.pipette.Pipette'>, <class 'fairgraph.openminds.specimen_prep.device.slicing_device.SlicingDevice'>], {'owners': 'https://kg.ebrains.eu/api/instances/0833d490-8d2c-473a-a80d-231d5e9f413a'}), is_provider_of=KGQuery([<class 'fairgraph.openminds.chemicals.product_source.ProductSource'>], {'provider': 'https://kg.ebrains.eu/api/instances/0833d490-8d2c-473a-a80d-231d5e9f413a'}), manufactured=KGQuery([<class 'fairgraph.openminds.core.products.setup.Setup'>], {'manufacturers': 'https://kg.ebrains.eu/api/instances/0833d490-8d2c-473a-a80d-231d5e9f413a'}), published=KGQuery([<class 'fairgraph.openminds.publications.book.Book'>, <class 'fairgraph.openminds.publications.chapter.Chapter'>, <class 'fairgraph.openminds.publications.learning_resource.LearningResource'>, <class 'fairgraph.openminds.publications.scholarly_article.ScholarlyArticle'>], {'publisher': 'https://kg.ebrains.eu/api/instances/0833d490-8d2c-473a-a80d-231d5e9f413a'}), started=KGQuery([<class 'fairgraph.openminds.computation.data_analysis.DataAnalysis'>, <class 'fairgraph.openminds.computation.data_copy.DataCopy'>, <class 'fairgraph.openminds.computation.generic_computation.GenericComputation'>, <class 'fairgraph.openminds.computation.model_validation.ModelValidation'>, <class 'fairgraph.openminds.computation.optimization.Optimization'>, <class 'fairgraph.openminds.computation.simulation.Simulation'>, <class 'fairgraph.openminds.computation.visualization.Visualization'>, <class 'fairgraph.openminds.computation.workflow_execution.WorkflowExecution'>], {'started_by': 'https://kg.ebrains.eu/api/instances/0833d490-8d2c-473a-a80d-231d5e9f413a'}), space=common, id=https://kg.ebrains.eu/api/instances/0833d490-8d2c-473a-a80d-231d5e9f413a),\n",
       " Person(contact_information=KGProxy([<class 'fairgraph.openminds.core.actors.contact_information.ContactInformation'>], 'https://kg.ebrains.eu/api/instances/6962ad1c-b1ab-41a6-9ab1-79996c16fd30'), family_name='Mersmann', given_name='Jochen', activities=KGQuery([<class 'fairgraph.openminds.core.research.protocol_execution.ProtocolExecution'>, <class 'fairgraph.openminds.ephys.activity.cell_patching.CellPatching'>, <class 'fairgraph.openminds.ephys.activity.electrode_placement.ElectrodePlacement'>, <class 'fairgraph.openminds.ephys.activity.recording_activity.RecordingActivity'>, <class 'fairgraph.openminds.specimen_prep.activity.cranial_window_preparation.CranialWindowPreparation'>, <class 'fairgraph.openminds.specimen_prep.activity.tissue_culture_preparation.TissueCulturePreparation'>, <class 'fairgraph.openminds.specimen_prep.activity.tissue_sample_slicing.TissueSampleSlicing'>, <class 'fairgraph.openminds.stimulation.activity.stimulation_activity.StimulationActivity'>], {'performed_by': 'https://kg.ebrains.eu/api/instances/08380973-2dc1-4326-b752-a10d9239a0b1'}), comments=KGQuery([<class 'fairgraph.openminds.core.miscellaneous.comment.Comment'>], {'commenter': 'https://kg.ebrains.eu/api/instances/08380973-2dc1-4326-b752-a10d9239a0b1'}), coordinated_projects=KGQuery([<class 'fairgraph.openminds.core.products.project.Project'>], {'coordinators': 'https://kg.ebrains.eu/api/instances/08380973-2dc1-4326-b752-a10d9239a0b1'}), developed=KGQuery([<class 'fairgraph.openminds.computation.validation_test.ValidationTest'>, <class 'fairgraph.openminds.computation.validation_test_version.ValidationTestVersion'>, <class 'fairgraph.openminds.computation.workflow_recipe.WorkflowRecipe'>, <class 'fairgraph.openminds.computation.workflow_recipe_version.WorkflowRecipeVersion'>, <class 'fairgraph.openminds.core.products.meta_data_model.MetaDataModel'>, <class 'fairgraph.openminds.core.products.meta_data_model_version.MetaDataModelVersion'>, <class 'fairgraph.openminds.core.products.model.Model'>, <class 'fairgraph.openminds.core.products.model_version.ModelVersion'>, <class 'fairgraph.openminds.core.products.software.Software'>, <class 'fairgraph.openminds.core.products.software_version.SoftwareVersion'>, <class 'fairgraph.openminds.core.products.web_service.WebService'>, <class 'fairgraph.openminds.core.products.web_service_version.WebServiceVersion'>], {'developers': 'https://kg.ebrains.eu/api/instances/08380973-2dc1-4326-b752-a10d9239a0b1'}), funded=KGQuery([<class 'fairgraph.openminds.core.miscellaneous.funding.Funding'>], {'funder': 'https://kg.ebrains.eu/api/instances/08380973-2dc1-4326-b752-a10d9239a0b1'}), is_custodian_of=KGQuery([<class 'fairgraph.openminds.core.products.dataset.Dataset'>, <class 'fairgraph.openminds.core.products.dataset_version.DatasetVersion'>, <class 'fairgraph.openminds.publications.live_paper.LivePaper'>, <class 'fairgraph.openminds.publications.live_paper_version.LivePaperVersion'>, <class 'fairgraph.openminds.sands.atlas.brain_atlas.BrainAtlas'>, <class 'fairgraph.openminds.sands.atlas.brain_atlas_version.BrainAtlasVersion'>, <class 'fairgraph.openminds.sands.atlas.common_coordinate_space.CommonCoordinateSpace'>, <class 'fairgraph.openminds.sands.atlas.common_coordinate_space_version.CommonCoordinateSpaceVersion'>], {'custodians': 'https://kg.ebrains.eu/api/instances/08380973-2dc1-4326-b752-a10d9239a0b1'}), is_owner_of=KGQuery([<class 'fairgraph.openminds.ephys.device.electrode.Electrode'>, <class 'fairgraph.openminds.ephys.device.electrode_array.ElectrodeArray'>, <class 'fairgraph.openminds.ephys.device.pipette.Pipette'>, <class 'fairgraph.openminds.specimen_prep.device.slicing_device.SlicingDevice'>], {'owners': 'https://kg.ebrains.eu/api/instances/08380973-2dc1-4326-b752-a10d9239a0b1'}), is_provider_of=KGQuery([<class 'fairgraph.openminds.chemicals.product_source.ProductSource'>], {'provider': 'https://kg.ebrains.eu/api/instances/08380973-2dc1-4326-b752-a10d9239a0b1'}), manufactured=KGQuery([<class 'fairgraph.openminds.core.products.setup.Setup'>], {'manufacturers': 'https://kg.ebrains.eu/api/instances/08380973-2dc1-4326-b752-a10d9239a0b1'}), published=KGQuery([<class 'fairgraph.openminds.publications.book.Book'>, <class 'fairgraph.openminds.publications.chapter.Chapter'>, <class 'fairgraph.openminds.publications.learning_resource.LearningResource'>, <class 'fairgraph.openminds.publications.scholarly_article.ScholarlyArticle'>], {'publisher': 'https://kg.ebrains.eu/api/instances/08380973-2dc1-4326-b752-a10d9239a0b1'}), started=KGQuery([<class 'fairgraph.openminds.computation.data_analysis.DataAnalysis'>, <class 'fairgraph.openminds.computation.data_copy.DataCopy'>, <class 'fairgraph.openminds.computation.generic_computation.GenericComputation'>, <class 'fairgraph.openminds.computation.model_validation.ModelValidation'>, <class 'fairgraph.openminds.computation.optimization.Optimization'>, <class 'fairgraph.openminds.computation.simulation.Simulation'>, <class 'fairgraph.openminds.computation.visualization.Visualization'>, <class 'fairgraph.openminds.computation.workflow_execution.WorkflowExecution'>], {'started_by': 'https://kg.ebrains.eu/api/instances/08380973-2dc1-4326-b752-a10d9239a0b1'}), space=common, id=https://kg.ebrains.eu/api/instances/08380973-2dc1-4326-b752-a10d9239a0b1),\n",
       " Person(digital_identifiers=KGProxy([<class 'fairgraph.openminds.core.digital_identifier.orcid.ORCID'>], 'https://kg.ebrains.eu/api/instances/21555a66-e51d-460c-bbbf-1ae45d5d55bb'), family_name='Chintaluri', given_name='Chaitanya', activities=KGQuery([<class 'fairgraph.openminds.core.research.protocol_execution.ProtocolExecution'>, <class 'fairgraph.openminds.ephys.activity.cell_patching.CellPatching'>, <class 'fairgraph.openminds.ephys.activity.electrode_placement.ElectrodePlacement'>, <class 'fairgraph.openminds.ephys.activity.recording_activity.RecordingActivity'>, <class 'fairgraph.openminds.specimen_prep.activity.cranial_window_preparation.CranialWindowPreparation'>, <class 'fairgraph.openminds.specimen_prep.activity.tissue_culture_preparation.TissueCulturePreparation'>, <class 'fairgraph.openminds.specimen_prep.activity.tissue_sample_slicing.TissueSampleSlicing'>, <class 'fairgraph.openminds.stimulation.activity.stimulation_activity.StimulationActivity'>], {'performed_by': 'https://kg.ebrains.eu/api/instances/083c588a-9ea8-4329-bc64-ef952cb5c1f6'}), comments=KGQuery([<class 'fairgraph.openminds.core.miscellaneous.comment.Comment'>], {'commenter': 'https://kg.ebrains.eu/api/instances/083c588a-9ea8-4329-bc64-ef952cb5c1f6'}), coordinated_projects=KGQuery([<class 'fairgraph.openminds.core.products.project.Project'>], {'coordinators': 'https://kg.ebrains.eu/api/instances/083c588a-9ea8-4329-bc64-ef952cb5c1f6'}), developed=KGQuery([<class 'fairgraph.openminds.computation.validation_test.ValidationTest'>, <class 'fairgraph.openminds.computation.validation_test_version.ValidationTestVersion'>, <class 'fairgraph.openminds.computation.workflow_recipe.WorkflowRecipe'>, <class 'fairgraph.openminds.computation.workflow_recipe_version.WorkflowRecipeVersion'>, <class 'fairgraph.openminds.core.products.meta_data_model.MetaDataModel'>, <class 'fairgraph.openminds.core.products.meta_data_model_version.MetaDataModelVersion'>, <class 'fairgraph.openminds.core.products.model.Model'>, <class 'fairgraph.openminds.core.products.model_version.ModelVersion'>, <class 'fairgraph.openminds.core.products.software.Software'>, <class 'fairgraph.openminds.core.products.software_version.SoftwareVersion'>, <class 'fairgraph.openminds.core.products.web_service.WebService'>, <class 'fairgraph.openminds.core.products.web_service_version.WebServiceVersion'>], {'developers': 'https://kg.ebrains.eu/api/instances/083c588a-9ea8-4329-bc64-ef952cb5c1f6'}), funded=KGQuery([<class 'fairgraph.openminds.core.miscellaneous.funding.Funding'>], {'funder': 'https://kg.ebrains.eu/api/instances/083c588a-9ea8-4329-bc64-ef952cb5c1f6'}), is_custodian_of=KGQuery([<class 'fairgraph.openminds.core.products.dataset.Dataset'>, <class 'fairgraph.openminds.core.products.dataset_version.DatasetVersion'>, <class 'fairgraph.openminds.publications.live_paper.LivePaper'>, <class 'fairgraph.openminds.publications.live_paper_version.LivePaperVersion'>, <class 'fairgraph.openminds.sands.atlas.brain_atlas.BrainAtlas'>, <class 'fairgraph.openminds.sands.atlas.brain_atlas_version.BrainAtlasVersion'>, <class 'fairgraph.openminds.sands.atlas.common_coordinate_space.CommonCoordinateSpace'>, <class 'fairgraph.openminds.sands.atlas.common_coordinate_space_version.CommonCoordinateSpaceVersion'>], {'custodians': 'https://kg.ebrains.eu/api/instances/083c588a-9ea8-4329-bc64-ef952cb5c1f6'}), is_owner_of=KGQuery([<class 'fairgraph.openminds.ephys.device.electrode.Electrode'>, <class 'fairgraph.openminds.ephys.device.electrode_array.ElectrodeArray'>, <class 'fairgraph.openminds.ephys.device.pipette.Pipette'>, <class 'fairgraph.openminds.specimen_prep.device.slicing_device.SlicingDevice'>], {'owners': 'https://kg.ebrains.eu/api/instances/083c588a-9ea8-4329-bc64-ef952cb5c1f6'}), is_provider_of=KGQuery([<class 'fairgraph.openminds.chemicals.product_source.ProductSource'>], {'provider': 'https://kg.ebrains.eu/api/instances/083c588a-9ea8-4329-bc64-ef952cb5c1f6'}), manufactured=KGQuery([<class 'fairgraph.openminds.core.products.setup.Setup'>], {'manufacturers': 'https://kg.ebrains.eu/api/instances/083c588a-9ea8-4329-bc64-ef952cb5c1f6'}), published=KGQuery([<class 'fairgraph.openminds.publications.book.Book'>, <class 'fairgraph.openminds.publications.chapter.Chapter'>, <class 'fairgraph.openminds.publications.learning_resource.LearningResource'>, <class 'fairgraph.openminds.publications.scholarly_article.ScholarlyArticle'>], {'publisher': 'https://kg.ebrains.eu/api/instances/083c588a-9ea8-4329-bc64-ef952cb5c1f6'}), started=KGQuery([<class 'fairgraph.openminds.computation.data_analysis.DataAnalysis'>, <class 'fairgraph.openminds.computation.data_copy.DataCopy'>, <class 'fairgraph.openminds.computation.generic_computation.GenericComputation'>, <class 'fairgraph.openminds.computation.model_validation.ModelValidation'>, <class 'fairgraph.openminds.computation.optimization.Optimization'>, <class 'fairgraph.openminds.computation.simulation.Simulation'>, <class 'fairgraph.openminds.computation.visualization.Visualization'>, <class 'fairgraph.openminds.computation.workflow_execution.WorkflowExecution'>], {'started_by': 'https://kg.ebrains.eu/api/instances/083c588a-9ea8-4329-bc64-ef952cb5c1f6'}), space=common, id=https://kg.ebrains.eu/api/instances/083c588a-9ea8-4329-bc64-ef952cb5c1f6),\n",
       " Person(affiliations=Affiliation(member_of=KGProxy((<class 'fairgraph.openminds.core.actors.consortium.Consortium'>, <class 'fairgraph.openminds.core.actors.organization.Organization'>), 'https://kg.ebrains.eu/api/instances/3f93152f-114b-4095-af14-50e71240601b')), contact_information=KGProxy([<class 'fairgraph.openminds.core.actors.contact_information.ContactInformation'>], 'https://kg.ebrains.eu/api/instances/88960b65-da1e-4268-ae95-a915050004c1'), family_name='Dimitriadis', given_name='George', activities=KGQuery([<class 'fairgraph.openminds.core.research.protocol_execution.ProtocolExecution'>, <class 'fairgraph.openminds.ephys.activity.cell_patching.CellPatching'>, <class 'fairgraph.openminds.ephys.activity.electrode_placement.ElectrodePlacement'>, <class 'fairgraph.openminds.ephys.activity.recording_activity.RecordingActivity'>, <class 'fairgraph.openminds.specimen_prep.activity.cranial_window_preparation.CranialWindowPreparation'>, <class 'fairgraph.openminds.specimen_prep.activity.tissue_culture_preparation.TissueCulturePreparation'>, <class 'fairgraph.openminds.specimen_prep.activity.tissue_sample_slicing.TissueSampleSlicing'>, <class 'fairgraph.openminds.stimulation.activity.stimulation_activity.StimulationActivity'>], {'performed_by': 'https://kg.ebrains.eu/api/instances/084b7c41-d19a-450a-8a10-1494d2a47392'}), comments=KGQuery([<class 'fairgraph.openminds.core.miscellaneous.comment.Comment'>], {'commenter': 'https://kg.ebrains.eu/api/instances/084b7c41-d19a-450a-8a10-1494d2a47392'}), coordinated_projects=KGQuery([<class 'fairgraph.openminds.core.products.project.Project'>], {'coordinators': 'https://kg.ebrains.eu/api/instances/084b7c41-d19a-450a-8a10-1494d2a47392'}), developed=KGQuery([<class 'fairgraph.openminds.computation.validation_test.ValidationTest'>, <class 'fairgraph.openminds.computation.validation_test_version.ValidationTestVersion'>, <class 'fairgraph.openminds.computation.workflow_recipe.WorkflowRecipe'>, <class 'fairgraph.openminds.computation.workflow_recipe_version.WorkflowRecipeVersion'>, <class 'fairgraph.openminds.core.products.meta_data_model.MetaDataModel'>, <class 'fairgraph.openminds.core.products.meta_data_model_version.MetaDataModelVersion'>, <class 'fairgraph.openminds.core.products.model.Model'>, <class 'fairgraph.openminds.core.products.model_version.ModelVersion'>, <class 'fairgraph.openminds.core.products.software.Software'>, <class 'fairgraph.openminds.core.products.software_version.SoftwareVersion'>, <class 'fairgraph.openminds.core.products.web_service.WebService'>, <class 'fairgraph.openminds.core.products.web_service_version.WebServiceVersion'>], {'developers': 'https://kg.ebrains.eu/api/instances/084b7c41-d19a-450a-8a10-1494d2a47392'}), funded=KGQuery([<class 'fairgraph.openminds.core.miscellaneous.funding.Funding'>], {'funder': 'https://kg.ebrains.eu/api/instances/084b7c41-d19a-450a-8a10-1494d2a47392'}), is_custodian_of=KGQuery([<class 'fairgraph.openminds.core.products.dataset.Dataset'>, <class 'fairgraph.openminds.core.products.dataset_version.DatasetVersion'>, <class 'fairgraph.openminds.publications.live_paper.LivePaper'>, <class 'fairgraph.openminds.publications.live_paper_version.LivePaperVersion'>, <class 'fairgraph.openminds.sands.atlas.brain_atlas.BrainAtlas'>, <class 'fairgraph.openminds.sands.atlas.brain_atlas_version.BrainAtlasVersion'>, <class 'fairgraph.openminds.sands.atlas.common_coordinate_space.CommonCoordinateSpace'>, <class 'fairgraph.openminds.sands.atlas.common_coordinate_space_version.CommonCoordinateSpaceVersion'>], {'custodians': 'https://kg.ebrains.eu/api/instances/084b7c41-d19a-450a-8a10-1494d2a47392'}), is_owner_of=KGQuery([<class 'fairgraph.openminds.ephys.device.electrode.Electrode'>, <class 'fairgraph.openminds.ephys.device.electrode_array.ElectrodeArray'>, <class 'fairgraph.openminds.ephys.device.pipette.Pipette'>, <class 'fairgraph.openminds.specimen_prep.device.slicing_device.SlicingDevice'>], {'owners': 'https://kg.ebrains.eu/api/instances/084b7c41-d19a-450a-8a10-1494d2a47392'}), is_provider_of=KGQuery([<class 'fairgraph.openminds.chemicals.product_source.ProductSource'>], {'provider': 'https://kg.ebrains.eu/api/instances/084b7c41-d19a-450a-8a10-1494d2a47392'}), manufactured=KGQuery([<class 'fairgraph.openminds.core.products.setup.Setup'>], {'manufacturers': 'https://kg.ebrains.eu/api/instances/084b7c41-d19a-450a-8a10-1494d2a47392'}), published=KGQuery([<class 'fairgraph.openminds.publications.book.Book'>, <class 'fairgraph.openminds.publications.chapter.Chapter'>, <class 'fairgraph.openminds.publications.learning_resource.LearningResource'>, <class 'fairgraph.openminds.publications.scholarly_article.ScholarlyArticle'>], {'publisher': 'https://kg.ebrains.eu/api/instances/084b7c41-d19a-450a-8a10-1494d2a47392'}), started=KGQuery([<class 'fairgraph.openminds.computation.data_analysis.DataAnalysis'>, <class 'fairgraph.openminds.computation.data_copy.DataCopy'>, <class 'fairgraph.openminds.computation.generic_computation.GenericComputation'>, <class 'fairgraph.openminds.computation.model_validation.ModelValidation'>, <class 'fairgraph.openminds.computation.optimization.Optimization'>, <class 'fairgraph.openminds.computation.simulation.Simulation'>, <class 'fairgraph.openminds.computation.visualization.Visualization'>, <class 'fairgraph.openminds.computation.workflow_execution.WorkflowExecution'>], {'started_by': 'https://kg.ebrains.eu/api/instances/084b7c41-d19a-450a-8a10-1494d2a47392'}), space=common, id=https://kg.ebrains.eu/api/instances/084b7c41-d19a-450a-8a10-1494d2a47392),\n",
       " Person(family_name='Sharda', given_name='Saksham', activities=KGQuery([<class 'fairgraph.openminds.core.research.protocol_execution.ProtocolExecution'>, <class 'fairgraph.openminds.ephys.activity.cell_patching.CellPatching'>, <class 'fairgraph.openminds.ephys.activity.electrode_placement.ElectrodePlacement'>, <class 'fairgraph.openminds.ephys.activity.recording_activity.RecordingActivity'>, <class 'fairgraph.openminds.specimen_prep.activity.cranial_window_preparation.CranialWindowPreparation'>, <class 'fairgraph.openminds.specimen_prep.activity.tissue_culture_preparation.TissueCulturePreparation'>, <class 'fairgraph.openminds.specimen_prep.activity.tissue_sample_slicing.TissueSampleSlicing'>, <class 'fairgraph.openminds.stimulation.activity.stimulation_activity.StimulationActivity'>], {'performed_by': 'https://kg.ebrains.eu/api/instances/08890fd3-1441-4735-890d-d2914c6300ab'}), comments=KGQuery([<class 'fairgraph.openminds.core.miscellaneous.comment.Comment'>], {'commenter': 'https://kg.ebrains.eu/api/instances/08890fd3-1441-4735-890d-d2914c6300ab'}), coordinated_projects=KGQuery([<class 'fairgraph.openminds.core.products.project.Project'>], {'coordinators': 'https://kg.ebrains.eu/api/instances/08890fd3-1441-4735-890d-d2914c6300ab'}), developed=KGQuery([<class 'fairgraph.openminds.computation.validation_test.ValidationTest'>, <class 'fairgraph.openminds.computation.validation_test_version.ValidationTestVersion'>, <class 'fairgraph.openminds.computation.workflow_recipe.WorkflowRecipe'>, <class 'fairgraph.openminds.computation.workflow_recipe_version.WorkflowRecipeVersion'>, <class 'fairgraph.openminds.core.products.meta_data_model.MetaDataModel'>, <class 'fairgraph.openminds.core.products.meta_data_model_version.MetaDataModelVersion'>, <class 'fairgraph.openminds.core.products.model.Model'>, <class 'fairgraph.openminds.core.products.model_version.ModelVersion'>, <class 'fairgraph.openminds.core.products.software.Software'>, <class 'fairgraph.openminds.core.products.software_version.SoftwareVersion'>, <class 'fairgraph.openminds.core.products.web_service.WebService'>, <class 'fairgraph.openminds.core.products.web_service_version.WebServiceVersion'>], {'developers': 'https://kg.ebrains.eu/api/instances/08890fd3-1441-4735-890d-d2914c6300ab'}), funded=KGQuery([<class 'fairgraph.openminds.core.miscellaneous.funding.Funding'>], {'funder': 'https://kg.ebrains.eu/api/instances/08890fd3-1441-4735-890d-d2914c6300ab'}), is_custodian_of=KGQuery([<class 'fairgraph.openminds.core.products.dataset.Dataset'>, <class 'fairgraph.openminds.core.products.dataset_version.DatasetVersion'>, <class 'fairgraph.openminds.publications.live_paper.LivePaper'>, <class 'fairgraph.openminds.publications.live_paper_version.LivePaperVersion'>, <class 'fairgraph.openminds.sands.atlas.brain_atlas.BrainAtlas'>, <class 'fairgraph.openminds.sands.atlas.brain_atlas_version.BrainAtlasVersion'>, <class 'fairgraph.openminds.sands.atlas.common_coordinate_space.CommonCoordinateSpace'>, <class 'fairgraph.openminds.sands.atlas.common_coordinate_space_version.CommonCoordinateSpaceVersion'>], {'custodians': 'https://kg.ebrains.eu/api/instances/08890fd3-1441-4735-890d-d2914c6300ab'}), is_owner_of=KGQuery([<class 'fairgraph.openminds.ephys.device.electrode.Electrode'>, <class 'fairgraph.openminds.ephys.device.electrode_array.ElectrodeArray'>, <class 'fairgraph.openminds.ephys.device.pipette.Pipette'>, <class 'fairgraph.openminds.specimen_prep.device.slicing_device.SlicingDevice'>], {'owners': 'https://kg.ebrains.eu/api/instances/08890fd3-1441-4735-890d-d2914c6300ab'}), is_provider_of=KGQuery([<class 'fairgraph.openminds.chemicals.product_source.ProductSource'>], {'provider': 'https://kg.ebrains.eu/api/instances/08890fd3-1441-4735-890d-d2914c6300ab'}), manufactured=KGQuery([<class 'fairgraph.openminds.core.products.setup.Setup'>], {'manufacturers': 'https://kg.ebrains.eu/api/instances/08890fd3-1441-4735-890d-d2914c6300ab'}), published=KGQuery([<class 'fairgraph.openminds.publications.book.Book'>, <class 'fairgraph.openminds.publications.chapter.Chapter'>, <class 'fairgraph.openminds.publications.learning_resource.LearningResource'>, <class 'fairgraph.openminds.publications.scholarly_article.ScholarlyArticle'>], {'publisher': 'https://kg.ebrains.eu/api/instances/08890fd3-1441-4735-890d-d2914c6300ab'}), started=KGQuery([<class 'fairgraph.openminds.computation.data_analysis.DataAnalysis'>, <class 'fairgraph.openminds.computation.data_copy.DataCopy'>, <class 'fairgraph.openminds.computation.generic_computation.GenericComputation'>, <class 'fairgraph.openminds.computation.model_validation.ModelValidation'>, <class 'fairgraph.openminds.computation.optimization.Optimization'>, <class 'fairgraph.openminds.computation.simulation.Simulation'>, <class 'fairgraph.openminds.computation.visualization.Visualization'>, <class 'fairgraph.openminds.computation.workflow_execution.WorkflowExecution'>], {'started_by': 'https://kg.ebrains.eu/api/instances/08890fd3-1441-4735-890d-d2914c6300ab'}), space=common, id=https://kg.ebrains.eu/api/instances/08890fd3-1441-4735-890d-d2914c6300ab),\n",
       " Person(family_name='Winterer', given_name='Georg', activities=KGQuery([<class 'fairgraph.openminds.core.research.protocol_execution.ProtocolExecution'>, <class 'fairgraph.openminds.ephys.activity.cell_patching.CellPatching'>, <class 'fairgraph.openminds.ephys.activity.electrode_placement.ElectrodePlacement'>, <class 'fairgraph.openminds.ephys.activity.recording_activity.RecordingActivity'>, <class 'fairgraph.openminds.specimen_prep.activity.cranial_window_preparation.CranialWindowPreparation'>, <class 'fairgraph.openminds.specimen_prep.activity.tissue_culture_preparation.TissueCulturePreparation'>, <class 'fairgraph.openminds.specimen_prep.activity.tissue_sample_slicing.TissueSampleSlicing'>, <class 'fairgraph.openminds.stimulation.activity.stimulation_activity.StimulationActivity'>], {'performed_by': 'https://kg.ebrains.eu/api/instances/08b52a4a-5ca3-4508-90c3-1f911fa19ebd'}), comments=KGQuery([<class 'fairgraph.openminds.core.miscellaneous.comment.Comment'>], {'commenter': 'https://kg.ebrains.eu/api/instances/08b52a4a-5ca3-4508-90c3-1f911fa19ebd'}), coordinated_projects=KGQuery([<class 'fairgraph.openminds.core.products.project.Project'>], {'coordinators': 'https://kg.ebrains.eu/api/instances/08b52a4a-5ca3-4508-90c3-1f911fa19ebd'}), developed=KGQuery([<class 'fairgraph.openminds.computation.validation_test.ValidationTest'>, <class 'fairgraph.openminds.computation.validation_test_version.ValidationTestVersion'>, <class 'fairgraph.openminds.computation.workflow_recipe.WorkflowRecipe'>, <class 'fairgraph.openminds.computation.workflow_recipe_version.WorkflowRecipeVersion'>, <class 'fairgraph.openminds.core.products.meta_data_model.MetaDataModel'>, <class 'fairgraph.openminds.core.products.meta_data_model_version.MetaDataModelVersion'>, <class 'fairgraph.openminds.core.products.model.Model'>, <class 'fairgraph.openminds.core.products.model_version.ModelVersion'>, <class 'fairgraph.openminds.core.products.software.Software'>, <class 'fairgraph.openminds.core.products.software_version.SoftwareVersion'>, <class 'fairgraph.openminds.core.products.web_service.WebService'>, <class 'fairgraph.openminds.core.products.web_service_version.WebServiceVersion'>], {'developers': 'https://kg.ebrains.eu/api/instances/08b52a4a-5ca3-4508-90c3-1f911fa19ebd'}), funded=KGQuery([<class 'fairgraph.openminds.core.miscellaneous.funding.Funding'>], {'funder': 'https://kg.ebrains.eu/api/instances/08b52a4a-5ca3-4508-90c3-1f911fa19ebd'}), is_custodian_of=KGQuery([<class 'fairgraph.openminds.core.products.dataset.Dataset'>, <class 'fairgraph.openminds.core.products.dataset_version.DatasetVersion'>, <class 'fairgraph.openminds.publications.live_paper.LivePaper'>, <class 'fairgraph.openminds.publications.live_paper_version.LivePaperVersion'>, <class 'fairgraph.openminds.sands.atlas.brain_atlas.BrainAtlas'>, <class 'fairgraph.openminds.sands.atlas.brain_atlas_version.BrainAtlasVersion'>, <class 'fairgraph.openminds.sands.atlas.common_coordinate_space.CommonCoordinateSpace'>, <class 'fairgraph.openminds.sands.atlas.common_coordinate_space_version.CommonCoordinateSpaceVersion'>], {'custodians': 'https://kg.ebrains.eu/api/instances/08b52a4a-5ca3-4508-90c3-1f911fa19ebd'}), is_owner_of=KGQuery([<class 'fairgraph.openminds.ephys.device.electrode.Electrode'>, <class 'fairgraph.openminds.ephys.device.electrode_array.ElectrodeArray'>, <class 'fairgraph.openminds.ephys.device.pipette.Pipette'>, <class 'fairgraph.openminds.specimen_prep.device.slicing_device.SlicingDevice'>], {'owners': 'https://kg.ebrains.eu/api/instances/08b52a4a-5ca3-4508-90c3-1f911fa19ebd'}), is_provider_of=KGQuery([<class 'fairgraph.openminds.chemicals.product_source.ProductSource'>], {'provider': 'https://kg.ebrains.eu/api/instances/08b52a4a-5ca3-4508-90c3-1f911fa19ebd'}), manufactured=KGQuery([<class 'fairgraph.openminds.core.products.setup.Setup'>], {'manufacturers': 'https://kg.ebrains.eu/api/instances/08b52a4a-5ca3-4508-90c3-1f911fa19ebd'}), published=KGQuery([<class 'fairgraph.openminds.publications.book.Book'>, <class 'fairgraph.openminds.publications.chapter.Chapter'>, <class 'fairgraph.openminds.publications.learning_resource.LearningResource'>, <class 'fairgraph.openminds.publications.scholarly_article.ScholarlyArticle'>], {'publisher': 'https://kg.ebrains.eu/api/instances/08b52a4a-5ca3-4508-90c3-1f911fa19ebd'}), started=KGQuery([<class 'fairgraph.openminds.computation.data_analysis.DataAnalysis'>, <class 'fairgraph.openminds.computation.data_copy.DataCopy'>, <class 'fairgraph.openminds.computation.generic_computation.GenericComputation'>, <class 'fairgraph.openminds.computation.model_validation.ModelValidation'>, <class 'fairgraph.openminds.computation.optimization.Optimization'>, <class 'fairgraph.openminds.computation.simulation.Simulation'>, <class 'fairgraph.openminds.computation.visualization.Visualization'>, <class 'fairgraph.openminds.computation.workflow_execution.WorkflowExecution'>], {'started_by': 'https://kg.ebrains.eu/api/instances/08b52a4a-5ca3-4508-90c3-1f911fa19ebd'}), space=common, id=https://kg.ebrains.eu/api/instances/08b52a4a-5ca3-4508-90c3-1f911fa19ebd),\n",
       " Person(family_name='Lober', given_name='Melissa', activities=KGQuery([<class 'fairgraph.openminds.core.research.protocol_execution.ProtocolExecution'>, <class 'fairgraph.openminds.ephys.activity.cell_patching.CellPatching'>, <class 'fairgraph.openminds.ephys.activity.electrode_placement.ElectrodePlacement'>, <class 'fairgraph.openminds.ephys.activity.recording_activity.RecordingActivity'>, <class 'fairgraph.openminds.specimen_prep.activity.cranial_window_preparation.CranialWindowPreparation'>, <class 'fairgraph.openminds.specimen_prep.activity.tissue_culture_preparation.TissueCulturePreparation'>, <class 'fairgraph.openminds.specimen_prep.activity.tissue_sample_slicing.TissueSampleSlicing'>, <class 'fairgraph.openminds.stimulation.activity.stimulation_activity.StimulationActivity'>], {'performed_by': 'https://kg.ebrains.eu/api/instances/08bf42a8-cc58-407a-9b33-0071fb24a350'}), comments=KGQuery([<class 'fairgraph.openminds.core.miscellaneous.comment.Comment'>], {'commenter': 'https://kg.ebrains.eu/api/instances/08bf42a8-cc58-407a-9b33-0071fb24a350'}), coordinated_projects=KGQuery([<class 'fairgraph.openminds.core.products.project.Project'>], {'coordinators': 'https://kg.ebrains.eu/api/instances/08bf42a8-cc58-407a-9b33-0071fb24a350'}), developed=KGQuery([<class 'fairgraph.openminds.computation.validation_test.ValidationTest'>, <class 'fairgraph.openminds.computation.validation_test_version.ValidationTestVersion'>, <class 'fairgraph.openminds.computation.workflow_recipe.WorkflowRecipe'>, <class 'fairgraph.openminds.computation.workflow_recipe_version.WorkflowRecipeVersion'>, <class 'fairgraph.openminds.core.products.meta_data_model.MetaDataModel'>, <class 'fairgraph.openminds.core.products.meta_data_model_version.MetaDataModelVersion'>, <class 'fairgraph.openminds.core.products.model.Model'>, <class 'fairgraph.openminds.core.products.model_version.ModelVersion'>, <class 'fairgraph.openminds.core.products.software.Software'>, <class 'fairgraph.openminds.core.products.software_version.SoftwareVersion'>, <class 'fairgraph.openminds.core.products.web_service.WebService'>, <class 'fairgraph.openminds.core.products.web_service_version.WebServiceVersion'>], {'developers': 'https://kg.ebrains.eu/api/instances/08bf42a8-cc58-407a-9b33-0071fb24a350'}), funded=KGQuery([<class 'fairgraph.openminds.core.miscellaneous.funding.Funding'>], {'funder': 'https://kg.ebrains.eu/api/instances/08bf42a8-cc58-407a-9b33-0071fb24a350'}), is_custodian_of=KGQuery([<class 'fairgraph.openminds.core.products.dataset.Dataset'>, <class 'fairgraph.openminds.core.products.dataset_version.DatasetVersion'>, <class 'fairgraph.openminds.publications.live_paper.LivePaper'>, <class 'fairgraph.openminds.publications.live_paper_version.LivePaperVersion'>, <class 'fairgraph.openminds.sands.atlas.brain_atlas.BrainAtlas'>, <class 'fairgraph.openminds.sands.atlas.brain_atlas_version.BrainAtlasVersion'>, <class 'fairgraph.openminds.sands.atlas.common_coordinate_space.CommonCoordinateSpace'>, <class 'fairgraph.openminds.sands.atlas.common_coordinate_space_version.CommonCoordinateSpaceVersion'>], {'custodians': 'https://kg.ebrains.eu/api/instances/08bf42a8-cc58-407a-9b33-0071fb24a350'}), is_owner_of=KGQuery([<class 'fairgraph.openminds.ephys.device.electrode.Electrode'>, <class 'fairgraph.openminds.ephys.device.electrode_array.ElectrodeArray'>, <class 'fairgraph.openminds.ephys.device.pipette.Pipette'>, <class 'fairgraph.openminds.specimen_prep.device.slicing_device.SlicingDevice'>], {'owners': 'https://kg.ebrains.eu/api/instances/08bf42a8-cc58-407a-9b33-0071fb24a350'}), is_provider_of=KGQuery([<class 'fairgraph.openminds.chemicals.product_source.ProductSource'>], {'provider': 'https://kg.ebrains.eu/api/instances/08bf42a8-cc58-407a-9b33-0071fb24a350'}), manufactured=KGQuery([<class 'fairgraph.openminds.core.products.setup.Setup'>], {'manufacturers': 'https://kg.ebrains.eu/api/instances/08bf42a8-cc58-407a-9b33-0071fb24a350'}), published=KGQuery([<class 'fairgraph.openminds.publications.book.Book'>, <class 'fairgraph.openminds.publications.chapter.Chapter'>, <class 'fairgraph.openminds.publications.learning_resource.LearningResource'>, <class 'fairgraph.openminds.publications.scholarly_article.ScholarlyArticle'>], {'publisher': 'https://kg.ebrains.eu/api/instances/08bf42a8-cc58-407a-9b33-0071fb24a350'}), started=KGQuery([<class 'fairgraph.openminds.computation.data_analysis.DataAnalysis'>, <class 'fairgraph.openminds.computation.data_copy.DataCopy'>, <class 'fairgraph.openminds.computation.generic_computation.GenericComputation'>, <class 'fairgraph.openminds.computation.model_validation.ModelValidation'>, <class 'fairgraph.openminds.computation.optimization.Optimization'>, <class 'fairgraph.openminds.computation.simulation.Simulation'>, <class 'fairgraph.openminds.computation.visualization.Visualization'>, <class 'fairgraph.openminds.computation.workflow_execution.WorkflowExecution'>], {'started_by': 'https://kg.ebrains.eu/api/instances/08bf42a8-cc58-407a-9b33-0071fb24a350'}), space=common, id=https://kg.ebrains.eu/api/instances/08bf42a8-cc58-407a-9b33-0071fb24a350),\n",
       " Person(contact_information=KGProxy([<class 'fairgraph.openminds.core.actors.contact_information.ContactInformation'>], 'https://kg.ebrains.eu/api/instances/d1e7914d-4bf8-408a-a831-c53983b27b98'), family_name='Theys', given_name='Tom', activities=KGQuery([<class 'fairgraph.openminds.core.research.protocol_execution.ProtocolExecution'>, <class 'fairgraph.openminds.ephys.activity.cell_patching.CellPatching'>, <class 'fairgraph.openminds.ephys.activity.electrode_placement.ElectrodePlacement'>, <class 'fairgraph.openminds.ephys.activity.recording_activity.RecordingActivity'>, <class 'fairgraph.openminds.specimen_prep.activity.cranial_window_preparation.CranialWindowPreparation'>, <class 'fairgraph.openminds.specimen_prep.activity.tissue_culture_preparation.TissueCulturePreparation'>, <class 'fairgraph.openminds.specimen_prep.activity.tissue_sample_slicing.TissueSampleSlicing'>, <class 'fairgraph.openminds.stimulation.activity.stimulation_activity.StimulationActivity'>], {'performed_by': 'https://kg.ebrains.eu/api/instances/08c59427-25d0-4612-8a2f-9742d01baaa7'}), comments=KGQuery([<class 'fairgraph.openminds.core.miscellaneous.comment.Comment'>], {'commenter': 'https://kg.ebrains.eu/api/instances/08c59427-25d0-4612-8a2f-9742d01baaa7'}), coordinated_projects=KGQuery([<class 'fairgraph.openminds.core.products.project.Project'>], {'coordinators': 'https://kg.ebrains.eu/api/instances/08c59427-25d0-4612-8a2f-9742d01baaa7'}), developed=KGQuery([<class 'fairgraph.openminds.computation.validation_test.ValidationTest'>, <class 'fairgraph.openminds.computation.validation_test_version.ValidationTestVersion'>, <class 'fairgraph.openminds.computation.workflow_recipe.WorkflowRecipe'>, <class 'fairgraph.openminds.computation.workflow_recipe_version.WorkflowRecipeVersion'>, <class 'fairgraph.openminds.core.products.meta_data_model.MetaDataModel'>, <class 'fairgraph.openminds.core.products.meta_data_model_version.MetaDataModelVersion'>, <class 'fairgraph.openminds.core.products.model.Model'>, <class 'fairgraph.openminds.core.products.model_version.ModelVersion'>, <class 'fairgraph.openminds.core.products.software.Software'>, <class 'fairgraph.openminds.core.products.software_version.SoftwareVersion'>, <class 'fairgraph.openminds.core.products.web_service.WebService'>, <class 'fairgraph.openminds.core.products.web_service_version.WebServiceVersion'>], {'developers': 'https://kg.ebrains.eu/api/instances/08c59427-25d0-4612-8a2f-9742d01baaa7'}), funded=KGQuery([<class 'fairgraph.openminds.core.miscellaneous.funding.Funding'>], {'funder': 'https://kg.ebrains.eu/api/instances/08c59427-25d0-4612-8a2f-9742d01baaa7'}), is_custodian_of=KGQuery([<class 'fairgraph.openminds.core.products.dataset.Dataset'>, <class 'fairgraph.openminds.core.products.dataset_version.DatasetVersion'>, <class 'fairgraph.openminds.publications.live_paper.LivePaper'>, <class 'fairgraph.openminds.publications.live_paper_version.LivePaperVersion'>, <class 'fairgraph.openminds.sands.atlas.brain_atlas.BrainAtlas'>, <class 'fairgraph.openminds.sands.atlas.brain_atlas_version.BrainAtlasVersion'>, <class 'fairgraph.openminds.sands.atlas.common_coordinate_space.CommonCoordinateSpace'>, <class 'fairgraph.openminds.sands.atlas.common_coordinate_space_version.CommonCoordinateSpaceVersion'>], {'custodians': 'https://kg.ebrains.eu/api/instances/08c59427-25d0-4612-8a2f-9742d01baaa7'}), is_owner_of=KGQuery([<class 'fairgraph.openminds.ephys.device.electrode.Electrode'>, <class 'fairgraph.openminds.ephys.device.electrode_array.ElectrodeArray'>, <class 'fairgraph.openminds.ephys.device.pipette.Pipette'>, <class 'fairgraph.openminds.specimen_prep.device.slicing_device.SlicingDevice'>], {'owners': 'https://kg.ebrains.eu/api/instances/08c59427-25d0-4612-8a2f-9742d01baaa7'}), is_provider_of=KGQuery([<class 'fairgraph.openminds.chemicals.product_source.ProductSource'>], {'provider': 'https://kg.ebrains.eu/api/instances/08c59427-25d0-4612-8a2f-9742d01baaa7'}), manufactured=KGQuery([<class 'fairgraph.openminds.core.products.setup.Setup'>], {'manufacturers': 'https://kg.ebrains.eu/api/instances/08c59427-25d0-4612-8a2f-9742d01baaa7'}), published=KGQuery([<class 'fairgraph.openminds.publications.book.Book'>, <class 'fairgraph.openminds.publications.chapter.Chapter'>, <class 'fairgraph.openminds.publications.learning_resource.LearningResource'>, <class 'fairgraph.openminds.publications.scholarly_article.ScholarlyArticle'>], {'publisher': 'https://kg.ebrains.eu/api/instances/08c59427-25d0-4612-8a2f-9742d01baaa7'}), started=KGQuery([<class 'fairgraph.openminds.computation.data_analysis.DataAnalysis'>, <class 'fairgraph.openminds.computation.data_copy.DataCopy'>, <class 'fairgraph.openminds.computation.generic_computation.GenericComputation'>, <class 'fairgraph.openminds.computation.model_validation.ModelValidation'>, <class 'fairgraph.openminds.computation.optimization.Optimization'>, <class 'fairgraph.openminds.computation.simulation.Simulation'>, <class 'fairgraph.openminds.computation.visualization.Visualization'>, <class 'fairgraph.openminds.computation.workflow_execution.WorkflowExecution'>], {'started_by': 'https://kg.ebrains.eu/api/instances/08c59427-25d0-4612-8a2f-9742d01baaa7'}), space=common, id=https://kg.ebrains.eu/api/instances/08c59427-25d0-4612-8a2f-9742d01baaa7),\n",
       " Person(affiliations=Affiliation(member_of=KGProxy((<class 'fairgraph.openminds.core.actors.consortium.Consortium'>, <class 'fairgraph.openminds.core.actors.organization.Organization'>), 'https://kg.ebrains.eu/api/instances/23d16a04-ec9e-42ca-bf86-c0b3089e3fd0')), family_name='Ramaswamy', given_name='Srikanth', activities=KGQuery([<class 'fairgraph.openminds.core.research.protocol_execution.ProtocolExecution'>, <class 'fairgraph.openminds.ephys.activity.cell_patching.CellPatching'>, <class 'fairgraph.openminds.ephys.activity.electrode_placement.ElectrodePlacement'>, <class 'fairgraph.openminds.ephys.activity.recording_activity.RecordingActivity'>, <class 'fairgraph.openminds.specimen_prep.activity.cranial_window_preparation.CranialWindowPreparation'>, <class 'fairgraph.openminds.specimen_prep.activity.tissue_culture_preparation.TissueCulturePreparation'>, <class 'fairgraph.openminds.specimen_prep.activity.tissue_sample_slicing.TissueSampleSlicing'>, <class 'fairgraph.openminds.stimulation.activity.stimulation_activity.StimulationActivity'>], {'performed_by': 'https://kg.ebrains.eu/api/instances/094d9d42-7016-4adb-97d3-737e110cc708'}), comments=KGQuery([<class 'fairgraph.openminds.core.miscellaneous.comment.Comment'>], {'commenter': 'https://kg.ebrains.eu/api/instances/094d9d42-7016-4adb-97d3-737e110cc708'}), coordinated_projects=KGQuery([<class 'fairgraph.openminds.core.products.project.Project'>], {'coordinators': 'https://kg.ebrains.eu/api/instances/094d9d42-7016-4adb-97d3-737e110cc708'}), developed=KGQuery([<class 'fairgraph.openminds.computation.validation_test.ValidationTest'>, <class 'fairgraph.openminds.computation.validation_test_version.ValidationTestVersion'>, <class 'fairgraph.openminds.computation.workflow_recipe.WorkflowRecipe'>, <class 'fairgraph.openminds.computation.workflow_recipe_version.WorkflowRecipeVersion'>, <class 'fairgraph.openminds.core.products.meta_data_model.MetaDataModel'>, <class 'fairgraph.openminds.core.products.meta_data_model_version.MetaDataModelVersion'>, <class 'fairgraph.openminds.core.products.model.Model'>, <class 'fairgraph.openminds.core.products.model_version.ModelVersion'>, <class 'fairgraph.openminds.core.products.software.Software'>, <class 'fairgraph.openminds.core.products.software_version.SoftwareVersion'>, <class 'fairgraph.openminds.core.products.web_service.WebService'>, <class 'fairgraph.openminds.core.products.web_service_version.WebServiceVersion'>], {'developers': 'https://kg.ebrains.eu/api/instances/094d9d42-7016-4adb-97d3-737e110cc708'}), funded=KGQuery([<class 'fairgraph.openminds.core.miscellaneous.funding.Funding'>], {'funder': 'https://kg.ebrains.eu/api/instances/094d9d42-7016-4adb-97d3-737e110cc708'}), is_custodian_of=KGQuery([<class 'fairgraph.openminds.core.products.dataset.Dataset'>, <class 'fairgraph.openminds.core.products.dataset_version.DatasetVersion'>, <class 'fairgraph.openminds.publications.live_paper.LivePaper'>, <class 'fairgraph.openminds.publications.live_paper_version.LivePaperVersion'>, <class 'fairgraph.openminds.sands.atlas.brain_atlas.BrainAtlas'>, <class 'fairgraph.openminds.sands.atlas.brain_atlas_version.BrainAtlasVersion'>, <class 'fairgraph.openminds.sands.atlas.common_coordinate_space.CommonCoordinateSpace'>, <class 'fairgraph.openminds.sands.atlas.common_coordinate_space_version.CommonCoordinateSpaceVersion'>], {'custodians': 'https://kg.ebrains.eu/api/instances/094d9d42-7016-4adb-97d3-737e110cc708'}), is_owner_of=KGQuery([<class 'fairgraph.openminds.ephys.device.electrode.Electrode'>, <class 'fairgraph.openminds.ephys.device.electrode_array.ElectrodeArray'>, <class 'fairgraph.openminds.ephys.device.pipette.Pipette'>, <class 'fairgraph.openminds.specimen_prep.device.slicing_device.SlicingDevice'>], {'owners': 'https://kg.ebrains.eu/api/instances/094d9d42-7016-4adb-97d3-737e110cc708'}), is_provider_of=KGQuery([<class 'fairgraph.openminds.chemicals.product_source.ProductSource'>], {'provider': 'https://kg.ebrains.eu/api/instances/094d9d42-7016-4adb-97d3-737e110cc708'}), manufactured=KGQuery([<class 'fairgraph.openminds.core.products.setup.Setup'>], {'manufacturers': 'https://kg.ebrains.eu/api/instances/094d9d42-7016-4adb-97d3-737e110cc708'}), published=KGQuery([<class 'fairgraph.openminds.publications.book.Book'>, <class 'fairgraph.openminds.publications.chapter.Chapter'>, <class 'fairgraph.openminds.publications.learning_resource.LearningResource'>, <class 'fairgraph.openminds.publications.scholarly_article.ScholarlyArticle'>], {'publisher': 'https://kg.ebrains.eu/api/instances/094d9d42-7016-4adb-97d3-737e110cc708'}), started=KGQuery([<class 'fairgraph.openminds.computation.data_analysis.DataAnalysis'>, <class 'fairgraph.openminds.computation.data_copy.DataCopy'>, <class 'fairgraph.openminds.computation.generic_computation.GenericComputation'>, <class 'fairgraph.openminds.computation.model_validation.ModelValidation'>, <class 'fairgraph.openminds.computation.optimization.Optimization'>, <class 'fairgraph.openminds.computation.simulation.Simulation'>, <class 'fairgraph.openminds.computation.visualization.Visualization'>, <class 'fairgraph.openminds.computation.workflow_execution.WorkflowExecution'>], {'started_by': 'https://kg.ebrains.eu/api/instances/094d9d42-7016-4adb-97d3-737e110cc708'}), space=common, id=https://kg.ebrains.eu/api/instances/094d9d42-7016-4adb-97d3-737e110cc708),\n",
       " Person(family_name='De Blasi', given_name='Ignazio', activities=KGQuery([<class 'fairgraph.openminds.core.research.protocol_execution.ProtocolExecution'>, <class 'fairgraph.openminds.ephys.activity.cell_patching.CellPatching'>, <class 'fairgraph.openminds.ephys.activity.electrode_placement.ElectrodePlacement'>, <class 'fairgraph.openminds.ephys.activity.recording_activity.RecordingActivity'>, <class 'fairgraph.openminds.specimen_prep.activity.cranial_window_preparation.CranialWindowPreparation'>, <class 'fairgraph.openminds.specimen_prep.activity.tissue_culture_preparation.TissueCulturePreparation'>, <class 'fairgraph.openminds.specimen_prep.activity.tissue_sample_slicing.TissueSampleSlicing'>, <class 'fairgraph.openminds.stimulation.activity.stimulation_activity.StimulationActivity'>], {'performed_by': 'https://kg.ebrains.eu/api/instances/0968fcd1-8133-4803-b717-db59bb245a69'}), comments=KGQuery([<class 'fairgraph.openminds.core.miscellaneous.comment.Comment'>], {'commenter': 'https://kg.ebrains.eu/api/instances/0968fcd1-8133-4803-b717-db59bb245a69'}), coordinated_projects=KGQuery([<class 'fairgraph.openminds.core.products.project.Project'>], {'coordinators': 'https://kg.ebrains.eu/api/instances/0968fcd1-8133-4803-b717-db59bb245a69'}), developed=KGQuery([<class 'fairgraph.openminds.computation.validation_test.ValidationTest'>, <class 'fairgraph.openminds.computation.validation_test_version.ValidationTestVersion'>, <class 'fairgraph.openminds.computation.workflow_recipe.WorkflowRecipe'>, <class 'fairgraph.openminds.computation.workflow_recipe_version.WorkflowRecipeVersion'>, <class 'fairgraph.openminds.core.products.meta_data_model.MetaDataModel'>, <class 'fairgraph.openminds.core.products.meta_data_model_version.MetaDataModelVersion'>, <class 'fairgraph.openminds.core.products.model.Model'>, <class 'fairgraph.openminds.core.products.model_version.ModelVersion'>, <class 'fairgraph.openminds.core.products.software.Software'>, <class 'fairgraph.openminds.core.products.software_version.SoftwareVersion'>, <class 'fairgraph.openminds.core.products.web_service.WebService'>, <class 'fairgraph.openminds.core.products.web_service_version.WebServiceVersion'>], {'developers': 'https://kg.ebrains.eu/api/instances/0968fcd1-8133-4803-b717-db59bb245a69'}), funded=KGQuery([<class 'fairgraph.openminds.core.miscellaneous.funding.Funding'>], {'funder': 'https://kg.ebrains.eu/api/instances/0968fcd1-8133-4803-b717-db59bb245a69'}), is_custodian_of=KGQuery([<class 'fairgraph.openminds.core.products.dataset.Dataset'>, <class 'fairgraph.openminds.core.products.dataset_version.DatasetVersion'>, <class 'fairgraph.openminds.publications.live_paper.LivePaper'>, <class 'fairgraph.openminds.publications.live_paper_version.LivePaperVersion'>, <class 'fairgraph.openminds.sands.atlas.brain_atlas.BrainAtlas'>, <class 'fairgraph.openminds.sands.atlas.brain_atlas_version.BrainAtlasVersion'>, <class 'fairgraph.openminds.sands.atlas.common_coordinate_space.CommonCoordinateSpace'>, <class 'fairgraph.openminds.sands.atlas.common_coordinate_space_version.CommonCoordinateSpaceVersion'>], {'custodians': 'https://kg.ebrains.eu/api/instances/0968fcd1-8133-4803-b717-db59bb245a69'}), is_owner_of=KGQuery([<class 'fairgraph.openminds.ephys.device.electrode.Electrode'>, <class 'fairgraph.openminds.ephys.device.electrode_array.ElectrodeArray'>, <class 'fairgraph.openminds.ephys.device.pipette.Pipette'>, <class 'fairgraph.openminds.specimen_prep.device.slicing_device.SlicingDevice'>], {'owners': 'https://kg.ebrains.eu/api/instances/0968fcd1-8133-4803-b717-db59bb245a69'}), is_provider_of=KGQuery([<class 'fairgraph.openminds.chemicals.product_source.ProductSource'>], {'provider': 'https://kg.ebrains.eu/api/instances/0968fcd1-8133-4803-b717-db59bb245a69'}), manufactured=KGQuery([<class 'fairgraph.openminds.core.products.setup.Setup'>], {'manufacturers': 'https://kg.ebrains.eu/api/instances/0968fcd1-8133-4803-b717-db59bb245a69'}), published=KGQuery([<class 'fairgraph.openminds.publications.book.Book'>, <class 'fairgraph.openminds.publications.chapter.Chapter'>, <class 'fairgraph.openminds.publications.learning_resource.LearningResource'>, <class 'fairgraph.openminds.publications.scholarly_article.ScholarlyArticle'>], {'publisher': 'https://kg.ebrains.eu/api/instances/0968fcd1-8133-4803-b717-db59bb245a69'}), started=KGQuery([<class 'fairgraph.openminds.computation.data_analysis.DataAnalysis'>, <class 'fairgraph.openminds.computation.data_copy.DataCopy'>, <class 'fairgraph.openminds.computation.generic_computation.GenericComputation'>, <class 'fairgraph.openminds.computation.model_validation.ModelValidation'>, <class 'fairgraph.openminds.computation.optimization.Optimization'>, <class 'fairgraph.openminds.computation.simulation.Simulation'>, <class 'fairgraph.openminds.computation.visualization.Visualization'>, <class 'fairgraph.openminds.computation.workflow_execution.WorkflowExecution'>], {'started_by': 'https://kg.ebrains.eu/api/instances/0968fcd1-8133-4803-b717-db59bb245a69'}), space=common, id=https://kg.ebrains.eu/api/instances/0968fcd1-8133-4803-b717-db59bb245a69)]"
      ]
     },
     "execution_count": 157,
     "metadata": {},
     "output_type": "execute_result"
    }
   ],
   "source": [
    "omcore.Person.list(kg_client)"
   ]
  },
  {
   "cell_type": "code",
   "execution_count": 165,
   "id": "ead300fe-fe2f-4d72-bcff-6c0829186f66",
   "metadata": {
    "collapsed": true,
    "jupyter": {
     "outputs_hidden": true
    },
    "tags": []
   },
   "outputs": [
    {
     "data": {
      "text/plain": [
       "[Person(affiliations=Affiliation(start_date=datetime.datetime(2011, 1, 1, 0, 0)), family_name='Puchades', given_name='Maja A.', developed=[KGProxy([<class 'fairgraph.openminds.core.products.software.Software'>], 'https://kg.ebrains.eu/api/instances/dde6955f-9cd7-4259-ae44-ee89c0e72239'), KGProxy([<class 'fairgraph.openminds.core.products.software.Software'>], 'https://kg.ebrains.eu/api/instances/98bdb1b7-e4be-434b-a12b-44b5ad334889'), KGProxy([<class 'fairgraph.openminds.core.products.software.Software'>], 'https://kg.ebrains.eu/api/instances/6452186f-43d5-4ed7-8529-5704a54d7c32'), KGProxy([<class 'fairgraph.openminds.core.products.software.Software'>], 'https://kg.ebrains.eu/api/instances/890872f3-aed0-4f3d-821f-03a10b52e348'), KGProxy([<class 'fairgraph.openminds.core.products.software.Software'>], 'https://kg.ebrains.eu/api/instances/c39ce112-8fcd-4afb-b789-da8ec7875714'), KGProxy([<class 'fairgraph.openminds.core.products.software.Software'>], 'https://kg.ebrains.eu/api/instances/95053862-450a-45f7-8f16-eb3f781376b4'), KGProxy([<class 'fairgraph.openminds.core.products.software.Software'>], 'https://kg.ebrains.eu/api/instances/e5395520-4a17-4be9-97da-e12a663fcd81'), KGProxy([<class 'fairgraph.openminds.core.products.software_version.SoftwareVersion'>], 'https://kg.ebrains.eu/api/instances/f5d1ac5d-4356-41c3-a4ce-d110e00e759b'), KGProxy([<class 'fairgraph.openminds.core.products.software_version.SoftwareVersion'>], 'https://kg.ebrains.eu/api/instances/f145abc6-913a-4561-a66f-74efdfdd06b9'), KGProxy([<class 'fairgraph.openminds.core.products.software_version.SoftwareVersion'>], 'https://kg.ebrains.eu/api/instances/5badddb6-4906-4274-8976-0b3a3fa74f07'), KGProxy([<class 'fairgraph.openminds.core.products.software.Software'>], 'https://kg.ebrains.eu/api/instances/9ec73fc2-d339-4e0f-a826-72d79f0e90c7'), KGProxy([<class 'fairgraph.openminds.core.products.software.Software'>], 'https://kg.ebrains.eu/api/instances/1e4472ff-9227-46c9-b55b-04c42035210c')], is_custodian_of=[KGProxy([<class 'fairgraph.openminds.core.products.dataset_version.DatasetVersion'>], 'https://kg.ebrains.eu/api/instances/cd8384fc-9a9e-4399-b917-c52babdd6845'), KGProxy([<class 'fairgraph.openminds.core.products.dataset_version.DatasetVersion'>], 'https://kg.ebrains.eu/api/instances/e1e43ae4-2983-44b9-b181-e845e8ffabcb'), KGProxy([<class 'fairgraph.openminds.core.products.dataset_version.DatasetVersion'>], 'https://kg.ebrains.eu/api/instances/9f05f4df-b817-4f38-ac01-b2561b275b75'), KGProxy([<class 'fairgraph.openminds.core.products.dataset_version.DatasetVersion'>], 'https://kg.ebrains.eu/api/instances/eeef583e-0feb-4b67-a921-ff2f82373986'), KGProxy([<class 'fairgraph.openminds.core.products.dataset_version.DatasetVersion'>], 'https://kg.ebrains.eu/api/instances/2357f08b-a0f4-40f6-815c-579a8208aa90'), KGProxy([<class 'fairgraph.openminds.core.products.dataset_version.DatasetVersion'>], 'https://kg.ebrains.eu/api/instances/a2816a0f-4c47-4626-a146-72fd10422e99'), KGProxy([<class 'fairgraph.openminds.core.products.dataset_version.DatasetVersion'>], 'https://kg.ebrains.eu/api/instances/79aea544-230d-4491-9188-9288fe17c942'), KGProxy([<class 'fairgraph.openminds.core.products.dataset_version.DatasetVersion'>], 'https://kg.ebrains.eu/api/instances/8992ccf2-e993-4fb3-996a-f5ba4780856f')], space=common, id=https://kg.ebrains.eu/api/instances/33aec65a-8f3c-45a7-8d74-607ee8ae5709)]"
      ]
     },
     "execution_count": 165,
     "metadata": {},
     "output_type": "execute_result"
    }
   ],
   "source": [
    "example_person = omcore.Person.list(kg_client, given_name='Maja')\n",
    "example_person"
   ]
  },
  {
   "cell_type": "markdown",
   "id": "248747c0-7b94-4f05-b0fd-78b148b103ed",
   "metadata": {},
   "source": [
    "# Following links in the graph"
   ]
  },
  {
   "cell_type": "code",
   "execution_count": 14,
   "id": "72ff3e77-3bb3-4bed-9086-1d7c3082037a",
   "metadata": {},
   "outputs": [
    {
     "name": "stdout",
     "output_type": "stream",
     "text": [
      "id          https://kg.ebrains.eu/api/instances/df93b012-3bb6-4565-bce0-3bd2d3aed63b\n",
      "space       dataset\n",
      "type        https://openminds.ebrains.eu/core/DOI\n",
      "identifier  https://doi.org/10.25493/YJFW-HPY\n"
     ]
    }
   ],
   "source": [
    "doi = example_dataset_version.digital_identifier.resolve(kg_client)\n",
    "doi.show()"
   ]
  },
  {
   "cell_type": "code",
   "execution_count": 15,
   "id": "c5550324-4c46-468d-b644-84427204a5df",
   "metadata": {},
   "outputs": [
    {
     "name": "stdout",
     "output_type": "stream",
     "text": [
      "id     https://kg.ebrains.eu/api/instances/f468ee45-37a6-4e71-8b70-0cbe66d367db\n",
      "space  controlled\n",
      "type   https://openminds.ebrains.eu/controlledTerms/SemanticDataType\n",
      "name   experimental data\n"
     ]
    }
   ],
   "source": [
    "data_types = example_dataset_version.data_types.resolve(kg_client)\n",
    "data_types.show()"
   ]
  },
  {
   "cell_type": "code",
   "execution_count": 16,
   "id": "ab299ae2-1367-4ffb-814a-699ca44db7a5",
   "metadata": {},
   "outputs": [
    {
     "name": "stdout",
     "output_type": "stream",
     "text": [
      "id          https://kg.ebrains.eu/api/instances/b2ff7a47-b349-48d7-8ce4-cf51868675f1\n",
      "space       controlled\n",
      "type        https://openminds.ebrains.eu/controlledTerms/ProductAccessibility\n",
      "definition  With 'free access' selected, data and metadata are both released and become immediately available without any access restrictions.\n",
      "name        free access\n"
     ]
    }
   ],
   "source": [
    "accessibility = example_dataset_version.accessibility.resolve(kg_client)\n",
    "accessibility.show()"
   ]
  },
  {
   "cell_type": "code",
   "execution_count": 18,
   "id": "1ef589f7-3174-493d-88c6-98803e6ad823",
   "metadata": {},
   "outputs": [
    {
     "name": "stdout",
     "output_type": "stream",
     "text": [
      "current clamp\n",
      "whole cell patch clamp\n"
     ]
    }
   ],
   "source": [
    "techniques = [tech.resolve(kg_client) for tech in example_dataset_version.techniques]\n",
    "for tech in techniques:\n",
    "    print(tech.name)"
   ]
  },
  {
   "cell_type": "markdown",
   "id": "a1658e90-741c-4d20-a096-e1699aa79679",
   "metadata": {},
   "source": [
    "# Reverse links are not shown by default"
   ]
  },
  {
   "cell_type": "code",
   "execution_count": 20,
   "id": "46f8d9da-0da8-4ee8-bdaf-75448fc37916",
   "metadata": {
    "collapsed": true,
    "jupyter": {
     "outputs_hidden": true
    },
    "tags": []
   },
   "outputs": [
    {
     "name": "stdout",
     "output_type": "stream",
     "text": [
      "id                         https://kg.ebrains.eu/api/instances/bd5f91ff-e829-4b85-92eb-fc56991541f1\n",
      "space                      dataset\n",
      "type                       https://openminds.ebrains.eu/core/DatasetVersion\n",
      "accessibility              KGProxy([<class 'fairgraph.openminds.controlled_terms.product_accessibility.ProductAccessibility'>], 'https://kg.ebrains.eu/api/instances/b2ff7a47-b349-48d7-8ce4-cf51868675f1')\n",
      "authors                    None\n",
      "behavioral_protocols       None\n",
      "copyright                  None\n",
      "custodians                 None\n",
      "data_types                 KGProxy([<class 'fairgraph.openminds.controlled_terms.semantic_data_type.SemanticDataType'>], 'https://kg.ebrains.eu/api/instances/f468ee45-37a6-4e71-8b70-0cbe66d367db')\n",
      "description\n",
      "digital_identifier         KGProxy((<class 'fairgraph.openminds.core.digital_identifier.doi.DOI'>, <class 'fairgraph.openminds.core.digital_identifier.identifiers_dot_org_id.IdentifiersDotOrgID'>), 'https://kg.ebrains.eu/api/instances/df93b012-3bb6-4565-bce0-3bd2d3aed63b')\n",
      "ethics_assessment          KGProxy([<class 'fairgraph.openminds.controlled_terms.ethics_assessment.EthicsAssessment'>], 'https://kg.ebrains.eu/api/instances/a217a2f8-dcb8-4ca9-9923-517af2aebc5b')\n",
      "experimental_approaches    KGProxy([<class 'fairgraph.openminds.controlled_terms.experimental_approach.ExperimentalApproach'>], 'https://kg.ebrains.eu/api/instances/411b233f-a054-4719-bbd5-e86f1302bc46')\n",
      "full_documentation         KGProxy((<class 'fairgraph.openminds.core.digital_identifier.doi.DOI'>, <class 'fairgraph.openminds.core.data.file.File'>, <class 'fairgraph.openminds.core.digital_identifier.isbn.ISBN'>, <class 'fairgraph.openminds.core.miscellaneous.web_resource.WebResource'>), 'https://kg.ebrains.eu/api/instances/a245c132-30ae-4ba8-a1d1-3a0f44d056aa')\n",
      "full_name                  Excitability profile of CA1 pyramidal neurons in APPPS1 Alzheimer disease mice and control littermates\n",
      "funding                    None\n",
      "homepage                   None\n",
      "how_to_cite                None\n",
      "input_data                 None\n",
      "is_alternative_version_of  None\n",
      "is_new_version_of          None\n",
      "keywords                   KGProxy((<class 'fairgraph.openminds.controlled_terms.action_status_type.ActionStatusType'>, <class 'fairgraph.openminds.controlled_terms.age_category.AgeCategory'>, <class 'fairgraph.openminds.controlled_terms.analysis_technique.AnalysisTechnique'>, <class 'fairgraph.openminds.controlled_terms.anatomical_axes_orientation.AnatomicalAxesOrientation'>, <class 'fairgraph.openminds.controlled_terms.anatomical_identification_type.AnatomicalIdentificationType'>, <class 'fairgraph.openminds.controlled_terms.anatomical_plane.AnatomicalPlane'>, <class 'fairgraph.openminds.controlled_terms.annotation_criteria_type.AnnotationCriteriaType'>, <class 'fairgraph.openminds.controlled_terms.annotation_type.AnnotationType'>, <class 'fairgraph.openminds.controlled_terms.atlas_type.AtlasType'>, <class 'fairgraph.openminds.controlled_terms.auditory_stimulus_type.AuditoryStimulusType'>, <class 'fairgraph.openminds.controlled_terms.biological_order.BiologicalOrder'>, <class 'fairgraph.openminds.controlled_terms.biological_process.BiologicalProcess'>, <class 'fairgraph.openminds.controlled_terms.biological_sex.BiologicalSex'>, <class 'fairgraph.openminds.controlled_terms.breeding_type.BreedingType'>, <class 'fairgraph.openminds.controlled_terms.cell_culture_type.CellCultureType'>, <class 'fairgraph.openminds.controlled_terms.cell_type.CellType'>, <class 'fairgraph.openminds.controlled_terms.chemical_mixture_type.ChemicalMixtureType'>, <class 'fairgraph.openminds.controlled_terms.colormap.Colormap'>, <class 'fairgraph.openminds.controlled_terms.contribution_type.ContributionType'>, <class 'fairgraph.openminds.controlled_terms.cranial_window_construction_type.CranialWindowConstructionType'>, <class 'fairgraph.openminds.controlled_terms.cranial_window_reinforcement_type.CranialWindowReinforcementType'>, <class 'fairgraph.openminds.controlled_terms.criteria_quality_type.CriteriaQualityType'>, <class 'fairgraph.openminds.controlled_terms.data_type.DataType'>, <class 'fairgraph.openminds.controlled_terms.device_type.DeviceType'>, <class 'fairgraph.openminds.controlled_terms.difference_measure.DifferenceMeasure'>, <class 'fairgraph.openminds.controlled_terms.disease.Disease'>, <class 'fairgraph.openminds.controlled_terms.disease_model.DiseaseModel'>, <class 'fairgraph.openminds.controlled_terms.educational_level.EducationalLevel'>, <class 'fairgraph.openminds.controlled_terms.electrical_stimulus_type.ElectricalStimulusType'>, <class 'fairgraph.openminds.controlled_terms.ethics_assessment.EthicsAssessment'>, <class 'fairgraph.openminds.controlled_terms.experimental_approach.ExperimentalApproach'>, <class 'fairgraph.openminds.controlled_terms.file_bundle_grouping.FileBundleGrouping'>, <class 'fairgraph.openminds.controlled_terms.file_repository_type.FileRepositoryType'>, <class 'fairgraph.openminds.controlled_terms.file_usage_role.FileUsageRole'>, <class 'fairgraph.openminds.controlled_terms.genetic_strain_type.GeneticStrainType'>, <class 'fairgraph.openminds.controlled_terms.gustatory_stimulus_type.GustatoryStimulusType'>, <class 'fairgraph.openminds.controlled_terms.handedness.Handedness'>, <class 'fairgraph.openminds.controlled_terms.language.Language'>, <class 'fairgraph.openminds.controlled_terms.laterality.Laterality'>, <class 'fairgraph.openminds.controlled_terms.learning_resource_type.LearningResourceType'>, <class 'fairgraph.openminds.controlled_terms.mri_pulse_sequence.MRIPulseSequence'>, <class 'fairgraph.openminds.controlled_terms.mri_weighting.MRIWeighting'>, <class 'fairgraph.openminds.controlled_terms.measured_quantity.MeasuredQuantity'>, <class 'fairgraph.openminds.controlled_terms.measured_signal_type.MeasuredSignalType'>, <class 'fairgraph.openminds.controlled_terms.meta_data_model_type.MetaDataModelType'>, <class 'fairgraph.openminds.controlled_terms.model_abstraction_level.ModelAbstractionLevel'>, <class 'fairgraph.openminds.controlled_terms.model_scope.ModelScope'>, <class 'fairgraph.openminds.controlled_terms.molecular_entity.MolecularEntity'>, <class 'fairgraph.openminds.controlled_terms.olfactory_stimulus_type.OlfactoryStimulusType'>, <class 'fairgraph.openminds.controlled_terms.operating_device.OperatingDevice'>, <class 'fairgraph.openminds.controlled_terms.operating_system.OperatingSystem'>, <class 'fairgraph.openminds.controlled_terms.optical_stimulus_type.OpticalStimulusType'>, <class 'fairgraph.openminds.controlled_terms.organ.Organ'>, <class 'fairgraph.openminds.controlled_terms.organism_substance.OrganismSubstance'>, <class 'fairgraph.openminds.controlled_terms.organism_system.OrganismSystem'>, <class 'fairgraph.openminds.controlled_terms.patch_clamp_variation.PatchClampVariation'>, <class 'fairgraph.openminds.controlled_terms.preparation_type.PreparationType'>, <class 'fairgraph.openminds.controlled_terms.product_accessibility.ProductAccessibility'>, <class 'fairgraph.openminds.controlled_terms.programming_language.ProgrammingLanguage'>, <class 'fairgraph.openminds.controlled_terms.qualitative_overlap.QualitativeOverlap'>, <class 'fairgraph.openminds.controlled_terms.semantic_data_type.SemanticDataType'>, <class 'fairgraph.openminds.controlled_terms.service.Service'>, <class 'fairgraph.openminds.controlled_terms.setup_type.SetupType'>, <class 'fairgraph.openminds.controlled_terms.software_application_category.SoftwareApplicationCategory'>, <class 'fairgraph.openminds.controlled_terms.software_feature.SoftwareFeature'>, <class 'fairgraph.openminds.controlled_terms.species.Species'>, <class 'fairgraph.openminds.controlled_terms.stimulation_approach.StimulationApproach'>, <class 'fairgraph.openminds.controlled_terms.stimulation_technique.StimulationTechnique'>, <class 'fairgraph.openminds.controlled_terms.subcellular_entity.SubcellularEntity'>, <class 'fairgraph.openminds.controlled_terms.subject_attribute.SubjectAttribute'>, <class 'fairgraph.openminds.controlled_terms.tactile_stimulus_type.TactileStimulusType'>, <class 'fairgraph.openminds.controlled_terms.technique.Technique'>, <class 'fairgraph.openminds.controlled_terms.term_suggestion.TermSuggestion'>, <class 'fairgraph.openminds.controlled_terms.terminology.Terminology'>, <class 'fairgraph.openminds.controlled_terms.tissue_sample_attribute.TissueSampleAttribute'>, <class 'fairgraph.openminds.controlled_terms.tissue_sample_type.TissueSampleType'>, <class 'fairgraph.openminds.controlled_terms.type_of_uncertainty.TypeOfUncertainty'>, <class 'fairgraph.openminds.controlled_terms.uberon_parcellation.UBERONParcellation'>, <class 'fairgraph.openminds.controlled_terms.unit_of_measurement.UnitOfMeasurement'>, <class 'fairgraph.openminds.controlled_terms.visual_stimulus_type.VisualStimulusType'>), 'https://kg.ebrains.eu/api/instances/62034f18-20fc-46d6-8f0a-277a60cb02e9')\n",
      "license                    KGProxy((<class 'fairgraph.openminds.core.data.license.License'>, <class 'fairgraph.openminds.core.miscellaneous.web_resource.WebResource'>), 'https://kg.ebrains.eu/api/instances/64c1704b-db12-4b29-9541-b9143d081044')\n",
      "other_contributions        None\n",
      "preparation_designs        KGProxy([<class 'fairgraph.openminds.controlled_terms.preparation_type.PreparationType'>], 'https://kg.ebrains.eu/api/instances/9f3abe1b-af7c-446d-b637-6a4f19ab7939')\n",
      "protocols                  None\n",
      "related_publications       KGProxy((<class 'fairgraph.openminds.core.digital_identifier.doi.DOI'>, <class 'fairgraph.openminds.core.digital_identifier.handle.HANDLE'>, <class 'fairgraph.openminds.core.digital_identifier.isbn.ISBN'>, <class 'fairgraph.openminds.core.digital_identifier.issn.ISSN'>, <class 'fairgraph.openminds.publications.book.Book'>, <class 'fairgraph.openminds.publications.chapter.Chapter'>, <class 'fairgraph.openminds.publications.scholarly_article.ScholarlyArticle'>), 'https://kg.ebrains.eu/api/instances/5f477d01-82c1-4c6a-891c-e902a8c2241c')\n",
      "release_date               2020-04-21 00:00:00\n",
      "repository                 KGProxy([<class 'fairgraph.openminds.core.data.file_repository.FileRepository'>], 'https://kg.ebrains.eu/api/instances/1a319b34-4903-4663-8882-b3fe5703cbcb')\n",
      "short_name                 Excitability profile of CA1 pyramidal neurons in APPPS1 Alzheimer disease mice and control littermates\n",
      "studied_specimens          [KGProxy((<class 'fairgraph.openminds.core.research.subject.Subject'>, <class 'fairgraph.openminds.core.research.subject_group.SubjectGroup'>, <class 'fairgraph.openminds.core.research.tissue_sample.TissueSample'>, <class 'fairgraph.openminds.core.research.tissue_sample_collection.TissueSampleCollection'>), 'https://kg.ebrains.eu/api/instances/d04d00c7-b770-4744-a5f4-2ebba26ba1d1'), KGProxy((<class 'fairgraph.openminds.core.research.subject.Subject'>, <class 'fairgraph.openminds.core.research.subject_group.SubjectGroup'>, <class 'fairgraph.openminds.core.research.tissue_sample.TissueSample'>, <class 'fairgraph.openminds.core.research.tissue_sample_collection.TissueSampleCollection'>), 'https://kg.ebrains.eu/api/instances/31f9157a-616b-43b4-8a04-8fd8c15a7524'), KGProxy((<class 'fairgraph.openminds.core.research.subject.Subject'>, <class 'fairgraph.openminds.core.research.subject_group.SubjectGroup'>, <class 'fairgraph.openminds.core.research.tissue_sample.TissueSample'>, <class 'fairgraph.openminds.core.research.tissue_sample_collection.TissueSampleCollection'>), 'https://kg.ebrains.eu/api/instances/853682c7-c317-4091-b3eb-f94ce41a70a5'), KGProxy((<class 'fairgraph.openminds.core.research.subject.Subject'>, <class 'fairgraph.openminds.core.research.subject_group.SubjectGroup'>, <class 'fairgraph.openminds.core.research.tissue_sample.TissueSample'>, <class 'fairgraph.openminds.core.research.tissue_sample_collection.TissueSampleCollection'>), 'https://kg.ebrains.eu/api/instances/8300e9c8-ddce-4b72-811a-96f1f7dc0d4b'), KGProxy((<class 'fairgraph.openminds.core.research.subject.Subject'>, <class 'fairgraph.openminds.core.research.subject_group.SubjectGroup'>, <class 'fairgraph.openminds.core.research.tissue_sample.TissueSample'>, <class 'fairgraph.openminds.core.research.tissue_sample_collection.TissueSampleCollection'>), 'https://kg.ebrains.eu/api/instances/eca80107-1908-43cc-8897-5074f50dbe22'), KGProxy((<class 'fairgraph.openminds.core.research.subject.Subject'>, <class 'fairgraph.openminds.core.research.subject_group.SubjectGroup'>, <class 'fairgraph.openminds.core.research.tissue_sample.TissueSample'>, <class 'fairgraph.openminds.core.research.tissue_sample_collection.TissueSampleCollection'>), 'https://kg.ebrains.eu/api/instances/d74401a9-24a0-4373-b2b7-60b084b66820'), KGProxy((<class 'fairgraph.openminds.core.research.subject.Subject'>, <class 'fairgraph.openminds.core.research.subject_group.SubjectGroup'>, <class 'fairgraph.openminds.core.research.tissue_sample.TissueSample'>, <class 'fairgraph.openminds.core.research.tissue_sample_collection.TissueSampleCollection'>), 'https://kg.ebrains.eu/api/instances/ed399971-9797-4fc3-8796-094ebdf2432e'), KGProxy((<class 'fairgraph.openminds.core.research.subject.Subject'>, <class 'fairgraph.openminds.core.research.subject_group.SubjectGroup'>, <class 'fairgraph.openminds.core.research.tissue_sample.TissueSample'>, <class 'fairgraph.openminds.core.research.tissue_sample_collection.TissueSampleCollection'>), 'https://kg.ebrains.eu/api/instances/54e0bc42-9ddb-4503-98be-c1f3c03afea1'), KGProxy((<class 'fairgraph.openminds.core.research.subject.Subject'>, <class 'fairgraph.openminds.core.research.subject_group.SubjectGroup'>, <class 'fairgraph.openminds.core.research.tissue_sample.TissueSample'>, <class 'fairgraph.openminds.core.research.tissue_sample_collection.TissueSampleCollection'>), 'https://kg.ebrains.eu/api/instances/d5ea0238-23e7-463e-96f3-4da7c06832e4'), KGProxy((<class 'fairgraph.openminds.core.research.subject.Subject'>, <class 'fairgraph.openminds.core.research.subject_group.SubjectGroup'>, <class 'fairgraph.openminds.core.research.tissue_sample.TissueSample'>, <class 'fairgraph.openminds.core.research.tissue_sample_collection.TissueSampleCollection'>), 'https://kg.ebrains.eu/api/instances/6c00b1a4-d10f-408d-ac00-b07464a73321'), KGProxy((<class 'fairgraph.openminds.core.research.subject.Subject'>, <class 'fairgraph.openminds.core.research.subject_group.SubjectGroup'>, <class 'fairgraph.openminds.core.research.tissue_sample.TissueSample'>, <class 'fairgraph.openminds.core.research.tissue_sample_collection.TissueSampleCollection'>), 'https://kg.ebrains.eu/api/instances/d352f598-0118-4908-ad01-a2c4b5e06028'), KGProxy((<class 'fairgraph.openminds.core.research.subject.Subject'>, <class 'fairgraph.openminds.core.research.subject_group.SubjectGroup'>, <class 'fairgraph.openminds.core.research.tissue_sample.TissueSample'>, <class 'fairgraph.openminds.core.research.tissue_sample_collection.TissueSampleCollection'>), 'https://kg.ebrains.eu/api/instances/a9f319fb-9d41-4500-8eb4-08601053f850'), KGProxy((<class 'fairgraph.openminds.core.research.subject.Subject'>, <class 'fairgraph.openminds.core.research.subject_group.SubjectGroup'>, <class 'fairgraph.openminds.core.research.tissue_sample.TissueSample'>, <class 'fairgraph.openminds.core.research.tissue_sample_collection.TissueSampleCollection'>), 'https://kg.ebrains.eu/api/instances/d2b62075-768e-48f4-ba00-4e8cbbb543e9'), KGProxy((<class 'fairgraph.openminds.core.research.subject.Subject'>, <class 'fairgraph.openminds.core.research.subject_group.SubjectGroup'>, <class 'fairgraph.openminds.core.research.tissue_sample.TissueSample'>, <class 'fairgraph.openminds.core.research.tissue_sample_collection.TissueSampleCollection'>), 'https://kg.ebrains.eu/api/instances/9a83c827-3638-4bc1-92c2-10749d30500b'), KGProxy((<class 'fairgraph.openminds.core.research.subject.Subject'>, <class 'fairgraph.openminds.core.research.subject_group.SubjectGroup'>, <class 'fairgraph.openminds.core.research.tissue_sample.TissueSample'>, <class 'fairgraph.openminds.core.research.tissue_sample_collection.TissueSampleCollection'>), 'https://kg.ebrains.eu/api/instances/dd214b93-8c20-4c70-ac90-584d7f66f344'), KGProxy((<class 'fairgraph.openminds.core.research.subject.Subject'>, <class 'fairgraph.openminds.core.research.subject_group.SubjectGroup'>, <class 'fairgraph.openminds.core.research.tissue_sample.TissueSample'>, <class 'fairgraph.openminds.core.research.tissue_sample_collection.TissueSampleCollection'>), 'https://kg.ebrains.eu/api/instances/d967e53d-277d-4a2f-9090-8c50aaf0a008'), KGProxy((<class 'fairgraph.openminds.core.research.subject.Subject'>, <class 'fairgraph.openminds.core.research.subject_group.SubjectGroup'>, <class 'fairgraph.openminds.core.research.tissue_sample.TissueSample'>, <class 'fairgraph.openminds.core.research.tissue_sample_collection.TissueSampleCollection'>), 'https://kg.ebrains.eu/api/instances/0cad429a-f738-4d1d-9e56-c907b431a8c9'), KGProxy((<class 'fairgraph.openminds.core.research.subject.Subject'>, <class 'fairgraph.openminds.core.research.subject_group.SubjectGroup'>, <class 'fairgraph.openminds.core.research.tissue_sample.TissueSample'>, <class 'fairgraph.openminds.core.research.tissue_sample_collection.TissueSampleCollection'>), 'https://kg.ebrains.eu/api/instances/5f40bc15-d813-4560-92a8-a533109777fb'), KGProxy((<class 'fairgraph.openminds.core.research.subject.Subject'>, <class 'fairgraph.openminds.core.research.subject_group.SubjectGroup'>, <class 'fairgraph.openminds.core.research.tissue_sample.TissueSample'>, <class 'fairgraph.openminds.core.research.tissue_sample_collection.TissueSampleCollection'>), 'https://kg.ebrains.eu/api/instances/0be6ad46-c50d-4a50-8e2b-0eeea708019e'), KGProxy((<class 'fairgraph.openminds.core.research.subject.Subject'>, <class 'fairgraph.openminds.core.research.subject_group.SubjectGroup'>, <class 'fairgraph.openminds.core.research.tissue_sample.TissueSample'>, <class 'fairgraph.openminds.core.research.tissue_sample_collection.TissueSampleCollection'>), 'https://kg.ebrains.eu/api/instances/a7197a22-0b1d-4069-89b2-17aa92910c00'), KGProxy((<class 'fairgraph.openminds.core.research.subject.Subject'>, <class 'fairgraph.openminds.core.research.subject_group.SubjectGroup'>, <class 'fairgraph.openminds.core.research.tissue_sample.TissueSample'>, <class 'fairgraph.openminds.core.research.tissue_sample_collection.TissueSampleCollection'>), 'https://kg.ebrains.eu/api/instances/524e0e51-6a9e-410b-8d23-79ce1b7d97b7'), KGProxy((<class 'fairgraph.openminds.core.research.subject.Subject'>, <class 'fairgraph.openminds.core.research.subject_group.SubjectGroup'>, <class 'fairgraph.openminds.core.research.tissue_sample.TissueSample'>, <class 'fairgraph.openminds.core.research.tissue_sample_collection.TissueSampleCollection'>), 'https://kg.ebrains.eu/api/instances/12f80b23-6bec-4b0a-90c7-b717310fb707'), KGProxy((<class 'fairgraph.openminds.core.research.subject.Subject'>, <class 'fairgraph.openminds.core.research.subject_group.SubjectGroup'>, <class 'fairgraph.openminds.core.research.tissue_sample.TissueSample'>, <class 'fairgraph.openminds.core.research.tissue_sample_collection.TissueSampleCollection'>), 'https://kg.ebrains.eu/api/instances/ae759252-c8e4-4c60-aa4c-308922613371'), KGProxy((<class 'fairgraph.openminds.core.research.subject.Subject'>, <class 'fairgraph.openminds.core.research.subject_group.SubjectGroup'>, <class 'fairgraph.openminds.core.research.tissue_sample.TissueSample'>, <class 'fairgraph.openminds.core.research.tissue_sample_collection.TissueSampleCollection'>), 'https://kg.ebrains.eu/api/instances/e168745f-d7cf-4977-87d0-4dbeba51a9f2'), KGProxy((<class 'fairgraph.openminds.core.research.subject.Subject'>, <class 'fairgraph.openminds.core.research.subject_group.SubjectGroup'>, <class 'fairgraph.openminds.core.research.tissue_sample.TissueSample'>, <class 'fairgraph.openminds.core.research.tissue_sample_collection.TissueSampleCollection'>), 'https://kg.ebrains.eu/api/instances/d44005cd-7d11-471f-9e34-4400463449ee'), KGProxy((<class 'fairgraph.openminds.core.research.subject.Subject'>, <class 'fairgraph.openminds.core.research.subject_group.SubjectGroup'>, <class 'fairgraph.openminds.core.research.tissue_sample.TissueSample'>, <class 'fairgraph.openminds.core.research.tissue_sample_collection.TissueSampleCollection'>), 'https://kg.ebrains.eu/api/instances/7831a6bc-d329-4ff1-a5cf-270c100f9f8a')]\n",
      "study_targets              KGProxy((<class 'fairgraph.openminds.controlled_terms.auditory_stimulus_type.AuditoryStimulusType'>, <class 'fairgraph.openminds.controlled_terms.biological_order.BiologicalOrder'>, <class 'fairgraph.openminds.controlled_terms.biological_sex.BiologicalSex'>, <class 'fairgraph.openminds.controlled_terms.breeding_type.BreedingType'>, <class 'fairgraph.openminds.controlled_terms.cell_culture_type.CellCultureType'>, <class 'fairgraph.openminds.controlled_terms.cell_type.CellType'>, <class 'fairgraph.openminds.controlled_terms.disease.Disease'>, <class 'fairgraph.openminds.controlled_terms.disease_model.DiseaseModel'>, <class 'fairgraph.openminds.controlled_terms.electrical_stimulus_type.ElectricalStimulusType'>, <class 'fairgraph.openminds.controlled_terms.genetic_strain_type.GeneticStrainType'>, <class 'fairgraph.openminds.controlled_terms.gustatory_stimulus_type.GustatoryStimulusType'>, <class 'fairgraph.openminds.controlled_terms.handedness.Handedness'>, <class 'fairgraph.openminds.controlled_terms.molecular_entity.MolecularEntity'>, <class 'fairgraph.openminds.controlled_terms.olfactory_stimulus_type.OlfactoryStimulusType'>, <class 'fairgraph.openminds.controlled_terms.optical_stimulus_type.OpticalStimulusType'>, <class 'fairgraph.openminds.controlled_terms.organ.Organ'>, <class 'fairgraph.openminds.controlled_terms.organism_substance.OrganismSubstance'>, <class 'fairgraph.openminds.controlled_terms.organism_system.OrganismSystem'>, <class 'fairgraph.openminds.controlled_terms.species.Species'>, <class 'fairgraph.openminds.controlled_terms.subcellular_entity.SubcellularEntity'>, <class 'fairgraph.openminds.controlled_terms.tactile_stimulus_type.TactileStimulusType'>, <class 'fairgraph.openminds.controlled_terms.term_suggestion.TermSuggestion'>, <class 'fairgraph.openminds.controlled_terms.tissue_sample_type.TissueSampleType'>, <class 'fairgraph.openminds.controlled_terms.uberon_parcellation.UBERONParcellation'>, <class 'fairgraph.openminds.controlled_terms.visual_stimulus_type.VisualStimulusType'>, <class 'fairgraph.openminds.sands.non_atlas.custom_anatomical_entity.CustomAnatomicalEntity'>, <class 'fairgraph.openminds.sands.atlas.parcellation_entity.ParcellationEntity'>, <class 'fairgraph.openminds.sands.atlas.parcellation_entity_version.ParcellationEntityVersion'>), 'https://kg.ebrains.eu/api/instances/161baa02-4e08-4cf2-a641-81cf323cc15d')\n",
      "support_channels           None\n",
      "techniques                 [KGProxy((<class 'fairgraph.openminds.controlled_terms.analysis_technique.AnalysisTechnique'>, <class 'fairgraph.openminds.controlled_terms.mri_pulse_sequence.MRIPulseSequence'>, <class 'fairgraph.openminds.controlled_terms.mri_weighting.MRIWeighting'>, <class 'fairgraph.openminds.controlled_terms.stimulation_approach.StimulationApproach'>, <class 'fairgraph.openminds.controlled_terms.stimulation_technique.StimulationTechnique'>, <class 'fairgraph.openminds.controlled_terms.technique.Technique'>), 'https://kg.ebrains.eu/api/instances/dc0bbc6c-99f5-4d3b-9c5e-e1bb7d59aa63'), KGProxy((<class 'fairgraph.openminds.controlled_terms.analysis_technique.AnalysisTechnique'>, <class 'fairgraph.openminds.controlled_terms.mri_pulse_sequence.MRIPulseSequence'>, <class 'fairgraph.openminds.controlled_terms.mri_weighting.MRIWeighting'>, <class 'fairgraph.openminds.controlled_terms.stimulation_approach.StimulationApproach'>, <class 'fairgraph.openminds.controlled_terms.stimulation_technique.StimulationTechnique'>, <class 'fairgraph.openminds.controlled_terms.technique.Technique'>), 'https://kg.ebrains.eu/api/instances/ffc1c922-5ba9-4f03-b9be-05eb6fd0f294')]\n",
      "version_identifier         v1\n",
      "version_innovation         This is the first version of this research product.\n",
      "comments                   KGQuery([<class 'fairgraph.openminds.core.miscellaneous.comment.Comment'>], {'about': 'https://kg.ebrains.eu/api/instances/bd5f91ff-e829-4b85-92eb-fc56991541f1'})\n",
      "has_parts                  KGQuery([<class 'fairgraph.openminds.core.research.protocol_execution.ProtocolExecution'>, <class 'fairgraph.openminds.ephys.activity.cell_patching.CellPatching'>, <class 'fairgraph.openminds.ephys.activity.electrode_placement.ElectrodePlacement'>, <class 'fairgraph.openminds.ephys.activity.recording_activity.RecordingActivity'>, <class 'fairgraph.openminds.specimen_prep.activity.cranial_window_preparation.CranialWindowPreparation'>, <class 'fairgraph.openminds.specimen_prep.activity.tissue_culture_preparation.TissueCulturePreparation'>, <class 'fairgraph.openminds.specimen_prep.activity.tissue_sample_slicing.TissueSampleSlicing'>, <class 'fairgraph.openminds.stimulation.activity.stimulation_activity.StimulationActivity'>], {'is_part_of': 'https://kg.ebrains.eu/api/instances/bd5f91ff-e829-4b85-92eb-fc56991541f1'})\n",
      "is_input_to                KGQuery([<class 'fairgraph.openminds.computation.data_copy.DataCopy'>], {'inputs': 'https://kg.ebrains.eu/api/instances/bd5f91ff-e829-4b85-92eb-fc56991541f1'})\n",
      "is_old_version_of          KGQuery([<class 'fairgraph.openminds.core.products.dataset_version.DatasetVersion'>], {'is_new_version_of': 'https://kg.ebrains.eu/api/instances/bd5f91ff-e829-4b85-92eb-fc56991541f1'})\n",
      "is_part_of                 KGQuery([<class 'fairgraph.openminds.core.products.project.Project'>, <class 'fairgraph.openminds.core.miscellaneous.research_product_group.ResearchProductGroup'>], {'has_parts': 'https://kg.ebrains.eu/api/instances/bd5f91ff-e829-4b85-92eb-fc56991541f1'})\n",
      "is_version_of              KGQuery([<class 'fairgraph.openminds.core.products.dataset.Dataset'>], {'has_versions': 'https://kg.ebrains.eu/api/instances/bd5f91ff-e829-4b85-92eb-fc56991541f1'})\n",
      "learning_resources         KGQuery([<class 'fairgraph.openminds.publications.learning_resource.LearningResource'>], {'about': 'https://kg.ebrains.eu/api/instances/bd5f91ff-e829-4b85-92eb-fc56991541f1'})\n",
      "publication                KGQuery([<class 'fairgraph.openminds.publications.live_paper_version.LivePaperVersion'>], {'about': 'https://kg.ebrains.eu/api/instances/bd5f91ff-e829-4b85-92eb-fc56991541f1'})\n"
     ]
    }
   ],
   "source": [
    "example_dataset_version.show(include_empty_properties=True)"
   ]
  },
  {
   "cell_type": "code",
   "execution_count": 21,
   "id": "c6c0aef1-5a4b-4b2d-ac6a-6815246d8134",
   "metadata": {
    "collapsed": true,
    "jupyter": {
     "outputs_hidden": true
    },
    "tags": []
   },
   "outputs": [
    {
     "name": "stdout",
     "output_type": "stream",
     "text": [
      "id            https://kg.ebrains.eu/api/instances/65b1b9a3-af50-4c9c-a4e6-7556bc700da0\n",
      "space         dataset\n",
      "type          https://openminds.ebrains.eu/core/Dataset\n",
      "authors       [KGProxy([<class 'fairgraph.openminds.core.actors.person.Person'>], 'https://kg.ebrains.eu/api/instances/5dff4ef9-bd56-4aee-979a-6ed15f65d235'), KGProxy([<class 'fairgraph.openminds.core.actors.person.Person'>], 'https://kg.ebrains.eu/api/instances/2843990a-69dd-468b-a1d3-ff9589b485ae')]\n",
      "custodians    KGProxy([<class 'fairgraph.openminds.core.actors.person.Person'>], 'https://kg.ebrains.eu/api/instances/2843990a-69dd-468b-a1d3-ff9589b485ae')\n",
      "description   In this study we analyzed the intrinsic electrophysiological properties of CA1 excitatory hippocampal neurons in a mouse model of Alzheimer’s Disease (AD) at two age points: a presymptomatic age (3-4 months) and a symptomatic age: (9-10 months). At this latter age, this APPPS1 model harbors amyloid plaques and hippocampus-dependent cognitive alterations. Little is known about the excitability alterations in the hippocampus that correlate to these cognitive deficits.  Using patch clamp electrophysiology we recorded CA1 pyramidal neurons from control littermates (Wild types) and APPPS1 slices of hippocampus at these two age points.\n",
      "full_name     Excitability profile of CA1 pyramidal neurons in APPPS1 Alzheimer disease mice and control littermates\n",
      "has_versions  KGProxy([<class 'fairgraph.openminds.core.products.dataset_version.DatasetVersion'>], 'https://kg.ebrains.eu/api/instances/bd5f91ff-e829-4b85-92eb-fc56991541f1')\n",
      "short_name    Excitability profile of CA1 pyramidal neurons in APPPS1 Alzheimer disease mice and control littermates\n"
     ]
    }
   ],
   "source": [
    "example_dataset = example_dataset_version.is_version_of.resolve(kg_client)\n",
    "example_dataset.show()"
   ]
  },
  {
   "cell_type": "markdown",
   "id": "8282a381-1755-496b-8c81-17858599ed39",
   "metadata": {},
   "source": [
    "# Following multiple links at once"
   ]
  },
  {
   "cell_type": "code",
   "execution_count": 24,
   "id": "745216ad-7d2e-41ec-9bb5-a59debf08d65",
   "metadata": {},
   "outputs": [
    {
     "name": "stdout",
     "output_type": "stream",
     "text": [
      "# Before\n",
      "Digital identifier: <class 'fairgraph.openminds.core.digital_identifier.doi.DOI'>\n",
      "Ethics assessment:  <class 'fairgraph.openminds.controlled_terms.ethics_assessment.EthicsAssessment'>\n",
      "Study targets:      <class 'fairgraph.openminds.controlled_terms.disease.Disease'>\n",
      "Is version of:      <class 'list'>\n",
      "\n",
      "# After\n",
      "Digital identifier: <class 'fairgraph.openminds.core.digital_identifier.doi.DOI'>\n",
      "Ethics assessment:  <class 'fairgraph.openminds.controlled_terms.ethics_assessment.EthicsAssessment'>\n",
      "Study targets:      <class 'fairgraph.openminds.controlled_terms.disease.Disease'>\n",
      "Is version of:      <class 'list'>\n",
      "Authors:\n",
      "  Ana Rita Salgueiro-Pereira\n",
      "  Hélène Marie\n"
     ]
    }
   ],
   "source": [
    "print(\"# Before\")\n",
    "print(f\"Digital identifier: {type(example_dataset_version.digital_identifier)}\")\n",
    "print(f\"Ethics assessment:  {type(example_dataset_version.ethics_assessment)}\")\n",
    "print(f\"Study targets:      {type(example_dataset_version.study_targets)}\")\n",
    "print(f\"Is version of:      {type(example_dataset_version.is_version_of)}\")\n",
    "\n",
    "print(\"\\n# After\")\n",
    "example_dataset_version.resolve(\n",
    "    kg_client,\n",
    "    follow_links={\n",
    "        \"digital_identifier\": {},\n",
    "        \"ethics_assessment\": {},\n",
    "        \"study_targets\": {},\n",
    "        \"is_version_of\": {\n",
    "            \"authors\": {}\n",
    "        }\n",
    "    })\n",
    "print(f\"Digital identifier: {type(example_dataset_version.digital_identifier)}\")\n",
    "print(f\"Ethics assessment:  {type(example_dataset_version.ethics_assessment)}\")\n",
    "print(f\"Study targets:      {type(example_dataset_version.study_targets)}\")\n",
    "print(f\"Is version of:      {type(example_dataset_version.is_version_of)}\")\n",
    "\n",
    "print(\"Authors:\")\n",
    "for author in example_dataset_version.is_version_of[0].authors:\n",
    "    print(f\"  {author.given_name} {author.family_name}\")\n",
    "      "
   ]
  },
  {
   "cell_type": "code",
   "execution_count": 26,
   "id": "ad4552d1-feff-4174-b796-c0f95d6fb765",
   "metadata": {
    "collapsed": true,
    "jupyter": {
     "outputs_hidden": true
    },
    "tags": []
   },
   "outputs": [
    {
     "name": "stdout",
     "output_type": "stream",
     "text": [
      "Dataset(authors=[Person(affiliations=Affiliation(member_of=KGProxy([<class 'fairgraph.openminds.core.actors.organization.Organization'>], 'https://kg.ebrains.eu/api/instances/266b8ab6-1233-46e6-9a00-868380779891')), family_name='Salgueiro-Pereira', given_name='Ana Rita', space=None, id=https://kg.ebrains.eu/api/instances/5dff4ef9-bd56-4aee-979a-6ed15f65d235), Person(affiliations=Affiliation(member_of=KGProxy([<class 'fairgraph.openminds.core.actors.organization.Organization'>], 'https://kg.ebrains.eu/api/instances/266b8ab6-1233-46e6-9a00-868380779891')), family_name='Marie', given_name='Hélène', developed=[KGProxy([<class 'fairgraph.openminds.core.products.model_version.ModelVersion'>], 'https://kg.ebrains.eu/api/instances/d703008d-c4f0-4b37-869f-4a2659e90d35'), KGProxy([<class 'fairgraph.openminds.core.products.model_version.ModelVersion'>], 'https://kg.ebrains.eu/api/instances/403d865e-417c-45fe-97cf-83a9613ae664'), KGProxy([<class 'fairgraph.openminds.core.products.model.Model'>], 'https://kg.ebrains.eu/api/instances/528ec0e6-2f21-413c-9abd-d131f7150882')], is_custodian_of=KGProxy([<class 'fairgraph.openminds.core.products.dataset.Dataset'>], 'https://kg.ebrains.eu/api/instances/65b1b9a3-af50-4c9c-a4e6-7556bc700da0'), space=None, id=https://kg.ebrains.eu/api/instances/2843990a-69dd-468b-a1d3-ff9589b485ae)], custodians=KGProxy([<class 'fairgraph.openminds.core.actors.person.Person'>], 'https://kg.ebrains.eu/api/instances/2843990a-69dd-468b-a1d3-ff9589b485ae'), description='In this study we analyzed the intrinsic electrophysiological properties of CA1 excitatory hippocampal neurons in a mouse model of Alzheimer’s Disease (AD) at two age points: a presymptomatic age (3-4 months) and a symptomatic age: (9-10 months). At this latter age, this APPPS1 model harbors amyloid plaques and hippocampus-dependent cognitive alterations. Little is known about the excitability alterations in the hippocampus that correlate to these cognitive deficits.  Using patch clamp electrophysiology we recorded CA1 pyramidal neurons from control littermates (Wild types) and APPPS1 slices of hippocampus at these two age points.', full_name='Excitability profile of CA1 pyramidal neurons in APPPS1 Alzheimer disease mice and control littermates', has_versions=KGProxy([<class 'fairgraph.openminds.core.products.dataset_version.DatasetVersion'>], 'https://kg.ebrains.eu/api/instances/bd5f91ff-e829-4b85-92eb-fc56991541f1'), short_name='Excitability profile of CA1 pyramidal neurons in APPPS1 Alzheimer disease mice and control littermates', space=dataset, id=https://kg.ebrains.eu/api/instances/65b1b9a3-af50-4c9c-a4e6-7556bc700da0)\n"
     ]
    }
   ],
   "source": [
    "print(example_dataset_version.is_version_of[0])  "
   ]
  },
  {
   "cell_type": "code",
   "execution_count": null,
   "id": "f5a5c930-05c7-4b21-a420-df7d417ef954",
   "metadata": {
    "tags": []
   },
   "outputs": [],
   "source": [
    "pip install fairgraph\n",
    "import fairgraph\n",
    "from fairgraph import KGClient\n",
    "import fairgraph.openminds.core as omcore\n",
    "kg_client = KGClient(host=\"core.kg.ebrains.eu\")\n",
    "omcore.set_error_handling(None)\n",
    "example_dataset_id = \"bd5f91ff-e829-4b85-92eb-fc56991541f1\"  \n",
    "example_dataset_version = omcore.DatasetVersion.from_id(example_dataset_id, kg_client)\n",
    "print(custodian_ex_dsv.contact_information.resolve(kg_client))"
   ]
  },
  {
   "cell_type": "code",
   "execution_count": 63,
   "id": "f778c518-b703-4789-b251-3e4a81eda54e",
   "metadata": {
    "collapsed": true,
    "jupyter": {
     "outputs_hidden": true
    },
    "tags": []
   },
   "outputs": [
    {
     "name": "stdout",
     "output_type": "stream",
     "text": [
      "  Custodians:\n",
      "Hélène Marie\n",
      "  Affiliation:\n",
      "Institute of Molecular and Cellular Pharmacology, CNRS, UMR7275, Université Côte d’Azur, Valbonne, France\n",
      "  Contact info:\n",
      "ContactInformation(email='marie@ipmc.cnrs.fr', is_contact_information_of=KGQuery([<class 'fairgraph.openminds.core.actors.consortium.Consortium'>, <class 'fairgraph.openminds.core.actors.person.Person'>], {'contact_information': 'https://kg.ebrains.eu/api/instances/b38a9287-d301-40cd-9278-2619e8bdb720'}), space=restricted, id=https://kg.ebrains.eu/api/instances/b38a9287-d301-40cd-9278-2619e8bdb720)\n",
      "  Full json:\n",
      "Person(affiliations=Affiliation(member_of=KGProxy((<class 'fairgraph.openminds.core.actors.consortium.Consortium'>, <class 'fairgraph.openminds.core.actors.organization.Organization'>), 'https://kg.ebrains.eu/api/instances/266b8ab6-1233-46e6-9a00-868380779891')), contact_information=KGProxy([<class 'fairgraph.openminds.core.actors.contact_information.ContactInformation'>], 'https://kg.ebrains.eu/api/instances/b38a9287-d301-40cd-9278-2619e8bdb720'), family_name='Marie', given_name='Hélène', activities=KGQuery([<class 'fairgraph.openminds.core.research.protocol_execution.ProtocolExecution'>, <class 'fairgraph.openminds.ephys.activity.cell_patching.CellPatching'>, <class 'fairgraph.openminds.ephys.activity.electrode_placement.ElectrodePlacement'>, <class 'fairgraph.openminds.ephys.activity.recording_activity.RecordingActivity'>, <class 'fairgraph.openminds.specimen_prep.activity.cranial_window_preparation.CranialWindowPreparation'>, <class 'fairgraph.openminds.specimen_prep.activity.tissue_culture_preparation.TissueCulturePreparation'>, <class 'fairgraph.openminds.specimen_prep.activity.tissue_sample_slicing.TissueSampleSlicing'>, <class 'fairgraph.openminds.stimulation.activity.stimulation_activity.StimulationActivity'>], {'performed_by': 'https://kg.ebrains.eu/api/instances/2843990a-69dd-468b-a1d3-ff9589b485ae'}), comments=KGQuery([<class 'fairgraph.openminds.core.miscellaneous.comment.Comment'>], {'commenter': 'https://kg.ebrains.eu/api/instances/2843990a-69dd-468b-a1d3-ff9589b485ae'}), coordinated_projects=KGQuery([<class 'fairgraph.openminds.core.products.project.Project'>], {'coordinators': 'https://kg.ebrains.eu/api/instances/2843990a-69dd-468b-a1d3-ff9589b485ae'}), developed=KGQuery([<class 'fairgraph.openminds.computation.validation_test.ValidationTest'>, <class 'fairgraph.openminds.computation.validation_test_version.ValidationTestVersion'>, <class 'fairgraph.openminds.computation.workflow_recipe.WorkflowRecipe'>, <class 'fairgraph.openminds.computation.workflow_recipe_version.WorkflowRecipeVersion'>, <class 'fairgraph.openminds.core.products.meta_data_model.MetaDataModel'>, <class 'fairgraph.openminds.core.products.meta_data_model_version.MetaDataModelVersion'>, <class 'fairgraph.openminds.core.products.model.Model'>, <class 'fairgraph.openminds.core.products.model_version.ModelVersion'>, <class 'fairgraph.openminds.core.products.software.Software'>, <class 'fairgraph.openminds.core.products.software_version.SoftwareVersion'>, <class 'fairgraph.openminds.core.products.web_service.WebService'>, <class 'fairgraph.openminds.core.products.web_service_version.WebServiceVersion'>], {'developers': 'https://kg.ebrains.eu/api/instances/2843990a-69dd-468b-a1d3-ff9589b485ae'}), funded=KGQuery([<class 'fairgraph.openminds.core.miscellaneous.funding.Funding'>], {'funder': 'https://kg.ebrains.eu/api/instances/2843990a-69dd-468b-a1d3-ff9589b485ae'}), is_custodian_of=KGQuery([<class 'fairgraph.openminds.core.products.dataset.Dataset'>, <class 'fairgraph.openminds.core.products.dataset_version.DatasetVersion'>, <class 'fairgraph.openminds.publications.live_paper.LivePaper'>, <class 'fairgraph.openminds.publications.live_paper_version.LivePaperVersion'>, <class 'fairgraph.openminds.sands.atlas.brain_atlas.BrainAtlas'>, <class 'fairgraph.openminds.sands.atlas.brain_atlas_version.BrainAtlasVersion'>, <class 'fairgraph.openminds.sands.atlas.common_coordinate_space.CommonCoordinateSpace'>, <class 'fairgraph.openminds.sands.atlas.common_coordinate_space_version.CommonCoordinateSpaceVersion'>], {'custodians': 'https://kg.ebrains.eu/api/instances/2843990a-69dd-468b-a1d3-ff9589b485ae'}), is_owner_of=KGQuery([<class 'fairgraph.openminds.ephys.device.electrode.Electrode'>, <class 'fairgraph.openminds.ephys.device.electrode_array.ElectrodeArray'>, <class 'fairgraph.openminds.ephys.device.pipette.Pipette'>, <class 'fairgraph.openminds.specimen_prep.device.slicing_device.SlicingDevice'>], {'owners': 'https://kg.ebrains.eu/api/instances/2843990a-69dd-468b-a1d3-ff9589b485ae'}), is_provider_of=KGQuery([<class 'fairgraph.openminds.chemicals.product_source.ProductSource'>], {'provider': 'https://kg.ebrains.eu/api/instances/2843990a-69dd-468b-a1d3-ff9589b485ae'}), manufactured=KGQuery([<class 'fairgraph.openminds.core.products.setup.Setup'>], {'manufacturers': 'https://kg.ebrains.eu/api/instances/2843990a-69dd-468b-a1d3-ff9589b485ae'}), published=KGQuery([<class 'fairgraph.openminds.publications.book.Book'>, <class 'fairgraph.openminds.publications.chapter.Chapter'>, <class 'fairgraph.openminds.publications.learning_resource.LearningResource'>, <class 'fairgraph.openminds.publications.scholarly_article.ScholarlyArticle'>], {'publisher': 'https://kg.ebrains.eu/api/instances/2843990a-69dd-468b-a1d3-ff9589b485ae'}), started=KGQuery([<class 'fairgraph.openminds.computation.data_analysis.DataAnalysis'>, <class 'fairgraph.openminds.computation.data_copy.DataCopy'>, <class 'fairgraph.openminds.computation.generic_computation.GenericComputation'>, <class 'fairgraph.openminds.computation.model_validation.ModelValidation'>, <class 'fairgraph.openminds.computation.optimization.Optimization'>, <class 'fairgraph.openminds.computation.simulation.Simulation'>, <class 'fairgraph.openminds.computation.visualization.Visualization'>, <class 'fairgraph.openminds.computation.workflow_execution.WorkflowExecution'>], {'started_by': 'https://kg.ebrains.eu/api/instances/2843990a-69dd-468b-a1d3-ff9589b485ae'}), space=common, id=https://kg.ebrains.eu/api/instances/2843990a-69dd-468b-a1d3-ff9589b485ae)\n"
     ]
    }
   ],
   "source": [
    "print(\"  Custodians:\")\n",
    "custodian_ex_dsv = example_dataset_version.is_version_of[0].custodians.resolve(kg_client)\n",
    "print(f\"{custodian_ex_dsv.given_name} {custodian_ex_dsv.family_name}\")\n",
    "\n",
    "print(\"  Affiliation:\")\n",
    "print(custodian_ex_dsv.affiliations.member_of.resolve(kg_client).full_name)\n",
    "\n",
    "print(\"  Contact info:\")\n",
    "print(custodian_ex_dsv.contact_information.resolve(kg_client))\n",
    "\n",
    "print(\"  Full json:\")\n",
    "print(custodian_ex_dsv)  "
   ]
  },
  {
   "cell_type": "markdown",
   "id": "23cee07e-ecb0-4efb-ae9b-ba1390166062",
   "metadata": {},
   "source": [
    "Following links at the same time as retreiving dataset:"
   ]
  },
  {
   "cell_type": "code",
   "execution_count": 70,
   "id": "f0e20372-e90f-4b23-81c5-0fd9105748c6",
   "metadata": {
    "collapsed": true,
    "jupyter": {
     "outputs_hidden": true
    },
    "tags": []
   },
   "outputs": [
    {
     "name": "stdout",
     "output_type": "stream",
     "text": [
      "id                       https://kg.ebrains.eu/api/instances/bd5f91ff-e829-4b85-92eb-fc56991541f1\n",
      "space                    dataset\n",
      "type                     https://openminds.ebrains.eu/core/DatasetVersion\n",
      "accessibility            KGProxy([<class 'fairgraph.openminds.controlled_terms.product_accessibility.ProductAccessibility'>], 'https://kg.ebrains.eu/api/instances/b2ff7a47-b349-48d7-8ce4-cf51868675f1')\n",
      "data_types               KGProxy([<class 'fairgraph.openminds.controlled_terms.semantic_data_type.SemanticDataType'>], 'https://kg.ebrains.eu/api/instances/f468ee45-37a6-4e71-8b70-0cbe66d367db')\n",
      "description\n",
      "digital_identifier       DOI(identifier='https://doi.org/10.25493/YJFW-HPY', space=None, id=https://kg.ebrains.eu/api/instances/df93b012-3bb6-4565-bce0-3bd2d3aed63b)\n",
      "ethics_assessment        KGProxy([<class 'fairgraph.openminds.controlled_terms.ethics_assessment.EthicsAssessment'>], 'https://kg.ebrains.eu/api/instances/a217a2f8-dcb8-4ca9-9923-517af2aebc5b')\n",
      "experimental_approaches  KGProxy([<class 'fairgraph.openminds.controlled_terms.experimental_approach.ExperimentalApproach'>], 'https://kg.ebrains.eu/api/instances/411b233f-a054-4719-bbd5-e86f1302bc46')\n",
      "full_documentation       KGProxy([<class 'fairgraph.openminds.core.miscellaneous.web_resource.WebResource'>], 'https://kg.ebrains.eu/api/instances/a245c132-30ae-4ba8-a1d1-3a0f44d056aa')\n",
      "full_name                Excitability profile of CA1 pyramidal neurons in APPPS1 Alzheimer disease mice and control littermates\n",
      "keywords                 KGProxy([<class 'fairgraph.openminds.controlled_terms.term_suggestion.TermSuggestion'>], 'https://kg.ebrains.eu/api/instances/62034f18-20fc-46d6-8f0a-277a60cb02e9')\n",
      "license                  KGProxy([<class 'fairgraph.openminds.core.data.license.License'>], 'https://kg.ebrains.eu/api/instances/64c1704b-db12-4b29-9541-b9143d081044')\n",
      "preparation_designs      KGProxy([<class 'fairgraph.openminds.controlled_terms.preparation_type.PreparationType'>], 'https://kg.ebrains.eu/api/instances/9f3abe1b-af7c-446d-b637-6a4f19ab7939')\n",
      "related_publications     KGProxy([<class 'fairgraph.openminds.core.digital_identifier.doi.DOI'>], 'https://kg.ebrains.eu/api/instances/5f477d01-82c1-4c6a-891c-e902a8c2241c')\n",
      "release_date             2020-04-21 00:00:00\n",
      "repository               KGProxy([<class 'fairgraph.openminds.core.data.file_repository.FileRepository'>], 'https://kg.ebrains.eu/api/instances/1a319b34-4903-4663-8882-b3fe5703cbcb')\n",
      "short_name               Excitability profile of CA1 pyramidal neurons in APPPS1 Alzheimer disease mice and control littermates\n",
      "studied_specimens        [KGProxy([<class 'fairgraph.openminds.core.research.subject.Subject'>], 'https://kg.ebrains.eu/api/instances/d04d00c7-b770-4744-a5f4-2ebba26ba1d1'), KGProxy([<class 'fairgraph.openminds.core.research.subject.Subject'>], 'https://kg.ebrains.eu/api/instances/31f9157a-616b-43b4-8a04-8fd8c15a7524'), KGProxy([<class 'fairgraph.openminds.core.research.subject.Subject'>], 'https://kg.ebrains.eu/api/instances/853682c7-c317-4091-b3eb-f94ce41a70a5'), KGProxy([<class 'fairgraph.openminds.core.research.tissue_sample_collection.TissueSampleCollection'>], 'https://kg.ebrains.eu/api/instances/8300e9c8-ddce-4b72-811a-96f1f7dc0d4b'), KGProxy([<class 'fairgraph.openminds.core.research.tissue_sample_collection.TissueSampleCollection'>], 'https://kg.ebrains.eu/api/instances/eca80107-1908-43cc-8897-5074f50dbe22'), KGProxy([<class 'fairgraph.openminds.core.research.tissue_sample_collection.TissueSampleCollection'>], 'https://kg.ebrains.eu/api/instances/d74401a9-24a0-4373-b2b7-60b084b66820'), KGProxy([<class 'fairgraph.openminds.core.research.tissue_sample_collection.TissueSampleCollection'>], 'https://kg.ebrains.eu/api/instances/ed399971-9797-4fc3-8796-094ebdf2432e'), KGProxy([<class 'fairgraph.openminds.core.research.subject.Subject'>], 'https://kg.ebrains.eu/api/instances/54e0bc42-9ddb-4503-98be-c1f3c03afea1'), KGProxy([<class 'fairgraph.openminds.core.research.subject.Subject'>], 'https://kg.ebrains.eu/api/instances/d5ea0238-23e7-463e-96f3-4da7c06832e4'), KGProxy([<class 'fairgraph.openminds.core.research.subject.Subject'>], 'https://kg.ebrains.eu/api/instances/6c00b1a4-d10f-408d-ac00-b07464a73321'), KGProxy([<class 'fairgraph.openminds.core.research.tissue_sample_collection.TissueSampleCollection'>], 'https://kg.ebrains.eu/api/instances/d352f598-0118-4908-ad01-a2c4b5e06028'), KGProxy([<class 'fairgraph.openminds.core.research.tissue_sample_collection.TissueSampleCollection'>], 'https://kg.ebrains.eu/api/instances/a9f319fb-9d41-4500-8eb4-08601053f850'), KGProxy([<class 'fairgraph.openminds.core.research.tissue_sample_collection.TissueSampleCollection'>], 'https://kg.ebrains.eu/api/instances/d2b62075-768e-48f4-ba00-4e8cbbb543e9'), KGProxy([<class 'fairgraph.openminds.core.research.subject.Subject'>], 'https://kg.ebrains.eu/api/instances/9a83c827-3638-4bc1-92c2-10749d30500b'), KGProxy([<class 'fairgraph.openminds.core.research.subject.Subject'>], 'https://kg.ebrains.eu/api/instances/dd214b93-8c20-4c70-ac90-584d7f66f344'), KGProxy([<class 'fairgraph.openminds.core.research.subject.Subject'>], 'https://kg.ebrains.eu/api/instances/d967e53d-277d-4a2f-9090-8c50aaf0a008'), KGProxy([<class 'fairgraph.openminds.core.research.tissue_sample_collection.TissueSampleCollection'>], 'https://kg.ebrains.eu/api/instances/0cad429a-f738-4d1d-9e56-c907b431a8c9'), KGProxy([<class 'fairgraph.openminds.core.research.tissue_sample_collection.TissueSampleCollection'>], 'https://kg.ebrains.eu/api/instances/5f40bc15-d813-4560-92a8-a533109777fb'), KGProxy([<class 'fairgraph.openminds.core.research.subject.Subject'>], 'https://kg.ebrains.eu/api/instances/0be6ad46-c50d-4a50-8e2b-0eeea708019e'), KGProxy([<class 'fairgraph.openminds.core.research.subject.Subject'>], 'https://kg.ebrains.eu/api/instances/a7197a22-0b1d-4069-89b2-17aa92910c00'), KGProxy([<class 'fairgraph.openminds.core.research.subject.Subject'>], 'https://kg.ebrains.eu/api/instances/524e0e51-6a9e-410b-8d23-79ce1b7d97b7'), KGProxy([<class 'fairgraph.openminds.core.research.subject.Subject'>], 'https://kg.ebrains.eu/api/instances/12f80b23-6bec-4b0a-90c7-b717310fb707'), KGProxy([<class 'fairgraph.openminds.core.research.tissue_sample_collection.TissueSampleCollection'>], 'https://kg.ebrains.eu/api/instances/ae759252-c8e4-4c60-aa4c-308922613371'), KGProxy([<class 'fairgraph.openminds.core.research.tissue_sample_collection.TissueSampleCollection'>], 'https://kg.ebrains.eu/api/instances/e168745f-d7cf-4977-87d0-4dbeba51a9f2'), KGProxy([<class 'fairgraph.openminds.core.research.tissue_sample_collection.TissueSampleCollection'>], 'https://kg.ebrains.eu/api/instances/d44005cd-7d11-471f-9e34-4400463449ee'), KGProxy([<class 'fairgraph.openminds.core.research.tissue_sample_collection.TissueSampleCollection'>], 'https://kg.ebrains.eu/api/instances/7831a6bc-d329-4ff1-a5cf-270c100f9f8a')]\n",
      "study_targets            KGProxy([<class 'fairgraph.openminds.controlled_terms.disease.Disease'>], 'https://kg.ebrains.eu/api/instances/161baa02-4e08-4cf2-a641-81cf323cc15d')\n",
      "techniques               [KGProxy([<class 'fairgraph.openminds.controlled_terms.technique.Technique'>], 'https://kg.ebrains.eu/api/instances/dc0bbc6c-99f5-4d3b-9c5e-e1bb7d59aa63'), KGProxy([<class 'fairgraph.openminds.controlled_terms.technique.Technique'>], 'https://kg.ebrains.eu/api/instances/ffc1c922-5ba9-4f03-b9be-05eb6fd0f294')]\n",
      "version_identifier       v1\n",
      "version_innovation       This is the first version of this research product.\n",
      "has_parts                [KGProxy([<class 'fairgraph.openminds.stimulation.activity.stimulation_activity.StimulationActivity'>], 'https://kg.ebrains.eu/api/instances/fe06317d-1923-40df-99ce-175c19fd2ee7'), KGProxy([<class 'fairgraph.openminds.ephys.activity.recording_activity.RecordingActivity'>], 'https://kg.ebrains.eu/api/instances/d7540144-80b4-4fd0-9644-2f06bc8558a2'), KGProxy([<class 'fairgraph.openminds.ephys.activity.cell_patching.CellPatching'>], 'https://kg.ebrains.eu/api/instances/725e615e-6f11-4b53-8815-6a59703b5ec8'), KGProxy([<class 'fairgraph.openminds.ephys.activity.cell_patching.CellPatching'>], 'https://kg.ebrains.eu/api/instances/1cb67a76-b7d6-478b-8978-3f5265087e61'), KGProxy([<class 'fairgraph.openminds.ephys.activity.cell_patching.CellPatching'>], 'https://kg.ebrains.eu/api/instances/665a5aef-43fe-4006-b5b0-f1ad109c606f'), KGProxy([<class 'fairgraph.openminds.ephys.activity.cell_patching.CellPatching'>], 'https://kg.ebrains.eu/api/instances/8df8f8a3-1595-4491-b946-d761aabdb11b'), KGProxy([<class 'fairgraph.openminds.ephys.activity.cell_patching.CellPatching'>], 'https://kg.ebrains.eu/api/instances/425f45d2-8522-460a-bef7-9e95bde08e13'), KGProxy([<class 'fairgraph.openminds.ephys.activity.cell_patching.CellPatching'>], 'https://kg.ebrains.eu/api/instances/d6df42d4-d2f8-4097-97d0-cb158d5e41e4'), KGProxy([<class 'fairgraph.openminds.ephys.activity.cell_patching.CellPatching'>], 'https://kg.ebrains.eu/api/instances/b9230e12-b65c-4791-ba34-71b09ec09a47'), KGProxy([<class 'fairgraph.openminds.ephys.activity.cell_patching.CellPatching'>], 'https://kg.ebrains.eu/api/instances/4e2afe0c-4ab5-4b63-9f4f-c9419f12caa5'), KGProxy([<class 'fairgraph.openminds.specimen_prep.activity.tissue_sample_slicing.TissueSampleSlicing'>], 'https://kg.ebrains.eu/api/instances/cace5b3a-7c20-418f-94eb-2687bda54ae7'), KGProxy([<class 'fairgraph.openminds.stimulation.activity.stimulation_activity.StimulationActivity'>], 'https://kg.ebrains.eu/api/instances/e65e6928-242c-4a6b-be14-0fbc04918f16'), KGProxy([<class 'fairgraph.openminds.stimulation.activity.stimulation_activity.StimulationActivity'>], 'https://kg.ebrains.eu/api/instances/2f061698-cc43-4456-aa00-23d114051a9a'), KGProxy([<class 'fairgraph.openminds.stimulation.activity.stimulation_activity.StimulationActivity'>], 'https://kg.ebrains.eu/api/instances/b6097207-9167-46aa-b369-b045f19965d4'), KGProxy([<class 'fairgraph.openminds.stimulation.activity.stimulation_activity.StimulationActivity'>], 'https://kg.ebrains.eu/api/instances/9014b438-d0d4-477d-a933-8ce9e04738e1'), KGProxy([<class 'fairgraph.openminds.ephys.activity.recording_activity.RecordingActivity'>], 'https://kg.ebrains.eu/api/instances/9fbc1d87-be83-4190-aadf-a71264323b5c'), KGProxy([<class 'fairgraph.openminds.stimulation.activity.stimulation_activity.StimulationActivity'>], 'https://kg.ebrains.eu/api/instances/c347774b-b963-453f-a442-e68b0340a0e8'), KGProxy([<class 'fairgraph.openminds.stimulation.activity.stimulation_activity.StimulationActivity'>], 'https://kg.ebrains.eu/api/instances/050ad729-88f2-43a5-80d7-9d8d5b317aa7'), KGProxy([<class 'fairgraph.openminds.ephys.activity.recording_activity.RecordingActivity'>], 'https://kg.ebrains.eu/api/instances/59a31111-3102-4a75-a709-24ba2d555e5d'), KGProxy([<class 'fairgraph.openminds.ephys.activity.recording_activity.RecordingActivity'>], 'https://kg.ebrains.eu/api/instances/54cf7ceb-c783-43ac-9a6c-78513c0cb457'), KGProxy([<class 'fairgraph.openminds.ephys.activity.recording_activity.RecordingActivity'>], 'https://kg.ebrains.eu/api/instances/2467e5b7-06f0-4d34-a827-0e172d7a57e2'), KGProxy([<class 'fairgraph.openminds.ephys.activity.recording_activity.RecordingActivity'>], 'https://kg.ebrains.eu/api/instances/6cc15589-2f36-43bd-9bca-88a6c932f55e'), KGProxy([<class 'fairgraph.openminds.ephys.activity.recording_activity.RecordingActivity'>], 'https://kg.ebrains.eu/api/instances/fbe457db-2a74-4cb1-8f7f-9a0fbf82968e'), KGProxy([<class 'fairgraph.openminds.ephys.activity.recording_activity.RecordingActivity'>], 'https://kg.ebrains.eu/api/instances/f3f319e3-423a-4136-9859-85de930e996f'), KGProxy([<class 'fairgraph.openminds.ephys.activity.recording_activity.RecordingActivity'>], 'https://kg.ebrains.eu/api/instances/52d4ffae-a994-4414-9c56-1f24c2c677d6'), KGProxy([<class 'fairgraph.openminds.ephys.activity.cell_patching.CellPatching'>], 'https://kg.ebrains.eu/api/instances/a7c64bab-b7c2-410c-bc17-43b4dc676b1a'), KGProxy([<class 'fairgraph.openminds.ephys.activity.cell_patching.CellPatching'>], 'https://kg.ebrains.eu/api/instances/13a79932-0ac4-42e8-9225-d04a5ce6e350'), KGProxy([<class 'fairgraph.openminds.ephys.activity.cell_patching.CellPatching'>], 'https://kg.ebrains.eu/api/instances/7d8c8a0e-4bd2-423d-a140-6c6f2c2e16cd'), KGProxy([<class 'fairgraph.openminds.ephys.activity.cell_patching.CellPatching'>], 'https://kg.ebrains.eu/api/instances/f57bfac5-a8d8-4a84-811c-8d77c6574bbd'), KGProxy([<class 'fairgraph.openminds.stimulation.activity.stimulation_activity.StimulationActivity'>], 'https://kg.ebrains.eu/api/instances/a5cec996-efc2-4e20-8587-06cab0feecac'), KGProxy([<class 'fairgraph.openminds.ephys.activity.recording_activity.RecordingActivity'>], 'https://kg.ebrains.eu/api/instances/12807e5a-9e55-48aa-b5b4-fb4d968041a4'), KGProxy([<class 'fairgraph.openminds.ephys.activity.recording_activity.RecordingActivity'>], 'https://kg.ebrains.eu/api/instances/80dc4837-1d8c-4645-a551-9289baa4c8cf'), KGProxy([<class 'fairgraph.openminds.ephys.activity.recording_activity.RecordingActivity'>], 'https://kg.ebrains.eu/api/instances/e42fce5f-afdd-4529-839d-142ce63a8088'), KGProxy([<class 'fairgraph.openminds.ephys.activity.recording_activity.RecordingActivity'>], 'https://kg.ebrains.eu/api/instances/77e754fe-e049-4463-94f1-6b944a7d9571'), KGProxy([<class 'fairgraph.openminds.ephys.activity.recording_activity.RecordingActivity'>], 'https://kg.ebrains.eu/api/instances/90bad629-243d-40b6-aecd-fc80dab74741'), KGProxy([<class 'fairgraph.openminds.ephys.activity.recording_activity.RecordingActivity'>], 'https://kg.ebrains.eu/api/instances/bc85e9dd-27de-49c8-893b-4d4e55b533a8'), KGProxy([<class 'fairgraph.openminds.ephys.activity.cell_patching.CellPatching'>], 'https://kg.ebrains.eu/api/instances/760febff-aca6-47b8-bb1e-500d6bff044d'), KGProxy([<class 'fairgraph.openminds.ephys.activity.cell_patching.CellPatching'>], 'https://kg.ebrains.eu/api/instances/726754a5-126b-4950-8a34-55ff117cffb3'), KGProxy([<class 'fairgraph.openminds.ephys.activity.cell_patching.CellPatching'>], 'https://kg.ebrains.eu/api/instances/a8f81d5c-8ae4-46be-8846-d89ace3a3c2b'), KGProxy([<class 'fairgraph.openminds.ephys.activity.cell_patching.CellPatching'>], 'https://kg.ebrains.eu/api/instances/b37e0acd-7442-4dd9-9453-48b04eb10b7b'), KGProxy([<class 'fairgraph.openminds.ephys.activity.cell_patching.CellPatching'>], 'https://kg.ebrains.eu/api/instances/56b4d649-f65e-43ca-9ced-524655476917'), KGProxy([<class 'fairgraph.openminds.ephys.activity.cell_patching.CellPatching'>], 'https://kg.ebrains.eu/api/instances/f7e6f3b4-1e4b-4349-bef7-3282890ed582'), KGProxy([<class 'fairgraph.openminds.ephys.activity.cell_patching.CellPatching'>], 'https://kg.ebrains.eu/api/instances/5bd686df-e73a-45ab-bf0f-f469b5b1c431'), KGProxy([<class 'fairgraph.openminds.specimen_prep.activity.tissue_sample_slicing.TissueSampleSlicing'>], 'https://kg.ebrains.eu/api/instances/ddb460af-8272-4e1f-bbca-a92d6fb51b7d'), KGProxy([<class 'fairgraph.openminds.ephys.activity.cell_patching.CellPatching'>], 'https://kg.ebrains.eu/api/instances/208319c6-3fcc-421c-aaa7-dcc2a372b1a7'), KGProxy([<class 'fairgraph.openminds.stimulation.activity.stimulation_activity.StimulationActivity'>], 'https://kg.ebrains.eu/api/instances/96a661e4-5b82-4339-9e29-6448b29f83ca'), KGProxy([<class 'fairgraph.openminds.stimulation.activity.stimulation_activity.StimulationActivity'>], 'https://kg.ebrains.eu/api/instances/afe3be81-5381-4834-9aae-09b591c9c6e7'), KGProxy([<class 'fairgraph.openminds.stimulation.activity.stimulation_activity.StimulationActivity'>], 'https://kg.ebrains.eu/api/instances/f0ebc40c-c798-460e-90e1-6b2262ef2aeb'), KGProxy([<class 'fairgraph.openminds.stimulation.activity.stimulation_activity.StimulationActivity'>], 'https://kg.ebrains.eu/api/instances/ee2c9a4a-9e33-4240-8a6b-ef6758882b0b'), KGProxy([<class 'fairgraph.openminds.stimulation.activity.stimulation_activity.StimulationActivity'>], 'https://kg.ebrains.eu/api/instances/c87fd388-05ac-4db4-824d-81ed40c67e92'), KGProxy([<class 'fairgraph.openminds.stimulation.activity.stimulation_activity.StimulationActivity'>], 'https://kg.ebrains.eu/api/instances/68290026-a02d-4f02-a404-077e2a14bf27'), KGProxy([<class 'fairgraph.openminds.stimulation.activity.stimulation_activity.StimulationActivity'>], 'https://kg.ebrains.eu/api/instances/1b5c123f-5699-42f1-9e9c-715af8ecad18'), KGProxy([<class 'fairgraph.openminds.ephys.activity.recording_activity.RecordingActivity'>], 'https://kg.ebrains.eu/api/instances/d5544aa9-a8d2-4fc7-977b-3df99dd0d064'), KGProxy([<class 'fairgraph.openminds.ephys.activity.recording_activity.RecordingActivity'>], 'https://kg.ebrains.eu/api/instances/9b810793-d1b4-4d63-8a3e-ca54a8669b28'), KGProxy([<class 'fairgraph.openminds.ephys.activity.recording_activity.RecordingActivity'>], 'https://kg.ebrains.eu/api/instances/5b7ff7b8-fe95-4529-88f1-dc8ac54bb636'), KGProxy([<class 'fairgraph.openminds.ephys.activity.recording_activity.RecordingActivity'>], 'https://kg.ebrains.eu/api/instances/039572ad-4539-45f7-98e0-e0ff2edf29d3'), KGProxy([<class 'fairgraph.openminds.ephys.activity.recording_activity.RecordingActivity'>], 'https://kg.ebrains.eu/api/instances/69338849-6c13-40e3-ad45-448786bf6401'), KGProxy([<class 'fairgraph.openminds.ephys.activity.recording_activity.RecordingActivity'>], 'https://kg.ebrains.eu/api/instances/37ddbb07-0ead-4e15-9ab2-852823d9d34c'), KGProxy([<class 'fairgraph.openminds.ephys.activity.recording_activity.RecordingActivity'>], 'https://kg.ebrains.eu/api/instances/8b1a9ce5-cc9b-45ce-b95d-f255d3579783'), KGProxy([<class 'fairgraph.openminds.stimulation.activity.stimulation_activity.StimulationActivity'>], 'https://kg.ebrains.eu/api/instances/5a4f701a-c0cf-47ac-9efb-156ca95c633e'), KGProxy([<class 'fairgraph.openminds.stimulation.activity.stimulation_activity.StimulationActivity'>], 'https://kg.ebrains.eu/api/instances/955b722b-7485-46b4-9c7e-c184de1cde0b'), KGProxy([<class 'fairgraph.openminds.stimulation.activity.stimulation_activity.StimulationActivity'>], 'https://kg.ebrains.eu/api/instances/aad47886-5b1b-4e69-8a79-7fdaa42fe9dc'), KGProxy([<class 'fairgraph.openminds.stimulation.activity.stimulation_activity.StimulationActivity'>], 'https://kg.ebrains.eu/api/instances/54015482-a944-48bc-a549-2e7831e9df45'), KGProxy([<class 'fairgraph.openminds.stimulation.activity.stimulation_activity.StimulationActivity'>], 'https://kg.ebrains.eu/api/instances/3206ee0f-17eb-4609-9de0-b79be6507c00'), KGProxy([<class 'fairgraph.openminds.stimulation.activity.stimulation_activity.StimulationActivity'>], 'https://kg.ebrains.eu/api/instances/b523d848-6700-4db7-9b34-e25a5e5b80f4'), KGProxy([<class 'fairgraph.openminds.stimulation.activity.stimulation_activity.StimulationActivity'>], 'https://kg.ebrains.eu/api/instances/5d1955b8-ebb3-41bd-a9b1-e06ecf6ac629'), KGProxy([<class 'fairgraph.openminds.stimulation.activity.stimulation_activity.StimulationActivity'>], 'https://kg.ebrains.eu/api/instances/26b297de-8754-4484-a503-34564076a17f'), KGProxy([<class 'fairgraph.openminds.stimulation.activity.stimulation_activity.StimulationActivity'>], 'https://kg.ebrains.eu/api/instances/69152098-f351-4251-bfaf-165af0fa8e8e'), KGProxy([<class 'fairgraph.openminds.ephys.activity.recording_activity.RecordingActivity'>], 'https://kg.ebrains.eu/api/instances/5e173762-1da0-4949-86f1-dd6bb2d3de50'), KGProxy([<class 'fairgraph.openminds.ephys.activity.recording_activity.RecordingActivity'>], 'https://kg.ebrains.eu/api/instances/b234ab8e-c9e5-43b7-8021-2d0e26223d66'), KGProxy([<class 'fairgraph.openminds.ephys.activity.recording_activity.RecordingActivity'>], 'https://kg.ebrains.eu/api/instances/c2b4074f-385b-44be-83a1-f1c93e8d2400'), KGProxy([<class 'fairgraph.openminds.ephys.activity.recording_activity.RecordingActivity'>], 'https://kg.ebrains.eu/api/instances/fb99220a-c114-444e-9d06-24dba2b49edf'), KGProxy([<class 'fairgraph.openminds.ephys.activity.recording_activity.RecordingActivity'>], 'https://kg.ebrains.eu/api/instances/941c67e9-ac95-466e-9ec3-a7bc02ce6ec1'), KGProxy([<class 'fairgraph.openminds.specimen_prep.activity.tissue_sample_slicing.TissueSampleSlicing'>], 'https://kg.ebrains.eu/api/instances/9b7450df-4f1c-4ada-a47e-3e88d2147815'), KGProxy([<class 'fairgraph.openminds.ephys.activity.recording_activity.RecordingActivity'>], 'https://kg.ebrains.eu/api/instances/cf5a5252-4abc-418b-99ad-df2433a27f78'), KGProxy([<class 'fairgraph.openminds.ephys.activity.recording_activity.RecordingActivity'>], 'https://kg.ebrains.eu/api/instances/fd9d8373-65b1-42c7-89e3-1df8a04c6c49'), KGProxy([<class 'fairgraph.openminds.ephys.activity.recording_activity.RecordingActivity'>], 'https://kg.ebrains.eu/api/instances/f7841faf-8790-4cea-97e9-d5d1b2a02a4f'), KGProxy([<class 'fairgraph.openminds.ephys.activity.cell_patching.CellPatching'>], 'https://kg.ebrains.eu/api/instances/b203062a-a6db-42dc-9fdb-dac6273d1564'), KGProxy([<class 'fairgraph.openminds.ephys.activity.cell_patching.CellPatching'>], 'https://kg.ebrains.eu/api/instances/f9bb6bd2-693d-40a6-b15a-3e8868bfa08e'), KGProxy([<class 'fairgraph.openminds.ephys.activity.cell_patching.CellPatching'>], 'https://kg.ebrains.eu/api/instances/b7443bd2-368a-4316-82de-4723bf4f2607'), KGProxy([<class 'fairgraph.openminds.ephys.activity.cell_patching.CellPatching'>], 'https://kg.ebrains.eu/api/instances/fabbbe3a-fa7c-4daf-8ea0-eafa0b888f25'), KGProxy([<class 'fairgraph.openminds.ephys.activity.cell_patching.CellPatching'>], 'https://kg.ebrains.eu/api/instances/82abb90f-2386-44db-a386-c2406e0e1e0b'), KGProxy([<class 'fairgraph.openminds.ephys.activity.cell_patching.CellPatching'>], 'https://kg.ebrains.eu/api/instances/1c16bf43-26c2-4288-906d-b2e1fd0d8922'), KGProxy([<class 'fairgraph.openminds.ephys.activity.cell_patching.CellPatching'>], 'https://kg.ebrains.eu/api/instances/824441b8-757e-44c4-aaec-d25ca5b3ae30'), KGProxy([<class 'fairgraph.openminds.ephys.activity.cell_patching.CellPatching'>], 'https://kg.ebrains.eu/api/instances/e33c525c-830e-447b-b816-59d964b658ad'), KGProxy([<class 'fairgraph.openminds.ephys.activity.cell_patching.CellPatching'>], 'https://kg.ebrains.eu/api/instances/079f16fb-01e3-4b0d-bfed-699536c2a17b'), KGProxy([<class 'fairgraph.openminds.specimen_prep.activity.tissue_sample_slicing.TissueSampleSlicing'>], 'https://kg.ebrains.eu/api/instances/5e5bd8ce-8884-4d73-9a74-704b9e7dcc2b'), KGProxy([<class 'fairgraph.openminds.stimulation.activity.stimulation_activity.StimulationActivity'>], 'https://kg.ebrains.eu/api/instances/4881a6d5-fc9d-40d9-a2c6-95a4ad2d2227'), KGProxy([<class 'fairgraph.openminds.ephys.activity.cell_patching.CellPatching'>], 'https://kg.ebrains.eu/api/instances/30a5cc0b-2cec-46ba-a122-8923af26fe7c'), KGProxy([<class 'fairgraph.openminds.ephys.activity.cell_patching.CellPatching'>], 'https://kg.ebrains.eu/api/instances/c95a86de-4b5b-4789-a151-cf0e0a095f50'), KGProxy([<class 'fairgraph.openminds.specimen_prep.activity.tissue_sample_slicing.TissueSampleSlicing'>], 'https://kg.ebrains.eu/api/instances/1124a5ee-77f9-496b-a220-32bacb5ea0ba'), KGProxy([<class 'fairgraph.openminds.stimulation.activity.stimulation_activity.StimulationActivity'>], 'https://kg.ebrains.eu/api/instances/852e8ed1-5ee9-48d9-82b0-e2c9c6ed3397'), KGProxy([<class 'fairgraph.openminds.stimulation.activity.stimulation_activity.StimulationActivity'>], 'https://kg.ebrains.eu/api/instances/1cd7dd8b-107d-447b-a86f-cf4dc4a96f7e'), KGProxy([<class 'fairgraph.openminds.ephys.activity.recording_activity.RecordingActivity'>], 'https://kg.ebrains.eu/api/instances/b85861ac-c7ec-430b-b188-6c08f5f11f31'), KGProxy([<class 'fairgraph.openminds.ephys.activity.recording_activity.RecordingActivity'>], 'https://kg.ebrains.eu/api/instances/065c8199-ae6c-45d0-896b-c1c5128c928d'), KGProxy([<class 'fairgraph.openminds.ephys.activity.cell_patching.CellPatching'>], 'https://kg.ebrains.eu/api/instances/3bcc9457-d98c-416b-8d16-d0dc5c92acff'), KGProxy([<class 'fairgraph.openminds.ephys.activity.cell_patching.CellPatching'>], 'https://kg.ebrains.eu/api/instances/741ada96-007f-4f9d-aaf3-360456006d89'), KGProxy([<class 'fairgraph.openminds.specimen_prep.activity.tissue_sample_slicing.TissueSampleSlicing'>], 'https://kg.ebrains.eu/api/instances/3fd6d6a1-d4ab-48ae-996c-dad17db3d925'), KGProxy([<class 'fairgraph.openminds.stimulation.activity.stimulation_activity.StimulationActivity'>], 'https://kg.ebrains.eu/api/instances/04ee83d7-5315-4d28-a931-0cb26deb1ae9'), KGProxy([<class 'fairgraph.openminds.stimulation.activity.stimulation_activity.StimulationActivity'>], 'https://kg.ebrains.eu/api/instances/a1372f68-1b18-44f5-818d-57f64450c1cf'), KGProxy([<class 'fairgraph.openminds.stimulation.activity.stimulation_activity.StimulationActivity'>], 'https://kg.ebrains.eu/api/instances/73a828b3-5bf9-4c1b-bb37-bc71bc7b4d80'), KGProxy([<class 'fairgraph.openminds.stimulation.activity.stimulation_activity.StimulationActivity'>], 'https://kg.ebrains.eu/api/instances/ced61e4f-bcd6-45fe-92f8-dbc2c2e260c4'), KGProxy([<class 'fairgraph.openminds.ephys.activity.recording_activity.RecordingActivity'>], 'https://kg.ebrains.eu/api/instances/52a4e38c-d414-499a-9bf4-515e953268d1'), KGProxy([<class 'fairgraph.openminds.stimulation.activity.stimulation_activity.StimulationActivity'>], 'https://kg.ebrains.eu/api/instances/a00a3d66-519f-4b15-95c3-dffe3ad22028'), KGProxy([<class 'fairgraph.openminds.ephys.activity.recording_activity.RecordingActivity'>], 'https://kg.ebrains.eu/api/instances/6cf266df-cd78-4d97-8708-e3ff3207f21c'), KGProxy([<class 'fairgraph.openminds.ephys.activity.recording_activity.RecordingActivity'>], 'https://kg.ebrains.eu/api/instances/df6547c2-4284-4e2b-8661-fcb0c0144af3'), KGProxy([<class 'fairgraph.openminds.ephys.activity.recording_activity.RecordingActivity'>], 'https://kg.ebrains.eu/api/instances/1f1f763a-1c40-4842-a9c1-8831616ef031'), KGProxy([<class 'fairgraph.openminds.ephys.activity.recording_activity.RecordingActivity'>], 'https://kg.ebrains.eu/api/instances/da9d3997-0fad-45b4-852a-cc5c71b483f6'), KGProxy([<class 'fairgraph.openminds.ephys.activity.recording_activity.RecordingActivity'>], 'https://kg.ebrains.eu/api/instances/7792432e-5110-4405-a6d3-b0c227e04b9a'), KGProxy([<class 'fairgraph.openminds.ephys.activity.recording_activity.RecordingActivity'>], 'https://kg.ebrains.eu/api/instances/bacf1480-b920-4d6f-a596-2c2d30aa7fb2'), KGProxy([<class 'fairgraph.openminds.ephys.activity.cell_patching.CellPatching'>], 'https://kg.ebrains.eu/api/instances/95539de0-2d79-4bb3-b236-35fd3aff167b'), KGProxy([<class 'fairgraph.openminds.ephys.activity.cell_patching.CellPatching'>], 'https://kg.ebrains.eu/api/instances/44b67998-e21f-4959-9570-44f764e5dece'), KGProxy([<class 'fairgraph.openminds.ephys.activity.cell_patching.CellPatching'>], 'https://kg.ebrains.eu/api/instances/25a680e3-f6c6-47a6-9d6c-6f333e06b318'), KGProxy([<class 'fairgraph.openminds.ephys.activity.cell_patching.CellPatching'>], 'https://kg.ebrains.eu/api/instances/2ae3339d-cea7-4567-b590-16419bc0db12'), KGProxy([<class 'fairgraph.openminds.ephys.activity.cell_patching.CellPatching'>], 'https://kg.ebrains.eu/api/instances/50e6a525-8dd7-4dba-a6de-0b81c7a9acda'), KGProxy([<class 'fairgraph.openminds.ephys.activity.cell_patching.CellPatching'>], 'https://kg.ebrains.eu/api/instances/91d819f4-ff04-43fe-b1a1-72b7bf9ef6b9'), KGProxy([<class 'fairgraph.openminds.ephys.activity.recording_activity.RecordingActivity'>], 'https://kg.ebrains.eu/api/instances/b5fc07e3-dc52-4db4-8663-3967bef91a3d'), KGProxy([<class 'fairgraph.openminds.ephys.activity.recording_activity.RecordingActivity'>], 'https://kg.ebrains.eu/api/instances/3889e99c-3087-4444-8615-f031e35005e6'), KGProxy([<class 'fairgraph.openminds.ephys.activity.recording_activity.RecordingActivity'>], 'https://kg.ebrains.eu/api/instances/54ed7bd7-3928-450c-bf8a-771a1c3e28ad'), KGProxy([<class 'fairgraph.openminds.ephys.activity.recording_activity.RecordingActivity'>], 'https://kg.ebrains.eu/api/instances/e98b1604-ca46-4877-bd1a-6e624921661e'), KGProxy([<class 'fairgraph.openminds.ephys.activity.cell_patching.CellPatching'>], 'https://kg.ebrains.eu/api/instances/a7e84cfc-bb00-4034-b3c8-217111635aaa'), KGProxy([<class 'fairgraph.openminds.ephys.activity.cell_patching.CellPatching'>], 'https://kg.ebrains.eu/api/instances/f35de367-d730-48bf-8a26-f9b8a6fb707d'), KGProxy([<class 'fairgraph.openminds.ephys.activity.cell_patching.CellPatching'>], 'https://kg.ebrains.eu/api/instances/c555cbfe-b38c-4997-956a-ba0508c99542'), KGProxy([<class 'fairgraph.openminds.ephys.activity.cell_patching.CellPatching'>], 'https://kg.ebrains.eu/api/instances/77899432-7def-49d1-a635-d28e755b723e'), KGProxy([<class 'fairgraph.openminds.specimen_prep.activity.tissue_sample_slicing.TissueSampleSlicing'>], 'https://kg.ebrains.eu/api/instances/770e8d34-fbe6-413d-9841-75815d647663'), KGProxy([<class 'fairgraph.openminds.stimulation.activity.stimulation_activity.StimulationActivity'>], 'https://kg.ebrains.eu/api/instances/83671518-a795-471c-a323-cd5ce43aa780'), KGProxy([<class 'fairgraph.openminds.stimulation.activity.stimulation_activity.StimulationActivity'>], 'https://kg.ebrains.eu/api/instances/aa39bf3d-cde2-42dc-b9c0-49a2efbfeba3'), KGProxy([<class 'fairgraph.openminds.stimulation.activity.stimulation_activity.StimulationActivity'>], 'https://kg.ebrains.eu/api/instances/a0631c70-de4e-4314-a60f-2d188fc2263c'), KGProxy([<class 'fairgraph.openminds.stimulation.activity.stimulation_activity.StimulationActivity'>], 'https://kg.ebrains.eu/api/instances/3c33ebc3-2149-4f46-883a-b2af752a0fdc'), KGProxy([<class 'fairgraph.openminds.stimulation.activity.stimulation_activity.StimulationActivity'>], 'https://kg.ebrains.eu/api/instances/6407d841-d145-4930-b719-ffaab9dc31cf'), KGProxy([<class 'fairgraph.openminds.stimulation.activity.stimulation_activity.StimulationActivity'>], 'https://kg.ebrains.eu/api/instances/415f768e-504a-4396-8c3d-d82d2e12131a'), KGProxy([<class 'fairgraph.openminds.ephys.activity.recording_activity.RecordingActivity'>], 'https://kg.ebrains.eu/api/instances/9306bc04-1ef1-4878-82b9-0c6b9bc37eb5'), KGProxy([<class 'fairgraph.openminds.ephys.activity.recording_activity.RecordingActivity'>], 'https://kg.ebrains.eu/api/instances/6aa5cc5f-fea6-48ec-9eba-f9dc3b289959'), KGProxy([<class 'fairgraph.openminds.ephys.activity.recording_activity.RecordingActivity'>], 'https://kg.ebrains.eu/api/instances/6f3b3d31-3fe8-48c6-a383-4bccdde0dba4'), KGProxy([<class 'fairgraph.openminds.ephys.activity.recording_activity.RecordingActivity'>], 'https://kg.ebrains.eu/api/instances/3c9782ad-c2f9-4dac-b73f-feed28533568'), KGProxy([<class 'fairgraph.openminds.ephys.activity.recording_activity.RecordingActivity'>], 'https://kg.ebrains.eu/api/instances/9abacc4b-9d43-497d-94ec-162e05e231d8'), KGProxy([<class 'fairgraph.openminds.ephys.activity.recording_activity.RecordingActivity'>], 'https://kg.ebrains.eu/api/instances/5eb05196-2c2e-4b88-b601-c6917b9786da'), KGProxy([<class 'fairgraph.openminds.ephys.activity.cell_patching.CellPatching'>], 'https://kg.ebrains.eu/api/instances/aa885bc4-c33a-4ce9-a64d-f12a5957d25f'), KGProxy([<class 'fairgraph.openminds.ephys.activity.cell_patching.CellPatching'>], 'https://kg.ebrains.eu/api/instances/e5cdd157-a0e9-4f66-939d-51c55e8c71b6'), KGProxy([<class 'fairgraph.openminds.ephys.activity.cell_patching.CellPatching'>], 'https://kg.ebrains.eu/api/instances/3d4f9b7f-b823-42f9-8a91-b1b6639d1a4b'), KGProxy([<class 'fairgraph.openminds.ephys.activity.cell_patching.CellPatching'>], 'https://kg.ebrains.eu/api/instances/af2b2404-e4f4-445c-b37b-39d37b524da0'), KGProxy([<class 'fairgraph.openminds.ephys.activity.cell_patching.CellPatching'>], 'https://kg.ebrains.eu/api/instances/5c9f5f29-0fd1-488c-ad76-93126e3c0df4'), KGProxy([<class 'fairgraph.openminds.ephys.activity.cell_patching.CellPatching'>], 'https://kg.ebrains.eu/api/instances/41f2e5d6-907d-44ab-8586-5e22c267a43b'), KGProxy([<class 'fairgraph.openminds.specimen_prep.activity.tissue_sample_slicing.TissueSampleSlicing'>], 'https://kg.ebrains.eu/api/instances/e7725635-0ddf-43a4-9ecf-b0f0a622ea9e'), KGProxy([<class 'fairgraph.openminds.stimulation.activity.stimulation_activity.StimulationActivity'>], 'https://kg.ebrains.eu/api/instances/6630749f-1dfd-4d54-be11-72f17a558476'), KGProxy([<class 'fairgraph.openminds.ephys.activity.recording_activity.RecordingActivity'>], 'https://kg.ebrains.eu/api/instances/9439b351-c9aa-49d2-99ff-9841160f62cf'), KGProxy([<class 'fairgraph.openminds.stimulation.activity.stimulation_activity.StimulationActivity'>], 'https://kg.ebrains.eu/api/instances/c4626154-573f-4706-89eb-64fb54bf581b'), KGProxy([<class 'fairgraph.openminds.stimulation.activity.stimulation_activity.StimulationActivity'>], 'https://kg.ebrains.eu/api/instances/c1f302ea-2cf0-4f8a-a9f1-f4bc997d0936'), KGProxy([<class 'fairgraph.openminds.stimulation.activity.stimulation_activity.StimulationActivity'>], 'https://kg.ebrains.eu/api/instances/f86bbe47-f503-483d-90f0-9093fcf1b479'), KGProxy([<class 'fairgraph.openminds.stimulation.activity.stimulation_activity.StimulationActivity'>], 'https://kg.ebrains.eu/api/instances/6cbb794b-2877-4b29-871f-c07830be29d6'), KGProxy([<class 'fairgraph.openminds.stimulation.activity.stimulation_activity.StimulationActivity'>], 'https://kg.ebrains.eu/api/instances/007b2daf-69dc-4c48-b3b6-581077a2c6f5'), KGProxy([<class 'fairgraph.openminds.stimulation.activity.stimulation_activity.StimulationActivity'>], 'https://kg.ebrains.eu/api/instances/66fc8837-2e53-446e-abfb-c2e98679af89'), KGProxy([<class 'fairgraph.openminds.stimulation.activity.stimulation_activity.StimulationActivity'>], 'https://kg.ebrains.eu/api/instances/b21d66f9-32df-4c29-8412-9720472dcc03'), KGProxy([<class 'fairgraph.openminds.ephys.activity.recording_activity.RecordingActivity'>], 'https://kg.ebrains.eu/api/instances/1eaa8c2b-ca94-4748-b41f-04e9a5c9c35a'), KGProxy([<class 'fairgraph.openminds.ephys.activity.recording_activity.RecordingActivity'>], 'https://kg.ebrains.eu/api/instances/137f3e67-9c24-4e67-b136-850ad539539f'), KGProxy([<class 'fairgraph.openminds.ephys.activity.recording_activity.RecordingActivity'>], 'https://kg.ebrains.eu/api/instances/61dadb1a-9b9c-4ba6-8cd0-37922d7461e5'), KGProxy([<class 'fairgraph.openminds.ephys.activity.recording_activity.RecordingActivity'>], 'https://kg.ebrains.eu/api/instances/33458c55-3fb7-4f72-8e19-56ad8db3a801'), KGProxy([<class 'fairgraph.openminds.ephys.activity.recording_activity.RecordingActivity'>], 'https://kg.ebrains.eu/api/instances/b0d53556-0f5d-4f54-abae-5ccc2becf84a'), KGProxy([<class 'fairgraph.openminds.ephys.activity.recording_activity.RecordingActivity'>], 'https://kg.ebrains.eu/api/instances/5e20231c-4444-4a9d-a918-8c5f4687988e'), KGProxy([<class 'fairgraph.openminds.ephys.activity.recording_activity.RecordingActivity'>], 'https://kg.ebrains.eu/api/instances/b65bc6ba-a393-4748-a8aa-2716928889fa'), KGProxy([<class 'fairgraph.openminds.stimulation.activity.stimulation_activity.StimulationActivity'>], 'https://kg.ebrains.eu/api/instances/ad3b8e6e-1042-4299-834d-0a52a9b90834'), KGProxy([<class 'fairgraph.openminds.ephys.activity.cell_patching.CellPatching'>], 'https://kg.ebrains.eu/api/instances/0f5f0020-5c3e-4553-a4bd-db6a391598be'), KGProxy([<class 'fairgraph.openminds.ephys.activity.cell_patching.CellPatching'>], 'https://kg.ebrains.eu/api/instances/1562e996-be64-4468-89cc-e8e13602ea55'), KGProxy([<class 'fairgraph.openminds.ephys.activity.cell_patching.CellPatching'>], 'https://kg.ebrains.eu/api/instances/2703dd34-b1dd-44bf-b071-448c77d200c8'), KGProxy([<class 'fairgraph.openminds.ephys.activity.cell_patching.CellPatching'>], 'https://kg.ebrains.eu/api/instances/5584b5b6-97c7-4a5d-a2f5-7ca63dec7fd1'), KGProxy([<class 'fairgraph.openminds.ephys.activity.cell_patching.CellPatching'>], 'https://kg.ebrains.eu/api/instances/56c28d4f-6df7-4198-8a76-2130a37a9729'), KGProxy([<class 'fairgraph.openminds.ephys.activity.cell_patching.CellPatching'>], 'https://kg.ebrains.eu/api/instances/0bd2dad0-e4c6-4e63-b3ad-f6c4f06022df'), KGProxy([<class 'fairgraph.openminds.ephys.activity.cell_patching.CellPatching'>], 'https://kg.ebrains.eu/api/instances/4e4a3806-8561-4619-b20a-d7ac163657f1'), KGProxy([<class 'fairgraph.openminds.ephys.activity.cell_patching.CellPatching'>], 'https://kg.ebrains.eu/api/instances/bb75a225-fd75-428c-a31c-3250e7c73ac5'), KGProxy([<class 'fairgraph.openminds.specimen_prep.activity.tissue_sample_slicing.TissueSampleSlicing'>], 'https://kg.ebrains.eu/api/instances/ba2dc6d9-c568-4ea7-b8b2-a02d6fe31ba9'), KGProxy([<class 'fairgraph.openminds.stimulation.activity.stimulation_activity.StimulationActivity'>], 'https://kg.ebrains.eu/api/instances/94b60567-68c7-4e6e-91ee-2ced59ca916b'), KGProxy([<class 'fairgraph.openminds.stimulation.activity.stimulation_activity.StimulationActivity'>], 'https://kg.ebrains.eu/api/instances/a20ba436-7fce-45a5-8dc2-3c6cd692b8ab'), KGProxy([<class 'fairgraph.openminds.stimulation.activity.stimulation_activity.StimulationActivity'>], 'https://kg.ebrains.eu/api/instances/6eb71c31-7467-43f4-9e01-57bf787e512c'), KGProxy([<class 'fairgraph.openminds.stimulation.activity.stimulation_activity.StimulationActivity'>], 'https://kg.ebrains.eu/api/instances/cd7fad08-3f53-4a9d-ba62-f763b2ec8d0b'), KGProxy([<class 'fairgraph.openminds.ephys.activity.cell_patching.CellPatching'>], 'https://kg.ebrains.eu/api/instances/ee1b834a-c4c0-411a-bd8d-b3bcae881723'), KGProxy([<class 'fairgraph.openminds.ephys.activity.cell_patching.CellPatching'>], 'https://kg.ebrains.eu/api/instances/f7dbcdc6-3134-4417-86ed-e5f5070ecafe'), KGProxy([<class 'fairgraph.openminds.specimen_prep.activity.tissue_sample_slicing.TissueSampleSlicing'>], 'https://kg.ebrains.eu/api/instances/93b37990-efce-4aac-bdae-9ae7e24e2ded'), KGProxy([<class 'fairgraph.openminds.stimulation.activity.stimulation_activity.StimulationActivity'>], 'https://kg.ebrains.eu/api/instances/68d15335-3312-45c7-9586-800600ddab80'), KGProxy([<class 'fairgraph.openminds.stimulation.activity.stimulation_activity.StimulationActivity'>], 'https://kg.ebrains.eu/api/instances/e5e5ee49-ee9b-412c-bca2-6880bbd12536'), KGProxy([<class 'fairgraph.openminds.stimulation.activity.stimulation_activity.StimulationActivity'>], 'https://kg.ebrains.eu/api/instances/bc6e364f-75f0-4889-9571-998c050f4122'), KGProxy([<class 'fairgraph.openminds.stimulation.activity.stimulation_activity.StimulationActivity'>], 'https://kg.ebrains.eu/api/instances/712c4e64-79dc-4ef6-9d19-7066fe85139e'), KGProxy([<class 'fairgraph.openminds.stimulation.activity.stimulation_activity.StimulationActivity'>], 'https://kg.ebrains.eu/api/instances/f5aab116-da51-4c89-91fa-08c8fa135abd'), KGProxy([<class 'fairgraph.openminds.stimulation.activity.stimulation_activity.StimulationActivity'>], 'https://kg.ebrains.eu/api/instances/7146af3e-a33b-4b71-a91d-b04fdf242555'), KGProxy([<class 'fairgraph.openminds.ephys.activity.recording_activity.RecordingActivity'>], 'https://kg.ebrains.eu/api/instances/754070c3-601e-433c-9aa4-6bd1c7c33c03'), KGProxy([<class 'fairgraph.openminds.ephys.activity.recording_activity.RecordingActivity'>], 'https://kg.ebrains.eu/api/instances/7e6c414b-b70c-4f5b-a9ee-52c9076c71d5'), KGProxy([<class 'fairgraph.openminds.ephys.activity.recording_activity.RecordingActivity'>], 'https://kg.ebrains.eu/api/instances/7fb3d53f-cbfd-4a88-95b1-8f6f420b4ec2'), KGProxy([<class 'fairgraph.openminds.ephys.activity.recording_activity.RecordingActivity'>], 'https://kg.ebrains.eu/api/instances/4b0d9338-49fe-4c11-b353-c60ce796731f'), KGProxy([<class 'fairgraph.openminds.ephys.activity.recording_activity.RecordingActivity'>], 'https://kg.ebrains.eu/api/instances/ed13c869-02cb-415a-86cf-58c67deab2f6'), KGProxy([<class 'fairgraph.openminds.ephys.activity.recording_activity.RecordingActivity'>], 'https://kg.ebrains.eu/api/instances/c781cd67-6d08-4cfe-9035-f597e47ff192'), KGProxy([<class 'fairgraph.openminds.ephys.activity.cell_patching.CellPatching'>], 'https://kg.ebrains.eu/api/instances/b0d52b58-d040-4ce3-9258-42f4e61dcf46'), KGProxy([<class 'fairgraph.openminds.ephys.activity.cell_patching.CellPatching'>], 'https://kg.ebrains.eu/api/instances/cf193cac-8d12-4f47-a31d-b3f34d1da128'), KGProxy([<class 'fairgraph.openminds.ephys.activity.cell_patching.CellPatching'>], 'https://kg.ebrains.eu/api/instances/2c266722-80d3-4cee-965f-161f0df26744'), KGProxy([<class 'fairgraph.openminds.ephys.activity.cell_patching.CellPatching'>], 'https://kg.ebrains.eu/api/instances/187b4d26-1304-429b-b9f0-c41c14eb8499'), KGProxy([<class 'fairgraph.openminds.ephys.activity.cell_patching.CellPatching'>], 'https://kg.ebrains.eu/api/instances/9d6b2c80-5a7b-4e4d-9671-38b378e64dd6'), KGProxy([<class 'fairgraph.openminds.ephys.activity.cell_patching.CellPatching'>], 'https://kg.ebrains.eu/api/instances/2dfd4996-aed7-4c3e-a330-d80388183210'), KGProxy([<class 'fairgraph.openminds.specimen_prep.activity.tissue_sample_slicing.TissueSampleSlicing'>], 'https://kg.ebrains.eu/api/instances/32395507-458f-424f-952d-f45705bdac8b'), KGProxy([<class 'fairgraph.openminds.stimulation.activity.stimulation_activity.StimulationActivity'>], 'https://kg.ebrains.eu/api/instances/3da411fb-747a-4bf0-8549-80dea8748595'), KGProxy([<class 'fairgraph.openminds.stimulation.activity.stimulation_activity.StimulationActivity'>], 'https://kg.ebrains.eu/api/instances/7f812714-6e7a-4363-8b84-3bd03ac78784'), KGProxy([<class 'fairgraph.openminds.stimulation.activity.stimulation_activity.StimulationActivity'>], 'https://kg.ebrains.eu/api/instances/8b11c784-075b-4bcf-a4fc-b5db45ac8877'), KGProxy([<class 'fairgraph.openminds.stimulation.activity.stimulation_activity.StimulationActivity'>], 'https://kg.ebrains.eu/api/instances/65970ab1-2db2-4cad-8ca4-d38e4424fb6e'), KGProxy([<class 'fairgraph.openminds.stimulation.activity.stimulation_activity.StimulationActivity'>], 'https://kg.ebrains.eu/api/instances/bdada3a4-b8fe-46b3-a238-2b76c086b562'), KGProxy([<class 'fairgraph.openminds.stimulation.activity.stimulation_activity.StimulationActivity'>], 'https://kg.ebrains.eu/api/instances/1efafd86-646b-4ee3-a204-c71eef03f607'), KGProxy([<class 'fairgraph.openminds.stimulation.activity.stimulation_activity.StimulationActivity'>], 'https://kg.ebrains.eu/api/instances/a6550ae7-65ab-45f0-9e79-1df46b4c72d5'), KGProxy([<class 'fairgraph.openminds.specimen_prep.activity.tissue_sample_slicing.TissueSampleSlicing'>], 'https://kg.ebrains.eu/api/instances/1c95cc48-dd14-41a3-abdf-f0eb4ea21cfb'), KGProxy([<class 'fairgraph.openminds.stimulation.activity.stimulation_activity.StimulationActivity'>], 'https://kg.ebrains.eu/api/instances/d78b76a6-a3be-4dda-b8eb-8cd3aa9da54f'), KGProxy([<class 'fairgraph.openminds.ephys.activity.recording_activity.RecordingActivity'>], 'https://kg.ebrains.eu/api/instances/99b37bce-7294-4b45-8271-e60c6e3fc433'), KGProxy([<class 'fairgraph.openminds.ephys.activity.recording_activity.RecordingActivity'>], 'https://kg.ebrains.eu/api/instances/4857692b-8ec3-4feb-bb28-28c61535ccba'), KGProxy([<class 'fairgraph.openminds.ephys.activity.recording_activity.RecordingActivity'>], 'https://kg.ebrains.eu/api/instances/39bc06fa-f3da-44ec-953a-fce645d22757'), KGProxy([<class 'fairgraph.openminds.ephys.activity.cell_patching.CellPatching'>], 'https://kg.ebrains.eu/api/instances/033a1e15-3209-4fa7-aef0-6cb72f1c0cd0'), KGProxy([<class 'fairgraph.openminds.ephys.activity.cell_patching.CellPatching'>], 'https://kg.ebrains.eu/api/instances/3dde015b-1cf6-4310-9055-de22996a2438'), KGProxy([<class 'fairgraph.openminds.ephys.activity.cell_patching.CellPatching'>], 'https://kg.ebrains.eu/api/instances/a6f20dce-3511-4dfb-bb3b-453e7e480f30'), KGProxy([<class 'fairgraph.openminds.specimen_prep.activity.tissue_sample_slicing.TissueSampleSlicing'>], 'https://kg.ebrains.eu/api/instances/dcdd6429-86ac-4431-b491-deaee4b8abd7'), KGProxy([<class 'fairgraph.openminds.stimulation.activity.stimulation_activity.StimulationActivity'>], 'https://kg.ebrains.eu/api/instances/5e2557d8-cd03-43a9-af9d-873170ea0046'), KGProxy([<class 'fairgraph.openminds.stimulation.activity.stimulation_activity.StimulationActivity'>], 'https://kg.ebrains.eu/api/instances/0896de55-d440-459d-b82e-c1d0172923f5'), KGProxy([<class 'fairgraph.openminds.ephys.activity.recording_activity.RecordingActivity'>], 'https://kg.ebrains.eu/api/instances/0d00319f-8439-4806-97ff-5c691aa6375b'), KGProxy([<class 'fairgraph.openminds.ephys.activity.recording_activity.RecordingActivity'>], 'https://kg.ebrains.eu/api/instances/dc2fd137-ac7a-4df3-9b29-749fa216fd3c'), KGProxy([<class 'fairgraph.openminds.ephys.activity.cell_patching.CellPatching'>], 'https://kg.ebrains.eu/api/instances/845f0b7f-ca6d-4c1a-9c5d-0366068994a2'), KGProxy([<class 'fairgraph.openminds.ephys.activity.cell_patching.CellPatching'>], 'https://kg.ebrains.eu/api/instances/93b87fed-84b9-4a1b-98f5-38fc80b5b46b'), KGProxy([<class 'fairgraph.openminds.stimulation.activity.stimulation_activity.StimulationActivity'>], 'https://kg.ebrains.eu/api/instances/b3bfe866-020a-427d-8e94-8c84dc6acf1a'), KGProxy([<class 'fairgraph.openminds.stimulation.activity.stimulation_activity.StimulationActivity'>], 'https://kg.ebrains.eu/api/instances/6c8ffd7f-f85b-4187-8fac-e68fefa2f7b3'), KGProxy([<class 'fairgraph.openminds.stimulation.activity.stimulation_activity.StimulationActivity'>], 'https://kg.ebrains.eu/api/instances/865e381f-d474-43f6-9be0-bc079b61ddc7'), KGProxy([<class 'fairgraph.openminds.stimulation.activity.stimulation_activity.StimulationActivity'>], 'https://kg.ebrains.eu/api/instances/98bff1eb-6b9e-453a-981b-3ec2f1344daf'), KGProxy([<class 'fairgraph.openminds.stimulation.activity.stimulation_activity.StimulationActivity'>], 'https://kg.ebrains.eu/api/instances/5be80690-33ad-49b8-88fb-be91da95e638'), KGProxy([<class 'fairgraph.openminds.stimulation.activity.stimulation_activity.StimulationActivity'>], 'https://kg.ebrains.eu/api/instances/3807f31a-0790-4302-acd2-e49ff66c4e32'), KGProxy([<class 'fairgraph.openminds.ephys.activity.recording_activity.RecordingActivity'>], 'https://kg.ebrains.eu/api/instances/f733b77f-a703-49f8-aa3e-5bc82e3a3810'), KGProxy([<class 'fairgraph.openminds.ephys.activity.recording_activity.RecordingActivity'>], 'https://kg.ebrains.eu/api/instances/ca49a4b7-5c8d-4ff1-9b69-7fac5638f3bb'), KGProxy([<class 'fairgraph.openminds.ephys.activity.recording_activity.RecordingActivity'>], 'https://kg.ebrains.eu/api/instances/2b7412f4-7d81-4a6f-8c17-3099e6baa7b9'), KGProxy([<class 'fairgraph.openminds.ephys.activity.recording_activity.RecordingActivity'>], 'https://kg.ebrains.eu/api/instances/a31178ef-70eb-4eb5-9fdc-76c3f336c6c9'), KGProxy([<class 'fairgraph.openminds.ephys.activity.recording_activity.RecordingActivity'>], 'https://kg.ebrains.eu/api/instances/a228cccc-42c5-4065-8186-4596f1a967a2'), KGProxy([<class 'fairgraph.openminds.ephys.activity.cell_patching.CellPatching'>], 'https://kg.ebrains.eu/api/instances/de722791-3351-4c93-b30e-ddaadb45b189'), KGProxy([<class 'fairgraph.openminds.ephys.activity.cell_patching.CellPatching'>], 'https://kg.ebrains.eu/api/instances/455fd9da-a7b7-423e-b475-74664c7f19fd'), KGProxy([<class 'fairgraph.openminds.ephys.activity.cell_patching.CellPatching'>], 'https://kg.ebrains.eu/api/instances/755722b5-5eff-44c0-9f2c-a9a593b678d1')]\n",
      "is_version_of            Dataset(authors=[Person(affiliations=Affiliation(member_of=KGProxy([<class 'fairgraph.openminds.core.actors.organization.Organization'>], 'https://kg.ebrains.eu/api/instances/266b8ab6-1233-46e6-9a00-868380779891')), family_name='Salgueiro-Pereira', given_name='Ana Rita', space=None, id=https://kg.ebrains.eu/api/instances/5dff4ef9-bd56-4aee-979a-6ed15f65d235), Person(affiliations=Affiliation(member_of=KGProxy([<class 'fairgraph.openminds.core.actors.organization.Organization'>], 'https://kg.ebrains.eu/api/instances/266b8ab6-1233-46e6-9a00-868380779891')), family_name='Marie', given_name='Hélène', developed=[KGProxy([<class 'fairgraph.openminds.core.products.model_version.ModelVersion'>], 'https://kg.ebrains.eu/api/instances/d703008d-c4f0-4b37-869f-4a2659e90d35'), KGProxy([<class 'fairgraph.openminds.core.products.model_version.ModelVersion'>], 'https://kg.ebrains.eu/api/instances/403d865e-417c-45fe-97cf-83a9613ae664'), KGProxy([<class 'fairgraph.openminds.core.products.model.Model'>], 'https://kg.ebrains.eu/api/instances/528ec0e6-2f21-413c-9abd-d131f7150882')], is_custodian_of=KGProxy([<class 'fairgraph.openminds.core.products.dataset.Dataset'>], 'https://kg.ebrains.eu/api/instances/65b1b9a3-af50-4c9c-a4e6-7556bc700da0'), space=None, id=https://kg.ebrains.eu/api/instances/2843990a-69dd-468b-a1d3-ff9589b485ae)], custodians=Person(affiliations=Affiliation(member_of=KGProxy([<class 'fairgraph.openminds.core.actors.organization.Organization'>], 'https://kg.ebrains.eu/api/instances/266b8ab6-1233-46e6-9a00-868380779891')), family_name='Marie', given_name='Hélène', developed=[KGProxy([<class 'fairgraph.openminds.core.products.model_version.ModelVersion'>], 'https://kg.ebrains.eu/api/instances/d703008d-c4f0-4b37-869f-4a2659e90d35'), KGProxy([<class 'fairgraph.openminds.core.products.model_version.ModelVersion'>], 'https://kg.ebrains.eu/api/instances/403d865e-417c-45fe-97cf-83a9613ae664'), KGProxy([<class 'fairgraph.openminds.core.products.model.Model'>], 'https://kg.ebrains.eu/api/instances/528ec0e6-2f21-413c-9abd-d131f7150882')], is_custodian_of=KGProxy([<class 'fairgraph.openminds.core.products.dataset.Dataset'>], 'https://kg.ebrains.eu/api/instances/65b1b9a3-af50-4c9c-a4e6-7556bc700da0'), space=None, id=https://kg.ebrains.eu/api/instances/2843990a-69dd-468b-a1d3-ff9589b485ae), description='In this study we analyzed the intrinsic electrophysiological properties of CA1 excitatory hippocampal neurons in a mouse model of Alzheimer’s Disease (AD) at two age points: a presymptomatic age (3-4 months) and a symptomatic age: (9-10 months). At this latter age, this APPPS1 model harbors amyloid plaques and hippocampus-dependent cognitive alterations. Little is known about the excitability alterations in the hippocampus that correlate to these cognitive deficits.  Using patch clamp electrophysiology we recorded CA1 pyramidal neurons from control littermates (Wild types) and APPPS1 slices of hippocampus at these two age points.', full_name='Excitability profile of CA1 pyramidal neurons in APPPS1 Alzheimer disease mice and control littermates', has_versions=KGProxy([<class 'fairgraph.openminds.core.products.dataset_version.DatasetVersion'>], 'https://kg.ebrains.eu/api/instances/bd5f91ff-e829-4b85-92eb-fc56991541f1'), short_name='Excitability profile of CA1 pyramidal neurons in APPPS1 Alzheimer disease mice and control littermates', space=None, id=https://kg.ebrains.eu/api/instances/65b1b9a3-af50-4c9c-a4e6-7556bc700da0)\n",
      "learning_resources       KGProxy([<class 'fairgraph.openminds.publications.learning_resource.LearningResource'>], 'https://kg.ebrains.eu/api/instances/5f4a2cfb-3f94-430d-a44e-00ed5924c1ce')\n"
     ]
    }
   ],
   "source": [
    "dsv = omcore.DatasetVersion.from_id(\n",
    "    dataset_id,\n",
    "    kg_client,\n",
    "    follow_links={\n",
    "        \"digital_identifier\": {},\n",
    "        \"is_version_of\": {\n",
    "            \"authors\": {},\n",
    "            \"custodians\": {}\n",
    "        }\n",
    "    }\n",
    ")\n",
    "dsv.show()"
   ]
  },
  {
   "cell_type": "markdown",
   "id": "840adb9c-07dc-4439-b847-2f9d9f135c1d",
   "metadata": {},
   "source": [
    "# Searching the Knowledge Graph"
   ]
  },
  {
   "cell_type": "markdown",
   "id": "91c34041-a1b5-4f39-8c8a-b8034318da89",
   "metadata": {},
   "source": [
    "Retrieving a dataset based on its name"
   ]
  },
  {
   "cell_type": "code",
   "execution_count": 137,
   "id": "9d9b4f33-593b-40ba-bf38-f5a3661df854",
   "metadata": {},
   "outputs": [
    {
     "name": "stdout",
     "output_type": "stream",
     "text": [
      "Found 1 dataset(s)\n"
     ]
    }
   ],
   "source": [
    "dataset_versions = omcore.DatasetVersion.list(kg_client, full_name=\"Excitability profile of CA1 pyramidal neurons in APPPS1 Alzheimer disease mice and control littermates\")\n",
    "print(f\"Found {len(dataset_versions)} dataset(s)\")"
   ]
  },
  {
   "cell_type": "markdown",
   "id": "051a2f73-27a6-40a7-a42d-27af013e4522",
   "metadata": {},
   "source": [
    "we don't need the complete name, fairgraph will also search for fragments of the name"
   ]
  },
  {
   "cell_type": "code",
   "execution_count": 138,
   "id": "f9bc01f4-bb00-42f2-8e55-a806db3bc19c",
   "metadata": {},
   "outputs": [
    {
     "name": "stdout",
     "output_type": "stream",
     "text": [
      "Found 1 dataset(s)\n"
     ]
    },
    {
     "data": {
      "text/plain": [
       "'Excitability profile of CA1 pyramidal neurons in APPPS1 Alzheimer disease mice and control littermates'"
      ]
     },
     "execution_count": 138,
     "metadata": {},
     "output_type": "execute_result"
    }
   ],
   "source": [
    "dataset_versions = omcore.DatasetVersion.list(kg_client, full_name=\"APPPS1 Alzheimer\")\n",
    "print(f\"Found {len(dataset_versions)} dataset(s)\")\n",
    "dataset_versions[0].full_name"
   ]
  },
  {
   "cell_type": "markdown",
   "id": "a7621956-94ec-4d68-b90f-80b1b7393a62",
   "metadata": {},
   "source": [
    "# Retrieving a dataset based on its DOI"
   ]
  },
  {
   "cell_type": "code",
   "execution_count": 179,
   "id": "f22b0a80-e77c-47d2-9954-037ff1b1259e",
   "metadata": {},
   "outputs": [
    {
     "name": "stdout",
     "output_type": "stream",
     "text": [
      "Found 1 dataset(s)\n"
     ]
    },
    {
     "data": {
      "text/plain": [
       "DOI(identifier='https://doi.org/10.25493/YJFW-HPY', space=None, id=https://kg.ebrains.eu/api/instances/df93b012-3bb6-4565-bce0-3bd2d3aed63b)"
      ]
     },
     "execution_count": 179,
     "metadata": {},
     "output_type": "execute_result"
    }
   ],
   "source": [
    "doi_dsv = omcore.DatasetVersion.list(\n",
    "    kg_client,\n",
    "    digital_identifier__identifier=\"10.25493/YJFW-HPY\",\n",
    "    follow_links={\"digital_identifier\": {}}  \n",
    ")\n",
    "print(f\"Found {len(doi_dsv)} dataset(s)\")\n",
    "\n",
    "doi_dsv[0].digital_identifier"
   ]
  },
  {
   "cell_type": "code",
   "execution_count": 177,
   "id": "16946969-0a40-4332-a1be-6517bcaba0fc",
   "metadata": {},
   "outputs": [
    {
     "data": {
      "text/plain": [
       "'Excitability profile of CA1 pyramidal neurons in APPPS1 Alzheimer disease mice and control littermates'"
      ]
     },
     "execution_count": 177,
     "metadata": {},
     "output_type": "execute_result"
    }
   ],
   "source": [
    "doi_dsv[0].full_name"
   ]
  },
  {
   "cell_type": "code",
   "execution_count": 178,
   "id": "9fde7360-cf8c-46f2-b009-d793e30df52c",
   "metadata": {},
   "outputs": [
    {
     "data": {
      "text/plain": [
       "'https://doi.org/10.25493/YJFW-HPY'"
      ]
     },
     "execution_count": 178,
     "metadata": {},
     "output_type": "execute_result"
    }
   ],
   "source": [
    "doi_dsv[0].digital_identifier.identifier"
   ]
  },
  {
   "cell_type": "markdown",
   "id": "859f0373-d2ac-4033-9934-f9bf8ddc8a18",
   "metadata": {},
   "source": [
    "# Editing in a private collab space"
   ]
  },
  {
   "cell_type": "code",
   "execution_count": 20,
   "id": "f56dc471-8983-478e-b821-a55377407ebf",
   "metadata": {
    "collapsed": true,
    "jupyter": {
     "outputs_hidden": true
    },
    "tags": []
   },
   "outputs": [
    {
     "name": "stderr",
     "output_type": "stream",
     "text": [
      "Property 'accessibility' is required but was not provided.\n",
      "Property 'digital_identifier' is required but was not provided.\n",
      "Property 'ethics_assessment' is required but was not provided.\n",
      "Property 'full_documentation' is required but was not provided.\n",
      "Property 'license' is required but was not provided.\n",
      "Property 'release_date' is required but was not provided.\n",
      "Property 'short_name' is required but was not provided.\n",
      "Property 'techniques' is required but was not provided.\n",
      "Property 'version_identifier' is required but was not provided.\n",
      "Property 'version_innovation' is required but was not provided.\n"
     ]
    },
    {
     "name": "stdout",
     "output_type": "stream",
     "text": [
      "id                       https://kg.ebrains.eu/api/instances/724d4af0-fe28-4032-8837-120b0d64a81c\n",
      "space                    collab-d-724d4af0-fe28-4032-8837-120b0d64a81c\n",
      "type                     https://openminds.ebrains.eu/core/DatasetVersion\n",
      "data_types               KGProxy([<class 'fairgraph.openminds.controlled_terms.semantic_data_type.SemanticDataType'>], 'https://kg.ebrains.eu/api/instances/f468ee45-37a6-4e71-8b70-0cbe66d367db')\n",
      "experimental_approaches  KGProxy([<class 'fairgraph.openminds.controlled_terms.experimental_approach.ExperimentalApproach'>], 'https://kg.ebrains.eu/api/instances/d09f5c87-5fe1-4b8f-8ce3-9b851c44a25e')\n",
      "full_name                Maya's test collab\n"
     ]
    }
   ],
   "source": [
    "from fairgraph.openminds.core import DatasetVersion\n",
    "\n",
    "my_dataset = \"724d4af0-fe28-4032-8837-120b0d64a81c\"\n",
    "dataset_test_maya = DatasetVersion.from_id(my_dataset, kg_client, scope=\"in progress\")\n",
    "dataset_test_maya.show()"
   ]
  },
  {
   "cell_type": "code",
   "execution_count": 15,
   "id": "f7607cb9-785a-4fc6-bf98-32434c82ccde",
   "metadata": {
    "collapsed": true,
    "jupyter": {
     "outputs_hidden": true
    },
    "tags": []
   },
   "outputs": [
    {
     "name": "stdout",
     "output_type": "stream",
     "text": [
      "id                         https://kg.ebrains.eu/api/instances/724d4af0-fe28-4032-8837-120b0d64a81c\n",
      "space                      collab-d-724d4af0-fe28-4032-8837-120b0d64a81c\n",
      "type                       https://openminds.ebrains.eu/core/DatasetVersion\n",
      "accessibility              None\n",
      "authors                    None\n",
      "behavioral_protocols       None\n",
      "copyright                  None\n",
      "custodians                 None\n",
      "data_types                 KGProxy([<class 'fairgraph.openminds.controlled_terms.semantic_data_type.SemanticDataType'>], 'https://kg.ebrains.eu/api/instances/f468ee45-37a6-4e71-8b70-0cbe66d367db')\n",
      "description                None\n",
      "digital_identifier         None\n",
      "ethics_assessment          None\n",
      "experimental_approaches    KGProxy([<class 'fairgraph.openminds.controlled_terms.experimental_approach.ExperimentalApproach'>], 'https://kg.ebrains.eu/api/instances/d09f5c87-5fe1-4b8f-8ce3-9b851c44a25e')\n",
      "full_documentation         None\n",
      "full_name                  Maya's test collab\n",
      "funding                    None\n",
      "homepage                   None\n",
      "how_to_cite                None\n",
      "input_data                 None\n",
      "is_alternative_version_of  None\n",
      "is_new_version_of          None\n",
      "keywords                   None\n",
      "license                    None\n",
      "other_contributions        None\n",
      "preparation_designs        None\n",
      "protocols                  None\n",
      "related_publications       None\n",
      "release_date               None\n",
      "repository                 None\n",
      "short_name                 None\n",
      "studied_specimens          None\n",
      "study_targets              None\n",
      "support_channels           None\n",
      "techniques                 None\n",
      "version_identifier         None\n",
      "version_innovation         None\n",
      "comments                   KGQuery([<class 'fairgraph.openminds.core.miscellaneous.comment.Comment'>], {'about': 'https://kg.ebrains.eu/api/instances/724d4af0-fe28-4032-8837-120b0d64a81c'})\n",
      "has_parts                  KGQuery([<class 'fairgraph.openminds.core.research.protocol_execution.ProtocolExecution'>, <class 'fairgraph.openminds.ephys.activity.cell_patching.CellPatching'>, <class 'fairgraph.openminds.ephys.activity.electrode_placement.ElectrodePlacement'>, <class 'fairgraph.openminds.ephys.activity.recording_activity.RecordingActivity'>, <class 'fairgraph.openminds.specimen_prep.activity.cranial_window_preparation.CranialWindowPreparation'>, <class 'fairgraph.openminds.specimen_prep.activity.tissue_culture_preparation.TissueCulturePreparation'>, <class 'fairgraph.openminds.specimen_prep.activity.tissue_sample_slicing.TissueSampleSlicing'>, <class 'fairgraph.openminds.stimulation.activity.stimulation_activity.StimulationActivity'>], {'is_part_of': 'https://kg.ebrains.eu/api/instances/724d4af0-fe28-4032-8837-120b0d64a81c'})\n",
      "is_input_to                KGQuery([<class 'fairgraph.openminds.computation.data_copy.DataCopy'>], {'inputs': 'https://kg.ebrains.eu/api/instances/724d4af0-fe28-4032-8837-120b0d64a81c'})\n",
      "is_old_version_of          KGQuery([<class 'fairgraph.openminds.core.products.dataset_version.DatasetVersion'>], {'is_new_version_of': 'https://kg.ebrains.eu/api/instances/724d4af0-fe28-4032-8837-120b0d64a81c'})\n",
      "is_part_of                 KGQuery([<class 'fairgraph.openminds.core.products.project.Project'>, <class 'fairgraph.openminds.core.miscellaneous.research_product_group.ResearchProductGroup'>], {'has_parts': 'https://kg.ebrains.eu/api/instances/724d4af0-fe28-4032-8837-120b0d64a81c'})\n",
      "is_version_of              KGQuery([<class 'fairgraph.openminds.core.products.dataset.Dataset'>], {'has_versions': 'https://kg.ebrains.eu/api/instances/724d4af0-fe28-4032-8837-120b0d64a81c'})\n",
      "learning_resources         KGQuery([<class 'fairgraph.openminds.publications.learning_resource.LearningResource'>], {'about': 'https://kg.ebrains.eu/api/instances/724d4af0-fe28-4032-8837-120b0d64a81c'})\n",
      "publication                KGQuery([<class 'fairgraph.openminds.publications.live_paper_version.LivePaperVersion'>], {'about': 'https://kg.ebrains.eu/api/instances/724d4af0-fe28-4032-8837-120b0d64a81c'})\n"
     ]
    }
   ],
   "source": [
    "dataset_test_maya.show(include_empty_properties=True)"
   ]
  },
  {
   "cell_type": "code",
   "execution_count": 17,
   "id": "c0c0ab73-0586-4217-a544-55e70e674ebd",
   "metadata": {
    "tags": []
   },
   "outputs": [
    {
     "name": "stdout",
     "output_type": "stream",
     "text": [
      "id          https://kg.ebrains.eu/api/instances/b2ff7a47-b349-48d7-8ce4-cf51868675f1\n",
      "space       controlled\n",
      "type        https://openminds.ebrains.eu/controlledTerms/ProductAccessibility\n",
      "definition  With 'free access' selected, data and metadata are both released and become immediately available without any access restrictions.\n",
      "name        free access\n"
     ]
    }
   ],
   "source": [
    "accessibility_maya = dataset_version.accessibility.resolve(kg_client)\n",
    "accessibility_maya.show()"
   ]
  },
  {
   "cell_type": "code",
   "execution_count": 16,
   "id": "988b7b15-5410-4425-b126-12e424c34469",
   "metadata": {
    "collapsed": true,
    "jupyter": {
     "outputs_hidden": true
    },
    "tags": []
   },
   "outputs": [
    {
     "name": "stderr",
     "output_type": "stream",
     "text": [
      "Property 'authors' is required but was not provided.\n",
      "Property 'description' is required but was not provided.\n",
      "Property 'short_name' is required but was not provided.\n"
     ]
    },
    {
     "name": "stdout",
     "output_type": "stream",
     "text": [
      "id            https://kg.ebrains.eu/api/instances/569d4995-f7c2-4939-8214-db431e78ae23\n",
      "space         collab-d-724d4af0-fe28-4032-8837-120b0d64a81c\n",
      "type          https://openminds.ebrains.eu/core/Dataset\n",
      "full_name     Maya's test collab\n",
      "has_versions  KGProxy([<class 'fairgraph.openminds.core.products.dataset_version.DatasetVersion'>], 'https://kg.ebrains.eu/api/instances/724d4af0-fe28-4032-8837-120b0d64a81c')\n"
     ]
    }
   ],
   "source": [
    "version_of = dataset_test_maya.is_version_of.resolve(kg_client, scope=\"in progress\")\n",
    "version_of.show()"
   ]
  },
  {
   "cell_type": "code",
   "execution_count": 34,
   "id": "ce8f05e0-23f3-4c6d-a557-667727050f85",
   "metadata": {},
   "outputs": [],
   "source": [
    "meta_data = {\n",
    "    'nameFirst': 'John',\n",
    "    'nameFamily': 'Doe'}"
   ]
  },
  {
   "cell_type": "code",
   "execution_count": 40,
   "id": "8c3317d5-47a6-4166-8e67-8eea0caffe5e",
   "metadata": {},
   "outputs": [
    {
     "data": {
      "text/plain": [
       "{'nameFirst': 'John', 'nameFamily': 'Doe'}"
      ]
     },
     "execution_count": 40,
     "metadata": {},
     "output_type": "execute_result"
    }
   ],
   "source": [
    "meta_data"
   ]
  },
  {
   "cell_type": "code",
   "execution_count": 41,
   "id": "aa993f58-4ac4-4c3f-ab76-38abef985aa6",
   "metadata": {},
   "outputs": [
    {
     "data": {
      "text/plain": [
       "{'https://core.kg.ebrains.eu/vocab/meta/space': 'collab-d-724d4af0-fe28-4032-8837-120b0d64a81c',\n",
       " 'https://core.kg.ebrains.eu/vocab/meta/user': {'@id': 'https://kg.ebrains.eu/api/instances/7aec2bf2-82c8-40c1-bd64-173cabcfd842'},\n",
       " '@id': 'https://kg.ebrains.eu/api/instances/2bff6751-bc2c-484f-a131-1060c22ed78b',\n",
       " 'https://core.kg.ebrains.eu/vocab/meta/revision': '_kKsbxde---',\n",
       " 'http://schema.org/identifier': ['https://kg.ebrains.eu/api/instances/2bff6751-bc2c-484f-a131-1060c22ed78b']}"
      ]
     },
     "execution_count": 41,
     "metadata": {},
     "output_type": "execute_result"
    }
   ],
   "source": [
    "kg_client.create_new_instance({'nameFirst': 'John', 'nameFamily': 'Doe'},'collab-d-724d4af0-fe28-4032-8837-120b0d64a81c')"
   ]
  },
  {
   "cell_type": "code",
   "execution_count": 49,
   "id": "bfef4d4f-4982-4d17-9112-0816b745903a",
   "metadata": {},
   "outputs": [
    {
     "name": "stdout",
     "output_type": "stream",
     "text": [
      "Help on method create_new_instance in module fairgraph.client:\n",
      "\n",
      "create_new_instance(data: 'JsonLdDocument', space: 'str', instance_id: 'Optional[str]' = None) -> 'JsonLdDocument' method of fairgraph.client.KGClient instance\n",
      "    Create a new KG instance using the data provided.\n",
      "    \n",
      "    Args:\n",
      "        data (dict): a JSON-LD document that should be added to the KG as a new instance.\n",
      "        space (str): the space in which the instance should be stored.\n",
      "        instance_id (UUID, optional): a UUID that should be used as the basis for the\n",
      "            instance's persistent identifier. If not specified, the KG will generate an ID.\n",
      "\n"
     ]
    }
   ],
   "source": [
    "help(kg_client.create_new_instance)"
   ]
  },
  {
   "cell_type": "code",
   "execution_count": null,
   "id": "c769c3bd",
   "metadata": {},
   "outputs": [],
   "source": [
    "delete_dsv = kg_client.delete_instance('59409fce-c223-431f-bfbe-6de0e3d81b60')"
   ]
  },
  {
   "cell_type": "code",
   "execution_count": 24,
   "id": "cafb5043-0745-420a-ab4b-445ce9f972fe",
   "metadata": {
    "collapsed": true,
    "jupyter": {
     "outputs_hidden": true
    },
    "tags": []
   },
   "outputs": [
    {
     "data": {
      "text/plain": [
       "{fairgraph.openminds.core.actors.consortium.Consortium: 0,\n",
       " fairgraph.openminds.core.digital_identifier.doi.DOI: 0,\n",
       " fairgraph.openminds.core.products.dataset.Dataset: 0,\n",
       " fairgraph.openminds.core.products.dataset_version.DatasetVersion: 0,\n",
       " fairgraph.openminds.core.data.file_repository.FileRepository: 0,\n",
       " fairgraph.openminds.core.miscellaneous.funding.Funding: 0,\n",
       " fairgraph.openminds.core.actors.organization.Organization: 0,\n",
       " fairgraph.openminds.core.actors.person.Person: 0,\n",
       " fairgraph.openminds.core.products.project.Project: 0,\n",
       " fairgraph.openminds.core.research.protocol.Protocol: 0,\n",
       " fairgraph.openminds.core.research.protocol_execution.ProtocolExecution: 0,\n",
       " fairgraph.openminds.core.research.subject.Subject: 0,\n",
       " fairgraph.openminds.core.research.subject_group.SubjectGroup: 0,\n",
       " fairgraph.openminds.core.research.subject_group_state.SubjectGroupState: 0,\n",
       " fairgraph.openminds.core.research.subject_state.SubjectState: 0,\n",
       " fairgraph.openminds.controlled_terms.term_suggestion.TermSuggestion: 0,\n",
       " fairgraph.openminds.core.research.tissue_sample.TissueSample: 0,\n",
       " fairgraph.openminds.core.research.tissue_sample_collection.TissueSampleCollection: 0,\n",
       " fairgraph.openminds.core.research.tissue_sample_collection_state.TissueSampleCollectionState: 0,\n",
       " fairgraph.openminds.core.research.tissue_sample_state.TissueSampleState: 0}"
      ]
     },
     "execution_count": 24,
     "metadata": {},
     "output_type": "execute_result"
    }
   ],
   "source": [
    "kg_client.space_info(\"collab-d-724d4af0-fe28-4032-8837-120b0d64a81c\")"
   ]
  },
  {
   "cell_type": "code",
   "execution_count": 42,
   "id": "ebf4f7c1-9385-4a20-a062-985d7e83d753",
   "metadata": {},
   "outputs": [],
   "source": [
    "created_dataset = kg_client.instance_from_full_uri('https://kg.ebrains.eu/api/instances/2bff6751-bc2c-484f-a131-1060c22ed78b', scope='in progress')"
   ]
  },
  {
   "cell_type": "code",
   "execution_count": 45,
   "id": "ea494883-88e2-4af1-b486-d3039a147f4c",
   "metadata": {
    "collapsed": true,
    "jupyter": {
     "outputs_hidden": true
    },
    "tags": []
   },
   "outputs": [
    {
     "name": "stdout",
     "output_type": "stream",
     "text": [
      "Help on Instance in module kg_core.response object:\n",
      "\n",
      "class Instance(JsonLdDocument)\n",
      " |  Instance(seq: 'Iterable[List[str]]' = (), id_namespace: 'Optional[str]' = None, **kwargs: 'Any')\n",
      " |  \n",
      " |  Method resolution order:\n",
      " |      Instance\n",
      " |      JsonLdDocument\n",
      " |      builtins.dict\n",
      " |      typing.Generic\n",
      " |      builtins.object\n",
      " |  \n",
      " |  Methods defined here:\n",
      " |  \n",
      " |  __init__(self, seq: 'Iterable[List[str]]' = (), id_namespace: 'Optional[str]' = None, **kwargs: 'Any')\n",
      " |      Initialize self.  See help(type(self)) for accurate signature.\n",
      " |  \n",
      " |  __str__(self)\n",
      " |      Return str(self).\n",
      " |  \n",
      " |  ----------------------------------------------------------------------\n",
      " |  Data and other attributes defined here:\n",
      " |  \n",
      " |  __annotations__ = {'uuid': 'Optional[UUID]'}\n",
      " |  \n",
      " |  __parameters__ = ()\n",
      " |  \n",
      " |  uuid = None\n",
      " |  \n",
      " |  ----------------------------------------------------------------------\n",
      " |  Methods inherited from JsonLdDocument:\n",
      " |  \n",
      " |  to_uuid(self, value) -> 'Optional[UUID]'\n",
      " |  \n",
      " |  ----------------------------------------------------------------------\n",
      " |  Data descriptors inherited from JsonLdDocument:\n",
      " |  \n",
      " |  __dict__\n",
      " |      dictionary for instance variables\n",
      " |  \n",
      " |  __weakref__\n",
      " |      list of weak references to the object\n",
      " |  \n",
      " |  ----------------------------------------------------------------------\n",
      " |  Data and other attributes inherited from JsonLdDocument:\n",
      " |  \n",
      " |  __orig_bases__ = (typing.Dict[str, typing.Any],)\n",
      " |  \n",
      " |  ----------------------------------------------------------------------\n",
      " |  Methods inherited from builtins.dict:\n",
      " |  \n",
      " |  __contains__(self, key, /)\n",
      " |      True if the dictionary has the specified key, else False.\n",
      " |  \n",
      " |  __delitem__(self, key, /)\n",
      " |      Delete self[key].\n",
      " |  \n",
      " |  __eq__(self, value, /)\n",
      " |      Return self==value.\n",
      " |  \n",
      " |  __ge__(self, value, /)\n",
      " |      Return self>=value.\n",
      " |  \n",
      " |  __getattribute__(self, name, /)\n",
      " |      Return getattr(self, name).\n",
      " |  \n",
      " |  __getitem__(...)\n",
      " |      x.__getitem__(y) <==> x[y]\n",
      " |  \n",
      " |  __gt__(self, value, /)\n",
      " |      Return self>value.\n",
      " |  \n",
      " |  __ior__(self, value, /)\n",
      " |      Return self|=value.\n",
      " |  \n",
      " |  __iter__(self, /)\n",
      " |      Implement iter(self).\n",
      " |  \n",
      " |  __le__(self, value, /)\n",
      " |      Return self<=value.\n",
      " |  \n",
      " |  __len__(self, /)\n",
      " |      Return len(self).\n",
      " |  \n",
      " |  __lt__(self, value, /)\n",
      " |      Return self<value.\n",
      " |  \n",
      " |  __ne__(self, value, /)\n",
      " |      Return self!=value.\n",
      " |  \n",
      " |  __or__(self, value, /)\n",
      " |      Return self|value.\n",
      " |  \n",
      " |  __repr__(self, /)\n",
      " |      Return repr(self).\n",
      " |  \n",
      " |  __reversed__(self, /)\n",
      " |      Return a reverse iterator over the dict keys.\n",
      " |  \n",
      " |  __ror__(self, value, /)\n",
      " |      Return value|self.\n",
      " |  \n",
      " |  __setitem__(self, key, value, /)\n",
      " |      Set self[key] to value.\n",
      " |  \n",
      " |  __sizeof__(...)\n",
      " |      D.__sizeof__() -> size of D in memory, in bytes\n",
      " |  \n",
      " |  clear(...)\n",
      " |      D.clear() -> None.  Remove all items from D.\n",
      " |  \n",
      " |  copy(...)\n",
      " |      D.copy() -> a shallow copy of D\n",
      " |  \n",
      " |  get(self, key, default=None, /)\n",
      " |      Return the value for key if key is in the dictionary, else default.\n",
      " |  \n",
      " |  items(...)\n",
      " |      D.items() -> a set-like object providing a view on D's items\n",
      " |  \n",
      " |  keys(...)\n",
      " |      D.keys() -> a set-like object providing a view on D's keys\n",
      " |  \n",
      " |  pop(...)\n",
      " |      D.pop(k[,d]) -> v, remove specified key and return the corresponding value.\n",
      " |      \n",
      " |      If the key is not found, return the default if given; otherwise,\n",
      " |      raise a KeyError.\n",
      " |  \n",
      " |  popitem(self, /)\n",
      " |      Remove and return a (key, value) pair as a 2-tuple.\n",
      " |      \n",
      " |      Pairs are returned in LIFO (last-in, first-out) order.\n",
      " |      Raises KeyError if the dict is empty.\n",
      " |  \n",
      " |  setdefault(self, key, default=None, /)\n",
      " |      Insert key with a value of default if key is not in the dictionary.\n",
      " |      \n",
      " |      Return the value for key if key is in the dictionary, else default.\n",
      " |  \n",
      " |  update(...)\n",
      " |      D.update([E, ]**F) -> None.  Update D from dict/iterable E and F.\n",
      " |      If E is present and has a .keys() method, then does:  for k in E: D[k] = E[k]\n",
      " |      If E is present and lacks a .keys() method, then does:  for k, v in E: D[k] = v\n",
      " |      In either case, this is followed by: for k in F:  D[k] = F[k]\n",
      " |  \n",
      " |  values(...)\n",
      " |      D.values() -> an object providing a view on D's values\n",
      " |  \n",
      " |  ----------------------------------------------------------------------\n",
      " |  Class methods inherited from builtins.dict:\n",
      " |  \n",
      " |  __class_getitem__(...)\n",
      " |      See PEP 585\n",
      " |  \n",
      " |  fromkeys(iterable, value=None, /)\n",
      " |      Create a new dictionary with keys from iterable and values set to value.\n",
      " |  \n",
      " |  ----------------------------------------------------------------------\n",
      " |  Static methods inherited from builtins.dict:\n",
      " |  \n",
      " |  __new__(*args, **kwargs) class method of builtins.dict\n",
      " |      Create and return a new object.  See help(type) for accurate signature.\n",
      " |  \n",
      " |  ----------------------------------------------------------------------\n",
      " |  Data and other attributes inherited from builtins.dict:\n",
      " |  \n",
      " |  __hash__ = None\n",
      " |  \n",
      " |  ----------------------------------------------------------------------\n",
      " |  Class methods inherited from typing.Generic:\n",
      " |  \n",
      " |  __init_subclass__(*args, **kwargs)\n",
      " |      This method is called when a class is subclassed.\n",
      " |      \n",
      " |      The default implementation does nothing. It may be\n",
      " |      overridden to extend subclasses.\n",
      "\n"
     ]
    }
   ],
   "source": [
    "help(created_dataset)"
   ]
  },
  {
   "cell_type": "code",
   "execution_count": 48,
   "id": "eb49de54-cc6f-460b-82d1-a0497ba44b43",
   "metadata": {},
   "outputs": [
    {
     "data": {
      "text/plain": [
       "{'https://core.kg.ebrains.eu/vocab/meta/space': 'collab-d-724d4af0-fe28-4032-8837-120b0d64a81c',\n",
       " 'https://core.kg.ebrains.eu/vocab/meta/user': {'@id': 'https://kg.ebrains.eu/api/instances/7aec2bf2-82c8-40c1-bd64-173cabcfd842'},\n",
       " '@id': 'https://kg.ebrains.eu/api/instances/2bff6751-bc2c-484f-a131-1060c22ed78b',\n",
       " 'https://core.kg.ebrains.eu/vocab/meta/revision': '_kKsbxde---',\n",
       " 'http://schema.org/identifier': ['https://kg.ebrains.eu/api/instances/2bff6751-bc2c-484f-a131-1060c22ed78b']}"
      ]
     },
     "execution_count": 48,
     "metadata": {},
     "output_type": "execute_result"
    }
   ],
   "source": [
    "created_dataset"
   ]
  },
  {
   "cell_type": "code",
   "execution_count": 26,
   "id": "12f25f6d-8fbe-4f3b-a617-c3f4fa7eafd0",
   "metadata": {
    "collapsed": true,
    "jupyter": {
     "outputs_hidden": true
    },
    "tags": []
   },
   "outputs": [
    {
     "name": "stdout",
     "output_type": "stream",
     "text": [
      "Help on KGClient in module fairgraph.client object:\n",
      "\n",
      "class KGClient(builtins.object)\n",
      " |  KGClient(token: 'Optional[str]' = None, host: 'str' = 'core.kg-ppd.ebrains.eu', client_id: 'Optional[str]' = None, client_secret: 'Optional[str]' = None, allow_interactive=True)\n",
      " |  \n",
      " |  A client for accessing the EBRAINS Knowledge Graph (KG) API.\n",
      " |  \n",
      " |  It can be used to retrieve, add, update, and delete KG nodes.\n",
      " |  \n",
      " |  Attributes:\n",
      " |      cache (dict): A dictionary used for caching JSON-LD documents.\n",
      " |      accepted_terms_of_use (bool): A boolean indicating whether the user has accepted the terms of use.\n",
      " |  \n",
      " |  Args:\n",
      " |      token (str, optional): An EBRAINS authentication token for accessing the KG API.\n",
      " |      host (str, optional): The hostname of the KG API. Use \"core.kg-ppd.ebrains.eu\" for testing\n",
      " |                            and \"core.kg.ebrains.eu\" to work with the production KG.\n",
      " |      client_id (str, optional): For use together with client_secret in place of the token if you have a service account.\n",
      " |      client_secret (str, optional): The client secret to use for authentication. Required if client_id is provided.\n",
      " |      allow_interactive (bool, default True): if true, allow authentication via web browser\n",
      " |  \n",
      " |  Raises:\n",
      " |      ImportError: If the kg_core package is not installed.\n",
      " |      AuthenticationError: If neither a token nor client ID/secret are provided.\n",
      " |  \n",
      " |  Methods defined here:\n",
      " |  \n",
      " |  __init__(self, token: 'Optional[str]' = None, host: 'str' = 'core.kg-ppd.ebrains.eu', client_id: 'Optional[str]' = None, client_secret: 'Optional[str]' = None, allow_interactive=True)\n",
      " |      Initialize self.  See help(type(self)) for accurate signature.\n",
      " |  \n",
      " |  clean_space(self, space_name)\n",
      " |      Delete all instances from a given space.\n",
      " |  \n",
      " |  configure_space(self, space_name: 'Optional[str]' = None, types: 'Optional[List[KGObject]]' = None) -> 'str'\n",
      " |      Creates and configures a Knowledge Graph (KG) space with the specified name and types.\n",
      " |      \n",
      " |      Args:\n",
      " |          space_name (str, required (optional only if you run inside a collab)): The name of the KG space to create and configure.\n",
      " |              If not provided, the method will try to obtain the collab ID from the environment\n",
      " |              variables and use it to generate a default space name in the format \"collab-collab_id\".\n",
      " |              If you are not launching this from inside an EBRAINS collab, you should provide a space name.\n",
      " |          types (list of Type, required): An array containing the Type classes that should be included\n",
      " |              in this space.\n",
      " |      \n",
      " |      Returns:\n",
      " |          str: The name of the configured KG space.\n",
      " |      \n",
      " |      Example usage:\n",
      " |          types = [Dataset, DatasetVersion, Software, SoftwareVersion]\n",
      " |          space_name = \"collab-MyCollab\"\n",
      " |          kg_client = KGClient()\n",
      " |          kg_client.configure_space(space_name, types)\n",
      " |  \n",
      " |  create_new_instance(self, data: 'JsonLdDocument', space: 'str', instance_id: 'Optional[str]' = None) -> 'JsonLdDocument'\n",
      " |      Create a new KG instance using the data provided.\n",
      " |      \n",
      " |      Args:\n",
      " |          data (dict): a JSON-LD document that should be added to the KG as a new instance.\n",
      " |          space (str): the space in which the instance should be stored.\n",
      " |          instance_id (UUID, optional): a UUID that should be used as the basis for the\n",
      " |              instance's persistent identifier. If not specified, the KG will generate an ID.\n",
      " |  \n",
      " |  delete_instance(self, instance_id: 'str', ignore_not_found: 'bool' = True, ignore_errors: 'bool' = True)\n",
      " |      Delete a KG instance.\n",
      " |  \n",
      " |  instance_from_full_uri(self, uri: 'str', use_cache: 'bool' = True, scope: 'str' = 'released', require_full_data: 'bool' = True) -> 'JsonLdDocument'\n",
      " |      Return a specific KG instance identified by its URI.\n",
      " |      \n",
      " |      Args:\n",
      " |          uri: The global identifier of the instance\n",
      " |          use_cache: whether to use cached data if they exist. Defaults to True.\n",
      " |          scope: The scope of instances to include in the response.\n",
      " |                 Valid values are 'released', 'in progress', 'any'.\n",
      " |          require_full_data: Whether to only return instances for which the user has full read access.\n",
      " |  \n",
      " |  is_released(self, uri: 'str', with_children: 'bool' = False) -> 'bool'\n",
      " |      Release status of a KG instance identified by its URI.\n",
      " |      \n",
      " |      Args:\n",
      " |          uri (URI): persistent identifier of the instance.\n",
      " |          with_children (bool): whether to check if all the children of the instance\n",
      " |                                have also been released.\n",
      " |      \n",
      " |      Returns:\n",
      " |          True if the instance and (optionally) all its children have been released.\n",
      " |          Otherwise False.\n",
      " |  \n",
      " |  list(self, target_type: 'str', space: 'Optional[str]' = None, from_index: 'int' = 0, size: 'int' = 100, scope: 'str' = 'released') -> 'ResultPage[JsonLdDocument]'\n",
      " |      List KG instances of a given type.\n",
      " |      \n",
      " |      Args:\n",
      " |          target_type: The URI if the instance type to list.\n",
      " |          space: If specified, restricts the search to the given space.\n",
      " |          from_index: The index of the first result to include in the response.\n",
      " |          size: The maximum number of results to include in the response.\n",
      " |          scope: The scope of instances to include in the response. Valid values are\n",
      " |                 'released', 'in progress', 'any'. If 'any' is specified, all accessible instances\n",
      " |                 are included in the response, but this may be slow where there are large numbers of instances.\n",
      " |      \n",
      " |      Returns:\n",
      " |          A ResultPage object containing the list of JSON-LD instances,\n",
      " |          along with metadata about the query results such as total number of instances, and pagination information.\n",
      " |  \n",
      " |  move_all_to_space(self, source_space: 'str', destination_space: 'str')\n",
      " |      Move all the KG instances in one space to another.\n",
      " |  \n",
      " |  move_to_space(self, uri: 'str', destination_space: 'str')\n",
      " |      Move a KG instance from one space to another.\n",
      " |      \n",
      " |      This is not recursive, i.e. child instances much be moved individually.\n",
      " |  \n",
      " |  query(self, query: 'Dict[str, Any]', filter: 'Optional[Dict[str, str]]' = None, instance_id: 'Optional[str]' = None, from_index: 'int' = 0, size: 'int' = 100, scope: 'str' = 'released', id_key: 'str' = '@id', use_stored_query: 'bool' = False, restrict_to_spaces: 'Optional[List[str]]' = None) -> 'ResultPage[JsonLdDocument]'\n",
      " |      Execute a Knowledge Graph (KG) query with the given filters and query definition.\n",
      " |      \n",
      " |      Args:\n",
      " |          query (Dict[str, Any]): A dictionary containing the query definition in JSON-LD.\n",
      " |          filter (Dict[str, str]): A dictionary of filters to apply to the query. Each key represents the prop name to filter on,\n",
      " |              and the value represents the value(s) to filter on.\n",
      " |          instance_id (Optional[URI]): The URI of a specific KG instance to retrieve.\n",
      " |          from_index (int): The index of the first result to return (0-based).\n",
      " |          size (int): The maximum number of results to return.\n",
      " |          scope (str): The scope of the query. Valid values are \"released\", \"in progress\", or \"any\". Default is \"released\".\n",
      " |          id_key (str): The key that identifies the ID of a JSON-LD document. Default is \"@id\".\n",
      " |          use_stored_query (bool): Whether to use a stored query with the given query_id instead of a dynamic query. Default is False.\n",
      " |      \n",
      " |      Returns:\n",
      " |          A ResultPage object containing a list of JSON-LD instances that satisfy the query,\n",
      " |          along with metadata about the query results such as total number of instances, and pagination information.\n",
      " |  \n",
      " |  release(self, uri: 'str')\n",
      " |      Release the instance with the given uri\n",
      " |  \n",
      " |  replace_instance(self, instance_id: 'str', data: 'JsonLdDocument') -> 'JsonLdDocument'\n",
      " |      Replace an existing KG instance using the data provided.\n",
      " |      \n",
      " |      Args:\n",
      " |          instance_id (UUID): the instance's persistent identifier.\n",
      " |          data (dict): a JSON-LD document that will replace the existing instance.\n",
      " |  \n",
      " |  retrieve_query(self, query_label: 'str') -> 'Dict[str, Any]'\n",
      " |      Retrieve a stored query definition from the KG.\n",
      " |      \n",
      " |      Args:\n",
      " |          query_label (str): the label of the query definition to be retrieved.\n",
      " |  \n",
      " |  space_info(self, space_name: 'str', scope: 'str' = 'released')\n",
      " |      Return information about the types and number of instances in a space.\n",
      " |      \n",
      " |      The return format is a dictionary whose keys are classes and the values are the\n",
      " |      number of instances of each class in the given spaces.\n",
      " |  \n",
      " |  spaces(self, permissions: 'Optional[Iterable[str]]' = None, names_only: 'bool' = False) -> 'Union[List[str], List[SpaceInformation]]'\n",
      " |  \n",
      " |  store_query(self, query_label: 'str', query_definition: 'Dict[str, Any]', space: 'str')\n",
      " |      Store a query definition in the KG.\n",
      " |      \n",
      " |      Args:\n",
      " |          query_label (str): a label that can be used to identify and retrieve the query definition.\n",
      " |          query_definition (dict): a JSON-LD document defining a KG query.\n",
      " |          space (str): the space in which the query definition should be stored.\n",
      " |  \n",
      " |  unrelease(self, uri: 'str')\n",
      " |      Unrelease the instance with the given uri\n",
      " |  \n",
      " |  update_instance(self, instance_id: 'str', data: 'JsonLdDocument') -> 'JsonLdDocument'\n",
      " |      Update an existing KG instance using the data provided.\n",
      " |      \n",
      " |      Args:\n",
      " |          instance_id (UUID): the instance's persistent identifier.\n",
      " |          data (dict): a JSON-LD document that modifies some or all of the data of the existing instance.\n",
      " |  \n",
      " |  uri_from_uuid(self, uuid: 'str') -> 'str'\n",
      " |      Return an instance's URI given its UUID.\n",
      " |  \n",
      " |  user_info(self) -> 'Dict[str, Any]'\n",
      " |      Returns information about the current user.\n",
      " |      \n",
      " |      This information is that associated with the authorization token used.\n",
      " |  \n",
      " |  uuid_from_uri(self, uri: 'str') -> 'UUID'\n",
      " |      Return an instance's UUID given its URI.\n",
      " |  \n",
      " |  ----------------------------------------------------------------------\n",
      " |  Readonly properties defined here:\n",
      " |  \n",
      " |  token\n",
      " |  \n",
      " |  ----------------------------------------------------------------------\n",
      " |  Data descriptors defined here:\n",
      " |  \n",
      " |  __dict__\n",
      " |      dictionary for instance variables\n",
      " |  \n",
      " |  __weakref__\n",
      " |      list of weak references to the object\n",
      "\n"
     ]
    }
   ],
   "source": [
    "help(kg_client)"
   ]
  },
  {
   "cell_type": "code",
   "execution_count": 54,
   "id": "5569d0d6-41be-41b4-a89d-c8fe928ea391",
   "metadata": {
    "collapsed": true,
    "jupyter": {
     "outputs_hidden": true
    },
    "tags": []
   },
   "outputs": [
    {
     "name": "stdout",
     "output_type": "stream",
     "text": [
      "Help on class DatasetVersion in module fairgraph.openminds.core.products.dataset_version:\n",
      "\n",
      "class DatasetVersion(fairgraph.kgobject.KGObject)\n",
      " |  DatasetVersion(name=None, alias=None, accessibility=None, authors=None, behavioral_protocols=None, comments=None, copyright=None, custodians=None, data_types=None, description=None, digital_identifier=None, ethics_assessment=None, experimental_approaches=None, full_documentation=None, full_name=None, funding=None, has_parts=None, homepage=None, how_to_cite=None, input_data=None, is_alternative_version_of=None, is_input_to=None, is_new_version_of=None, is_old_version_of=None, is_part_of=None, is_version_of=None, keywords=None, learning_resources=None, license=None, other_contributions=None, preparation_designs=None, protocols=None, publication=None, related_publications=None, release_date=None, repository=None, short_name=None, studied_specimens=None, study_targets=None, support_channels=None, techniques=None, version_identifier=None, version_innovation=None, id=None, data=None, space=None, scope=None)\n",
      " |  \n",
      " |  Structured information on data originating from human/animal studies or simulations (version level).\n",
      " |  \n",
      " |  Args\n",
      " |  ----\n",
      " |  accessibility : ~fairgraph.openminds.controlled_terms.product_accessibility.ProductAccessibility\n",
      " |      Level to which something is accessible to the dataset version.\n",
      " |  authors : ~fairgraph.openminds.core.actors.consortium.Consortium, ~fairgraph.openminds.core.actors.organization.Organization, ~fairgraph.openminds.core.actors.person.Person\n",
      " |      Creator of a literary or creative work, as well as a dataset publication.\n",
      " |  behavioral_protocols : ~fairgraph.openminds.core.research.behavioral_protocol.BehavioralProtocol\n",
      " |      no description available\n",
      " |  copyright : ~fairgraph.openminds.core.data.copyright.Copyright\n",
      " |      Exclusive and assignable legal right of an originator to reproduce, publish, sell, or distribute the matter and form of a creative work for a defined time period.\n",
      " |  custodians : ~fairgraph.openminds.core.actors.consortium.Consortium, ~fairgraph.openminds.core.actors.organization.Organization, ~fairgraph.openminds.core.actors.person.Person\n",
      " |      The 'custodian' is a legal person who is responsible for the content and quality of the data, metadata, and/or code of a research product.\n",
      " |  data_types : ~fairgraph.openminds.controlled_terms.semantic_data_type.SemanticDataType\n",
      " |      no description available\n",
      " |  description : str\n",
      " |      Longer statement or account giving the characteristics of the dataset version.\n",
      " |  digital_identifier : ~fairgraph.openminds.core.digital_identifier.doi.DOI, ~fairgraph.openminds.core.digital_identifier.identifiers_dot_org_id.IdentifiersDotOrgID\n",
      " |      Digital handle to identify objects or legal persons.\n",
      " |  ethics_assessment : ~fairgraph.openminds.controlled_terms.ethics_assessment.EthicsAssessment\n",
      " |      Judgment about the applied principles of conduct governing an individual or a group.\n",
      " |  experimental_approaches : ~fairgraph.openminds.controlled_terms.experimental_approach.ExperimentalApproach\n",
      " |      no description available\n",
      " |  full_documentation : ~fairgraph.openminds.core.digital_identifier.doi.DOI, ~fairgraph.openminds.core.data.file.File, ~fairgraph.openminds.core.digital_identifier.isbn.ISBN, ~fairgraph.openminds.core.miscellaneous.web_resource.WebResource\n",
      " |      Non-abridged instructions, comments, and information for using a particular product.\n",
      " |  full_name : str\n",
      " |      Whole, non-abbreviated name of the dataset version.\n",
      " |  funding : ~fairgraph.openminds.core.miscellaneous.funding.Funding\n",
      " |      Money provided by a legal person for a particular purpose.\n",
      " |  homepage : ~fairgraph.base.IRI\n",
      " |      Main website of the dataset version.\n",
      " |  how_to_cite : str\n",
      " |      Preferred format for citing a particular object or legal person.\n",
      " |  input_data : ~fairgraph.openminds.core.digital_identifier.doi.DOI, ~fairgraph.openminds.core.data.file.File, ~fairgraph.openminds.core.data.file_bundle.FileBundle, ~fairgraph.openminds.core.miscellaneous.web_resource.WebResource, ~fairgraph.openminds.sands.atlas.brain_atlas.BrainAtlas, ~fairgraph.openminds.sands.atlas.brain_atlas_version.BrainAtlasVersion, ~fairgraph.openminds.sands.atlas.common_coordinate_space.CommonCoordinateSpace, ~fairgraph.openminds.sands.atlas.common_coordinate_space_version.CommonCoordinateSpaceVersion\n",
      " |      Data that is put into a process or machine.\n",
      " |  is_alternative_version_of : ~fairgraph.openminds.core.products.dataset_version.DatasetVersion\n",
      " |      Reference to an original form where the essence was preserved, but presented in an alternative form.\n",
      " |  is_new_version_of : ~fairgraph.openminds.core.products.dataset_version.DatasetVersion\n",
      " |      Reference to a previous (potentially outdated) particular form of something.\n",
      " |  keywords : ~fairgraph.openminds.controlled_terms.action_status_type.ActionStatusType, ~fairgraph.openminds.controlled_terms.age_category.AgeCategory, ~fairgraph.openminds.controlled_terms.analysis_technique.AnalysisTechnique, ~fairgraph.openminds.controlled_terms.anatomical_axes_orientation.AnatomicalAxesOrientation, ~fairgraph.openminds.controlled_terms.anatomical_identification_type.AnatomicalIdentificationType, ~fairgraph.openminds.controlled_terms.anatomical_plane.AnatomicalPlane, ~fairgraph.openminds.controlled_terms.annotation_criteria_type.AnnotationCriteriaType, ~fairgraph.openminds.controlled_terms.annotation_type.AnnotationType, ~fairgraph.openminds.controlled_terms.atlas_type.AtlasType, ~fairgraph.openminds.controlled_terms.auditory_stimulus_type.AuditoryStimulusType, ~fairgraph.openminds.controlled_terms.biological_order.BiologicalOrder, ~fairgraph.openminds.controlled_terms.biological_process.BiologicalProcess, ~fairgraph.openminds.controlled_terms.biological_sex.BiologicalSex, ~fairgraph.openminds.controlled_terms.breeding_type.BreedingType, ~fairgraph.openminds.controlled_terms.cell_culture_type.CellCultureType, ~fairgraph.openminds.controlled_terms.cell_type.CellType, ~fairgraph.openminds.controlled_terms.chemical_mixture_type.ChemicalMixtureType, ~fairgraph.openminds.controlled_terms.colormap.Colormap, ~fairgraph.openminds.controlled_terms.contribution_type.ContributionType, ~fairgraph.openminds.controlled_terms.cranial_window_construction_type.CranialWindowConstructionType, ~fairgraph.openminds.controlled_terms.cranial_window_reinforcement_type.CranialWindowReinforcementType, ~fairgraph.openminds.controlled_terms.criteria_quality_type.CriteriaQualityType, ~fairgraph.openminds.controlled_terms.data_type.DataType, ~fairgraph.openminds.controlled_terms.device_type.DeviceType, ~fairgraph.openminds.controlled_terms.difference_measure.DifferenceMeasure, ~fairgraph.openminds.controlled_terms.disease.Disease, ~fairgraph.openminds.controlled_terms.disease_model.DiseaseModel, ~fairgraph.openminds.controlled_terms.educational_level.EducationalLevel, ~fairgraph.openminds.controlled_terms.electrical_stimulus_type.ElectricalStimulusType, ~fairgraph.openminds.controlled_terms.ethics_assessment.EthicsAssessment, ~fairgraph.openminds.controlled_terms.experimental_approach.ExperimentalApproach, ~fairgraph.openminds.controlled_terms.file_bundle_grouping.FileBundleGrouping, ~fairgraph.openminds.controlled_terms.file_repository_type.FileRepositoryType, ~fairgraph.openminds.controlled_terms.file_usage_role.FileUsageRole, ~fairgraph.openminds.controlled_terms.genetic_strain_type.GeneticStrainType, ~fairgraph.openminds.controlled_terms.gustatory_stimulus_type.GustatoryStimulusType, ~fairgraph.openminds.controlled_terms.handedness.Handedness, ~fairgraph.openminds.controlled_terms.language.Language, ~fairgraph.openminds.controlled_terms.laterality.Laterality, ~fairgraph.openminds.controlled_terms.learning_resource_type.LearningResourceType, ~fairgraph.openminds.controlled_terms.mri_pulse_sequence.MRIPulseSequence, ~fairgraph.openminds.controlled_terms.mri_weighting.MRIWeighting, ~fairgraph.openminds.controlled_terms.measured_quantity.MeasuredQuantity, ~fairgraph.openminds.controlled_terms.measured_signal_type.MeasuredSignalType, ~fairgraph.openminds.controlled_terms.meta_data_model_type.MetaDataModelType, ~fairgraph.openminds.controlled_terms.model_abstraction_level.ModelAbstractionLevel, ~fairgraph.openminds.controlled_terms.model_scope.ModelScope, ~fairgraph.openminds.controlled_terms.molecular_entity.MolecularEntity, ~fairgraph.openminds.controlled_terms.olfactory_stimulus_type.OlfactoryStimulusType, ~fairgraph.openminds.controlled_terms.operating_device.OperatingDevice, ~fairgraph.openminds.controlled_terms.operating_system.OperatingSystem, ~fairgraph.openminds.controlled_terms.optical_stimulus_type.OpticalStimulusType, ~fairgraph.openminds.controlled_terms.organ.Organ, ~fairgraph.openminds.controlled_terms.organism_substance.OrganismSubstance, ~fairgraph.openminds.controlled_terms.organism_system.OrganismSystem, ~fairgraph.openminds.controlled_terms.patch_clamp_variation.PatchClampVariation, ~fairgraph.openminds.controlled_terms.preparation_type.PreparationType, ~fairgraph.openminds.controlled_terms.product_accessibility.ProductAccessibility, ~fairgraph.openminds.controlled_terms.programming_language.ProgrammingLanguage, ~fairgraph.openminds.controlled_terms.qualitative_overlap.QualitativeOverlap, ~fairgraph.openminds.controlled_terms.semantic_data_type.SemanticDataType, ~fairgraph.openminds.controlled_terms.service.Service, ~fairgraph.openminds.controlled_terms.setup_type.SetupType, ~fairgraph.openminds.controlled_terms.software_application_category.SoftwareApplicationCategory, ~fairgraph.openminds.controlled_terms.software_feature.SoftwareFeature, ~fairgraph.openminds.controlled_terms.species.Species, ~fairgraph.openminds.controlled_terms.stimulation_approach.StimulationApproach, ~fairgraph.openminds.controlled_terms.stimulation_technique.StimulationTechnique, ~fairgraph.openminds.controlled_terms.subcellular_entity.SubcellularEntity, ~fairgraph.openminds.controlled_terms.subject_attribute.SubjectAttribute, ~fairgraph.openminds.controlled_terms.tactile_stimulus_type.TactileStimulusType, ~fairgraph.openminds.controlled_terms.technique.Technique, ~fairgraph.openminds.controlled_terms.term_suggestion.TermSuggestion, ~fairgraph.openminds.controlled_terms.terminology.Terminology, ~fairgraph.openminds.controlled_terms.tissue_sample_attribute.TissueSampleAttribute, ~fairgraph.openminds.controlled_terms.tissue_sample_type.TissueSampleType, ~fairgraph.openminds.controlled_terms.type_of_uncertainty.TypeOfUncertainty, ~fairgraph.openminds.controlled_terms.uberon_parcellation.UBERONParcellation, ~fairgraph.openminds.controlled_terms.unit_of_measurement.UnitOfMeasurement, ~fairgraph.openminds.controlled_terms.visual_stimulus_type.VisualStimulusType\n",
      " |      Significant word or concept that are representative of the dataset version.\n",
      " |  license : ~fairgraph.openminds.core.data.license.License, ~fairgraph.openminds.core.miscellaneous.web_resource.WebResource\n",
      " |      Grant by a party to another party as an element of an agreement between those parties that permits to do, use, or own something.\n",
      " |  other_contributions : ~fairgraph.openminds.core.actors.contribution.Contribution\n",
      " |      Giving or supplying of something (such as money or time) as a part or share other than what is covered elsewhere.\n",
      " |  preparation_designs : ~fairgraph.openminds.controlled_terms.preparation_type.PreparationType\n",
      " |      no description available\n",
      " |  protocols : ~fairgraph.openminds.core.research.protocol.Protocol\n",
      " |      Plan that describes the process of a scientific or medical experiment, treatment, or procedure.\n",
      " |  related_publications : ~fairgraph.openminds.core.digital_identifier.doi.DOI, ~fairgraph.openminds.core.digital_identifier.handle.HANDLE, ~fairgraph.openminds.core.digital_identifier.isbn.ISBN, ~fairgraph.openminds.core.digital_identifier.issn.ISSN, ~fairgraph.openminds.publications.book.Book, ~fairgraph.openminds.publications.chapter.Chapter, ~fairgraph.openminds.publications.scholarly_article.ScholarlyArticle\n",
      " |      Reference to something that was made available for the general public to see or buy.\n",
      " |  release_date : ~datetime.date\n",
      " |      Fixed date on which a product is due to become or was made available for the general public to see or buy\n",
      " |  repository : ~fairgraph.openminds.core.data.file_repository.FileRepository\n",
      " |      Place, room, or container where something is deposited or stored.\n",
      " |  short_name : str\n",
      " |      Shortened or fully abbreviated name of the dataset version.\n",
      " |  studied_specimens : ~fairgraph.openminds.core.research.subject.Subject, ~fairgraph.openminds.core.research.subject_group.SubjectGroup, ~fairgraph.openminds.core.research.tissue_sample.TissueSample, ~fairgraph.openminds.core.research.tissue_sample_collection.TissueSampleCollection\n",
      " |      no description available\n",
      " |  study_targets : ~fairgraph.openminds.controlled_terms.auditory_stimulus_type.AuditoryStimulusType, ~fairgraph.openminds.controlled_terms.biological_order.BiologicalOrder, ~fairgraph.openminds.controlled_terms.biological_sex.BiologicalSex, ~fairgraph.openminds.controlled_terms.breeding_type.BreedingType, ~fairgraph.openminds.controlled_terms.cell_culture_type.CellCultureType, ~fairgraph.openminds.controlled_terms.cell_type.CellType, ~fairgraph.openminds.controlled_terms.disease.Disease, ~fairgraph.openminds.controlled_terms.disease_model.DiseaseModel, ~fairgraph.openminds.controlled_terms.electrical_stimulus_type.ElectricalStimulusType, ~fairgraph.openminds.controlled_terms.genetic_strain_type.GeneticStrainType, ~fairgraph.openminds.controlled_terms.gustatory_stimulus_type.GustatoryStimulusType, ~fairgraph.openminds.controlled_terms.handedness.Handedness, ~fairgraph.openminds.controlled_terms.molecular_entity.MolecularEntity, ~fairgraph.openminds.controlled_terms.olfactory_stimulus_type.OlfactoryStimulusType, ~fairgraph.openminds.controlled_terms.optical_stimulus_type.OpticalStimulusType, ~fairgraph.openminds.controlled_terms.organ.Organ, ~fairgraph.openminds.controlled_terms.organism_substance.OrganismSubstance, ~fairgraph.openminds.controlled_terms.organism_system.OrganismSystem, ~fairgraph.openminds.controlled_terms.species.Species, ~fairgraph.openminds.controlled_terms.subcellular_entity.SubcellularEntity, ~fairgraph.openminds.controlled_terms.tactile_stimulus_type.TactileStimulusType, ~fairgraph.openminds.controlled_terms.term_suggestion.TermSuggestion, ~fairgraph.openminds.controlled_terms.tissue_sample_type.TissueSampleType, ~fairgraph.openminds.controlled_terms.uberon_parcellation.UBERONParcellation, ~fairgraph.openminds.controlled_terms.visual_stimulus_type.VisualStimulusType, ~fairgraph.openminds.sands.non_atlas.custom_anatomical_entity.CustomAnatomicalEntity, ~fairgraph.openminds.sands.atlas.parcellation_entity.ParcellationEntity, ~fairgraph.openminds.sands.atlas.parcellation_entity_version.ParcellationEntityVersion\n",
      " |      Structure or function that was targeted within a study.\n",
      " |  support_channels : str\n",
      " |      Way of communication used to interact with users or customers.\n",
      " |  techniques : ~fairgraph.openminds.controlled_terms.analysis_technique.AnalysisTechnique, ~fairgraph.openminds.controlled_terms.mri_pulse_sequence.MRIPulseSequence, ~fairgraph.openminds.controlled_terms.mri_weighting.MRIWeighting, ~fairgraph.openminds.controlled_terms.stimulation_approach.StimulationApproach, ~fairgraph.openminds.controlled_terms.stimulation_technique.StimulationTechnique, ~fairgraph.openminds.controlled_terms.technique.Technique\n",
      " |      Method of accomplishing a desired aim.\n",
      " |  version_identifier : str\n",
      " |      Term or code used to identify the version of something.\n",
      " |  version_innovation : str\n",
      " |      Documentation on what changed in comparison to a previously published form of something.\n",
      " |  comments : ~fairgraph.openminds.core.miscellaneous.comment.Comment\n",
      " |      reverse of 'about'\n",
      " |  has_parts : ~fairgraph.openminds.core.research.protocol_execution.ProtocolExecution, ~fairgraph.openminds.ephys.activity.cell_patching.CellPatching, ~fairgraph.openminds.ephys.activity.electrode_placement.ElectrodePlacement, ~fairgraph.openminds.ephys.activity.recording_activity.RecordingActivity, ~fairgraph.openminds.specimen_prep.activity.cranial_window_preparation.CranialWindowPreparation, ~fairgraph.openminds.specimen_prep.activity.tissue_culture_preparation.TissueCulturePreparation, ~fairgraph.openminds.specimen_prep.activity.tissue_sample_slicing.TissueSampleSlicing, ~fairgraph.openminds.stimulation.activity.stimulation_activity.StimulationActivity\n",
      " |      reverse of 'is_part_of'\n",
      " |  is_input_to : ~fairgraph.openminds.computation.data_copy.DataCopy\n",
      " |      reverse of 'inputs'\n",
      " |  is_old_version_of : ~fairgraph.openminds.core.products.dataset_version.DatasetVersion\n",
      " |      reverse of 'is_new_version_of'\n",
      " |  is_part_of : ~fairgraph.openminds.core.products.project.Project, ~fairgraph.openminds.core.miscellaneous.research_product_group.ResearchProductGroup\n",
      " |      reverse of 'has_parts'\n",
      " |  is_version_of : ~fairgraph.openminds.core.products.dataset.Dataset\n",
      " |      reverse of 'has_versions'\n",
      " |  learning_resources : ~fairgraph.openminds.publications.learning_resource.LearningResource\n",
      " |      reverse of 'about'\n",
      " |  publication : ~fairgraph.openminds.publications.live_paper_version.LivePaperVersion\n",
      " |      reverse of 'about'\n",
      " |  \n",
      " |  Method resolution order:\n",
      " |      DatasetVersion\n",
      " |      fairgraph.kgobject.KGObject\n",
      " |      fairgraph.base.ContainsMetadata\n",
      " |      fairgraph.base.RepresentsSingleObject\n",
      " |      fairgraph.base.Resolvable\n",
      " |      fairgraph.base.SupportsQuerying\n",
      " |      builtins.object\n",
      " |  \n",
      " |  Methods defined here:\n",
      " |  \n",
      " |  __init__(self, name=None, alias=None, accessibility=None, authors=None, behavioral_protocols=None, comments=None, copyright=None, custodians=None, data_types=None, description=None, digital_identifier=None, ethics_assessment=None, experimental_approaches=None, full_documentation=None, full_name=None, funding=None, has_parts=None, homepage=None, how_to_cite=None, input_data=None, is_alternative_version_of=None, is_input_to=None, is_new_version_of=None, is_old_version_of=None, is_part_of=None, is_version_of=None, keywords=None, learning_resources=None, license=None, other_contributions=None, preparation_designs=None, protocols=None, publication=None, related_publications=None, release_date=None, repository=None, short_name=None, studied_specimens=None, study_targets=None, support_channels=None, techniques=None, version_identifier=None, version_innovation=None, id=None, data=None, space=None, scope=None)\n",
      " |      Initialize self.  See help(type(self)) for accurate signature.\n",
      " |  \n",
      " |  download(self, local_path, client, accept_terms_of_use=False)\n",
      " |  \n",
      " |  ----------------------------------------------------------------------\n",
      " |  Data and other attributes defined here:\n",
      " |  \n",
      " |  __annotations__ = {}\n",
      " |  \n",
      " |  aliases = {'alias': 'short_name', 'name': 'full_name'}\n",
      " |  \n",
      " |  context = {'core': 'https://openminds.ebrains.eu/core/', 'kg': 'https:...\n",
      " |  \n",
      " |  default_space = 'dataset'\n",
      " |  \n",
      " |  existence_query_properties = ('short_name', 'version_identifier')\n",
      " |  \n",
      " |  properties = [Property(name='accessibility', types=(<class 'fa...ab:ac...\n",
      " |  \n",
      " |  reverse_properties = [Property(name='comments', types=(<class 'fairgra...\n",
      " |  \n",
      " |  type_ = 'https://openminds.ebrains.eu/core/DatasetVersion'\n",
      " |  \n",
      " |  ----------------------------------------------------------------------\n",
      " |  Methods inherited from fairgraph.kgobject.KGObject:\n",
      " |  \n",
      " |  __eq__(self, other)\n",
      " |      Return self==value.\n",
      " |  \n",
      " |  __ne__(self, other)\n",
      " |      Return self!=value.\n",
      " |  \n",
      " |  __repr__(self)\n",
      " |      Return repr(self).\n",
      " |  \n",
      " |  children(self, client: 'KGClient', follow_links: 'Optional[Dict[str, Any]]' = None) -> 'List[RepresentsSingleObject]'\n",
      " |      Return a list of child objects.\n",
      " |  \n",
      " |  delete(self, client: 'KGClient', ignore_not_found: 'bool' = True)\n",
      " |      Delete the current metadata object from the KG.\n",
      " |      \n",
      " |      If `ignore_not_found` is False, an exception will be raised if the object does\n",
      " |      not exist. Otherwise, the method will finish silently.\n",
      " |  \n",
      " |  diff(self, other)\n",
      " |      Return a dictionary containing the differences between two metadata objects.\n",
      " |  \n",
      " |  exists(self, client: 'KGClient', ignore_duplicates: 'bool' = False, in_spaces: 'Optional[List[str]]' = None) -> 'bool'\n",
      " |      Check if this object already exists in the KnowledgeGraph\n",
      " |  \n",
      " |  export(self, path: 'str', single_file: 'bool' = False)\n",
      " |      Export metadata as files in JSON-LD format.\n",
      " |      \n",
      " |      If any objects do not have IDs, these will be generated.\n",
      " |      \n",
      " |      If `single_file` is False, then `path` must be the path to a directory,\n",
      " |      and each object will be exported as a file named for the object ID.\n",
      " |      \n",
      " |      If `single_file` is True, then `path` should be the path to a file\n",
      " |      with extension \".jsonld\". This file will contain metadata for all objects.\n",
      " |  \n",
      " |  modified_data(self) -> 'JSONdict'\n",
      " |      Return a dict containing the properties that have been modified locally\n",
      " |      from the values originally obtained from the Knowledge Graph.\n",
      " |  \n",
      " |  save(self, client: 'KGClient', space: 'Optional[str]' = None, recursive: 'bool' = True, activity_log: 'Optional[ActivityLog]' = None, replace: 'bool' = False, ignore_auth_errors: 'bool' = False, ignore_duplicates: 'bool' = False)\n",
      " |      Store the current object in the Knowledge Graph, either updating an existing instance\n",
      " |      or creating a new one as appropriate.\n",
      " |      \n",
      " |      Args:\n",
      " |          client: KGClient object that handles the communication with the KG.\n",
      " |          space (str, optional): The KG space to save the object in. If not provided, a default space is used depending on the object type.\n",
      " |          recursive (bool, optional): Whether to recursively save any children of this object. Defaults to True.\n",
      " |          activity_log (ActivityLog, optional): An `ActivityLog` instance to log the operations performed during the save operation.\n",
      " |              This is particularly helpful with `recursive=True`.\n",
      " |          replace (bool, optional): Whether to completely replace an existing KG instance with this one, or just update the existing object\n",
      " |              with any modified properties. Defaults to False.\n",
      " |          ignore_auth_errors (bool, optional): Whether to continue silently when encountering authentication errors. Defaults to False.\n",
      " |      \n",
      " |      Raises:\n",
      " |          - An `AuthorizationError` if the current user is not authorized to perform the requested operation.\n",
      " |  \n",
      " |  show(self, max_width: 'Optional[int]' = None, include_empty_properties=False)\n",
      " |      Print a table showing the metadata contained in this object.\n",
      " |  \n",
      " |  ----------------------------------------------------------------------\n",
      " |  Class methods inherited from fairgraph.kgobject.KGObject:\n",
      " |  \n",
      " |  by_name(name: 'str', client: 'KGClient', match: 'str' = 'equals', all: 'bool' = False, space: 'Optional[str]' = None, scope: 'str' = 'released', follow_links: 'Optional[Dict[str, Any]]' = None) -> 'Union[KGObject, List[KGObject], None]'\n",
      " |      Retrieve an instance from the Knowledge Graph based on its name.\n",
      " |      \n",
      " |      Note that not all metadata classes have a name property.\n",
      " |      \n",
      " |      Args:\n",
      " |          name (str): a string to search for in the name property.\n",
      " |          client: a KGClient\n",
      " |          match (str, optional): either \"equals\" (exact match - default) or \"contains\".\n",
      " |          all (bool, optional): Whether to return all objects that match the name, or only the first. Defaults to False.\n",
      " |          space (str, optional): the KG space to search in. Default is to search in all available spaces.\n",
      " |          scope (str, optional): The scope of the search. Valid values are \"released\", \"in progress\", or \"any\".\n",
      " |              Defaults to \"released\".\n",
      " |          follow_links (dict): The links in the graph to follow. Defaults to None.\n",
      " |  \n",
      " |  count(client: 'KGClient', api: 'str' = 'auto', scope: 'str' = 'released', space: 'Optional[str]' = None, **filters) -> 'int'\n",
      " |      Count the number of objects of a given type and (optionally) matching a given set of filters.\n",
      " |      \n",
      " |      Args:\n",
      " |          client: KGClient object that handles the communication with the KG.\n",
      " |          api (str): The KG API to use for the query. Can be 'query', 'core', or 'auto'. Default is 'auto'.\n",
      " |          scope (str, optional): The scope to use for the query. Can be 'released', 'in progress', or 'all'. Default is 'released'.\n",
      " |          space (str, optional): The KG space to be queried. If not specified, results from all accessible spaces will be counted.\n",
      " |          filters: Optional keyword arguments representing filters to apply to the query.\n",
      " |      \n",
      " |      Returns:\n",
      " |          The number of instances of this class in the given space that would match the given filters,\n",
      " |          or the total number of instances if no filters are provided.\n",
      " |      \n",
      " |      Raises:\n",
      " |          ValueError: If invalid arguments are passed to the method.\n",
      " |          NotImplementedError: If 'follow_links' is used with api='core'.\n",
      " |      \n",
      " |      Example:\n",
      " |      \n",
      " |          >>> from fairgraph import KGClient\n",
      " |          >>> import fairgraph.openminds.controlled_terms as terms\n",
      " |          >>> terms.CellType.count(client, name=\"interneuron\")\n",
      " |          8\n",
      " |  \n",
      " |  from_alias(alias: 'str', client: 'KGClient', space: 'Optional[str]' = None, scope: 'str' = 'released', follow_links: 'Optional[Dict[str, Any]]' = None)\n",
      " |      Retrieve an instance from the Knowledge Graph based on its alias/short name.\n",
      " |      \n",
      " |      Note that not all metadata classes have an alias.\n",
      " |      \n",
      " |      Args:\n",
      " |          alias (str): a short name used to identify a KG instance.\n",
      " |          client: a KGClient\n",
      " |          space (str, optional): the KG space to look in. Default is to look in all available spaces.\n",
      " |          scope (str, optional): The scope of the lookup. Valid values are \"released\", \"in progress\", or \"any\".\n",
      " |              Defaults to \"released\".\n",
      " |          follow_links (dict): The links in the graph to follow. Defaults to None.\n",
      " |  \n",
      " |  from_id(id: 'str', client: 'KGClient', use_cache: 'bool' = True, scope: 'str' = 'released', follow_links: 'Optional[Dict[str, Any]]' = None)\n",
      " |      Retrieve an instance from the Knowledge Graph based on either its URI or UUID.\n",
      " |      \n",
      " |      Args:\n",
      " |          id (str): short-form (UUID) or long-form (URI) identifier for the KG instance.\n",
      " |          client: a KGClient\n",
      " |          scope (str, optional): The scope of the lookup. Valid values are \"released\", \"in progress\", or \"any\".\n",
      " |              Defaults to \"released\".\n",
      " |          use_cache (bool): Whether to use cached data if they exist. Defaults to True.\n",
      " |          follow_links (dict): The links in the graph to follow. Defaults to None.\n",
      " |      \n",
      " |      Returns:\n",
      " |          Either a KGObject of the correct type, or None.\n",
      " |          A return value of None means either the object doesn't exist\n",
      " |          or the user doesn't have permission to access it.\n",
      " |  \n",
      " |  from_kg_instance(data: 'JSONdict', client: 'KGClient', scope: 'Optional[str]' = None)\n",
      " |      Create an instance of the class from a JSON-LD document.\n",
      " |  \n",
      " |  from_uri(uri: 'str', client: 'KGClient', use_cache: 'bool' = True, scope: 'str' = 'released', follow_links: 'Optional[Dict[str, Any]]' = None)\n",
      " |      Retrieve an instance from the Knowledge Graph based on its URI.\n",
      " |      \n",
      " |      Args:\n",
      " |          uri (str): long-form identifier for the KG instance (a full URI)\n",
      " |          client: a KGClient\n",
      " |          scope (str, optional): The scope of the lookup. Valid values are \"released\", \"in progress\", or \"any\".\n",
      " |              Defaults to \"released\".\n",
      " |          use_cache (bool): Whether to use cached data if they exist. Defaults to True.\n",
      " |          follow_links (dict): The links in the graph to follow. Defaults to None.\n",
      " |  \n",
      " |  from_uuid(uuid: 'str', client: 'KGClient', use_cache: 'bool' = True, scope: 'str' = 'released', follow_links: 'Optional[Dict[str, Any]]' = None)\n",
      " |      Retrieve an instance from the Knowledge Graph based on its UUID.\n",
      " |      \n",
      " |      Args:\n",
      " |          uuid (str): short-form identifier for the KG instance (a UUID).\n",
      " |          client: a KGClient\n",
      " |          scope (str, optional): The scope of the lookup. Valid values are \"released\", \"in progress\", or \"any\".\n",
      " |              Defaults to \"released\".\n",
      " |          use_cache (bool): Whether to use cached data if they exist. Defaults to True.\n",
      " |          follow_links (dict): The links in the graph to follow. Defaults to None.\n",
      " |  \n",
      " |  generate_minimal_query(client: 'KGClient', filters: 'Optional[Dict[str, Any]]' = None, label: 'Optional[str]' = None) -> 'Union[Dict[str, Any], None]'\n",
      " |      Generate a minimal KG query definition as a JSON-LD document.\n",
      " |      Such a query returns only the @id of any instances that are found.\n",
      " |      \n",
      " |      Args:\n",
      " |          client: KGClient object that handles the communication with the KG.\n",
      " |          filters (dict): A dictonary defining search parameters for the query.\n",
      " |          label (str, optional): a label for the query\n",
      " |      \n",
      " |      Returns:\n",
      " |          A JSON-LD document containing the KG query definition.\n",
      " |  \n",
      " |  generate_query(client: 'KGClient', space: 'Union[str, None]', filters: 'Optional[Dict[str, Any]]' = None, follow_links: 'Optional[Dict[str, Any]]' = None, label: 'Optional[str]' = None) -> 'Union[Dict[str, Any], None]'\n",
      " |      Generate a KG query definition as a JSON-LD document.\n",
      " |      \n",
      " |      Args:\n",
      " |          client: KGClient object that handles the communication with the KG.\n",
      " |          space (str, optional): if provided, restrict the query to metadata stored in the given KG space.\n",
      " |          filters (dict): A dictonary defining search parameters for the query.\n",
      " |          follow_links (dict): The links in the graph to follow. Defaults to None.\n",
      " |          label (str, optional): a label for the query\n",
      " |      \n",
      " |      Returns:\n",
      " |          A JSON-LD document containing the KG query definition.\n",
      " |  \n",
      " |  list(client: 'KGClient', size: 'int' = 100, from_index: 'int' = 0, api: 'str' = 'auto', scope: 'str' = 'released', space: 'Optional[str]' = None, follow_links: 'Optional[Dict[str, Any]]' = None, **filters) -> 'List[KGObject]'\n",
      " |      List all objects of this type in the Knowledge Graph\n",
      " |      \n",
      " |      Args:\n",
      " |          client: KGClient object that handles the communication with the KG.\n",
      " |          size (int, optional): The maximum number of instances to return. Default is 100.\n",
      " |          from_index (int, optional): The index of the first instance to return. Default is 0.\n",
      " |          api (str): The KG API to use for the query. Can be 'query', 'core', or 'auto'. Default is 'auto'.\n",
      " |          scope (str, optional): The scope to use for the query. Can be 'released', 'in progress', or 'all'. Default is 'released'.\n",
      " |          space (str, optional): The KG space to be queried. If not specified, results from all accessible spaces will be included.\n",
      " |          follow_links (dict): The links in the graph to follow. Defaults to None.\n",
      " |          filters: Optional keyword arguments representing filters to apply to the query.\n",
      " |      \n",
      " |      Returns:\n",
      " |          A list of instances of this class representing the objects returned by the KG query.\n",
      " |      \n",
      " |      Raises:\n",
      " |          ValueError: If invalid arguments are passed to the method.\n",
      " |          NotImplementedError: If 'follow_links' is used with api='core'.\n",
      " |      \n",
      " |      Example:\n",
      " |      \n",
      " |          >>> from fairgraph import KGClient\n",
      " |          >>> import fairgraph.openminds.controlled_terms as terms\n",
      " |          >>> interneuron_types = terms.CellType.list(client, name=\"interneuron\")\n",
      " |          >>> for ct in interneuron_types[:4]:\n",
      " |          ...     print(f\"{ct.name:<30} {ct.definition}\")\n",
      " |          cerebellar interneuron         None\n",
      " |          cholinergic interneuron        An inhibitory interneuron which mainly uses the neurotrasmitter acetylcholine (ACh).\n",
      " |          cortical interneuron           None\n",
      " |          fast spiking interneuron       A parvalbumin positive GABAergic interneuron with a high-frequency firing pattern.\n",
      " |  \n",
      " |  uri_from_uuid(uuid: 'str', client: 'KGClient') -> 'str'\n",
      " |      Convert an instances short-form identifier (a UUID) into the long-form (a URI)\n",
      " |  \n",
      " |  ----------------------------------------------------------------------\n",
      " |  Readonly properties inherited from fairgraph.kgobject.KGObject:\n",
      " |  \n",
      " |  space\n",
      " |  \n",
      " |  uuid\n",
      " |  \n",
      " |  ----------------------------------------------------------------------\n",
      " |  Data and other attributes inherited from fairgraph.kgobject.KGObject:\n",
      " |  \n",
      " |  __hash__ = None\n",
      " |  \n",
      " |  ----------------------------------------------------------------------\n",
      " |  Methods inherited from fairgraph.base.ContainsMetadata:\n",
      " |  \n",
      " |  __getattribute__(self, name)\n",
      " |      Return getattr(self, name).\n",
      " |  \n",
      " |  __setattr__(self, name, value)\n",
      " |      Implement setattr(self, name, value).\n",
      " |  \n",
      " |  resolve(self, client: 'KGClient', scope: 'Optional[str]' = None, use_cache: 'bool' = True, follow_links: 'Optional[Dict[str, Any]]' = None)\n",
      " |      Resolve properties that are represented by KGProxy objects.\n",
      " |      \n",
      " |      Args:\n",
      " |          client: KGClient object that handles the communication with the KG.\n",
      " |          scope (str): The scope of instances to include in the response.\n",
      " |                 Valid values are 'released', 'in progress', 'any'.\n",
      " |          use_cache (bool): whether to use cached data if they exist. Defaults to True.\n",
      " |          follow_links (dict): The links in the graph to follow. Defaults to None.\n",
      " |      \n",
      " |      Note: a real (non-proxy) object resolves to itself.\n",
      " |  \n",
      " |  to_jsonld(self, normalized: 'bool' = True, follow_links: 'bool' = False, include_empty_properties: 'bool' = False, include_reverse_properties: 'bool' = False)\n",
      " |      Return a JSON-LD representation of this metadata object\n",
      " |      \n",
      " |      Args:\n",
      " |          normalized (bool): Whether to expand all URIs. Defaults to True.\n",
      " |          follow_links (bool, optional): Whether to represent linked objects just by their \"@id\"\n",
      " |              or to include their full metadata. Defaults to False.\n",
      " |          include_empty_properties (bool, optional): Whether to include empty properties (with value \"null\").\n",
      " |              Defaults to False.\n",
      " |  \n",
      " |  ----------------------------------------------------------------------\n",
      " |  Class methods inherited from fairgraph.base.ContainsMetadata:\n",
      " |  \n",
      " |  from_jsonld(data: 'JSONdict', client: 'KGClient', scope: 'Optional[str]' = None)\n",
      " |      Create an instance of the class from a JSON-LD document.\n",
      " |  \n",
      " |  generate_query_filter_properties(filters: 'Optional[Dict[str, Any]]' = None)\n",
      " |      Args:\n",
      " |          filters (dict, optional): A dict containing search parameters for the query.\n",
      " |  \n",
      " |  generate_query_properties(follow_links: 'Optional[Dict[str, Any]]' = None)\n",
      " |      Generate a list of QueryProperty instances for this class\n",
      " |      for use in constructing a KG query definition.\n",
      " |      \n",
      " |      Args:\n",
      " |          follow_links (dict): The links in the graph to follow when constructing the query. Defaults to None.\n",
      " |  \n",
      " |  normalize_filter(filter_dict: 'Dict[str, Any]') -> 'Dict[str, Any]'\n",
      " |      Normalize a dict containing filter key:value pairs so that it can be used\n",
      " |      in a call to the KG query API.\n",
      " |      \n",
      " |      Example:\n",
      " |          >>> import fairgraph.openminds.core as omcore\n",
      " |          >>> person = omcore.Person.from_uuid(\"045f846f-f010-4db8-97b9-b95b20970bf2\", kg_client)\n",
      " |          >>> filter_dict = {\"custodians\": person, \"name\": \"Virtual\"}\n",
      " |          >>> omcore.Dataset.normalize_filter(filter_dict)\n",
      " |          {'name': 'Virtual',\n",
      " |           'custodians': 'https://kg.ebrains.eu/api/instances/045f846f-f010-4db8-97b9-b95b20970bf2'}\n",
      " |  \n",
      " |  set_error_handling(value: 'Union[ErrorHandling, None]', property_names: 'Optional[Union[str, List[str]]]' = None)\n",
      " |      Control validation for this class.\n",
      " |      \n",
      " |      Args:\n",
      " |          value (str): action to follow when there is a validation failure.\n",
      " |              (e.g. if a required property is not provided).\n",
      " |              Possible values: \"error\", \"warning\", \"log\", None\n",
      " |          property_names (str or list of str, optional): If not provided, the error handling\n",
      " |              mode will be applied to all properties. If a property name or list of names is given,\n",
      " |              the mode will be applied only to those properties.\n",
      " |  \n",
      " |  ----------------------------------------------------------------------\n",
      " |  Methods inherited from fairgraph.base.RepresentsSingleObject:\n",
      " |  \n",
      " |  is_released(self, client: 'KGClient', with_children: 'bool' = False) -> 'bool'\n",
      " |      Release status of the node\n",
      " |  \n",
      " |  release(self, client: 'KGClient', with_children: 'bool' = False)\n",
      " |      Release this node (make it available in public search).\n",
      " |  \n",
      " |  unrelease(self, client: 'KGClient', with_children: 'bool' = False)\n",
      " |      Un-release this node (remove it from public search).\n",
      " |  \n",
      " |  ----------------------------------------------------------------------\n",
      " |  Data descriptors inherited from fairgraph.base.Resolvable:\n",
      " |  \n",
      " |  __dict__\n",
      " |      dictionary for instance variables\n",
      " |  \n",
      " |  __weakref__\n",
      " |      list of weak references to the object\n",
      "\n"
     ]
    }
   ],
   "source": [
    "help(omcore.DatasetVersion)"
   ]
  },
  {
   "cell_type": "markdown",
   "id": "3e1e2e7d-b089-42ad-8bf1-ec51c83a96d0",
   "metadata": {},
   "source": [
    "# Writing to the Knowledge Graph"
   ]
  },
  {
   "cell_type": "code",
   "execution_count": 180,
   "id": "59222b8c-0f74-4256-81c6-2dac83c670d3",
   "metadata": {
    "collapsed": true,
    "jupyter": {
     "outputs_hidden": true
    },
    "tags": []
   },
   "outputs": [
    {
     "data": {
      "text/plain": [
       "['affiliations',\n",
       " 'alternate_names',\n",
       " 'associated_accounts',\n",
       " 'contact_information',\n",
       " 'digital_identifiers',\n",
       " 'family_name',\n",
       " 'given_name',\n",
       " 'activities',\n",
       " 'comments',\n",
       " 'coordinated_projects',\n",
       " 'developed',\n",
       " 'funded',\n",
       " 'is_custodian_of',\n",
       " 'is_owner_of',\n",
       " 'is_provider_of',\n",
       " 'manufactured',\n",
       " 'published',\n",
       " 'started']"
      ]
     },
     "execution_count": 180,
     "metadata": {},
     "output_type": "execute_result"
    }
   ],
   "source": [
    "omcore.Person.property_names"
   ]
  },
  {
   "cell_type": "code",
   "execution_count": 183,
   "id": "8f6b1109-7047-4a1b-9354-35e0372d9b38",
   "metadata": {
    "collapsed": true,
    "jupyter": {
     "outputs_hidden": true
    },
    "tags": []
   },
   "outputs": [
    {
     "data": {
      "text/plain": [
       "[Property(name='affiliations', types=(<class 'fairgraph.openminds.core.actors.affiliation.Affiliation'>,), path='vocab:affiliation', required=False, multiple=True),\n",
       " Property(name='alternate_names', types=(<class 'str'>,), path='vocab:alternateName', required=False, multiple=True),\n",
       " Property(name='associated_accounts', types=(<class 'fairgraph.openminds.core.actors.account_information.AccountInformation'>,), path='vocab:associatedAccount', required=False, multiple=True),\n",
       " Property(name='contact_information', types=(<class 'fairgraph.openminds.core.actors.contact_information.ContactInformation'>,), path='vocab:contactInformation', required=False, multiple=False),\n",
       " Property(name='digital_identifiers', types=(<class 'fairgraph.openminds.core.digital_identifier.orcid.ORCID'>,), path='vocab:digitalIdentifier', required=False, multiple=True),\n",
       " Property(name='family_name', types=(<class 'str'>,), path='vocab:familyName', required=False, multiple=False),\n",
       " Property(name='given_name', types=(<class 'str'>,), path='vocab:givenName', required=True, multiple=False)]"
      ]
     },
     "execution_count": 183,
     "metadata": {},
     "output_type": "execute_result"
    }
   ],
   "source": [
    "omcore.Person.properties"
   ]
  },
  {
   "cell_type": "code",
   "execution_count": 182,
   "id": "cac1f537-66e7-42db-90d6-0dacb2837b9d",
   "metadata": {
    "collapsed": true,
    "jupyter": {
     "outputs_hidden": true
    },
    "tags": []
   },
   "outputs": [
    {
     "data": {
      "text/plain": [
       "['accessibility',\n",
       " 'authors',\n",
       " 'behavioral_protocols',\n",
       " 'copyright',\n",
       " 'custodians',\n",
       " 'data_types',\n",
       " 'description',\n",
       " 'digital_identifier',\n",
       " 'ethics_assessment',\n",
       " 'experimental_approaches',\n",
       " 'full_documentation',\n",
       " 'full_name',\n",
       " 'funding',\n",
       " 'homepage',\n",
       " 'how_to_cite',\n",
       " 'input_data',\n",
       " 'is_alternative_version_of',\n",
       " 'is_new_version_of',\n",
       " 'keywords',\n",
       " 'license',\n",
       " 'other_contributions',\n",
       " 'preparation_designs',\n",
       " 'protocols',\n",
       " 'related_publications',\n",
       " 'release_date',\n",
       " 'repository',\n",
       " 'short_name',\n",
       " 'studied_specimens',\n",
       " 'study_targets',\n",
       " 'support_channels',\n",
       " 'techniques',\n",
       " 'version_identifier',\n",
       " 'version_innovation',\n",
       " 'comments',\n",
       " 'has_parts',\n",
       " 'is_input_to',\n",
       " 'is_old_version_of',\n",
       " 'is_part_of',\n",
       " 'is_version_of',\n",
       " 'learning_resources',\n",
       " 'publication']"
      ]
     },
     "execution_count": 182,
     "metadata": {},
     "output_type": "execute_result"
    }
   ],
   "source": [
    "omcore.DatasetVersion.property_names"
   ]
  },
  {
   "cell_type": "code",
   "execution_count": 188,
   "id": "ce40e448-26f2-4f41-8819-922f610f8d40",
   "metadata": {
    "collapsed": true,
    "jupyter": {
     "outputs_hidden": true
    },
    "tags": []
   },
   "outputs": [
    {
     "data": {
      "text/plain": [
       "[Property(name='accessibility', types=(<class 'fairgraph.openminds.controlled_terms.product_accessibility.ProductAccessibility'>,), path='vocab:accessibility', required=True, multiple=False),\n",
       " Property(name='authors', types=(<class 'fairgraph.openminds.core.actors.consortium.Consortium'>, <class 'fairgraph.openminds.core.actors.organization.Organization'>, <class 'fairgraph.openminds.core.actors.person.Person'>), path='vocab:author', required=False, multiple=True),\n",
       " Property(name='behavioral_protocols', types=(<class 'fairgraph.openminds.core.research.behavioral_protocol.BehavioralProtocol'>,), path='vocab:behavioralProtocol', required=False, multiple=True),\n",
       " Property(name='copyright', types=(<class 'fairgraph.openminds.core.data.copyright.Copyright'>,), path='vocab:copyright', required=False, multiple=False),\n",
       " Property(name='custodians', types=(<class 'fairgraph.openminds.core.actors.consortium.Consortium'>, <class 'fairgraph.openminds.core.actors.organization.Organization'>, <class 'fairgraph.openminds.core.actors.person.Person'>), path='vocab:custodian', required=False, multiple=True),\n",
       " Property(name='data_types', types=(<class 'fairgraph.openminds.controlled_terms.semantic_data_type.SemanticDataType'>,), path='vocab:dataType', required=True, multiple=True),\n",
       " Property(name='description', types=(<class 'str'>,), path='vocab:description', required=False, multiple=False),\n",
       " Property(name='digital_identifier', types=(<class 'fairgraph.openminds.core.digital_identifier.doi.DOI'>, <class 'fairgraph.openminds.core.digital_identifier.identifiers_dot_org_id.IdentifiersDotOrgID'>), path='vocab:digitalIdentifier', required=True, multiple=False),\n",
       " Property(name='ethics_assessment', types=(<class 'fairgraph.openminds.controlled_terms.ethics_assessment.EthicsAssessment'>,), path='vocab:ethicsAssessment', required=True, multiple=False),\n",
       " Property(name='experimental_approaches', types=(<class 'fairgraph.openminds.controlled_terms.experimental_approach.ExperimentalApproach'>,), path='vocab:experimentalApproach', required=True, multiple=True),\n",
       " Property(name='full_documentation', types=(<class 'fairgraph.openminds.core.digital_identifier.doi.DOI'>, <class 'fairgraph.openminds.core.data.file.File'>, <class 'fairgraph.openminds.core.digital_identifier.isbn.ISBN'>, <class 'fairgraph.openminds.core.miscellaneous.web_resource.WebResource'>), path='vocab:fullDocumentation', required=True, multiple=False),\n",
       " Property(name='full_name', types=(<class 'str'>,), path='vocab:fullName', required=False, multiple=False),\n",
       " Property(name='funding', types=(<class 'fairgraph.openminds.core.miscellaneous.funding.Funding'>,), path='vocab:funding', required=False, multiple=True),\n",
       " Property(name='homepage', types=(<class 'fairgraph.base.IRI'>,), path='vocab:homepage', required=False, multiple=False),\n",
       " Property(name='how_to_cite', types=(<class 'str'>,), path='vocab:howToCite', required=False, multiple=False),\n",
       " Property(name='input_data', types=(<class 'fairgraph.openminds.core.digital_identifier.doi.DOI'>, <class 'fairgraph.openminds.core.data.file.File'>, <class 'fairgraph.openminds.core.data.file_bundle.FileBundle'>, <class 'fairgraph.openminds.core.miscellaneous.web_resource.WebResource'>, <class 'fairgraph.openminds.sands.atlas.brain_atlas.BrainAtlas'>, <class 'fairgraph.openminds.sands.atlas.brain_atlas_version.BrainAtlasVersion'>, <class 'fairgraph.openminds.sands.atlas.common_coordinate_space.CommonCoordinateSpace'>, <class 'fairgraph.openminds.sands.atlas.common_coordinate_space_version.CommonCoordinateSpaceVersion'>), path='vocab:inputData', required=False, multiple=True),\n",
       " Property(name='is_alternative_version_of', types=(<class 'fairgraph.openminds.core.products.dataset_version.DatasetVersion'>,), path='vocab:isAlternativeVersionOf', required=False, multiple=True),\n",
       " Property(name='is_new_version_of', types=(<class 'fairgraph.openminds.core.products.dataset_version.DatasetVersion'>,), path='vocab:isNewVersionOf', required=False, multiple=False),\n",
       " Property(name='keywords', types=(<class 'fairgraph.openminds.controlled_terms.action_status_type.ActionStatusType'>, <class 'fairgraph.openminds.controlled_terms.age_category.AgeCategory'>, <class 'fairgraph.openminds.controlled_terms.analysis_technique.AnalysisTechnique'>, <class 'fairgraph.openminds.controlled_terms.anatomical_axes_orientation.AnatomicalAxesOrientation'>, <class 'fairgraph.openminds.controlled_terms.anatomical_identification_type.AnatomicalIdentificationType'>, <class 'fairgraph.openminds.controlled_terms.anatomical_plane.AnatomicalPlane'>, <class 'fairgraph.openminds.controlled_terms.annotation_criteria_type.AnnotationCriteriaType'>, <class 'fairgraph.openminds.controlled_terms.annotation_type.AnnotationType'>, <class 'fairgraph.openminds.controlled_terms.atlas_type.AtlasType'>, <class 'fairgraph.openminds.controlled_terms.auditory_stimulus_type.AuditoryStimulusType'>, <class 'fairgraph.openminds.controlled_terms.biological_order.BiologicalOrder'>, <class 'fairgraph.openminds.controlled_terms.biological_process.BiologicalProcess'>, <class 'fairgraph.openminds.controlled_terms.biological_sex.BiologicalSex'>, <class 'fairgraph.openminds.controlled_terms.breeding_type.BreedingType'>, <class 'fairgraph.openminds.controlled_terms.cell_culture_type.CellCultureType'>, <class 'fairgraph.openminds.controlled_terms.cell_type.CellType'>, <class 'fairgraph.openminds.controlled_terms.chemical_mixture_type.ChemicalMixtureType'>, <class 'fairgraph.openminds.controlled_terms.colormap.Colormap'>, <class 'fairgraph.openminds.controlled_terms.contribution_type.ContributionType'>, <class 'fairgraph.openminds.controlled_terms.cranial_window_construction_type.CranialWindowConstructionType'>, <class 'fairgraph.openminds.controlled_terms.cranial_window_reinforcement_type.CranialWindowReinforcementType'>, <class 'fairgraph.openminds.controlled_terms.criteria_quality_type.CriteriaQualityType'>, <class 'fairgraph.openminds.controlled_terms.data_type.DataType'>, <class 'fairgraph.openminds.controlled_terms.device_type.DeviceType'>, <class 'fairgraph.openminds.controlled_terms.difference_measure.DifferenceMeasure'>, <class 'fairgraph.openminds.controlled_terms.disease.Disease'>, <class 'fairgraph.openminds.controlled_terms.disease_model.DiseaseModel'>, <class 'fairgraph.openminds.controlled_terms.educational_level.EducationalLevel'>, <class 'fairgraph.openminds.controlled_terms.electrical_stimulus_type.ElectricalStimulusType'>, <class 'fairgraph.openminds.controlled_terms.ethics_assessment.EthicsAssessment'>, <class 'fairgraph.openminds.controlled_terms.experimental_approach.ExperimentalApproach'>, <class 'fairgraph.openminds.controlled_terms.file_bundle_grouping.FileBundleGrouping'>, <class 'fairgraph.openminds.controlled_terms.file_repository_type.FileRepositoryType'>, <class 'fairgraph.openminds.controlled_terms.file_usage_role.FileUsageRole'>, <class 'fairgraph.openminds.controlled_terms.genetic_strain_type.GeneticStrainType'>, <class 'fairgraph.openminds.controlled_terms.gustatory_stimulus_type.GustatoryStimulusType'>, <class 'fairgraph.openminds.controlled_terms.handedness.Handedness'>, <class 'fairgraph.openminds.controlled_terms.language.Language'>, <class 'fairgraph.openminds.controlled_terms.laterality.Laterality'>, <class 'fairgraph.openminds.controlled_terms.learning_resource_type.LearningResourceType'>, <class 'fairgraph.openminds.controlled_terms.mri_pulse_sequence.MRIPulseSequence'>, <class 'fairgraph.openminds.controlled_terms.mri_weighting.MRIWeighting'>, <class 'fairgraph.openminds.controlled_terms.measured_quantity.MeasuredQuantity'>, <class 'fairgraph.openminds.controlled_terms.measured_signal_type.MeasuredSignalType'>, <class 'fairgraph.openminds.controlled_terms.meta_data_model_type.MetaDataModelType'>, <class 'fairgraph.openminds.controlled_terms.model_abstraction_level.ModelAbstractionLevel'>, <class 'fairgraph.openminds.controlled_terms.model_scope.ModelScope'>, <class 'fairgraph.openminds.controlled_terms.molecular_entity.MolecularEntity'>, <class 'fairgraph.openminds.controlled_terms.olfactory_stimulus_type.OlfactoryStimulusType'>, <class 'fairgraph.openminds.controlled_terms.operating_device.OperatingDevice'>, <class 'fairgraph.openminds.controlled_terms.operating_system.OperatingSystem'>, <class 'fairgraph.openminds.controlled_terms.optical_stimulus_type.OpticalStimulusType'>, <class 'fairgraph.openminds.controlled_terms.organ.Organ'>, <class 'fairgraph.openminds.controlled_terms.organism_substance.OrganismSubstance'>, <class 'fairgraph.openminds.controlled_terms.organism_system.OrganismSystem'>, <class 'fairgraph.openminds.controlled_terms.patch_clamp_variation.PatchClampVariation'>, <class 'fairgraph.openminds.controlled_terms.preparation_type.PreparationType'>, <class 'fairgraph.openminds.controlled_terms.product_accessibility.ProductAccessibility'>, <class 'fairgraph.openminds.controlled_terms.programming_language.ProgrammingLanguage'>, <class 'fairgraph.openminds.controlled_terms.qualitative_overlap.QualitativeOverlap'>, <class 'fairgraph.openminds.controlled_terms.semantic_data_type.SemanticDataType'>, <class 'fairgraph.openminds.controlled_terms.service.Service'>, <class 'fairgraph.openminds.controlled_terms.setup_type.SetupType'>, <class 'fairgraph.openminds.controlled_terms.software_application_category.SoftwareApplicationCategory'>, <class 'fairgraph.openminds.controlled_terms.software_feature.SoftwareFeature'>, <class 'fairgraph.openminds.controlled_terms.species.Species'>, <class 'fairgraph.openminds.controlled_terms.stimulation_approach.StimulationApproach'>, <class 'fairgraph.openminds.controlled_terms.stimulation_technique.StimulationTechnique'>, <class 'fairgraph.openminds.controlled_terms.subcellular_entity.SubcellularEntity'>, <class 'fairgraph.openminds.controlled_terms.subject_attribute.SubjectAttribute'>, <class 'fairgraph.openminds.controlled_terms.tactile_stimulus_type.TactileStimulusType'>, <class 'fairgraph.openminds.controlled_terms.technique.Technique'>, <class 'fairgraph.openminds.controlled_terms.term_suggestion.TermSuggestion'>, <class 'fairgraph.openminds.controlled_terms.terminology.Terminology'>, <class 'fairgraph.openminds.controlled_terms.tissue_sample_attribute.TissueSampleAttribute'>, <class 'fairgraph.openminds.controlled_terms.tissue_sample_type.TissueSampleType'>, <class 'fairgraph.openminds.controlled_terms.type_of_uncertainty.TypeOfUncertainty'>, <class 'fairgraph.openminds.controlled_terms.uberon_parcellation.UBERONParcellation'>, <class 'fairgraph.openminds.controlled_terms.unit_of_measurement.UnitOfMeasurement'>, <class 'fairgraph.openminds.controlled_terms.visual_stimulus_type.VisualStimulusType'>), path='vocab:keyword', required=False, multiple=True),\n",
       " Property(name='license', types=(<class 'fairgraph.openminds.core.data.license.License'>, <class 'fairgraph.openminds.core.miscellaneous.web_resource.WebResource'>), path='vocab:license', required=True, multiple=False),\n",
       " Property(name='other_contributions', types=(<class 'fairgraph.openminds.core.actors.contribution.Contribution'>,), path='vocab:otherContribution', required=False, multiple=True),\n",
       " Property(name='preparation_designs', types=(<class 'fairgraph.openminds.controlled_terms.preparation_type.PreparationType'>,), path='vocab:preparationDesign', required=False, multiple=True),\n",
       " Property(name='protocols', types=(<class 'fairgraph.openminds.core.research.protocol.Protocol'>,), path='vocab:protocol', required=False, multiple=True),\n",
       " Property(name='related_publications', types=(<class 'fairgraph.openminds.core.digital_identifier.doi.DOI'>, <class 'fairgraph.openminds.core.digital_identifier.handle.HANDLE'>, <class 'fairgraph.openminds.core.digital_identifier.isbn.ISBN'>, <class 'fairgraph.openminds.core.digital_identifier.issn.ISSN'>, <class 'fairgraph.openminds.publications.book.Book'>, <class 'fairgraph.openminds.publications.chapter.Chapter'>, <class 'fairgraph.openminds.publications.scholarly_article.ScholarlyArticle'>), path='vocab:relatedPublication', required=False, multiple=True),\n",
       " Property(name='release_date', types=(<class 'datetime.date'>,), path='vocab:releaseDate', required=True, multiple=False),\n",
       " Property(name='repository', types=(<class 'fairgraph.openminds.core.data.file_repository.FileRepository'>,), path='vocab:repository', required=False, multiple=False),\n",
       " Property(name='short_name', types=(<class 'str'>,), path='vocab:shortName', required=True, multiple=False),\n",
       " Property(name='studied_specimens', types=(<class 'fairgraph.openminds.core.research.subject.Subject'>, <class 'fairgraph.openminds.core.research.subject_group.SubjectGroup'>, <class 'fairgraph.openminds.core.research.tissue_sample.TissueSample'>, <class 'fairgraph.openminds.core.research.tissue_sample_collection.TissueSampleCollection'>), path='vocab:studiedSpecimen', required=False, multiple=True),\n",
       " Property(name='study_targets', types=(<class 'fairgraph.openminds.controlled_terms.auditory_stimulus_type.AuditoryStimulusType'>, <class 'fairgraph.openminds.controlled_terms.biological_order.BiologicalOrder'>, <class 'fairgraph.openminds.controlled_terms.biological_sex.BiologicalSex'>, <class 'fairgraph.openminds.controlled_terms.breeding_type.BreedingType'>, <class 'fairgraph.openminds.controlled_terms.cell_culture_type.CellCultureType'>, <class 'fairgraph.openminds.controlled_terms.cell_type.CellType'>, <class 'fairgraph.openminds.controlled_terms.disease.Disease'>, <class 'fairgraph.openminds.controlled_terms.disease_model.DiseaseModel'>, <class 'fairgraph.openminds.controlled_terms.electrical_stimulus_type.ElectricalStimulusType'>, <class 'fairgraph.openminds.controlled_terms.genetic_strain_type.GeneticStrainType'>, <class 'fairgraph.openminds.controlled_terms.gustatory_stimulus_type.GustatoryStimulusType'>, <class 'fairgraph.openminds.controlled_terms.handedness.Handedness'>, <class 'fairgraph.openminds.controlled_terms.molecular_entity.MolecularEntity'>, <class 'fairgraph.openminds.controlled_terms.olfactory_stimulus_type.OlfactoryStimulusType'>, <class 'fairgraph.openminds.controlled_terms.optical_stimulus_type.OpticalStimulusType'>, <class 'fairgraph.openminds.controlled_terms.organ.Organ'>, <class 'fairgraph.openminds.controlled_terms.organism_substance.OrganismSubstance'>, <class 'fairgraph.openminds.controlled_terms.organism_system.OrganismSystem'>, <class 'fairgraph.openminds.controlled_terms.species.Species'>, <class 'fairgraph.openminds.controlled_terms.subcellular_entity.SubcellularEntity'>, <class 'fairgraph.openminds.controlled_terms.tactile_stimulus_type.TactileStimulusType'>, <class 'fairgraph.openminds.controlled_terms.term_suggestion.TermSuggestion'>, <class 'fairgraph.openminds.controlled_terms.tissue_sample_type.TissueSampleType'>, <class 'fairgraph.openminds.controlled_terms.uberon_parcellation.UBERONParcellation'>, <class 'fairgraph.openminds.controlled_terms.visual_stimulus_type.VisualStimulusType'>, <class 'fairgraph.openminds.sands.non_atlas.custom_anatomical_entity.CustomAnatomicalEntity'>, <class 'fairgraph.openminds.sands.atlas.parcellation_entity.ParcellationEntity'>, <class 'fairgraph.openminds.sands.atlas.parcellation_entity_version.ParcellationEntityVersion'>), path='vocab:studyTarget', required=False, multiple=True),\n",
       " Property(name='support_channels', types=(<class 'str'>,), path='vocab:supportChannel', required=False, multiple=True),\n",
       " Property(name='techniques', types=(<class 'fairgraph.openminds.controlled_terms.analysis_technique.AnalysisTechnique'>, <class 'fairgraph.openminds.controlled_terms.mri_pulse_sequence.MRIPulseSequence'>, <class 'fairgraph.openminds.controlled_terms.mri_weighting.MRIWeighting'>, <class 'fairgraph.openminds.controlled_terms.stimulation_approach.StimulationApproach'>, <class 'fairgraph.openminds.controlled_terms.stimulation_technique.StimulationTechnique'>, <class 'fairgraph.openminds.controlled_terms.technique.Technique'>), path='vocab:technique', required=True, multiple=True),\n",
       " Property(name='version_identifier', types=(<class 'str'>,), path='vocab:versionIdentifier', required=True, multiple=False),\n",
       " Property(name='version_innovation', types=(<class 'str'>,), path='vocab:versionInnovation', required=True, multiple=False)]"
      ]
     },
     "execution_count": 188,
     "metadata": {},
     "output_type": "execute_result"
    }
   ],
   "source": [
    "omcore.DatasetVersion.properties"
   ]
  },
  {
   "cell_type": "code",
   "execution_count": 184,
   "id": "880a6514-e902-4ef8-9a76-d39ef8197bac",
   "metadata": {
    "collapsed": true,
    "jupyter": {
     "outputs_hidden": true
    },
    "tags": []
   },
   "outputs": [
    {
     "data": {
      "text/plain": [
       "[Property(name='end_date', types=(<class 'datetime.date'>,), path='vocab:endDate', required=False, multiple=False),\n",
       " Property(name='member_of', types=(<class 'fairgraph.openminds.core.actors.consortium.Consortium'>, <class 'fairgraph.openminds.core.actors.organization.Organization'>), path='vocab:memberOf', required=True, multiple=False),\n",
       " Property(name='start_date', types=(<class 'datetime.date'>,), path='vocab:startDate', required=False, multiple=False)]"
      ]
     },
     "execution_count": 184,
     "metadata": {},
     "output_type": "execute_result"
    }
   ],
   "source": [
    "omcore.Affiliation.properties"
   ]
  },
  {
   "cell_type": "code",
   "execution_count": 224,
   "id": "f96c683b-ba1b-48a3-ba33-f8eeccd35a95",
   "metadata": {},
   "outputs": [],
   "source": [
    "from fairgraph.openminds.controlledterms import SemanticDataType\n",
    "data_types_list = SemanticDataType.list(kg_client, size=100, from_index=0, api='auto', scope='released', resolved=False, space=None)\n",
    "data_types_names = [item.name for item in data_types_list]"
   ]
  },
  {
   "cell_type": "code",
   "execution_count": 225,
   "id": "b3b59bb8-75e9-49f6-aad3-4b41c9ecc235",
   "metadata": {},
   "outputs": [
    {
     "name": "stdout",
     "output_type": "stream",
     "text": [
      "Please select data type:\n",
      "---\n",
      "1. derived data\n",
      "2. experimental data\n",
      "3. raw data\n",
      "4. simulated data\n",
      "---\n"
     ]
    },
    {
     "name": "stdin",
     "output_type": "stream",
     "text": [
      "Your choice:  2\n"
     ]
    },
    {
     "name": "stdout",
     "output_type": "stream",
     "text": [
      "\n",
      "experimental data\n"
     ]
    }
   ],
   "source": [
    "print('Please select data type:')\n",
    "print('---')\n",
    "c = 0\n",
    "for d in data_types_names:\n",
    "    c += 1\n",
    "    print(str(c) + \". \" + d)\n",
    "print('---')\n",
    "selected = input('Your choice: ')\n",
    "index = int(selected)-1\n",
    "print('')\n",
    "print(data_types_names[index])"
   ]
  },
  {
   "cell_type": "code",
   "execution_count": 226,
   "id": "c8208281-564f-4d08-a108-3885c9fc9811",
   "metadata": {},
   "outputs": [],
   "source": [
    "dataset_test_maya.data_types = SemanticDataType.by_name(data_types_names[index], kg_client)"
   ]
  },
  {
   "cell_type": "code",
   "execution_count": 227,
   "id": "f84a6953-4103-46e4-9fda-2a01c71c8c68",
   "metadata": {},
   "outputs": [
    {
     "name": "stdout",
     "output_type": "stream",
     "text": [
      "id                       https://kg.ebrains.eu/api/instances/724d4af0-fe28-4032-8837-120b0d64a81c\n",
      "space                    collab-d-724d4af0-fe28-4032-8837-120b0d64a81c\n",
      "type                     https://openminds.ebrains.eu/core/DatasetVersion\n",
      "data_types               SemanticDataType(name='experimental data', space=controlled, id=https://kg.ebrains.eu/api/instances/f468ee45-37a6-4e71-8b70-0cbe66d367db)\n",
      "experimental_approaches  KGProxy([<class 'fairgraph.openminds.controlled_terms.experimental_approach.ExperimentalApproach'>], 'https://kg.ebrains.eu/api/instances/d09f5c87-5fe1-4b8f-8ce3-9b851c44a25e')\n",
      "full_name                Maya's test collab\n"
     ]
    }
   ],
   "source": [
    "dataset_test_maya.show()"
   ]
  },
  {
   "cell_type": "code",
   "execution_count": 228,
   "id": "c4603c8c-831e-49e4-b44e-879411cc4e12",
   "metadata": {},
   "outputs": [],
   "source": [
    "dataset_test_maya.save(kg_client)"
   ]
  },
  {
   "cell_type": "markdown",
   "id": "38959e15-ae57-4597-b14d-7a34f9169be3",
   "metadata": {},
   "source": [
    "# myspace"
   ]
  },
  {
   "cell_type": "code",
   "execution_count": 229,
   "id": "1eadf2a8-807a-456c-b7a9-d82faf0dfda1",
   "metadata": {},
   "outputs": [],
   "source": [
    "mgm = omcore.Organization(full_name=\"Metro-Goldwyn-Mayer\", short_name=\"MGM\")\n",
    "stan = omcore.Person(given_name=\"Stan\", family_name=\"Laurel\", affiliations=omcore.Affiliation(member_of=mgm))\n",
    "ollie = omcore.Person(given_name=\"Oliver\", family_name=\"Hardy\", alternate_names=[\"Ollie\"], affiliations=omcore.Affiliation(member_of=mgm))"
   ]
  },
  {
   "cell_type": "code",
   "execution_count": 230,
   "id": "0e1eca81-cea6-4498-a215-16553129368b",
   "metadata": {},
   "outputs": [],
   "source": [
    "stan.save(kg_client, space=\"myspace\", recursive=True)\n",
    "ollie.save(kg_client, space=\"myspace\", recursive=True)"
   ]
  },
  {
   "cell_type": "code",
   "execution_count": 231,
   "id": "2e857260-c8cb-4cce-8bc8-7f18a6c8b7d2",
   "metadata": {},
   "outputs": [
    {
     "name": "stdout",
     "output_type": "stream",
     "text": [
      "- Oliver Hardy (a2252549-f3ad-4725-8974-183edb2548f6)\n",
      "- Stan Laurel (054c8ee1-bc7a-46e7-bc10-4dfc6eba4299)\n"
     ]
    }
   ],
   "source": [
    "for person in omcore.Person.list(kg_client, scope=\"in progress\", space=\"myspace\"):\n",
    "    print(f\"- {person.full_name} ({person.uuid})\")"
   ]
  },
  {
   "cell_type": "code",
   "execution_count": 232,
   "id": "29fcb3ad-979c-4c9f-9763-4683b13f4c11",
   "metadata": {},
   "outputs": [
    {
     "data": {
      "text/plain": [
       "('given_name', 'family_name')"
      ]
     },
     "execution_count": 232,
     "metadata": {},
     "output_type": "execute_result"
    }
   ],
   "source": [
    "omcore.Person.existence_query_properties"
   ]
  },
  {
   "cell_type": "code",
   "execution_count": null,
   "id": "0385c367-74c2-4b43-9a12-8eb5add607ef",
   "metadata": {},
   "outputs": [],
   "source": []
  }
 ],
 "metadata": {
  "kernelspec": {
   "display_name": "Python 3 (ipykernel)",
   "language": "python",
   "name": "python3"
  },
  "language_info": {
   "codemirror_mode": {
    "name": "ipython",
    "version": 3
   },
   "file_extension": ".py",
   "mimetype": "text/x-python",
   "name": "python",
   "nbconvert_exporter": "python",
   "pygments_lexer": "ipython3",
   "version": "3.9.12"
  }
 },
 "nbformat": 4,
 "nbformat_minor": 5
}
