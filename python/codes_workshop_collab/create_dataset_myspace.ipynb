{
 "cells": [
  {
   "cell_type": "code",
   "execution_count": 1,
   "id": "440ff940-92c9-48ff-af18-deefc484a5e4",
   "metadata": {},
   "outputs": [],
   "source": [
    "import fairgraph\n",
    "from fairgraph import KGClient\n",
    "kg_client = KGClient(host=\"core.kg.ebrains.eu\")"
   ]
  },
  {
   "cell_type": "code",
   "execution_count": 3,
   "id": "23bcf8f3-3128-41f1-8b48-faae46c68ba7",
   "metadata": {},
   "outputs": [],
   "source": [
    "import fairgraph.openminds.core as omcore"
   ]
  },
  {
   "cell_type": "code",
   "execution_count": 25,
   "id": "679aaf76-5704-48ff-862d-b87b15bf19c7",
   "metadata": {},
   "outputs": [
    {
     "name": "stderr",
     "output_type": "stream",
     "text": [
      "Property 'accessibility' is required but was not provided.\n",
      "Property 'data_types' is required but was not provided.\n",
      "Property 'digital_identifier' is required but was not provided.\n",
      "Property 'ethics_assessment' is required but was not provided.\n",
      "Property 'experimental_approaches' is required but was not provided.\n",
      "Property 'full_documentation' is required but was not provided.\n",
      "Property 'license' is required but was not provided.\n",
      "Property 'release_date' is required but was not provided.\n",
      "Property 'short_name' is required but was not provided.\n",
      "Property 'techniques' is required but was not provided.\n",
      "Property 'version_identifier' is required but was not provided.\n",
      "Property 'version_innovation' is required but was not provided.\n"
     ]
    }
   ],
   "source": [
    "from fairgraph.openminds.core import DatasetVersion\n",
    "dsv = DatasetVersion(\n",
    "    name=\"maya's awsome dataset\",\n",
    "    alias=\"maya trial dataset\"\n",
    ")\n",
    "dsv.save(kg_client, space=\"myspace\")"
   ]
  },
  {
   "cell_type": "code",
   "execution_count": 26,
   "id": "e4ece023-94c7-4ef5-8773-6a193fe1f96e",
   "metadata": {},
   "outputs": [
    {
     "name": "stdout",
     "output_type": "stream",
     "text": [
      "id          https://kg.ebrains.eu/api/instances/cac653c6-8a97-415e-bc80-c6f0457f01dd\n",
      "space       myspace\n",
      "type        https://openminds.ebrains.eu/core/DatasetVersion\n",
      "full_name   maya's awsome dataset\n",
      "short_name  maya trial dataset\n"
     ]
    }
   ],
   "source": [
    "dsv.show()"
   ]
  },
  {
   "cell_type": "code",
   "execution_count": 27,
   "id": "929d9eaf-e58f-4b55-9260-a7adb618ad0d",
   "metadata": {
    "collapsed": true,
    "jupyter": {
     "outputs_hidden": true
    },
    "tags": []
   },
   "outputs": [
    {
     "data": {
      "text/plain": [
       "[Property(name='accessibility', types=(<class 'fairgraph.openminds.controlled_terms.product_accessibility.ProductAccessibility'>,), path='vocab:accessibility', required=True, multiple=False),\n",
       " Property(name='authors', types=('openminds.core.Consortium', 'openminds.core.Organization', 'openminds.core.Person'), path='vocab:author', required=False, multiple=True),\n",
       " Property(name='behavioral_protocols', types=('openminds.core.BehavioralProtocol',), path='vocab:behavioralProtocol', required=False, multiple=True),\n",
       " Property(name='copyright', types=('openminds.core.Copyright',), path='vocab:copyright', required=False, multiple=False),\n",
       " Property(name='custodians', types=('openminds.core.Consortium', 'openminds.core.Organization', 'openminds.core.Person'), path='vocab:custodian', required=False, multiple=True),\n",
       " Property(name='data_types', types=(<class 'fairgraph.openminds.controlled_terms.semantic_data_type.SemanticDataType'>,), path='vocab:dataType', required=True, multiple=True),\n",
       " Property(name='description', types=(<class 'str'>,), path='vocab:description', required=False, multiple=False),\n",
       " Property(name='digital_identifier', types=(<class 'fairgraph.openminds.core.digital_identifier.doi.DOI'>, <class 'fairgraph.openminds.core.digital_identifier.identifiers_dot_org_id.IdentifiersDotOrgID'>), path='vocab:digitalIdentifier', required=True, multiple=False),\n",
       " Property(name='ethics_assessment', types=(<class 'fairgraph.openminds.controlled_terms.ethics_assessment.EthicsAssessment'>,), path='vocab:ethicsAssessment', required=True, multiple=False),\n",
       " Property(name='experimental_approaches', types=(<class 'fairgraph.openminds.controlled_terms.experimental_approach.ExperimentalApproach'>,), path='vocab:experimentalApproach', required=True, multiple=True),\n",
       " Property(name='full_documentation', types=(<class 'fairgraph.openminds.core.digital_identifier.doi.DOI'>, <class 'fairgraph.openminds.core.data.file.File'>, <class 'fairgraph.openminds.core.digital_identifier.isbn.ISBN'>, <class 'fairgraph.openminds.core.miscellaneous.web_resource.WebResource'>), path='vocab:fullDocumentation', required=True, multiple=False),\n",
       " Property(name='full_name', types=(<class 'str'>,), path='vocab:fullName', required=False, multiple=False),\n",
       " Property(name='funding', types=('openminds.core.Funding',), path='vocab:funding', required=False, multiple=True),\n",
       " Property(name='homepage', types=(<class 'fairgraph.base.IRI'>,), path='vocab:homepage', required=False, multiple=False),\n",
       " Property(name='how_to_cite', types=(<class 'str'>,), path='vocab:howToCite', required=False, multiple=False),\n",
       " Property(name='input_data', types=('openminds.core.DOI', 'openminds.core.File', 'openminds.core.FileBundle', 'openminds.core.WebResource', 'openminds.sands.BrainAtlas', 'openminds.sands.BrainAtlasVersion', 'openminds.sands.CommonCoordinateSpace', 'openminds.sands.CommonCoordinateSpaceVersion'), path='vocab:inputData', required=False, multiple=True),\n",
       " Property(name='is_alternative_version_of', types=('openminds.core.DatasetVersion',), path='vocab:isAlternativeVersionOf', required=False, multiple=True),\n",
       " Property(name='is_new_version_of', types=('openminds.core.DatasetVersion',), path='vocab:isNewVersionOf', required=False, multiple=False),\n",
       " Property(name='keywords', types=('openminds.controlled_terms.ActionStatusType', 'openminds.controlled_terms.AgeCategory', 'openminds.controlled_terms.AnalysisTechnique', 'openminds.controlled_terms.AnatomicalAxesOrientation', 'openminds.controlled_terms.AnatomicalIdentificationType', 'openminds.controlled_terms.AnatomicalPlane', 'openminds.controlled_terms.AnnotationCriteriaType', 'openminds.controlled_terms.AnnotationType', 'openminds.controlled_terms.AtlasType', 'openminds.controlled_terms.AuditoryStimulusType', 'openminds.controlled_terms.BiologicalOrder', 'openminds.controlled_terms.BiologicalProcess', 'openminds.controlled_terms.BiologicalSex', 'openminds.controlled_terms.BreedingType', 'openminds.controlled_terms.CellCultureType', 'openminds.controlled_terms.CellType', 'openminds.controlled_terms.ChemicalMixtureType', 'openminds.controlled_terms.Colormap', 'openminds.controlled_terms.ContributionType', 'openminds.controlled_terms.CranialWindowConstructionType', 'openminds.controlled_terms.CranialWindowReinforcementType', 'openminds.controlled_terms.CriteriaQualityType', 'openminds.controlled_terms.DataType', 'openminds.controlled_terms.DeviceType', 'openminds.controlled_terms.DifferenceMeasure', 'openminds.controlled_terms.Disease', 'openminds.controlled_terms.DiseaseModel', 'openminds.controlled_terms.EducationalLevel', 'openminds.controlled_terms.ElectricalStimulusType', 'openminds.controlled_terms.EthicsAssessment', 'openminds.controlled_terms.ExperimentalApproach', 'openminds.controlled_terms.FileBundleGrouping', 'openminds.controlled_terms.FileRepositoryType', 'openminds.controlled_terms.FileUsageRole', 'openminds.controlled_terms.GeneticStrainType', 'openminds.controlled_terms.GustatoryStimulusType', 'openminds.controlled_terms.Handedness', 'openminds.controlled_terms.Language', 'openminds.controlled_terms.Laterality', 'openminds.controlled_terms.LearningResourceType', 'openminds.controlled_terms.MRIPulseSequence', 'openminds.controlled_terms.MRIWeighting', 'openminds.controlled_terms.MeasuredQuantity', 'openminds.controlled_terms.MeasuredSignalType', 'openminds.controlled_terms.MetaDataModelType', 'openminds.controlled_terms.ModelAbstractionLevel', 'openminds.controlled_terms.ModelScope', 'openminds.controlled_terms.MolecularEntity', 'openminds.controlled_terms.OlfactoryStimulusType', 'openminds.controlled_terms.OperatingDevice', 'openminds.controlled_terms.OperatingSystem', 'openminds.controlled_terms.OpticalStimulusType', 'openminds.controlled_terms.Organ', 'openminds.controlled_terms.OrganismSubstance', 'openminds.controlled_terms.OrganismSystem', 'openminds.controlled_terms.PatchClampVariation', 'openminds.controlled_terms.PreparationType', 'openminds.controlled_terms.ProductAccessibility', 'openminds.controlled_terms.ProgrammingLanguage', 'openminds.controlled_terms.QualitativeOverlap', 'openminds.controlled_terms.SemanticDataType', 'openminds.controlled_terms.Service', 'openminds.controlled_terms.SetupType', 'openminds.controlled_terms.SoftwareApplicationCategory', 'openminds.controlled_terms.SoftwareFeature', 'openminds.controlled_terms.Species', 'openminds.controlled_terms.StimulationApproach', 'openminds.controlled_terms.StimulationTechnique', 'openminds.controlled_terms.SubcellularEntity', 'openminds.controlled_terms.SubjectAttribute', 'openminds.controlled_terms.TactileStimulusType', 'openminds.controlled_terms.Technique', 'openminds.controlled_terms.TermSuggestion', 'openminds.controlled_terms.Terminology', 'openminds.controlled_terms.TissueSampleAttribute', 'openminds.controlled_terms.TissueSampleType', 'openminds.controlled_terms.TypeOfUncertainty', 'openminds.controlled_terms.UBERONParcellation', 'openminds.controlled_terms.UnitOfMeasurement', 'openminds.controlled_terms.VisualStimulusType'), path='vocab:keyword', required=False, multiple=True),\n",
       " Property(name='license', types=(<class 'fairgraph.openminds.core.data.license.License'>, <class 'fairgraph.openminds.core.miscellaneous.web_resource.WebResource'>), path='vocab:license', required=True, multiple=False),\n",
       " Property(name='other_contributions', types=('openminds.core.Contribution',), path='vocab:otherContribution', required=False, multiple=True),\n",
       " Property(name='preparation_designs', types=('openminds.controlled_terms.PreparationType',), path='vocab:preparationDesign', required=False, multiple=True),\n",
       " Property(name='protocols', types=('openminds.core.Protocol',), path='vocab:protocol', required=False, multiple=True),\n",
       " Property(name='related_publications', types=('openminds.core.DOI', 'openminds.core.HANDLE', 'openminds.core.ISBN', 'openminds.core.ISSN', 'openminds.publications.Book', 'openminds.publications.Chapter', 'openminds.publications.ScholarlyArticle'), path='vocab:relatedPublication', required=False, multiple=True),\n",
       " Property(name='release_date', types=(<class 'datetime.date'>,), path='vocab:releaseDate', required=True, multiple=False),\n",
       " Property(name='repository', types=('openminds.core.FileRepository',), path='vocab:repository', required=False, multiple=False),\n",
       " Property(name='short_name', types=(<class 'str'>,), path='vocab:shortName', required=True, multiple=False),\n",
       " Property(name='studied_specimens', types=('openminds.core.Subject', 'openminds.core.SubjectGroup', 'openminds.core.TissueSample', 'openminds.core.TissueSampleCollection'), path='vocab:studiedSpecimen', required=False, multiple=True),\n",
       " Property(name='study_targets', types=('openminds.controlled_terms.AuditoryStimulusType', 'openminds.controlled_terms.BiologicalOrder', 'openminds.controlled_terms.BiologicalSex', 'openminds.controlled_terms.BreedingType', 'openminds.controlled_terms.CellCultureType', 'openminds.controlled_terms.CellType', 'openminds.controlled_terms.Disease', 'openminds.controlled_terms.DiseaseModel', 'openminds.controlled_terms.ElectricalStimulusType', 'openminds.controlled_terms.GeneticStrainType', 'openminds.controlled_terms.GustatoryStimulusType', 'openminds.controlled_terms.Handedness', 'openminds.controlled_terms.MolecularEntity', 'openminds.controlled_terms.OlfactoryStimulusType', 'openminds.controlled_terms.OpticalStimulusType', 'openminds.controlled_terms.Organ', 'openminds.controlled_terms.OrganismSubstance', 'openminds.controlled_terms.OrganismSystem', 'openminds.controlled_terms.Species', 'openminds.controlled_terms.SubcellularEntity', 'openminds.controlled_terms.TactileStimulusType', 'openminds.controlled_terms.TermSuggestion', 'openminds.controlled_terms.TissueSampleType', 'openminds.controlled_terms.UBERONParcellation', 'openminds.controlled_terms.VisualStimulusType', 'openminds.sands.CustomAnatomicalEntity', 'openminds.sands.ParcellationEntity', 'openminds.sands.ParcellationEntityVersion'), path='vocab:studyTarget', required=False, multiple=True),\n",
       " Property(name='support_channels', types=(<class 'str'>,), path='vocab:supportChannel', required=False, multiple=True),\n",
       " Property(name='techniques', types=(<class 'fairgraph.openminds.controlled_terms.analysis_technique.AnalysisTechnique'>, <class 'fairgraph.openminds.controlled_terms.mri_pulse_sequence.MRIPulseSequence'>, <class 'fairgraph.openminds.controlled_terms.mri_weighting.MRIWeighting'>, <class 'fairgraph.openminds.controlled_terms.stimulation_approach.StimulationApproach'>, <class 'fairgraph.openminds.controlled_terms.stimulation_technique.StimulationTechnique'>, <class 'fairgraph.openminds.controlled_terms.technique.Technique'>), path='vocab:technique', required=True, multiple=True),\n",
       " Property(name='version_identifier', types=(<class 'str'>,), path='vocab:versionIdentifier', required=True, multiple=False),\n",
       " Property(name='version_innovation', types=(<class 'str'>,), path='vocab:versionInnovation', required=True, multiple=False)]"
      ]
     },
     "execution_count": 27,
     "metadata": {},
     "output_type": "execute_result"
    }
   ],
   "source": [
    "dsv.properties"
   ]
  },
  {
   "cell_type": "code",
   "execution_count": 31,
   "id": "11cab2cb-8f5d-4c8e-96fe-6f1547caa3e9",
   "metadata": {},
   "outputs": [],
   "source": [
    "from fairgraph.openminds.controlled_terms import ProductAccessibility\n",
    "access_list = ProductAccessibility.list(kg_client)"
   ]
  },
  {
   "cell_type": "code",
   "execution_count": 32,
   "id": "39ce4d8e-5b8b-4273-8437-24d709a4b553",
   "metadata": {},
   "outputs": [
    {
     "name": "stdout",
     "output_type": "stream",
     "text": [
      "retracted\n",
      "restricted access\n",
      "paid access\n",
      "under embargo\n",
      "free access\n",
      "controlled access\n"
     ]
    }
   ],
   "source": [
    "for i in access_list:\n",
    "    print(i.name)"
   ]
  },
  {
   "cell_type": "code",
   "execution_count": 33,
   "id": "dcc40bdc-6d32-4cd8-8a68-39664c6b5de3",
   "metadata": {},
   "outputs": [],
   "source": [
    "dsv.accessibility = ProductAccessibility(name='under embargo')"
   ]
  },
  {
   "cell_type": "code",
   "execution_count": 38,
   "id": "0172aae5-635e-4ef1-aa9c-ed230b4a627d",
   "metadata": {
    "collapsed": true,
    "jupyter": {
     "outputs_hidden": true
    },
    "tags": []
   },
   "outputs": [
    {
     "name": "stderr",
     "output_type": "stream",
     "text": [
      "Property 'data_types' is required but was not provided.\n",
      "Property 'digital_identifier' is required but was not provided.\n",
      "Property 'ethics_assessment' is required but was not provided.\n",
      "Property 'experimental_approaches' is required but was not provided.\n",
      "Property 'full_documentation' is required but was not provided.\n",
      "Property 'license' is required but was not provided.\n",
      "Property 'release_date' is required but was not provided.\n",
      "Property 'techniques' is required but was not provided.\n",
      "Property 'version_identifier' is required but was not provided.\n",
      "Property 'version_innovation' is required but was not provided.\n"
     ]
    },
    {
     "name": "stdout",
     "output_type": "stream",
     "text": [
      "id             https://kg.ebrains.eu/api/instances/cac653c6-8a97-415e-bc80-c6f0457f01dd\n",
      "space          myspace\n",
      "type           https://openminds.ebrains.eu/core/DatasetVersion\n",
      "accessibility  ProductAccessibility(definition=\"With 'under embargo' selected, metadata are released, but data remain unavailable for the public until the embargo is lifted.\", name='under embargo', describes=KGQuery([<class 'fairgraph.openminds.computation.validation_test_version.ValidationTestVersion'>, <class 'fairgraph.openminds.computation.workflow_recipe_version.WorkflowRecipeVersion'>, <class 'fairgraph.openminds.core.products.dataset_version.DatasetVersion'>, <class 'fairgraph.openminds.core.products.meta_data_model_version.MetaDataModelVersion'>, <class 'fairgraph.openminds.core.products.model_version.ModelVersion'>, <class 'fairgraph.openminds.core.products.software_version.SoftwareVersion'>, <class 'fairgraph.openminds.core.products.web_service_version.WebServiceVersion'>, <class 'fairgraph.openminds.publications.book.Book'>, <class 'fairgraph.openminds.publications.chapter.Chapter'>, <class 'fairgraph.openminds.publications.learning_resource.LearningResource'>, <class 'fairgraph.openminds.publications.live_paper_version.LivePaperVersion'>, <class 'fairgraph.openminds.publications.scholarly_article.ScholarlyArticle'>, <class 'fairgraph.openminds.sands.atlas.brain_atlas_version.BrainAtlasVersion'>, <class 'fairgraph.openminds.sands.atlas.common_coordinate_space_version.CommonCoordinateSpaceVersion'>], {'keywords': 'https://kg.ebrains.eu/api/instances/897dc2af-405d-4df3-9152-6d9e5cae55d8'}), space=controlled, id=https://kg.ebrains.eu/api/instances/897dc2af-405d-4df3-9152-6d9e5cae55d8)\n",
      "full_name      maya's awsome dataset\n",
      "short_name     maya trial dataset\n"
     ]
    }
   ],
   "source": [
    "dsv.save(kg_client)\n",
    "dsv.show()"
   ]
  },
  {
   "cell_type": "code",
   "execution_count": 45,
   "id": "c6af9a22-8d85-4fca-a235-46246f5d5b3b",
   "metadata": {
    "tags": []
   },
   "outputs": [
    {
     "data": {
      "text/plain": [
       "'under embargo'"
      ]
     },
     "execution_count": 45,
     "metadata": {},
     "output_type": "execute_result"
    }
   ],
   "source": [
    "dsv.accessibility.name"
   ]
  },
  {
   "cell_type": "code",
   "execution_count": 40,
   "id": "27957397-731a-475e-be4a-bda65f6800c7",
   "metadata": {},
   "outputs": [
    {
     "data": {
      "text/plain": [
       "('short_name', 'version_identifier')"
      ]
     },
     "execution_count": 40,
     "metadata": {},
     "output_type": "execute_result"
    }
   ],
   "source": [
    "DatasetVersion.existence_query_properties"
   ]
  },
  {
   "cell_type": "code",
   "execution_count": 46,
   "id": "baf1ae84-4887-45b6-8f31-45be24b77699",
   "metadata": {
    "tags": []
   },
   "outputs": [
    {
     "data": {
      "text/plain": [
       "'maya trial dataset'"
      ]
     },
     "execution_count": 46,
     "metadata": {},
     "output_type": "execute_result"
    }
   ],
   "source": [
    "dsv.short_name"
   ]
  },
  {
   "cell_type": "code",
   "execution_count": 47,
   "id": "31c2bfbf-2e58-4caf-8275-d25caf9d6946",
   "metadata": {},
   "outputs": [],
   "source": [
    "dsv.version_identifier = 'version number 1'"
   ]
  },
  {
   "cell_type": "code",
   "execution_count": 48,
   "id": "55da8581-1b5d-496b-959b-fa38523f22f5",
   "metadata": {},
   "outputs": [
    {
     "name": "stderr",
     "output_type": "stream",
     "text": [
      "Property 'data_types' is required but was not provided.\n",
      "Property 'digital_identifier' is required but was not provided.\n",
      "Property 'ethics_assessment' is required but was not provided.\n",
      "Property 'experimental_approaches' is required but was not provided.\n",
      "Property 'full_documentation' is required but was not provided.\n",
      "Property 'license' is required but was not provided.\n",
      "Property 'release_date' is required but was not provided.\n",
      "Property 'techniques' is required but was not provided.\n",
      "Property 'version_innovation' is required but was not provided.\n"
     ]
    },
    {
     "name": "stdout",
     "output_type": "stream",
     "text": [
      "id                  https://kg.ebrains.eu/api/instances/cac653c6-8a97-415e-bc80-c6f0457f01dd\n",
      "space               myspace\n",
      "type                https://openminds.ebrains.eu/core/DatasetVersion\n",
      "accessibility       ProductAccessibility(definition=\"With 'under embargo' selected, metadata are released, but data remain unavailable for the public until the embargo is lifted.\", name='under embargo', describes=KGQuery([<class 'fairgraph.openminds.computation.validation_test_version.ValidationTestVersion'>, <class 'fairgraph.openminds.computation.workflow_recipe_version.WorkflowRecipeVersion'>, <class 'fairgraph.openminds.core.products.dataset_version.DatasetVersion'>, <class 'fairgraph.openminds.core.products.meta_data_model_version.MetaDataModelVersion'>, <class 'fairgraph.openminds.core.products.model_version.ModelVersion'>, <class 'fairgraph.openminds.core.products.software_version.SoftwareVersion'>, <class 'fairgraph.openminds.core.products.web_service_version.WebServiceVersion'>, <class 'fairgraph.openminds.publications.book.Book'>, <class 'fairgraph.openminds.publications.chapter.Chapter'>, <class 'fairgraph.openminds.publications.learning_resource.LearningResource'>, <class 'fairgraph.openminds.publications.live_paper_version.LivePaperVersion'>, <class 'fairgraph.openminds.publications.scholarly_article.ScholarlyArticle'>, <class 'fairgraph.openminds.sands.atlas.brain_atlas_version.BrainAtlasVersion'>, <class 'fairgraph.openminds.sands.atlas.common_coordinate_space_version.CommonCoordinateSpaceVersion'>], {'keywords': 'https://kg.ebrains.eu/api/instances/897dc2af-405d-4df3-9152-6d9e5cae55d8'}), space=controlled, id=https://kg.ebrains.eu/api/instances/897dc2af-405d-4df3-9152-6d9e5cae55d8)\n",
      "full_name           maya's awsome dataset\n",
      "short_name          maya trial dataset\n",
      "version_identifier  version number 1\n"
     ]
    }
   ],
   "source": [
    "dsv.save(kg_client)\n",
    "dsv.show()"
   ]
  },
  {
   "cell_type": "code",
   "execution_count": 52,
   "id": "3950fe5b-3e59-4027-aa17-298962632a43",
   "metadata": {
    "collapsed": true,
    "jupyter": {
     "outputs_hidden": true
    },
    "tags": []
   },
   "outputs": [
    {
     "name": "stdout",
     "output_type": "stream",
     "text": [
      "School of Psychology, University of East Anglia, Norwich, UK\n",
      "Institute of Biology, Humboldt Universität zu Berlin, Germany\n",
      "Departments of Chemistry, Molecular & Cell Biology, and Helen Wills Neuroscience Institute, University of California, Berkeley, CA, USA\n",
      "Faculty of Information Technology and Bionics, Pázmány Péter Catholic University, Budapest, Hungary\n",
      "Science for Life Laboratory, School of Electrical Engineering and Computer Science, Royal Institute of Technology, Stockholm, Sweden\n",
      "\n",
      "Swiss Federal Institute of Technology in Zurich\n",
      "Department of Physics of Complex Systems, Weizmann Institute of Science, Rehovot, Israel\n",
      "Max Planck Institute for Dynamics and Self-Organization\n",
      "Sapienza University of Rome\n",
      "École Polytechnique Fédérale de Lausanne\n",
      "Aix-Marseille University\n",
      "CodeMart\n",
      "Department of Neurobiology, RWTH Aachen University, Aachen, Germany\n",
      "Athena Research and Innovation Center\n",
      "Max Planck Institute for Human Cognitive and Brain Sciences, Leipzig, Germany\n",
      "Laboratory for Neuro- and Psychophysiology\n",
      "EPAD Consortium\n",
      "Department of Computer Science, Stanford University, Stanford, CA, USA\n",
      "Molecular Visual Plasticity Group, Netherlands Institute for Neuroscience, Royal Netherlands Academy of Arts and Sciences, Amsterdam, the Netherlands\n",
      "Biomedical Center, Ludwig-Maximilians-Universität München, Germany\n",
      "Seventh framework programme of the European Community for research and technological development\n",
      "Department of Human Biology, Neuroscience Institute, University of Cape Town, Cape Town, South Africa\n",
      "Institute for Neuroscience and Medicine (INM-11), Forschungszentrum Jülich, Jülich, Germany\n",
      "Ruprecht-Karls University Heidelberg\n",
      "Institute of Neuroinformatics, University of Zurich and ETH Zurich, Zurich, Switzerland\n",
      "Department of Neurobiology, Hebrew University of Jerusalem, Jerusalem, Israel\n",
      "Department of Physics, RWTH Aachen University, Aachen, Germany\n",
      "National Institute of Biomedical Imaging and Bioengineering, National Institutes of Health, Bethesda, MD, USA\n",
      "Computational Neuroscience Group, Center for Brain and Cognition, Universitat Pompeu Fabra, Barcelona, Spain\n",
      "Center for Behavioral Brain Sciences (CBBS), Magdeburg, Germany\n",
      "Catalan Institution for Research and Advanced Studies, Barcelona, Spain\n",
      "University of Palermo\n",
      "\n",
      "Ruprecht-Karls University Heidelberg\n",
      "Blue Brain Project, École Polytechnique Fédérale de Lausanne, Geneva, Switzerland\n",
      "Department of Physics, SUNY Albany, NY, USA\n",
      "Molecular and Cellular Modeling Group, Heidelberg Institute for Theoretical Studies (HITS), Heidelberg, Germany\n",
      "New Jersey Institute of Technology\n",
      "Institute of Molecular and Cellular Pharmacology, CNRS, UMR7275, Université Côte d’Azur, Valbonne, France\n",
      "Department of Chemistry and Biochemistry, Department of Physiology, and California NanoSystems Institute, University of California Los Angeles, Los Angeles, CA, USA\n",
      "\n",
      "Tel Aviv University\n",
      "Inria Saclay - Île-de-France Research Centre\n",
      "Institute of Molecular Life Sciences, University of Zurich, Zurich, Switzerland\n",
      "Institute Biomedical Research Networking Center in Bioengineering, Biomaterials, and Nanomedicine (CIBER-BBN), Madrid, Spain\n",
      "French National Centre for Scientific Research\n",
      "Brainstorm Team\n",
      "Brain Signalling Group, Department of Physiology, Institute of Basic Medicine, University of Oslo, Norway\n",
      "L'Ecole Normale Supérieure, Institute of Biology (IBENS), Paris Sciences et Lettres (PSL), CNRS UMR 8197, Inserm 1024, Paris, France\n",
      "University of Naples Federico II\n",
      "University of Manchester\n",
      "Institute of Biophysics, National Research Council, Palermo, Italy\n",
      "Department of Biophysics, Lomonosov Moscow State University, Russia\n",
      "Laboratorio Cajal de Circuitos Corticales (CTB), Universidad Politécnica de Madrid, Madrid, Spain\n",
      "Department of Molecular Medicine, University of Pavia, Italy\n",
      "Institut d'Investigacions Biomèdiques August Pi i Sunyer (IDIBAPS), Barcelona, Spain\n",
      "Technische Universität Dresden (de)\n",
      "The Research Council of Norway\n",
      "Department of Biology, SUNY Albany, NY, USA\n",
      "UCL School of Pharmacy, University College London, London, UK\n",
      "MBF Biosience\n",
      "Brain Connectivity Center, IRCCS Mondino Foundation, Pavia, Italy\n",
      "Ruprecht-Karls University Heidelberg\n",
      "Scuola Superiore Meridionale, Napoli, Italy\n",
      "Department of Mathematics and Informatics, University of Palermo, Italy\n",
      "Universidad Complutense de Madrid\n",
      "University of Montreal\n",
      "BioMed X Innovation Center\n",
      "Biomedical Institute for Bioengineering of Catalonia (IBEC), Barcelona Institute of Science and Technology, Spain\n",
      "Centre for Research Ethics and Bioethics, Uppsala University, Uppsala, Sweden\n",
      "European Commission\n",
      "Dr. Eyal Bressler & Co.\n",
      "Imaging Centre for Excellence, Queen Elizabeth University Hospital, University of Glasgow, UK\n",
      "State University of New York\n",
      "Departamento de Neurobiología Funcional y de Sistemas, Instituto Cajal, Madrid, Spain\n",
      "Department of Anatomy and Neuroscience, School of Medicine, Universidad Autónoma de Madrid, Spain\n",
      "Zuckerman Mind Brain Behavior Institute, Columbia University, New York, USA\n",
      "CMI Lab, Department of Computing Science and Mathematics, University of Stirling, UK\n",
      "Barcelona Supercomputing Center\n",
      "Federal University of São Paulo, Department of Biochemistry, São Paulo, Brazil\n",
      "Computational Neurophysiology Lab, Department of Biosciences and Bioengineering, Indian Institute of Technology Bombay, Mumbai, India\n",
      "Politecnico di Milano\n",
      "Institute of Physiology, Otto-von-Guericke-University, Medical Faculty, Magdeburg, Germany\n",
      "Universidad Católica Luis Amigó\n",
      "Department of Anesthesia and Intensive Care Medicine, Liège University Hospital, Belgium\n",
      "Intel Corporation\n",
      "Universidad Politécnica de Madrid\n",
      "Vision Institute, Paris, France\n",
      "ALIS, French Association of Locked-in Syndrome, Boulogne-Billancourt, France\n",
      "Paris-Saclay Institute of Neuroscience, Centre National de la Recherche Scientifique, Université Paris-Saclay, Saclay, France\n",
      "Institute for Advanced Simulation (IAS-6), Forschungszentrum Jülich\n",
      "Department of Molecular and Cellular Neurobiology, Center for Neurogenomics and Cognitive Research, VU University, Amsterdam, the Netherlands\n",
      "Interdisciplinary Center for Scientific Computing (IWR), Heidelberg University, Heidelberg, Germany\n",
      "Jupyter Project\n",
      "Department of Integrative Neurophysiology, Centre for Neurogenomics and Cognitive Research, VU University Amsterdam, the Netherlands\n",
      "Neurocure Center for Excellence, Charité Universitätsmedizin Berlin & Humboldt Universität, Germany\n",
      "GIGA-Consciousness, Coma Science Group, University of Liège, Belgium\n",
      "Scuola Normale Superiore di Pisa\n",
      "Inria, CEA, Université Paris-Saclay, France\n"
     ]
    }
   ],
   "source": [
    "from fairgraph.openminds.core import Organization\n",
    "organizations = Organization.list(kg_client)\n",
    "for i in organizations: \n",
    "    print(i.name)"
   ]
  },
  {
   "cell_type": "code",
   "execution_count": 57,
   "id": "ba787638-2e8a-4891-bc28-4e9ee82771f7",
   "metadata": {},
   "outputs": [
    {
     "data": {
      "text/plain": [
       "[Property(name='affiliations', types=(<class 'fairgraph.openminds.core.actors.affiliation.Affiliation'>,), path='vocab:affiliation', required=False, multiple=True),\n",
       " Property(name='digital_identifiers', types=(<class 'fairgraph.openminds.core.digital_identifier.gridid.GRIDID'>, <class 'fairgraph.openminds.core.digital_identifier.rorid.RORID'>, <class 'fairgraph.openminds.core.digital_identifier.rrid.RRID'>), path='vocab:digitalIdentifier', required=False, multiple=True),\n",
       " Property(name='full_name', types=(<class 'str'>,), path='vocab:fullName', required=True, multiple=False),\n",
       " Property(name='has_parents', types=(<class 'fairgraph.openminds.core.actors.organization.Organization'>,), path='vocab:hasParent', required=False, multiple=True),\n",
       " Property(name='homepage', types=(<class 'fairgraph.base.IRI'>,), path='vocab:homepage', required=False, multiple=False),\n",
       " Property(name='short_name', types=(<class 'str'>,), path='vocab:shortName', required=False, multiple=False)]"
      ]
     },
     "execution_count": 57,
     "metadata": {},
     "output_type": "execute_result"
    }
   ],
   "source": [
    "Organization.properties"
   ]
  },
  {
   "cell_type": "code",
   "execution_count": 64,
   "id": "872e83c1-45ac-474a-bb16-d6eb17bc2e8a",
   "metadata": {},
   "outputs": [
    {
     "name": "stderr",
     "output_type": "stream",
     "text": [
      "Property 'data_types' is required but was not provided.\n",
      "Property 'digital_identifier' is required but was not provided.\n",
      "Property 'ethics_assessment' is required but was not provided.\n",
      "Property 'experimental_approaches' is required but was not provided.\n",
      "Property 'full_documentation' is required but was not provided.\n",
      "Property 'license' is required but was not provided.\n",
      "Property 'release_date' is required but was not provided.\n",
      "Property 'techniques' is required but was not provided.\n",
      "Property 'version_innovation' is required but was not provided.\n"
     ]
    }
   ],
   "source": [
    "dsv.authors = omcore.Organization(full_name='École Polytechnique Fédérale de Lausanne')\n",
    "dsv.save(kg_client)"
   ]
  },
  {
   "cell_type": "code",
   "execution_count": 65,
   "id": "319e87b9-94b6-4ddb-af60-872d3b4d3c25",
   "metadata": {
    "tags": []
   },
   "outputs": [
    {
     "name": "stdout",
     "output_type": "stream",
     "text": [
      "id                  https://kg.ebrains.eu/api/instances/cac653c6-8a97-415e-bc80-c6f0457f01dd\n",
      "space               myspace\n",
      "type                https://openminds.ebrains.eu/core/DatasetVersion\n",
      "accessibility       ProductAccessibility(definition=\"With 'under embargo' selected, metadata are released, but data remain unavailable for the public until the embargo is lifted.\", name='under embargo', describes=KGQuery([<class 'fairgraph.openminds.computation.validation_test_version.ValidationTestVersion'>, <class 'fairgraph.openminds.computation.workflow_recipe_version.WorkflowRecipeVersion'>, <class 'fairgraph.openminds.core.products.dataset_version.DatasetVersion'>, <class 'fairgraph.openminds.core.products.meta_data_model_version.MetaDataModelVersion'>, <class 'fairgraph.openminds.core.products.model_version.ModelVersion'>, <class 'fairgraph.openminds.core.products.software_version.SoftwareVersion'>, <class 'fairgraph.openminds.core.products.web_service_version.WebServiceVersion'>, <class 'fairgraph.openminds.publications.book.Book'>, <class 'fairgraph.openminds.publications.chapter.Chapter'>, <class 'fairgraph.openminds.publications.learning_resource.LearningResource'>, <class 'fairgraph.openminds.publications.live_paper_version.LivePaperVersion'>, <class 'fairgraph.openminds.publications.scholarly_article.ScholarlyArticle'>, <class 'fairgraph.openminds.sands.atlas.brain_atlas_version.BrainAtlasVersion'>, <class 'fairgraph.openminds.sands.atlas.common_coordinate_space_version.CommonCoordinateSpaceVersion'>], {'keywords': 'https://kg.ebrains.eu/api/instances/897dc2af-405d-4df3-9152-6d9e5cae55d8'}), space=controlled, id=https://kg.ebrains.eu/api/instances/897dc2af-405d-4df3-9152-6d9e5cae55d8)\n",
      "authors             Organization(full_name='École Polytechnique Fédérale de Lausanne', space=None, id=https://kg.ebrains.eu/api/instances/c1df793f-c17f-4355-8d25-6e1cbdc8ecb7)\n",
      "full_name           maya's awsome dataset\n",
      "short_name          maya trial dataset\n",
      "version_identifier  version number 1\n"
     ]
    }
   ],
   "source": [
    "dsv.show()"
   ]
  },
  {
   "cell_type": "code",
   "execution_count": 66,
   "id": "cbfdcb5d-3e18-47e9-9eed-d6385ad7e625",
   "metadata": {
    "tags": []
   },
   "outputs": [
    {
     "data": {
      "text/plain": [
       "Organization(full_name='École Polytechnique Fédérale de Lausanne', space=None, id=https://kg.ebrains.eu/api/instances/c1df793f-c17f-4355-8d25-6e1cbdc8ecb7)"
      ]
     },
     "execution_count": 66,
     "metadata": {},
     "output_type": "execute_result"
    }
   ],
   "source": [
    "dsv.authors.resolve(kg_client)"
   ]
  },
  {
   "cell_type": "code",
   "execution_count": 7,
   "id": "80fb5f5a-2989-4e65-9f93-26493fcfcb36",
   "metadata": {},
   "outputs": [
    {
     "name": "stderr",
     "output_type": "stream",
     "text": [
      "Property 'accessibility' is required but was not provided.\n",
      "Property 'application_categories' is required but was not provided.\n",
      "Property 'devices' is required but was not provided.\n",
      "Property 'features' is required but was not provided.\n",
      "Property 'full_documentation' is required but was not provided.\n",
      "Property 'languages' is required but was not provided.\n",
      "Property 'licenses' is required but was not provided.\n",
      "Property 'operating_systems' is required but was not provided.\n",
      "Property 'programming_languages' is required but was not provided.\n",
      "Property 'release_date' is required but was not provided.\n",
      "Property 'short_name' is required but was not provided.\n",
      "Property 'version_innovation' is required but was not provided.\n"
     ]
    }
   ],
   "source": [
    "from fairgraph.openminds.core import SoftwareVersion\n",
    "\n",
    "sv = SoftwareVersion(\n",
    "    name=\"numpy\",\n",
    "    alias=\"numpy\",\n",
    "    version_identifier=\"1.14.9\"\n",
    ")\n",
    "sv.save(kg_client, space=\"myspace\")"
   ]
  },
  {
   "cell_type": "code",
   "execution_count": 13,
   "id": "f94d151e-b7da-4161-93af-d3e814ac17cc",
   "metadata": {
    "collapsed": true,
    "jupyter": {
     "outputs_hidden": true
    },
    "tags": []
   },
   "outputs": [
    {
     "name": "stdout",
     "output_type": "stream",
     "text": [
      "Help on class IRI in module fairgraph.base:\n",
      "\n",
      "class IRI(builtins.object)\n",
      " |  IRI(value: 'Union[str, IRI]')\n",
      " |  \n",
      " |  Methods defined here:\n",
      " |  \n",
      " |  __eq__(self, other)\n",
      " |      Return self==value.\n",
      " |  \n",
      " |  __init__(self, value: 'Union[str, IRI]')\n",
      " |      Initialize self.  See help(type(self)) for accurate signature.\n",
      " |  \n",
      " |  __repr__(self)\n",
      " |      Return repr(self).\n",
      " |  \n",
      " |  __str__(self)\n",
      " |      Return str(self).\n",
      " |  \n",
      " |  to_jsonld(self)\n",
      " |  \n",
      " |  ----------------------------------------------------------------------\n",
      " |  Data descriptors defined here:\n",
      " |  \n",
      " |  __dict__\n",
      " |      dictionary for instance variables\n",
      " |  \n",
      " |  __weakref__\n",
      " |      list of weak references to the object\n",
      " |  \n",
      " |  ----------------------------------------------------------------------\n",
      " |  Data and other attributes defined here:\n",
      " |  \n",
      " |  __hash__ = None\n",
      "\n"
     ]
    }
   ],
   "source": [
    "help(fairgraph.base.IRI)"
   ]
  },
  {
   "cell_type": "code",
   "execution_count": 15,
   "id": "ce5f3d3e-6b13-4454-a4b9-24c1d55440f5",
   "metadata": {},
   "outputs": [
    {
     "name": "stderr",
     "output_type": "stream",
     "text": [
      "Property 'accessibility' is required but was not provided.\n",
      "Property 'application_categories' is required but was not provided.\n",
      "Property 'devices' is required but was not provided.\n",
      "Property 'features' is required but was not provided.\n",
      "Property 'full_documentation' is required but was not provided.\n",
      "Property 'languages' is required but was not provided.\n",
      "Property 'licenses' is required but was not provided.\n",
      "Property 'operating_systems' is required but was not provided.\n",
      "Property 'programming_languages' is required but was not provided.\n",
      "Property 'release_date' is required but was not provided.\n",
      "Property 'version_innovation' is required but was not provided.\n"
     ]
    }
   ],
   "source": [
    "from fairgraph.base import IRI\n",
    "\n",
    "sv.homepage = IRI(\"https://numpy.org\")\n",
    "sv.save(kg_client)"
   ]
  },
  {
   "cell_type": "code",
   "execution_count": 16,
   "id": "aba4b37d-0e45-4bd6-8e7e-84118de9a260",
   "metadata": {},
   "outputs": [
    {
     "name": "stderr",
     "output_type": "stream",
     "text": [
      "Property 'programming_languages' should be of type (<class 'fairgraph.openminds.controlled_terms.programming_language.ProgrammingLanguage'>,), not <class 'str'>\n",
      "Property 'programming_languages' should be of type (<class 'fairgraph.openminds.controlled_terms.programming_language.ProgrammingLanguage'>,), not <class 'str'>\n",
      "Property 'programming_languages' should be of type (<class 'fairgraph.openminds.controlled_terms.programming_language.ProgrammingLanguage'>,), not <class 'str'>\n",
      "Property 'programming_languages' should be of type (<class 'fairgraph.openminds.controlled_terms.programming_language.ProgrammingLanguage'>,), not <class 'str'>\n",
      "Property 'programming_languages' should be of type (<class 'fairgraph.openminds.controlled_terms.programming_language.ProgrammingLanguage'>,), not <class 'str'>\n",
      "Property 'programming_languages' should be of type (<class 'fairgraph.openminds.controlled_terms.programming_language.ProgrammingLanguage'>,), not <class 'str'>\n",
      "Property 'accessibility' is required but was not provided.\n",
      "Property 'application_categories' is required but was not provided.\n",
      "Property 'devices' is required but was not provided.\n",
      "Property 'features' is required but was not provided.\n",
      "Property 'full_documentation' is required but was not provided.\n",
      "Property 'languages' is required but was not provided.\n",
      "Property 'licenses' is required but was not provided.\n",
      "Property 'operating_systems' is required but was not provided.\n",
      "Property 'release_date' is required but was not provided.\n",
      "Property 'version_innovation' is required but was not provided.\n"
     ]
    }
   ],
   "source": [
    "sv.programming_languages = 'python'\n",
    "sv.save(kg_client)"
   ]
  },
  {
   "cell_type": "code",
   "execution_count": 17,
   "id": "3cdca8ae-244b-4d68-81bb-cdfeac126970",
   "metadata": {},
   "outputs": [],
   "source": [
    "from fairgraph.openminds.controlled_terms import ProgrammingLanguage\n"
   ]
  },
  {
   "cell_type": "code",
   "execution_count": 21,
   "id": "0a3697ab-ea06-4dbb-ba60-55fbefbdadd1",
   "metadata": {
    "tags": []
   },
   "outputs": [],
   "source": [
    "languages = ProgrammingLanguage.list(kg_client)"
   ]
  },
  {
   "cell_type": "code",
   "execution_count": 22,
   "id": "27359730-0412-4c58-8217-83001bc932c3",
   "metadata": {
    "collapsed": true,
    "jupyter": {
     "outputs_hidden": true
    },
    "tags": []
   },
   "outputs": [
    {
     "name": "stdout",
     "output_type": "stream",
     "text": [
      "JavaScript\n",
      "C#\n",
      "C++\n",
      "IGOR Pro\n",
      "Scala\n",
      "GLSL\n",
      "Python\n",
      "Pascal\n",
      "TypeScript\n",
      "Ruby\n",
      "HTML\n",
      "R\n",
      "Fortran\n",
      "Shell\n",
      "C\n",
      "AMPL\n",
      "PHP\n",
      "T-SQL\n",
      "Bash\n",
      "MATLAB\n",
      "AMPL\n",
      "Java\n"
     ]
    }
   ],
   "source": [
    "for i in languages:\n",
    "    print(i.resolve(kg_client).name)"
   ]
  },
  {
   "cell_type": "code",
   "execution_count": 23,
   "id": "3294435c-4528-47ad-a18b-2f523dbd3c42",
   "metadata": {},
   "outputs": [
    {
     "name": "stderr",
     "output_type": "stream",
     "text": [
      "Property 'accessibility' is required but was not provided.\n",
      "Property 'application_categories' is required but was not provided.\n",
      "Property 'devices' is required but was not provided.\n",
      "Property 'features' is required but was not provided.\n",
      "Property 'full_documentation' is required but was not provided.\n",
      "Property 'languages' is required but was not provided.\n",
      "Property 'licenses' is required but was not provided.\n",
      "Property 'operating_systems' is required but was not provided.\n",
      "Property 'release_date' is required but was not provided.\n",
      "Property 'version_innovation' is required but was not provided.\n"
     ]
    }
   ],
   "source": [
    "sv.programming_languages = ProgrammingLanguage(name='Python')\n",
    "sv.save(kg_client)"
   ]
  },
  {
   "cell_type": "code",
   "execution_count": 24,
   "id": "277ab2f9-8b79-44e4-bda3-351120b79aac",
   "metadata": {
    "collapsed": true,
    "jupyter": {
     "outputs_hidden": true
    },
    "tags": []
   },
   "outputs": [
    {
     "name": "stdout",
     "output_type": "stream",
     "text": [
      "id                     https://kg.ebrains.eu/api/instances/becc4c53-ff1c-47fa-8cc4-03424c09db3d\n",
      "space                  myspace\n",
      "type                   https://openminds.ebrains.eu/core/SoftwareVersion\n",
      "full_name              numpy\n",
      "homepage               https://numpy.org\n",
      "programming_languages  ProgrammingLanguage(name='Python', preferred_ontology_identifier=IRI(https://www.wikidata.org/entity/Q28865), describes=KGQuery([<class 'fairgraph.openminds.computation.validation_test_version.ValidationTestVersion'>, <class 'fairgraph.openminds.computation.workflow_recipe_version.WorkflowRecipeVersion'>, <class 'fairgraph.openminds.core.products.dataset_version.DatasetVersion'>, <class 'fairgraph.openminds.core.products.meta_data_model_version.MetaDataModelVersion'>, <class 'fairgraph.openminds.core.products.model_version.ModelVersion'>, <class 'fairgraph.openminds.core.products.web_service_version.WebServiceVersion'>, <class 'fairgraph.openminds.publications.book.Book'>, <class 'fairgraph.openminds.publications.chapter.Chapter'>, <class 'fairgraph.openminds.publications.learning_resource.LearningResource'>, <class 'fairgraph.openminds.publications.live_paper_version.LivePaperVersion'>, <class 'fairgraph.openminds.publications.scholarly_article.ScholarlyArticle'>, <class 'fairgraph.openminds.sands.atlas.brain_atlas_version.BrainAtlasVersion'>, <class 'fairgraph.openminds.sands.atlas.common_coordinate_space_version.CommonCoordinateSpaceVersion'>], {'keywords': 'https://kg.ebrains.eu/api/instances/553d1f34-1434-4222-9b38-f9d5803a0fe7'}), used_in=KGQuery([<class 'fairgraph.openminds.core.products.software_version.SoftwareVersion'>], {'programming_languages': 'https://kg.ebrains.eu/api/instances/553d1f34-1434-4222-9b38-f9d5803a0fe7'}), space=controlled, id=https://kg.ebrains.eu/api/instances/553d1f34-1434-4222-9b38-f9d5803a0fe7)\n",
      "short_name             numpy\n",
      "version_identifier     1.14.9\n"
     ]
    }
   ],
   "source": [
    "sv.show()"
   ]
  },
  {
   "cell_type": "code",
   "execution_count": null,
   "id": "e201e108-3612-4070-9758-0b2a1e33a83f",
   "metadata": {},
   "outputs": [],
   "source": []
  }
 ],
 "metadata": {
  "kernelspec": {
   "display_name": "Python 3 (ipykernel)",
   "language": "python",
   "name": "python3"
  },
  "language_info": {
   "codemirror_mode": {
    "name": "ipython",
    "version": 3
   },
   "file_extension": ".py",
   "mimetype": "text/x-python",
   "name": "python",
   "nbconvert_exporter": "python",
   "pygments_lexer": "ipython3",
   "version": "3.11.10"
  }
 },
 "nbformat": 4,
 "nbformat_minor": 5
}
