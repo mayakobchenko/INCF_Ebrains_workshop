{
 "cells": [
  {
   "cell_type": "markdown",
   "id": "2c95dbe1-f19c-4761-831f-9f47c408fbbd",
   "metadata": {
    "jupyter": {
     "outputs_hidden": true
    },
    "tags": []
   },
   "source": [
    "This notebook helps you find metadata using FairGraph (https://fairgraph.readthedocs.io/en/latest/).\n",
    "\n",
    "Create a folder and copy paste this notebook in your folder and run the code from there"
   ]
  },
  {
   "cell_type": "code",
   "execution_count": null,
   "id": "4baa690b-e373-4dcb-92d2-205bfa55297e",
   "metadata": {},
   "outputs": [],
   "source": [
    "pip install fairgraph"
   ]
  },
  {
   "cell_type": "code",
   "execution_count": 2,
   "id": "753a8fc3-4c1e-4043-80a6-744028b7257d",
   "metadata": {},
   "outputs": [],
   "source": [
    "from fairgraph import KGClient\n",
    "client = KGClient(host=\"core.kg.ebrains.eu\")"
   ]
  },
  {
   "cell_type": "code",
   "execution_count": null,
   "id": "8a2c1e7f-bce6-45a3-b852-f2423604c624",
   "metadata": {},
   "outputs": [],
   "source": []
  }
 ],
 "metadata": {
  "kernelspec": {
   "display_name": "Python 3 (ipykernel)",
   "language": "python",
   "name": "python3"
  },
  "language_info": {
   "codemirror_mode": {
    "name": "ipython",
    "version": 3
   },
   "file_extension": ".py",
   "mimetype": "text/x-python",
   "name": "python",
   "nbconvert_exporter": "python",
   "pygments_lexer": "ipython3",
   "version": "3.11.10"
  }
 },
 "nbformat": 4,
 "nbformat_minor": 5
}
