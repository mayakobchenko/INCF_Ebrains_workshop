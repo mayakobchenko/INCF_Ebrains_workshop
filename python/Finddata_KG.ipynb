{
 "cells": [
  {
   "cell_type": "markdown",
   "id": "9d314290-f1db-487c-8f42-fc61bcead59a",
   "metadata": {},
   "source": [
    "Add your query below"
   ]
  },
  {
   "cell_type": "code",
   "execution_count": 3,
   "id": "76102604-d4a2-4609-80b7-6d3d9f8aef53",
   "metadata": {},
   "outputs": [
    {
     "name": "stdout",
     "output_type": "stream",
     "text": [
      "Defaulting to user installation because normal site-packages is not writeable\n",
      "Collecting ebrains-kg-core\n",
      "  Downloading ebrains_kg_core-0.9.20-py3-none-any.whl (20 kB)\n",
      "Collecting pydantic\n",
      "  Downloading pydantic-2.11.7-py3-none-any.whl (444 kB)\n",
      "Requirement already satisfied: requests in c:\\anaconda3\\lib\\site-packages (from ebrains-kg-core) (2.27.1)\n",
      "Collecting annotated-types>=0.6.0\n",
      "  Downloading annotated_types-0.7.0-py3-none-any.whl (13 kB)\n",
      "Collecting typing-inspection>=0.4.0\n",
      "  Downloading typing_inspection-0.4.1-py3-none-any.whl (14 kB)\n",
      "Collecting typing-extensions>=4.12.2\n",
      "  Downloading typing_extensions-4.14.1-py3-none-any.whl (43 kB)\n",
      "Collecting pydantic-core==2.33.2\n",
      "  Downloading pydantic_core-2.33.2-cp39-cp39-win_amd64.whl (2.0 MB)\n",
      "Requirement already satisfied: certifi>=2017.4.17 in c:\\anaconda3\\lib\\site-packages (from requests->ebrains-kg-core) (2021.10.8)\n",
      "Requirement already satisfied: charset-normalizer~=2.0.0 in c:\\anaconda3\\lib\\site-packages (from requests->ebrains-kg-core) (2.0.4)\n",
      "Requirement already satisfied: urllib3<1.27,>=1.21.1 in c:\\anaconda3\\lib\\site-packages (from requests->ebrains-kg-core) (1.26.9)\n",
      "Requirement already satisfied: idna<4,>=2.5 in c:\\anaconda3\\lib\\site-packages (from requests->ebrains-kg-core) (3.3)\n",
      "Installing collected packages: typing-extensions, typing-inspection, pydantic-core, annotated-types, pydantic, ebrains-kg-core\n",
      "Successfully installed annotated-types-0.7.0 ebrains-kg-core-0.9.20 pydantic-2.11.7 pydantic-core-2.33.2 typing-extensions-4.14.1 typing-inspection-0.4.1\n",
      "Note: you may need to restart the kernel to use updated packages.\n"
     ]
    }
   ],
   "source": [
    "pip install ebrains-kg-core"
   ]
  },
  {
   "cell_type": "code",
   "execution_count": 2,
   "id": "10048488-9067-43d6-9770-057976ae5253",
   "metadata": {},
   "outputs": [],
   "source": [
    "##this query picks datasets with \n",
    "#experimental approach: 'computational modelling'\n",
    "#technique: 'simulation'\n",
    "#accessibility: 'free access'\n",
    "\n",
    "query={\n",
    "  \"@context\": {\n",
    "    \"@vocab\": \"https://core.kg.ebrains.eu/vocab/query/\",\n",
    "    \"query\": \"https://schema.hbp.eu/myQuery/\",\n",
    "    \"propertyName\": {\n",
    "      \"@id\": \"propertyName\",\n",
    "      \"@type\": \"@id\"\n",
    "    },\n",
    "    \"path\": {\n",
    "      \"@id\": \"path\",\n",
    "      \"@type\": \"@id\"\n",
    "    }\n",
    "  },\n",
    "  \"meta\": {\n",
    "    \"type\": \"https://openminds.ebrains.eu/core/DatasetVersion\",\n",
    "    \"responseVocab\": \"https://schema.hbp.eu/myQuery/\"\n",
    "  },\n",
    "  \"structure\": [\n",
    "      {\n",
    "      \"propertyName\": \"query:id\",\n",
    "      \"path\": \"@id\"\n",
    "    },\n",
    "    {\n",
    "      \"propertyName\": \"query:experimentalApproach\",\n",
    "      \"path\": \"https://openminds.ebrains.eu/vocab/experimentalApproach\",\n",
    "      \"required\": True,\n",
    "      \"structure\": {\n",
    "        \"propertyName\": \"query:name\",\n",
    "        \"path\": \"https://openminds.ebrains.eu/vocab/name\",\n",
    "        \"required\": True,\n",
    "        \"filter\": {\n",
    "          \"op\": \"CONTAINS\",\n",
    "          \"value\": \"computational modeling\"\n",
    "        }\n",
    "      }\n",
    "    },\n",
    "    {\n",
    "      \"propertyName\": \"query:shortName\",\n",
    "      \"path\": \"https://openminds.ebrains.eu/vocab/shortName\"\n",
    "    },\n",
    "    {\n",
    "      \"propertyName\": \"query:technique\",\n",
    "      \"path\": \"https://openminds.ebrains.eu/vocab/technique\",\n",
    "      \"required\": True,\n",
    "      \"structure\": {\n",
    "        \"propertyName\": \"query:name\",\n",
    "        \"path\": \"https://openminds.ebrains.eu/vocab/name\",\n",
    "        \"required\": True,\n",
    "        \"filter\": {\n",
    "          \"op\": \"CONTAINS\",\n",
    "          \"value\": \"simulation\"\n",
    "        }\n",
    "      }\n",
    "    },\n",
    "    {\n",
    "      \"propertyName\": \"query:accessibility\",\n",
    "      \"path\": \"https://openminds.ebrains.eu/vocab/accessibility\",\n",
    "      \"required\": True,\n",
    "      \"structure\": {\n",
    "        \"propertyName\": \"query:name\",\n",
    "        \"path\": \"https://openminds.ebrains.eu/vocab/name\",\n",
    "        \"required\": True,\n",
    "        \"filter\": {\n",
    "          \"op\": \"CONTAINS\",\n",
    "          \"value\": \"free access\"\n",
    "        }\n",
    "      }\n",
    "    },\n",
    "    {\n",
    "      \"propertyName\": \"query:files\",\n",
    "      \"required\": True,\n",
    "      \"path\": [\n",
    "        \"https://openminds.ebrains.eu/vocab/repository\",\n",
    "        {\n",
    "          \"@id\": \"https://openminds.ebrains.eu/vocab/fileRepository\",\n",
    "          \"reverse\": True\n",
    "        }\n",
    "      ],\n",
    "      \"structure\": [\n",
    "        {\n",
    "          \"propertyName\": \"query:id\",\n",
    "          \"path\": \"@id\"\n",
    "        },\n",
    "        {\n",
    "          \"propertyName\": \"query:IRI\",\n",
    "          \"path\": \"https://openminds.ebrains.eu/vocab/IRI\"\n",
    "        },\n",
    "        {\n",
    "          \"propertyName\": \"query:name\",\n",
    "          \"path\": \"https://openminds.ebrains.eu/vocab/name\"\n",
    "        }\n",
    "      ]\n",
    "    }\n",
    "  ]\n",
    "    \n",
    "}"
   ]
  },
  {
   "cell_type": "code",
   "execution_count": 3,
   "id": "afde09ee-1b44-438d-b5d6-b48d8d4cff9c",
   "metadata": {},
   "outputs": [
    {
     "name": "stdout",
     "output_type": "stream",
     "text": [
      "************************************************************************\n",
      "To continue, you need to authenticate. To do so, please visit https://iam.ebrains.eu/auth/realms/hbp/device?user_code=DJLN-LAYR\n",
      "*************************************************************************\n"
     ]
    },
    {
     "ename": "KeyboardInterrupt",
     "evalue": "",
     "output_type": "error",
     "traceback": [
      "\u001b[1;31m---------------------------------------------------------------------------\u001b[0m",
      "\u001b[1;31mKeyboardInterrupt\u001b[0m                         Traceback (most recent call last)",
      "Input \u001b[1;32mIn [3]\u001b[0m, in \u001b[0;36m<cell line: 7>\u001b[1;34m()\u001b[0m\n\u001b[0;32m      4\u001b[0m kg_client\u001b[38;5;241m=\u001b[39mkg()\u001b[38;5;241m.\u001b[39mbuild()\n\u001b[0;32m      5\u001b[0m \u001b[38;5;28;01mfrom\u001b[39;00m \u001b[38;5;21;01mkg_core\u001b[39;00m\u001b[38;5;21;01m.\u001b[39;00m\u001b[38;5;21;01mresponse\u001b[39;00m \u001b[38;5;28;01mimport\u001b[39;00m JsonLdDocument, ResultPage\n\u001b[1;32m----> 7\u001b[0m instances: ResultPage[JsonLdDocument] \u001b[38;5;241m=\u001b[39m \u001b[43mkg_client\u001b[49m\u001b[38;5;241;43m.\u001b[39;49m\u001b[43mqueries\u001b[49m\u001b[38;5;241;43m.\u001b[39;49m\u001b[43mtest_query\u001b[49m\u001b[43m(\u001b[49m\u001b[43mpayload\u001b[49m\u001b[38;5;241;43m=\u001b[39;49m\u001b[43mquery\u001b[49m\u001b[43m)\u001b[49m\n\u001b[0;32m      9\u001b[0m \u001b[38;5;28mprint\u001b[39m(\u001b[38;5;124mf\u001b[39m\u001b[38;5;124m\"\u001b[39m\u001b[38;5;130;01m\\n\u001b[39;00m\u001b[38;5;124mNumber of datasets with the modality computational modelling: \u001b[39m\u001b[38;5;132;01m{\u001b[39;00minstances\u001b[38;5;241m.\u001b[39mtotal\u001b[38;5;132;01m}\u001b[39;00m\u001b[38;5;124m\"\u001b[39m)\n",
      "File \u001b[1;32m~\\AppData\\Roaming\\Python\\Python39\\site-packages\\kg_core\\kg.py:541\u001b[0m, in \u001b[0;36mQueries.test_query\u001b[1;34m(self, payload, additional_request_params, instance_id, restrict_to_spaces, stage, pagination)\u001b[0m\n\u001b[0;32m    539\u001b[0m     \u001b[38;5;28;01mif\u001b[39;00m k \u001b[38;5;129;01mnot\u001b[39;00m \u001b[38;5;129;01min\u001b[39;00m params:\n\u001b[0;32m    540\u001b[0m         params[k] \u001b[38;5;241m=\u001b[39m v\n\u001b[1;32m--> 541\u001b[0m result \u001b[38;5;241m=\u001b[39m \u001b[38;5;28;43mself\u001b[39;49m\u001b[38;5;241;43m.\u001b[39;49m\u001b[43m_post\u001b[49m\u001b[43m(\u001b[49m\u001b[43mpath\u001b[49m\u001b[38;5;241;43m=\u001b[39;49m\u001b[38;5;124;43m\"\u001b[39;49m\u001b[38;5;124;43mqueries\u001b[39;49m\u001b[38;5;124;43m\"\u001b[39;49m\u001b[43m,\u001b[49m\u001b[43m \u001b[49m\u001b[43mpayload\u001b[49m\u001b[38;5;241;43m=\u001b[39;49m\u001b[43mpayload\u001b[49m\u001b[43m,\u001b[49m\u001b[43m \u001b[49m\u001b[43mparams\u001b[49m\u001b[38;5;241;43m=\u001b[39;49m\u001b[43mparams\u001b[49m\u001b[43m)\u001b[49m\n\u001b[0;32m    542\u001b[0m \u001b[38;5;28;01mreturn\u001b[39;00m ResultPage[JsonLdDocument](response\u001b[38;5;241m=\u001b[39mresult, constructor\u001b[38;5;241m=\u001b[39mJsonLdDocument)\n",
      "File \u001b[1;32m~\\AppData\\Roaming\\Python\\Python39\\site-packages\\kg_core\\__communication.py:174\u001b[0m, in \u001b[0;36mRequestsWithTokenHandler._post\u001b[1;34m(self, path, payload, params)\u001b[0m\n\u001b[0;32m    173\u001b[0m \u001b[38;5;28;01mdef\u001b[39;00m \u001b[38;5;21m_post\u001b[39m(\u001b[38;5;28mself\u001b[39m, path: \u001b[38;5;28mstr\u001b[39m, payload: Optional[Any], params: Dict[\u001b[38;5;28mstr\u001b[39m, Any]) \u001b[38;5;241m-\u001b[39m\u001b[38;5;241m>\u001b[39m KGRequestWithResponseContext:\n\u001b[1;32m--> 174\u001b[0m     \u001b[38;5;28;01mreturn\u001b[39;00m \u001b[38;5;28;43mself\u001b[39;49m\u001b[38;5;241;43m.\u001b[39;49m\u001b[43m_request\u001b[49m\u001b[43m(\u001b[49m\u001b[38;5;124;43m\"\u001b[39;49m\u001b[38;5;124;43mPOST\u001b[39;49m\u001b[38;5;124;43m\"\u001b[39;49m\u001b[43m,\u001b[49m\u001b[43m \u001b[49m\u001b[43mpath\u001b[49m\u001b[43m,\u001b[49m\u001b[43m \u001b[49m\u001b[43mpayload\u001b[49m\u001b[43m,\u001b[49m\u001b[43m \u001b[49m\u001b[43mparams\u001b[49m\u001b[43m)\u001b[49m\n",
      "File \u001b[1;32m~\\AppData\\Roaming\\Python\\Python39\\site-packages\\kg_core\\__communication.py:137\u001b[0m, in \u001b[0;36mRequestsWithTokenHandler._request\u001b[1;34m(self, method, path, payload, params)\u001b[0m\n\u001b[0;32m    131\u001b[0m absolute_path \u001b[38;5;241m=\u001b[39m \u001b[38;5;124mf\u001b[39m\u001b[38;5;124m\"\u001b[39m\u001b[38;5;132;01m{\u001b[39;00m\u001b[38;5;28mself\u001b[39m\u001b[38;5;241m.\u001b[39m_kg_config\u001b[38;5;241m.\u001b[39mendpoint\u001b[38;5;132;01m}\u001b[39;00m\u001b[38;5;132;01m{\u001b[39;00mpath\u001b[38;5;132;01m}\u001b[39;00m\u001b[38;5;124m\"\u001b[39m\n\u001b[0;32m    132\u001b[0m args: Dict[\u001b[38;5;28mstr\u001b[39m, Any] \u001b[38;5;241m=\u001b[39m {\n\u001b[0;32m    133\u001b[0m     \u001b[38;5;124m'\u001b[39m\u001b[38;5;124mmethod\u001b[39m\u001b[38;5;124m'\u001b[39m: method,\n\u001b[0;32m    134\u001b[0m     \u001b[38;5;124m'\u001b[39m\u001b[38;5;124murl\u001b[39m\u001b[38;5;124m'\u001b[39m: absolute_path,\n\u001b[0;32m    135\u001b[0m     \u001b[38;5;124m'\u001b[39m\u001b[38;5;124mparams\u001b[39m\u001b[38;5;124m'\u001b[39m: params\n\u001b[0;32m    136\u001b[0m }\n\u001b[1;32m--> 137\u001b[0m \u001b[38;5;28;01mreturn\u001b[39;00m \u001b[38;5;28;43mself\u001b[39;49m\u001b[38;5;241;43m.\u001b[39;49m\u001b[43m_do_request\u001b[49m\u001b[43m(\u001b[49m\u001b[43margs\u001b[49m\u001b[43m,\u001b[49m\u001b[43m \u001b[49m\u001b[43mpayload\u001b[49m\u001b[43m)\u001b[49m\n",
      "File \u001b[1;32m~\\AppData\\Roaming\\Python\\Python39\\site-packages\\kg_core\\__communication.py:140\u001b[0m, in \u001b[0;36mRequestsWithTokenHandler._do_request\u001b[1;34m(self, args, payload)\u001b[0m\n\u001b[0;32m    139\u001b[0m \u001b[38;5;28;01mdef\u001b[39;00m \u001b[38;5;21m_do_request\u001b[39m(\u001b[38;5;28mself\u001b[39m, args: Dict[\u001b[38;5;28mstr\u001b[39m, Any], payload: Optional[Any]) \u001b[38;5;241m-\u001b[39m\u001b[38;5;241m>\u001b[39m KGRequestWithResponseContext:\n\u001b[1;32m--> 140\u001b[0m     \u001b[38;5;28;43mself\u001b[39;49m\u001b[38;5;241;43m.\u001b[39;49m\u001b[43m_set_headers\u001b[49m\u001b[43m(\u001b[49m\u001b[43margs\u001b[49m\u001b[43m,\u001b[49m\u001b[43m \u001b[49m\u001b[38;5;28;43;01mFalse\u001b[39;49;00m\u001b[43m)\u001b[49m\n\u001b[0;32m    141\u001b[0m     \u001b[38;5;28;01mif\u001b[39;00m payload \u001b[38;5;129;01mis\u001b[39;00m \u001b[38;5;129;01mnot\u001b[39;00m \u001b[38;5;28;01mNone\u001b[39;00m:\n\u001b[0;32m    142\u001b[0m         args[\u001b[38;5;124m'\u001b[39m\u001b[38;5;124mjson\u001b[39m\u001b[38;5;124m'\u001b[39m] \u001b[38;5;241m=\u001b[39m payload\n",
      "File \u001b[1;32m~\\AppData\\Roaming\\Python\\Python39\\site-packages\\kg_core\\__communication.py:120\u001b[0m, in \u001b[0;36mRequestsWithTokenHandler._set_headers\u001b[1;34m(self, args, force_token_fetch)\u001b[0m\n\u001b[0;32m    118\u001b[0m \u001b[38;5;28;01mdef\u001b[39;00m \u001b[38;5;21m_set_headers\u001b[39m(\u001b[38;5;28mself\u001b[39m, args: Dict[\u001b[38;5;28mstr\u001b[39m, Any], force_token_fetch: \u001b[38;5;28mbool\u001b[39m):\n\u001b[0;32m    119\u001b[0m     \u001b[38;5;28;01mif\u001b[39;00m \u001b[38;5;28mself\u001b[39m\u001b[38;5;241m.\u001b[39m_kg_config\u001b[38;5;241m.\u001b[39mtoken_handler:\n\u001b[1;32m--> 120\u001b[0m         token \u001b[38;5;241m=\u001b[39m \u001b[38;5;28;43mself\u001b[39;49m\u001b[38;5;241;43m.\u001b[39;49m\u001b[43m_kg_config\u001b[49m\u001b[38;5;241;43m.\u001b[39;49m\u001b[43mtoken_handler\u001b[49m\u001b[38;5;241;43m.\u001b[39;49m\u001b[43mget_token\u001b[49m\u001b[43m(\u001b[49m\u001b[43mforce_token_fetch\u001b[49m\u001b[43m)\u001b[49m\n\u001b[0;32m    121\u001b[0m         \u001b[38;5;28;01mif\u001b[39;00m token:\n\u001b[0;32m    122\u001b[0m             args[\u001b[38;5;124m'\u001b[39m\u001b[38;5;124mheaders\u001b[39m\u001b[38;5;124m'\u001b[39m] \u001b[38;5;241m=\u001b[39m {\n\u001b[0;32m    123\u001b[0m                 \u001b[38;5;124m\"\u001b[39m\u001b[38;5;124mAuthorization\u001b[39m\u001b[38;5;124m\"\u001b[39m: \u001b[38;5;124mf\u001b[39m\u001b[38;5;124m\"\u001b[39m\u001b[38;5;124mBearer \u001b[39m\u001b[38;5;132;01m{\u001b[39;00mtoken\u001b[38;5;132;01m}\u001b[39;00m\u001b[38;5;124m\"\u001b[39m\n\u001b[0;32m    124\u001b[0m             }\n",
      "File \u001b[1;32m~\\AppData\\Roaming\\Python\\Python39\\site-packages\\kg_core\\__communication.py:42\u001b[0m, in \u001b[0;36mTokenHandler.get_token\u001b[1;34m(self, force_fetch)\u001b[0m\n\u001b[0;32m     40\u001b[0m \u001b[38;5;28;01mif\u001b[39;00m \u001b[38;5;129;01mnot\u001b[39;00m \u001b[38;5;28mself\u001b[39m\u001b[38;5;241m.\u001b[39m_token \u001b[38;5;129;01mor\u001b[39;00m force_fetch:\n\u001b[0;32m     41\u001b[0m     \u001b[38;5;28;01mwith\u001b[39;00m \u001b[38;5;28mself\u001b[39m\u001b[38;5;241m.\u001b[39m_lock:\n\u001b[1;32m---> 42\u001b[0m         \u001b[38;5;28mself\u001b[39m\u001b[38;5;241m.\u001b[39m_token \u001b[38;5;241m=\u001b[39m \u001b[38;5;28;43mself\u001b[39;49m\u001b[38;5;241;43m.\u001b[39;49m\u001b[43m_fetch_token\u001b[49m\u001b[43m(\u001b[49m\u001b[43m)\u001b[49m\n\u001b[0;32m     43\u001b[0m \u001b[38;5;28;01mreturn\u001b[39;00m \u001b[38;5;28mself\u001b[39m\u001b[38;5;241m.\u001b[39m_token\n",
      "File \u001b[1;32m~\\AppData\\Roaming\\Python\\Python39\\site-packages\\kg_core\\oauth.py:127\u001b[0m, in \u001b[0;36mDeviceAuthenticationFlow._fetch_token\u001b[1;34m(self)\u001b[0m\n\u001b[0;32m    126\u001b[0m \u001b[38;5;28;01mdef\u001b[39;00m \u001b[38;5;21m_fetch_token\u001b[39m(\u001b[38;5;28mself\u001b[39m) \u001b[38;5;241m-\u001b[39m\u001b[38;5;241m>\u001b[39m Optional[\u001b[38;5;28mstr\u001b[39m]:\n\u001b[1;32m--> 127\u001b[0m     result \u001b[38;5;241m=\u001b[39m \u001b[38;5;28;43mself\u001b[39;49m\u001b[38;5;241;43m.\u001b[39;49m\u001b[43m_find_tokens\u001b[49m\u001b[43m(\u001b[49m\u001b[43m)\u001b[49m\n\u001b[0;32m    128\u001b[0m     \u001b[38;5;28;01mif\u001b[39;00m result:\n\u001b[0;32m    129\u001b[0m         \u001b[38;5;28mself\u001b[39m\u001b[38;5;241m.\u001b[39m__refresh_token \u001b[38;5;241m=\u001b[39m result[\u001b[38;5;124m\"\u001b[39m\u001b[38;5;124mrefresh_token\u001b[39m\u001b[38;5;124m\"\u001b[39m]\n",
      "File \u001b[1;32m~\\AppData\\Roaming\\Python\\Python39\\site-packages\\kg_core\\oauth.py:116\u001b[0m, in \u001b[0;36mDeviceAuthenticationFlow._find_tokens\u001b[1;34m(self)\u001b[0m\n\u001b[0;32m    114\u001b[0m     \u001b[38;5;28;01mraise\u001b[39;00m \u001b[38;5;167;01mValueError\u001b[39;00m(\u001b[38;5;124m\"\u001b[39m\u001b[38;5;124mConfiguration for device authentication flow is incomplete\u001b[39m\u001b[38;5;124m\"\u001b[39m)\n\u001b[0;32m    115\u001b[0m \u001b[38;5;28;01melse\u001b[39;00m:\n\u001b[1;32m--> 116\u001b[0m     result \u001b[38;5;241m=\u001b[39m \u001b[38;5;28;43mself\u001b[39;49m\u001b[38;5;241;43m.\u001b[39;49m\u001b[43m_device_flow\u001b[49m\u001b[43m(\u001b[49m\u001b[43m)\u001b[49m\n\u001b[0;32m    117\u001b[0m     \u001b[38;5;28;01mif\u001b[39;00m result:\n\u001b[0;32m    118\u001b[0m         \u001b[38;5;28mprint\u001b[39m(\u001b[38;5;124mf\u001b[39m\u001b[38;5;124m\"\u001b[39m\u001b[38;5;124mYou are successfully authenticated! Thank you very much!\u001b[39m\u001b[38;5;124m\"\u001b[39m)\n",
      "File \u001b[1;32m~\\AppData\\Roaming\\Python\\Python39\\site-packages\\kg_core\\oauth.py:106\u001b[0m, in \u001b[0;36mDeviceAuthenticationFlow._device_flow\u001b[1;34m(self)\u001b[0m\n\u001b[0;32m    104\u001b[0m \u001b[38;5;28mprint\u001b[39m(\u001b[38;5;124mf\u001b[39m\u001b[38;5;124m\"\u001b[39m\u001b[38;5;124mTo continue, you need to authenticate. To do so, please visit \u001b[39m\u001b[38;5;132;01m{\u001b[39;00mverification_code\u001b[38;5;132;01m}\u001b[39;00m\u001b[38;5;124m\"\u001b[39m)\n\u001b[0;32m    105\u001b[0m \u001b[38;5;28mprint\u001b[39m(\u001b[38;5;124m\"\u001b[39m\u001b[38;5;124m*************************************************************************\u001b[39m\u001b[38;5;124m\"\u001b[39m)\n\u001b[1;32m--> 106\u001b[0m \u001b[38;5;28;01mreturn\u001b[39;00m \u001b[38;5;28;43mself\u001b[39;49m\u001b[38;5;241;43m.\u001b[39;49m\u001b[43m_poll_for_token\u001b[49m\u001b[43m(\u001b[49m\u001b[43mdevice_code\u001b[49m\u001b[38;5;241;43m=\u001b[39;49m\u001b[43mdevice_code\u001b[49m\u001b[43m)\u001b[49m\n",
      "File \u001b[1;32m~\\AppData\\Roaming\\Python\\Python39\\site-packages\\kg_core\\oauth.py:83\u001b[0m, in \u001b[0;36mDeviceAuthenticationFlow._poll_for_token\u001b[1;34m(self, device_code)\u001b[0m\n\u001b[0;32m     81\u001b[0m     time\u001b[38;5;241m.\u001b[39msleep(\u001b[38;5;28mself\u001b[39m\u001b[38;5;241m.\u001b[39m__poll_interval_in_secs)\n\u001b[0;32m     82\u001b[0m     \u001b[38;5;66;03m# The request hasn't been validated yet\u001b[39;00m\n\u001b[1;32m---> 83\u001b[0m     \u001b[38;5;28;01mreturn\u001b[39;00m \u001b[38;5;28;43mself\u001b[39;49m\u001b[38;5;241;43m.\u001b[39;49m\u001b[43m_poll_for_token\u001b[49m\u001b[43m(\u001b[49m\u001b[43mdevice_code\u001b[49m\u001b[43m)\u001b[49m\n\u001b[0;32m     84\u001b[0m \u001b[38;5;28;01melif\u001b[39;00m response\u001b[38;5;241m.\u001b[39mstatus_code \u001b[38;5;241m==\u001b[39m \u001b[38;5;241m200\u001b[39m:\n\u001b[0;32m     85\u001b[0m     \u001b[38;5;28;01mreturn\u001b[39;00m response\u001b[38;5;241m.\u001b[39mjson()\n",
      "File \u001b[1;32m~\\AppData\\Roaming\\Python\\Python39\\site-packages\\kg_core\\oauth.py:83\u001b[0m, in \u001b[0;36mDeviceAuthenticationFlow._poll_for_token\u001b[1;34m(self, device_code)\u001b[0m\n\u001b[0;32m     81\u001b[0m     time\u001b[38;5;241m.\u001b[39msleep(\u001b[38;5;28mself\u001b[39m\u001b[38;5;241m.\u001b[39m__poll_interval_in_secs)\n\u001b[0;32m     82\u001b[0m     \u001b[38;5;66;03m# The request hasn't been validated yet\u001b[39;00m\n\u001b[1;32m---> 83\u001b[0m     \u001b[38;5;28;01mreturn\u001b[39;00m \u001b[38;5;28;43mself\u001b[39;49m\u001b[38;5;241;43m.\u001b[39;49m\u001b[43m_poll_for_token\u001b[49m\u001b[43m(\u001b[49m\u001b[43mdevice_code\u001b[49m\u001b[43m)\u001b[49m\n\u001b[0;32m     84\u001b[0m \u001b[38;5;28;01melif\u001b[39;00m response\u001b[38;5;241m.\u001b[39mstatus_code \u001b[38;5;241m==\u001b[39m \u001b[38;5;241m200\u001b[39m:\n\u001b[0;32m     85\u001b[0m     \u001b[38;5;28;01mreturn\u001b[39;00m response\u001b[38;5;241m.\u001b[39mjson()\n",
      "File \u001b[1;32m~\\AppData\\Roaming\\Python\\Python39\\site-packages\\kg_core\\oauth.py:81\u001b[0m, in \u001b[0;36mDeviceAuthenticationFlow._poll_for_token\u001b[1;34m(self, device_code)\u001b[0m\n\u001b[0;32m     78\u001b[0m \u001b[38;5;28;01melif\u001b[39;00m error \u001b[38;5;241m==\u001b[39m \u001b[38;5;124m\"\u001b[39m\u001b[38;5;124mslow_down\u001b[39m\u001b[38;5;124m\"\u001b[39m:\n\u001b[0;32m     79\u001b[0m     \u001b[38;5;66;03m# The server tells us that we're asking too frequently - let's increase the polling interval by a second\u001b[39;00m\n\u001b[0;32m     80\u001b[0m     \u001b[38;5;28mself\u001b[39m\u001b[38;5;241m.\u001b[39m__poll_interval_in_secs \u001b[38;5;241m+\u001b[39m\u001b[38;5;241m=\u001b[39m \u001b[38;5;241m1\u001b[39m\n\u001b[1;32m---> 81\u001b[0m \u001b[43mtime\u001b[49m\u001b[38;5;241;43m.\u001b[39;49m\u001b[43msleep\u001b[49m\u001b[43m(\u001b[49m\u001b[38;5;28;43mself\u001b[39;49m\u001b[38;5;241;43m.\u001b[39;49m\u001b[43m__poll_interval_in_secs\u001b[49m\u001b[43m)\u001b[49m\n\u001b[0;32m     82\u001b[0m \u001b[38;5;66;03m# The request hasn't been validated yet\u001b[39;00m\n\u001b[0;32m     83\u001b[0m \u001b[38;5;28;01mreturn\u001b[39;00m \u001b[38;5;28mself\u001b[39m\u001b[38;5;241m.\u001b[39m_poll_for_token(device_code)\n",
      "\u001b[1;31mKeyboardInterrupt\u001b[0m: "
     ]
    }
   ],
   "source": [
    "# Import KG and display the number of datasets queried\n",
    "## requires authentication\n",
    "from kg_core.kg import kg\n",
    "kg_client=kg().build()\n",
    "from kg_core.response import JsonLdDocument, ResultPage\n",
    "\n",
    "instances: ResultPage[JsonLdDocument] = kg_client.queries.test_query(payload=query)\n",
    "\n",
    "print(f\"\\nNumber of datasets with the modality computational modelling: {instances.total}\")"
   ]
  },
  {
   "cell_type": "code",
   "execution_count": 3,
   "id": "fa6bf8ce-e7a1-4f08-942d-fe2a2a3175d9",
   "metadata": {},
   "outputs": [
    {
     "name": "stdout",
     "output_type": "stream",
     "text": [
      "Please select a dataset:\n",
      "---\n",
      "1. atlas-variation-simfc-v1\n",
      "2. Human M2 receptor simulation\n",
      "3. Multimodal Predictive Coding Network with WhiskEye and the NRP\n",
      "4. Neuromorphic cerebellum\n",
      "5. TVB - synthetic simultaneous resting state EEG/fMRI\n",
      "6. Visual Tactile_WhiskEye_ViTa-SLAM\n",
      "7. BloodFlow-Simulation-VasculatureMouse\n",
      "8. hippocampus-opt-rat-CA1-v4.0.5\n",
      "---\n"
     ]
    },
    {
     "name": "stdin",
     "output_type": "stream",
     "text": [
      "Your choice:  3\n"
     ]
    },
    {
     "name": "stdout",
     "output_type": "stream",
     "text": [
      "\n",
      "Multimodal Predictive Coding Network with WhiskEye and the NRP\n"
     ]
    }
   ],
   "source": [
    "# List all datasets\n",
    "print('Please select a dataset:')\n",
    "print('---')\n",
    "\n",
    "# Select dataset of your choice\n",
    "c = 0\n",
    "for d in instances.data:\n",
    "    c += 1\n",
    "    print(str(c) + \". \" + d['shortName'])\n",
    "print('---')\n",
    "selected = input('Your choice: ')\n",
    "\n",
    "# Print selected dataset\n",
    "index = int(selected)-1\n",
    "print('')\n",
    "print(instances.data[index]['shortName'])"
   ]
  },
  {
   "cell_type": "code",
   "execution_count": 4,
   "id": "4f4ad86d-89ca-4672-b28a-f0ecb5bc160c",
   "metadata": {},
   "outputs": [
    {
     "name": "stdout",
     "output_type": "stream",
     "text": [
      "Downloading https://object.cscs.ch/v1/AUTH_25b4e28a742d4987a7b6f84c0c36512e/hbp-d000043_MultiPredNet-SGA-3-Showcase-Data_pub/EBRAINS-DataDescriptor-MultiPredNet.pdf to C:\\Users\\archanag/EBRAINS-DataDescriptor-MultiPredNet.pdf\n",
      "Downloading https://object.cscs.ch/v1/AUTH_25b4e28a742d4987a7b6f84c0c36512e/hbp-d000043_MultiPredNet-SGA-3-Showcase-Data_pub/Licence-CC-BY.pdf to C:\\Users\\archanag/Licence-CC-BY.pdf\n"
     ]
    }
   ],
   "source": [
    "# Download files of interest from the selected dataset\n",
    "import os\n",
    "from pathlib import Path\n",
    "import requests as rq\n",
    "\n",
    "dataset = instances.data[index]\n",
    "uuid = dataset.to_uuid(dataset['id'])\n",
    "\n",
    "result_path = os.getcwd()\n",
    "\n",
    "\n",
    "\n",
    "# Download all pdf files\n",
    "files = dataset['files']\n",
    "c = 0\n",
    "for f in files:\n",
    "    filename = f[\"name\"]\n",
    "    if filename.endswith(\".pdf\"):  \n",
    "        relative_target_file = f\"{result_path}/{filename}\"\n",
    "        if not os.path.isfile(relative_target_file):\n",
    "            if c > 5:\n",
    "                print(\"Stopping after 5 files\")\n",
    "                break\n",
    "            print(f\"Downloading {f['IRI']} to {relative_target_file}\")\n",
    "            resp = rq.get(f[\"IRI\"])     \n",
    "            with open(f\"{relative_target_file}\", 'wb') as fd:\n",
    "                for chunk in resp.iter_content(chunk_size=128):\n",
    "                    fd.write(chunk)"
   ]
  },
  {
   "cell_type": "markdown",
   "id": "6120eaa9-294c-431e-b0f6-2b040832460f",
   "metadata": {},
   "source": [
    "TASK:\n",
    "Pick a dataset of your interest and download the files of your interest\n",
    "To display all the file in the dataset use:\n",
    "for name in files: print(name['name']) "
   ]
  },
  {
   "cell_type": "code",
   "execution_count": null,
   "id": "8a2f1dd3-8137-44e4-bb2c-f9022c2336d8",
   "metadata": {},
   "outputs": [],
   "source": []
  }
 ],
 "metadata": {
  "kernelspec": {
   "display_name": "Python 3 (ipykernel)",
   "language": "python",
   "name": "python3"
  },
  "language_info": {
   "codemirror_mode": {
    "name": "ipython",
    "version": 3
   },
   "file_extension": ".py",
   "mimetype": "text/x-python",
   "name": "python",
   "nbconvert_exporter": "python",
   "pygments_lexer": "ipython3",
   "version": "3.11.10"
  }
 },
 "nbformat": 4,
 "nbformat_minor": 5
}
