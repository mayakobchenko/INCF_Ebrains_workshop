{
 "cells": [
  {
   "cell_type": "markdown",
   "id": "69b6c7b2-2bd7-4e41-b839-06c8f0b31efd",
   "metadata": {
    "tags": []
   },
   "source": [
    "This notebook helps you find metadata using FairGraph (https://fairgraph.readthedocs.io/en/latest/).\n",
    "\n",
    "Create a folder and copy paste this notebook in your folder and run the code from there"
   ]
  },
  {
   "cell_type": "code",
   "execution_count": 23,
   "id": "962d603f",
   "metadata": {
    "scrolled": true,
    "tags": []
   },
   "outputs": [
    {
     "ename": "SyntaxError",
     "evalue": "invalid syntax (126749318.py, line 2)",
     "output_type": "error",
     "traceback": [
      "\u001b[0;36m  Cell \u001b[0;32mIn[23], line 2\u001b[0;36m\u001b[0m\n\u001b[0;31m    pip install fairgraph\u001b[0m\n\u001b[0m        ^\u001b[0m\n\u001b[0;31mSyntaxError\u001b[0m\u001b[0;31m:\u001b[0m invalid syntax\n"
     ]
    }
   ],
   "source": [
    "### install fairgraph package\n",
    "pip install fairgraph"
   ]
  },
  {
   "cell_type": "code",
   "execution_count": 25,
   "id": "d59bd3a8",
   "metadata": {},
   "outputs": [],
   "source": [
    "## import the KGCLient from fairgraph\n",
    "from fairgraph import KGClient\n",
    "client = KGClient(host=\"core.kg.ebrains.eu\")"
   ]
  },
  {
   "cell_type": "markdown",
   "id": "4d874010-f9fa-49a7-9f00-e75aa025f601",
   "metadata": {},
   "source": [
    "##give them tips for authentication\n",
    "token = clb_oauth.get_token()\n",
    "client = KGClient(token)"
   ]
  },
  {
   "cell_type": "code",
   "execution_count": 26,
   "id": "e7a8a5c9",
   "metadata": {},
   "outputs": [],
   "source": [
    "##import the DatasetVersion from openminds\n",
    "from fairgraph.openminds.core import DatasetVersion"
   ]
  },
  {
   "cell_type": "code",
   "execution_count": 49,
   "id": "87668527-4a63-478d-9b53-dcecb87a67bb",
   "metadata": {
    "collapsed": true,
    "jupyter": {
     "outputs_hidden": true
    },
    "tags": []
   },
   "outputs": [
    {
     "name": "stdout",
     "output_type": "stream",
     "text": [
      "Help on class DatasetVersion in module fairgraph.openminds.core.products.dataset_version:\n",
      "\n",
      "class DatasetVersion(fairgraph.kgobject.KGObject)\n",
      " |  DatasetVersion(name=None, alias=None, accessibility=None, authors=None, behavioral_protocols=None, comments=None, copyright=None, custodians=None, data_types=None, description=None, digital_identifier=None, ethics_assessment=None, experimental_approaches=None, full_documentation=None, full_name=None, funding=None, has_parts=None, homepage=None, how_to_cite=None, input_data=None, is_alternative_version_of=None, is_input_to=None, is_new_version_of=None, is_old_version_of=None, is_part_of=None, is_version_of=None, keywords=None, learning_resources=None, license=None, other_contributions=None, preparation_designs=None, protocols=None, publication=None, related_publications=None, release_date=None, repository=None, short_name=None, studied_specimens=None, study_targets=None, support_channels=None, techniques=None, version_identifier=None, version_innovation=None, id=None, data=None, space=None, scope=None)\n",
      " |  \n",
      " |  Structured information on data originating from human/animal studies or simulations (version level).\n",
      " |  \n",
      " |  Args\n",
      " |  ----\n",
      " |  accessibility : ~fairgraph.openminds.controlled_terms.product_accessibility.ProductAccessibility\n",
      " |      Level to which something is accessible to the dataset version.\n",
      " |  authors : ~fairgraph.openminds.core.actors.consortium.Consortium, ~fairgraph.openminds.core.actors.organization.Organization, ~fairgraph.openminds.core.actors.person.Person\n",
      " |      Creator of a literary or creative work, as well as a dataset publication.\n",
      " |  behavioral_protocols : ~fairgraph.openminds.core.research.behavioral_protocol.BehavioralProtocol\n",
      " |      no description available\n",
      " |  copyright : ~fairgraph.openminds.core.data.copyright.Copyright\n",
      " |      Exclusive and assignable legal right of an originator to reproduce, publish, sell, or distribute the matter and form of a creative work for a defined time period.\n",
      " |  custodians : ~fairgraph.openminds.core.actors.consortium.Consortium, ~fairgraph.openminds.core.actors.organization.Organization, ~fairgraph.openminds.core.actors.person.Person\n",
      " |      The 'custodian' is a legal person who is responsible for the content and quality of the data, metadata, and/or code of a research product.\n",
      " |  data_types : ~fairgraph.openminds.controlled_terms.semantic_data_type.SemanticDataType\n",
      " |      no description available\n",
      " |  description : str\n",
      " |      Longer statement or account giving the characteristics of the dataset version.\n",
      " |  digital_identifier : ~fairgraph.openminds.core.digital_identifier.doi.DOI, ~fairgraph.openminds.core.digital_identifier.identifiers_dot_org_id.IdentifiersDotOrgID\n",
      " |      Digital handle to identify objects or legal persons.\n",
      " |  ethics_assessment : ~fairgraph.openminds.controlled_terms.ethics_assessment.EthicsAssessment\n",
      " |      Judgment about the applied principles of conduct governing an individual or a group.\n",
      " |  experimental_approaches : ~fairgraph.openminds.controlled_terms.experimental_approach.ExperimentalApproach\n",
      " |      no description available\n",
      " |  full_documentation : ~fairgraph.openminds.core.digital_identifier.doi.DOI, ~fairgraph.openminds.core.data.file.File, ~fairgraph.openminds.core.digital_identifier.isbn.ISBN, ~fairgraph.openminds.core.miscellaneous.web_resource.WebResource\n",
      " |      Non-abridged instructions, comments, and information for using a particular product.\n",
      " |  full_name : str\n",
      " |      Whole, non-abbreviated name of the dataset version.\n",
      " |  funding : ~fairgraph.openminds.core.miscellaneous.funding.Funding\n",
      " |      Money provided by a legal person for a particular purpose.\n",
      " |  homepage : ~fairgraph.base.IRI\n",
      " |      Main website of the dataset version.\n",
      " |  how_to_cite : str\n",
      " |      Preferred format for citing a particular object or legal person.\n",
      " |  input_data : ~fairgraph.openminds.core.digital_identifier.doi.DOI, ~fairgraph.openminds.core.data.file.File, ~fairgraph.openminds.core.data.file_bundle.FileBundle, ~fairgraph.openminds.core.miscellaneous.web_resource.WebResource, ~fairgraph.openminds.sands.atlas.brain_atlas.BrainAtlas, ~fairgraph.openminds.sands.atlas.brain_atlas_version.BrainAtlasVersion, ~fairgraph.openminds.sands.atlas.common_coordinate_space.CommonCoordinateSpace, ~fairgraph.openminds.sands.atlas.common_coordinate_space_version.CommonCoordinateSpaceVersion\n",
      " |      Data that is put into a process or machine.\n",
      " |  is_alternative_version_of : ~fairgraph.openminds.core.products.dataset_version.DatasetVersion\n",
      " |      Reference to an original form where the essence was preserved, but presented in an alternative form.\n",
      " |  is_new_version_of : ~fairgraph.openminds.core.products.dataset_version.DatasetVersion\n",
      " |      Reference to a previous (potentially outdated) particular form of something.\n",
      " |  keywords : ~fairgraph.openminds.controlled_terms.action_status_type.ActionStatusType, ~fairgraph.openminds.controlled_terms.age_category.AgeCategory, ~fairgraph.openminds.controlled_terms.analysis_technique.AnalysisTechnique, ~fairgraph.openminds.controlled_terms.anatomical_axes_orientation.AnatomicalAxesOrientation, ~fairgraph.openminds.controlled_terms.anatomical_identification_type.AnatomicalIdentificationType, ~fairgraph.openminds.controlled_terms.anatomical_plane.AnatomicalPlane, ~fairgraph.openminds.controlled_terms.annotation_criteria_type.AnnotationCriteriaType, ~fairgraph.openminds.controlled_terms.annotation_type.AnnotationType, ~fairgraph.openminds.controlled_terms.atlas_type.AtlasType, ~fairgraph.openminds.controlled_terms.auditory_stimulus_type.AuditoryStimulusType, ~fairgraph.openminds.controlled_terms.biological_order.BiologicalOrder, ~fairgraph.openminds.controlled_terms.biological_process.BiologicalProcess, ~fairgraph.openminds.controlled_terms.biological_sex.BiologicalSex, ~fairgraph.openminds.controlled_terms.breeding_type.BreedingType, ~fairgraph.openminds.controlled_terms.cell_culture_type.CellCultureType, ~fairgraph.openminds.controlled_terms.cell_type.CellType, ~fairgraph.openminds.controlled_terms.chemical_mixture_type.ChemicalMixtureType, ~fairgraph.openminds.controlled_terms.colormap.Colormap, ~fairgraph.openminds.controlled_terms.contribution_type.ContributionType, ~fairgraph.openminds.controlled_terms.cranial_window_construction_type.CranialWindowConstructionType, ~fairgraph.openminds.controlled_terms.cranial_window_reinforcement_type.CranialWindowReinforcementType, ~fairgraph.openminds.controlled_terms.criteria_quality_type.CriteriaQualityType, ~fairgraph.openminds.controlled_terms.data_type.DataType, ~fairgraph.openminds.controlled_terms.device_type.DeviceType, ~fairgraph.openminds.controlled_terms.difference_measure.DifferenceMeasure, ~fairgraph.openminds.controlled_terms.disease.Disease, ~fairgraph.openminds.controlled_terms.disease_model.DiseaseModel, ~fairgraph.openminds.controlled_terms.educational_level.EducationalLevel, ~fairgraph.openminds.controlled_terms.electrical_stimulus_type.ElectricalStimulusType, ~fairgraph.openminds.controlled_terms.ethics_assessment.EthicsAssessment, ~fairgraph.openminds.controlled_terms.experimental_approach.ExperimentalApproach, ~fairgraph.openminds.controlled_terms.file_bundle_grouping.FileBundleGrouping, ~fairgraph.openminds.controlled_terms.file_repository_type.FileRepositoryType, ~fairgraph.openminds.controlled_terms.file_usage_role.FileUsageRole, ~fairgraph.openminds.controlled_terms.genetic_strain_type.GeneticStrainType, ~fairgraph.openminds.controlled_terms.gustatory_stimulus_type.GustatoryStimulusType, ~fairgraph.openminds.controlled_terms.handedness.Handedness, ~fairgraph.openminds.controlled_terms.language.Language, ~fairgraph.openminds.controlled_terms.laterality.Laterality, ~fairgraph.openminds.controlled_terms.learning_resource_type.LearningResourceType, ~fairgraph.openminds.controlled_terms.mri_pulse_sequence.MRIPulseSequence, ~fairgraph.openminds.controlled_terms.mri_weighting.MRIWeighting, ~fairgraph.openminds.controlled_terms.measured_quantity.MeasuredQuantity, ~fairgraph.openminds.controlled_terms.measured_signal_type.MeasuredSignalType, ~fairgraph.openminds.controlled_terms.meta_data_model_type.MetaDataModelType, ~fairgraph.openminds.controlled_terms.model_abstraction_level.ModelAbstractionLevel, ~fairgraph.openminds.controlled_terms.model_scope.ModelScope, ~fairgraph.openminds.controlled_terms.molecular_entity.MolecularEntity, ~fairgraph.openminds.controlled_terms.olfactory_stimulus_type.OlfactoryStimulusType, ~fairgraph.openminds.controlled_terms.operating_device.OperatingDevice, ~fairgraph.openminds.controlled_terms.operating_system.OperatingSystem, ~fairgraph.openminds.controlled_terms.optical_stimulus_type.OpticalStimulusType, ~fairgraph.openminds.controlled_terms.organ.Organ, ~fairgraph.openminds.controlled_terms.organism_substance.OrganismSubstance, ~fairgraph.openminds.controlled_terms.organism_system.OrganismSystem, ~fairgraph.openminds.controlled_terms.patch_clamp_variation.PatchClampVariation, ~fairgraph.openminds.controlled_terms.preparation_type.PreparationType, ~fairgraph.openminds.controlled_terms.product_accessibility.ProductAccessibility, ~fairgraph.openminds.controlled_terms.programming_language.ProgrammingLanguage, ~fairgraph.openminds.controlled_terms.qualitative_overlap.QualitativeOverlap, ~fairgraph.openminds.controlled_terms.semantic_data_type.SemanticDataType, ~fairgraph.openminds.controlled_terms.service.Service, ~fairgraph.openminds.controlled_terms.setup_type.SetupType, ~fairgraph.openminds.controlled_terms.software_application_category.SoftwareApplicationCategory, ~fairgraph.openminds.controlled_terms.software_feature.SoftwareFeature, ~fairgraph.openminds.controlled_terms.species.Species, ~fairgraph.openminds.controlled_terms.stimulation_approach.StimulationApproach, ~fairgraph.openminds.controlled_terms.stimulation_technique.StimulationTechnique, ~fairgraph.openminds.controlled_terms.subcellular_entity.SubcellularEntity, ~fairgraph.openminds.controlled_terms.subject_attribute.SubjectAttribute, ~fairgraph.openminds.controlled_terms.tactile_stimulus_type.TactileStimulusType, ~fairgraph.openminds.controlled_terms.technique.Technique, ~fairgraph.openminds.controlled_terms.term_suggestion.TermSuggestion, ~fairgraph.openminds.controlled_terms.terminology.Terminology, ~fairgraph.openminds.controlled_terms.tissue_sample_attribute.TissueSampleAttribute, ~fairgraph.openminds.controlled_terms.tissue_sample_type.TissueSampleType, ~fairgraph.openminds.controlled_terms.type_of_uncertainty.TypeOfUncertainty, ~fairgraph.openminds.controlled_terms.uberon_parcellation.UBERONParcellation, ~fairgraph.openminds.controlled_terms.unit_of_measurement.UnitOfMeasurement, ~fairgraph.openminds.controlled_terms.visual_stimulus_type.VisualStimulusType\n",
      " |      Significant word or concept that are representative of the dataset version.\n",
      " |  license : ~fairgraph.openminds.core.data.license.License, ~fairgraph.openminds.core.miscellaneous.web_resource.WebResource\n",
      " |      Grant by a party to another party as an element of an agreement between those parties that permits to do, use, or own something.\n",
      " |  other_contributions : ~fairgraph.openminds.core.actors.contribution.Contribution\n",
      " |      Giving or supplying of something (such as money or time) as a part or share other than what is covered elsewhere.\n",
      " |  preparation_designs : ~fairgraph.openminds.controlled_terms.preparation_type.PreparationType\n",
      " |      no description available\n",
      " |  protocols : ~fairgraph.openminds.core.research.protocol.Protocol\n",
      " |      Plan that describes the process of a scientific or medical experiment, treatment, or procedure.\n",
      " |  related_publications : ~fairgraph.openminds.core.digital_identifier.doi.DOI, ~fairgraph.openminds.core.digital_identifier.handle.HANDLE, ~fairgraph.openminds.core.digital_identifier.isbn.ISBN, ~fairgraph.openminds.core.digital_identifier.issn.ISSN, ~fairgraph.openminds.publications.book.Book, ~fairgraph.openminds.publications.chapter.Chapter, ~fairgraph.openminds.publications.scholarly_article.ScholarlyArticle\n",
      " |      Reference to something that was made available for the general public to see or buy.\n",
      " |  release_date : ~datetime.date\n",
      " |      Fixed date on which a product is due to become or was made available for the general public to see or buy\n",
      " |  repository : ~fairgraph.openminds.core.data.file_repository.FileRepository\n",
      " |      Place, room, or container where something is deposited or stored.\n",
      " |  short_name : str\n",
      " |      Shortened or fully abbreviated name of the dataset version.\n",
      " |  studied_specimens : ~fairgraph.openminds.core.research.subject.Subject, ~fairgraph.openminds.core.research.subject_group.SubjectGroup, ~fairgraph.openminds.core.research.tissue_sample.TissueSample, ~fairgraph.openminds.core.research.tissue_sample_collection.TissueSampleCollection\n",
      " |      no description available\n",
      " |  study_targets : ~fairgraph.openminds.controlled_terms.auditory_stimulus_type.AuditoryStimulusType, ~fairgraph.openminds.controlled_terms.biological_order.BiologicalOrder, ~fairgraph.openminds.controlled_terms.biological_sex.BiologicalSex, ~fairgraph.openminds.controlled_terms.breeding_type.BreedingType, ~fairgraph.openminds.controlled_terms.cell_culture_type.CellCultureType, ~fairgraph.openminds.controlled_terms.cell_type.CellType, ~fairgraph.openminds.controlled_terms.disease.Disease, ~fairgraph.openminds.controlled_terms.disease_model.DiseaseModel, ~fairgraph.openminds.controlled_terms.electrical_stimulus_type.ElectricalStimulusType, ~fairgraph.openminds.controlled_terms.genetic_strain_type.GeneticStrainType, ~fairgraph.openminds.controlled_terms.gustatory_stimulus_type.GustatoryStimulusType, ~fairgraph.openminds.controlled_terms.handedness.Handedness, ~fairgraph.openminds.controlled_terms.molecular_entity.MolecularEntity, ~fairgraph.openminds.controlled_terms.olfactory_stimulus_type.OlfactoryStimulusType, ~fairgraph.openminds.controlled_terms.optical_stimulus_type.OpticalStimulusType, ~fairgraph.openminds.controlled_terms.organ.Organ, ~fairgraph.openminds.controlled_terms.organism_substance.OrganismSubstance, ~fairgraph.openminds.controlled_terms.organism_system.OrganismSystem, ~fairgraph.openminds.controlled_terms.species.Species, ~fairgraph.openminds.controlled_terms.subcellular_entity.SubcellularEntity, ~fairgraph.openminds.controlled_terms.tactile_stimulus_type.TactileStimulusType, ~fairgraph.openminds.controlled_terms.term_suggestion.TermSuggestion, ~fairgraph.openminds.controlled_terms.tissue_sample_type.TissueSampleType, ~fairgraph.openminds.controlled_terms.uberon_parcellation.UBERONParcellation, ~fairgraph.openminds.controlled_terms.visual_stimulus_type.VisualStimulusType, ~fairgraph.openminds.sands.non_atlas.custom_anatomical_entity.CustomAnatomicalEntity, ~fairgraph.openminds.sands.atlas.parcellation_entity.ParcellationEntity, ~fairgraph.openminds.sands.atlas.parcellation_entity_version.ParcellationEntityVersion\n",
      " |      Structure or function that was targeted within a study.\n",
      " |  support_channels : str\n",
      " |      Way of communication used to interact with users or customers.\n",
      " |  techniques : ~fairgraph.openminds.controlled_terms.analysis_technique.AnalysisTechnique, ~fairgraph.openminds.controlled_terms.mri_pulse_sequence.MRIPulseSequence, ~fairgraph.openminds.controlled_terms.mri_weighting.MRIWeighting, ~fairgraph.openminds.controlled_terms.stimulation_approach.StimulationApproach, ~fairgraph.openminds.controlled_terms.stimulation_technique.StimulationTechnique, ~fairgraph.openminds.controlled_terms.technique.Technique\n",
      " |      Method of accomplishing a desired aim.\n",
      " |  version_identifier : str\n",
      " |      Term or code used to identify the version of something.\n",
      " |  version_innovation : str\n",
      " |      Documentation on what changed in comparison to a previously published form of something.\n",
      " |  comments : ~fairgraph.openminds.core.miscellaneous.comment.Comment\n",
      " |      reverse of 'about'\n",
      " |  has_parts : ~fairgraph.openminds.core.research.protocol_execution.ProtocolExecution, ~fairgraph.openminds.ephys.activity.cell_patching.CellPatching, ~fairgraph.openminds.ephys.activity.electrode_placement.ElectrodePlacement, ~fairgraph.openminds.ephys.activity.recording_activity.RecordingActivity, ~fairgraph.openminds.specimen_prep.activity.cranial_window_preparation.CranialWindowPreparation, ~fairgraph.openminds.specimen_prep.activity.tissue_culture_preparation.TissueCulturePreparation, ~fairgraph.openminds.specimen_prep.activity.tissue_sample_slicing.TissueSampleSlicing, ~fairgraph.openminds.stimulation.activity.stimulation_activity.StimulationActivity\n",
      " |      reverse of 'is_part_of'\n",
      " |  is_input_to : ~fairgraph.openminds.computation.data_copy.DataCopy\n",
      " |      reverse of 'inputs'\n",
      " |  is_old_version_of : ~fairgraph.openminds.core.products.dataset_version.DatasetVersion\n",
      " |      reverse of 'is_new_version_of'\n",
      " |  is_part_of : ~fairgraph.openminds.core.products.project.Project, ~fairgraph.openminds.core.miscellaneous.research_product_group.ResearchProductGroup\n",
      " |      reverse of 'has_parts'\n",
      " |  is_version_of : ~fairgraph.openminds.core.products.dataset.Dataset\n",
      " |      reverse of 'has_versions'\n",
      " |  learning_resources : ~fairgraph.openminds.publications.learning_resource.LearningResource\n",
      " |      reverse of 'about'\n",
      " |  publication : ~fairgraph.openminds.publications.live_paper_version.LivePaperVersion\n",
      " |      reverse of 'about'\n",
      " |  \n",
      " |  Method resolution order:\n",
      " |      DatasetVersion\n",
      " |      fairgraph.kgobject.KGObject\n",
      " |      fairgraph.base.ContainsMetadata\n",
      " |      fairgraph.base.RepresentsSingleObject\n",
      " |      fairgraph.base.Resolvable\n",
      " |      fairgraph.base.SupportsQuerying\n",
      " |      builtins.object\n",
      " |  \n",
      " |  Methods defined here:\n",
      " |  \n",
      " |  __init__(self, name=None, alias=None, accessibility=None, authors=None, behavioral_protocols=None, comments=None, copyright=None, custodians=None, data_types=None, description=None, digital_identifier=None, ethics_assessment=None, experimental_approaches=None, full_documentation=None, full_name=None, funding=None, has_parts=None, homepage=None, how_to_cite=None, input_data=None, is_alternative_version_of=None, is_input_to=None, is_new_version_of=None, is_old_version_of=None, is_part_of=None, is_version_of=None, keywords=None, learning_resources=None, license=None, other_contributions=None, preparation_designs=None, protocols=None, publication=None, related_publications=None, release_date=None, repository=None, short_name=None, studied_specimens=None, study_targets=None, support_channels=None, techniques=None, version_identifier=None, version_innovation=None, id=None, data=None, space=None, scope=None)\n",
      " |      Initialize self.  See help(type(self)) for accurate signature.\n",
      " |  \n",
      " |  download(self, local_path, client, accept_terms_of_use=False)\n",
      " |  \n",
      " |  ----------------------------------------------------------------------\n",
      " |  Data and other attributes defined here:\n",
      " |  \n",
      " |  __annotations__ = {}\n",
      " |  \n",
      " |  aliases = {'alias': 'short_name', 'name': 'full_name'}\n",
      " |  \n",
      " |  context = {'core': 'https://openminds.ebrains.eu/core/', 'kg': 'https:...\n",
      " |  \n",
      " |  default_space = 'dataset'\n",
      " |  \n",
      " |  existence_query_properties = ('short_name', 'version_identifier')\n",
      " |  \n",
      " |  properties = [Property(name='accessibility', types=(<class 'fa...ab:ac...\n",
      " |  \n",
      " |  reverse_properties = [Property(name='comments', types=(<class 'fairgra...\n",
      " |  \n",
      " |  type_ = 'https://openminds.ebrains.eu/core/DatasetVersion'\n",
      " |  \n",
      " |  ----------------------------------------------------------------------\n",
      " |  Methods inherited from fairgraph.kgobject.KGObject:\n",
      " |  \n",
      " |  __eq__(self, other)\n",
      " |      Return self==value.\n",
      " |  \n",
      " |  __ne__(self, other)\n",
      " |      Return self!=value.\n",
      " |  \n",
      " |  __repr__(self)\n",
      " |      Return repr(self).\n",
      " |  \n",
      " |  children(self, client: 'KGClient', follow_links: 'Optional[Dict[str, Any]]' = None) -> 'List[RepresentsSingleObject]'\n",
      " |      Return a list of child objects.\n",
      " |  \n",
      " |  delete(self, client: 'KGClient', ignore_not_found: 'bool' = True)\n",
      " |      Delete the current metadata object from the KG.\n",
      " |      \n",
      " |      If `ignore_not_found` is False, an exception will be raised if the object does\n",
      " |      not exist. Otherwise, the method will finish silently.\n",
      " |  \n",
      " |  diff(self, other)\n",
      " |      Return a dictionary containing the differences between two metadata objects.\n",
      " |  \n",
      " |  exists(self, client: 'KGClient', ignore_duplicates: 'bool' = False, in_spaces: 'Optional[List[str]]' = None) -> 'bool'\n",
      " |      Check if this object already exists in the KnowledgeGraph\n",
      " |  \n",
      " |  export(self, path: 'str', single_file: 'bool' = False)\n",
      " |      Export metadata as files in JSON-LD format.\n",
      " |      \n",
      " |      If any objects do not have IDs, these will be generated.\n",
      " |      \n",
      " |      If `single_file` is False, then `path` must be the path to a directory,\n",
      " |      and each object will be exported as a file named for the object ID.\n",
      " |      \n",
      " |      If `single_file` is True, then `path` should be the path to a file\n",
      " |      with extension \".jsonld\". This file will contain metadata for all objects.\n",
      " |  \n",
      " |  modified_data(self) -> 'JSONdict'\n",
      " |      Return a dict containing the properties that have been modified locally\n",
      " |      from the values originally obtained from the Knowledge Graph.\n",
      " |  \n",
      " |  save(self, client: 'KGClient', space: 'Optional[str]' = None, recursive: 'bool' = True, activity_log: 'Optional[ActivityLog]' = None, replace: 'bool' = False, ignore_auth_errors: 'bool' = False, ignore_duplicates: 'bool' = False)\n",
      " |      Store the current object in the Knowledge Graph, either updating an existing instance\n",
      " |      or creating a new one as appropriate.\n",
      " |      \n",
      " |      Args:\n",
      " |          client: KGClient object that handles the communication with the KG.\n",
      " |          space (str, optional): The KG space to save the object in. If not provided, a default space is used depending on the object type.\n",
      " |          recursive (bool, optional): Whether to recursively save any children of this object. Defaults to True.\n",
      " |          activity_log (ActivityLog, optional): An `ActivityLog` instance to log the operations performed during the save operation.\n",
      " |              This is particularly helpful with `recursive=True`.\n",
      " |          replace (bool, optional): Whether to completely replace an existing KG instance with this one, or just update the existing object\n",
      " |              with any modified properties. Defaults to False.\n",
      " |          ignore_auth_errors (bool, optional): Whether to continue silently when encountering authentication errors. Defaults to False.\n",
      " |      \n",
      " |      Raises:\n",
      " |          - An `AuthorizationError` if the current user is not authorized to perform the requested operation.\n",
      " |  \n",
      " |  show(self, max_width: 'Optional[int]' = None, include_empty_properties=False)\n",
      " |      Print a table showing the metadata contained in this object.\n",
      " |  \n",
      " |  ----------------------------------------------------------------------\n",
      " |  Class methods inherited from fairgraph.kgobject.KGObject:\n",
      " |  \n",
      " |  by_name(name: 'str', client: 'KGClient', match: 'str' = 'equals', all: 'bool' = False, space: 'Optional[str]' = None, scope: 'str' = 'released', follow_links: 'Optional[Dict[str, Any]]' = None) -> 'Union[KGObject, List[KGObject], None]'\n",
      " |      Retrieve an instance from the Knowledge Graph based on its name.\n",
      " |      \n",
      " |      Note that not all metadata classes have a name property.\n",
      " |      \n",
      " |      Args:\n",
      " |          name (str): a string to search for in the name property.\n",
      " |          client: a KGClient\n",
      " |          match (str, optional): either \"equals\" (exact match - default) or \"contains\".\n",
      " |          all (bool, optional): Whether to return all objects that match the name, or only the first. Defaults to False.\n",
      " |          space (str, optional): the KG space to search in. Default is to search in all available spaces.\n",
      " |          scope (str, optional): The scope of the search. Valid values are \"released\", \"in progress\", or \"any\".\n",
      " |              Defaults to \"released\".\n",
      " |          follow_links (dict): The links in the graph to follow. Defaults to None.\n",
      " |  \n",
      " |  count(client: 'KGClient', api: 'str' = 'auto', scope: 'str' = 'released', space: 'Optional[str]' = None, **filters) -> 'int'\n",
      " |      Count the number of objects of a given type and (optionally) matching a given set of filters.\n",
      " |      \n",
      " |      Args:\n",
      " |          client: KGClient object that handles the communication with the KG.\n",
      " |          api (str): The KG API to use for the query. Can be 'query', 'core', or 'auto'. Default is 'auto'.\n",
      " |          scope (str, optional): The scope to use for the query. Can be 'released', 'in progress', or 'all'. Default is 'released'.\n",
      " |          space (str, optional): The KG space to be queried. If not specified, results from all accessible spaces will be counted.\n",
      " |          filters: Optional keyword arguments representing filters to apply to the query.\n",
      " |      \n",
      " |      Returns:\n",
      " |          The number of instances of this class in the given space that would match the given filters,\n",
      " |          or the total number of instances if no filters are provided.\n",
      " |      \n",
      " |      Raises:\n",
      " |          ValueError: If invalid arguments are passed to the method.\n",
      " |          NotImplementedError: If 'follow_links' is used with api='core'.\n",
      " |      \n",
      " |      Example:\n",
      " |      \n",
      " |          >>> from fairgraph import KGClient\n",
      " |          >>> import fairgraph.openminds.controlled_terms as terms\n",
      " |          >>> terms.CellType.count(client, name=\"interneuron\")\n",
      " |          8\n",
      " |  \n",
      " |  from_alias(alias: 'str', client: 'KGClient', space: 'Optional[str]' = None, scope: 'str' = 'released', follow_links: 'Optional[Dict[str, Any]]' = None)\n",
      " |      Retrieve an instance from the Knowledge Graph based on its alias/short name.\n",
      " |      \n",
      " |      Note that not all metadata classes have an alias.\n",
      " |      \n",
      " |      Args:\n",
      " |          alias (str): a short name used to identify a KG instance.\n",
      " |          client: a KGClient\n",
      " |          space (str, optional): the KG space to look in. Default is to look in all available spaces.\n",
      " |          scope (str, optional): The scope of the lookup. Valid values are \"released\", \"in progress\", or \"any\".\n",
      " |              Defaults to \"released\".\n",
      " |          follow_links (dict): The links in the graph to follow. Defaults to None.\n",
      " |  \n",
      " |  from_id(id: 'str', client: 'KGClient', use_cache: 'bool' = True, scope: 'str' = 'released', follow_links: 'Optional[Dict[str, Any]]' = None)\n",
      " |      Retrieve an instance from the Knowledge Graph based on either its URI or UUID.\n",
      " |      \n",
      " |      Args:\n",
      " |          id (str): short-form (UUID) or long-form (URI) identifier for the KG instance.\n",
      " |          client: a KGClient\n",
      " |          scope (str, optional): The scope of the lookup. Valid values are \"released\", \"in progress\", or \"any\".\n",
      " |              Defaults to \"released\".\n",
      " |          use_cache (bool): Whether to use cached data if they exist. Defaults to True.\n",
      " |          follow_links (dict): The links in the graph to follow. Defaults to None.\n",
      " |      \n",
      " |      Returns:\n",
      " |          Either a KGObject of the correct type, or None.\n",
      " |          A return value of None means either the object doesn't exist\n",
      " |          or the user doesn't have permission to access it.\n",
      " |  \n",
      " |  from_kg_instance(data: 'JSONdict', client: 'KGClient', scope: 'Optional[str]' = None)\n",
      " |      Create an instance of the class from a JSON-LD document.\n",
      " |  \n",
      " |  from_uri(uri: 'str', client: 'KGClient', use_cache: 'bool' = True, scope: 'str' = 'released', follow_links: 'Optional[Dict[str, Any]]' = None)\n",
      " |      Retrieve an instance from the Knowledge Graph based on its URI.\n",
      " |      \n",
      " |      Args:\n",
      " |          uri (str): long-form identifier for the KG instance (a full URI)\n",
      " |          client: a KGClient\n",
      " |          scope (str, optional): The scope of the lookup. Valid values are \"released\", \"in progress\", or \"any\".\n",
      " |              Defaults to \"released\".\n",
      " |          use_cache (bool): Whether to use cached data if they exist. Defaults to True.\n",
      " |          follow_links (dict): The links in the graph to follow. Defaults to None.\n",
      " |  \n",
      " |  from_uuid(uuid: 'str', client: 'KGClient', use_cache: 'bool' = True, scope: 'str' = 'released', follow_links: 'Optional[Dict[str, Any]]' = None)\n",
      " |      Retrieve an instance from the Knowledge Graph based on its UUID.\n",
      " |      \n",
      " |      Args:\n",
      " |          uuid (str): short-form identifier for the KG instance (a UUID).\n",
      " |          client: a KGClient\n",
      " |          scope (str, optional): The scope of the lookup. Valid values are \"released\", \"in progress\", or \"any\".\n",
      " |              Defaults to \"released\".\n",
      " |          use_cache (bool): Whether to use cached data if they exist. Defaults to True.\n",
      " |          follow_links (dict): The links in the graph to follow. Defaults to None.\n",
      " |  \n",
      " |  generate_minimal_query(client: 'KGClient', filters: 'Optional[Dict[str, Any]]' = None, label: 'Optional[str]' = None) -> 'Union[Dict[str, Any], None]'\n",
      " |      Generate a minimal KG query definition as a JSON-LD document.\n",
      " |      Such a query returns only the @id of any instances that are found.\n",
      " |      \n",
      " |      Args:\n",
      " |          client: KGClient object that handles the communication with the KG.\n",
      " |          filters (dict): A dictonary defining search parameters for the query.\n",
      " |          label (str, optional): a label for the query\n",
      " |      \n",
      " |      Returns:\n",
      " |          A JSON-LD document containing the KG query definition.\n",
      " |  \n",
      " |  generate_query(client: 'KGClient', space: 'Union[str, None]', filters: 'Optional[Dict[str, Any]]' = None, follow_links: 'Optional[Dict[str, Any]]' = None, label: 'Optional[str]' = None) -> 'Union[Dict[str, Any], None]'\n",
      " |      Generate a KG query definition as a JSON-LD document.\n",
      " |      \n",
      " |      Args:\n",
      " |          client: KGClient object that handles the communication with the KG.\n",
      " |          space (str, optional): if provided, restrict the query to metadata stored in the given KG space.\n",
      " |          filters (dict): A dictonary defining search parameters for the query.\n",
      " |          follow_links (dict): The links in the graph to follow. Defaults to None.\n",
      " |          label (str, optional): a label for the query\n",
      " |      \n",
      " |      Returns:\n",
      " |          A JSON-LD document containing the KG query definition.\n",
      " |  \n",
      " |  list(client: 'KGClient', size: 'int' = 100, from_index: 'int' = 0, api: 'str' = 'auto', scope: 'str' = 'released', space: 'Optional[str]' = None, follow_links: 'Optional[Dict[str, Any]]' = None, **filters) -> 'List[KGObject]'\n",
      " |      List all objects of this type in the Knowledge Graph\n",
      " |      \n",
      " |      Args:\n",
      " |          client: KGClient object that handles the communication with the KG.\n",
      " |          size (int, optional): The maximum number of instances to return. Default is 100.\n",
      " |          from_index (int, optional): The index of the first instance to return. Default is 0.\n",
      " |          api (str): The KG API to use for the query. Can be 'query', 'core', or 'auto'. Default is 'auto'.\n",
      " |          scope (str, optional): The scope to use for the query. Can be 'released', 'in progress', or 'all'. Default is 'released'.\n",
      " |          space (str, optional): The KG space to be queried. If not specified, results from all accessible spaces will be included.\n",
      " |          follow_links (dict): The links in the graph to follow. Defaults to None.\n",
      " |          filters: Optional keyword arguments representing filters to apply to the query.\n",
      " |      \n",
      " |      Returns:\n",
      " |          A list of instances of this class representing the objects returned by the KG query.\n",
      " |      \n",
      " |      Raises:\n",
      " |          ValueError: If invalid arguments are passed to the method.\n",
      " |          NotImplementedError: If 'follow_links' is used with api='core'.\n",
      " |      \n",
      " |      Example:\n",
      " |      \n",
      " |          >>> from fairgraph import KGClient\n",
      " |          >>> import fairgraph.openminds.controlled_terms as terms\n",
      " |          >>> interneuron_types = terms.CellType.list(client, name=\"interneuron\")\n",
      " |          >>> for ct in interneuron_types[:4]:\n",
      " |          ...     print(f\"{ct.name:<30} {ct.definition}\")\n",
      " |          cerebellar interneuron         None\n",
      " |          cholinergic interneuron        An inhibitory interneuron which mainly uses the neurotrasmitter acetylcholine (ACh).\n",
      " |          cortical interneuron           None\n",
      " |          fast spiking interneuron       A parvalbumin positive GABAergic interneuron with a high-frequency firing pattern.\n",
      " |  \n",
      " |  uri_from_uuid(uuid: 'str', client: 'KGClient') -> 'str'\n",
      " |      Convert an instances short-form identifier (a UUID) into the long-form (a URI)\n",
      " |  \n",
      " |  ----------------------------------------------------------------------\n",
      " |  Readonly properties inherited from fairgraph.kgobject.KGObject:\n",
      " |  \n",
      " |  space\n",
      " |  \n",
      " |  uuid\n",
      " |  \n",
      " |  ----------------------------------------------------------------------\n",
      " |  Data and other attributes inherited from fairgraph.kgobject.KGObject:\n",
      " |  \n",
      " |  __hash__ = None\n",
      " |  \n",
      " |  ----------------------------------------------------------------------\n",
      " |  Methods inherited from fairgraph.base.ContainsMetadata:\n",
      " |  \n",
      " |  __getattribute__(self, name)\n",
      " |      Return getattr(self, name).\n",
      " |  \n",
      " |  __setattr__(self, name, value)\n",
      " |      Implement setattr(self, name, value).\n",
      " |  \n",
      " |  resolve(self, client: 'KGClient', scope: 'Optional[str]' = None, use_cache: 'bool' = True, follow_links: 'Optional[Dict[str, Any]]' = None)\n",
      " |      Resolve properties that are represented by KGProxy objects.\n",
      " |      \n",
      " |      Args:\n",
      " |          client: KGClient object that handles the communication with the KG.\n",
      " |          scope (str): The scope of instances to include in the response.\n",
      " |                 Valid values are 'released', 'in progress', 'any'.\n",
      " |          use_cache (bool): whether to use cached data if they exist. Defaults to True.\n",
      " |          follow_links (dict): The links in the graph to follow. Defaults to None.\n",
      " |      \n",
      " |      Note: a real (non-proxy) object resolves to itself.\n",
      " |  \n",
      " |  to_jsonld(self, normalized: 'bool' = True, follow_links: 'bool' = False, include_empty_properties: 'bool' = False, include_reverse_properties: 'bool' = False)\n",
      " |      Return a JSON-LD representation of this metadata object\n",
      " |      \n",
      " |      Args:\n",
      " |          normalized (bool): Whether to expand all URIs. Defaults to True.\n",
      " |          follow_links (bool, optional): Whether to represent linked objects just by their \"@id\"\n",
      " |              or to include their full metadata. Defaults to False.\n",
      " |          include_empty_properties (bool, optional): Whether to include empty properties (with value \"null\").\n",
      " |              Defaults to False.\n",
      " |  \n",
      " |  ----------------------------------------------------------------------\n",
      " |  Class methods inherited from fairgraph.base.ContainsMetadata:\n",
      " |  \n",
      " |  from_jsonld(data: 'JSONdict', client: 'KGClient', scope: 'Optional[str]' = None)\n",
      " |      Create an instance of the class from a JSON-LD document.\n",
      " |  \n",
      " |  generate_query_filter_properties(filters: 'Optional[Dict[str, Any]]' = None)\n",
      " |      Args:\n",
      " |          filters (dict, optional): A dict containing search parameters for the query.\n",
      " |  \n",
      " |  generate_query_properties(follow_links: 'Optional[Dict[str, Any]]' = None)\n",
      " |      Generate a list of QueryProperty instances for this class\n",
      " |      for use in constructing a KG query definition.\n",
      " |      \n",
      " |      Args:\n",
      " |          follow_links (dict): The links in the graph to follow when constructing the query. Defaults to None.\n",
      " |  \n",
      " |  normalize_filter(filter_dict: 'Dict[str, Any]') -> 'Dict[str, Any]'\n",
      " |      Normalize a dict containing filter key:value pairs so that it can be used\n",
      " |      in a call to the KG query API.\n",
      " |      \n",
      " |      Example:\n",
      " |          >>> import fairgraph.openminds.core as omcore\n",
      " |          >>> person = omcore.Person.from_uuid(\"045f846f-f010-4db8-97b9-b95b20970bf2\", kg_client)\n",
      " |          >>> filter_dict = {\"custodians\": person, \"name\": \"Virtual\"}\n",
      " |          >>> omcore.Dataset.normalize_filter(filter_dict)\n",
      " |          {'name': 'Virtual',\n",
      " |           'custodians': 'https://kg.ebrains.eu/api/instances/045f846f-f010-4db8-97b9-b95b20970bf2'}\n",
      " |  \n",
      " |  set_error_handling(value: 'Union[ErrorHandling, None]', property_names: 'Optional[Union[str, List[str]]]' = None)\n",
      " |      Control validation for this class.\n",
      " |      \n",
      " |      Args:\n",
      " |          value (str): action to follow when there is a validation failure.\n",
      " |              (e.g. if a required property is not provided).\n",
      " |              Possible values: \"error\", \"warning\", \"log\", None\n",
      " |          property_names (str or list of str, optional): If not provided, the error handling\n",
      " |              mode will be applied to all properties. If a property name or list of names is given,\n",
      " |              the mode will be applied only to those properties.\n",
      " |  \n",
      " |  ----------------------------------------------------------------------\n",
      " |  Methods inherited from fairgraph.base.RepresentsSingleObject:\n",
      " |  \n",
      " |  is_released(self, client: 'KGClient', with_children: 'bool' = False) -> 'bool'\n",
      " |      Release status of the node\n",
      " |  \n",
      " |  release(self, client: 'KGClient', with_children: 'bool' = False)\n",
      " |      Release this node (make it available in public search).\n",
      " |  \n",
      " |  unrelease(self, client: 'KGClient', with_children: 'bool' = False)\n",
      " |      Un-release this node (remove it from public search).\n",
      " |  \n",
      " |  ----------------------------------------------------------------------\n",
      " |  Data descriptors inherited from fairgraph.base.Resolvable:\n",
      " |  \n",
      " |  __dict__\n",
      " |      dictionary for instance variables\n",
      " |  \n",
      " |  __weakref__\n",
      " |      list of weak references to the object\n",
      "\n"
     ]
    }
   ],
   "source": [
    "## use this visualiZe the DatasetVersion schema\n",
    "help(DatasetVersion)"
   ]
  },
  {
   "cell_type": "code",
   "execution_count": 27,
   "id": "1d7f0c62",
   "metadata": {
    "collapsed": true,
    "jupyter": {
     "outputs_hidden": true
    },
    "tags": []
   },
   "outputs": [
    {
     "name": "stderr",
     "output_type": "stream",
     "text": [
      "Property 'release_date' is required but was not provided.\n"
     ]
    },
    {
     "name": "stdout",
     "output_type": "stream",
     "text": [
      "id                       https://kg.ebrains.eu/api/instances/0b9b952a-e1bf-404c-8777-fe2ef6bfafa8\n",
      "space                    dataset\n",
      "type                     https://openminds.ebrains.eu/core/DatasetVersion\n",
      "accessibility            KGProxy([<class 'fairgraph.openminds.controlled_terms.product_accessibility.ProductAccessibility'>], 'https://kg.ebrains.eu/api/instances/b2ff7a47-b349-48d7-8ce4-cf51868675f1')\n",
      "data_types               [KGProxy([<class 'fairgraph.openminds.controlled_terms.semantic_data_type.SemanticDataType'>], 'https://kg.ebrains.eu/api/instances/f468ee45-37a6-4e71-8b70-0cbe66d367db'), KGProxy([<class 'fairgraph.openminds.controlled_terms.semantic_data_type.SemanticDataType'>], 'https://kg.ebrains.eu/api/instances/2a07e0f3-f48a-48f9-9fe3-9164909a8408')]\n",
      "description\n",
      "digital_identifier       KGProxy((<class 'fairgraph.openminds.core.digital_identifier.doi.DOI'>, <class 'fairgraph.openminds.core.digital_identifier.identifiers_dot_org_id.IdentifiersDotOrgID'>), 'https://kg.ebrains.eu/api/instances/85e6dca9-07fc-48ad-a5ec-a6dee811960f')\n",
      "ethics_assessment        KGProxy([<class 'fairgraph.openminds.controlled_terms.ethics_assessment.EthicsAssessment'>], 'https://kg.ebrains.eu/api/instances/a7887d50-8f1b-48ac-99e4-955b8387ab7e')\n",
      "experimental_approaches  [KGProxy([<class 'fairgraph.openminds.controlled_terms.experimental_approach.ExperimentalApproach'>], 'https://kg.ebrains.eu/api/instances/4ccfa2b8-fe75-4a17-98b7-e01b922c8f03'), KGProxy([<class 'fairgraph.openminds.controlled_terms.experimental_approach.ExperimentalApproach'>], 'https://kg.ebrains.eu/api/instances/6800b954-f85a-40e0-8963-bc8ed2d5b188'), KGProxy([<class 'fairgraph.openminds.controlled_terms.experimental_approach.ExperimentalApproach'>], 'https://kg.ebrains.eu/api/instances/5216ce91-9097-41d1-a87b-3d386dda18c5')]\n",
      "full_documentation       KGProxy((<class 'fairgraph.openminds.core.digital_identifier.doi.DOI'>, <class 'fairgraph.openminds.core.data.file.File'>, <class 'fairgraph.openminds.core.digital_identifier.isbn.ISBN'>, <class 'fairgraph.openminds.core.miscellaneous.web_resource.WebResource'>), 'https://kg.ebrains.eu/api/instances/43c0052b-55e1-48ba-9440-30967c8bb0ed')\n",
      "full_name\n",
      "funding                  [KGProxy([<class 'fairgraph.openminds.core.miscellaneous.funding.Funding'>], 'https://kg.ebrains.eu/api/instances/099cd55c-3caf-479f-a722-6d1bf29d9636'), KGProxy([<class 'fairgraph.openminds.core.miscellaneous.funding.Funding'>], 'https://kg.ebrains.eu/api/instances/858a831b-237d-495d-babe-57eea51e710e'), KGProxy([<class 'fairgraph.openminds.core.miscellaneous.funding.Funding'>], 'https://kg.ebrains.eu/api/instances/6eb54373-0b05-444e-b0dd-6d5cd912a7bc'), KGProxy([<class 'fairgraph.openminds.core.miscellaneous.funding.Funding'>], 'https://kg.ebrains.eu/api/instances/7d90f8d1-bb97-4de4-8827-5a7a0ce8c453'), KGProxy([<class 'fairgraph.openminds.core.miscellaneous.funding.Funding'>], 'https://kg.ebrains.eu/api/instances/4ca075a7-a186-4910-9838-0088035e7572')]\n",
      "homepage                 https://www.marmosetbrain.org/nencki_monash_template\n",
      "input_data               KGProxy((<class 'fairgraph.openminds.core.digital_identifier.doi.DOI'>, <class 'fairgraph.openminds.core.data.file.File'>, <class 'fairgraph.openminds.core.data.file_bundle.FileBundle'>, <class 'fairgraph.openminds.core.miscellaneous.web_resource.WebResource'>, <class 'fairgraph.openminds.sands.atlas.brain_atlas.BrainAtlas'>, <class 'fairgraph.openminds.sands.atlas.brain_atlas_version.BrainAtlasVersion'>, <class 'fairgraph.openminds.sands.atlas.common_coordinate_space.CommonCoordinateSpace'>, <class 'fairgraph.openminds.sands.atlas.common_coordinate_space_version.CommonCoordinateSpaceVersion'>), 'https://kg.ebrains.eu/api/instances/59b8b1ff-9a1e-4665-a5f7-d39c023abb54')\n",
      "keywords                 [KGProxy((<class 'fairgraph.openminds.controlled_terms.action_status_type.ActionStatusType'>, <class 'fairgraph.openminds.controlled_terms.age_category.AgeCategory'>, <class 'fairgraph.openminds.controlled_terms.analysis_technique.AnalysisTechnique'>, <class 'fairgraph.openminds.controlled_terms.anatomical_axes_orientation.AnatomicalAxesOrientation'>, <class 'fairgraph.openminds.controlled_terms.anatomical_identification_type.AnatomicalIdentificationType'>, <class 'fairgraph.openminds.controlled_terms.anatomical_plane.AnatomicalPlane'>, <class 'fairgraph.openminds.controlled_terms.annotation_criteria_type.AnnotationCriteriaType'>, <class 'fairgraph.openminds.controlled_terms.annotation_type.AnnotationType'>, <class 'fairgraph.openminds.controlled_terms.atlas_type.AtlasType'>, <class 'fairgraph.openminds.controlled_terms.auditory_stimulus_type.AuditoryStimulusType'>, <class 'fairgraph.openminds.controlled_terms.biological_order.BiologicalOrder'>, <class 'fairgraph.openminds.controlled_terms.biological_process.BiologicalProcess'>, <class 'fairgraph.openminds.controlled_terms.biological_sex.BiologicalSex'>, <class 'fairgraph.openminds.controlled_terms.breeding_type.BreedingType'>, <class 'fairgraph.openminds.controlled_terms.cell_culture_type.CellCultureType'>, <class 'fairgraph.openminds.controlled_terms.cell_type.CellType'>, <class 'fairgraph.openminds.controlled_terms.chemical_mixture_type.ChemicalMixtureType'>, <class 'fairgraph.openminds.controlled_terms.colormap.Colormap'>, <class 'fairgraph.openminds.controlled_terms.contribution_type.ContributionType'>, <class 'fairgraph.openminds.controlled_terms.cranial_window_construction_type.CranialWindowConstructionType'>, <class 'fairgraph.openminds.controlled_terms.cranial_window_reinforcement_type.CranialWindowReinforcementType'>, <class 'fairgraph.openminds.controlled_terms.criteria_quality_type.CriteriaQualityType'>, <class 'fairgraph.openminds.controlled_terms.data_type.DataType'>, <class 'fairgraph.openminds.controlled_terms.device_type.DeviceType'>, <class 'fairgraph.openminds.controlled_terms.difference_measure.DifferenceMeasure'>, <class 'fairgraph.openminds.controlled_terms.disease.Disease'>, <class 'fairgraph.openminds.controlled_terms.disease_model.DiseaseModel'>, <class 'fairgraph.openminds.controlled_terms.educational_level.EducationalLevel'>, <class 'fairgraph.openminds.controlled_terms.electrical_stimulus_type.ElectricalStimulusType'>, <class 'fairgraph.openminds.controlled_terms.ethics_assessment.EthicsAssessment'>, <class 'fairgraph.openminds.controlled_terms.experimental_approach.ExperimentalApproach'>, <class 'fairgraph.openminds.controlled_terms.file_bundle_grouping.FileBundleGrouping'>, <class 'fairgraph.openminds.controlled_terms.file_repository_type.FileRepositoryType'>, <class 'fairgraph.openminds.controlled_terms.file_usage_role.FileUsageRole'>, <class 'fairgraph.openminds.controlled_terms.genetic_strain_type.GeneticStrainType'>, <class 'fairgraph.openminds.controlled_terms.gustatory_stimulus_type.GustatoryStimulusType'>, <class 'fairgraph.openminds.controlled_terms.handedness.Handedness'>, <class 'fairgraph.openminds.controlled_terms.language.Language'>, <class 'fairgraph.openminds.controlled_terms.laterality.Laterality'>, <class 'fairgraph.openminds.controlled_terms.learning_resource_type.LearningResourceType'>, <class 'fairgraph.openminds.controlled_terms.mri_pulse_sequence.MRIPulseSequence'>, <class 'fairgraph.openminds.controlled_terms.mri_weighting.MRIWeighting'>, <class 'fairgraph.openminds.controlled_terms.measured_quantity.MeasuredQuantity'>, <class 'fairgraph.openminds.controlled_terms.measured_signal_type.MeasuredSignalType'>, <class 'fairgraph.openminds.controlled_terms.meta_data_model_type.MetaDataModelType'>, <class 'fairgraph.openminds.controlled_terms.model_abstraction_level.ModelAbstractionLevel'>, <class 'fairgraph.openminds.controlled_terms.model_scope.ModelScope'>, <class 'fairgraph.openminds.controlled_terms.molecular_entity.MolecularEntity'>, <class 'fairgraph.openminds.controlled_terms.olfactory_stimulus_type.OlfactoryStimulusType'>, <class 'fairgraph.openminds.controlled_terms.operating_device.OperatingDevice'>, <class 'fairgraph.openminds.controlled_terms.operating_system.OperatingSystem'>, <class 'fairgraph.openminds.controlled_terms.optical_stimulus_type.OpticalStimulusType'>, <class 'fairgraph.openminds.controlled_terms.organ.Organ'>, <class 'fairgraph.openminds.controlled_terms.organism_substance.OrganismSubstance'>, <class 'fairgraph.openminds.controlled_terms.organism_system.OrganismSystem'>, <class 'fairgraph.openminds.controlled_terms.patch_clamp_variation.PatchClampVariation'>, <class 'fairgraph.openminds.controlled_terms.preparation_type.PreparationType'>, <class 'fairgraph.openminds.controlled_terms.product_accessibility.ProductAccessibility'>, <class 'fairgraph.openminds.controlled_terms.programming_language.ProgrammingLanguage'>, <class 'fairgraph.openminds.controlled_terms.qualitative_overlap.QualitativeOverlap'>, <class 'fairgraph.openminds.controlled_terms.semantic_data_type.SemanticDataType'>, <class 'fairgraph.openminds.controlled_terms.service.Service'>, <class 'fairgraph.openminds.controlled_terms.setup_type.SetupType'>, <class 'fairgraph.openminds.controlled_terms.software_application_category.SoftwareApplicationCategory'>, <class 'fairgraph.openminds.controlled_terms.software_feature.SoftwareFeature'>, <class 'fairgraph.openminds.controlled_terms.species.Species'>, <class 'fairgraph.openminds.controlled_terms.stimulation_approach.StimulationApproach'>, <class 'fairgraph.openminds.controlled_terms.stimulation_technique.StimulationTechnique'>, <class 'fairgraph.openminds.controlled_terms.subcellular_entity.SubcellularEntity'>, <class 'fairgraph.openminds.controlled_terms.subject_attribute.SubjectAttribute'>, <class 'fairgraph.openminds.controlled_terms.tactile_stimulus_type.TactileStimulusType'>, <class 'fairgraph.openminds.controlled_terms.technique.Technique'>, <class 'fairgraph.openminds.controlled_terms.term_suggestion.TermSuggestion'>, <class 'fairgraph.openminds.controlled_terms.terminology.Terminology'>, <class 'fairgraph.openminds.controlled_terms.tissue_sample_attribute.TissueSampleAttribute'>, <class 'fairgraph.openminds.controlled_terms.tissue_sample_type.TissueSampleType'>, <class 'fairgraph.openminds.controlled_terms.type_of_uncertainty.TypeOfUncertainty'>, <class 'fairgraph.openminds.controlled_terms.uberon_parcellation.UBERONParcellation'>, <class 'fairgraph.openminds.controlled_terms.unit_of_measurement.UnitOfMeasurement'>, <class 'fairgraph.openminds.controlled_terms.visual_stimulus_type.VisualStimulusType'>), 'https://kg.ebrains.eu/api/instances/80f566b7-9b99-43a5-a69f-7ced50076da7'), KGProxy((<class 'fairgraph.openminds.controlled_terms.action_status_type.ActionStatusType'>, <class 'fairgraph.openminds.controlled_terms.age_category.AgeCategory'>, <class 'fairgraph.openminds.controlled_terms.analysis_technique.AnalysisTechnique'>, <class 'fairgraph.openminds.controlled_terms.anatomical_axes_orientation.AnatomicalAxesOrientation'>, <class 'fairgraph.openminds.controlled_terms.anatomical_identification_type.AnatomicalIdentificationType'>, <class 'fairgraph.openminds.controlled_terms.anatomical_plane.AnatomicalPlane'>, <class 'fairgraph.openminds.controlled_terms.annotation_criteria_type.AnnotationCriteriaType'>, <class 'fairgraph.openminds.controlled_terms.annotation_type.AnnotationType'>, <class 'fairgraph.openminds.controlled_terms.atlas_type.AtlasType'>, <class 'fairgraph.openminds.controlled_terms.auditory_stimulus_type.AuditoryStimulusType'>, <class 'fairgraph.openminds.controlled_terms.biological_order.BiologicalOrder'>, <class 'fairgraph.openminds.controlled_terms.biological_process.BiologicalProcess'>, <class 'fairgraph.openminds.controlled_terms.biological_sex.BiologicalSex'>, <class 'fairgraph.openminds.controlled_terms.breeding_type.BreedingType'>, <class 'fairgraph.openminds.controlled_terms.cell_culture_type.CellCultureType'>, <class 'fairgraph.openminds.controlled_terms.cell_type.CellType'>, <class 'fairgraph.openminds.controlled_terms.chemical_mixture_type.ChemicalMixtureType'>, <class 'fairgraph.openminds.controlled_terms.colormap.Colormap'>, <class 'fairgraph.openminds.controlled_terms.contribution_type.ContributionType'>, <class 'fairgraph.openminds.controlled_terms.cranial_window_construction_type.CranialWindowConstructionType'>, <class 'fairgraph.openminds.controlled_terms.cranial_window_reinforcement_type.CranialWindowReinforcementType'>, <class 'fairgraph.openminds.controlled_terms.criteria_quality_type.CriteriaQualityType'>, <class 'fairgraph.openminds.controlled_terms.data_type.DataType'>, <class 'fairgraph.openminds.controlled_terms.device_type.DeviceType'>, <class 'fairgraph.openminds.controlled_terms.difference_measure.DifferenceMeasure'>, <class 'fairgraph.openminds.controlled_terms.disease.Disease'>, <class 'fairgraph.openminds.controlled_terms.disease_model.DiseaseModel'>, <class 'fairgraph.openminds.controlled_terms.educational_level.EducationalLevel'>, <class 'fairgraph.openminds.controlled_terms.electrical_stimulus_type.ElectricalStimulusType'>, <class 'fairgraph.openminds.controlled_terms.ethics_assessment.EthicsAssessment'>, <class 'fairgraph.openminds.controlled_terms.experimental_approach.ExperimentalApproach'>, <class 'fairgraph.openminds.controlled_terms.file_bundle_grouping.FileBundleGrouping'>, <class 'fairgraph.openminds.controlled_terms.file_repository_type.FileRepositoryType'>, <class 'fairgraph.openminds.controlled_terms.file_usage_role.FileUsageRole'>, <class 'fairgraph.openminds.controlled_terms.genetic_strain_type.GeneticStrainType'>, <class 'fairgraph.openminds.controlled_terms.gustatory_stimulus_type.GustatoryStimulusType'>, <class 'fairgraph.openminds.controlled_terms.handedness.Handedness'>, <class 'fairgraph.openminds.controlled_terms.language.Language'>, <class 'fairgraph.openminds.controlled_terms.laterality.Laterality'>, <class 'fairgraph.openminds.controlled_terms.learning_resource_type.LearningResourceType'>, <class 'fairgraph.openminds.controlled_terms.mri_pulse_sequence.MRIPulseSequence'>, <class 'fairgraph.openminds.controlled_terms.mri_weighting.MRIWeighting'>, <class 'fairgraph.openminds.controlled_terms.measured_quantity.MeasuredQuantity'>, <class 'fairgraph.openminds.controlled_terms.measured_signal_type.MeasuredSignalType'>, <class 'fairgraph.openminds.controlled_terms.meta_data_model_type.MetaDataModelType'>, <class 'fairgraph.openminds.controlled_terms.model_abstraction_level.ModelAbstractionLevel'>, <class 'fairgraph.openminds.controlled_terms.model_scope.ModelScope'>, <class 'fairgraph.openminds.controlled_terms.molecular_entity.MolecularEntity'>, <class 'fairgraph.openminds.controlled_terms.olfactory_stimulus_type.OlfactoryStimulusType'>, <class 'fairgraph.openminds.controlled_terms.operating_device.OperatingDevice'>, <class 'fairgraph.openminds.controlled_terms.operating_system.OperatingSystem'>, <class 'fairgraph.openminds.controlled_terms.optical_stimulus_type.OpticalStimulusType'>, <class 'fairgraph.openminds.controlled_terms.organ.Organ'>, <class 'fairgraph.openminds.controlled_terms.organism_substance.OrganismSubstance'>, <class 'fairgraph.openminds.controlled_terms.organism_system.OrganismSystem'>, <class 'fairgraph.openminds.controlled_terms.patch_clamp_variation.PatchClampVariation'>, <class 'fairgraph.openminds.controlled_terms.preparation_type.PreparationType'>, <class 'fairgraph.openminds.controlled_terms.product_accessibility.ProductAccessibility'>, <class 'fairgraph.openminds.controlled_terms.programming_language.ProgrammingLanguage'>, <class 'fairgraph.openminds.controlled_terms.qualitative_overlap.QualitativeOverlap'>, <class 'fairgraph.openminds.controlled_terms.semantic_data_type.SemanticDataType'>, <class 'fairgraph.openminds.controlled_terms.service.Service'>, <class 'fairgraph.openminds.controlled_terms.setup_type.SetupType'>, <class 'fairgraph.openminds.controlled_terms.software_application_category.SoftwareApplicationCategory'>, <class 'fairgraph.openminds.controlled_terms.software_feature.SoftwareFeature'>, <class 'fairgraph.openminds.controlled_terms.species.Species'>, <class 'fairgraph.openminds.controlled_terms.stimulation_approach.StimulationApproach'>, <class 'fairgraph.openminds.controlled_terms.stimulation_technique.StimulationTechnique'>, <class 'fairgraph.openminds.controlled_terms.subcellular_entity.SubcellularEntity'>, <class 'fairgraph.openminds.controlled_terms.subject_attribute.SubjectAttribute'>, <class 'fairgraph.openminds.controlled_terms.tactile_stimulus_type.TactileStimulusType'>, <class 'fairgraph.openminds.controlled_terms.technique.Technique'>, <class 'fairgraph.openminds.controlled_terms.term_suggestion.TermSuggestion'>, <class 'fairgraph.openminds.controlled_terms.terminology.Terminology'>, <class 'fairgraph.openminds.controlled_terms.tissue_sample_attribute.TissueSampleAttribute'>, <class 'fairgraph.openminds.controlled_terms.tissue_sample_type.TissueSampleType'>, <class 'fairgraph.openminds.controlled_terms.type_of_uncertainty.TypeOfUncertainty'>, <class 'fairgraph.openminds.controlled_terms.uberon_parcellation.UBERONParcellation'>, <class 'fairgraph.openminds.controlled_terms.unit_of_measurement.UnitOfMeasurement'>, <class 'fairgraph.openminds.controlled_terms.visual_stimulus_type.VisualStimulusType'>), 'https://kg.ebrains.eu/api/instances/3d530472-b70f-46b8-a2aa-e815500bb80c')]\n",
      "license                  KGProxy((<class 'fairgraph.openminds.core.data.license.License'>, <class 'fairgraph.openminds.core.miscellaneous.web_resource.WebResource'>), 'https://kg.ebrains.eu/api/instances/418544bf-c328-468f-bdcc-9b40623bd65b')\n",
      "preparation_designs      [KGProxy([<class 'fairgraph.openminds.controlled_terms.preparation_type.PreparationType'>], 'https://kg.ebrains.eu/api/instances/77f7c7e7-ad5f-4001-b246-7f50981076b1'), KGProxy([<class 'fairgraph.openminds.controlled_terms.preparation_type.PreparationType'>], 'https://kg.ebrains.eu/api/instances/a3c483d1-e63b-4075-b126-f81699111e94')]\n",
      "related_publications     KGProxy((<class 'fairgraph.openminds.core.digital_identifier.doi.DOI'>, <class 'fairgraph.openminds.core.digital_identifier.handle.HANDLE'>, <class 'fairgraph.openminds.core.digital_identifier.isbn.ISBN'>, <class 'fairgraph.openminds.core.digital_identifier.issn.ISSN'>, <class 'fairgraph.openminds.publications.book.Book'>, <class 'fairgraph.openminds.publications.chapter.Chapter'>, <class 'fairgraph.openminds.publications.scholarly_article.ScholarlyArticle'>), 'https://kg.ebrains.eu/api/instances/59b8b1ff-9a1e-4665-a5f7-d39c023abb54')\n",
      "repository               KGProxy([<class 'fairgraph.openminds.core.data.file_repository.FileRepository'>], 'https://kg.ebrains.eu/api/instances/48db32ac-8522-49e4-b791-f61e6ab8eafc')\n",
      "short_name               Nencki-Monash parcellation\n",
      "studied_specimens        [KGProxy((<class 'fairgraph.openminds.core.research.subject.Subject'>, <class 'fairgraph.openminds.core.research.subject_group.SubjectGroup'>, <class 'fairgraph.openminds.core.research.tissue_sample.TissueSample'>, <class 'fairgraph.openminds.core.research.tissue_sample_collection.TissueSampleCollection'>), 'https://kg.ebrains.eu/api/instances/91a5d383-8b74-45cc-bfe3-579101dbf580'), KGProxy((<class 'fairgraph.openminds.core.research.subject.Subject'>, <class 'fairgraph.openminds.core.research.subject_group.SubjectGroup'>, <class 'fairgraph.openminds.core.research.tissue_sample.TissueSample'>, <class 'fairgraph.openminds.core.research.tissue_sample_collection.TissueSampleCollection'>), 'https://kg.ebrains.eu/api/instances/a2e2425b-a443-4f3e-84ae-4dab666d4483'), KGProxy((<class 'fairgraph.openminds.core.research.subject.Subject'>, <class 'fairgraph.openminds.core.research.subject_group.SubjectGroup'>, <class 'fairgraph.openminds.core.research.tissue_sample.TissueSample'>, <class 'fairgraph.openminds.core.research.tissue_sample_collection.TissueSampleCollection'>), 'https://kg.ebrains.eu/api/instances/399368c1-fa6d-4317-aa97-aba1ce894cb6'), KGProxy((<class 'fairgraph.openminds.core.research.subject.Subject'>, <class 'fairgraph.openminds.core.research.subject_group.SubjectGroup'>, <class 'fairgraph.openminds.core.research.tissue_sample.TissueSample'>, <class 'fairgraph.openminds.core.research.tissue_sample_collection.TissueSampleCollection'>), 'https://kg.ebrains.eu/api/instances/605a0e67-d8a8-4388-91bd-cb8b14c563ab'), KGProxy((<class 'fairgraph.openminds.core.research.subject.Subject'>, <class 'fairgraph.openminds.core.research.subject_group.SubjectGroup'>, <class 'fairgraph.openminds.core.research.tissue_sample.TissueSample'>, <class 'fairgraph.openminds.core.research.tissue_sample_collection.TissueSampleCollection'>), 'https://kg.ebrains.eu/api/instances/aa481937-5958-45dd-a16a-8c843b4f10c8'), KGProxy((<class 'fairgraph.openminds.core.research.subject.Subject'>, <class 'fairgraph.openminds.core.research.subject_group.SubjectGroup'>, <class 'fairgraph.openminds.core.research.tissue_sample.TissueSample'>, <class 'fairgraph.openminds.core.research.tissue_sample_collection.TissueSampleCollection'>), 'https://kg.ebrains.eu/api/instances/59271cb6-1368-4529-9695-34a43c2efedb'), KGProxy((<class 'fairgraph.openminds.core.research.subject.Subject'>, <class 'fairgraph.openminds.core.research.subject_group.SubjectGroup'>, <class 'fairgraph.openminds.core.research.tissue_sample.TissueSample'>, <class 'fairgraph.openminds.core.research.tissue_sample_collection.TissueSampleCollection'>), 'https://kg.ebrains.eu/api/instances/6d94de47-98eb-41e3-a6c3-c5ece146b9fc'), KGProxy((<class 'fairgraph.openminds.core.research.subject.Subject'>, <class 'fairgraph.openminds.core.research.subject_group.SubjectGroup'>, <class 'fairgraph.openminds.core.research.tissue_sample.TissueSample'>, <class 'fairgraph.openminds.core.research.tissue_sample_collection.TissueSampleCollection'>), 'https://kg.ebrains.eu/api/instances/6f4002b2-62e3-47e2-98e9-6c78402525ed'), KGProxy((<class 'fairgraph.openminds.core.research.subject.Subject'>, <class 'fairgraph.openminds.core.research.subject_group.SubjectGroup'>, <class 'fairgraph.openminds.core.research.tissue_sample.TissueSample'>, <class 'fairgraph.openminds.core.research.tissue_sample_collection.TissueSampleCollection'>), 'https://kg.ebrains.eu/api/instances/7bba5676-502a-40d8-b006-81e0631961cd'), KGProxy((<class 'fairgraph.openminds.core.research.subject.Subject'>, <class 'fairgraph.openminds.core.research.subject_group.SubjectGroup'>, <class 'fairgraph.openminds.core.research.tissue_sample.TissueSample'>, <class 'fairgraph.openminds.core.research.tissue_sample_collection.TissueSampleCollection'>), 'https://kg.ebrains.eu/api/instances/d50140ef-0795-4c08-b569-c71bab64eeb9'), KGProxy((<class 'fairgraph.openminds.core.research.subject.Subject'>, <class 'fairgraph.openminds.core.research.subject_group.SubjectGroup'>, <class 'fairgraph.openminds.core.research.tissue_sample.TissueSample'>, <class 'fairgraph.openminds.core.research.tissue_sample_collection.TissueSampleCollection'>), 'https://kg.ebrains.eu/api/instances/f1aef8dd-6bc6-4bc6-95a0-4971ae64f280'), KGProxy((<class 'fairgraph.openminds.core.research.subject.Subject'>, <class 'fairgraph.openminds.core.research.subject_group.SubjectGroup'>, <class 'fairgraph.openminds.core.research.tissue_sample.TissueSample'>, <class 'fairgraph.openminds.core.research.tissue_sample_collection.TissueSampleCollection'>), 'https://kg.ebrains.eu/api/instances/0582ec64-91d7-45af-a66f-1d5b34d0c1f3'), KGProxy((<class 'fairgraph.openminds.core.research.subject.Subject'>, <class 'fairgraph.openminds.core.research.subject_group.SubjectGroup'>, <class 'fairgraph.openminds.core.research.tissue_sample.TissueSample'>, <class 'fairgraph.openminds.core.research.tissue_sample_collection.TissueSampleCollection'>), 'https://kg.ebrains.eu/api/instances/818ae7c4-a2b9-4c53-af7e-ab5873800907'), KGProxy((<class 'fairgraph.openminds.core.research.subject.Subject'>, <class 'fairgraph.openminds.core.research.subject_group.SubjectGroup'>, <class 'fairgraph.openminds.core.research.tissue_sample.TissueSample'>, <class 'fairgraph.openminds.core.research.tissue_sample_collection.TissueSampleCollection'>), 'https://kg.ebrains.eu/api/instances/a31a33a0-5798-4880-9ac0-aa4171a8896c'), KGProxy((<class 'fairgraph.openminds.core.research.subject.Subject'>, <class 'fairgraph.openminds.core.research.subject_group.SubjectGroup'>, <class 'fairgraph.openminds.core.research.tissue_sample.TissueSample'>, <class 'fairgraph.openminds.core.research.tissue_sample_collection.TissueSampleCollection'>), 'https://kg.ebrains.eu/api/instances/642f1747-fa31-48b1-bbb4-a15d4c24ae50'), KGProxy((<class 'fairgraph.openminds.core.research.subject.Subject'>, <class 'fairgraph.openminds.core.research.subject_group.SubjectGroup'>, <class 'fairgraph.openminds.core.research.tissue_sample.TissueSample'>, <class 'fairgraph.openminds.core.research.tissue_sample_collection.TissueSampleCollection'>), 'https://kg.ebrains.eu/api/instances/10471f09-923d-4116-98f8-80c11e408fa9'), KGProxy((<class 'fairgraph.openminds.core.research.subject.Subject'>, <class 'fairgraph.openminds.core.research.subject_group.SubjectGroup'>, <class 'fairgraph.openminds.core.research.tissue_sample.TissueSample'>, <class 'fairgraph.openminds.core.research.tissue_sample_collection.TissueSampleCollection'>), 'https://kg.ebrains.eu/api/instances/f9227e25-0ba7-47d3-bc39-9bbfb0cfb807'), KGProxy((<class 'fairgraph.openminds.core.research.subject.Subject'>, <class 'fairgraph.openminds.core.research.subject_group.SubjectGroup'>, <class 'fairgraph.openminds.core.research.tissue_sample.TissueSample'>, <class 'fairgraph.openminds.core.research.tissue_sample_collection.TissueSampleCollection'>), 'https://kg.ebrains.eu/api/instances/702349da-5d21-4ddb-b585-6059c82337cf'), KGProxy((<class 'fairgraph.openminds.core.research.subject.Subject'>, <class 'fairgraph.openminds.core.research.subject_group.SubjectGroup'>, <class 'fairgraph.openminds.core.research.tissue_sample.TissueSample'>, <class 'fairgraph.openminds.core.research.tissue_sample_collection.TissueSampleCollection'>), 'https://kg.ebrains.eu/api/instances/d5d66265-90b9-498b-a6b2-7e804c430784'), KGProxy((<class 'fairgraph.openminds.core.research.subject.Subject'>, <class 'fairgraph.openminds.core.research.subject_group.SubjectGroup'>, <class 'fairgraph.openminds.core.research.tissue_sample.TissueSample'>, <class 'fairgraph.openminds.core.research.tissue_sample_collection.TissueSampleCollection'>), 'https://kg.ebrains.eu/api/instances/a2b765be-e1ba-40c8-bceb-3278929ec6f0'), KGProxy((<class 'fairgraph.openminds.core.research.subject.Subject'>, <class 'fairgraph.openminds.core.research.subject_group.SubjectGroup'>, <class 'fairgraph.openminds.core.research.tissue_sample.TissueSample'>, <class 'fairgraph.openminds.core.research.tissue_sample_collection.TissueSampleCollection'>), 'https://kg.ebrains.eu/api/instances/6b0db945-fa0e-416b-9102-7c8304ca41a0'), KGProxy((<class 'fairgraph.openminds.core.research.subject.Subject'>, <class 'fairgraph.openminds.core.research.subject_group.SubjectGroup'>, <class 'fairgraph.openminds.core.research.tissue_sample.TissueSample'>, <class 'fairgraph.openminds.core.research.tissue_sample_collection.TissueSampleCollection'>), 'https://kg.ebrains.eu/api/instances/9bb5c3f6-07a9-49e9-b443-c6a5c653e5bc'), KGProxy((<class 'fairgraph.openminds.core.research.subject.Subject'>, <class 'fairgraph.openminds.core.research.subject_group.SubjectGroup'>, <class 'fairgraph.openminds.core.research.tissue_sample.TissueSample'>, <class 'fairgraph.openminds.core.research.tissue_sample_collection.TissueSampleCollection'>), 'https://kg.ebrains.eu/api/instances/40c1ba75-77d0-4715-b526-ec43b6de329e'), KGProxy((<class 'fairgraph.openminds.core.research.subject.Subject'>, <class 'fairgraph.openminds.core.research.subject_group.SubjectGroup'>, <class 'fairgraph.openminds.core.research.tissue_sample.TissueSample'>, <class 'fairgraph.openminds.core.research.tissue_sample_collection.TissueSampleCollection'>), 'https://kg.ebrains.eu/api/instances/fa2e4e05-6309-4c06-b8ce-0592364d25b0'), KGProxy((<class 'fairgraph.openminds.core.research.subject.Subject'>, <class 'fairgraph.openminds.core.research.subject_group.SubjectGroup'>, <class 'fairgraph.openminds.core.research.tissue_sample.TissueSample'>, <class 'fairgraph.openminds.core.research.tissue_sample_collection.TissueSampleCollection'>), 'https://kg.ebrains.eu/api/instances/061da9fc-af5f-4319-8936-38f45ee502ec'), KGProxy((<class 'fairgraph.openminds.core.research.subject.Subject'>, <class 'fairgraph.openminds.core.research.subject_group.SubjectGroup'>, <class 'fairgraph.openminds.core.research.tissue_sample.TissueSample'>, <class 'fairgraph.openminds.core.research.tissue_sample_collection.TissueSampleCollection'>), 'https://kg.ebrains.eu/api/instances/eab39a1b-ee99-4d11-9145-dd9f00c7f526'), KGProxy((<class 'fairgraph.openminds.core.research.subject.Subject'>, <class 'fairgraph.openminds.core.research.subject_group.SubjectGroup'>, <class 'fairgraph.openminds.core.research.tissue_sample.TissueSample'>, <class 'fairgraph.openminds.core.research.tissue_sample_collection.TissueSampleCollection'>), 'https://kg.ebrains.eu/api/instances/660f46fc-61b7-4dc4-908a-4916f8b47a89'), KGProxy((<class 'fairgraph.openminds.core.research.subject.Subject'>, <class 'fairgraph.openminds.core.research.subject_group.SubjectGroup'>, <class 'fairgraph.openminds.core.research.tissue_sample.TissueSample'>, <class 'fairgraph.openminds.core.research.tissue_sample_collection.TissueSampleCollection'>), 'https://kg.ebrains.eu/api/instances/6b81699a-acb7-47ad-b8f1-9728538f96db'), KGProxy((<class 'fairgraph.openminds.core.research.subject.Subject'>, <class 'fairgraph.openminds.core.research.subject_group.SubjectGroup'>, <class 'fairgraph.openminds.core.research.tissue_sample.TissueSample'>, <class 'fairgraph.openminds.core.research.tissue_sample_collection.TissueSampleCollection'>), 'https://kg.ebrains.eu/api/instances/ad67d032-b47c-48f5-9c17-f54da578c18f'), KGProxy((<class 'fairgraph.openminds.core.research.subject.Subject'>, <class 'fairgraph.openminds.core.research.subject_group.SubjectGroup'>, <class 'fairgraph.openminds.core.research.tissue_sample.TissueSample'>, <class 'fairgraph.openminds.core.research.tissue_sample_collection.TissueSampleCollection'>), 'https://kg.ebrains.eu/api/instances/cf5c66b9-f18e-4650-b01a-59dfa52b832f'), KGProxy((<class 'fairgraph.openminds.core.research.subject.Subject'>, <class 'fairgraph.openminds.core.research.subject_group.SubjectGroup'>, <class 'fairgraph.openminds.core.research.tissue_sample.TissueSample'>, <class 'fairgraph.openminds.core.research.tissue_sample_collection.TissueSampleCollection'>), 'https://kg.ebrains.eu/api/instances/ade21ad5-0931-444e-a7cd-7a564e716e56'), KGProxy((<class 'fairgraph.openminds.core.research.subject.Subject'>, <class 'fairgraph.openminds.core.research.subject_group.SubjectGroup'>, <class 'fairgraph.openminds.core.research.tissue_sample.TissueSample'>, <class 'fairgraph.openminds.core.research.tissue_sample_collection.TissueSampleCollection'>), 'https://kg.ebrains.eu/api/instances/9400d95a-0c31-41a0-97e8-7c8d15183c4c'), KGProxy((<class 'fairgraph.openminds.core.research.subject.Subject'>, <class 'fairgraph.openminds.core.research.subject_group.SubjectGroup'>, <class 'fairgraph.openminds.core.research.tissue_sample.TissueSample'>, <class 'fairgraph.openminds.core.research.tissue_sample_collection.TissueSampleCollection'>), 'https://kg.ebrains.eu/api/instances/61137471-1996-425b-83dc-6cbe53639631'), KGProxy((<class 'fairgraph.openminds.core.research.subject.Subject'>, <class 'fairgraph.openminds.core.research.subject_group.SubjectGroup'>, <class 'fairgraph.openminds.core.research.tissue_sample.TissueSample'>, <class 'fairgraph.openminds.core.research.tissue_sample_collection.TissueSampleCollection'>), 'https://kg.ebrains.eu/api/instances/66e77096-2760-46da-b98e-fa3442c64d23'), KGProxy((<class 'fairgraph.openminds.core.research.subject.Subject'>, <class 'fairgraph.openminds.core.research.subject_group.SubjectGroup'>, <class 'fairgraph.openminds.core.research.tissue_sample.TissueSample'>, <class 'fairgraph.openminds.core.research.tissue_sample_collection.TissueSampleCollection'>), 'https://kg.ebrains.eu/api/instances/c07044ed-0139-46c6-a6f2-df0c88ad2eb2'), KGProxy((<class 'fairgraph.openminds.core.research.subject.Subject'>, <class 'fairgraph.openminds.core.research.subject_group.SubjectGroup'>, <class 'fairgraph.openminds.core.research.tissue_sample.TissueSample'>, <class 'fairgraph.openminds.core.research.tissue_sample_collection.TissueSampleCollection'>), 'https://kg.ebrains.eu/api/instances/a17f1259-d89b-4937-922a-5b7b1cdc555c'), KGProxy((<class 'fairgraph.openminds.core.research.subject.Subject'>, <class 'fairgraph.openminds.core.research.subject_group.SubjectGroup'>, <class 'fairgraph.openminds.core.research.tissue_sample.TissueSample'>, <class 'fairgraph.openminds.core.research.tissue_sample_collection.TissueSampleCollection'>), 'https://kg.ebrains.eu/api/instances/b3c15327-0d67-40c6-9d0f-7999ed0c6283'), KGProxy((<class 'fairgraph.openminds.core.research.subject.Subject'>, <class 'fairgraph.openminds.core.research.subject_group.SubjectGroup'>, <class 'fairgraph.openminds.core.research.tissue_sample.TissueSample'>, <class 'fairgraph.openminds.core.research.tissue_sample_collection.TissueSampleCollection'>), 'https://kg.ebrains.eu/api/instances/7032e1b5-839e-4768-abfe-23f7afae8481'), KGProxy((<class 'fairgraph.openminds.core.research.subject.Subject'>, <class 'fairgraph.openminds.core.research.subject_group.SubjectGroup'>, <class 'fairgraph.openminds.core.research.tissue_sample.TissueSample'>, <class 'fairgraph.openminds.core.research.tissue_sample_collection.TissueSampleCollection'>), 'https://kg.ebrains.eu/api/instances/4a718627-8f5a-4cc5-824a-c93a3106a91b'), KGProxy((<class 'fairgraph.openminds.core.research.subject.Subject'>, <class 'fairgraph.openminds.core.research.subject_group.SubjectGroup'>, <class 'fairgraph.openminds.core.research.tissue_sample.TissueSample'>, <class 'fairgraph.openminds.core.research.tissue_sample_collection.TissueSampleCollection'>), 'https://kg.ebrains.eu/api/instances/4ecc8d18-68c0-42fd-be82-b21d0d73dbb0')]\n",
      "study_targets            [KGProxy((<class 'fairgraph.openminds.controlled_terms.auditory_stimulus_type.AuditoryStimulusType'>, <class 'fairgraph.openminds.controlled_terms.biological_order.BiologicalOrder'>, <class 'fairgraph.openminds.controlled_terms.biological_sex.BiologicalSex'>, <class 'fairgraph.openminds.controlled_terms.breeding_type.BreedingType'>, <class 'fairgraph.openminds.controlled_terms.cell_culture_type.CellCultureType'>, <class 'fairgraph.openminds.controlled_terms.cell_type.CellType'>, <class 'fairgraph.openminds.controlled_terms.disease.Disease'>, <class 'fairgraph.openminds.controlled_terms.disease_model.DiseaseModel'>, <class 'fairgraph.openminds.controlled_terms.electrical_stimulus_type.ElectricalStimulusType'>, <class 'fairgraph.openminds.controlled_terms.genetic_strain_type.GeneticStrainType'>, <class 'fairgraph.openminds.controlled_terms.gustatory_stimulus_type.GustatoryStimulusType'>, <class 'fairgraph.openminds.controlled_terms.handedness.Handedness'>, <class 'fairgraph.openminds.controlled_terms.molecular_entity.MolecularEntity'>, <class 'fairgraph.openminds.controlled_terms.olfactory_stimulus_type.OlfactoryStimulusType'>, <class 'fairgraph.openminds.controlled_terms.optical_stimulus_type.OpticalStimulusType'>, <class 'fairgraph.openminds.controlled_terms.organ.Organ'>, <class 'fairgraph.openminds.controlled_terms.organism_substance.OrganismSubstance'>, <class 'fairgraph.openminds.controlled_terms.organism_system.OrganismSystem'>, <class 'fairgraph.openminds.controlled_terms.species.Species'>, <class 'fairgraph.openminds.controlled_terms.subcellular_entity.SubcellularEntity'>, <class 'fairgraph.openminds.controlled_terms.tactile_stimulus_type.TactileStimulusType'>, <class 'fairgraph.openminds.controlled_terms.term_suggestion.TermSuggestion'>, <class 'fairgraph.openminds.controlled_terms.tissue_sample_type.TissueSampleType'>, <class 'fairgraph.openminds.controlled_terms.uberon_parcellation.UBERONParcellation'>, <class 'fairgraph.openminds.controlled_terms.visual_stimulus_type.VisualStimulusType'>, <class 'fairgraph.openminds.sands.non_atlas.custom_anatomical_entity.CustomAnatomicalEntity'>, <class 'fairgraph.openminds.sands.atlas.parcellation_entity.ParcellationEntity'>, <class 'fairgraph.openminds.sands.atlas.parcellation_entity_version.ParcellationEntityVersion'>), 'https://kg.ebrains.eu/api/instances/627bac2f-2b4c-4f2d-ae4e-9373a7f430f2'), KGProxy((<class 'fairgraph.openminds.controlled_terms.auditory_stimulus_type.AuditoryStimulusType'>, <class 'fairgraph.openminds.controlled_terms.biological_order.BiologicalOrder'>, <class 'fairgraph.openminds.controlled_terms.biological_sex.BiologicalSex'>, <class 'fairgraph.openminds.controlled_terms.breeding_type.BreedingType'>, <class 'fairgraph.openminds.controlled_terms.cell_culture_type.CellCultureType'>, <class 'fairgraph.openminds.controlled_terms.cell_type.CellType'>, <class 'fairgraph.openminds.controlled_terms.disease.Disease'>, <class 'fairgraph.openminds.controlled_terms.disease_model.DiseaseModel'>, <class 'fairgraph.openminds.controlled_terms.electrical_stimulus_type.ElectricalStimulusType'>, <class 'fairgraph.openminds.controlled_terms.genetic_strain_type.GeneticStrainType'>, <class 'fairgraph.openminds.controlled_terms.gustatory_stimulus_type.GustatoryStimulusType'>, <class 'fairgraph.openminds.controlled_terms.handedness.Handedness'>, <class 'fairgraph.openminds.controlled_terms.molecular_entity.MolecularEntity'>, <class 'fairgraph.openminds.controlled_terms.olfactory_stimulus_type.OlfactoryStimulusType'>, <class 'fairgraph.openminds.controlled_terms.optical_stimulus_type.OpticalStimulusType'>, <class 'fairgraph.openminds.controlled_terms.organ.Organ'>, <class 'fairgraph.openminds.controlled_terms.organism_substance.OrganismSubstance'>, <class 'fairgraph.openminds.controlled_terms.organism_system.OrganismSystem'>, <class 'fairgraph.openminds.controlled_terms.species.Species'>, <class 'fairgraph.openminds.controlled_terms.subcellular_entity.SubcellularEntity'>, <class 'fairgraph.openminds.controlled_terms.tactile_stimulus_type.TactileStimulusType'>, <class 'fairgraph.openminds.controlled_terms.term_suggestion.TermSuggestion'>, <class 'fairgraph.openminds.controlled_terms.tissue_sample_type.TissueSampleType'>, <class 'fairgraph.openminds.controlled_terms.uberon_parcellation.UBERONParcellation'>, <class 'fairgraph.openminds.controlled_terms.visual_stimulus_type.VisualStimulusType'>, <class 'fairgraph.openminds.sands.non_atlas.custom_anatomical_entity.CustomAnatomicalEntity'>, <class 'fairgraph.openminds.sands.atlas.parcellation_entity.ParcellationEntity'>, <class 'fairgraph.openminds.sands.atlas.parcellation_entity_version.ParcellationEntityVersion'>), 'https://kg.ebrains.eu/api/instances/9f495e52-754d-4196-be82-5de56bd86836'), KGProxy((<class 'fairgraph.openminds.controlled_terms.auditory_stimulus_type.AuditoryStimulusType'>, <class 'fairgraph.openminds.controlled_terms.biological_order.BiologicalOrder'>, <class 'fairgraph.openminds.controlled_terms.biological_sex.BiologicalSex'>, <class 'fairgraph.openminds.controlled_terms.breeding_type.BreedingType'>, <class 'fairgraph.openminds.controlled_terms.cell_culture_type.CellCultureType'>, <class 'fairgraph.openminds.controlled_terms.cell_type.CellType'>, <class 'fairgraph.openminds.controlled_terms.disease.Disease'>, <class 'fairgraph.openminds.controlled_terms.disease_model.DiseaseModel'>, <class 'fairgraph.openminds.controlled_terms.electrical_stimulus_type.ElectricalStimulusType'>, <class 'fairgraph.openminds.controlled_terms.genetic_strain_type.GeneticStrainType'>, <class 'fairgraph.openminds.controlled_terms.gustatory_stimulus_type.GustatoryStimulusType'>, <class 'fairgraph.openminds.controlled_terms.handedness.Handedness'>, <class 'fairgraph.openminds.controlled_terms.molecular_entity.MolecularEntity'>, <class 'fairgraph.openminds.controlled_terms.olfactory_stimulus_type.OlfactoryStimulusType'>, <class 'fairgraph.openminds.controlled_terms.optical_stimulus_type.OpticalStimulusType'>, <class 'fairgraph.openminds.controlled_terms.organ.Organ'>, <class 'fairgraph.openminds.controlled_terms.organism_substance.OrganismSubstance'>, <class 'fairgraph.openminds.controlled_terms.organism_system.OrganismSystem'>, <class 'fairgraph.openminds.controlled_terms.species.Species'>, <class 'fairgraph.openminds.controlled_terms.subcellular_entity.SubcellularEntity'>, <class 'fairgraph.openminds.controlled_terms.tactile_stimulus_type.TactileStimulusType'>, <class 'fairgraph.openminds.controlled_terms.term_suggestion.TermSuggestion'>, <class 'fairgraph.openminds.controlled_terms.tissue_sample_type.TissueSampleType'>, <class 'fairgraph.openminds.controlled_terms.uberon_parcellation.UBERONParcellation'>, <class 'fairgraph.openminds.controlled_terms.visual_stimulus_type.VisualStimulusType'>, <class 'fairgraph.openminds.sands.non_atlas.custom_anatomical_entity.CustomAnatomicalEntity'>, <class 'fairgraph.openminds.sands.atlas.parcellation_entity.ParcellationEntity'>, <class 'fairgraph.openminds.sands.atlas.parcellation_entity_version.ParcellationEntityVersion'>), 'https://kg.ebrains.eu/api/instances/5abd6841-6b2b-4a03-8672-75d957a1437e'), KGProxy((<class 'fairgraph.openminds.controlled_terms.auditory_stimulus_type.AuditoryStimulusType'>, <class 'fairgraph.openminds.controlled_terms.biological_order.BiologicalOrder'>, <class 'fairgraph.openminds.controlled_terms.biological_sex.BiologicalSex'>, <class 'fairgraph.openminds.controlled_terms.breeding_type.BreedingType'>, <class 'fairgraph.openminds.controlled_terms.cell_culture_type.CellCultureType'>, <class 'fairgraph.openminds.controlled_terms.cell_type.CellType'>, <class 'fairgraph.openminds.controlled_terms.disease.Disease'>, <class 'fairgraph.openminds.controlled_terms.disease_model.DiseaseModel'>, <class 'fairgraph.openminds.controlled_terms.electrical_stimulus_type.ElectricalStimulusType'>, <class 'fairgraph.openminds.controlled_terms.genetic_strain_type.GeneticStrainType'>, <class 'fairgraph.openminds.controlled_terms.gustatory_stimulus_type.GustatoryStimulusType'>, <class 'fairgraph.openminds.controlled_terms.handedness.Handedness'>, <class 'fairgraph.openminds.controlled_terms.molecular_entity.MolecularEntity'>, <class 'fairgraph.openminds.controlled_terms.olfactory_stimulus_type.OlfactoryStimulusType'>, <class 'fairgraph.openminds.controlled_terms.optical_stimulus_type.OpticalStimulusType'>, <class 'fairgraph.openminds.controlled_terms.organ.Organ'>, <class 'fairgraph.openminds.controlled_terms.organism_substance.OrganismSubstance'>, <class 'fairgraph.openminds.controlled_terms.organism_system.OrganismSystem'>, <class 'fairgraph.openminds.controlled_terms.species.Species'>, <class 'fairgraph.openminds.controlled_terms.subcellular_entity.SubcellularEntity'>, <class 'fairgraph.openminds.controlled_terms.tactile_stimulus_type.TactileStimulusType'>, <class 'fairgraph.openminds.controlled_terms.term_suggestion.TermSuggestion'>, <class 'fairgraph.openminds.controlled_terms.tissue_sample_type.TissueSampleType'>, <class 'fairgraph.openminds.controlled_terms.uberon_parcellation.UBERONParcellation'>, <class 'fairgraph.openminds.controlled_terms.visual_stimulus_type.VisualStimulusType'>, <class 'fairgraph.openminds.sands.non_atlas.custom_anatomical_entity.CustomAnatomicalEntity'>, <class 'fairgraph.openminds.sands.atlas.parcellation_entity.ParcellationEntity'>, <class 'fairgraph.openminds.sands.atlas.parcellation_entity_version.ParcellationEntityVersion'>), 'https://kg.ebrains.eu/api/instances/ad3d0d3e-c6d0-4d67-88cf-05167aec3503'), KGProxy((<class 'fairgraph.openminds.controlled_terms.auditory_stimulus_type.AuditoryStimulusType'>, <class 'fairgraph.openminds.controlled_terms.biological_order.BiologicalOrder'>, <class 'fairgraph.openminds.controlled_terms.biological_sex.BiologicalSex'>, <class 'fairgraph.openminds.controlled_terms.breeding_type.BreedingType'>, <class 'fairgraph.openminds.controlled_terms.cell_culture_type.CellCultureType'>, <class 'fairgraph.openminds.controlled_terms.cell_type.CellType'>, <class 'fairgraph.openminds.controlled_terms.disease.Disease'>, <class 'fairgraph.openminds.controlled_terms.disease_model.DiseaseModel'>, <class 'fairgraph.openminds.controlled_terms.electrical_stimulus_type.ElectricalStimulusType'>, <class 'fairgraph.openminds.controlled_terms.genetic_strain_type.GeneticStrainType'>, <class 'fairgraph.openminds.controlled_terms.gustatory_stimulus_type.GustatoryStimulusType'>, <class 'fairgraph.openminds.controlled_terms.handedness.Handedness'>, <class 'fairgraph.openminds.controlled_terms.molecular_entity.MolecularEntity'>, <class 'fairgraph.openminds.controlled_terms.olfactory_stimulus_type.OlfactoryStimulusType'>, <class 'fairgraph.openminds.controlled_terms.optical_stimulus_type.OpticalStimulusType'>, <class 'fairgraph.openminds.controlled_terms.organ.Organ'>, <class 'fairgraph.openminds.controlled_terms.organism_substance.OrganismSubstance'>, <class 'fairgraph.openminds.controlled_terms.organism_system.OrganismSystem'>, <class 'fairgraph.openminds.controlled_terms.species.Species'>, <class 'fairgraph.openminds.controlled_terms.subcellular_entity.SubcellularEntity'>, <class 'fairgraph.openminds.controlled_terms.tactile_stimulus_type.TactileStimulusType'>, <class 'fairgraph.openminds.controlled_terms.term_suggestion.TermSuggestion'>, <class 'fairgraph.openminds.controlled_terms.tissue_sample_type.TissueSampleType'>, <class 'fairgraph.openminds.controlled_terms.uberon_parcellation.UBERONParcellation'>, <class 'fairgraph.openminds.controlled_terms.visual_stimulus_type.VisualStimulusType'>, <class 'fairgraph.openminds.sands.non_atlas.custom_anatomical_entity.CustomAnatomicalEntity'>, <class 'fairgraph.openminds.sands.atlas.parcellation_entity.ParcellationEntity'>, <class 'fairgraph.openminds.sands.atlas.parcellation_entity_version.ParcellationEntityVersion'>), 'https://kg.ebrains.eu/api/instances/897adef8-6fd7-449b-99a9-bd2ce37ca7f8'), KGProxy((<class 'fairgraph.openminds.controlled_terms.auditory_stimulus_type.AuditoryStimulusType'>, <class 'fairgraph.openminds.controlled_terms.biological_order.BiologicalOrder'>, <class 'fairgraph.openminds.controlled_terms.biological_sex.BiologicalSex'>, <class 'fairgraph.openminds.controlled_terms.breeding_type.BreedingType'>, <class 'fairgraph.openminds.controlled_terms.cell_culture_type.CellCultureType'>, <class 'fairgraph.openminds.controlled_terms.cell_type.CellType'>, <class 'fairgraph.openminds.controlled_terms.disease.Disease'>, <class 'fairgraph.openminds.controlled_terms.disease_model.DiseaseModel'>, <class 'fairgraph.openminds.controlled_terms.electrical_stimulus_type.ElectricalStimulusType'>, <class 'fairgraph.openminds.controlled_terms.genetic_strain_type.GeneticStrainType'>, <class 'fairgraph.openminds.controlled_terms.gustatory_stimulus_type.GustatoryStimulusType'>, <class 'fairgraph.openminds.controlled_terms.handedness.Handedness'>, <class 'fairgraph.openminds.controlled_terms.molecular_entity.MolecularEntity'>, <class 'fairgraph.openminds.controlled_terms.olfactory_stimulus_type.OlfactoryStimulusType'>, <class 'fairgraph.openminds.controlled_terms.optical_stimulus_type.OpticalStimulusType'>, <class 'fairgraph.openminds.controlled_terms.organ.Organ'>, <class 'fairgraph.openminds.controlled_terms.organism_substance.OrganismSubstance'>, <class 'fairgraph.openminds.controlled_terms.organism_system.OrganismSystem'>, <class 'fairgraph.openminds.controlled_terms.species.Species'>, <class 'fairgraph.openminds.controlled_terms.subcellular_entity.SubcellularEntity'>, <class 'fairgraph.openminds.controlled_terms.tactile_stimulus_type.TactileStimulusType'>, <class 'fairgraph.openminds.controlled_terms.term_suggestion.TermSuggestion'>, <class 'fairgraph.openminds.controlled_terms.tissue_sample_type.TissueSampleType'>, <class 'fairgraph.openminds.controlled_terms.uberon_parcellation.UBERONParcellation'>, <class 'fairgraph.openminds.controlled_terms.visual_stimulus_type.VisualStimulusType'>, <class 'fairgraph.openminds.sands.non_atlas.custom_anatomical_entity.CustomAnatomicalEntity'>, <class 'fairgraph.openminds.sands.atlas.parcellation_entity.ParcellationEntity'>, <class 'fairgraph.openminds.sands.atlas.parcellation_entity_version.ParcellationEntityVersion'>), 'https://kg.ebrains.eu/api/instances/00d2bc35-e463-4761-93f0-770f231896d6')]\n",
      "techniques               [KGProxy((<class 'fairgraph.openminds.controlled_terms.analysis_technique.AnalysisTechnique'>, <class 'fairgraph.openminds.controlled_terms.mri_pulse_sequence.MRIPulseSequence'>, <class 'fairgraph.openminds.controlled_terms.mri_weighting.MRIWeighting'>, <class 'fairgraph.openminds.controlled_terms.stimulation_approach.StimulationApproach'>, <class 'fairgraph.openminds.controlled_terms.stimulation_technique.StimulationTechnique'>, <class 'fairgraph.openminds.controlled_terms.technique.Technique'>), 'https://kg.ebrains.eu/api/instances/cbe94ac1-4bdd-45cd-a846-a1eb095fed8b'), KGProxy((<class 'fairgraph.openminds.controlled_terms.analysis_technique.AnalysisTechnique'>, <class 'fairgraph.openminds.controlled_terms.mri_pulse_sequence.MRIPulseSequence'>, <class 'fairgraph.openminds.controlled_terms.mri_weighting.MRIWeighting'>, <class 'fairgraph.openminds.controlled_terms.stimulation_approach.StimulationApproach'>, <class 'fairgraph.openminds.controlled_terms.stimulation_technique.StimulationTechnique'>, <class 'fairgraph.openminds.controlled_terms.technique.Technique'>), 'https://kg.ebrains.eu/api/instances/d53f1266-13ab-46b6-b50c-d33bffba0c73'), KGProxy((<class 'fairgraph.openminds.controlled_terms.analysis_technique.AnalysisTechnique'>, <class 'fairgraph.openminds.controlled_terms.mri_pulse_sequence.MRIPulseSequence'>, <class 'fairgraph.openminds.controlled_terms.mri_weighting.MRIWeighting'>, <class 'fairgraph.openminds.controlled_terms.stimulation_approach.StimulationApproach'>, <class 'fairgraph.openminds.controlled_terms.stimulation_technique.StimulationTechnique'>, <class 'fairgraph.openminds.controlled_terms.technique.Technique'>), 'https://kg.ebrains.eu/api/instances/43185154-18b5-4e25-b3dc-22813863fa15'), KGProxy((<class 'fairgraph.openminds.controlled_terms.analysis_technique.AnalysisTechnique'>, <class 'fairgraph.openminds.controlled_terms.mri_pulse_sequence.MRIPulseSequence'>, <class 'fairgraph.openminds.controlled_terms.mri_weighting.MRIWeighting'>, <class 'fairgraph.openminds.controlled_terms.stimulation_approach.StimulationApproach'>, <class 'fairgraph.openminds.controlled_terms.stimulation_technique.StimulationTechnique'>, <class 'fairgraph.openminds.controlled_terms.technique.Technique'>), 'https://kg.ebrains.eu/api/instances/93220ab7-91e7-4e2e-8ccf-41df8c52674d'), KGProxy((<class 'fairgraph.openminds.controlled_terms.analysis_technique.AnalysisTechnique'>, <class 'fairgraph.openminds.controlled_terms.mri_pulse_sequence.MRIPulseSequence'>, <class 'fairgraph.openminds.controlled_terms.mri_weighting.MRIWeighting'>, <class 'fairgraph.openminds.controlled_terms.stimulation_approach.StimulationApproach'>, <class 'fairgraph.openminds.controlled_terms.stimulation_technique.StimulationTechnique'>, <class 'fairgraph.openminds.controlled_terms.technique.Technique'>), 'https://kg.ebrains.eu/api/instances/fa0259c3-230d-49e2-97d9-efe2a29d621e'), KGProxy((<class 'fairgraph.openminds.controlled_terms.analysis_technique.AnalysisTechnique'>, <class 'fairgraph.openminds.controlled_terms.mri_pulse_sequence.MRIPulseSequence'>, <class 'fairgraph.openminds.controlled_terms.mri_weighting.MRIWeighting'>, <class 'fairgraph.openminds.controlled_terms.stimulation_approach.StimulationApproach'>, <class 'fairgraph.openminds.controlled_terms.stimulation_technique.StimulationTechnique'>, <class 'fairgraph.openminds.controlled_terms.technique.Technique'>), 'https://kg.ebrains.eu/api/instances/4d294fe1-5cbe-4ae4-bcdc-88866798550b'), KGProxy((<class 'fairgraph.openminds.controlled_terms.analysis_technique.AnalysisTechnique'>, <class 'fairgraph.openminds.controlled_terms.mri_pulse_sequence.MRIPulseSequence'>, <class 'fairgraph.openminds.controlled_terms.mri_weighting.MRIWeighting'>, <class 'fairgraph.openminds.controlled_terms.stimulation_approach.StimulationApproach'>, <class 'fairgraph.openminds.controlled_terms.stimulation_technique.StimulationTechnique'>, <class 'fairgraph.openminds.controlled_terms.technique.Technique'>), 'https://kg.ebrains.eu/api/instances/5c603612-cac1-4286-9306-c358b734d972'), KGProxy((<class 'fairgraph.openminds.controlled_terms.analysis_technique.AnalysisTechnique'>, <class 'fairgraph.openminds.controlled_terms.mri_pulse_sequence.MRIPulseSequence'>, <class 'fairgraph.openminds.controlled_terms.mri_weighting.MRIWeighting'>, <class 'fairgraph.openminds.controlled_terms.stimulation_approach.StimulationApproach'>, <class 'fairgraph.openminds.controlled_terms.stimulation_technique.StimulationTechnique'>, <class 'fairgraph.openminds.controlled_terms.technique.Technique'>), 'https://kg.ebrains.eu/api/instances/fa465c87-809b-41d3-a6fd-731edb8aaf89')]\n",
      "version_identifier       v1\n",
      "version_innovation       This is the initial version of the dataset, released February 1, 2021, tagged v1.\n"
     ]
    }
   ],
   "source": [
    "##Get a dataset using the ID\n",
    "dataset_of_interest = DatasetVersion.from_id(\"0b9b952a-e1bf-404c-8777-fe2ef6bfafa8\", client)\n",
    "dataset_of_interest.show()"
   ]
  },
  {
   "cell_type": "code",
   "execution_count": 4,
   "id": "d910dd02-4ebe-4ced-9202-d04834308526",
   "metadata": {},
   "outputs": [
    {
     "data": {
      "text/plain": [
       "KGProxy((<class 'fairgraph.openminds.core.data.license.License'>, <class 'fairgraph.openminds.core.miscellaneous.web_resource.WebResource'>), 'https://kg.ebrains.eu/api/instances/418544bf-c328-468f-bdcc-9b40623bd65b')"
      ]
     },
     "execution_count": 4,
     "metadata": {},
     "output_type": "execute_result"
    }
   ],
   "source": [
    "## get the license property of the dataset\n",
    "dataset_of_interest.license"
   ]
  },
  {
   "cell_type": "code",
   "execution_count": 5,
   "id": "167e48a0",
   "metadata": {},
   "outputs": [
    {
     "name": "stdout",
     "output_type": "stream",
     "text": [
      "id          https://kg.ebrains.eu/api/instances/418544bf-c328-468f-bdcc-9b40623bd65b\n",
      "space       controlled\n",
      "type        https://openminds.ebrains.eu/core/License\n",
      "full_name   Creative Commons Attribution Share Alike 4.0 International\n",
      "legal_code  https://creativecommons.org/licenses/by-sa/4.0/legalcode\n",
      "short_name  CC-BY-SA-4.0\n",
      "webpages    ['https://creativecommons.org/licenses/by-sa/4.0', 'https://spdx.org/licenses/CC-BY-SA-4.0.html']\n"
     ]
    }
   ],
   "source": [
    "## resolve the license link\n",
    "dataset_license = dataset_of_interest.license.resolve(client)\n",
    "dataset_license.show()"
   ]
  },
  {
   "cell_type": "code",
   "execution_count": 6,
   "id": "abf43dbb",
   "metadata": {},
   "outputs": [
    {
     "name": "stdout",
     "output_type": "stream",
     "text": [
      "id                     https://kg.ebrains.eu/api/instances/48db32ac-8522-49e4-b791-f61e6ab8eafc\n",
      "space                  dataset\n",
      "type                   https://openminds.ebrains.eu/core/FileRepository\n",
      "content_type_patterns  [KGProxy([<class 'fairgraph.openminds.core.data.content_type_pattern.ContentTypePattern'>], 'https://kg.ebrains.eu/api/instances/01b63397-5e3f-41fa-bbd0-eb664c3b08d0'), KGProxy([<class 'fairgraph.openminds.core.data.content_type_pattern.ContentTypePattern'>], 'https://kg.ebrains.eu/api/instances/ca20128d-f3ab-4b69-96a9-7d3fcb522c5a'), KGProxy([<class 'fairgraph.openminds.core.data.content_type_pattern.ContentTypePattern'>], 'https://kg.ebrains.eu/api/instances/cf20dba7-19f5-4c0b-9be8-33e9ead6ee93'), KGProxy([<class 'fairgraph.openminds.core.data.content_type_pattern.ContentTypePattern'>], 'https://kg.ebrains.eu/api/instances/2d0d3a58-21d5-4b3e-9c72-0131711111c3')]\n",
      "hosted_by              KGProxy([<class 'fairgraph.openminds.core.actors.organization.Organization'>], 'https://kg.ebrains.eu/api/instances/7dfdd91f-3d05-424a-80bd-6d1d5dc11cd3')\n",
      "iri                    https://data-proxy.ebrains.eu/api/v1/buckets/d-0b9b952a-e1bf-404c-8777-fe2ef6bfafa8\n",
      "name                   bucket/d-0b9b952a-e1bf-404c-8777-fe2ef6bfafa8\n",
      "type                   KGProxy([<class 'fairgraph.openminds.controlled_terms.file_repository_type.FileRepositoryType'>], 'https://kg.ebrains.eu/api/instances/877e7f6b-b9e6-4a07-a8c9-01f9f5e4ca8b')\n"
     ]
    }
   ],
   "source": [
    "repo= dataset_of_interest.repository.resolve(client)\n",
    "repo.show()"
   ]
  },
  {
   "cell_type": "code",
   "execution_count": 7,
   "id": "26f03545-f979-427a-aecb-b08dedab6ea4",
   "metadata": {},
   "outputs": [
    {
     "name": "stdout",
     "output_type": "stream",
     "text": [
      "https://data-proxy.ebrains.eu/api/v1/buckets/d-0b9b952a-e1bf-404c-8777-fe2ef6bfafa8\n"
     ]
    }
   ],
   "source": [
    "IRI = repo.iri\n",
    "print(IRI)"
   ]
  },
  {
   "cell_type": "markdown",
   "id": "e2f2afc7-0be0-4b8b-9635-507298b2fb33",
   "metadata": {},
   "source": [
    "**Exercise: Get a labels of all content types present in a dataset**\n",
    "\n",
    "Hint: Dataset → repository → content_type_patterns\n",
    "\n",
    "Use **resolve(client)** to view the metadata for each instance and **.show()** function to show the different properties of an instance"
   ]
  },
  {
   "cell_type": "markdown",
   "id": "ea1488bb-f6de-4449-976d-78fd6320a95b",
   "metadata": {},
   "source": [
    "Replace the **INSERT ID** with an ID of a dataset and run the cell below"
   ]
  },
  {
   "cell_type": "code",
   "execution_count": 28,
   "id": "21afd625-a232-4b46-b940-a4e2cce3c9ef",
   "metadata": {
    "tags": []
   },
   "outputs": [
    {
     "name": "stderr",
     "output_type": "stream",
     "text": [
      "Property 'ethics_assessment' is required but was not provided.\n",
      "Property 'release_date' is required but was not provided.\n"
     ]
    },
    {
     "name": "stdout",
     "output_type": "stream",
     "text": [
      "id                     https://kg.ebrains.eu/api/instances/ec87e98e-d279-4914-96a1-85b92faa0ff4\n",
      "space                  dataset\n",
      "type                   https://openminds.ebrains.eu/core/FileRepository\n",
      "content_type_patterns  [KGProxy([<class 'fairgraph.openminds.core.data.content_type_pattern.ContentTypePattern'>], 'https://kg.ebrains.eu/api/instances/cf20dba7-19f5-4c0b-9be8-33e9ead6ee93'), KGProxy([<class 'fairgraph.openminds.core.data.content_type_pattern.ContentTypePattern'>], 'https://kg.ebrains.eu/api/instances/ed560bfb-cac2-4f98-a18e-cd074f899be1'), KGProxy([<class 'fairgraph.openminds.core.data.content_type_pattern.ContentTypePattern'>], 'https://kg.ebrains.eu/api/instances/0ecab219-caef-41a1-8dad-4ef97b024dee')]\n",
      "hosted_by              KGProxy([<class 'fairgraph.openminds.core.actors.organization.Organization'>], 'https://kg.ebrains.eu/api/instances/7dfdd91f-3d05-424a-80bd-6d1d5dc11cd3')\n",
      "iri                    https://data-proxy.ebrains.eu/api/v1/buckets/d-4080b78d-edc5-4ae4-8144-7f6de79930ea\n",
      "name                   bucket/d-4080b78d-edc5-4ae4-8144-7f6de79930ea\n",
      "type                   KGProxy([<class 'fairgraph.openminds.controlled_terms.file_repository_type.FileRepositoryType'>], 'https://kg.ebrains.eu/api/instances/877e7f6b-b9e6-4a07-a8c9-01f9f5e4ca8b')\n"
     ]
    }
   ],
   "source": [
    "dataset_of_interest = DatasetVersion.from_id(\"4080b78d-edc5-4ae4-8144-7f6de79930ea\", client)\n",
    "repo= dataset_of_interest.repository.resolve(client)\n",
    "repo.show()"
   ]
  },
  {
   "cell_type": "markdown",
   "id": "4232f259-38cf-4779-b802-ff29526764aa",
   "metadata": {},
   "source": [
    "Get the content_type_patterns of the repository as a variable\n",
    "\n",
    "eg: **IRI = repo.iri** gets the iri of the repository under the variable IRI"
   ]
  },
  {
   "cell_type": "code",
   "execution_count": null,
   "id": "b76d0dd1-ddc2-4eb2-8ea7-a932e24aa32b",
   "metadata": {},
   "outputs": [],
   "source": []
  },
  {
   "cell_type": "code",
   "execution_count": 9,
   "id": "28882958-51e2-4112-b23a-6f0a984869ba",
   "metadata": {
    "jupyter": {
     "source_hidden": true
    },
    "tags": []
   },
   "outputs": [],
   "source": [
    "contenttypes = repo.content_type_patterns"
   ]
  },
  {
   "cell_type": "markdown",
   "id": "bf956547-8104-4cfd-9b84-dbd8c6b096f7",
   "metadata": {},
   "source": [
    "Use the loop function below to resolve all the links in the list. Replace **VARIABLEXXX** with your variable"
   ]
  },
  {
   "cell_type": "code",
   "execution_count": null,
   "id": "f163ef74-6fc1-449a-879a-5c315a648bf4",
   "metadata": {
    "tags": []
   },
   "outputs": [],
   "source": [
    "for i in VARIABLEXXX:\n",
    "    print(i.resolve(client).show())"
   ]
  },
  {
   "cell_type": "markdown",
   "id": "0a00ff3a-c9c9-4194-b162-d63ac8b45d2c",
   "metadata": {},
   "source": [
    "Modify the loop below to display the labels of the content_type_patterns. Replace **VARIABLEXXX** with your variable and **LABEL** with the correct property name"
   ]
  },
  {
   "cell_type": "code",
   "execution_count": null,
   "id": "fa65e380-1534-44c5-bdbd-c51384e0fcbe",
   "metadata": {
    "tags": []
   },
   "outputs": [],
   "source": [
    "for i in VARIABLEXXX:\n",
    "    print(i.resolve(client).LABEL)"
   ]
  },
  {
   "cell_type": "code",
   "execution_count": null,
   "id": "263dcbb3-c235-49d1-92e8-14682964e8a4",
   "metadata": {},
   "outputs": [],
   "source": []
  }
 ],
 "metadata": {
  "kernelspec": {
   "display_name": "Python 3 (ipykernel)",
   "language": "python",
   "name": "python3"
  },
  "language_info": {
   "codemirror_mode": {
    "name": "ipython",
    "version": 3
   },
   "file_extension": ".py",
   "mimetype": "text/x-python",
   "name": "python",
   "nbconvert_exporter": "python",
   "pygments_lexer": "ipython3",
   "version": "3.11.10"
  }
 },
 "nbformat": 4,
 "nbformat_minor": 5
}
